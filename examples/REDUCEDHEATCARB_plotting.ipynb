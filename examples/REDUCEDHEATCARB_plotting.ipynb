{
 "cells": [
  {
   "cell_type": "markdown",
   "id": "22b53423-6eaa-4def-b594-03eae139d26c",
   "metadata": {},
   "source": [
    "# REDUCEDHEATCARB measurements plotting"
   ]
  },
  {
   "cell_type": "code",
   "execution_count": null,
   "id": "d628c358-cdb2-4f7a-a390-a366ac508ba7",
   "metadata": {},
   "outputs": [],
   "source": [
    "import pandas as pd\n",
    "import numpy as np\n",
    "\n",
    "rhc_input_file_path='rhc_sane_meas.parquet'\n",
    "\n",
    "# usually, two decimals suffice for displaying DataFrames (NB internally, precision may be higher)\n",
    "pd.options.display.precision = 2\n",
    "\n",
    "import sys\n",
    "sys.path.append('../data/')\n",
    "sys.path.append('../view/')\n",
    "\n",
    "%load_ext autoreload\n",
    "\n",
    "\n",
    "%matplotlib inline\n",
    "%matplotlib widget\n",
    "import pylab as plt\n",
    "import itertools\n",
    "from plotter import Plot\n",
    "from tqdm.notebook import tqdm\n",
    "from preprocessor import Preprocessor"
   ]
  },
  {
   "cell_type": "code",
   "execution_count": null,
   "id": "4a19d007-dc16-436f-97bd-089596c0d66f",
   "metadata": {},
   "outputs": [],
   "source": [
    "units_to_mathtext = property_types = {\n",
    "    'ppm' : r'$ppm$',\n",
    "    'kWh' : r'$kWh$',\n",
    "    'm3' : r'$m^{3}$',\n",
    "    'degC' : r'$°C$',\n",
    "    'W' : r'$W$',\n",
    "    'V' : r'$V$',\n",
    "    '0' : r'$[-]$',\n",
    "    'bool': r'$0 = False; 1 = True$',\n",
    "    'W_m_2' : r'$W\\cdotm^{-1}$'\n",
    "}"
   ]
  },
  {
   "cell_type": "code",
   "execution_count": null,
   "id": "5b7da069-dedc-44ae-a9a2-df378961dfaf",
   "metadata": {
    "scrolled": true
   },
   "outputs": [],
   "source": [
    "%%time\n",
    "# Attempt to read the Parquet file\n",
    "try:\n",
    "    df = pd.read_parquet(\n",
    "        rhc_input_file_path, \n",
    "        engine='pyarrow',\n",
    "        use_nullable_dtypes=True\n",
    "        )\n",
    "    print(\"File was successfully read without specifying compression codec.\")\n",
    "except Exception as e:\n",
    "    print(f\"Error reading file: {e}\")\n"
   ]
  },
  {
   "cell_type": "code",
   "execution_count": null,
   "id": "adc79d35-fa9c-403a-8dac-6bf0603ce6e5",
   "metadata": {
    "scrolled": true
   },
   "outputs": [],
   "source": [
    "df.info()"
   ]
  },
  {
   "cell_type": "code",
   "execution_count": null,
   "id": "627a0a47-cab2-472a-82ec-a16f583fdafc",
   "metadata": {},
   "outputs": [],
   "source": [
    "df.index.unique(level='id').values"
   ]
  },
  {
   "cell_type": "code",
   "execution_count": null,
   "id": "41919ac7-3111-4ec8-8350-6bf5a47fe1c2",
   "metadata": {},
   "outputs": [],
   "source": [
    "df"
   ]
  },
  {
   "cell_type": "markdown",
   "id": "11385f2d-7574-483d-86fd-70733a5f67cf",
   "metadata": {},
   "source": [
    "## Drop duplicates and sort most complete ids first"
   ]
  },
  {
   "cell_type": "code",
   "execution_count": null,
   "id": "dab4e372-8e99-4c4c-a3ee-79f07323895f",
   "metadata": {},
   "outputs": [],
   "source": [
    "ids_ordered = [424197, 494233, 404873, 458000, 434931, 450298, 456638, 495906, 444964, \n",
    "                  430062, 478667, 487126, 401632, 483173, 412715, 458852, 403603, 429011, \n",
    "                  449134, 410260]"
   ]
  },
  {
   "cell_type": "code",
   "execution_count": null,
   "id": "f1b39f3d-c69d-4b8b-84f0-e1358eff1634",
   "metadata": {},
   "outputs": [],
   "source": [
    "# Drop duplicate labels from the index and sort df_prop_unique based on the 'id' index level using the specific order\n",
    "df = df[~df.index.duplicated(keep='first')].reindex(ids_ordered, level='id')"
   ]
  },
  {
   "cell_type": "code",
   "execution_count": null,
   "id": "f99026f9-36a4-473d-88a2-96527e685e5c",
   "metadata": {},
   "outputs": [],
   "source": [
    "df.index.unique(level='id').values"
   ]
  },
  {
   "cell_type": "code",
   "execution_count": null,
   "id": "958f4bdd-32f8-4eed-bc24-850be65b409f",
   "metadata": {},
   "outputs": [],
   "source": [
    "print('#ids: ', len(df.index.get_level_values('id').unique()))\n",
    "print('ids: ', list(df.index.get_level_values('id').unique()))\n",
    "\n",
    "print('source categories: ', list(df.index.get_level_values('source_category').unique()))\n",
    "print('source types: ', list(df.index.get_level_values('source_type').unique()))\n",
    "print('properties: ', list(df.index.get_level_values('property').unique()))\n",
    "\n",
    "print('values: ', df['value'].count())\n",
    "print('#values per: \\n', df.groupby(['source_type']).size())\n",
    "print('#values per: \\n', df.groupby(['source_category', 'source_type', 'property']).size())"
   ]
  },
  {
   "cell_type": "markdown",
   "id": "0c26bc37-c35e-40d2-9989-d494264fbe91",
   "metadata": {},
   "source": [
    "## Optional: remap to data science pseudonyms "
   ]
  },
  {
   "cell_type": "code",
   "execution_count": null,
   "id": "22e46aa3-bc6f-48ae-8bd3-62c0c75f1129",
   "metadata": {},
   "outputs": [],
   "source": [
    "# mapping_df = pd.read_excel('pseudonym_id_student_mapping.xlsx')\n",
    "# id_mapping_dict = dict(zip(mapping_df['id'], mapping_df['random_id']))\n",
    "# df.index = df.index.set_levels(df.index.levels[0].map(id_mapping_dict).astype(df.index.levels[0].dtype), level=0)\n"
   ]
  },
  {
   "cell_type": "markdown",
   "id": "fbd34d6b-624c-470e-bfaa-325fe14811f5",
   "metadata": {},
   "source": [
    "## Plot data\n"
   ]
  },
  {
   "cell_type": "code",
   "execution_count": null,
   "id": "06071240-ba84-4162-a15c-ea33c8dc7dcf",
   "metadata": {},
   "outputs": [],
   "source": [
    "Plot.nfh_measurements_plot(df, properties = ['temp_in__degC'], ids = [403603])\n"
   ]
  },
  {
   "cell_type": "code",
   "execution_count": null,
   "id": "c019b55b-66af-443a-8b9e-5a7f8b786442",
   "metadata": {},
   "outputs": [],
   "source": [
    "Plot.nfh_measurements_plot(df, source_categories = ['device'], properties = ['e_use_hi_cum__kWh'], ids = [404873])\n"
   ]
  },
  {
   "cell_type": "code",
   "execution_count": null,
   "id": "ad323642-5413-4417-a699-5333345cda15",
   "metadata": {},
   "outputs": [],
   "source": [
    "Plot.nfh_measurements_plot(df, properties = ['dsmr_version__0'], ids = [404873])\n"
   ]
  },
  {
   "cell_type": "code",
   "execution_count": null,
   "id": "13f5bb1b-b011-45e5-9644-13ab177aa0d8",
   "metadata": {},
   "outputs": [],
   "source": [
    "Plot.nfh_measurements_plot(df, source_categories=['device'], properties = ['e_use_hi_cum__kWh'], ids = [404873])\n"
   ]
  },
  {
   "cell_type": "code",
   "execution_count": null,
   "id": "954f8902-32b6-4275-a484-77b3d297cda9",
   "metadata": {},
   "outputs": [],
   "source": [
    "# Plot.nfh_measurements_plot(df, properties = ['dsmr_version__0'])\n"
   ]
  },
  {
   "cell_type": "code",
   "execution_count": null,
   "id": "56a7fc2a-4229-4381-94e2-457e07c3ed5a",
   "metadata": {},
   "outputs": [],
   "source": [
    "Plot.nfh_measurements_plot(df, source_categories = ['device'], properties = ['e_use_hi_cum__kWh', 'e_use_lo_cum__kWh', 'e_ret_hi_cum__kWh', 'e_ret_lo_cum__kWh'], ids = [404873])"
   ]
  },
  {
   "cell_type": "code",
   "execution_count": null,
   "id": "3941fc8a-afdd-4acd-b5f6-0b096d366709",
   "metadata": {},
   "outputs": [],
   "source": [
    "Plot.nfh_measurements_plot(df, source_categories = ['device'], properties = ['g_use_cum__m3'], ids = [404873])"
   ]
  },
  {
   "cell_type": "code",
   "execution_count": null,
   "id": "8cdb9e7e-c4fe-4790-8b9c-1c1972e82964",
   "metadata": {},
   "outputs": [],
   "source": [
    "# Plot.nfh_measurements_plot(df, source_categories = ['device'], properties = ['e_use_hi_cum__kWh', 'e_use_lo_cum__kWh', 'e_ret_hi_cum__kWh', 'e_ret_lo_cum__kWh'])"
   ]
  },
  {
   "cell_type": "code",
   "execution_count": null,
   "id": "fe89d300-569f-4dd3-8ea4-08b9ff8bab04",
   "metadata": {},
   "outputs": [],
   "source": [
    "# Plot.nfh_measurements_plot(df, properties = ['temp_in__degC'])"
   ]
  },
  {
   "cell_type": "code",
   "execution_count": null,
   "id": "b0bc6a02-80c5-49f3-95ad-903550304830",
   "metadata": {},
   "outputs": [],
   "source": [
    "Plot.nfh_measurements_plot(df, properties = ['temp_sup__degC', 'temp_ret__degC'], ids = [403603])"
   ]
  },
  {
   "cell_type": "code",
   "execution_count": null,
   "id": "7163f2a4-3836-4081-9f33-2cc471bc4861",
   "metadata": {},
   "outputs": [],
   "source": [
    "# Plot.nfh_measurements_plot(df, properties = ['temp_sup__degC', 'temp_ret__degC'])"
   ]
  },
  {
   "cell_type": "code",
   "execution_count": null,
   "id": "b17f2c11-610e-48fa-8bb5-edd526a31850",
   "metadata": {},
   "outputs": [],
   "source": [
    "Plot.nfh_measurements_plot(df, properties = ['battery_voltage__V', 'co2__ppm'], ids=[403603, 449134])"
   ]
  },
  {
   "cell_type": "code",
   "execution_count": null,
   "id": "efd2092c-fbe6-42f9-b030-6483c67c90ae",
   "metadata": {},
   "outputs": [],
   "source": [
    "# Plot.nfh_measurements_plot(df, properties = ['battery_voltage__V', 'co2__ppm'])"
   ]
  },
  {
   "cell_type": "code",
   "execution_count": null,
   "id": "ee29557a-f77b-4e21-91fc-27996c704db2",
   "metadata": {},
   "outputs": [],
   "source": [
    "Plot.nfh_measurements_plot(df, source_types = ['enelogic'], ids = [412715])\n",
    "# Plot.nfh_measurements_plot(df, source_types = ['enelogic'], ids = [404873])\n",
    "\n",
    "# Plot.nfh_measurements_plot(df, source_types = ['enelogic'])\n"
   ]
  },
  {
   "cell_type": "code",
   "execution_count": null,
   "id": "d81c0644-dcf1-441f-b7f9-c1024492b2f7",
   "metadata": {},
   "outputs": [],
   "source": [
    "# Plot.nfh_measurements_plot(df, source_types = ['twomes-p1-reader-firmware'], ids = [412715])\n",
    "Plot.nfh_measurements_plot(df, source_types = ['twomes-p1-reader-firmware'], ids = [404873])\n",
    "# Plot.nfh_measurements_plot(df, source_types = ['twomes-p1-reader-firmware'])\n"
   ]
  },
  {
   "cell_type": "code",
   "execution_count": null,
   "id": "5e2ce965-d110-499e-9e65-ffc3f99629d7",
   "metadata": {},
   "outputs": [],
   "source": [
    "Plot.nfh_measurements_plot(df, source_types = ['enelogic', 'twomes-p1-reader-firmware'], units = ['kWh'], ids = [412715])\n",
    "# Plot.nfh_measurements_plot(df, source_types = ['enelogic', 'twomes-p1-reader-firmware'], ids = [404873])\n",
    "# Plot.nfh_measurements_plot(df, source_types = ['enelogic', 'twomes-p1-reader-firmware'])"
   ]
  },
  {
   "cell_type": "code",
   "execution_count": null,
   "id": "a057ff17-67bb-4744-8952-1faacef3e501",
   "metadata": {},
   "outputs": [],
   "source": [
    "Plot.nfh_measurements_plot(df, source_types = ['twomes-co2-occupancy-scd41-m5coreink-firmware'], ids = [412715])\n",
    "# Plot.nfh_measurements_plot(df, source_types = ['twomes-co2-occupancy-scd41-m5coreink-firmware'], ids = [404873])\n",
    "# Plot.nfh_measurements_plot(df, source_types = ['twomes-co2-occupancy-scd41-m5coreink-firmware'])"
   ]
  },
  {
   "cell_type": "code",
   "execution_count": null,
   "id": "6dbb205f-f817-4cf1-b60d-99e386be4ba9",
   "metadata": {},
   "outputs": [],
   "source": [
    "Plot.nfh_measurements_plot(df, source_types = ['twomes-co2-occupancy-scd41-m5coreink-firmware'], properties=['co2__ppm', 'onboarded__p', 'occupancy__p', 'temp_in__degC'], ids = [456638])\n",
    "# Plot.nfh_measurements_plot(df, source_types = ['twomes-co2-occupancy-scd41-m5coreink-firmware'], ids = [404873])\n",
    "# Plot.nfh_measurements_plot(df, source_types = ['twomes-co2-occupancy-scd41-m5coreink-firmware'])"
   ]
  },
  {
   "cell_type": "code",
   "execution_count": null,
   "id": "5cb70018-6841-405d-9892-fc67aef5e87c",
   "metadata": {},
   "outputs": [],
   "source": [
    "# Plot.nfh_measurements_plot(df, properties=['temp_in__degC'])"
   ]
  },
  {
   "cell_type": "code",
   "execution_count": null,
   "id": "36019e02-2fb8-47d8-807e-e5117e7c9450",
   "metadata": {},
   "outputs": [],
   "source": [
    "# Plot.nfh_measurements_plot(df, properties=['co2__ppm'])\n"
   ]
  },
  {
   "cell_type": "code",
   "execution_count": null,
   "id": "085c3adb-7295-4d89-8550-dfaad170a7f4",
   "metadata": {},
   "outputs": [],
   "source": [
    "Plot.nfh_measurements_plot(df, ids = [412715])\n",
    "# Plot.nfh_measurements_plot(df, ids = [404873])\n",
    "# Plot.nfh_measurements_plot(df)"
   ]
  },
  {
   "cell_type": "code",
   "execution_count": null,
   "id": "b0692c58-a4b0-4557-8dfe-2a61c24945b5",
   "metadata": {},
   "outputs": [],
   "source": []
  }
 ],
 "metadata": {
  "kernelspec": {
   "display_name": "Python 3 (ipykernel)",
   "language": "python",
   "name": "python3"
  },
  "language_info": {
   "codemirror_mode": {
    "name": "ipython",
    "version": 3
   },
   "file_extension": ".py",
   "mimetype": "text/x-python",
   "name": "python",
   "nbconvert_exporter": "python",
   "pygments_lexer": "ipython3",
   "version": "3.11.6"
  }
 },
 "nbformat": 4,
 "nbformat_minor": 5
}
