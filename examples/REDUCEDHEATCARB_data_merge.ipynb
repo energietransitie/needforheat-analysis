{
 "cells": [
  {
   "cell_type": "markdown",
   "id": "22b53423-6eaa-4def-b594-03eae139d26c",
   "metadata": {},
   "source": [
    "# Import data"
   ]
  },
  {
   "cell_type": "code",
   "execution_count": null,
   "id": "d628c358-cdb2-4f7a-a390-a366ac508ba7",
   "metadata": {},
   "outputs": [],
   "source": [
    "import pandas as pd\n",
    "import numpy as np\n",
    "\n",
    "nfh_input_file_path='nfh_raw_meas.parquet'\n",
    "enelogic_input_path='rhc_enelogic_monthly_export.parquet'\n",
    "remeha_input_file_path='remeha_export.parquet'\n",
    "rhc_output_file_path='rhc_raw_meas.parquet'\n",
    "home_data_file_path = \"home_data.parquet\"\n",
    "\n",
    "# usually, two decimals suffice for displaying DataFrames (NB internally, precision may be higher)\n",
    "pd.options.display.precision = 2\n",
    "\n",
    "import sys\n",
    "sys.path.append('../data/')\n",
    "sys.path.append('../view/')\n",
    "\n",
    "%load_ext autoreload\n",
    "\n",
    "\n",
    "%matplotlib inline\n",
    "%matplotlib widget\n",
    "import pylab as plt\n",
    "import itertools\n",
    "from plotter import Plot\n",
    "from tqdm.notebook import tqdm\n",
    "import historicdutchweather\n",
    "from measurements import Measurements, WeatherMeasurements\n",
    "\n",
    "from urllib.error import HTTPError  # Import HTTPError from urllib.error"
   ]
  },
  {
   "cell_type": "code",
   "execution_count": null,
   "id": "4a19d007-dc16-436f-97bd-089596c0d66f",
   "metadata": {},
   "outputs": [],
   "source": [
    "units_to_mathtext = property_types = {\n",
    "    'ppm' : r'$ppm$',\n",
    "    'kWh' : r'$kWh$',\n",
    "    'm3' : r'$m^{3}$',\n",
    "    'degC' : r'$°C$',\n",
    "    'W' : r'$W$',\n",
    "    'V' : r'$V$',\n",
    "    '0' : r'$[-]$',\n",
    "    'bool': r'$0 = False; 1 = True$',\n",
    "    'W_m_2' : r'$W\\cdotm^{-1}$'\n",
    "}"
   ]
  },
  {
   "cell_type": "markdown",
   "id": "2824b782-7576-4905-9103-960a6e1e4d78",
   "metadata": {},
   "source": [
    "## Read NeedForHeat data"
   ]
  },
  {
   "cell_type": "code",
   "execution_count": null,
   "id": "cd3d9e84-e877-4072-9fec-eb37f1c7f13a",
   "metadata": {
    "scrolled": true
   },
   "outputs": [],
   "source": [
    "%%time\n",
    "# Attempt to read the Parquet file\n",
    "try:\n",
    "    df_meas_nfh = pd.read_parquet(\n",
    "        nfh_input_file_path, \n",
    "        engine='pyarrow',\n",
    "        use_nullable_dtypes=True\n",
    "        )\n",
    "    print(\"File was successfully read without specifying compression codec.\")\n",
    "except Exception as e:\n",
    "    print(f\"Error reading file: {e}\")\n"
   ]
  },
  {
   "cell_type": "code",
   "execution_count": null,
   "id": "77e57c85-3074-4488-986c-1133b0f92828",
   "metadata": {},
   "outputs": [],
   "source": [
    "df_meas_nfh.info()"
   ]
  },
  {
   "cell_type": "code",
   "execution_count": null,
   "id": "214fb1b0-6966-4df2-8d78-764eade82b5c",
   "metadata": {},
   "outputs": [],
   "source": [
    "df_meas_nfh"
   ]
  },
  {
   "cell_type": "markdown",
   "id": "f9d84c17-05c6-4b15-aa5d-c83062d9f553",
   "metadata": {},
   "source": [
    "## Read Enelogic data"
   ]
  },
  {
   "cell_type": "code",
   "execution_count": null,
   "id": "5b7da069-dedc-44ae-a9a2-df378961dfaf",
   "metadata": {
    "scrolled": true
   },
   "outputs": [],
   "source": [
    "%%time\n",
    "# Attempt to read the Parquet file\n",
    "try:\n",
    "    df_meas_enelogic = pd.read_parquet(\n",
    "        enelogic_input_path, \n",
    "        engine='pyarrow',\n",
    "        use_nullable_dtypes=True\n",
    "        )\n",
    "    print(\"File was successfully read without specifying compression codec.\")\n",
    "except Exception as e:\n",
    "    print(f\"Error reading file: {e}\")\n"
   ]
  },
  {
   "cell_type": "code",
   "execution_count": null,
   "id": "adc79d35-fa9c-403a-8dac-6bf0603ce6e5",
   "metadata": {},
   "outputs": [],
   "source": [
    "df_meas_enelogic.info()"
   ]
  },
  {
   "cell_type": "code",
   "execution_count": null,
   "id": "41919ac7-3111-4ec8-8350-6bf5a47fe1c2",
   "metadata": {},
   "outputs": [],
   "source": [
    "df_meas_enelogic"
   ]
  },
  {
   "cell_type": "code",
   "execution_count": null,
   "id": "029b8e88-6e52-4307-bcff-83b74906470b",
   "metadata": {},
   "outputs": [],
   "source": [
    "%%time\n",
    "df_meas_enelogic['value'] = df_meas_enelogic['value'].astype(str)"
   ]
  },
  {
   "cell_type": "code",
   "execution_count": null,
   "id": "63e5a444-af5a-4cd8-b931-286f5b215c57",
   "metadata": {},
   "outputs": [],
   "source": [
    "df_meas_enelogic.info()"
   ]
  },
  {
   "cell_type": "markdown",
   "id": "c2eeaf23-fba8-45b8-82c1-cad95ee796a4",
   "metadata": {},
   "source": [
    "## Read Remeha data"
   ]
  },
  {
   "cell_type": "code",
   "execution_count": null,
   "id": "4b0fbb76-2ad3-42ce-a83f-36052a57a750",
   "metadata": {},
   "outputs": [],
   "source": [
    "%%time\n",
    "# Attempt to read the Parquet file\n",
    "try:\n",
    "    df_meas_remeha = pd.read_parquet(\n",
    "        remeha_input_file_path, \n",
    "        engine='pyarrow',\n",
    "        use_nullable_dtypes=True\n",
    "        )\n",
    "    print(\"File was successfully read without specifying compression codec.\")\n",
    "except Exception as e:\n",
    "    print(f\"Error reading file: {e}\")\n"
   ]
  },
  {
   "cell_type": "code",
   "execution_count": null,
   "id": "12787eb3-d7fb-446c-be1f-b61eea93d311",
   "metadata": {},
   "outputs": [],
   "source": [
    "df_meas_remeha.info()"
   ]
  },
  {
   "cell_type": "code",
   "execution_count": null,
   "id": "09d6c8e4-59b1-4380-af6c-57d0459952b2",
   "metadata": {},
   "outputs": [],
   "source": [
    "df_meas_remeha"
   ]
  },
  {
   "cell_type": "code",
   "execution_count": null,
   "id": "a8b70789-79c5-4619-9167-bc11ecc94d71",
   "metadata": {},
   "outputs": [],
   "source": [
    "%%time\n",
    "df_meas_remeha['value'] = df_meas_remeha['value'].astype(str)"
   ]
  },
  {
   "cell_type": "code",
   "execution_count": null,
   "id": "cb921e6f-a236-4188-b879-cf5a14d7c8c6",
   "metadata": {},
   "outputs": [],
   "source": [
    "df_meas_remeha.info()"
   ]
  },
  {
   "cell_type": "markdown",
   "id": "ff628ae1-4406-4ed8-a579-d7fe2f589a87",
   "metadata": {},
   "source": [
    "## Merge measurements\n"
   ]
  },
  {
   "cell_type": "code",
   "execution_count": null,
   "id": "af7548f8-3103-4e45-95b2-ea9120eddd8a",
   "metadata": {},
   "outputs": [],
   "source": [
    "%%time\n",
    "df_meas = pd.concat([df_meas_nfh, df_meas_enelogic, df_meas_remeha])"
   ]
  },
  {
   "cell_type": "markdown",
   "id": "c5044830-aa70-43ab-9b69-461c45b8489c",
   "metadata": {},
   "source": [
    "## Get and merge geospatially interpolated KNMI weather measurements"
   ]
  },
  {
   "cell_type": "code",
   "execution_count": null,
   "id": "6cee8efd-6be4-4cc1-b4ba-41216be40892",
   "metadata": {},
   "outputs": [],
   "source": [
    "%%time\n",
    "# read home data from Parquet file\n",
    "try:\n",
    "    df_homes = pd.read_parquet(\n",
    "        home_data_file_path, \n",
    "        engine='pyarrow',\n",
    "        use_nullable_dtypes=True\n",
    "        )\n",
    "    print(\"File was successfully read without specifying compression codec.\")\n",
    "except Exception as e:\n",
    "    print(f\"Error reading file: {e}\")\n"
   ]
  },
  {
   "cell_type": "code",
   "execution_count": null,
   "id": "d1fe9bcb-6d3e-46d2-8f88-d6250498fa08",
   "metadata": {},
   "outputs": [],
   "source": [
    "%%time\n",
    "\n",
    "# Determine weather start and end dates\n",
    "mask = ~((df_meas.index.get_level_values('source_category') == 'batch_import') & (df_meas.index.get_level_values('source_type') == 'enelogic'))\n",
    "filtered_df = df_meas[mask]\n",
    "\n",
    "# Step 2: Calculate the min and max timestamp for the entire DataFrame (generic)\n",
    "weather_min_timestamp = filtered_df.index.get_level_values('timestamp').min()\n",
    "weather_max_timestamp = filtered_df.index.get_level_values('timestamp').max()\n",
    "\n",
    "metrics={'T': ('temp_out__degC', 0.1), # H Temperature (in 0.1 degrees Celsius) at 1.50 m at the time of observation\n",
    "        'FH': ('wind__m_s_1', 0.1), # FH: Hourly mean wind speed (in 0.1 m/s)\n",
    "        'Q': ('ghi__W_m_2', (100 * 100) / (60 * 60)) # Q: Global radiation (in J/cm^2) during the hourly division, 1 m^2 = 100 cm/m^2 * 100 cm/m^2, 1 h = 60 min/h * 60 s/min\n",
    "       }\n",
    "\n",
    "weather_interval = pd.Interval(left=weather_min_timestamp, right=weather_max_timestamp, closed='both')"
   ]
  },
  {
   "cell_type": "code",
   "execution_count": null,
   "id": "7816801e-851c-44d1-87fa-0287f5ed3663",
   "metadata": {},
   "outputs": [],
   "source": [
    "%%time\n",
    "%autoreload 2\n",
    "df_weather = WeatherMeasurements.fetch_weather_data(weather_interval, metrics=metrics)"
   ]
  },
  {
   "cell_type": "code",
   "execution_count": null,
   "id": "4f922339-6fa7-482f-8368-9cc7f21166fc",
   "metadata": {},
   "outputs": [],
   "source": [
    "df_weather.info()\n"
   ]
  },
  {
   "cell_type": "code",
   "execution_count": null,
   "id": "f8ae110b-5ae9-42b5-a94a-135054e7f73f",
   "metadata": {},
   "outputs": [],
   "source": [
    "df_weather"
   ]
  },
  {
   "cell_type": "code",
   "execution_count": null,
   "id": "136c6d9c-8a51-4d87-bd2e-f02b9da8c09f",
   "metadata": {},
   "outputs": [],
   "source": [
    "df_weather.describe().T"
   ]
  },
  {
   "cell_type": "code",
   "execution_count": null,
   "id": "76be0976-795b-450f-b820-864669929e76",
   "metadata": {},
   "outputs": [],
   "source": [
    "%%time\n",
    "%autoreload 2\n",
    "df_meas_weather = WeatherMeasurements.interpolate_weather_data(df_weather, df_homes)"
   ]
  },
  {
   "cell_type": "code",
   "execution_count": null,
   "id": "f8da265d-91a8-468e-9f12-74499e86f6fd",
   "metadata": {},
   "outputs": [],
   "source": [
    "df_meas_weather.info()"
   ]
  },
  {
   "cell_type": "code",
   "execution_count": null,
   "id": "e63db4e4-ca07-41db-9831-9466248866fc",
   "metadata": {},
   "outputs": [],
   "source": [
    "# Describe statistics across all properties\n",
    "df_meas_weather['value'].unstack('property').describe().T"
   ]
  },
  {
   "cell_type": "code",
   "execution_count": null,
   "id": "c2dc873c-c1eb-4810-99ea-6e2682b04954",
   "metadata": {},
   "outputs": [],
   "source": [
    "df_meas_weather_unstacked = df_meas_weather['value'].unstack('property')"
   ]
  },
  {
   "cell_type": "code",
   "execution_count": null,
   "id": "66a314b0-c9d8-47b9-95ce-1c04f42fb3b6",
   "metadata": {},
   "outputs": [],
   "source": [
    "print(f\"wind__m_s_1 <0 : #{df_meas_weather_unstacked[df_meas_weather_unstacked['wind__m_s_1'] <0]['wind__m_s_1'].count()} = {df_meas_weather_unstacked[df_meas_weather_unstacked['wind__m_s_1'] <0]['wind__m_s_1'].count()/df_meas_weather_unstacked['wind__m_s_1'].count():%}\")"
   ]
  },
  {
   "cell_type": "code",
   "execution_count": null,
   "id": "2b6fd06f-d25c-4cac-b06f-f979b6adcf20",
   "metadata": {},
   "outputs": [],
   "source": [
    "print(f\"ghi__W_m_2 <0 : #{df_meas_weather_unstacked[df_meas_weather_unstacked['ghi__W_m_2'] <0]['ghi__W_m_2'].count()} = {df_meas_weather_unstacked[df_meas_weather_unstacked['ghi__W_m_2'] <0]['ghi__W_m_2'].count()/df_meas_weather_unstacked['ghi__W_m_2'].count():%}\")"
   ]
  },
  {
   "cell_type": "code",
   "execution_count": null,
   "id": "ff78a701-1ff6-4511-8051-0c1c3a90230f",
   "metadata": {},
   "outputs": [],
   "source": [
    "# Check whether all weather locations are interpolated\n",
    "\n",
    "# Step 1: Filter IDs with all NaN metrics\n",
    "ids_with_missing_metrics = df_meas_weather_unstacked[df_meas_weather_unstacked.isna().all(axis=1)].index.get_level_values('id').unique()\n",
    "\n",
    "# Step 2: Extract H3 cell IDs from df_homes based on ids_with_missing_metrics\n",
    "h3_cell_ids = df_homes.loc[df_homes.index.isin(ids_with_missing_metrics), 'weather_H3_cell_id'].tolist()\n",
    "print(f\"Weather cells without properly interpolated values: {h3_cell_ids}\")\n",
    "\n",
    "# Step 3: Prepare marker_df using df_weather (assuming df_weather contains lat and lon)\n",
    "marker_df = df_weather.reset_index()[['lat__degN', 'lon__degE']].drop_duplicates()\n",
    "\n",
    "# Optionally, include popup_text if available in df_weather\n",
    "marker_df['popup_text'] = 'KNMI Station'  # Replace with actual station names or IDs if available\n",
    "\n",
    "# Step 4: Call the function to plot H3 cells and markers\n",
    "Plot.plot_h3_cells_and_markers(h3_cell_ids, marker_df, output_file=\"map_with_h3_cells.html\")"
   ]
  },
  {
   "cell_type": "markdown",
   "id": "1af947b4-4d25-49ce-a5d3-d4440d06cb6e",
   "metadata": {},
   "source": [
    "## Merge weather measurements\n"
   ]
  },
  {
   "cell_type": "code",
   "execution_count": null,
   "id": "da397c16-167b-49a8-a26b-09d5c5b4f539",
   "metadata": {},
   "outputs": [],
   "source": [
    "%%time\n",
    "df_meas_weather['value'] = df_meas_weather['value'].astype(str)"
   ]
  },
  {
   "cell_type": "code",
   "execution_count": null,
   "id": "4e5f97da-63b3-4ad4-a1ca-38b976a11789",
   "metadata": {},
   "outputs": [],
   "source": [
    "%%time\n",
    "df_meas = pd.concat([df_meas, df_meas_weather])"
   ]
  },
  {
   "cell_type": "markdown",
   "id": "27d7e465-ddfc-4d9a-bc9e-29c7c78abff0",
   "metadata": {},
   "source": [
    "## Initial exploration: size, ids, start & stop times per id"
   ]
  },
  {
   "cell_type": "code",
   "execution_count": null,
   "id": "c4f3a0d5-6107-42a9-b224-5669d59c23de",
   "metadata": {},
   "outputs": [],
   "source": [
    "df_meas.info()"
   ]
  },
  {
   "cell_type": "code",
   "execution_count": null,
   "id": "80640538-b34e-4afc-b653-4a0e9f4b7a4f",
   "metadata": {},
   "outputs": [],
   "source": [
    "print(f\"len(df_meas): {len(df_meas):_}\")"
   ]
  },
  {
   "cell_type": "code",
   "execution_count": null,
   "id": "155a0bd1-d13e-41e1-aef8-cf431bcf3005",
   "metadata": {},
   "outputs": [],
   "source": [
    "%%time\n",
    "# deduplicate the measurements\n",
    "df_meas = df_meas.reset_index().drop_duplicates().set_index(['id', 'source_category', 'source_type', 'timestamp', 'property']).sort_index()"
   ]
  },
  {
   "cell_type": "code",
   "execution_count": null,
   "id": "0e7f5602-064a-4398-9586-8c1ebe8e6331",
   "metadata": {},
   "outputs": [],
   "source": [
    "print(f\"len(df_meas): {len(df_meas):_}\")"
   ]
  },
  {
   "cell_type": "code",
   "execution_count": null,
   "id": "908c9cc7-9a67-49dd-8011-a0302568214b",
   "metadata": {},
   "outputs": [],
   "source": [
    "list(df_meas.index.get_level_values('id').unique())"
   ]
  },
  {
   "cell_type": "code",
   "execution_count": null,
   "id": "78972837-9db0-48a8-af3d-2f93e92c7e42",
   "metadata": {},
   "outputs": [],
   "source": [
    "len(df_meas.index.get_level_values('id').unique())"
   ]
  },
  {
   "cell_type": "code",
   "execution_count": null,
   "id": "c1327359-e2f9-47aa-8019-893c49fc1921",
   "metadata": {},
   "outputs": [],
   "source": [
    "%%time\n",
    "df_meas.reset_index().groupby(['id', 'source_type'])['timestamp'].agg(['min', 'max'])"
   ]
  },
  {
   "cell_type": "code",
   "execution_count": null,
   "id": "454caebb-5296-47fc-8e6e-8e4909cb5f45",
   "metadata": {},
   "outputs": [],
   "source": [
    "print(f\"df_meas['value'].count(): {df_meas['value'].count():_}\")"
   ]
  },
  {
   "cell_type": "code",
   "execution_count": null,
   "id": "d2ed6c3c-4ebc-4de2-b686-c91001b47a8e",
   "metadata": {},
   "outputs": [],
   "source": [
    "df_meas.duplicated().any()"
   ]
  },
  {
   "cell_type": "code",
   "execution_count": null,
   "id": "d6a38034-637b-41b8-939f-49afef8d8d98",
   "metadata": {},
   "outputs": [],
   "source": [
    "df_meas.info()"
   ]
  },
  {
   "cell_type": "code",
   "execution_count": null,
   "id": "f75fc861-a495-4129-bbc8-19e8d662c7e2",
   "metadata": {},
   "outputs": [],
   "source": [
    "df_meas.describe()"
   ]
  },
  {
   "cell_type": "code",
   "execution_count": null,
   "id": "50884d10-c8ed-4a49-89bf-90dfcf856d14",
   "metadata": {},
   "outputs": [],
   "source": [
    "df_meas"
   ]
  },
  {
   "cell_type": "code",
   "execution_count": null,
   "id": "ae204e9a-0a12-4f2a-a0ba-edb5c9a67076",
   "metadata": {},
   "outputs": [],
   "source": [
    "list(df_meas.index.get_level_values('source_category').unique())"
   ]
  },
  {
   "cell_type": "code",
   "execution_count": null,
   "id": "9b1ae630-517a-4cdd-8860-3a54324b693c",
   "metadata": {},
   "outputs": [],
   "source": [
    "list(df_meas.index.get_level_values('source_type').unique())"
   ]
  },
  {
   "cell_type": "code",
   "execution_count": null,
   "id": "36766252-b2b1-4b3b-89c2-99ea20121044",
   "metadata": {},
   "outputs": [],
   "source": [
    "list(df_meas.index.get_level_values('property').unique())"
   ]
  },
  {
   "cell_type": "code",
   "execution_count": null,
   "id": "e3a23274-47f1-4088-8890-1646f570ebfb",
   "metadata": {},
   "outputs": [],
   "source": [
    "df_meas.groupby(['source_type']).size()"
   ]
  },
  {
   "cell_type": "code",
   "execution_count": null,
   "id": "a70e402f-fbe5-4ccf-bcd6-e41daf1e2473",
   "metadata": {},
   "outputs": [],
   "source": [
    "df_meas.groupby(['source_category', 'source_type', 'property']).size()"
   ]
  },
  {
   "cell_type": "code",
   "execution_count": null,
   "id": "42ecb7b1-6ed0-46da-b6d7-8c9083198cd0",
   "metadata": {},
   "outputs": [],
   "source": [
    "print(f\"df_meas.count().sum(): {df_meas.count().sum():_}\")"
   ]
  },
  {
   "cell_type": "markdown",
   "id": "905b78f8-c75d-4950-b32c-d5486f4092ea",
   "metadata": {},
   "source": [
    "## Write to parquet file(s)"
   ]
  },
  {
   "cell_type": "code",
   "execution_count": null,
   "id": "e9746bdd-543d-4176-8fed-7dbb86ec0352",
   "metadata": {},
   "outputs": [],
   "source": [
    "%%time \n",
    "# Convert the 'value' column to string type\n",
    "df_meas['value'] = df_meas['value'].astype(str)"
   ]
  },
  {
   "cell_type": "code",
   "execution_count": null,
   "id": "02519865-0fc1-4d06-8141-1ba6c4425010",
   "metadata": {},
   "outputs": [],
   "source": [
    "%%time \n",
    "df_meas.to_parquet(rhc_output_file_path, index=True, engine='pyarrow')"
   ]
  },
  {
   "cell_type": "code",
   "execution_count": null,
   "id": "4c2c9c7a-3db0-4c33-a1f2-818425a0589a",
   "metadata": {},
   "outputs": [],
   "source": [
    "# %%time \n",
    "# for home_id in tqdm(df_meas.index.get_level_values('id').unique()):\n",
    "#     df_meas.xs(home_id, drop_level=False).to_parquet(f'{home_id}_raw_measurements.parquet', index=True, engine='pyarrow')"
   ]
  },
  {
   "cell_type": "markdown",
   "id": "f2a76164-d0cc-45c6-a476-f1aada719aa1",
   "metadata": {},
   "source": [
    "## Write to csv file(s)"
   ]
  },
  {
   "cell_type": "markdown",
   "id": "d1723c78-8f12-468d-b819-e045c13b0805",
   "metadata": {},
   "source": [
    "### Write raw measurements per home to zipped .CSV files"
   ]
  },
  {
   "cell_type": "code",
   "execution_count": null,
   "id": "3d31c6d9-5d16-4583-b23f-6aec23068a89",
   "metadata": {},
   "outputs": [],
   "source": [
    "%%time \n",
    "for home_id in tqdm(df_meas.index.get_level_values('id').unique()):\n",
    "    try:\n",
    "        # df_meas_home =  pd.read_parquet(\n",
    "        #     f'{home_id}_raw_measurements.parquet', \n",
    "        #     engine='pyarrow',\n",
    "        #     use_nullable_dtypes=True\n",
    "        # )\n",
    "        df_meas.xs(home_id, drop_level=False).to_csv(\n",
    "            f'{home_id}_raw_measurements.zip',\n",
    "            encoding='utf-8',\n",
    "            compression= dict(method='zip',\n",
    "                              archive_name=f'{home_id}_raw_measurements.csv'),\n",
    "            date_format='%Y-%m-%dT%H:%M:%S%z'\n",
    "        )\n",
    "    except FileNotFoundError as e:\n",
    "        print(f\"Error: {e}. Skipping file {home_id}_raw_measurements.parquet.\")\n",
    "        continue     \n"
   ]
  },
  {
   "cell_type": "code",
   "execution_count": null,
   "id": "f9799e7b-e8df-4f51-adf5-5371e09ffe29",
   "metadata": {},
   "outputs": [],
   "source": []
  }
 ],
 "metadata": {
  "kernelspec": {
   "display_name": "Python 3 (ipykernel)",
   "language": "python",
   "name": "python3"
  },
  "language_info": {
   "codemirror_mode": {
    "name": "ipython",
    "version": 3
   },
   "file_extension": ".py",
   "mimetype": "text/x-python",
   "name": "python",
   "nbconvert_exporter": "python",
   "pygments_lexer": "ipython3",
   "version": "3.11.6"
  }
 },
 "nbformat": 4,
 "nbformat_minor": 5
}
