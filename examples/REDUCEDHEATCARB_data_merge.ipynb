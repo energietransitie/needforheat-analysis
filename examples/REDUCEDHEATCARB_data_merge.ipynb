{
 "cells": [
  {
   "cell_type": "markdown",
   "id": "22b53423-6eaa-4def-b594-03eae139d26c",
   "metadata": {},
   "source": [
    "# Import data"
   ]
  },
  {
   "cell_type": "code",
   "execution_count": null,
   "id": "d628c358-cdb2-4f7a-a390-a366ac508ba7",
   "metadata": {},
   "outputs": [],
   "source": [
    "import pandas as pd\n",
    "import numpy as np\n",
    "\n",
    "nfh_input_file_path='nfh_raw_meas.parquet'\n",
    "enelogic_input_path='rhc_enelogic_monthly_export.parquet'\n",
    "remeha_input_file_path='remeha_export.parquet'\n",
    "rhc_output_file_path='rhc_raw_meas.parquet'\n",
    "\n",
    "# usually, two decimals suffice for displaying DataFrames (NB internally, precision may be higher)\n",
    "pd.options.display.precision = 2\n",
    "\n",
    "import sys\n",
    "sys.path.append('../data/')\n",
    "sys.path.append('../view/')\n",
    "\n",
    "%load_ext autoreload\n",
    "\n",
    "\n",
    "%matplotlib inline\n",
    "%matplotlib widget\n",
    "import pylab as plt\n",
    "import itertools\n",
    "from plotter import Plot\n",
    "from tqdm.notebook import tqdm"
   ]
  },
  {
   "cell_type": "code",
   "execution_count": null,
   "id": "4a19d007-dc16-436f-97bd-089596c0d66f",
   "metadata": {},
   "outputs": [],
   "source": [
    "units_to_mathtext = property_types = {\n",
    "    'ppm' : r'$ppm$',\n",
    "    'kWh' : r'$kWh$',\n",
    "    'm3' : r'$m^{3}$',\n",
    "    'degC' : r'$°C$',\n",
    "    'W' : r'$W$',\n",
    "    'V' : r'$V$',\n",
    "    '0' : r'$[-]$',\n",
    "    'bool': r'$0 = False; 1 = True$',\n",
    "    'W_m_2' : r'$W\\cdotm^{-1}$'\n",
    "}"
   ]
  },
  {
   "cell_type": "markdown",
   "id": "2824b782-7576-4905-9103-960a6e1e4d78",
   "metadata": {},
   "source": [
    "## Read NeedForHeat data"
   ]
  },
  {
   "cell_type": "code",
   "execution_count": null,
   "id": "cd3d9e84-e877-4072-9fec-eb37f1c7f13a",
   "metadata": {
    "scrolled": true
   },
   "outputs": [],
   "source": [
    "%%time\n",
    "# Attempt to read the Parquet file\n",
    "try:\n",
    "    df_nfh = pd.read_parquet(\n",
    "        nfh_input_file_path, \n",
    "        engine='pyarrow',\n",
    "        use_nullable_dtypes=True\n",
    "        )\n",
    "    print(\"File was successfully read without specifying compression codec.\")\n",
    "except Exception as e:\n",
    "    print(f\"Error reading file: {e}\")\n"
   ]
  },
  {
   "cell_type": "code",
   "execution_count": null,
   "id": "77e57c85-3074-4488-986c-1133b0f92828",
   "metadata": {},
   "outputs": [],
   "source": [
    "df_nfh.info()"
   ]
  },
  {
   "cell_type": "code",
   "execution_count": null,
   "id": "214fb1b0-6966-4df2-8d78-764eade82b5c",
   "metadata": {},
   "outputs": [],
   "source": [
    "df_nfh"
   ]
  },
  {
   "cell_type": "markdown",
   "id": "f9d84c17-05c6-4b15-aa5d-c83062d9f553",
   "metadata": {},
   "source": [
    "## Read Enelogic data"
   ]
  },
  {
   "cell_type": "code",
   "execution_count": null,
   "id": "5b7da069-dedc-44ae-a9a2-df378961dfaf",
   "metadata": {
    "scrolled": true
   },
   "outputs": [],
   "source": [
    "%%time\n",
    "# Attempt to read the Parquet file\n",
    "try:\n",
    "    df_enelogic = pd.read_parquet(\n",
    "        enelogic_input_path, \n",
    "        engine='pyarrow',\n",
    "        use_nullable_dtypes=True\n",
    "        )\n",
    "    print(\"File was successfully read without specifying compression codec.\")\n",
    "except Exception as e:\n",
    "    print(f\"Error reading file: {e}\")\n"
   ]
  },
  {
   "cell_type": "code",
   "execution_count": null,
   "id": "adc79d35-fa9c-403a-8dac-6bf0603ce6e5",
   "metadata": {},
   "outputs": [],
   "source": [
    "df_enelogic.info()"
   ]
  },
  {
   "cell_type": "code",
   "execution_count": null,
   "id": "41919ac7-3111-4ec8-8350-6bf5a47fe1c2",
   "metadata": {},
   "outputs": [],
   "source": [
    "df_enelogic"
   ]
  },
  {
   "cell_type": "code",
   "execution_count": null,
   "id": "029b8e88-6e52-4307-bcff-83b74906470b",
   "metadata": {},
   "outputs": [],
   "source": [
    "%%time\n",
    "df_enelogic['value'] = df_enelogic['value'].astype(str)"
   ]
  },
  {
   "cell_type": "code",
   "execution_count": null,
   "id": "63e5a444-af5a-4cd8-b931-286f5b215c57",
   "metadata": {},
   "outputs": [],
   "source": [
    "df_enelogic.info()"
   ]
  },
  {
   "cell_type": "markdown",
   "id": "c2eeaf23-fba8-45b8-82c1-cad95ee796a4",
   "metadata": {},
   "source": [
    "## Read Remeha data"
   ]
  },
  {
   "cell_type": "code",
   "execution_count": null,
   "id": "4b0fbb76-2ad3-42ce-a83f-36052a57a750",
   "metadata": {},
   "outputs": [],
   "source": [
    "%%time\n",
    "# Attempt to read the Parquet file\n",
    "try:\n",
    "    df_remeha = pd.read_parquet(\n",
    "        remeha_input_file_path, \n",
    "        engine='pyarrow',\n",
    "        use_nullable_dtypes=True\n",
    "        )\n",
    "    print(\"File was successfully read without specifying compression codec.\")\n",
    "except Exception as e:\n",
    "    print(f\"Error reading file: {e}\")\n"
   ]
  },
  {
   "cell_type": "code",
   "execution_count": null,
   "id": "12787eb3-d7fb-446c-be1f-b61eea93d311",
   "metadata": {},
   "outputs": [],
   "source": [
    "df_remeha.info()"
   ]
  },
  {
   "cell_type": "code",
   "execution_count": null,
   "id": "09d6c8e4-59b1-4380-af6c-57d0459952b2",
   "metadata": {},
   "outputs": [],
   "source": [
    "df_remeha"
   ]
  },
  {
   "cell_type": "code",
   "execution_count": null,
   "id": "a8b70789-79c5-4619-9167-bc11ecc94d71",
   "metadata": {},
   "outputs": [],
   "source": [
    "%%time\n",
    "df_remeha['value'] = df_remeha['value'].astype(str)"
   ]
  },
  {
   "cell_type": "code",
   "execution_count": null,
   "id": "cb921e6f-a236-4188-b879-cf5a14d7c8c6",
   "metadata": {},
   "outputs": [],
   "source": [
    "df_remeha.info()"
   ]
  },
  {
   "cell_type": "markdown",
   "id": "ff628ae1-4406-4ed8-a579-d7fe2f589a87",
   "metadata": {},
   "source": [
    "## Merge"
   ]
  },
  {
   "cell_type": "code",
   "execution_count": null,
   "id": "af7548f8-3103-4e45-95b2-ea9120eddd8a",
   "metadata": {},
   "outputs": [],
   "source": [
    "%%time\n",
    "df = pd.concat([df_nfh, df_enelogic, df_remeha])"
   ]
  },
  {
   "cell_type": "markdown",
   "id": "c5044830-aa70-43ab-9b69-461c45b8489c",
   "metadata": {},
   "source": [
    "## Initial exploration: size, ids, start & stop times per id"
   ]
  },
  {
   "cell_type": "code",
   "execution_count": null,
   "id": "c4f3a0d5-6107-42a9-b224-5669d59c23de",
   "metadata": {},
   "outputs": [],
   "source": [
    "df.info()"
   ]
  },
  {
   "cell_type": "code",
   "execution_count": null,
   "id": "80640538-b34e-4afc-b653-4a0e9f4b7a4f",
   "metadata": {},
   "outputs": [],
   "source": [
    "len(df)"
   ]
  },
  {
   "cell_type": "code",
   "execution_count": null,
   "id": "155a0bd1-d13e-41e1-aef8-cf431bcf3005",
   "metadata": {},
   "outputs": [],
   "source": [
    "%%time\n",
    "# deduplicate the measurements\n",
    "df = df.reset_index().drop_duplicates().set_index(['id', 'source_category', 'source_type', 'timestamp', 'property']).sort_index()"
   ]
  },
  {
   "cell_type": "code",
   "execution_count": null,
   "id": "0e7f5602-064a-4398-9586-8c1ebe8e6331",
   "metadata": {},
   "outputs": [],
   "source": [
    "len(df)"
   ]
  },
  {
   "cell_type": "code",
   "execution_count": null,
   "id": "908c9cc7-9a67-49dd-8011-a0302568214b",
   "metadata": {},
   "outputs": [],
   "source": [
    "list(df.index.get_level_values('id').unique())"
   ]
  },
  {
   "cell_type": "code",
   "execution_count": null,
   "id": "78972837-9db0-48a8-af3d-2f93e92c7e42",
   "metadata": {},
   "outputs": [],
   "source": [
    "len(df.index.get_level_values('id').unique())"
   ]
  },
  {
   "cell_type": "code",
   "execution_count": null,
   "id": "c1327359-e2f9-47aa-8019-893c49fc1921",
   "metadata": {},
   "outputs": [],
   "source": [
    "%%time\n",
    "df.reset_index().groupby(['id', 'source_type'])['timestamp'].agg(['min', 'max'])"
   ]
  },
  {
   "cell_type": "code",
   "execution_count": null,
   "id": "454caebb-5296-47fc-8e6e-8e4909cb5f45",
   "metadata": {},
   "outputs": [],
   "source": [
    "df['value'].count()"
   ]
  },
  {
   "cell_type": "code",
   "execution_count": null,
   "id": "d2ed6c3c-4ebc-4de2-b686-c91001b47a8e",
   "metadata": {},
   "outputs": [],
   "source": [
    "df.duplicated().any()"
   ]
  },
  {
   "cell_type": "code",
   "execution_count": null,
   "id": "d6a38034-637b-41b8-939f-49afef8d8d98",
   "metadata": {},
   "outputs": [],
   "source": [
    "df.info()"
   ]
  },
  {
   "cell_type": "code",
   "execution_count": null,
   "id": "f75fc861-a495-4129-bbc8-19e8d662c7e2",
   "metadata": {},
   "outputs": [],
   "source": [
    "df.describe()"
   ]
  },
  {
   "cell_type": "code",
   "execution_count": null,
   "id": "50884d10-c8ed-4a49-89bf-90dfcf856d14",
   "metadata": {},
   "outputs": [],
   "source": [
    "df"
   ]
  },
  {
   "cell_type": "code",
   "execution_count": null,
   "id": "ae204e9a-0a12-4f2a-a0ba-edb5c9a67076",
   "metadata": {},
   "outputs": [],
   "source": [
    "list(df.index.get_level_values('source_category').unique())"
   ]
  },
  {
   "cell_type": "code",
   "execution_count": null,
   "id": "9b1ae630-517a-4cdd-8860-3a54324b693c",
   "metadata": {},
   "outputs": [],
   "source": [
    "list(df.index.get_level_values('source_type').unique())"
   ]
  },
  {
   "cell_type": "code",
   "execution_count": null,
   "id": "36766252-b2b1-4b3b-89c2-99ea20121044",
   "metadata": {},
   "outputs": [],
   "source": [
    "list(df.index.get_level_values('property').unique())"
   ]
  },
  {
   "cell_type": "code",
   "execution_count": null,
   "id": "e3a23274-47f1-4088-8890-1646f570ebfb",
   "metadata": {},
   "outputs": [],
   "source": [
    "df.groupby(['source_type']).size()"
   ]
  },
  {
   "cell_type": "code",
   "execution_count": null,
   "id": "a70e402f-fbe5-4ccf-bcd6-e41daf1e2473",
   "metadata": {},
   "outputs": [],
   "source": [
    "df.groupby(['source_category', 'source_type', 'property']).size()"
   ]
  },
  {
   "cell_type": "code",
   "execution_count": null,
   "id": "42ecb7b1-6ed0-46da-b6d7-8c9083198cd0",
   "metadata": {},
   "outputs": [],
   "source": [
    "print(f\"df.count().sum(): {df.count().sum():_}\")"
   ]
  },
  {
   "cell_type": "markdown",
   "id": "905b78f8-c75d-4950-b32c-d5486f4092ea",
   "metadata": {},
   "source": [
    "## Write to parquet file(s)"
   ]
  },
  {
   "cell_type": "code",
   "execution_count": null,
   "id": "02519865-0fc1-4d06-8141-1ba6c4425010",
   "metadata": {},
   "outputs": [],
   "source": [
    "%%time \n",
    "df.to_parquet(rhc_output_file_path, index=True, engine='pyarrow')"
   ]
  },
  {
   "cell_type": "code",
   "execution_count": null,
   "id": "4c2c9c7a-3db0-4c33-a1f2-818425a0589a",
   "metadata": {},
   "outputs": [],
   "source": [
    "# %%time \n",
    "# for home_id in tqdm(homes):\n",
    "#     df.xs(home_id, drop_level=False).to_parquet(f'{home_id}_raw_measurements.parquet', index=True, engine='pyarrow')"
   ]
  },
  {
   "cell_type": "markdown",
   "id": "f2a76164-d0cc-45c6-a476-f1aada719aa1",
   "metadata": {},
   "source": [
    "## Write to csv file(s)"
   ]
  },
  {
   "cell_type": "code",
   "execution_count": null,
   "id": "b0ecfe1f-772f-4122-810d-aa6105f98416",
   "metadata": {},
   "outputs": [],
   "source": [
    "homes = list(df.index.get_level_values('id').unique())"
   ]
  },
  {
   "cell_type": "markdown",
   "id": "d1723c78-8f12-468d-b819-e045c13b0805",
   "metadata": {},
   "source": [
    "### Write raw measurements per home to zipped .CSV files"
   ]
  },
  {
   "cell_type": "code",
   "execution_count": null,
   "id": "3d31c6d9-5d16-4583-b23f-6aec23068a89",
   "metadata": {},
   "outputs": [],
   "source": [
    "%%time \n",
    "for home_id in tqdm(homes):\n",
    "    try:\n",
    "        # df_meas_home =  pd.read_parquet(\n",
    "        #     f'{home_id}_raw_measurements.parquet', \n",
    "        #     engine='pyarrow',\n",
    "        #     use_nullable_dtypes=True\n",
    "        # )\n",
    "        df.xs(home_id, drop_level=False).to_csv(\n",
    "            f'{home_id}_raw_measurements.zip',\n",
    "            encoding='utf-8',\n",
    "            compression= dict(method='zip',\n",
    "                              archive_name=f'{home_id}_raw_measurements.csv'),\n",
    "            date_format='%Y-%m-%dT%H:%M:%S%z'\n",
    "        )\n",
    "    except FileNotFoundError as e:\n",
    "        print(f\"Error: {e}. Skipping file {home_id}_raw_measurements.parquet.\")\n",
    "        continue     \n"
   ]
  },
  {
   "cell_type": "code",
   "execution_count": null,
   "id": "f9799e7b-e8df-4f51-adf5-5371e09ffe29",
   "metadata": {},
   "outputs": [],
   "source": []
  }
 ],
 "metadata": {
  "kernelspec": {
   "display_name": "Python 3 (ipykernel)",
   "language": "python",
   "name": "python3"
  },
  "language_info": {
   "codemirror_mode": {
    "name": "ipython",
    "version": 3
   },
   "file_extension": ".py",
   "mimetype": "text/x-python",
   "name": "python",
   "nbconvert_exporter": "python",
   "pygments_lexer": "ipython3",
   "version": "3.11.6"
  }
 },
 "nbformat": 4,
 "nbformat_minor": 5
}
