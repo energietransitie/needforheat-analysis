{
 "cells": [
  {
   "cell_type": "markdown",
   "id": "22b53423-6eaa-4def-b594-03eae139d26c",
   "metadata": {},
   "source": [
    "# Import data"
   ]
  },
  {
   "cell_type": "code",
   "execution_count": 1,
   "id": "d628c358-cdb2-4f7a-a390-a366ac508ba7",
   "metadata": {},
   "outputs": [],
   "source": [
    "import pandas as pd\n",
    "import numpy as np\n",
    "\n",
    "nfh_input_file_path='needforheat_raw_measurements.parquet'\n",
    "remeha_input_file_path='remeha_export.parquet'\n",
    "rhc_output_file_path='reducedheatcarb_raw_measurements.parquet'\n",
    "\n",
    "# usually, two decimals suffice for displaying DataFrames (NB internally, precision may be higher)\n",
    "pd.options.display.precision = 2\n",
    "\n",
    "import sys\n",
    "sys.path.append('../data/')\n",
    "sys.path.append('../view/')\n",
    "\n",
    "%load_ext autoreload\n",
    "\n",
    "\n",
    "%matplotlib inline\n",
    "%matplotlib widget\n",
    "import pylab as plt\n",
    "import itertools\n",
    "from plotter import Plot\n",
    "from tqdm.notebook import tqdm"
   ]
  },
  {
   "cell_type": "code",
   "execution_count": 2,
   "id": "4a19d007-dc16-436f-97bd-089596c0d66f",
   "metadata": {},
   "outputs": [],
   "source": [
    "units_to_mathtext = property_types = {\n",
    "    'ppm' : r'$ppm$',\n",
    "    'kWh' : r'$kWh$',\n",
    "    'm3' : r'$m^{3}$',\n",
    "    'degC' : r'$°C$',\n",
    "    'W' : r'$W$',\n",
    "    'V' : r'$V$',\n",
    "    '0' : r'$[-]$',\n",
    "    'bool': r'$0 = False; 1 = True$',\n",
    "    'W_m_2' : r'$W\\cdotm^{-1}$'\n",
    "}"
   ]
  },
  {
   "cell_type": "code",
   "execution_count": 3,
   "id": "5b7da069-dedc-44ae-a9a2-df378961dfaf",
   "metadata": {
    "scrolled": true
   },
   "outputs": [
    {
     "name": "stdout",
     "output_type": "stream",
     "text": [
      "File was successfully read without specifying compression codec.\n",
      "CPU times: user 1.25 s, sys: 131 ms, total: 1.38 s\n",
      "Wall time: 1.16 s\n"
     ]
    }
   ],
   "source": [
    "%%time\n",
    "# Attempt to read the Parquet file\n",
    "try:\n",
    "    df_nfh = pd.read_parquet(\n",
    "        nfh_input_file_path, \n",
    "        engine='pyarrow',\n",
    "        use_nullable_dtypes=True\n",
    "        )\n",
    "    print(\"File was successfully read without specifying compression codec.\")\n",
    "except Exception as e:\n",
    "    print(f\"Error reading file: {e}\")\n"
   ]
  },
  {
   "cell_type": "code",
   "execution_count": 4,
   "id": "adc79d35-fa9c-403a-8dac-6bf0603ce6e5",
   "metadata": {},
   "outputs": [
    {
     "name": "stdout",
     "output_type": "stream",
     "text": [
      "<class 'pandas.core.frame.DataFrame'>\n",
      "MultiIndex: 2814412 entries, (424197, 'device', 'twomes-p1-reader-firmware', Timestamp('2023-12-09 12:08:00+0100', tz='Europe/Amsterdam'), 'dsmr_version__0') to (410260, 'device', 'twomes-co2-occupancy-scd41-m5coreink-firmware', Timestamp('2024-04-01 02:00:00+0200', tz='Europe/Amsterdam'), 'temp_in__degC')\n",
      "Data columns (total 1 columns):\n",
      " #   Column  Dtype \n",
      "---  ------  ----- \n",
      " 0   value   string\n",
      "dtypes: string(1)\n",
      "memory usage: 52.7+ MB\n"
     ]
    }
   ],
   "source": [
    "df_nfh.info()"
   ]
  },
  {
   "cell_type": "code",
   "execution_count": 5,
   "id": "41919ac7-3111-4ec8-8350-6bf5a47fe1c2",
   "metadata": {},
   "outputs": [
    {
     "data": {
      "text/html": [
       "<div>\n",
       "<style scoped>\n",
       "    .dataframe tbody tr th:only-of-type {\n",
       "        vertical-align: middle;\n",
       "    }\n",
       "\n",
       "    .dataframe tbody tr th {\n",
       "        vertical-align: top;\n",
       "    }\n",
       "\n",
       "    .dataframe thead th {\n",
       "        text-align: right;\n",
       "    }\n",
       "</style>\n",
       "<table border=\"1\" class=\"dataframe\">\n",
       "  <thead>\n",
       "    <tr style=\"text-align: right;\">\n",
       "      <th></th>\n",
       "      <th></th>\n",
       "      <th></th>\n",
       "      <th></th>\n",
       "      <th></th>\n",
       "      <th>value</th>\n",
       "    </tr>\n",
       "    <tr>\n",
       "      <th>id</th>\n",
       "      <th>source_category</th>\n",
       "      <th>source_type</th>\n",
       "      <th>timestamp</th>\n",
       "      <th>property</th>\n",
       "      <th></th>\n",
       "    </tr>\n",
       "  </thead>\n",
       "  <tbody>\n",
       "    <tr>\n",
       "      <th rowspan=\"5\" valign=\"top\">424197</th>\n",
       "      <th rowspan=\"5\" valign=\"top\">device</th>\n",
       "      <th rowspan=\"5\" valign=\"top\">twomes-p1-reader-firmware</th>\n",
       "      <th rowspan=\"5\" valign=\"top\">2023-12-09 12:08:00+01:00</th>\n",
       "      <th>dsmr_version__0</th>\n",
       "      <td>-1.0</td>\n",
       "    </tr>\n",
       "    <tr>\n",
       "      <th>e_ret_hi_cum__kWh</th>\n",
       "      <td>1.936</td>\n",
       "    </tr>\n",
       "    <tr>\n",
       "      <th>e_ret_lo_cum__kWh</th>\n",
       "      <td>nan</td>\n",
       "    </tr>\n",
       "    <tr>\n",
       "      <th>e_use_hi_cum__kWh</th>\n",
       "      <td>0.000</td>\n",
       "    </tr>\n",
       "    <tr>\n",
       "      <th>e_use_lo_cum__kWh</th>\n",
       "      <td>-0.000</td>\n",
       "    </tr>\n",
       "    <tr>\n",
       "      <th>...</th>\n",
       "      <th>...</th>\n",
       "      <th>...</th>\n",
       "      <th>...</th>\n",
       "      <th>...</th>\n",
       "      <td>...</td>\n",
       "    </tr>\n",
       "    <tr>\n",
       "      <th rowspan=\"5\" valign=\"top\">410260</th>\n",
       "      <th rowspan=\"5\" valign=\"top\">device</th>\n",
       "      <th rowspan=\"5\" valign=\"top\">twomes-co2-occupancy-scd41-m5coreink-firmware</th>\n",
       "      <th rowspan=\"5\" valign=\"top\">2024-04-01 02:00:00+02:00</th>\n",
       "      <th>heartbeat</th>\n",
       "      <td>7</td>\n",
       "    </tr>\n",
       "    <tr>\n",
       "      <th>occupancy__p</th>\n",
       "      <td>4</td>\n",
       "    </tr>\n",
       "    <tr>\n",
       "      <th>onboarded__p</th>\n",
       "      <td>4</td>\n",
       "    </tr>\n",
       "    <tr>\n",
       "      <th>rel_humidity__0</th>\n",
       "      <td>0.835</td>\n",
       "    </tr>\n",
       "    <tr>\n",
       "      <th>temp_in__degC</th>\n",
       "      <td>17.1</td>\n",
       "    </tr>\n",
       "  </tbody>\n",
       "</table>\n",
       "<p>2814412 rows × 1 columns</p>\n",
       "</div>"
      ],
      "text/plain": [
       "                                                                                                                   value\n",
       "id     source_category source_type                                   timestamp                 property                 \n",
       "424197 device          twomes-p1-reader-firmware                     2023-12-09 12:08:00+01:00 dsmr_version__0      -1.0\n",
       "                                                                                               e_ret_hi_cum__kWh   1.936\n",
       "                                                                                               e_ret_lo_cum__kWh     nan\n",
       "                                                                                               e_use_hi_cum__kWh   0.000\n",
       "                                                                                               e_use_lo_cum__kWh  -0.000\n",
       "...                                                                                                                  ...\n",
       "410260 device          twomes-co2-occupancy-scd41-m5coreink-firmware 2024-04-01 02:00:00+02:00 heartbeat               7\n",
       "                                                                                               occupancy__p            4\n",
       "                                                                                               onboarded__p            4\n",
       "                                                                                               rel_humidity__0     0.835\n",
       "                                                                                               temp_in__degC        17.1\n",
       "\n",
       "[2814412 rows x 1 columns]"
      ]
     },
     "execution_count": 5,
     "metadata": {},
     "output_type": "execute_result"
    }
   ],
   "source": [
    "df_nfh"
   ]
  },
  {
   "cell_type": "code",
   "execution_count": 6,
   "id": "4b0fbb76-2ad3-42ce-a83f-36052a57a750",
   "metadata": {},
   "outputs": [
    {
     "name": "stdout",
     "output_type": "stream",
     "text": [
      "File was successfully read without specifying compression codec.\n",
      "CPU times: user 3.66 s, sys: 1.11 s, total: 4.77 s\n",
      "Wall time: 3.34 s\n"
     ]
    }
   ],
   "source": [
    "%%time\n",
    "# Attempt to read the Parquet file\n",
    "try:\n",
    "    df_remeha = pd.read_parquet(\n",
    "        remeha_input_file_path, \n",
    "        engine='pyarrow',\n",
    "        use_nullable_dtypes=True\n",
    "        )\n",
    "    print(\"File was successfully read without specifying compression codec.\")\n",
    "except Exception as e:\n",
    "    print(f\"Error reading file: {e}\")\n"
   ]
  },
  {
   "cell_type": "code",
   "execution_count": 7,
   "id": "12787eb3-d7fb-446c-be1f-b61eea93d311",
   "metadata": {},
   "outputs": [
    {
     "name": "stdout",
     "output_type": "stream",
     "text": [
      "<class 'pandas.core.frame.DataFrame'>\n",
      "MultiIndex: 36753631 entries, (404873, 'batch_import', 'remeha', Timestamp('2024-03-23 02:07:46.428000+0100', tz='Europe/Amsterdam'), 'temp_set__degC') to (495906, 'batch_import', 'remeha', Timestamp('2024-02-07 07:03:54.640000+0100', tz='Europe/Amsterdam'), 'temp_in__degC')\n",
      "Data columns (total 1 columns):\n",
      " #   Column  Dtype  \n",
      "---  ------  -----  \n",
      " 0   value   Float64\n",
      "dtypes: Float64(1)\n",
      "memory usage: 677.5 MB\n"
     ]
    }
   ],
   "source": [
    "df_remeha.info()"
   ]
  },
  {
   "cell_type": "code",
   "execution_count": 8,
   "id": "09d6c8e4-59b1-4380-af6c-57d0459952b2",
   "metadata": {},
   "outputs": [
    {
     "data": {
      "text/html": [
       "<div>\n",
       "<style scoped>\n",
       "    .dataframe tbody tr th:only-of-type {\n",
       "        vertical-align: middle;\n",
       "    }\n",
       "\n",
       "    .dataframe tbody tr th {\n",
       "        vertical-align: top;\n",
       "    }\n",
       "\n",
       "    .dataframe thead th {\n",
       "        text-align: right;\n",
       "    }\n",
       "</style>\n",
       "<table border=\"1\" class=\"dataframe\">\n",
       "  <thead>\n",
       "    <tr style=\"text-align: right;\">\n",
       "      <th></th>\n",
       "      <th></th>\n",
       "      <th></th>\n",
       "      <th></th>\n",
       "      <th></th>\n",
       "      <th>value</th>\n",
       "    </tr>\n",
       "    <tr>\n",
       "      <th>id</th>\n",
       "      <th>source_category</th>\n",
       "      <th>source_type</th>\n",
       "      <th>timestamp</th>\n",
       "      <th>property</th>\n",
       "      <th></th>\n",
       "    </tr>\n",
       "  </thead>\n",
       "  <tbody>\n",
       "    <tr>\n",
       "      <th rowspan=\"5\" valign=\"top\">404873</th>\n",
       "      <th rowspan=\"5\" valign=\"top\">batch_import</th>\n",
       "      <th rowspan=\"5\" valign=\"top\">remeha</th>\n",
       "      <th rowspan=\"5\" valign=\"top\">2024-03-23 02:07:46.428000+01:00</th>\n",
       "      <th>temp_set__degC</th>\n",
       "      <td>18.0</td>\n",
       "    </tr>\n",
       "    <tr>\n",
       "      <th>dhw_temp_out__degC</th>\n",
       "      <td>-327.68</td>\n",
       "    </tr>\n",
       "    <tr>\n",
       "      <th>fan_rotations__min_1</th>\n",
       "      <td>0.0</td>\n",
       "    </tr>\n",
       "    <tr>\n",
       "      <th>temp_out__degC</th>\n",
       "      <td>-327.68</td>\n",
       "    </tr>\n",
       "    <tr>\n",
       "      <th>g_use_ch_inf_cum__kWh</th>\n",
       "      <td>5729.0</td>\n",
       "    </tr>\n",
       "    <tr>\n",
       "      <th>...</th>\n",
       "      <th>...</th>\n",
       "      <th>...</th>\n",
       "      <th>...</th>\n",
       "      <th>...</th>\n",
       "      <td>...</td>\n",
       "    </tr>\n",
       "    <tr>\n",
       "      <th rowspan=\"5\" valign=\"top\">495906</th>\n",
       "      <th rowspan=\"5\" valign=\"top\">batch_import</th>\n",
       "      <th rowspan=\"5\" valign=\"top\">remeha</th>\n",
       "      <th rowspan=\"5\" valign=\"top\">2024-02-07 07:03:54.640000+01:00</th>\n",
       "      <th>ch_set_fan_rotations_max__min_1</th>\n",
       "      <td>5900.0</td>\n",
       "    </tr>\n",
       "    <tr>\n",
       "      <th>g_use_ch_inf_cum__kWh</th>\n",
       "      <td>912.0</td>\n",
       "    </tr>\n",
       "    <tr>\n",
       "      <th>temp_ret__degC</th>\n",
       "      <td>20.3</td>\n",
       "    </tr>\n",
       "    <tr>\n",
       "      <th>ch_water_pump_speed__0</th>\n",
       "      <td>0.0</td>\n",
       "    </tr>\n",
       "    <tr>\n",
       "      <th>temp_in__degC</th>\n",
       "      <td>17.26</td>\n",
       "    </tr>\n",
       "  </tbody>\n",
       "</table>\n",
       "<p>36753631 rows × 1 columns</p>\n",
       "</div>"
      ],
      "text/plain": [
       "                                                                                                      value\n",
       "id     source_category source_type timestamp                        property                               \n",
       "404873 batch_import    remeha      2024-03-23 02:07:46.428000+01:00 temp_set__degC                     18.0\n",
       "                                                                    dhw_temp_out__degC              -327.68\n",
       "                                                                    fan_rotations__min_1                0.0\n",
       "                                                                    temp_out__degC                  -327.68\n",
       "                                                                    g_use_ch_inf_cum__kWh            5729.0\n",
       "...                                                                                                     ...\n",
       "495906 batch_import    remeha      2024-02-07 07:03:54.640000+01:00 ch_set_fan_rotations_max__min_1  5900.0\n",
       "                                                                    g_use_ch_inf_cum__kWh             912.0\n",
       "                                                                    temp_ret__degC                     20.3\n",
       "                                                                    ch_water_pump_speed__0              0.0\n",
       "                                                                    temp_in__degC                     17.26\n",
       "\n",
       "[36753631 rows x 1 columns]"
      ]
     },
     "execution_count": 8,
     "metadata": {},
     "output_type": "execute_result"
    }
   ],
   "source": [
    "df_remeha"
   ]
  },
  {
   "cell_type": "code",
   "execution_count": 9,
   "id": "029b8e88-6e52-4307-bcff-83b74906470b",
   "metadata": {},
   "outputs": [
    {
     "name": "stdout",
     "output_type": "stream",
     "text": [
      "CPU times: user 22.3 s, sys: 2.12 s, total: 24.4 s\n",
      "Wall time: 24 s\n"
     ]
    }
   ],
   "source": [
    "%%time\n",
    "df_remeha['value'] = df_remeha['value'].astype(str)"
   ]
  },
  {
   "cell_type": "code",
   "execution_count": 10,
   "id": "cb921e6f-a236-4188-b879-cf5a14d7c8c6",
   "metadata": {},
   "outputs": [
    {
     "name": "stdout",
     "output_type": "stream",
     "text": [
      "<class 'pandas.core.frame.DataFrame'>\n",
      "MultiIndex: 36753631 entries, (404873, 'batch_import', 'remeha', Timestamp('2024-03-23 02:07:46.428000+0100', tz='Europe/Amsterdam'), 'temp_set__degC') to (495906, 'batch_import', 'remeha', Timestamp('2024-02-07 07:03:54.640000+0100', tz='Europe/Amsterdam'), 'temp_in__degC')\n",
      "Data columns (total 1 columns):\n",
      " #   Column  Dtype \n",
      "---  ------  ----- \n",
      " 0   value   object\n",
      "dtypes: object(1)\n",
      "memory usage: 642.4+ MB\n"
     ]
    }
   ],
   "source": [
    "df_remeha.info()"
   ]
  },
  {
   "cell_type": "markdown",
   "id": "ff628ae1-4406-4ed8-a579-d7fe2f589a87",
   "metadata": {},
   "source": [
    "## Merge"
   ]
  },
  {
   "cell_type": "code",
   "execution_count": 11,
   "id": "af7548f8-3103-4e45-95b2-ea9120eddd8a",
   "metadata": {},
   "outputs": [
    {
     "name": "stdout",
     "output_type": "stream",
     "text": [
      "CPU times: user 11.7 s, sys: 2.26 s, total: 14 s\n",
      "Wall time: 13.9 s\n"
     ]
    }
   ],
   "source": [
    "%%time\n",
    "df = pd.concat([df_nfh, df_remeha])"
   ]
  },
  {
   "cell_type": "markdown",
   "id": "c5044830-aa70-43ab-9b69-461c45b8489c",
   "metadata": {},
   "source": [
    "## Initial exploration: size, ids, start & stop times per id"
   ]
  },
  {
   "cell_type": "code",
   "execution_count": 12,
   "id": "c4f3a0d5-6107-42a9-b224-5669d59c23de",
   "metadata": {},
   "outputs": [
    {
     "name": "stdout",
     "output_type": "stream",
     "text": [
      "<class 'pandas.core.frame.DataFrame'>\n",
      "MultiIndex: 39568043 entries, (424197, 'device', 'twomes-p1-reader-firmware', Timestamp('2023-12-09 12:08:00+0100', tz='Europe/Amsterdam'), 'dsmr_version__0') to (495906, 'batch_import', 'remeha', Timestamp('2024-02-07 07:03:54.640000+0100', tz='Europe/Amsterdam'), 'temp_in__degC')\n",
      "Data columns (total 1 columns):\n",
      " #   Column  Dtype \n",
      "---  ------  ----- \n",
      " 0   value   object\n",
      "dtypes: object(1)\n",
      "memory usage: 687.1+ MB\n"
     ]
    }
   ],
   "source": [
    "df.info()"
   ]
  },
  {
   "cell_type": "code",
   "execution_count": 13,
   "id": "80640538-b34e-4afc-b653-4a0e9f4b7a4f",
   "metadata": {},
   "outputs": [
    {
     "data": {
      "text/plain": [
       "39568043"
      ]
     },
     "execution_count": 13,
     "metadata": {},
     "output_type": "execute_result"
    }
   ],
   "source": [
    "len(df)"
   ]
  },
  {
   "cell_type": "code",
   "execution_count": 14,
   "id": "155a0bd1-d13e-41e1-aef8-cf431bcf3005",
   "metadata": {},
   "outputs": [
    {
     "name": "stdout",
     "output_type": "stream",
     "text": [
      "CPU times: user 47.8 s, sys: 8.45 s, total: 56.3 s\n",
      "Wall time: 56.2 s\n"
     ]
    }
   ],
   "source": [
    "%%time\n",
    "# deduplicate the measurements\n",
    "df = df.reset_index().drop_duplicates().set_index(['id', 'source_category', 'source_type', 'timestamp', 'property']).sort_index()"
   ]
  },
  {
   "cell_type": "code",
   "execution_count": 15,
   "id": "0e7f5602-064a-4398-9586-8c1ebe8e6331",
   "metadata": {},
   "outputs": [
    {
     "data": {
      "text/plain": [
       "39568043"
      ]
     },
     "execution_count": 15,
     "metadata": {},
     "output_type": "execute_result"
    }
   ],
   "source": [
    "len(df)"
   ]
  },
  {
   "cell_type": "code",
   "execution_count": 16,
   "id": "908c9cc7-9a67-49dd-8011-a0302568214b",
   "metadata": {},
   "outputs": [
    {
     "data": {
      "text/plain": [
       "[401632,\n",
       " 403603,\n",
       " 404873,\n",
       " 410260,\n",
       " 412715,\n",
       " 424197,\n",
       " 429011,\n",
       " 430062,\n",
       " 434931,\n",
       " 438708,\n",
       " 440152,\n",
       " 444964,\n",
       " 449134,\n",
       " 450051,\n",
       " 450298,\n",
       " 456638,\n",
       " 458000,\n",
       " 458852,\n",
       " 478667,\n",
       " 483173,\n",
       " 487126,\n",
       " 487289,\n",
       " 491671,\n",
       " 494233,\n",
       " 495906]"
      ]
     },
     "execution_count": 16,
     "metadata": {},
     "output_type": "execute_result"
    }
   ],
   "source": [
    "list(df.index.get_level_values('id').unique())"
   ]
  },
  {
   "cell_type": "code",
   "execution_count": 17,
   "id": "78972837-9db0-48a8-af3d-2f93e92c7e42",
   "metadata": {},
   "outputs": [
    {
     "data": {
      "text/plain": [
       "25"
      ]
     },
     "execution_count": 17,
     "metadata": {},
     "output_type": "execute_result"
    }
   ],
   "source": [
    "len(df.index.get_level_values('id').unique())"
   ]
  },
  {
   "cell_type": "code",
   "execution_count": 18,
   "id": "c1327359-e2f9-47aa-8019-893c49fc1921",
   "metadata": {},
   "outputs": [
    {
     "name": "stdout",
     "output_type": "stream",
     "text": [
      "CPU times: user 6.43 s, sys: 1.58 s, total: 8.01 s\n",
      "Wall time: 8 s\n"
     ]
    },
    {
     "data": {
      "text/html": [
       "<div>\n",
       "<style scoped>\n",
       "    .dataframe tbody tr th:only-of-type {\n",
       "        vertical-align: middle;\n",
       "    }\n",
       "\n",
       "    .dataframe tbody tr th {\n",
       "        vertical-align: top;\n",
       "    }\n",
       "\n",
       "    .dataframe thead th {\n",
       "        text-align: right;\n",
       "    }\n",
       "</style>\n",
       "<table border=\"1\" class=\"dataframe\">\n",
       "  <thead>\n",
       "    <tr style=\"text-align: right;\">\n",
       "      <th></th>\n",
       "      <th></th>\n",
       "      <th>min</th>\n",
       "      <th>max</th>\n",
       "    </tr>\n",
       "    <tr>\n",
       "      <th>id</th>\n",
       "      <th>source_type</th>\n",
       "      <th></th>\n",
       "      <th></th>\n",
       "    </tr>\n",
       "  </thead>\n",
       "  <tbody>\n",
       "    <tr>\n",
       "      <th rowspan=\"4\" valign=\"top\">401632</th>\n",
       "      <th>enelogic</th>\n",
       "      <td>2024-01-01 00:00:00+01:00</td>\n",
       "      <td>2024-04-01 00:00:00+02:00</td>\n",
       "    </tr>\n",
       "    <tr>\n",
       "      <th>remeha</th>\n",
       "      <td>2024-01-25 01:40:20.168000+01:00</td>\n",
       "      <td>2024-04-02 01:59:15.638000+02:00</td>\n",
       "    </tr>\n",
       "    <tr>\n",
       "      <th>twomes-co2-occupancy-scd41-m5coreink-firmware</th>\n",
       "      <td>2024-02-05 14:29:00+01:00</td>\n",
       "      <td>2024-04-01 02:00:00+02:00</td>\n",
       "    </tr>\n",
       "    <tr>\n",
       "      <th>twomes-p1-reader-firmware</th>\n",
       "      <td>2024-02-05 14:35:01+01:00</td>\n",
       "      <td>2024-04-01 02:00:00+02:00</td>\n",
       "    </tr>\n",
       "    <tr>\n",
       "      <th>403603</th>\n",
       "      <th>enelogic</th>\n",
       "      <td>2024-01-01 00:00:00+01:00</td>\n",
       "      <td>2024-04-01 00:00:00+02:00</td>\n",
       "    </tr>\n",
       "    <tr>\n",
       "      <th>...</th>\n",
       "      <th>...</th>\n",
       "      <td>...</td>\n",
       "      <td>...</td>\n",
       "    </tr>\n",
       "    <tr>\n",
       "      <th>494233</th>\n",
       "      <th>twomes-p1-reader-firmware</th>\n",
       "      <td>2024-01-14 14:00:00+01:00</td>\n",
       "      <td>2024-03-29 14:50:00+01:00</td>\n",
       "    </tr>\n",
       "    <tr>\n",
       "      <th rowspan=\"4\" valign=\"top\">495906</th>\n",
       "      <th>enelogic</th>\n",
       "      <td>2023-12-11 00:00:00+01:00</td>\n",
       "      <td>2024-04-01 00:00:00+02:00</td>\n",
       "    </tr>\n",
       "    <tr>\n",
       "      <th>remeha</th>\n",
       "      <td>2023-12-17 09:18:31.376000+01:00</td>\n",
       "      <td>2024-04-02 01:59:30.615000+02:00</td>\n",
       "    </tr>\n",
       "    <tr>\n",
       "      <th>twomes-co2-occupancy-scd41-m5coreink-firmware</th>\n",
       "      <td>2024-01-17 14:09:00+01:00</td>\n",
       "      <td>2024-04-01 02:00:00+02:00</td>\n",
       "    </tr>\n",
       "    <tr>\n",
       "      <th>twomes-p1-reader-firmware</th>\n",
       "      <td>2024-01-26 19:50:00+01:00</td>\n",
       "      <td>2024-04-01 02:00:00+02:00</td>\n",
       "    </tr>\n",
       "  </tbody>\n",
       "</table>\n",
       "<p>84 rows × 2 columns</p>\n",
       "</div>"
      ],
      "text/plain": [
       "                                                                                  min  \\\n",
       "id     source_type                                                                      \n",
       "401632 enelogic                                             2024-01-01 00:00:00+01:00   \n",
       "       remeha                                        2024-01-25 01:40:20.168000+01:00   \n",
       "       twomes-co2-occupancy-scd41-m5coreink-firmware        2024-02-05 14:29:00+01:00   \n",
       "       twomes-p1-reader-firmware                            2024-02-05 14:35:01+01:00   \n",
       "403603 enelogic                                             2024-01-01 00:00:00+01:00   \n",
       "...                                                                               ...   \n",
       "494233 twomes-p1-reader-firmware                            2024-01-14 14:00:00+01:00   \n",
       "495906 enelogic                                             2023-12-11 00:00:00+01:00   \n",
       "       remeha                                        2023-12-17 09:18:31.376000+01:00   \n",
       "       twomes-co2-occupancy-scd41-m5coreink-firmware        2024-01-17 14:09:00+01:00   \n",
       "       twomes-p1-reader-firmware                            2024-01-26 19:50:00+01:00   \n",
       "\n",
       "                                                                                  max  \n",
       "id     source_type                                                                     \n",
       "401632 enelogic                                             2024-04-01 00:00:00+02:00  \n",
       "       remeha                                        2024-04-02 01:59:15.638000+02:00  \n",
       "       twomes-co2-occupancy-scd41-m5coreink-firmware        2024-04-01 02:00:00+02:00  \n",
       "       twomes-p1-reader-firmware                            2024-04-01 02:00:00+02:00  \n",
       "403603 enelogic                                             2024-04-01 00:00:00+02:00  \n",
       "...                                                                               ...  \n",
       "494233 twomes-p1-reader-firmware                            2024-03-29 14:50:00+01:00  \n",
       "495906 enelogic                                             2024-04-01 00:00:00+02:00  \n",
       "       remeha                                        2024-04-02 01:59:30.615000+02:00  \n",
       "       twomes-co2-occupancy-scd41-m5coreink-firmware        2024-04-01 02:00:00+02:00  \n",
       "       twomes-p1-reader-firmware                            2024-04-01 02:00:00+02:00  \n",
       "\n",
       "[84 rows x 2 columns]"
      ]
     },
     "execution_count": 18,
     "metadata": {},
     "output_type": "execute_result"
    }
   ],
   "source": [
    "%%time\n",
    "df.reset_index().groupby(['id', 'source_type'])['timestamp'].agg(['min', 'max'])"
   ]
  },
  {
   "cell_type": "code",
   "execution_count": 19,
   "id": "454caebb-5296-47fc-8e6e-8e4909cb5f45",
   "metadata": {},
   "outputs": [
    {
     "data": {
      "text/plain": [
       "39568043"
      ]
     },
     "execution_count": 19,
     "metadata": {},
     "output_type": "execute_result"
    }
   ],
   "source": [
    "df['value'].count()"
   ]
  },
  {
   "cell_type": "code",
   "execution_count": 20,
   "id": "d2ed6c3c-4ebc-4de2-b686-c91001b47a8e",
   "metadata": {},
   "outputs": [
    {
     "data": {
      "text/plain": [
       "True"
      ]
     },
     "execution_count": 20,
     "metadata": {},
     "output_type": "execute_result"
    }
   ],
   "source": [
    "df.duplicated().any()"
   ]
  },
  {
   "cell_type": "code",
   "execution_count": 21,
   "id": "d6a38034-637b-41b8-939f-49afef8d8d98",
   "metadata": {},
   "outputs": [
    {
     "name": "stdout",
     "output_type": "stream",
     "text": [
      "<class 'pandas.core.frame.DataFrame'>\n",
      "MultiIndex: 39568043 entries, (401632, 'batch_import', 'remeha', Timestamp('2024-01-25 01:40:20.168000+0100', tz='Europe/Amsterdam'), 'boiler_status__str') to (495906, 'device', 'twomes-p1-reader-firmware', Timestamp('2024-04-01 02:00:00+0200', tz='Europe/Amsterdam'), 'heartbeat')\n",
      "Data columns (total 1 columns):\n",
      " #   Column  Dtype \n",
      "---  ------  ----- \n",
      " 0   value   object\n",
      "dtypes: object(1)\n",
      "memory usage: 687.1+ MB\n"
     ]
    }
   ],
   "source": [
    "df.info()"
   ]
  },
  {
   "cell_type": "code",
   "execution_count": 22,
   "id": "f75fc861-a495-4129-bbc8-19e8d662c7e2",
   "metadata": {},
   "outputs": [
    {
     "data": {
      "text/html": [
       "<div>\n",
       "<style scoped>\n",
       "    .dataframe tbody tr th:only-of-type {\n",
       "        vertical-align: middle;\n",
       "    }\n",
       "\n",
       "    .dataframe tbody tr th {\n",
       "        vertical-align: top;\n",
       "    }\n",
       "\n",
       "    .dataframe thead th {\n",
       "        text-align: right;\n",
       "    }\n",
       "</style>\n",
       "<table border=\"1\" class=\"dataframe\">\n",
       "  <thead>\n",
       "    <tr style=\"text-align: right;\">\n",
       "      <th></th>\n",
       "      <th>value</th>\n",
       "    </tr>\n",
       "  </thead>\n",
       "  <tbody>\n",
       "    <tr>\n",
       "      <th>count</th>\n",
       "      <td>39568043</td>\n",
       "    </tr>\n",
       "    <tr>\n",
       "      <th>unique</th>\n",
       "      <td>312775</td>\n",
       "    </tr>\n",
       "    <tr>\n",
       "      <th>top</th>\n",
       "      <td>0.0</td>\n",
       "    </tr>\n",
       "    <tr>\n",
       "      <th>freq</th>\n",
       "      <td>7291399</td>\n",
       "    </tr>\n",
       "  </tbody>\n",
       "</table>\n",
       "</div>"
      ],
      "text/plain": [
       "           value\n",
       "count   39568043\n",
       "unique    312775\n",
       "top          0.0\n",
       "freq     7291399"
      ]
     },
     "execution_count": 22,
     "metadata": {},
     "output_type": "execute_result"
    }
   ],
   "source": [
    "df.describe()"
   ]
  },
  {
   "cell_type": "code",
   "execution_count": 23,
   "id": "50884d10-c8ed-4a49-89bf-90dfcf856d14",
   "metadata": {},
   "outputs": [
    {
     "data": {
      "text/html": [
       "<div>\n",
       "<style scoped>\n",
       "    .dataframe tbody tr th:only-of-type {\n",
       "        vertical-align: middle;\n",
       "    }\n",
       "\n",
       "    .dataframe tbody tr th {\n",
       "        vertical-align: top;\n",
       "    }\n",
       "\n",
       "    .dataframe thead th {\n",
       "        text-align: right;\n",
       "    }\n",
       "</style>\n",
       "<table border=\"1\" class=\"dataframe\">\n",
       "  <thead>\n",
       "    <tr style=\"text-align: right;\">\n",
       "      <th></th>\n",
       "      <th></th>\n",
       "      <th></th>\n",
       "      <th></th>\n",
       "      <th></th>\n",
       "      <th>value</th>\n",
       "    </tr>\n",
       "    <tr>\n",
       "      <th>id</th>\n",
       "      <th>source_category</th>\n",
       "      <th>source_type</th>\n",
       "      <th>timestamp</th>\n",
       "      <th>property</th>\n",
       "      <th></th>\n",
       "    </tr>\n",
       "  </thead>\n",
       "  <tbody>\n",
       "    <tr>\n",
       "      <th rowspan=\"5\" valign=\"top\">401632</th>\n",
       "      <th rowspan=\"5\" valign=\"top\">batch_import</th>\n",
       "      <th rowspan=\"5\" valign=\"top\">remeha</th>\n",
       "      <th rowspan=\"5\" valign=\"top\">2024-01-25 01:40:20.168000+01:00</th>\n",
       "      <th>boiler_status__str</th>\n",
       "      <td>8.0</td>\n",
       "    </tr>\n",
       "    <tr>\n",
       "      <th>g_use_ch_inf_cum__kWh</th>\n",
       "      <td>11314.0</td>\n",
       "    </tr>\n",
       "    <tr>\n",
       "      <th>g_use_dhw_inf_cum__kWh</th>\n",
       "      <td>4064.0</td>\n",
       "    </tr>\n",
       "    <tr>\n",
       "      <th>temp_out__degC</th>\n",
       "      <td>-327.68</td>\n",
       "    </tr>\n",
       "    <tr>\n",
       "      <th>temp_ret__degC</th>\n",
       "      <td>67.5</td>\n",
       "    </tr>\n",
       "    <tr>\n",
       "      <th>...</th>\n",
       "      <th>...</th>\n",
       "      <th>...</th>\n",
       "      <th>...</th>\n",
       "      <th>...</th>\n",
       "      <td>...</td>\n",
       "    </tr>\n",
       "    <tr>\n",
       "      <th rowspan=\"5\" valign=\"top\">495906</th>\n",
       "      <th rowspan=\"5\" valign=\"top\">device</th>\n",
       "      <th rowspan=\"5\" valign=\"top\">twomes-p1-reader-firmware</th>\n",
       "      <th rowspan=\"3\" valign=\"top\">2024-04-01 01:59:31+02:00</th>\n",
       "      <th>e_use_hi_cum__kWh</th>\n",
       "      <td>6007.863</td>\n",
       "    </tr>\n",
       "    <tr>\n",
       "      <th>e_use_lo_cum__kWh</th>\n",
       "      <td>4658.435</td>\n",
       "    </tr>\n",
       "    <tr>\n",
       "      <th>meter_code__str</th>\n",
       "      <td>E0031</td>\n",
       "    </tr>\n",
       "    <tr>\n",
       "      <th rowspan=\"2\" valign=\"top\">2024-04-01 02:00:00+02:00</th>\n",
       "      <th>g_use_cum__m3</th>\n",
       "      <td>5020.112</td>\n",
       "    </tr>\n",
       "    <tr>\n",
       "      <th>heartbeat</th>\n",
       "      <td>18</td>\n",
       "    </tr>\n",
       "  </tbody>\n",
       "</table>\n",
       "<p>39568043 rows × 1 columns</p>\n",
       "</div>"
      ],
      "text/plain": [
       "                                                                                                             value\n",
       "id     source_category source_type               timestamp                        property                        \n",
       "401632 batch_import    remeha                    2024-01-25 01:40:20.168000+01:00 boiler_status__str           8.0\n",
       "                                                                                  g_use_ch_inf_cum__kWh    11314.0\n",
       "                                                                                  g_use_dhw_inf_cum__kWh    4064.0\n",
       "                                                                                  temp_out__degC           -327.68\n",
       "                                                                                  temp_ret__degC              67.5\n",
       "...                                                                                                            ...\n",
       "495906 device          twomes-p1-reader-firmware 2024-04-01 01:59:31+02:00        e_use_hi_cum__kWh       6007.863\n",
       "                                                                                  e_use_lo_cum__kWh       4658.435\n",
       "                                                                                  meter_code__str            E0031\n",
       "                                                 2024-04-01 02:00:00+02:00        g_use_cum__m3           5020.112\n",
       "                                                                                  heartbeat                     18\n",
       "\n",
       "[39568043 rows x 1 columns]"
      ]
     },
     "execution_count": 23,
     "metadata": {},
     "output_type": "execute_result"
    }
   ],
   "source": [
    "df"
   ]
  },
  {
   "cell_type": "code",
   "execution_count": 24,
   "id": "ae204e9a-0a12-4f2a-a0ba-edb5c9a67076",
   "metadata": {},
   "outputs": [
    {
     "data": {
      "text/plain": [
       "['batch_import', 'cloud_feed', 'device']"
      ]
     },
     "execution_count": 24,
     "metadata": {},
     "output_type": "execute_result"
    }
   ],
   "source": [
    "list(df.index.get_level_values('source_category').unique())"
   ]
  },
  {
   "cell_type": "code",
   "execution_count": 25,
   "id": "9b1ae630-517a-4cdd-8860-3a54324b693c",
   "metadata": {},
   "outputs": [
    {
     "data": {
      "text/plain": [
       "['remeha',\n",
       " 'enelogic',\n",
       " 'twomes-co2-occupancy-scd41-m5coreink-firmware',\n",
       " 'twomes-p1-reader-firmware']"
      ]
     },
     "execution_count": 25,
     "metadata": {},
     "output_type": "execute_result"
    }
   ],
   "source": [
    "list(df.index.get_level_values('source_type').unique())"
   ]
  },
  {
   "cell_type": "code",
   "execution_count": 26,
   "id": "36766252-b2b1-4b3b-89c2-99ea20121044",
   "metadata": {},
   "outputs": [
    {
     "data": {
      "text/plain": [
       "['boiler_status__str',\n",
       " 'g_use_ch_inf_cum__kWh',\n",
       " 'g_use_dhw_inf_cum__kWh',\n",
       " 'temp_out__degC',\n",
       " 'temp_ret__degC',\n",
       " 'temp_sup__degC',\n",
       " 'ch_set_fan_rotations_max__min_1',\n",
       " 'ch_set_fan_rotations_min__min_1',\n",
       " 'ch_water_pump_speed__0',\n",
       " 'dhw_flow__l_min_1',\n",
       " 'dhw_temp_out__degC',\n",
       " 'fan_rotations__min_1',\n",
       " 'gas_valve__str',\n",
       " 'power_ch_max__kW',\n",
       " 'temp_ch_sup_max__degC',\n",
       " 'temp_in__degC',\n",
       " 'temp_set__degC',\n",
       " 'e_ret_hi_cum__kWh',\n",
       " 'e_ret_lo_cum__kWh',\n",
       " 'e_use_hi_cum__kWh',\n",
       " 'e_use_lo_cum__kWh',\n",
       " 'g_use_cum__m3',\n",
       " 'e_ret_cum__kWh',\n",
       " 'e_use_cum__kWh',\n",
       " 'battery_voltage__V',\n",
       " 'co2__ppm',\n",
       " 'heartbeat',\n",
       " 'occupancy__p',\n",
       " 'onboarded__p',\n",
       " 'rel_humidity__0',\n",
       " 'dsmr_version__0',\n",
       " 'meter_code__str']"
      ]
     },
     "execution_count": 26,
     "metadata": {},
     "output_type": "execute_result"
    }
   ],
   "source": [
    "list(df.index.get_level_values('property').unique())"
   ]
  },
  {
   "cell_type": "code",
   "execution_count": 27,
   "id": "e3a23274-47f1-4088-8890-1646f570ebfb",
   "metadata": {},
   "outputs": [
    {
     "data": {
      "text/plain": [
       "source_type\n",
       "enelogic                                            69215\n",
       "remeha                                           36753631\n",
       "twomes-co2-occupancy-scd41-m5coreink-firmware     1279811\n",
       "twomes-p1-reader-firmware                         1465386\n",
       "dtype: int64"
      ]
     },
     "execution_count": 27,
     "metadata": {},
     "output_type": "execute_result"
    }
   ],
   "source": [
    "df.groupby(['source_type']).size()"
   ]
  },
  {
   "cell_type": "code",
   "execution_count": 28,
   "id": "a70e402f-fbe5-4ccf-bcd6-e41daf1e2473",
   "metadata": {},
   "outputs": [
    {
     "data": {
      "text/plain": [
       "source_category  source_type                                    property                       \n",
       "batch_import     remeha                                         boiler_status__str                 2244389\n",
       "                                                                ch_set_fan_rotations_max__min_1    2148837\n",
       "                                                                ch_set_fan_rotations_min__min_1    2148850\n",
       "                                                                ch_water_pump_speed__0             2233095\n",
       "                                                                dhw_flow__l_min_1                  2233105\n",
       "                                                                dhw_temp_out__degC                 2233109\n",
       "                                                                fan_rotations__min_1               2233115\n",
       "                                                                g_use_ch_inf_cum__kWh              2244362\n",
       "                                                                g_use_dhw_inf_cum__kWh             2243871\n",
       "                                                                gas_valve__str                     2233117\n",
       "                                                                power_ch_max__kW                   1125030\n",
       "                                                                temp_ch_sup_max__degC              2233074\n",
       "                                                                temp_in__degC                      2233615\n",
       "                                                                temp_out__degC                     2244151\n",
       "                                                                temp_ret__degC                     2244386\n",
       "                                                                temp_set__degC                     2233127\n",
       "                                                                temp_sup__degC                     2244398\n",
       "cloud_feed       enelogic                                       e_ret_cum__kWh                       26384\n",
       "                                                                e_ret_hi_cum__kWh                     1430\n",
       "                                                                e_ret_lo_cum__kWh                     1430\n",
       "                                                                e_use_cum__kWh                       28322\n",
       "                                                                e_use_hi_cum__kWh                     1430\n",
       "                                                                e_use_lo_cum__kWh                     1430\n",
       "                                                                g_use_cum__m3                         8789\n",
       "device           twomes-co2-occupancy-scd41-m5coreink-firmware  battery_voltage__V                  182821\n",
       "                                                                co2__ppm                            182876\n",
       "                                                                heartbeat                           182909\n",
       "                                                                occupancy__p                        182720\n",
       "                                                                onboarded__p                        182719\n",
       "                                                                rel_humidity__0                     182876\n",
       "                                                                temp_in__degC                       182890\n",
       "                 twomes-p1-reader-firmware                      dsmr_version__0                     196234\n",
       "                                                                e_ret_hi_cum__kWh                   196234\n",
       "                                                                e_ret_lo_cum__kWh                   196234\n",
       "                                                                e_use_hi_cum__kWh                   196234\n",
       "                                                                e_use_lo_cum__kWh                   196234\n",
       "                                                                g_use_cum__m3                       120085\n",
       "                                                                heartbeat                           187539\n",
       "                                                                meter_code__str                     176592\n",
       "dtype: int64"
      ]
     },
     "execution_count": 28,
     "metadata": {},
     "output_type": "execute_result"
    }
   ],
   "source": [
    "df.groupby(['source_category', 'source_type', 'property']).size()"
   ]
  },
  {
   "cell_type": "markdown",
   "id": "905b78f8-c75d-4950-b32c-d5486f4092ea",
   "metadata": {},
   "source": [
    "## Write to parquet file(s)"
   ]
  },
  {
   "cell_type": "code",
   "execution_count": 29,
   "id": "02519865-0fc1-4d06-8141-1ba6c4425010",
   "metadata": {},
   "outputs": [
    {
     "name": "stdout",
     "output_type": "stream",
     "text": [
      "CPU times: user 15.6 s, sys: 2.06 s, total: 17.7 s\n",
      "Wall time: 17.7 s\n"
     ]
    }
   ],
   "source": [
    "%%time \n",
    "df.to_parquet(rhc_output_file_path, index=True, engine='pyarrow')"
   ]
  },
  {
   "cell_type": "code",
   "execution_count": 31,
   "id": "4c2c9c7a-3db0-4c33-a1f2-818425a0589a",
   "metadata": {},
   "outputs": [],
   "source": [
    "# %%time \n",
    "# for home_id in tqdm(homes):\n",
    "#     df.xs(home_id, drop_level=False).to_parquet(f'{home_id}_raw_measurements.parquet', index=True, engine='pyarrow')"
   ]
  },
  {
   "cell_type": "markdown",
   "id": "f2a76164-d0cc-45c6-a476-f1aada719aa1",
   "metadata": {},
   "source": [
    "## Write to csv file(s)"
   ]
  },
  {
   "cell_type": "code",
   "execution_count": 30,
   "id": "b0ecfe1f-772f-4122-810d-aa6105f98416",
   "metadata": {},
   "outputs": [],
   "source": [
    "homes = list(df.index.get_level_values('id').unique())"
   ]
  },
  {
   "cell_type": "markdown",
   "id": "d1723c78-8f12-468d-b819-e045c13b0805",
   "metadata": {},
   "source": [
    "### Write raw measurements per home to zipped .CSV files"
   ]
  },
  {
   "cell_type": "code",
   "execution_count": 32,
   "id": "3d31c6d9-5d16-4583-b23f-6aec23068a89",
   "metadata": {},
   "outputs": [
    {
     "data": {
      "application/vnd.jupyter.widget-view+json": {
       "model_id": "0311a33bf61d4bec8a1ed1165bddeb42",
       "version_major": 2,
       "version_minor": 0
      },
      "text/plain": [
       "  0%|          | 0/25 [00:00<?, ?it/s]"
      ]
     },
     "metadata": {},
     "output_type": "display_data"
    },
    {
     "name": "stdout",
     "output_type": "stream",
     "text": [
      "CPU times: user 7min 58s, sys: 3.24 s, total: 8min 1s\n",
      "Wall time: 8min 1s\n"
     ]
    }
   ],
   "source": [
    "%%time \n",
    "for home_id in tqdm(homes):\n",
    "    try:\n",
    "        # df_meas_home =  pd.read_parquet(\n",
    "        #     f'{home_id}_raw_measurements.parquet', \n",
    "        #     engine='pyarrow',\n",
    "        #     use_nullable_dtypes=True\n",
    "        # )\n",
    "        df.xs(home_id, drop_level=False).to_csv(\n",
    "            f'{home_id}_raw_measurements.zip',\n",
    "            encoding='utf-8',\n",
    "            compression= dict(method='zip',\n",
    "                              archive_name=f'{home_id}_raw_measurements.csv'),\n",
    "            date_format='%Y-%m-%dT%H:%M:%S%z'\n",
    "        )\n",
    "    except FileNotFoundError as e:\n",
    "        print(f\"Error: {e}. Skipping file {home_id}_raw_measurements.parquet.\")\n",
    "        continue     \n"
   ]
  }
 ],
 "metadata": {
  "kernelspec": {
   "display_name": "Python 3 (ipykernel)",
   "language": "python",
   "name": "python3"
  },
  "language_info": {
   "codemirror_mode": {
    "name": "ipython",
    "version": 3
   },
   "file_extension": ".py",
   "mimetype": "text/x-python",
   "name": "python",
   "nbconvert_exporter": "python",
   "pygments_lexer": "ipython3",
   "version": "3.11.6"
  }
 },
 "nbformat": 4,
 "nbformat_minor": 5
}
