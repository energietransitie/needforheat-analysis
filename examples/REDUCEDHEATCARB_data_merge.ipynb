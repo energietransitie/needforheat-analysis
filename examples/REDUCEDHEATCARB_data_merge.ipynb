{
 "cells": [
  {
   "cell_type": "markdown",
   "id": "22b53423-6eaa-4def-b594-03eae139d26c",
   "metadata": {},
   "source": [
    "# Import data"
   ]
  },
  {
   "cell_type": "code",
   "execution_count": null,
   "id": "d628c358-cdb2-4f7a-a390-a366ac508ba7",
   "metadata": {},
   "outputs": [],
   "source": [
    "import pandas as pd\n",
    "import numpy as np\n",
    "\n",
    "nfh_input_file_path='nfh_raw_measurements.parquet'\n",
    "enelogic_input_path='rhc_enelogic_monthly_export.parquet'\n",
    "remeha_input_file_path='remeha_export.parquet'\n",
    "rhc_output_file_path='rhc_raw_measurements.parquet'\n",
    "home_data_file_path = \"home_data.parquet\"\n",
    "\n",
    "# usually, two decimals suffice for displaying DataFrames (NB internally, precision may be higher)\n",
    "pd.options.display.precision = 2\n",
    "\n",
    "import sys\n",
    "sys.path.append('../data/')\n",
    "sys.path.append('../view/')\n",
    "\n",
    "%load_ext autoreload\n",
    "\n",
    "\n",
    "%matplotlib inline\n",
    "%matplotlib widget\n",
    "import pylab as plt\n",
    "import itertools\n",
    "from plotter import Plot\n",
    "from tqdm.notebook import tqdm\n",
    "import historicdutchweather\n",
    "from measurements import Measurements, WeatherMeasurements\n",
    "\n",
    "from urllib.error import HTTPError  # Import HTTPError from urllib.error"
   ]
  },
  {
   "cell_type": "markdown",
   "id": "2824b782-7576-4905-9103-960a6e1e4d78",
   "metadata": {},
   "source": [
    "## Read NeedForHeat data"
   ]
  },
  {
   "cell_type": "code",
   "execution_count": null,
   "id": "cd3d9e84-e877-4072-9fec-eb37f1c7f13a",
   "metadata": {
    "scrolled": true
   },
   "outputs": [],
   "source": [
    "%%time\n",
    "# Attempt to read the Parquet file\n",
    "try:\n",
    "    df_meas_nfh = pd.read_parquet(\n",
    "        nfh_input_file_path, \n",
    "        engine='pyarrow',\n",
    "        dtype_backend='numpy_nullable'\n",
    "        )\n",
    "    print(\"File was successfully read without specifying compression codec.\")\n",
    "except Exception as e:\n",
    "    print(f\"Error reading file: {e}\")\n"
   ]
  },
  {
   "cell_type": "code",
   "execution_count": null,
   "id": "77e57c85-3074-4488-986c-1133b0f92828",
   "metadata": {},
   "outputs": [],
   "source": [
    "df_meas_nfh.info()"
   ]
  },
  {
   "cell_type": "code",
   "execution_count": null,
   "id": "4b711528-04f8-4486-a830-56163c3d41d9",
   "metadata": {},
   "outputs": [],
   "source": [
    "df_meas_nfh.index.dtypes"
   ]
  },
  {
   "cell_type": "markdown",
   "id": "d72302b3-5bd0-4bfc-990b-028f66322a68",
   "metadata": {},
   "source": [
    "### Add unit to hearbeat property"
   ]
  },
  {
   "cell_type": "code",
   "execution_count": null,
   "id": "8f4a008e-5dc2-41aa-b84b-4a59bf0ea23c",
   "metadata": {},
   "outputs": [],
   "source": [
    "list(df_meas_nfh.index.get_level_values('property').unique())"
   ]
  },
  {
   "cell_type": "code",
   "execution_count": null,
   "id": "f36588f6-4827-45dc-a192-73280812f8ea",
   "metadata": {},
   "outputs": [],
   "source": [
    "%%time\n",
    "\n",
    "# Reset index to modify column names\n",
    "df_meas_nfh.reset_index(inplace=True)\n",
    "\n",
    "# Replace 'heartbeat' values with 'heartbeat__0' using map\n",
    "df_meas_nfh['property'] = df_meas_nfh['property'].map(lambda x: 'heartbeat__0' if x == 'heartbeat' else x)\n",
    "\n",
    "# # Convert relevant columns to categorical type\n",
    "df_meas_nfh['source_category'] = df_meas_nfh['source_category'].astype('category')\n",
    "df_meas_nfh['source_type'] = df_meas_nfh['source_type'].astype('category')\n",
    "df_meas_nfh['property'] = df_meas_nfh['property'].astype('category')\n",
    "\n",
    "# Set the index again\n",
    "df_meas_nfh.set_index(['id', 'source_category', 'source_type', 'timestamp', 'property'], inplace=True)"
   ]
  },
  {
   "cell_type": "code",
   "execution_count": null,
   "id": "5a536229-b409-4d4f-b41d-d9de581ee9e1",
   "metadata": {},
   "outputs": [],
   "source": [
    "list(df_meas_nfh.index.get_level_values('property').unique())"
   ]
  },
  {
   "cell_type": "code",
   "execution_count": null,
   "id": "f897b526-ea8d-40e7-bedb-a082659e7c14",
   "metadata": {},
   "outputs": [],
   "source": [
    "df_meas_nfh.index.dtypes"
   ]
  },
  {
   "cell_type": "code",
   "execution_count": null,
   "id": "214fb1b0-6966-4df2-8d78-764eade82b5c",
   "metadata": {},
   "outputs": [],
   "source": [
    "df_meas_nfh"
   ]
  },
  {
   "cell_type": "markdown",
   "id": "f9d84c17-05c6-4b15-aa5d-c83062d9f553",
   "metadata": {},
   "source": [
    "## Read Enelogic data"
   ]
  },
  {
   "cell_type": "code",
   "execution_count": null,
   "id": "5b7da069-dedc-44ae-a9a2-df378961dfaf",
   "metadata": {
    "scrolled": true
   },
   "outputs": [],
   "source": [
    "%%time\n",
    "# Attempt to read the Parquet file\n",
    "try:\n",
    "    df_meas_enelogic = pd.read_parquet(\n",
    "        enelogic_input_path, \n",
    "        engine='pyarrow',\n",
    "        dtype_backend='numpy_nullable'\n",
    "        )\n",
    "    print(\"File was successfully read without specifying compression codec.\")\n",
    "except Exception as e:\n",
    "    print(f\"Error reading file: {e}\")\n"
   ]
  },
  {
   "cell_type": "code",
   "execution_count": null,
   "id": "adc79d35-fa9c-403a-8dac-6bf0603ce6e5",
   "metadata": {},
   "outputs": [],
   "source": [
    "df_meas_enelogic.info()"
   ]
  },
  {
   "cell_type": "code",
   "execution_count": null,
   "id": "7133971d-9662-4b0e-ba67-8c2e19d2d793",
   "metadata": {},
   "outputs": [],
   "source": [
    "df_meas_enelogic.index.dtypes"
   ]
  },
  {
   "cell_type": "code",
   "execution_count": null,
   "id": "41919ac7-3111-4ec8-8350-6bf5a47fe1c2",
   "metadata": {},
   "outputs": [],
   "source": [
    "df_meas_enelogic"
   ]
  },
  {
   "cell_type": "code",
   "execution_count": null,
   "id": "029b8e88-6e52-4307-bcff-83b74906470b",
   "metadata": {},
   "outputs": [],
   "source": [
    "%%time\n",
    "df_meas_enelogic['value'] = df_meas_enelogic['value'].astype(str)"
   ]
  },
  {
   "cell_type": "code",
   "execution_count": null,
   "id": "63e5a444-af5a-4cd8-b931-286f5b215c57",
   "metadata": {},
   "outputs": [],
   "source": [
    "df_meas_enelogic.info()"
   ]
  },
  {
   "cell_type": "markdown",
   "id": "c2eeaf23-fba8-45b8-82c1-cad95ee796a4",
   "metadata": {},
   "source": [
    "## Read Remeha data"
   ]
  },
  {
   "cell_type": "code",
   "execution_count": null,
   "id": "4b0fbb76-2ad3-42ce-a83f-36052a57a750",
   "metadata": {},
   "outputs": [],
   "source": [
    "%%time\n",
    "# Attempt to read the Parquet file\n",
    "try:\n",
    "    df_meas_remeha = pd.read_parquet(\n",
    "        remeha_input_file_path, \n",
    "        engine='pyarrow',\n",
    "        dtype_backend='numpy_nullable'\n",
    "        )\n",
    "    print(\"File was successfully read without specifying compression codec.\")\n",
    "except Exception as e:\n",
    "    print(f\"Error reading file: {e}\")\n"
   ]
  },
  {
   "cell_type": "code",
   "execution_count": null,
   "id": "12787eb3-d7fb-446c-be1f-b61eea93d311",
   "metadata": {},
   "outputs": [],
   "source": [
    "df_meas_remeha.info()"
   ]
  },
  {
   "cell_type": "code",
   "execution_count": null,
   "id": "f6cad0a5-937d-4137-9c4e-d55043167fca",
   "metadata": {},
   "outputs": [],
   "source": [
    "df_meas_remeha.index.dtypes"
   ]
  },
  {
   "cell_type": "code",
   "execution_count": null,
   "id": "09d6c8e4-59b1-4380-af6c-57d0459952b2",
   "metadata": {},
   "outputs": [],
   "source": [
    "df_meas_remeha"
   ]
  },
  {
   "cell_type": "code",
   "execution_count": null,
   "id": "a8b70789-79c5-4619-9167-bc11ecc94d71",
   "metadata": {},
   "outputs": [],
   "source": [
    "%%time\n",
    "df_meas_remeha['value'] = df_meas_remeha['value'].astype(str)"
   ]
  },
  {
   "cell_type": "code",
   "execution_count": null,
   "id": "cb921e6f-a236-4188-b879-cf5a14d7c8c6",
   "metadata": {},
   "outputs": [],
   "source": [
    "df_meas_remeha.info()"
   ]
  },
  {
   "cell_type": "markdown",
   "id": "ff628ae1-4406-4ed8-a579-d7fe2f589a87",
   "metadata": {},
   "source": [
    "## Merge measurements\n"
   ]
  },
  {
   "cell_type": "code",
   "execution_count": null,
   "id": "af7548f8-3103-4e45-95b2-ea9120eddd8a",
   "metadata": {},
   "outputs": [],
   "source": [
    "%%time\n",
    "df_meas = pd.concat([df_meas_nfh, df_meas_enelogic, df_meas_remeha])"
   ]
  },
  {
   "cell_type": "code",
   "execution_count": null,
   "id": "a0819a3a-dc5c-45cc-afb8-d0a0ea6e4cab",
   "metadata": {},
   "outputs": [],
   "source": [
    "df_meas.index.dtypes"
   ]
  },
  {
   "cell_type": "code",
   "execution_count": null,
   "id": "293976cc-9b76-4c53-8237-91630c0b0c43",
   "metadata": {},
   "outputs": [],
   "source": [
    "%%time\n",
    "# Reset the index to convert the MultiIndex back to columns\n",
    "df_meas_reset = df_meas.reset_index()\n",
    "\n",
    "# Convert relevant columns to categorical type\n",
    "df_meas_reset['source_category'] = df_meas_reset['source_category'].astype('category')\n",
    "df_meas_reset['source_type'] = df_meas_reset['source_type'].astype('category')\n",
    "df_meas_reset['property'] = df_meas_reset['property'].astype('category')\n",
    "\n",
    "# Set the columns back to a MultiIndex\n",
    "df_meas = df_meas_reset.set_index(['id', 'source_category', 'source_type', 'timestamp', 'property'])\n"
   ]
  },
  {
   "cell_type": "code",
   "execution_count": null,
   "id": "8e291638-5126-44a9-9afa-b9de05ed6034",
   "metadata": {},
   "outputs": [],
   "source": [
    "df_meas.index.dtypes"
   ]
  },
  {
   "cell_type": "markdown",
   "id": "c5044830-aa70-43ab-9b69-461c45b8489c",
   "metadata": {},
   "source": [
    "## Get and merge geospatially interpolated KNMI weather measurements"
   ]
  },
  {
   "cell_type": "code",
   "execution_count": null,
   "id": "6cee8efd-6be4-4cc1-b4ba-41216be40892",
   "metadata": {},
   "outputs": [],
   "source": [
    "%%time\n",
    "# read home data from Parquet file\n",
    "try:\n",
    "    df_homes = pd.read_parquet(\n",
    "        home_data_file_path, \n",
    "        engine='pyarrow',\n",
    "        dtype_backend='numpy_nullable'\n",
    "        )\n",
    "    print(\"File was successfully read without specifying compression codec.\")\n",
    "except Exception as e:\n",
    "    print(f\"Error reading file: {e}\")\n"
   ]
  },
  {
   "cell_type": "code",
   "execution_count": null,
   "id": "d1fe9bcb-6d3e-46d2-8f88-d6250498fa08",
   "metadata": {},
   "outputs": [],
   "source": [
    "%%time\n",
    "%autoreload 2\n",
    "df_meas_weather = WeatherMeasurements.get_nfh_weather_measurements(df_meas, df_homes)"
   ]
  },
  {
   "cell_type": "code",
   "execution_count": null,
   "id": "f8da265d-91a8-468e-9f12-74499e86f6fd",
   "metadata": {},
   "outputs": [],
   "source": [
    "df_meas_weather.info()"
   ]
  },
  {
   "cell_type": "code",
   "execution_count": null,
   "id": "eeaaca27-8398-4489-8d32-4a27d28703a8",
   "metadata": {},
   "outputs": [],
   "source": [
    "df_meas_weather.index.dtypes"
   ]
  },
  {
   "cell_type": "code",
   "execution_count": null,
   "id": "e63db4e4-ca07-41db-9831-9466248866fc",
   "metadata": {},
   "outputs": [],
   "source": [
    "# Describe statistics across all properties\n",
    "df_meas_weather['value'].unstack('property').describe().T"
   ]
  },
  {
   "cell_type": "markdown",
   "id": "1af947b4-4d25-49ce-a5d3-d4440d06cb6e",
   "metadata": {},
   "source": [
    "## Merge weather measurements\n"
   ]
  },
  {
   "cell_type": "code",
   "execution_count": null,
   "id": "da397c16-167b-49a8-a26b-09d5c5b4f539",
   "metadata": {},
   "outputs": [],
   "source": [
    "%%time\n",
    "df_meas_weather['value'] = df_meas_weather['value'].astype(str)"
   ]
  },
  {
   "cell_type": "code",
   "execution_count": null,
   "id": "4e5f97da-63b3-4ad4-a1ca-38b976a11789",
   "metadata": {},
   "outputs": [],
   "source": [
    "%%time\n",
    "df_meas = pd.concat([df_meas, df_meas_weather])"
   ]
  },
  {
   "cell_type": "code",
   "execution_count": null,
   "id": "d07ed15b-8a2d-4f91-8345-e8ca27cea315",
   "metadata": {},
   "outputs": [],
   "source": [
    "df_meas.index.dtypes"
   ]
  },
  {
   "cell_type": "code",
   "execution_count": null,
   "id": "72fd82e6-a5ac-4194-b52f-d2c254d8771a",
   "metadata": {},
   "outputs": [],
   "source": [
    "%%time\n",
    "# Reset the index to convert the MultiIndex back to columns\n",
    "df_meas_reset = df_meas.reset_index()\n",
    "\n",
    "# Convert relevant columns to categorical type\n",
    "df_meas_reset['source_category'] = df_meas_reset['source_category'].astype('category')\n",
    "df_meas_reset['source_type'] = df_meas_reset['source_type'].astype('category')\n",
    "df_meas_reset['property'] = df_meas_reset['property'].astype('category')\n",
    "\n",
    "# Set the columns back to a MultiIndex\n",
    "df_meas = df_meas_reset.set_index(['id', 'source_category', 'source_type', 'timestamp', 'property'])"
   ]
  },
  {
   "cell_type": "code",
   "execution_count": null,
   "id": "bd3471e2-d1df-4405-92e5-84bbe06f68fc",
   "metadata": {},
   "outputs": [],
   "source": [
    "df_meas.index.dtypes"
   ]
  },
  {
   "cell_type": "markdown",
   "id": "27d7e465-ddfc-4d9a-bc9e-29c7c78abff0",
   "metadata": {},
   "source": [
    "## Initial exploration: size, ids, start & stop times per id"
   ]
  },
  {
   "cell_type": "code",
   "execution_count": null,
   "id": "c4f3a0d5-6107-42a9-b224-5669d59c23de",
   "metadata": {},
   "outputs": [],
   "source": [
    "df_meas.info()"
   ]
  },
  {
   "cell_type": "code",
   "execution_count": null,
   "id": "ad75bf71-2681-4590-ac70-f46910eb8252",
   "metadata": {},
   "outputs": [],
   "source": [
    "df_meas.index.dtypes"
   ]
  },
  {
   "cell_type": "code",
   "execution_count": null,
   "id": "80640538-b34e-4afc-b653-4a0e9f4b7a4f",
   "metadata": {},
   "outputs": [],
   "source": [
    "print(f\"len(df_meas): {len(df_meas):_}\")"
   ]
  },
  {
   "cell_type": "code",
   "execution_count": null,
   "id": "155a0bd1-d13e-41e1-aef8-cf431bcf3005",
   "metadata": {},
   "outputs": [],
   "source": [
    "%%time\n",
    "# deduplicate the measurements\n",
    "df_meas = df_meas.reset_index().drop_duplicates().set_index(['id', 'source_category', 'source_type', 'timestamp', 'property']).sort_index()"
   ]
  },
  {
   "cell_type": "code",
   "execution_count": null,
   "id": "0e7f5602-064a-4398-9586-8c1ebe8e6331",
   "metadata": {},
   "outputs": [],
   "source": [
    "print(f\"len(df_meas): {len(df_meas):_}\")"
   ]
  },
  {
   "cell_type": "code",
   "execution_count": null,
   "id": "908c9cc7-9a67-49dd-8011-a0302568214b",
   "metadata": {},
   "outputs": [],
   "source": [
    "list(df_meas.index.get_level_values('id').unique())"
   ]
  },
  {
   "cell_type": "code",
   "execution_count": null,
   "id": "78972837-9db0-48a8-af3d-2f93e92c7e42",
   "metadata": {},
   "outputs": [],
   "source": [
    "len(df_meas.index.get_level_values('id').unique())"
   ]
  },
  {
   "cell_type": "code",
   "execution_count": null,
   "id": "c1327359-e2f9-47aa-8019-893c49fc1921",
   "metadata": {},
   "outputs": [],
   "source": [
    "%%time\n",
    "df_meas.reset_index().groupby(['id', 'source_type'], observed=True)['timestamp'].agg(['min', 'max'])"
   ]
  },
  {
   "cell_type": "code",
   "execution_count": null,
   "id": "454caebb-5296-47fc-8e6e-8e4909cb5f45",
   "metadata": {},
   "outputs": [],
   "source": [
    "print(f\"df_meas['value'].count(): {df_meas['value'].count():_}\")"
   ]
  },
  {
   "cell_type": "code",
   "execution_count": null,
   "id": "d2ed6c3c-4ebc-4de2-b686-c91001b47a8e",
   "metadata": {},
   "outputs": [],
   "source": [
    "df_meas.duplicated().any()"
   ]
  },
  {
   "cell_type": "code",
   "execution_count": null,
   "id": "d6a38034-637b-41b8-939f-49afef8d8d98",
   "metadata": {},
   "outputs": [],
   "source": [
    "df_meas.info()"
   ]
  },
  {
   "cell_type": "code",
   "execution_count": null,
   "id": "f75fc861-a495-4129-bbc8-19e8d662c7e2",
   "metadata": {},
   "outputs": [],
   "source": [
    "df_meas.describe()"
   ]
  },
  {
   "cell_type": "code",
   "execution_count": null,
   "id": "50884d10-c8ed-4a49-89bf-90dfcf856d14",
   "metadata": {},
   "outputs": [],
   "source": [
    "df_meas"
   ]
  },
  {
   "cell_type": "code",
   "execution_count": null,
   "id": "ae204e9a-0a12-4f2a-a0ba-edb5c9a67076",
   "metadata": {},
   "outputs": [],
   "source": [
    "list(df_meas.index.get_level_values('source_category').unique())"
   ]
  },
  {
   "cell_type": "code",
   "execution_count": null,
   "id": "9b1ae630-517a-4cdd-8860-3a54324b693c",
   "metadata": {},
   "outputs": [],
   "source": [
    "list(df_meas.index.get_level_values('source_type').unique())"
   ]
  },
  {
   "cell_type": "code",
   "execution_count": null,
   "id": "36766252-b2b1-4b3b-89c2-99ea20121044",
   "metadata": {},
   "outputs": [],
   "source": [
    "list(df_meas.index.get_level_values('property').unique())"
   ]
  },
  {
   "cell_type": "code",
   "execution_count": null,
   "id": "e3a23274-47f1-4088-8890-1646f570ebfb",
   "metadata": {},
   "outputs": [],
   "source": [
    "df_meas.groupby(['source_type'], observed=True).size()"
   ]
  },
  {
   "cell_type": "code",
   "execution_count": null,
   "id": "a70e402f-fbe5-4ccf-bcd6-e41daf1e2473",
   "metadata": {},
   "outputs": [],
   "source": [
    "df_meas.groupby(['source_category', 'source_type', 'property'], observed=True).size()"
   ]
  },
  {
   "cell_type": "code",
   "execution_count": null,
   "id": "42ecb7b1-6ed0-46da-b6d7-8c9083198cd0",
   "metadata": {},
   "outputs": [],
   "source": [
    "print(f\"df_meas.count().sum(): {df_meas.count().sum():_}\")"
   ]
  },
  {
   "cell_type": "markdown",
   "id": "905b78f8-c75d-4950-b32c-d5486f4092ea",
   "metadata": {},
   "source": [
    "## Write to parquet file(s)"
   ]
  },
  {
   "cell_type": "code",
   "execution_count": null,
   "id": "7ed258e3-0ec5-45b4-9616-284ac79eea13",
   "metadata": {},
   "outputs": [],
   "source": [
    "df_meas.index.dtypes"
   ]
  },
  {
   "cell_type": "code",
   "execution_count": null,
   "id": "e9746bdd-543d-4176-8fed-7dbb86ec0352",
   "metadata": {},
   "outputs": [],
   "source": [
    "%%time \n",
    "# Convert the 'value' column to string type\n",
    "df_meas['value'] = df_meas['value'].astype(str)"
   ]
  },
  {
   "cell_type": "code",
   "execution_count": null,
   "id": "02519865-0fc1-4d06-8141-1ba6c4425010",
   "metadata": {},
   "outputs": [],
   "source": [
    "%%time \n",
    "df_meas.to_parquet(rhc_output_file_path, index=True, engine='pyarrow')"
   ]
  },
  {
   "cell_type": "code",
   "execution_count": null,
   "id": "4c2c9c7a-3db0-4c33-a1f2-818425a0589a",
   "metadata": {},
   "outputs": [],
   "source": [
    "# # uncomment this code to enable it \n",
    "# %%time \n",
    "# for home_id in tqdm(df_meas.index.get_level_values('id').unique()):\n",
    "#     df_meas.xs(home_id, drop_level=False).to_parquet(f'{home_id}_raw_measurements.parquet', index=True, engine='pyarrow')"
   ]
  },
  {
   "cell_type": "code",
   "execution_count": null,
   "id": "f9799e7b-e8df-4f51-adf5-5371e09ffe29",
   "metadata": {},
   "outputs": [],
   "source": []
  },
  {
   "cell_type": "code",
   "execution_count": null,
   "id": "5306f1db-e450-4364-a324-1fe4887ac04f",
   "metadata": {},
   "outputs": [],
   "source": []
  }
 ],
 "metadata": {
  "kernelspec": {
   "display_name": "Python 3 (ipykernel)",
   "language": "python",
   "name": "python3"
  },
  "language_info": {
   "codemirror_mode": {
    "name": "ipython",
    "version": 3
   },
   "file_extension": ".py",
   "mimetype": "text/x-python",
   "name": "python",
   "nbconvert_exporter": "python",
   "pygments_lexer": "ipython3",
   "version": "3.11.6"
  }
 },
 "nbformat": 4,
 "nbformat_minor": 5
}
