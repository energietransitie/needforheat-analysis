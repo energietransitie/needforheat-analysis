{
 "cells": [
  {
   "cell_type": "markdown",
   "id": "22b53423-6eaa-4def-b594-03eae139d26c",
   "metadata": {},
   "source": [
    "# REDUCEDHEATCARB sanity check"
   ]
  },
  {
   "cell_type": "code",
   "execution_count": null,
   "id": "d628c358-cdb2-4f7a-a390-a366ac508ba7",
   "metadata": {},
   "outputs": [],
   "source": [
    "import pandas as pd\n",
    "import numpy as np\n",
    "\n",
    "rhc_file_path='reducedheatcarb_raw_measurements.parquet'\n",
    "# usually, two decimals suffice for displaying DataFrames (NB internally, precision may be higher)\n",
    "pd.options.display.precision = 2\n",
    "\n",
    "import sys\n",
    "sys.path.append('../data/')\n",
    "sys.path.append('../view/')\n",
    "\n",
    "%load_ext autoreload\n",
    "\n",
    "\n",
    "%matplotlib inline\n",
    "%matplotlib widget\n",
    "import pylab as plt\n",
    "import itertools\n",
    "from plotter import Plot\n",
    "from tqdm.notebook import tqdm"
   ]
  },
  {
   "cell_type": "code",
   "execution_count": null,
   "id": "4a19d007-dc16-436f-97bd-089596c0d66f",
   "metadata": {},
   "outputs": [],
   "source": [
    "units_to_mathtext = property_types = {\n",
    "    'ppm' : r'$ppm$',\n",
    "    'kWh' : r'$kWh$',\n",
    "    'm3' : r'$m^{3}$',\n",
    "    'degC' : r'$°C$',\n",
    "    'W' : r'$W$',\n",
    "    'V' : r'$V$',\n",
    "    '0' : r'$[-]$',\n",
    "    'bool': r'$0 = False; 1 = True$',\n",
    "    'W_m_2' : r'$W\\cdotm^{-1}$'\n",
    "}"
   ]
  },
  {
   "cell_type": "code",
   "execution_count": null,
   "id": "5b7da069-dedc-44ae-a9a2-df378961dfaf",
   "metadata": {
    "scrolled": true
   },
   "outputs": [],
   "source": [
    "%%time\n",
    "# Attempt to read the Parquet file\n",
    "try:\n",
    "    df = pd.read_parquet(\n",
    "        rhc_file_path, \n",
    "        engine='pyarrow',\n",
    "        use_nullable_dtypes=True\n",
    "        )\n",
    "    print(\"File was successfully read without specifying compression codec.\")\n",
    "except Exception as e:\n",
    "    print(f\"Error reading file: {e}\")\n"
   ]
  },
  {
   "cell_type": "code",
   "execution_count": null,
   "id": "adc79d35-fa9c-403a-8dac-6bf0603ce6e5",
   "metadata": {},
   "outputs": [],
   "source": [
    "df.info()"
   ]
  },
  {
   "cell_type": "code",
   "execution_count": null,
   "id": "41919ac7-3111-4ec8-8350-6bf5a47fe1c2",
   "metadata": {},
   "outputs": [],
   "source": [
    "df"
   ]
  },
  {
   "cell_type": "markdown",
   "id": "c5044830-aa70-43ab-9b69-461c45b8489c",
   "metadata": {},
   "source": [
    "## Initial exploration: size, ids, start & stop times per id"
   ]
  },
  {
   "cell_type": "code",
   "execution_count": null,
   "id": "c4f3a0d5-6107-42a9-b224-5669d59c23de",
   "metadata": {},
   "outputs": [],
   "source": [
    "df.info()"
   ]
  },
  {
   "cell_type": "code",
   "execution_count": null,
   "id": "80640538-b34e-4afc-b653-4a0e9f4b7a4f",
   "metadata": {},
   "outputs": [],
   "source": [
    "len(df)"
   ]
  },
  {
   "cell_type": "code",
   "execution_count": null,
   "id": "155a0bd1-d13e-41e1-aef8-cf431bcf3005",
   "metadata": {},
   "outputs": [],
   "source": [
    "%%time\n",
    "# deduplicate the measurements\n",
    "df = df.reset_index().drop_duplicates().set_index(['id', 'source_category', 'source_type', 'timestamp', 'property']).sort_index()"
   ]
  },
  {
   "cell_type": "code",
   "execution_count": null,
   "id": "0e7f5602-064a-4398-9586-8c1ebe8e6331",
   "metadata": {},
   "outputs": [],
   "source": [
    "len(df)"
   ]
  },
  {
   "cell_type": "code",
   "execution_count": null,
   "id": "908c9cc7-9a67-49dd-8011-a0302568214b",
   "metadata": {},
   "outputs": [],
   "source": [
    "list(df.index.get_level_values('id').unique())"
   ]
  },
  {
   "cell_type": "code",
   "execution_count": null,
   "id": "78972837-9db0-48a8-af3d-2f93e92c7e42",
   "metadata": {},
   "outputs": [],
   "source": [
    "len(df.index.get_level_values('id').unique())"
   ]
  },
  {
   "cell_type": "code",
   "execution_count": null,
   "id": "c1327359-e2f9-47aa-8019-893c49fc1921",
   "metadata": {},
   "outputs": [],
   "source": [
    "%%time\n",
    "df.reset_index().groupby(['id', 'source_type'])['timestamp'].agg(['min', 'max'])"
   ]
  },
  {
   "cell_type": "code",
   "execution_count": null,
   "id": "454caebb-5296-47fc-8e6e-8e4909cb5f45",
   "metadata": {},
   "outputs": [],
   "source": [
    "df['value'].count()"
   ]
  },
  {
   "cell_type": "code",
   "execution_count": null,
   "id": "d2ed6c3c-4ebc-4de2-b686-c91001b47a8e",
   "metadata": {},
   "outputs": [],
   "source": [
    "df.duplicated().any()"
   ]
  },
  {
   "cell_type": "code",
   "execution_count": null,
   "id": "d6a38034-637b-41b8-939f-49afef8d8d98",
   "metadata": {},
   "outputs": [],
   "source": [
    "df.info()"
   ]
  },
  {
   "cell_type": "code",
   "execution_count": null,
   "id": "f75fc861-a495-4129-bbc8-19e8d662c7e2",
   "metadata": {},
   "outputs": [],
   "source": [
    "df.describe()"
   ]
  },
  {
   "cell_type": "code",
   "execution_count": null,
   "id": "50884d10-c8ed-4a49-89bf-90dfcf856d14",
   "metadata": {},
   "outputs": [],
   "source": [
    "df"
   ]
  },
  {
   "cell_type": "code",
   "execution_count": null,
   "id": "ae204e9a-0a12-4f2a-a0ba-edb5c9a67076",
   "metadata": {},
   "outputs": [],
   "source": [
    "list(df.index.get_level_values('source_category').unique())"
   ]
  },
  {
   "cell_type": "code",
   "execution_count": null,
   "id": "9b1ae630-517a-4cdd-8860-3a54324b693c",
   "metadata": {},
   "outputs": [],
   "source": [
    "list(df.index.get_level_values('source_type').unique())"
   ]
  },
  {
   "cell_type": "code",
   "execution_count": null,
   "id": "36766252-b2b1-4b3b-89c2-99ea20121044",
   "metadata": {},
   "outputs": [],
   "source": [
    "list(df.index.get_level_values('property').unique())"
   ]
  },
  {
   "cell_type": "code",
   "execution_count": null,
   "id": "e3a23274-47f1-4088-8890-1646f570ebfb",
   "metadata": {},
   "outputs": [],
   "source": [
    "df.groupby(['source_type']).size()"
   ]
  },
  {
   "cell_type": "code",
   "execution_count": null,
   "id": "a70e402f-fbe5-4ccf-bcd6-e41daf1e2473",
   "metadata": {},
   "outputs": [],
   "source": [
    "df.groupby(['source_category', 'source_type', 'property']).size()"
   ]
  },
  {
   "cell_type": "markdown",
   "id": "fbd34d6b-624c-470e-bfaa-325fe14811f5",
   "metadata": {},
   "source": [
    "## Plot data\n"
   ]
  },
  {
   "cell_type": "code",
   "execution_count": null,
   "id": "06071240-ba84-4162-a15c-ea33c8dc7dcf",
   "metadata": {},
   "outputs": [],
   "source": [
    "Plot.nfh_measurements_plot(df, properties = ['temp_in__degC'], ids = [412715])\n"
   ]
  },
  {
   "cell_type": "code",
   "execution_count": null,
   "id": "fe89d300-569f-4dd3-8ea4-08b9ff8bab04",
   "metadata": {},
   "outputs": [],
   "source": [
    "Plot.nfh_measurements_plot(df, properties = ['temp_in__degC'])"
   ]
  },
  {
   "cell_type": "code",
   "execution_count": null,
   "id": "efd2092c-fbe6-42f9-b030-6483c67c90ae",
   "metadata": {},
   "outputs": [],
   "source": [
    "Plot.nfh_measurements_plot(df, properties = ['battery_voltage__V', 'co2__ppm'])"
   ]
  },
  {
   "cell_type": "code",
   "execution_count": null,
   "id": "ee29557a-f77b-4e21-91fc-27996c704db2",
   "metadata": {},
   "outputs": [],
   "source": [
    "# Plot.nfh_measurements_plot(df, source_types = ['enelogic'], ids = [412715])\n",
    "# Plot.nfh_measurements_plot(df, source_types = ['enelogic'], ids = [404873])\n",
    "\n",
    "Plot.nfh_measurements_plot(df, source_types = ['enelogic'])\n"
   ]
  },
  {
   "cell_type": "code",
   "execution_count": null,
   "id": "d81c0644-dcf1-441f-b7f9-c1024492b2f7",
   "metadata": {},
   "outputs": [],
   "source": [
    "# Plot.nfh_measurements_plot(df, source_types = ['twomes-p1-reader-firmware'], ids = [412715])\n",
    "# Plot.nfh_measurements_plot(df, source_types = ['twomes-p1-reader-firmware'], ids = [404873])\n",
    "\n",
    "Plot.nfh_measurements_plot(df, source_types = ['twomes-p1-reader-firmware'])\n"
   ]
  },
  {
   "cell_type": "code",
   "execution_count": null,
   "id": "5e2ce965-d110-499e-9e65-ffc3f99629d7",
   "metadata": {},
   "outputs": [],
   "source": [
    "Plot.nfh_measurements_plot(df, source_types = ['enelogic', 'twomes-p1-reader-firmware'], units = ['kWh'], ids = [412715])\n",
    "# Plot.nfh_measurements_plot(df, source_types = ['enelogic', 'twomes-p1-reader-firmware'], ids = [404873])\n",
    "# Plot.nfh_measurements_plot(df, source_types = ['enelogic', 'twomes-p1-reader-firmware'])"
   ]
  },
  {
   "cell_type": "code",
   "execution_count": null,
   "id": "a057ff17-67bb-4744-8952-1faacef3e501",
   "metadata": {},
   "outputs": [],
   "source": [
    "Plot.nfh_measurements_plot(df, source_types = ['twomes-co2-occupancy-scd41-m5coreink-firmware'], ids = [412715])\n",
    "# Plot.nfh_measurements_plot(df, source_types = ['twomes-co2-occupancy-scd41-m5coreink-firmware'], ids = [404873])\n",
    "# Plot.nfh_measurements_plot(df, source_types = ['twomes-co2-occupancy-scd41-m5coreink-firmware'])"
   ]
  },
  {
   "cell_type": "code",
   "execution_count": null,
   "id": "6dbb205f-f817-4cf1-b60d-99e386be4ba9",
   "metadata": {},
   "outputs": [],
   "source": [
    "Plot.nfh_measurements_plot(df, source_types = ['twomes-co2-occupancy-scd41-m5coreink-firmware'], properties=['co2__ppm', 'onboarded__p', 'occupancy__p', 'temp_in__degC'], ids = [456638])\n",
    "# Plot.nfh_measurements_plot(df, source_types = ['twomes-co2-occupancy-scd41-m5coreink-firmware'], ids = [404873])\n",
    "# Plot.nfh_measurements_plot(df, source_types = ['twomes-co2-occupancy-scd41-m5coreink-firmware'])"
   ]
  },
  {
   "cell_type": "code",
   "execution_count": null,
   "id": "5cb70018-6841-405d-9892-fc67aef5e87c",
   "metadata": {},
   "outputs": [],
   "source": [
    "Plot.nfh_measurements_plot(df, properties=['temp_in__degC'])"
   ]
  },
  {
   "cell_type": "code",
   "execution_count": null,
   "id": "36019e02-2fb8-47d8-807e-e5117e7c9450",
   "metadata": {},
   "outputs": [],
   "source": [
    "Plot.nfh_measurements_plot(df, properties=['co2__ppm'])\n"
   ]
  },
  {
   "cell_type": "code",
   "execution_count": null,
   "id": "085c3adb-7295-4d89-8550-dfaad170a7f4",
   "metadata": {},
   "outputs": [],
   "source": [
    "Plot.nfh_measurements_plot(df, ids = [412715])\n",
    "# Plot.nfh_measurements_plot(df, ids = [404873])\n",
    "# Plot.nfh_measurements_plot(df)"
   ]
  },
  {
   "cell_type": "code",
   "execution_count": null,
   "id": "b0692c58-a4b0-4557-8dfe-2a61c24945b5",
   "metadata": {},
   "outputs": [],
   "source": []
  }
 ],
 "metadata": {
  "kernelspec": {
   "display_name": "Python 3 (ipykernel)",
   "language": "python",
   "name": "python3"
  },
  "language_info": {
   "codemirror_mode": {
    "name": "ipython",
    "version": 3
   },
   "file_extension": ".py",
   "mimetype": "text/x-python",
   "name": "python",
   "nbconvert_exporter": "python",
   "pygments_lexer": "ipython3",
   "version": "3.11.6"
  }
 },
 "nbformat": 4,
 "nbformat_minor": 5
}
