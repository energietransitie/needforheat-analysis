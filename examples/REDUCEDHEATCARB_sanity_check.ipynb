{
 "cells": [
  {
   "cell_type": "markdown",
   "id": "22b53423-6eaa-4def-b594-03eae139d26c",
   "metadata": {},
   "source": [
    "# REDUCEDHEATCARB sanity check"
   ]
  },
  {
   "cell_type": "code",
   "execution_count": null,
   "id": "d628c358-cdb2-4f7a-a390-a366ac508ba7",
   "metadata": {},
   "outputs": [],
   "source": [
    "import pandas as pd\n",
    "import numpy as np\n",
    "\n",
    "rhc_file_path='reducedheatcarb_raw_measurements.parquet'\n",
    "# usually, two decimals suffice for displaying DataFrames (NB internally, precision may be higher)\n",
    "pd.options.display.precision = 2\n",
    "\n",
    "import sys\n",
    "sys.path.append('../data/')\n",
    "sys.path.append('../view/')\n",
    "\n",
    "%load_ext autoreload\n",
    "\n",
    "\n",
    "%matplotlib inline\n",
    "%matplotlib widget\n",
    "import pylab as plt\n",
    "import itertools\n",
    "from plotter import Plot\n",
    "from tqdm.notebook import tqdm\n",
    "from preprocessor import Preprocessor"
   ]
  },
  {
   "cell_type": "code",
   "execution_count": null,
   "id": "4a19d007-dc16-436f-97bd-089596c0d66f",
   "metadata": {},
   "outputs": [],
   "source": [
    "units_to_mathtext = property_types = {\n",
    "    'ppm' : r'$ppm$',\n",
    "    'kWh' : r'$kWh$',\n",
    "    'm3' : r'$m^{3}$',\n",
    "    'degC' : r'$°C$',\n",
    "    'W' : r'$W$',\n",
    "    'V' : r'$V$',\n",
    "    '0' : r'$[-]$',\n",
    "    'bool': r'$0 = False; 1 = True$',\n",
    "    'W_m_2' : r'$W\\cdotm^{-1}$'\n",
    "}"
   ]
  },
  {
   "cell_type": "code",
   "execution_count": null,
   "id": "5b7da069-dedc-44ae-a9a2-df378961dfaf",
   "metadata": {
    "scrolled": true
   },
   "outputs": [],
   "source": [
    "%%time\n",
    "# Attempt to read the Parquet file\n",
    "try:\n",
    "    df = pd.read_parquet(\n",
    "        rhc_file_path, \n",
    "        engine='pyarrow',\n",
    "        use_nullable_dtypes=True\n",
    "        )\n",
    "    print(\"File was successfully read without specifying compression codec.\")\n",
    "except Exception as e:\n",
    "    print(f\"Error reading file: {e}\")\n"
   ]
  },
  {
   "cell_type": "code",
   "execution_count": null,
   "id": "adc79d35-fa9c-403a-8dac-6bf0603ce6e5",
   "metadata": {},
   "outputs": [],
   "source": [
    "df.info()"
   ]
  },
  {
   "cell_type": "code",
   "execution_count": null,
   "id": "41919ac7-3111-4ec8-8350-6bf5a47fe1c2",
   "metadata": {},
   "outputs": [],
   "source": [
    "df"
   ]
  },
  {
   "cell_type": "markdown",
   "id": "c5044830-aa70-43ab-9b69-461c45b8489c",
   "metadata": {},
   "source": [
    "## Initial exploration: size, ids, start & stop times per id"
   ]
  },
  {
   "cell_type": "code",
   "execution_count": null,
   "id": "c4f3a0d5-6107-42a9-b224-5669d59c23de",
   "metadata": {},
   "outputs": [],
   "source": [
    "df.info()"
   ]
  },
  {
   "cell_type": "code",
   "execution_count": null,
   "id": "155a0bd1-d13e-41e1-aef8-cf431bcf3005",
   "metadata": {},
   "outputs": [],
   "source": [
    "# As it turns out, the original reducedheatcarb dataset (without Enelogic data added afterwards) does not contain duplicates\n",
    "# As the code below typiclaly takes 1 - 2 minutes to run on a powerful serer, the code below which is commented out\n",
    "# you only need to deduplicate after adding data, e.g. after downloading more Enelogic data\n",
    "\n",
    "# %%time\n",
    "# # deduplicate the measurements\n",
    "# df = df.reset_index().drop_duplicates().set_index(['id', 'source_category', 'source_type', 'timestamp', 'property']).sort_index()"
   ]
  },
  {
   "cell_type": "code",
   "execution_count": null,
   "id": "c1327359-e2f9-47aa-8019-893c49fc1921",
   "metadata": {},
   "outputs": [],
   "source": [
    "%%time\n",
    "df_minmaxpersource = df.reset_index().groupby(['id', 'source_type'])['timestamp'].agg(['min', 'max'])"
   ]
  },
  {
   "cell_type": "code",
   "execution_count": null,
   "id": "1fa55017-ce89-4e56-8a26-ae74cdb54766",
   "metadata": {},
   "outputs": [],
   "source": [
    "df_minmaxpersource"
   ]
  },
  {
   "cell_type": "code",
   "execution_count": null,
   "id": "f75fc861-a495-4129-bbc8-19e8d662c7e2",
   "metadata": {},
   "outputs": [],
   "source": [
    "df.describe()"
   ]
  },
  {
   "cell_type": "code",
   "execution_count": null,
   "id": "45709599-c07b-476e-b962-91a5259bb369",
   "metadata": {},
   "outputs": [],
   "source": [
    "print('#ids: ', len(df.index.get_level_values('id').unique()))\n",
    "print('ids: ', list(df.index.get_level_values('id').unique()))\n",
    "\n",
    "print('source categories: ', list(df.index.get_level_values('source_category').unique()))\n",
    "print('source types: ', list(df.index.get_level_values('source_type').unique()))\n",
    "print('properties: ', list(df.index.get_level_values('property').unique()))\n",
    "\n",
    "print('values: ', df['value'].count())\n",
    "print('#values per: ', df.groupby(['source_type']).size())\n",
    "print('#values per: ', df.groupby(['source_category', 'source_type', 'property']).size())"
   ]
  },
  {
   "cell_type": "markdown",
   "id": "3a7c25c0-b4df-40dd-8132-13e28bdf7e1b",
   "metadata": {},
   "source": [
    "## Remove ids with only batch_import data from Remeha"
   ]
  },
  {
   "cell_type": "code",
   "execution_count": null,
   "id": "c6c1e597-821c-4e8d-82eb-1ecf7b50eea9",
   "metadata": {},
   "outputs": [],
   "source": [
    "df_size_per_id_and_source = df.groupby(['id', 'source_category']).size().unstack()\n",
    "\n",
    "\n",
    "# Select ids where both 'cloud_feed' and 'device' are not greater than 0\n",
    "filtered_ids = df_size_per_id_and_source[(df_size_per_id_and_source['cloud_feed'].fillna(0) <= 0) & (df_size_per_id_and_source['device'].fillna(0) <= 0)].index.tolist()\n",
    "\n",
    "print(\"Removing ids with only Remeha data, i.e. where both 'cloud_feed' and 'device' are not > 0:\")\n",
    "print(filtered_ids)\n",
    "\n",
    "# Remove rows associated with ids in filtered_ids\n",
    "df = df[~df.index.get_level_values('id').isin(filtered_ids)]"
   ]
  },
  {
   "cell_type": "code",
   "execution_count": null,
   "id": "b3238592-1261-4964-a2d3-7d22e5653d6a",
   "metadata": {},
   "outputs": [],
   "source": [
    "print('#ids: ', len(df.index.get_level_values('id').unique()))\n",
    "print('ids: ', list(df.index.get_level_values('id').unique()))\n",
    "\n",
    "print('source categories: ', list(df.index.get_level_values('source_category').unique()))\n",
    "print('source types: ', list(df.index.get_level_values('source_type').unique()))\n",
    "print('properties: ', list(df.index.get_level_values('property').unique()))\n",
    "\n",
    "print('values: ', df['value'].count())\n",
    "print('#values per: \\n', df.groupby(['source_type']).size())\n",
    "print('#values per: \\n', df.groupby(['source_category', 'source_type', 'property']).size())"
   ]
  },
  {
   "cell_type": "code",
   "execution_count": null,
   "id": "f78b2fd0-9777-40df-a8c0-3913e82f79c6",
   "metadata": {},
   "outputs": [],
   "source": [
    "df.info()"
   ]
  },
  {
   "cell_type": "code",
   "execution_count": null,
   "id": "6661b2f1-99c1-4d0d-9efe-7adff38d0168",
   "metadata": {},
   "outputs": [],
   "source": [
    "df.value.count()"
   ]
  },
  {
   "cell_type": "markdown",
   "id": "ce9b2b50-7745-4227-99ae-3d8bd2fc9625",
   "metadata": {},
   "source": [
    "## Add unit to hearbeat property"
   ]
  },
  {
   "cell_type": "code",
   "execution_count": null,
   "id": "5f4d1f19-5e52-4e2b-a9e4-5eb829c04cdb",
   "metadata": {},
   "outputs": [],
   "source": [
    "%%time\n",
    "\n",
    "# Boolean indexing to select rows where property equals 'heartbeat'\n",
    "heartbeat_rows = df.index.get_level_values('property') == 'heartbeat'\n",
    "\n",
    "# Reset index to modify column names\n",
    "df.reset_index(inplace=True)\n",
    "\n",
    "# Rename the 'property' column to 'heartbeat__0'\n",
    "df.loc[heartbeat_rows, 'property'] = 'heartbeat__0'\n",
    "\n",
    "# Set the index again\n",
    "df.set_index(['id', 'source_category', 'source_type', 'timestamp', 'property'], inplace=True)"
   ]
  },
  {
   "cell_type": "code",
   "execution_count": null,
   "id": "9cdafe4a-9166-47e1-a6cd-2dfd3c746e94",
   "metadata": {},
   "outputs": [],
   "source": [
    "print('#ids: ', len(df.index.get_level_values('id').unique()))\n",
    "print('ids: ', list(df.index.get_level_values('id').unique()))\n",
    "\n",
    "print('source categories: ', list(df.index.get_level_values('source_category').unique()))\n",
    "print('source types: ', list(df.index.get_level_values('source_type').unique()))\n",
    "print('properties: ', list(df.index.get_level_values('property').unique()))\n",
    "\n",
    "print('values: ', df['value'].count())\n",
    "print('#values per: \\n', df.groupby(['source_type']).size())\n",
    "print('#values per: \\n', df.groupby(['source_category', 'source_type', 'property']).size())"
   ]
  },
  {
   "cell_type": "markdown",
   "id": "a357d390-b85b-4a11-80d0-d784775a2b7b",
   "metadata": {},
   "source": [
    "## Preprocessing categorical data"
   ]
  },
  {
   "cell_type": "code",
   "execution_count": null,
   "id": "97fd8c65-c1b1-420b-bd1f-c68c5eda392a",
   "metadata": {},
   "outputs": [],
   "source": [
    "%%time\n",
    "# Extract the 'boiler_status__str' values from the DataFrame\n",
    "print(\"Unique categories for 'boiler_status__str':\", list(df[df.index.get_level_values('property') == 'boiler_status__str']['value'].unique()))\n",
    "\n"
   ]
  },
  {
   "cell_type": "code",
   "execution_count": null,
   "id": "a9289ea8-c304-48e2-8a8b-52274e557501",
   "metadata": {},
   "outputs": [],
   "source": [
    "# Rename columns based on the translation table\n",
    "boiler_status_categories = {\n",
    "    '0.0': 'boiler_status_standby',\n",
    "    '1.0': 'boiler_status_heat_demand',\n",
    "    '2.0': 'boiler_status_burner_start',\n",
    "    '3.0': 'boiler_status_burning_ch',\n",
    "    '4.0': 'boiler_status_burning_dhw',\n",
    "    '5.0': 'boiler_status_burner_stop',\n",
    "    '6.0': 'boiler_status_pump_post_run',\n",
    "    '7.0': 'boiler_status_cooling_active',\n",
    "    '8.0': 'boiler_status_controlled_stop',\n",
    "    '9.0': 'boiler_status_blocking_mode',\n",
    "    '10.0': 'boiler_status_locking_mode',\n",
    "    '11.0': 'boiler_status_cs_mode_l_ch',\n",
    "    '12.0': 'boiler_status_cs_mode_h_ch',\n",
    "    '13.0': 'boiler_status_cs_mode_hdhw',\n",
    "    '15.0': 'boiler_status_manual_hd_ch_on',\n",
    "    '16.0': 'boiler_status_boiler_frost_prot',\n",
    "    '17.0': 'boiler_status_de_air',\n",
    "    '18.0': 'boiler_status_cu_cooling',\n",
    "    '19.0': 'boiler_status_reset_in_progress',\n",
    "    '20.0': 'boiler_status_auto_filling',\n",
    "    '21.0': 'boiler_status_halted',\n",
    "    '22.0': 'boiler_status_forced_calibration',\n",
    "    '23.0': 'boiler_status_factory_test',\n",
    "    '200.0': 'boiler_status_device_mode',\n",
    "    '254.0': 'boiler_status_unknown'\n",
    "}"
   ]
  },
  {
   "cell_type": "code",
   "execution_count": null,
   "id": "6785212e-f43f-4120-ba55-3f896d3d2e1f",
   "metadata": {},
   "outputs": [],
   "source": [
    "%%time\n",
    "df = Preprocessor.encode_categorical_property_as_boolean_properties(df, 'boiler_status__str', boiler_status_categories)"
   ]
  },
  {
   "cell_type": "code",
   "execution_count": null,
   "id": "bdb3a46a-bd57-448a-87f6-a216c7498339",
   "metadata": {},
   "outputs": [],
   "source": [
    "print('#ids: ', len(df.index.get_level_values('id').unique()))\n",
    "print('ids: ', list(df.index.get_level_values('id').unique()))\n",
    "\n",
    "print('source categories: ', list(df.index.get_level_values('source_category').unique()))\n",
    "print('source types: ', list(df.index.get_level_values('source_type').unique()))\n",
    "print('properties: ', list(df.index.get_level_values('property').unique()))\n",
    "\n",
    "print('values: ', df['value'].count())\n",
    "print('#values per: \\n', df.groupby(['source_type']).size())\n",
    "print('#values per: \\n', df.groupby(['source_category', 'source_type', 'property']).size())"
   ]
  },
  {
   "cell_type": "code",
   "execution_count": null,
   "id": "d3d455e8-cafc-443c-a7f1-d69ef327dd1a",
   "metadata": {},
   "outputs": [],
   "source": [
    "# Extract the 'gas_valve__str' values from the DataFrame\n",
    "print('unique gas_valve__str values: ', list(df[df.index.get_level_values('property') == 'gas_valve__str']['value'].unique()))\n"
   ]
  },
  {
   "cell_type": "code",
   "execution_count": null,
   "id": "49e2cb82-92a0-42e0-b342-469793ab3afb",
   "metadata": {},
   "outputs": [],
   "source": [
    "# Rename columns based on the translation table\n",
    "gas_valve_categories = {\n",
    "    '0.0': 'gas_valve_open',\n",
    "    '1.0': 'gas_valve_closed',\n",
    "    '2.0': 'gas_valve_off'\n",
    "}\n"
   ]
  },
  {
   "cell_type": "code",
   "execution_count": null,
   "id": "ae91ce7e-94af-4427-bcdf-87d81b03dd33",
   "metadata": {},
   "outputs": [],
   "source": [
    "%%time\n",
    "df = Preprocessor.encode_categorical_property_as_boolean_properties(df, 'gas_valve__str', gas_valve_categories)"
   ]
  },
  {
   "cell_type": "code",
   "execution_count": null,
   "id": "f4cc7835-b2f4-42bf-9068-b7bf9aef2b52",
   "metadata": {},
   "outputs": [],
   "source": [
    "print('#ids: ', len(df.index.get_level_values('id').unique()))\n",
    "print('ids: ', list(df.index.get_level_values('id').unique()))\n",
    "\n",
    "print('source categories: ', list(df.index.get_level_values('source_category').unique()))\n",
    "print('source types: ', list(df.index.get_level_values('source_type').unique()))\n",
    "print('properties: ', list(df.index.get_level_values('property').unique()))\n",
    "\n",
    "print('values: ', df['value'].count())\n",
    "print('#values per: \\n', df.groupby(['source_type']).size())\n",
    "print('#values per: \\n', df.groupby(['source_category', 'source_type', 'property']).size())"
   ]
  },
  {
   "cell_type": "markdown",
   "id": "ba840e8e-4340-490f-9d0a-ddeb9560e12a",
   "metadata": {},
   "source": [
    "## Get unique combinations per id for smart meter type and version"
   ]
  },
  {
   "cell_type": "code",
   "execution_count": null,
   "id": "7d7450b3-3518-4111-9016-a25c196524fa",
   "metadata": {},
   "outputs": [],
   "source": [
    "# Extract the 'meter_code__str' values from the DataFrame\n",
    "print('unique meter_code__str values: ', list(df[df.index.get_level_values('property') == 'meter_code__str']['value'].unique()))\n",
    "\n",
    "# Extract the 'dsmr_version__0' values from the DataFrame\n",
    "print('unique dsmr_version__0 values: ', list(df[df.index.get_level_values('property') == 'dsmr_version__0']['value'].unique()))\n",
    "\n",
    "# Filter rows with 'meter_code__str' or 'dsmr_version__0' property\n",
    "filtered_df = df[df.index.get_level_values('property').isin(['meter_code__str', 'dsmr_version__0'])]\n",
    "\n",
    "# Unstack the DataFrame\n",
    "unstacked_df = filtered_df.unstack(level='property')\n",
    "\n",
    "# Find unique combinations for each id\n",
    "unique_combinations = unstacked_df.groupby(level='id').agg(lambda x: tuple(set(x.dropna())))\n",
    "\n",
    "# Display unique combinations for each id\n",
    "print(unique_combinations)"
   ]
  },
  {
   "cell_type": "markdown",
   "id": "e3c47624-9190-48d0-8a39-a2092ef45e20",
   "metadata": {},
   "source": [
    "## Remove smart meter type and version"
   ]
  },
  {
   "cell_type": "code",
   "execution_count": null,
   "id": "bbed22d0-b4ad-4f06-9718-b98543096d92",
   "metadata": {},
   "outputs": [],
   "source": [
    "%%time\n",
    "# Filter rows with 'meter_code__str' or 'dsmr_version__0' property\n",
    "df = df[~df.index.get_level_values('property').isin(['meter_code__str', 'dsmr_version__0'])]"
   ]
  },
  {
   "cell_type": "code",
   "execution_count": null,
   "id": "bb1c3d68-8dbf-41e0-ad53-0d82402668fa",
   "metadata": {},
   "outputs": [],
   "source": [
    "print('#ids: ', len(df.index.get_level_values('id').unique()))\n",
    "print('ids: ', list(df.index.get_level_values('id').unique()))\n",
    "\n",
    "print('source categories: ', list(df.index.get_level_values('source_category').unique()))\n",
    "print('source types: ', list(df.index.get_level_values('source_type').unique()))\n",
    "print('properties: ', list(df.index.get_level_values('property').unique()))\n",
    "\n",
    "print('values: ', df['value'].count())\n",
    "print('#values per: \\n', df.groupby(['source_type']).size())\n",
    "print('#values per: \\n', df.groupby(['source_category', 'source_type', 'property']).size())"
   ]
  },
  {
   "cell_type": "code",
   "execution_count": null,
   "id": "baffdab6-c5d7-46cc-bc31-3d5b01f194c2",
   "metadata": {},
   "outputs": [],
   "source": [
    "df.info()"
   ]
  },
  {
   "cell_type": "markdown",
   "id": "5d2cd79c-b13b-44b2-acaa-beee6e010601",
   "metadata": {},
   "source": [
    "## Convert all values to floats"
   ]
  },
  {
   "cell_type": "code",
   "execution_count": null,
   "id": "b97db143-6278-44d9-a30b-29c84c709c4b",
   "metadata": {},
   "outputs": [],
   "source": [
    "# Create a copy of the DataFrame\n",
    "df_copy = df.copy(deep=True)\n",
    "\n",
    "# Convert values to numeric in the copied DataFrame\n",
    "numeric_values = pd.to_numeric(df_copy['value'], errors='coerce').values\n",
    "\n",
    "# Now assign the modified column back to the original DataFrame\n",
    "df_copy['value'] = numeric_values"
   ]
  },
  {
   "cell_type": "code",
   "execution_count": null,
   "id": "db53406e-9060-4329-9cd4-ca253874836c",
   "metadata": {},
   "outputs": [],
   "source": [
    "df = df_copy"
   ]
  },
  {
   "cell_type": "code",
   "execution_count": null,
   "id": "cd61ab3e-764c-435b-bc4d-053880987094",
   "metadata": {},
   "outputs": [],
   "source": [
    "df.info()"
   ]
  },
  {
   "cell_type": "code",
   "execution_count": null,
   "id": "0ecf1869-bb4e-4bd4-aaa0-46ccc43ed019",
   "metadata": {},
   "outputs": [],
   "source": [
    "df"
   ]
  },
  {
   "cell_type": "markdown",
   "id": "fbd34d6b-624c-470e-bfaa-325fe14811f5",
   "metadata": {},
   "source": [
    "## Plot data\n"
   ]
  },
  {
   "cell_type": "code",
   "execution_count": null,
   "id": "06071240-ba84-4162-a15c-ea33c8dc7dcf",
   "metadata": {},
   "outputs": [],
   "source": [
    "Plot.nfh_measurements_plot(df, properties = ['temp_in__degC'], ids = [412715])\n"
   ]
  },
  {
   "cell_type": "code",
   "execution_count": null,
   "id": "fe89d300-569f-4dd3-8ea4-08b9ff8bab04",
   "metadata": {},
   "outputs": [],
   "source": [
    "Plot.nfh_measurements_plot(df, properties = ['temp_in__degC'])"
   ]
  },
  {
   "cell_type": "code",
   "execution_count": null,
   "id": "efd2092c-fbe6-42f9-b030-6483c67c90ae",
   "metadata": {},
   "outputs": [],
   "source": [
    "Plot.nfh_measurements_plot(df, properties = ['battery_voltage__V', 'co2__ppm'])"
   ]
  },
  {
   "cell_type": "code",
   "execution_count": null,
   "id": "ee29557a-f77b-4e21-91fc-27996c704db2",
   "metadata": {},
   "outputs": [],
   "source": [
    "# Plot.nfh_measurements_plot(df, source_types = ['enelogic'], ids = [412715])\n",
    "# Plot.nfh_measurements_plot(df, source_types = ['enelogic'], ids = [404873])\n",
    "\n",
    "Plot.nfh_measurements_plot(df, source_types = ['enelogic'])\n"
   ]
  },
  {
   "cell_type": "code",
   "execution_count": null,
   "id": "d81c0644-dcf1-441f-b7f9-c1024492b2f7",
   "metadata": {},
   "outputs": [],
   "source": [
    "# Plot.nfh_measurements_plot(df, source_types = ['twomes-p1-reader-firmware'], ids = [412715])\n",
    "# Plot.nfh_measurements_plot(df, source_types = ['twomes-p1-reader-firmware'], ids = [404873])\n",
    "\n",
    "Plot.nfh_measurements_plot(df, source_types = ['twomes-p1-reader-firmware'])\n"
   ]
  },
  {
   "cell_type": "code",
   "execution_count": null,
   "id": "5e2ce965-d110-499e-9e65-ffc3f99629d7",
   "metadata": {},
   "outputs": [],
   "source": [
    "Plot.nfh_measurements_plot(df, source_types = ['enelogic', 'twomes-p1-reader-firmware'], units = ['kWh'], ids = [412715])\n",
    "# Plot.nfh_measurements_plot(df, source_types = ['enelogic', 'twomes-p1-reader-firmware'], ids = [404873])\n",
    "# Plot.nfh_measurements_plot(df, source_types = ['enelogic', 'twomes-p1-reader-firmware'])"
   ]
  },
  {
   "cell_type": "code",
   "execution_count": null,
   "id": "a057ff17-67bb-4744-8952-1faacef3e501",
   "metadata": {},
   "outputs": [],
   "source": [
    "Plot.nfh_measurements_plot(df, source_types = ['twomes-co2-occupancy-scd41-m5coreink-firmware'], ids = [412715])\n",
    "# Plot.nfh_measurements_plot(df, source_types = ['twomes-co2-occupancy-scd41-m5coreink-firmware'], ids = [404873])\n",
    "# Plot.nfh_measurements_plot(df, source_types = ['twomes-co2-occupancy-scd41-m5coreink-firmware'])"
   ]
  },
  {
   "cell_type": "code",
   "execution_count": null,
   "id": "6dbb205f-f817-4cf1-b60d-99e386be4ba9",
   "metadata": {},
   "outputs": [],
   "source": [
    "Plot.nfh_measurements_plot(df, source_types = ['twomes-co2-occupancy-scd41-m5coreink-firmware'], properties=['co2__ppm', 'onboarded__p', 'occupancy__p', 'temp_in__degC'], ids = [456638])\n",
    "# Plot.nfh_measurements_plot(df, source_types = ['twomes-co2-occupancy-scd41-m5coreink-firmware'], ids = [404873])\n",
    "# Plot.nfh_measurements_plot(df, source_types = ['twomes-co2-occupancy-scd41-m5coreink-firmware'])"
   ]
  },
  {
   "cell_type": "code",
   "execution_count": null,
   "id": "5cb70018-6841-405d-9892-fc67aef5e87c",
   "metadata": {},
   "outputs": [],
   "source": [
    "Plot.nfh_measurements_plot(df, properties=['temp_in__degC'])"
   ]
  },
  {
   "cell_type": "code",
   "execution_count": null,
   "id": "36019e02-2fb8-47d8-807e-e5117e7c9450",
   "metadata": {},
   "outputs": [],
   "source": [
    "Plot.nfh_measurements_plot(df, properties=['co2__ppm'])\n"
   ]
  },
  {
   "cell_type": "code",
   "execution_count": null,
   "id": "085c3adb-7295-4d89-8550-dfaad170a7f4",
   "metadata": {},
   "outputs": [],
   "source": [
    "Plot.nfh_measurements_plot(df, ids = [412715])\n",
    "# Plot.nfh_measurements_plot(df, ids = [404873])\n",
    "# Plot.nfh_measurements_plot(df)"
   ]
  },
  {
   "cell_type": "code",
   "execution_count": null,
   "id": "b0692c58-a4b0-4557-8dfe-2a61c24945b5",
   "metadata": {},
   "outputs": [],
   "source": []
  }
 ],
 "metadata": {
  "kernelspec": {
   "display_name": "Python 3 (ipykernel)",
   "language": "python",
   "name": "python3"
  },
  "language_info": {
   "codemirror_mode": {
    "name": "ipython",
    "version": 3
   },
   "file_extension": ".py",
   "mimetype": "text/x-python",
   "name": "python",
   "nbconvert_exporter": "python",
   "pygments_lexer": "ipython3",
   "version": "3.11.6"
  }
 },
 "nbformat": 4,
 "nbformat_minor": 5
}
