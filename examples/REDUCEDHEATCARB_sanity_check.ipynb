{
 "cells": [
  {
   "cell_type": "markdown",
   "id": "22b53423-6eaa-4def-b594-03eae139d26c",
   "metadata": {},
   "source": [
    "# REDUCEDHEATCARB sanity check"
   ]
  },
  {
   "cell_type": "code",
   "execution_count": null,
   "id": "d628c358-cdb2-4f7a-a390-a366ac508ba7",
   "metadata": {},
   "outputs": [],
   "source": [
    "import pandas as pd\n",
    "import numpy as np\n",
    "\n",
    "rhc_file_path='rhc_raw_measurements.parquet'\n",
    "rhc_file_write_path='rhc_sane_measurements.parquet'\n",
    "rhc_raw_properties_file_path='rhc_raw_properties.parquet'\n",
    "\n",
    "# usually, two decimals suffice for displaying DataFrames (NB internally, precision may be higher)\n",
    "pd.options.display.precision = 2\n",
    "\n",
    "import sys\n",
    "sys.path.append('../data/')\n",
    "sys.path.append('../view/')\n",
    "\n",
    "%load_ext autoreload\n",
    "\n",
    "\n",
    "%matplotlib inline\n",
    "%matplotlib widget\n",
    "import pylab as plt\n",
    "import itertools\n",
    "import gc\n",
    "\n",
    "from tqdm.notebook import tqdm\n",
    "from preprocessor import Preprocessor\n",
    "from measurements import Measurements"
   ]
  },
  {
   "cell_type": "code",
   "execution_count": null,
   "id": "5b7da069-dedc-44ae-a9a2-df378961dfaf",
   "metadata": {
    "scrolled": true
   },
   "outputs": [],
   "source": [
    "%%time\n",
    "# Attempt to read the Parquet file\n",
    "try:\n",
    "    df = pd.read_parquet(\n",
    "        rhc_file_path, \n",
    "        engine='pyarrow',\n",
    "        dtype_backend='numpy_nullable'\n",
    "        )\n",
    "    print(\"File was successfully read without specifying compression codec.\")\n",
    "except Exception as e:\n",
    "    print(f\"Error reading file: {e}\")\n"
   ]
  },
  {
   "cell_type": "code",
   "execution_count": null,
   "id": "adc79d35-fa9c-403a-8dac-6bf0603ce6e5",
   "metadata": {},
   "outputs": [],
   "source": [
    "df.info()"
   ]
  },
  {
   "cell_type": "code",
   "execution_count": null,
   "id": "93e4581e-2ee8-42b8-8d28-9522c513b036",
   "metadata": {},
   "outputs": [],
   "source": [
    "df.index.dtypes"
   ]
  },
  {
   "cell_type": "code",
   "execution_count": null,
   "id": "6aa0a197-ee1e-49b5-be20-3b985684c971",
   "metadata": {},
   "outputs": [],
   "source": [
    "print(f\"df.count().sum(): {df.count().sum():_}\")"
   ]
  },
  {
   "cell_type": "code",
   "execution_count": null,
   "id": "41919ac7-3111-4ec8-8350-6bf5a47fe1c2",
   "metadata": {},
   "outputs": [],
   "source": [
    "df"
   ]
  },
  {
   "cell_type": "markdown",
   "id": "c5044830-aa70-43ab-9b69-461c45b8489c",
   "metadata": {},
   "source": [
    "## Initial exploration: size, ids, start & stop times per id"
   ]
  },
  {
   "cell_type": "code",
   "execution_count": null,
   "id": "155a0bd1-d13e-41e1-aef8-cf431bcf3005",
   "metadata": {},
   "outputs": [],
   "source": [
    "# As it turns out, the original reducedheatcarb dataset (without Enelogic data added afterwards) does not contain duplicates\n",
    "# As the code below typiclaly takes 1 - 2 minutes to run on a powerful serer, the code below which is commented out\n",
    "# you only need to deduplicate after adding data, e.g. after downloading more Enelogic data\n",
    "\n",
    "# %%time\n",
    "# # deduplicate the measurements\n",
    "# df = df.reset_index().drop_duplicates().set_index(['id', 'source_category', 'source_type', 'timestamp', 'property']).sort_index()"
   ]
  },
  {
   "cell_type": "code",
   "execution_count": null,
   "id": "c1327359-e2f9-47aa-8019-893c49fc1921",
   "metadata": {},
   "outputs": [],
   "source": [
    "%%time\n",
    "df_minmaxpersource = df.reset_index().groupby(['id', 'source_type'])['timestamp'].agg(['min', 'max'])"
   ]
  },
  {
   "cell_type": "code",
   "execution_count": null,
   "id": "1fa55017-ce89-4e56-8a26-ae74cdb54766",
   "metadata": {},
   "outputs": [],
   "source": [
    "df_minmaxpersource"
   ]
  },
  {
   "cell_type": "code",
   "execution_count": null,
   "id": "f75fc861-a495-4129-bbc8-19e8d662c7e2",
   "metadata": {},
   "outputs": [],
   "source": [
    "df.describe()"
   ]
  },
  {
   "cell_type": "code",
   "execution_count": null,
   "id": "06379094-aa75-47a6-88fd-c82bf70c6c8d",
   "metadata": {},
   "outputs": [],
   "source": [
    "df.xs('enelogic', level='source_type', drop_level=False).reset_index().groupby(['id', 'source_category']).agg(first_timestamp=('timestamp', 'min'), last_timestamp=('timestamp', 'max')).sort_values('first_timestamp', ascending = True)"
   ]
  },
  {
   "cell_type": "markdown",
   "id": "3a7c25c0-b4df-40dd-8132-13e28bdf7e1b",
   "metadata": {},
   "source": [
    "## Remove ids with only batch_import data from Remeha"
   ]
  },
  {
   "cell_type": "code",
   "execution_count": null,
   "id": "c6c1e597-821c-4e8d-82eb-1ecf7b50eea9",
   "metadata": {},
   "outputs": [],
   "source": [
    "df_size_per_id_and_source = df.groupby(['id', 'source_category']).size().unstack()\n",
    "\n",
    "\n",
    "# Select ids where both 'cloud_feed' and 'device' are not greater than 0\n",
    "filtered_ids = df_size_per_id_and_source[(df_size_per_id_and_source['cloud_feed'].fillna(0) <= 0) & (df_size_per_id_and_source['device'].fillna(0) <= 0)].index.tolist()\n",
    "\n",
    "print(\"Removing ids with only Remeha data, i.e. where both 'cloud_feed' and 'device' are not > 0:\")\n",
    "print(filtered_ids)\n",
    "\n",
    "# Remove rows associated with ids in filtered_ids\n",
    "df = df[~df.index.get_level_values('id').isin(filtered_ids)]"
   ]
  },
  {
   "cell_type": "code",
   "execution_count": null,
   "id": "f78b2fd0-9777-40df-a8c0-3913e82f79c6",
   "metadata": {},
   "outputs": [],
   "source": [
    "df.info()"
   ]
  },
  {
   "cell_type": "code",
   "execution_count": null,
   "id": "d5298e54-dfd8-42c7-aee4-bf8a18ece58b",
   "metadata": {},
   "outputs": [],
   "source": [
    "print(f\"df.count().sum(): {df.count().sum():_}\")"
   ]
  },
  {
   "cell_type": "code",
   "execution_count": null,
   "id": "27f161cc-313c-4d6c-914e-db4b98dc4d1d",
   "metadata": {},
   "outputs": [],
   "source": [
    "print('#ids: ', len(df.index.unique(level='id').values))\n",
    "print('ids: ', list(df.index.unique(level='id')))\n",
    "print('source categories: ', list(df.index.unique(level='source_category')))\n",
    "print('source types: ', list(df.index.unique(level='source_type')))\n",
    "print('properties: ', list(df.index.unique(level='property')))\n",
    "\n",
    "print('values: ', df['value'].count())\n",
    "print('#values per: \\n', df.groupby(['source_type']).size())\n",
    "print('#values per: \\n', df.groupby(['source_category', 'source_type', 'property']).size())"
   ]
  },
  {
   "cell_type": "code",
   "execution_count": null,
   "id": "37f4e04e-c624-4c48-ad3f-eea7360e9862",
   "metadata": {},
   "outputs": [],
   "source": [
    "len(list(df.index.unique(level='property')))"
   ]
  },
  {
   "cell_type": "code",
   "execution_count": null,
   "id": "1ff62f62-9ab3-4310-846a-7534142cb855",
   "metadata": {},
   "outputs": [],
   "source": [
    "print('#values per: \\n', df.groupby(['source_category']).size())"
   ]
  },
  {
   "cell_type": "code",
   "execution_count": null,
   "id": "90f51929-03c8-4a86-ae28-026aa9d8278e",
   "metadata": {},
   "outputs": [],
   "source": [
    "# Access the 'property' level\n",
    "list(df.index.get_level_values('property').unique())"
   ]
  },
  {
   "cell_type": "markdown",
   "id": "1a7aa36a-3588-424e-9189-f0f82938b1b7",
   "metadata": {},
   "source": [
    "## Remove trailing decimals to avoid problems with int conversion\n"
   ]
  },
  {
   "cell_type": "code",
   "execution_count": null,
   "id": "96f311ed-4993-456b-9b28-f5a2fd431b02",
   "metadata": {},
   "outputs": [],
   "source": [
    "df['value'] = df['value'].str.replace(r'\\.0+$', '', regex=True)"
   ]
  },
  {
   "cell_type": "code",
   "execution_count": null,
   "id": "937369db-0956-4b13-921a-779f5ef30623",
   "metadata": {},
   "outputs": [],
   "source": [
    "print(f\"df.count().sum(): {df.count().sum():_}\")"
   ]
  },
  {
   "cell_type": "markdown",
   "id": "a357d390-b85b-4a11-80d0-d784775a2b7b",
   "metadata": {},
   "source": [
    "## Preprocessing categorical data"
   ]
  },
  {
   "cell_type": "code",
   "execution_count": null,
   "id": "d3d455e8-cafc-443c-a7f1-d69ef327dd1a",
   "metadata": {},
   "outputs": [],
   "source": [
    "# Extract the 'gas_valve__str' values from the DataFrame\n",
    "print('unique gas_valve__str values: ', list(df[df.index.get_level_values('property') == 'gas_valve__str']['value'].unique()))\n"
   ]
  },
  {
   "cell_type": "code",
   "execution_count": null,
   "id": "49e2cb82-92a0-42e0-b342-469793ab3afb",
   "metadata": {},
   "outputs": [],
   "source": [
    "# Rename columns based on the translation table\n",
    "gas_valve_categories = {\n",
    "    '0': 'gas_valve_open',\n",
    "    '1': 'gas_valve_closed',\n",
    "    '2': 'gas_valve_off'\n",
    "}\n"
   ]
  },
  {
   "cell_type": "code",
   "execution_count": null,
   "id": "ae91ce7e-94af-4427-bcdf-87d81b03dd33",
   "metadata": {},
   "outputs": [],
   "source": [
    "%%time\n",
    "%autoreload 2\n",
    "df = Preprocessor.encode_categorical_property_as_boolean_properties(df, 'gas_valve__str', gas_valve_categories)"
   ]
  },
  {
   "cell_type": "code",
   "execution_count": null,
   "id": "97fd8c65-c1b1-420b-bd1f-c68c5eda392a",
   "metadata": {},
   "outputs": [],
   "source": [
    "%%time\n",
    "# Extract the 'boiler_status__str' values from the DataFrame\n",
    "print(\"Unique categories for 'boiler_status__str':\", list(df[df.index.get_level_values('property') == 'boiler_status__str']['value'].unique()))\n",
    "\n"
   ]
  },
  {
   "cell_type": "code",
   "execution_count": null,
   "id": "a9289ea8-c304-48e2-8a8b-52274e557501",
   "metadata": {},
   "outputs": [],
   "source": [
    "# Rename columns based on the translation table\n",
    "boiler_status_categories = {\n",
    "    '0': 'boiler_status_standby',\n",
    "    '1': 'boiler_status_heat_demand',\n",
    "    '2': 'boiler_status_burner_start',\n",
    "    '3': 'boiler_status_burning_ch',\n",
    "    '4': 'boiler_status_burning_dhw',\n",
    "    '5': 'boiler_status_burner_stop',\n",
    "    '6': 'boiler_status_pump_post_run',\n",
    "    '7': 'boiler_status_cooling_active',\n",
    "    '8': 'boiler_status_controlled_stop',\n",
    "    '9': 'boiler_status_blocking_mode',\n",
    "    '10': 'boiler_status_locking_mode',\n",
    "    '11': 'boiler_status_cs_mode_l_ch',\n",
    "    '12': 'boiler_status_cs_mode_h_ch',\n",
    "    '13': 'boiler_status_cs_mode_hdhw',\n",
    "    '15': 'boiler_status_manual_hd_ch_on',\n",
    "    '16': 'boiler_status_boiler_frost_prot',\n",
    "    '17': 'boiler_status_de_air',\n",
    "    '18': 'boiler_status_cu_cooling',\n",
    "    '19': 'boiler_status_reset_in_progress',\n",
    "    '20': 'boiler_status_auto_filling',\n",
    "    '21': 'boiler_status_halted',\n",
    "    '22': 'boiler_status_forced_calibration',\n",
    "    '23': 'boiler_status_factory_test',\n",
    "    '200': 'boiler_status_device_mode',\n",
    "    '254': 'boiler_status_unknown'\n",
    "}"
   ]
  },
  {
   "cell_type": "code",
   "execution_count": null,
   "id": "6785212e-f43f-4120-ba55-3f896d3d2e1f",
   "metadata": {},
   "outputs": [],
   "source": [
    "%%time\n",
    "df = Preprocessor.encode_categorical_property_as_boolean_properties(df, 'boiler_status__str', boiler_status_categories)"
   ]
  },
  {
   "cell_type": "code",
   "execution_count": null,
   "id": "a73017a9-9726-469a-88a8-1ae684b19cb0",
   "metadata": {},
   "outputs": [],
   "source": [
    "df.index.unique(level='id').values"
   ]
  },
  {
   "cell_type": "code",
   "execution_count": null,
   "id": "1cf86aad-7a6d-41a2-ac76-be675dfdc988",
   "metadata": {},
   "outputs": [],
   "source": [
    "print('#ids: ', len(df.index.unique(level='id').values))\n",
    "print('ids: ', list(df.index.unique(level='id')))\n",
    "print('source categories: ', list(df.index.unique(level='source_category')))\n",
    "print('source types: ', list(df.index.unique(level='source_type')))\n",
    "print('properties: ', list(df.index.unique(level='property')))\n",
    "\n",
    "print('values: ', df['value'].count())\n",
    "print('#values per: \\n', df.groupby(['source_type']).size())\n",
    "print('#values per: \\n', df.groupby(['source_category', 'source_type', 'property']).size())"
   ]
  },
  {
   "cell_type": "code",
   "execution_count": null,
   "id": "63c62621-5385-4252-aa08-7a5c37656561",
   "metadata": {},
   "outputs": [],
   "source": [
    "print(f\"df.count().sum(): {df.count().sum():_}\")"
   ]
  },
  {
   "cell_type": "markdown",
   "id": "e2546369-3590-4aca-834a-a3dc5cf49c80",
   "metadata": {},
   "source": [
    "## Write sane measurements to parquet file(s)"
   ]
  },
  {
   "cell_type": "code",
   "execution_count": null,
   "id": "ce1423d1-aa2a-40a5-8f80-b0b39947c94f",
   "metadata": {},
   "outputs": [],
   "source": [
    "%%time \n",
    "df.to_parquet(rhc_file_write_path, index=True, engine='pyarrow')"
   ]
  },
  {
   "cell_type": "code",
   "execution_count": null,
   "id": "d178becf-680d-442e-add9-f941d44b970e",
   "metadata": {},
   "outputs": [],
   "source": [
    "%%time\n",
    "# Attempt to read the Parquet file\n",
    "try:\n",
    "    df = pd.read_parquet(\n",
    "        rhc_file_write_path, \n",
    "        engine='pyarrow',\n",
    "        dtype_backend='numpy_nullable'\n",
    "        )\n",
    "    print(\"File was successfully read without specifying compression codec.\")\n",
    "except Exception as e:\n",
    "    print(f\"Error reading file: {e}\")"
   ]
  },
  {
   "cell_type": "code",
   "execution_count": null,
   "id": "a6894c42-8f94-4386-82a8-395a0a83aa3d",
   "metadata": {},
   "outputs": [],
   "source": [
    "print(f\"df.count().sum(): {df.count().sum():_}\")"
   ]
  },
  {
   "cell_type": "markdown",
   "id": "8cc87106-eb47-4619-ab06-7a0b3b69e5a9",
   "metadata": {},
   "source": [
    "### Write raw measurements per home to parquet files"
   ]
  },
  {
   "cell_type": "code",
   "execution_count": null,
   "id": "b51ee07b-7119-4a73-894e-db915d491924",
   "metadata": {},
   "outputs": [],
   "source": [
    "homes = list(df.index.unique(level='id'))\n",
    "# homes = list(df.index.unique(level='id'))[:2]"
   ]
  },
  {
   "cell_type": "code",
   "execution_count": null,
   "id": "fce6e814-2768-410e-b714-e978aa43618c",
   "metadata": {},
   "outputs": [],
   "source": [
    "homes"
   ]
  },
  {
   "cell_type": "code",
   "execution_count": null,
   "id": "1a4f55cc-ed66-4f90-bede-f1747f63c226",
   "metadata": {},
   "outputs": [],
   "source": [
    "%%time \n",
    "for id in tqdm(homes):\n",
    "    df.xs(id, drop_level=False).to_parquet(f'{id}_sane_measurements.parquet', index=True, engine='pyarrow')"
   ]
  },
  {
   "cell_type": "markdown",
   "id": "97f4de78-70b5-40df-a415-96287d4ab584",
   "metadata": {},
   "source": [
    "## Put properties in separate columns, apply types and write parquet file(s)"
   ]
  },
  {
   "cell_type": "code",
   "execution_count": null,
   "id": "b691f93b-784b-41fe-9936-343205cce660",
   "metadata": {},
   "outputs": [],
   "source": [
    "# unstacking might take a lot of memory, hence do it homw by home. example: unstacking entire Twomes dataset uses 32 GB memory\n",
    "del df\n",
    "gc.collect()"
   ]
  },
  {
   "cell_type": "markdown",
   "id": "c59475c4-77ca-415c-821f-519ab563333f",
   "metadata": {
    "tags": []
   },
   "source": [
    "### Writing raw properties per home to a parquet file"
   ]
  },
  {
   "cell_type": "code",
   "execution_count": null,
   "id": "b37b7e1a-23b7-4e89-9776-c69900836d21",
   "metadata": {},
   "outputs": [],
   "source": [
    "homes"
   ]
  },
  {
   "cell_type": "code",
   "execution_count": null,
   "id": "cdb25d2b-c5b6-435a-9124-43614935f51f",
   "metadata": {},
   "outputs": [],
   "source": [
    "property_types = {\n",
    "    'battery_voltage__V': 'float32',\n",
    "    'boiler_status_blocking_mode__bool': pd.BooleanDtype(),  # Nullable boolean type\n",
    "    'boiler_status_burner_start__bool': pd.BooleanDtype(),  # Nullable boolean type\n",
    "    'boiler_status_burner_stop__bool': pd.BooleanDtype(),  # Nullable boolean type\n",
    "    'boiler_status_burning_ch__bool': pd.BooleanDtype(),  # Nullable boolean type\n",
    "    'boiler_status_burning_dhw__bool': pd.BooleanDtype(),  # Nullable boolean type\n",
    "    'boiler_status_controlled_stop__bool': pd.BooleanDtype(),  # Nullable boolean type\n",
    "    'boiler_status_de_air__bool': pd.BooleanDtype(),  # Nullable boolean type\n",
    "    'boiler_status_heat_demand__bool': pd.BooleanDtype(),  # Nullable boolean type\n",
    "    'boiler_status_locking_mode__bool': pd.BooleanDtype(),  # Nullable boolean type\n",
    "    'boiler_status_pump_post_run__bool': pd.BooleanDtype(),  # Nullable boolean type\n",
    "    'boiler_status_standby__bool': pd.BooleanDtype(),  # Nullable boolean type\n",
    "    'ch_set_fan_rotations_max__min_1': 'Int16',  # Adjusted to Int16 based on the range\n",
    "    'ch_set_fan_rotations_min__min_1': 'Int16',  # Adjusted to Int16 based on the range\n",
    "    'ch_water_pump_speed__0': 'float32',  # Adjusted to float32\n",
    "    'co2__ppm': 'float32',\n",
    "    'dhw_flow__l_min_1': 'float32',  # Adjusted to float32\n",
    "    'dhw_temp_out__degC': 'float32',\n",
    "    'meter_code__str': pd.StringDtype(),\n",
    "    'dsmr_version__0': 'float32',\n",
    "    'e_ret_cum__kWh': 'float64',\n",
    "    'e_ret_hi_cum__kWh': 'float64',\n",
    "    'e_ret_lo_cum__kWh': 'float64',\n",
    "    'e_ret_monthly_hi_cum__kWh': 'float64',\n",
    "    'e_ret_monthly_lo_cum__kWh': 'float64',\n",
    "    'e_use_cum__kWh': 'float64',\n",
    "    'e_use_hi_cum__kWh': 'float64',\n",
    "    'e_use_lo_cum__kWh': 'float64',\n",
    "    'e_use_monthly_hi_cum__kWh': 'float64',\n",
    "    'e_use_monthly_lo_cum__kWh': 'float64',\n",
    "    'fan_rotations__min_1': 'Int16',  # Adjusted to Int16 based on the range\n",
    "    'ghi__W_m_2': 'float32',                      \n",
    "    'g_use_ch_lhv_cum__kWh': 'float64',\n",
    "    'g_use_cum__m3': 'float64',\n",
    "    'g_use_monthly_cum__m3': 'float64',\n",
    "    'g_use_dhw_lhv_cum__kWh': 'float64',\n",
    "    'gas_valve_closed__bool': pd.BooleanDtype(),  # Nullable boolean type\n",
    "    'gas_valve_open__bool': pd.BooleanDtype(),  # Nullable boolean type\n",
    "    'heartbeat__0': 'Int8',\n",
    "    'occupancy__p': 'Int8',\n",
    "    'onboarded__p': 'Int8',\n",
    "    'power_ch_max__kW': 'float32',  # Adjusted to float32\n",
    "    'rel_humidity__0': 'float32',\n",
    "    'temp_ch_sup_max__degC': 'float32',\n",
    "    'temp_in__degC': 'float32',\n",
    "    'temp_out__degC': 'float32',\n",
    "    'temp_ret__degC': 'float32',\n",
    "    'temp_set__degC': 'float32',\n",
    "    'temp_sup__degC': 'float32',\n",
    "    'wind__m_s_1': 'float32'                              \n",
    "}\n"
   ]
  },
  {
   "cell_type": "code",
   "execution_count": null,
   "id": "833dc7cf-139a-4e36-898a-9add4d6cea04",
   "metadata": {},
   "outputs": [],
   "source": [
    "%%time\n",
    "\n",
    "df_prop = pd.DataFrame()\n",
    "\n",
    "for id in tqdm(homes):\n",
    "    df_home = pd.read_parquet(f'{id}_sane_measurements.parquet', engine='pyarrow', dtype_backend='numpy_nullable')\n",
    "    \n",
    "    df_prop_home = Measurements.to_properties_with_source_category_and_type(\n",
    "        df_home,\n",
    "        property_types\n",
    "    )\n",
    "    df_prop_home.to_parquet(f'{id}_raw_properties.parquet', index=True, engine='pyarrow')\n",
    "    df_prop = pd.concat([df_prop, df_prop_home]) \n",
    "    \n",
    "if not df_prop.index.is_monotonic_increasing:\n",
    "    df_prop = df_prop.sort_index()  "
   ]
  },
  {
   "cell_type": "code",
   "execution_count": null,
   "id": "0af8d9ed-80ef-46c3-b462-7285b22dc0f1",
   "metadata": {},
   "outputs": [],
   "source": [
    "prop_describe = df_prop.describe(include='all')\n",
    "prop_min_max = prop_describe.loc[['min', 'max']]\n",
    "print(prop_min_max.T)"
   ]
  },
  {
   "cell_type": "code",
   "execution_count": null,
   "id": "a2675ae3-425d-4eaa-a915-364a8db8c566",
   "metadata": {},
   "outputs": [],
   "source": [
    "df_prop[df_prop.index.get_level_values('source_type') == 'KNMI'].describe().T\n"
   ]
  },
  {
   "cell_type": "code",
   "execution_count": null,
   "id": "656c95ef-0cca-4f67-8010-d762bfc191e2",
   "metadata": {},
   "outputs": [],
   "source": [
    "df_prop.describe().T"
   ]
  },
  {
   "cell_type": "code",
   "execution_count": null,
   "id": "ffcb0941-e1c2-4f10-931b-13243c4c460a",
   "metadata": {},
   "outputs": [],
   "source": [
    "df_bools_to_float = df_prop[[col for col in df_prop.columns if col.endswith('__bool')]].copy()\n",
    "for col in df_bools_to_float.columns:\n",
    "    df_bools_to_float[col] = df_bools_to_float[col].astype('float')\n",
    "df_bools_to_float.describe().T.drop(columns='count').style.format(\"{:.2%}\")"
   ]
  },
  {
   "cell_type": "code",
   "execution_count": null,
   "id": "61474d67-f0f2-428b-90a2-acca69e20773",
   "metadata": {},
   "outputs": [],
   "source": [
    "print(f\"size: {df_prop.size:_}\")"
   ]
  },
  {
   "cell_type": "code",
   "execution_count": null,
   "id": "a8c549f1-b35f-4421-a887-75a777781a3a",
   "metadata": {},
   "outputs": [],
   "source": [
    "df_prop.info()"
   ]
  },
  {
   "cell_type": "code",
   "execution_count": null,
   "id": "fd0ac144-5a0a-432d-866d-00c4acf484b3",
   "metadata": {},
   "outputs": [],
   "source": [
    "df_prop.index.dtypes"
   ]
  },
  {
   "cell_type": "code",
   "execution_count": null,
   "id": "d60c76dc-ed48-4002-8051-5c46e78cadb8",
   "metadata": {},
   "outputs": [],
   "source": [
    "df_prop"
   ]
  },
  {
   "cell_type": "markdown",
   "id": "76213002-5a00-4f92-8109-7abba6ea2a74",
   "metadata": {
    "tags": []
   },
   "source": [
    "### Writing raw properties to a parquet file"
   ]
  },
  {
   "cell_type": "code",
   "execution_count": null,
   "id": "8ce374a9-2ee3-4ca5-a40c-ffcffefe6cc1",
   "metadata": {},
   "outputs": [],
   "source": [
    "%%time \n",
    "df_prop.to_parquet(rhc_raw_properties_file_path, index=True, engine='pyarrow')"
   ]
  }
 ],
 "metadata": {
  "kernelspec": {
   "display_name": "Python 3 (ipykernel)",
   "language": "python",
   "name": "python3"
  },
  "language_info": {
   "codemirror_mode": {
    "name": "ipython",
    "version": 3
   },
   "file_extension": ".py",
   "mimetype": "text/x-python",
   "name": "python",
   "nbconvert_exporter": "python",
   "pygments_lexer": "ipython3",
   "version": "3.11.6"
  }
 },
 "nbformat": 4,
 "nbformat_minor": 5
}
