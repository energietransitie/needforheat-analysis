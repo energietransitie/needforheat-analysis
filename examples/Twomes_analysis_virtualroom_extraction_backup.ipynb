{
 "cells": [
  {
   "cell_type": "markdown",
   "id": "02aa6298-301d-4d2f-b59e-7bc2432c67d4",
   "metadata": {},
   "source": [
    "# Twomes virtual room data extraction and backup to parquet\n",
    "\n",
    "Don't forget to install the requirements listed in [requirements.txt](../requirements.txt) first!\n",
    "\n"
   ]
  },
  {
   "cell_type": "markdown",
   "id": "40e8f82e-93a6-4156-b4cb-4744c4cc8c13",
   "metadata": {},
   "source": [
    "## Setting the stage\n",
    "\n",
    "First several imports and variables need to be defined\n"
   ]
  },
  {
   "cell_type": "markdown",
   "id": "b276aade-cd93-4e8a-957d-fdc2d3a84336",
   "metadata": {},
   "source": [
    "### Imports and generic settings"
   ]
  },
  {
   "cell_type": "code",
   "execution_count": null,
   "id": "08d2d6ec-cf03-47d6-a505-bf37716c4700",
   "metadata": {},
   "outputs": [],
   "source": [
    "# import os\n",
    "\n",
    "import numpy as np\n",
    "import pandas as pd\n",
    "from tqdm.notebook import tqdm\n",
    "\n",
    "import sys\n",
    "sys.path.append('../data/')\n",
    "\n",
    "\n",
    "# usually, two decimals suffice for displaying DataFrames (NB internally, precision may be higher)\n",
    "pd.options.display.precision = 2\n",
    "\n",
    "%load_ext autoreload\n",
    "\n",
    "from virtualdata import Virtualdata \n",
    "\n",
    "\n",
    "\n"
   ]
  },
  {
   "cell_type": "markdown",
   "id": "af032baa-340f-470a-85f2-474d4cdbbf5c",
   "metadata": {},
   "source": [
    "### Load Data from Virtual Rooms"
   ]
  },
  {
   "cell_type": "code",
   "execution_count": null,
   "id": "b5e7efbd-0e08-4b28-82aa-d89a4f8219ba",
   "metadata": {},
   "outputs": [],
   "source": [
    "%%time\n",
    "\n",
    "homes = [\n",
    "    6020012, \n",
    "    12010012, \n",
    "    15008012, \n",
    "    15010012, \n",
    "    20006012, \n",
    "    30004012, \n",
    "    30004024, \n",
    "    40003012, \n",
    "    60002012 \n",
    "]\n",
    "\n",
    "timezone = 'Europe/Amsterdam'\n",
    "df_prop = pd.DataFrame()\n",
    "\n",
    "for id in tqdm(homes):\n",
    "    df_prop = pd.concat(\n",
    "        [df_prop,\n",
    "         Virtualdata.get_virtual_home_data_csv(f'../data/Twomes_virtual_ds/virtualhome_P{id}.zip', timezone)\n",
    "        ]\n",
    "    )"
   ]
  },
  {
   "cell_type": "code",
   "execution_count": null,
   "id": "8e724e0f-3a7b-4c22-a574-f88dd7cfb02e",
   "metadata": {},
   "outputs": [],
   "source": [
    "df_prop"
   ]
  },
  {
   "cell_type": "code",
   "execution_count": null,
   "id": "8961bfb4-92e7-401e-a9cd-79706f76e067",
   "metadata": {
    "tags": []
   },
   "outputs": [],
   "source": [
    "%%time \n",
    "df_prop.to_parquet('../data/Twomes_virtual_ds/twomes_virtualhomes_raw_properties.parquet', index=True, engine='pyarrow')"
   ]
  }
 ],
 "metadata": {
  "kernelspec": {
   "display_name": "Python 3 (ipykernel)",
   "language": "python",
   "name": "python3"
  },
  "language_info": {
   "codemirror_mode": {
    "name": "ipython",
    "version": 3
   },
   "file_extension": ".py",
   "mimetype": "text/x-python",
   "name": "python",
   "nbconvert_exporter": "python",
   "pygments_lexer": "ipython3",
   "version": "3.10.6"
  }
 },
 "nbformat": 4,
 "nbformat_minor": 5
}
