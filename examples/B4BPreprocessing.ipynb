{
 "cells": [
  {
   "cell_type": "markdown",
   "id": "6856fc7c-e654-4ab9-af2e-6bfbb4858976",
   "metadata": {},
   "source": [
    "# Preprocessing B4B data"
   ]
  },
  {
   "cell_type": "code",
   "execution_count": null,
   "id": "d099eec7-e0ca-4d52-bd04-e58bffd90633",
   "metadata": {
    "tags": []
   },
   "outputs": [],
   "source": [
    "import pandas as pd\n",
    "import numpy as np\n",
    "import pylab as plt\n",
    "\n",
    "# usually, two decimals suffice for displaying DataFrames (NB internally, precision may be higher)\n",
    "pd.options.display.precision = 2\n",
    "\n",
    "import sys\n",
    "sys.path.append('../data/')\n",
    "sys.path.append('../view/')\n",
    "\n",
    "%load_ext autoreload\n",
    "\n",
    "%matplotlib inline\n",
    "%matplotlib widget\n",
    "\n",
    "from preprocessor import Preprocessor\n",
    "from plotter import Plot"
   ]
  },
  {
   "cell_type": "markdown",
   "id": "2c867b6c-3e5c-478d-aab5-cc3a0b9f2afc",
   "metadata": {},
   "source": [
    "### Load Measured Data from parquet file"
   ]
  },
  {
   "cell_type": "code",
   "execution_count": null,
   "id": "99763197-f115-4b09-93c0-c70d06c8963b",
   "metadata": {},
   "outputs": [],
   "source": [
    "%%time\n",
    "# Prerequisite: for this example to work, you need to have the b4b_raw_properties.parquet, located e.g. in the ../data/ folder.\n",
    "# One way to get this is to run B4BExtractionBackup.ipynb first\n",
    "df_prop = pd.read_parquet('../data/b4b_raw_properties.parquet', engine='pyarrow')\n",
    "\n",
    "#sorting the DataFrame index is needed to get good performance on certain filters\n",
    "#this guarding code to check whether DataFramews are properly sorted\n",
    "if not df_prop.index.is_monotonic_increasing:\n",
    "    print('df needed index sorting')\n",
    "    df_prop = df_prop.sort_index()  "
   ]
  },
  {
   "cell_type": "code",
   "execution_count": null,
   "id": "f2b4899d-94f9-4307-92ca-80b55014977c",
   "metadata": {
    "tags": []
   },
   "outputs": [],
   "source": [
    "df_prop.index.unique(level='id').values"
   ]
  },
  {
   "cell_type": "code",
   "execution_count": null,
   "id": "d3187fc4-cf50-420d-a644-05a90e131443",
   "metadata": {
    "tags": []
   },
   "outputs": [],
   "source": [
    "df_prop.index.unique(level='source').values"
   ]
  },
  {
   "cell_type": "code",
   "execution_count": null,
   "id": "41467d69-f38b-4ec0-9775-f19ef2afac53",
   "metadata": {},
   "outputs": [],
   "source": [
    "df_prop"
   ]
  },
  {
   "cell_type": "code",
   "execution_count": null,
   "id": "fafe1564-83b7-4f3b-85f2-77e491f23903",
   "metadata": {
    "tags": []
   },
   "outputs": [],
   "source": [
    "df_prop.info()"
   ]
  },
  {
   "cell_type": "markdown",
   "id": "f358df11-1f90-4db2-8693-6016ab0663e4",
   "metadata": {
    "tags": []
   },
   "source": [
    "## Example: processing temp_in__degC"
   ]
  },
  {
   "cell_type": "code",
   "execution_count": null,
   "id": "5eed48be-876e-4cb9-9146-fe1d429d94a3",
   "metadata": {
    "tags": []
   },
   "outputs": [],
   "source": [
    "#if this plot does not show up at initial run, run the cell again (something fishy with interactive plotting of DataFrame.plot.hist())\n",
    "%matplotlib widget\n",
    "df_prop.temp_in__degC.plot.hist(bins=50, alpha=0.5)"
   ]
  },
  {
   "cell_type": "markdown",
   "id": "580571f1-8946-4c81-a80f-f43cd44c05ce",
   "metadata": {
    "tags": []
   },
   "source": [
    "## Example: using the min-max filter\n",
    "Filtering out extreme, highly unlikely temperature measurements"
   ]
  },
  {
   "cell_type": "code",
   "execution_count": null,
   "id": "6085cc5a-004d-4df7-99f6-41a3842c8c10",
   "metadata": {
    "tags": []
   },
   "outputs": [],
   "source": [
    "Preprocessor.filter_min_max(df_prop, 'temp_in__degC', min=5, max=40)"
   ]
  },
  {
   "cell_type": "code",
   "execution_count": null,
   "id": "f4a4bd4f-6d5e-4696-9adf-2172bb43659f",
   "metadata": {
    "tags": []
   },
   "outputs": [],
   "source": [
    "df_prop.info()"
   ]
  },
  {
   "cell_type": "code",
   "execution_count": null,
   "id": "f238fe32-2e3a-4378-bfbb-9daecb024d1f",
   "metadata": {
    "tags": []
   },
   "outputs": [],
   "source": [
    "df_prop.describe()"
   ]
  },
  {
   "cell_type": "code",
   "execution_count": null,
   "id": "db239fac-6a9b-4d31-a9f0-3b88a27b70e4",
   "metadata": {
    "tags": []
   },
   "outputs": [],
   "source": [
    "#if this plot does not show up at initial run, run the cell again (something fishy with interactive plotting of DataFrame.plot.hist())\n",
    "%matplotlib widget\n",
    "df_prop.temp_in__degC.plot.hist(bins=50, alpha=0.5)"
   ]
  },
  {
   "cell_type": "markdown",
   "id": "de68063b-39e2-416f-aff3-780be94cb803",
   "metadata": {
    "tags": []
   },
   "source": [
    "## Example: using the static outlier filter, per id\n",
    "Filtering out extreme temperatures based on mean and standard deviation per room"
   ]
  },
  {
   "cell_type": "code",
   "execution_count": null,
   "id": "9568e8e8-ff53-4cdb-9678-154f150f7c05",
   "metadata": {
    "tags": []
   },
   "outputs": [],
   "source": [
    "Preprocessor.filter_static_outliers(df_prop, 'temp_in__degC', n_sigma=3.0, per_id=True)"
   ]
  },
  {
   "cell_type": "code",
   "execution_count": null,
   "id": "6a2bbf85-c14a-4f76-94e7-c5c692c2335f",
   "metadata": {
    "tags": []
   },
   "outputs": [],
   "source": [
    "#if this plot does not show up at initial run, run the cell again (something fishy with interactive plotting of DataFrame.plot.hist())\n",
    "%matplotlib widget\n",
    "df_prop.temp_in__degC.plot.hist(bins=50, alpha=0.5)"
   ]
  },
  {
   "cell_type": "code",
   "execution_count": null,
   "id": "3d80a041-7228-4fb8-a9a0-3ece38f89107",
   "metadata": {
    "tags": []
   },
   "outputs": [],
   "source": [
    "df_prop.info()"
   ]
  },
  {
   "cell_type": "code",
   "execution_count": null,
   "id": "423252ea-7700-4be2-ba73-06412477d36b",
   "metadata": {
    "tags": []
   },
   "outputs": [],
   "source": [
    "df_prop.describe()"
   ]
  },
  {
   "cell_type": "markdown",
   "id": "b509e7d0-e74c-4a57-a73c-b8add11e9686",
   "metadata": {
    "tags": []
   },
   "source": [
    "## Example: interpolating all properties\n"
   ]
  },
  {
   "cell_type": "code",
   "execution_count": null,
   "id": "a9ccc8be-4926-473c-8460-802262ff7e6e",
   "metadata": {},
   "outputs": [],
   "source": [
    "%%time \n",
    "%autoreload 2\n",
    "\n",
    "property_types = {\n",
    "    'temp_in__degC' : 'float32',\n",
    "    'co2__ppm' : 'float32',\n",
    "    'rel_humidity__0' : 'float32',\n",
    "    'valve_frac__0' : 'float32',\n",
    "    'door_open__bool': 'Int8',\n",
    "    'window_open__bool': 'Int8',\n",
    "    'occupancy__bool': 'Int8',\n",
    "    'occupancy__p' : 'Int8'\n",
    "}\n",
    "\n",
    "df_interpolated = Preprocessor.interpolate_time(df_prop,\n",
    "                                        property_dict = property_types,\n",
    "                                        upsample__min = 5,\n",
    "                                        interpolate__min = 15,\n",
    "                                        limit__min = 90,\n",
    "                                        inplace=False\n",
    "                                       )"
   ]
  },
  {
   "cell_type": "code",
   "execution_count": null,
   "id": "3751fa9e-229b-4256-92f8-51300236cd7a",
   "metadata": {},
   "outputs": [],
   "source": [
    "df_interpolated"
   ]
  },
  {
   "cell_type": "code",
   "execution_count": null,
   "id": "66729928-9844-4fb2-8a98-8734938f98f7",
   "metadata": {},
   "outputs": [],
   "source": [
    "df_interpolated.info()"
   ]
  },
  {
   "cell_type": "markdown",
   "id": "e7d8c2be-61d5-43da-b14e-d7fb7e8aa2a2",
   "metadata": {
    "tags": []
   },
   "source": [
    "## Converting raw properties dataframe to preprocessed dataframe\n"
   ]
  },
  {
   "cell_type": "code",
   "execution_count": null,
   "id": "c4069b29-3eb4-454a-bd3b-0c2cbf0a8b7a",
   "metadata": {
    "tags": []
   },
   "outputs": [],
   "source": [
    "df_prep = Preprocessor.unstack_prop(df_interpolated)"
   ]
  },
  {
   "cell_type": "code",
   "execution_count": null,
   "id": "e4a364c1-efcb-4bd0-8ff3-85f4b0b735df",
   "metadata": {
    "tags": []
   },
   "outputs": [],
   "source": [
    "df_prep"
   ]
  },
  {
   "cell_type": "code",
   "execution_count": null,
   "id": "71bffcd1-f5ac-40d8-b11b-c8fa47302773",
   "metadata": {
    "tags": []
   },
   "outputs": [],
   "source": [
    "df_prep.info()"
   ]
  },
  {
   "cell_type": "markdown",
   "id": "3a3b11c1-4641-425e-888a-285581f28209",
   "metadata": {
    "tags": []
   },
   "source": [
    "## Plotting results"
   ]
  },
  {
   "cell_type": "code",
   "execution_count": null,
   "id": "1d92bba8-42b2-466f-a8d9-6d2bfcbfc06a",
   "metadata": {
    "tags": []
   },
   "outputs": [],
   "source": [
    "%autoreload 2\n",
    "units_to_mathtext = property_types = {\n",
    "    'degC' : r'$°C$',\n",
    "    'ppm' : r'$ppm$',\n",
    "    '0' : r'$[-]$',\n",
    "    'bool': r'$0 = False; 1 = True$',\n",
    "    'p' : r'$persons$'\n",
    "}"
   ]
  },
  {
   "cell_type": "code",
   "execution_count": null,
   "id": "d39bed76-c1a7-4b7b-b309-f03f47797a73",
   "metadata": {
    "tags": []
   },
   "outputs": [],
   "source": [
    "%%time\n",
    "#Plot all properties with a single unit for a single id\n",
    "Plot.dataframe_properties_plot(df_prop.loc[[999169]][[prop for prop in df_prop.columns.values if prop.split('__')[-1] == 'ppm']], units_to_mathtext)"
   ]
  },
  {
   "cell_type": "code",
   "execution_count": null,
   "id": "0c1e9406-ccbf-4185-99f5-9e2b25ca9c79",
   "metadata": {
    "tags": []
   },
   "outputs": [],
   "source": [
    "%%time\n",
    "#Plot all preprocessed properties with a single unit for a single id\n",
    "Plot.dataframe_preprocessed_plot(df_prep.loc[[999169]][[prop for prop in df_prep.columns.values if prop.split('__')[-1] == 'ppm']], units_to_mathtext)"
   ]
  },
  {
   "cell_type": "code",
   "execution_count": null,
   "id": "e4244036-57ab-4553-9796-2a4e2285fd96",
   "metadata": {},
   "outputs": [],
   "source": [
    "%%time\n",
    "#Plot all properties for a single id\n",
    "Plot.dataframe_preprocessed_plot(df_prep.loc[[999169]], units_to_mathtext)"
   ]
  },
  {
   "cell_type": "code",
   "execution_count": null,
   "id": "869079c6-ba24-4903-9504-134846ebce56",
   "metadata": {},
   "outputs": [],
   "source": [
    "%%time\n",
    "#Plot all properties for a a list of ids\n",
    "Plot.dataframe_preprocessed_plot(df_prep.loc[[999169, 917810]], units_to_mathtext)"
   ]
  },
  {
   "cell_type": "code",
   "execution_count": null,
   "id": "7099efed-cb92-4f81-bd81-b62536f89b25",
   "metadata": {},
   "outputs": [],
   "source": [
    "%%time\n",
    "#Plot all properties from all sources for all ids WARNING: MAY TAKE LONG!\n",
    "Plot.dataframe_preprocessed_plot(df_prep, units_to_mathtext)"
   ]
  }
 ],
 "metadata": {
  "kernelspec": {
   "display_name": "Python 3 (ipykernel)",
   "language": "python",
   "name": "python3"
  },
  "language_info": {
   "codemirror_mode": {
    "name": "ipython",
    "version": 3
   },
   "file_extension": ".py",
   "mimetype": "text/x-python",
   "name": "python",
   "nbconvert_exporter": "python",
   "pygments_lexer": "ipython3",
   "version": "3.10.6"
  }
 },
 "nbformat": 4,
 "nbformat_minor": 5
}
