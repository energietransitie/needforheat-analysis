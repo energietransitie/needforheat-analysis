{
 "cells": [
  {
   "cell_type": "markdown",
   "id": "6856fc7c-e654-4ab9-af2e-6bfbb4858976",
   "metadata": {},
   "source": [
    "# Preprocessing B4B data"
   ]
  },
  {
   "cell_type": "code",
   "execution_count": null,
   "id": "d099eec7-e0ca-4d52-bd04-e58bffd90633",
   "metadata": {},
   "outputs": [],
   "source": [
    "import pandas as pd\n",
    "import numpy as np\n",
    "import pylab as plt\n",
    "\n",
    "# usually, two decimals suffice for displaying DataFrames (NB internally, precision may be higher)\n",
    "pd.options.display.precision = 2\n",
    "\n",
    "import sys\n",
    "sys.path.append('../data/')\n",
    "sys.path.append('../view/')\n",
    "sys.path.append('../analysis/')\n",
    "\n",
    "%load_ext autoreload\n",
    "%autoreload 2\n",
    "%matplotlib widget\n",
    "\n",
    "from preprocessor import Preprocessor"
   ]
  },
  {
   "cell_type": "code",
   "execution_count": null,
   "id": "360d9d2b-7bd4-4669-b0d4-f6b068fc6fa5",
   "metadata": {},
   "outputs": [],
   "source": [
    "%%time\n",
    "df = pd.read_parquet('b4b_raw_properties.parquet', engine='pyarrow').sort_index()"
   ]
  },
  {
   "cell_type": "code",
   "execution_count": null,
   "id": "5eed48be-876e-4cb9-9146-fe1d429d94a3",
   "metadata": {},
   "outputs": [],
   "source": [
    "%matplotlib widget\n",
    "df.temp_in_degC.plot.hist(bins=50, alpha=0.5)"
   ]
  },
  {
   "cell_type": "code",
   "execution_count": null,
   "id": "1e68eb6e-baaa-4243-b90e-6fc21e44c8d2",
   "metadata": {},
   "outputs": [],
   "source": [
    "df.info()"
   ]
  },
  {
   "cell_type": "code",
   "execution_count": null,
   "id": "0dc48afb-0d44-4e75-bac9-63f50644a075",
   "metadata": {},
   "outputs": [],
   "source": [
    "df.describe()"
   ]
  },
  {
   "cell_type": "code",
   "execution_count": null,
   "id": "6f793c88-ac47-4afc-8b09-e1cc4c7476f7",
   "metadata": {},
   "outputs": [],
   "source": [
    "df"
   ]
  },
  {
   "cell_type": "markdown",
   "id": "580571f1-8946-4c81-a80f-f43cd44c05ce",
   "metadata": {
    "tags": []
   },
   "source": [
    "## Experiments with filtering data"
   ]
  },
  {
   "cell_type": "code",
   "execution_count": null,
   "id": "6085cc5a-004d-4df7-99f6-41a3842c8c10",
   "metadata": {},
   "outputs": [],
   "source": [
    "Preprocessor.filter_min_max(df, 'temp_in_degC', min=5, max=45, inplace=True)"
   ]
  },
  {
   "cell_type": "code",
   "execution_count": null,
   "id": "f4a4bd4f-6d5e-4696-9adf-2172bb43659f",
   "metadata": {},
   "outputs": [],
   "source": [
    "df.info()"
   ]
  },
  {
   "cell_type": "code",
   "execution_count": null,
   "id": "f238fe32-2e3a-4378-bfbb-9daecb024d1f",
   "metadata": {},
   "outputs": [],
   "source": [
    "df.describe()"
   ]
  },
  {
   "cell_type": "code",
   "execution_count": null,
   "id": "7fe1dee6-c2d3-41ea-8fca-0394f4c5577e",
   "metadata": {},
   "outputs": [],
   "source": [
    "df"
   ]
  },
  {
   "cell_type": "code",
   "execution_count": null,
   "id": "9568e8e8-ff53-4cdb-9678-154f150f7c05",
   "metadata": {},
   "outputs": [],
   "source": [
    "df_filt = Preprocessor.filter_static_outliers(df, 'temp_in_degC', n_sigma=3, inplace=False, per_id=True)"
   ]
  },
  {
   "cell_type": "code",
   "execution_count": null,
   "id": "6a2bbf85-c14a-4f76-94e7-c5c692c2335f",
   "metadata": {},
   "outputs": [],
   "source": [
    "%matplotlib widget\n",
    "df.temp_in_degC.plot.hist(bins=50, alpha=0.5)"
   ]
  },
  {
   "cell_type": "code",
   "execution_count": null,
   "id": "db239fac-6a9b-4d31-a9f0-3b88a27b70e4",
   "metadata": {},
   "outputs": [],
   "source": [
    "%matplotlib widget\n",
    "df_filt.temp_in_degC.plot.hist(bins=50, alpha=0.5)"
   ]
  },
  {
   "cell_type": "code",
   "execution_count": null,
   "id": "3d80a041-7228-4fb8-a9a0-3ece38f89107",
   "metadata": {},
   "outputs": [],
   "source": [
    "df_filt.info()"
   ]
  },
  {
   "cell_type": "code",
   "execution_count": null,
   "id": "423252ea-7700-4be2-ba73-06412477d36b",
   "metadata": {},
   "outputs": [],
   "source": [
    "df_filt.describe()"
   ]
  },
  {
   "cell_type": "code",
   "execution_count": null,
   "id": "5ece7164-c650-4c75-bbe3-fdaf29048be7",
   "metadata": {},
   "outputs": [],
   "source": [
    "df_filt"
   ]
  },
  {
   "cell_type": "markdown",
   "id": "643620c8-20d1-4069-aabd-d02af55e468b",
   "metadata": {},
   "source": [
    "## Experiments with plotting data"
   ]
  },
  {
   "cell_type": "code",
   "execution_count": null,
   "id": "8bd2ef29-f939-44dc-95c8-43b78379ad5d",
   "metadata": {},
   "outputs": [],
   "source": [
    "# This cell can be used to plot one or more properties in one or more rooms for one or more sources, not fully working yet\n",
    "\n",
    "for id in list(df_plot.index.unique(level='id')):\n",
    "    for source in list(df_plot.index.unique(level='source')):\n",
    "        if len(df_plot.loc[id,source]):\n",
    "            df_plot.loc[id,source].plot(\n",
    "                # subplots=\n",
    "                # [\n",
    "                #     # ('co2_ppm'),\n",
    "                #      # ('occupancy_p'),\n",
    "                #      # ('valve_frac_0', 'rel_humidity_0'),\n",
    "                #      # ('window_open_bool', 'door_open_bool'),\n",
    "                #      ('temp_in_degC')\n",
    "                # ],\n",
    "                style='.--',\n",
    "                title=f'room: {id}, source: {source}'\n",
    "               )"
   ]
  },
  {
   "cell_type": "code",
   "execution_count": null,
   "id": "09deac0e-3666-4b2b-b62d-b37c678867d9",
   "metadata": {},
   "outputs": [],
   "source": [
    "%autoreload 2\n",
    "for id in list(df.index.unique(level='id')):\n",
    "    for prop in list(df.columns):\n",
    "\n",
    "        Plot.temperature_and_power_one_home_plot(f'{prop} in {id}',\n",
    "                                        df.loc[id],\n",
    "                                        temp_plot_dict = {prop: 'r'}\n",
    "                                       )\n",
    "        \n",
    "        for device_type in list(df.index.unique(level='device_type')):\n",
    "            df_plot = df.loc[id,:,device_type].copy()\n",
    "            df_plot = Preprocessor.filter_min_max(df_plot, prop, min=0, max=45)\n",
    "            df_plot = Preprocessor.filter_static_outliers(df_plot, prop, n_sigma=3)\n",
    "            Plot.temperature_and_power_one_home_plot(f'{device_type}:{prop} in {id}',\n",
    "                                        df_plot,\n",
    "                                        temp_plot_dict = {prop: 'r'}\n",
    "                                       )"
   ]
  },
  {
   "cell_type": "code",
   "execution_count": null,
   "id": "9447d565-34ea-46b0-a9cf-ce900be7a16d",
   "metadata": {},
   "outputs": [],
   "source": [
    "#cell to experiment with other property filtering code\n",
    "\n",
    "id = list(df.index.unique(level='id'))[0]\n",
    "prop = list(df.columns)[0]\n",
    "device_type = list(df.index.unique(level='device_type'))[0]\n",
    "dfplot = df.loc[id,:,device_type]\n",
    "\n",
    "#insert new filtering code here\n",
    "\n",
    "Plot.temperature_and_power_one_home_plot(f'{device_type}:{prop} in {id}',\n",
    "                            dfplot,\n",
    "                            temp_plot_dict = {prop: 'r'}\n",
    "                           )"
   ]
  },
  {
   "cell_type": "code",
   "execution_count": null,
   "id": "9bc776b4-e5ef-4a55-af11-ca4c2f8969ef",
   "metadata": {},
   "outputs": [],
   "source": [
    "dfplot.plot.hist(bins=200)"
   ]
  }
 ],
 "metadata": {
  "kernelspec": {
   "display_name": "Python 3 (ipykernel)",
   "language": "python",
   "name": "python3"
  },
  "language_info": {
   "codemirror_mode": {
    "name": "ipython",
    "version": 3
   },
   "file_extension": ".py",
   "mimetype": "text/x-python",
   "name": "python",
   "nbconvert_exporter": "python",
   "pygments_lexer": "ipython3",
   "version": "3.10.6"
  }
 },
 "nbformat": 4,
 "nbformat_minor": 5
}
