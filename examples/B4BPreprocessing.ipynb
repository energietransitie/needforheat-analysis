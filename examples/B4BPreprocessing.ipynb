{
 "cells": [
  {
   "cell_type": "markdown",
   "id": "6856fc7c-e654-4ab9-af2e-6bfbb4858976",
   "metadata": {},
   "source": [
    "# Preprocessing B4B data"
   ]
  },
  {
   "cell_type": "code",
   "execution_count": null,
   "id": "d099eec7-e0ca-4d52-bd04-e58bffd90633",
   "metadata": {},
   "outputs": [],
   "source": [
    "import pandas as pd\n",
    "import numpy as np\n",
    "import pylab as plt\n",
    "\n",
    "# usually, two decimals suffice for displaying DataFrames (NB internally, precision may be higher)\n",
    "pd.options.display.precision = 2\n",
    "\n",
    "import sys\n",
    "sys.path.append('../data/')\n",
    "\n",
    "%load_ext autoreload\n",
    "\n",
    "%matplotlib inline\n",
    "%matplotlib widget\n",
    "\n",
    "from preprocessor import Preprocessor"
   ]
  },
  {
   "cell_type": "code",
   "execution_count": null,
   "id": "360d9d2b-7bd4-4669-b0d4-f6b068fc6fa5",
   "metadata": {},
   "outputs": [],
   "source": [
    "%%time\n",
    "# Prerequisite: for this example to work, you need to have the b4b_raw_properties.parquet, located e.g. in the ../data/ folder.\n",
    "# One way to get this is to run B4BExtractionBackup.ipynb first\n",
    "df = pd.read_parquet('b4b_raw_properties.parquet', engine='pyarrow')\n",
    "\n",
    "#sorting the DataFrame index is needed to get good performance on certain filters\n",
    "df = df.sort_index()"
   ]
  },
  {
   "cell_type": "code",
   "execution_count": null,
   "id": "5eed48be-876e-4cb9-9146-fe1d429d94a3",
   "metadata": {},
   "outputs": [],
   "source": [
    "#if this plot does not show up at initial run, run the cell again (something fishy with interactive plotting of DataFrame.plot.hist())\n",
    "%matplotlib widget\n",
    "df.temp_in_degC.plot.hist(bins=50, alpha=0.5)"
   ]
  },
  {
   "cell_type": "code",
   "execution_count": null,
   "id": "1e68eb6e-baaa-4243-b90e-6fc21e44c8d2",
   "metadata": {},
   "outputs": [],
   "source": [
    "df.info()"
   ]
  },
  {
   "cell_type": "code",
   "execution_count": null,
   "id": "0dc48afb-0d44-4e75-bac9-63f50644a075",
   "metadata": {},
   "outputs": [],
   "source": [
    "df.describe()"
   ]
  },
  {
   "cell_type": "code",
   "execution_count": null,
   "id": "6f793c88-ac47-4afc-8b09-e1cc4c7476f7",
   "metadata": {},
   "outputs": [],
   "source": [
    "df"
   ]
  },
  {
   "cell_type": "markdown",
   "id": "580571f1-8946-4c81-a80f-f43cd44c05ce",
   "metadata": {
    "tags": []
   },
   "source": [
    "## Example: using the min-max filter\n",
    "Filtering out extreme, highly unlikely temperature measurements"
   ]
  },
  {
   "cell_type": "code",
   "execution_count": null,
   "id": "6085cc5a-004d-4df7-99f6-41a3842c8c10",
   "metadata": {},
   "outputs": [],
   "source": [
    "Preprocessor.filter_min_max(df, 'temp_in_degC', min=5, max=40)"
   ]
  },
  {
   "cell_type": "code",
   "execution_count": null,
   "id": "f4a4bd4f-6d5e-4696-9adf-2172bb43659f",
   "metadata": {},
   "outputs": [],
   "source": [
    "df.info()"
   ]
  },
  {
   "cell_type": "code",
   "execution_count": null,
   "id": "f238fe32-2e3a-4378-bfbb-9daecb024d1f",
   "metadata": {},
   "outputs": [],
   "source": [
    "df.describe()"
   ]
  },
  {
   "cell_type": "code",
   "execution_count": null,
   "id": "db239fac-6a9b-4d31-a9f0-3b88a27b70e4",
   "metadata": {},
   "outputs": [],
   "source": [
    "#if this plot does not show up at initial run, run the cell again (something fishy with interactive plotting of DataFrame.plot.hist())\n",
    "%matplotlib widget\n",
    "df.temp_in_degC.plot.hist(bins=50, alpha=0.5)"
   ]
  },
  {
   "cell_type": "markdown",
   "id": "de68063b-39e2-416f-aff3-780be94cb803",
   "metadata": {
    "tags": []
   },
   "source": [
    "## Example: using the static outlier filter, per id\n",
    "Filtering out extreme temperatures based on mean and standard deviation per room"
   ]
  },
  {
   "cell_type": "code",
   "execution_count": null,
   "id": "9568e8e8-ff53-4cdb-9678-154f150f7c05",
   "metadata": {},
   "outputs": [],
   "source": [
    "Preprocessor.filter_static_outliers(df, 'temp_in_degC', n_sigma=3.0, per_id=True)"
   ]
  },
  {
   "cell_type": "code",
   "execution_count": null,
   "id": "6a2bbf85-c14a-4f76-94e7-c5c692c2335f",
   "metadata": {},
   "outputs": [],
   "source": [
    "#if this plot does not show up at initial run, run the cell again (something fishy with interactive plotting of DataFrame.plot.hist())\n",
    "%matplotlib widget\n",
    "df.temp_in_degC.plot.hist(bins=50, alpha=0.5)"
   ]
  },
  {
   "cell_type": "code",
   "execution_count": null,
   "id": "3d80a041-7228-4fb8-a9a0-3ece38f89107",
   "metadata": {},
   "outputs": [],
   "source": [
    "df.info()"
   ]
  },
  {
   "cell_type": "code",
   "execution_count": null,
   "id": "423252ea-7700-4be2-ba73-06412477d36b",
   "metadata": {},
   "outputs": [],
   "source": [
    "df.describe()"
   ]
  }
 ],
 "metadata": {
  "kernelspec": {
   "display_name": "Python 3 (ipykernel)",
   "language": "python",
   "name": "python3"
  },
  "language_info": {
   "codemirror_mode": {
    "name": "ipython",
    "version": 3
   },
   "file_extension": ".py",
   "mimetype": "text/x-python",
   "name": "python",
   "nbconvert_exporter": "python",
   "pygments_lexer": "ipython3",
   "version": "3.10.6"
  }
 },
 "nbformat": 4,
 "nbformat_minor": 5
}
