{
 "cells": [
  {
   "cell_type": "markdown",
   "id": "6856fc7c-e654-4ab9-af2e-6bfbb4858976",
   "metadata": {},
   "source": [
    "# Preprocessing B4B data"
   ]
  },
  {
   "cell_type": "code",
   "execution_count": null,
   "id": "d099eec7-e0ca-4d52-bd04-e58bffd90633",
   "metadata": {
    "tags": []
   },
   "outputs": [],
   "source": [
    "import pandas as pd\n",
    "import numpy as np\n",
    "import pylab as plt\n",
    "\n",
    "# usually, two decimals suffice for displaying DataFrames (NB internally, precision may be higher)\n",
    "pd.options.display.precision = 2\n",
    "\n",
    "import sys\n",
    "sys.path.append('../data/')\n",
    "sys.path.append('../view/')\n",
    "\n",
    "%load_ext autoreload\n",
    "\n",
    "%matplotlib inline\n",
    "%matplotlib widget\n",
    "\n",
    "from preprocessor import Preprocessor\n",
    "from plotter import Plot"
   ]
  },
  {
   "cell_type": "markdown",
   "id": "2c867b6c-3e5c-478d-aab5-cc3a0b9f2afc",
   "metadata": {},
   "source": [
    "### Load Measured Data from parquet file"
   ]
  },
  {
   "cell_type": "code",
   "execution_count": null,
   "id": "99763197-f115-4b09-93c0-c70d06c8963b",
   "metadata": {},
   "outputs": [],
   "source": [
    "%%time\n",
    "# Prerequisite: for this example to work, you need to have the b4b_raw_properties.parquet, located in the ../data/ folder.\n",
    "# One way to get this is to run B4BExtractionBackup.ipynb first, but then you have to run this code on the energietransitiewindesheim.nl server\n",
    "\n",
    "df_prop = pd.read_parquet('../data/b4b_raw_properties.parquet', engine='pyarrow')\n",
    "\n",
    "#sorting the DataFrame index is needed to get good performance on certain filters\n",
    "#this guarding code to check whether DataFramews are properly sorted\n",
    "if not df_prop.index.is_monotonic_increasing:\n",
    "    print('df needed index sorting')\n",
    "    df_prop = df_prop.sort_index()  "
   ]
  },
  {
   "cell_type": "code",
   "execution_count": null,
   "id": "f2b4899d-94f9-4307-92ca-80b55014977c",
   "metadata": {
    "tags": []
   },
   "outputs": [],
   "source": [
    "df_prop.index.unique(level='id').values"
   ]
  },
  {
   "cell_type": "code",
   "execution_count": null,
   "id": "d3187fc4-cf50-420d-a644-05a90e131443",
   "metadata": {
    "tags": []
   },
   "outputs": [],
   "source": [
    "df_prop.index.unique(level='source').values"
   ]
  },
  {
   "cell_type": "code",
   "execution_count": null,
   "id": "41467d69-f38b-4ec0-9775-f19ef2afac53",
   "metadata": {},
   "outputs": [],
   "source": [
    "df_prop"
   ]
  },
  {
   "cell_type": "code",
   "execution_count": null,
   "id": "fafe1564-83b7-4f3b-85f2-77e491f23903",
   "metadata": {
    "tags": []
   },
   "outputs": [],
   "source": [
    "df_prop.info()"
   ]
  },
  {
   "cell_type": "markdown",
   "id": "7503b1dd-cc8f-4c3b-949f-d58074195bce",
   "metadata": {},
   "source": [
    "### Plotting data using in analysis"
   ]
  },
  {
   "cell_type": "code",
   "execution_count": null,
   "id": "290e5875-a0ab-4beb-b91c-43561696b289",
   "metadata": {
    "tags": []
   },
   "outputs": [],
   "source": [
    "%autoreload 2\n",
    "units_to_mathtext = property_types = {\n",
    "    'degC' : r'$°C$',\n",
    "    'ppm' : r'$ppm$',\n",
    "    '0' : r'$[-]$',\n",
    "    'bool': r'$0 = False; 1 = True$',\n",
    "    'p' : r'$persons$'\n",
    "}"
   ]
  },
  {
   "cell_type": "code",
   "execution_count": null,
   "id": "2041336a-4ab1-414a-99fe-557ee87e69c3",
   "metadata": {
    "tags": []
   },
   "outputs": [],
   "source": [
    "# %%time\n",
    "\n",
    "# #Plot all properties with a single unit for a single id\n",
    "# Plot.dataframe_properties_plot(df_prop.loc[[948634, 999169]][[prop for prop in df_prop.columns.values if prop.split('__')[-1] in['ppm', '0', 'bool']]], units_to_mathtext)"
   ]
  },
  {
   "cell_type": "markdown",
   "id": "f358df11-1f90-4db2-8693-6016ab0663e4",
   "metadata": {
    "tags": []
   },
   "source": [
    "## Inspecting statistics"
   ]
  },
  {
   "cell_type": "code",
   "execution_count": null,
   "id": "91850626-b7a4-435f-8d33-497194ad0b39",
   "metadata": {
    "tags": []
   },
   "outputs": [],
   "source": [
    "# props = [prop for prop in df_prop.columns.values if prop.split('__')[-1] in['ppm', '0', 'bool', 'p']]\n",
    "props = ['co2__ppm', 'valve_frac__0', 'occupancy__p', 'occupancy__bool']"
   ]
  },
  {
   "cell_type": "code",
   "execution_count": null,
   "id": "97251ed5-0d50-4d42-b48c-2ed35996a825",
   "metadata": {
    "tags": []
   },
   "outputs": [],
   "source": [
    "props"
   ]
  },
  {
   "cell_type": "code",
   "execution_count": null,
   "id": "ca02a2db-a1b4-49bd-9873-49c4b6d121bd",
   "metadata": {
    "tags": []
   },
   "outputs": [],
   "source": [
    "df_prop[props].info()"
   ]
  },
  {
   "cell_type": "code",
   "execution_count": null,
   "id": "6e452c12-2738-4337-8654-198b455d7e41",
   "metadata": {
    "tags": []
   },
   "outputs": [],
   "source": [
    "df = df_prop[props] \n",
    "stats = df.groupby(level=['source', 'id']).describe().transpose()\n",
    "stats.columns = stats.columns.swaplevel(0,1)\n",
    "stats = stats.sort_index(axis=1, level=0)\n",
    "stats"
   ]
  },
  {
   "cell_type": "code",
   "execution_count": null,
   "id": "5eed48be-876e-4cb9-9146-fe1d429d94a3",
   "metadata": {
    "tags": []
   },
   "outputs": [],
   "source": [
    "%matplotlib inline\n",
    "%matplotlib widget\n",
    "prop = 'co2__ppm'\n",
    "df_prop[prop].plot.hist(bins=200, alpha=0.5, title = prop)"
   ]
  },
  {
   "cell_type": "code",
   "execution_count": null,
   "id": "f7b20042-3042-492b-ad03-8b059219b964",
   "metadata": {
    "tags": []
   },
   "outputs": [],
   "source": [
    "%matplotlib inline\n",
    "%matplotlib widget\n",
    "prop = 'valve_frac__0'\n",
    "df_prop[prop].plot.hist(bins=200, alpha=0.5, title = prop)"
   ]
  },
  {
   "cell_type": "code",
   "execution_count": null,
   "id": "039cd809-72c3-4de5-9316-12727d4d666d",
   "metadata": {
    "tags": []
   },
   "outputs": [],
   "source": [
    "%matplotlib inline\n",
    "%matplotlib widget\n",
    "prop = 'occupancy__p'\n",
    "df_prop[prop].plot.hist(bins=200, alpha=0.5, title = prop)"
   ]
  },
  {
   "cell_type": "code",
   "execution_count": null,
   "id": "b32418c0-aab7-4ee7-9fcf-7563962c873c",
   "metadata": {
    "tags": []
   },
   "outputs": [],
   "source": [
    "%matplotlib inline\n",
    "%matplotlib widget\n",
    "prop = 'occupancy__bool'\n",
    "df_prop[prop].plot.hist(bins=200, alpha=0.5, title = prop)"
   ]
  },
  {
   "cell_type": "markdown",
   "id": "580571f1-8946-4c81-a80f-f43cd44c05ce",
   "metadata": {
    "tags": []
   },
   "source": [
    "## Preprocessing co2__ppm\n",
    "Filtering out measurement errors of 0 ppm below 5 ppm"
   ]
  },
  {
   "cell_type": "code",
   "execution_count": null,
   "id": "8186ed45-a06a-44d0-8606-c5658481ae31",
   "metadata": {},
   "outputs": [],
   "source": [
    "prop = 'co2__ppm'"
   ]
  },
  {
   "cell_type": "code",
   "execution_count": null,
   "id": "f5a2e75d-cd19-40bb-8269-88f6831bbc27",
   "metadata": {},
   "outputs": [],
   "source": [
    "%matplotlib inline\n",
    "%matplotlib widget\n",
    "df_prop[prop].plot.hist(bins=200, alpha=0.5, title = prop)"
   ]
  },
  {
   "cell_type": "code",
   "execution_count": null,
   "id": "b7070028-08e4-48bc-98c6-5514228bf788",
   "metadata": {
    "tags": []
   },
   "outputs": [],
   "source": [
    "df = (df_prop[prop]\n",
    "      .unstack([0,1])\n",
    "      .dropna(how='all', axis=1)\n",
    "      .dropna(how='all', axis=0)\n",
    "      .stack([0,1])\n",
    "      .swaplevel(0,2)\n",
    "      .swaplevel(0,1)\n",
    "      .sort_index()\n",
    "     )\n",
    "\n",
    "# create subplots for each combination of id and source\n",
    "fig, axes = plt.subplots(nrows=len(df.index.levels[0]), ncols=len(df.index.levels[1]), figsize=(20, 10))\n",
    "\n",
    "# set title for each subplot\n",
    "for i, id in enumerate(df.index.levels[0]):\n",
    "    for j, source in enumerate(df.index.levels[1]):\n",
    "        axes[i, j].set_title(f\"id: {id}, Source: {source}\")\n",
    "\n",
    "# plot histogram for each combination of id and source\n",
    "for i, id in enumerate(df.index.levels[0]):\n",
    "    for j, source in enumerate(df.index.levels[1]):\n",
    "        try:\n",
    "            data = df.loc[(id, source)].dropna()\n",
    "        except KeyError:\n",
    "            continue\n",
    "        axes[i, j].hist(data, bins=100)\n",
    "        # axes[i, j].set_xlabel('CO2 (ppm)')\n",
    "        # axes[i, j].set_ylabel('Count')\n",
    "\n",
    "plt.tight_layout()\n",
    "plt.show()"
   ]
  },
  {
   "cell_type": "code",
   "execution_count": null,
   "id": "f4a4bd4f-6d5e-4696-9adf-2172bb43659f",
   "metadata": {
    "tags": []
   },
   "outputs": [],
   "source": [
    "df_prop[prop].info()"
   ]
  },
  {
   "cell_type": "code",
   "execution_count": null,
   "id": "f238fe32-2e3a-4378-bfbb-9daecb024d1f",
   "metadata": {
    "tags": []
   },
   "outputs": [],
   "source": [
    "df = df_prop[prop] \n",
    "stats = df.groupby(level=['source', 'id']).describe().transpose()\n",
    "stats.columns = stats.columns.swaplevel(0,1)\n",
    "stats = stats.sort_index(axis=1, level=0)\n",
    "stats.loc[['count', 'mean', 'min', 'max', 'std'],:]"
   ]
  },
  {
   "cell_type": "markdown",
   "id": "2a64a88f-c8cd-4ad8-8036-e064aee2407e",
   "metadata": {
    "tags": []
   },
   "source": [
    "#### Filter out values below 5 ppm, these must be measurement errors"
   ]
  },
  {
   "cell_type": "code",
   "execution_count": null,
   "id": "6085cc5a-004d-4df7-99f6-41a3842c8c10",
   "metadata": {
    "tags": []
   },
   "outputs": [],
   "source": [
    "df_prop = Preprocessor.filter_min_max(df_prop, prop, min=5)"
   ]
  },
  {
   "cell_type": "markdown",
   "id": "1565020c-b48c-4bf6-b78f-0cb6f1ad5d14",
   "metadata": {
    "tags": []
   },
   "source": [
    "#### Check to see whether minimum is better now"
   ]
  },
  {
   "cell_type": "code",
   "execution_count": null,
   "id": "c031721a-6d9a-4025-b6d4-ee533ab5ada0",
   "metadata": {},
   "outputs": [],
   "source": [
    "df_prop[prop].info()"
   ]
  },
  {
   "cell_type": "code",
   "execution_count": null,
   "id": "61f413e8-208d-4264-b054-6f4c6868604c",
   "metadata": {
    "tags": []
   },
   "outputs": [],
   "source": [
    "df = df_prop[prop] \n",
    "stats = df.groupby(level=['source', 'id']).describe().transpose()\n",
    "stats.columns = stats.columns.swaplevel(0,1)\n",
    "stats = stats.sort_index(axis=1, level=0)\n",
    "stats.loc[['count', 'mean', 'min', 'max', 'std'],:]"
   ]
  },
  {
   "cell_type": "code",
   "execution_count": null,
   "id": "0a98e119-0650-403c-b1c6-d73bc6254473",
   "metadata": {
    "tags": []
   },
   "outputs": [],
   "source": [
    "%matplotlib inline\n",
    "%matplotlib widget\n",
    "df_prop[prop].plot.hist(bins=200, alpha=0.5, title = prop)\n"
   ]
  },
  {
   "cell_type": "markdown",
   "id": "116673c4-580b-4e28-94b9-e7cf7afdad01",
   "metadata": {},
   "source": [
    "#### Filter out faulty co2 sensors that have std = 0 ppm "
   ]
  },
  {
   "cell_type": "code",
   "execution_count": null,
   "id": "67826f27-5006-4c45-890f-628857e0ff60",
   "metadata": {
    "tags": []
   },
   "outputs": [],
   "source": [
    "std = df_prop[prop].groupby(['id', 'source']).transform('std')\n",
    "# set values to np.nan where std is zero\n",
    "mask = std == 0\n",
    "df_prop[mask] = np.nan"
   ]
  },
  {
   "cell_type": "code",
   "execution_count": null,
   "id": "9edb00df-862c-490d-b7e8-98472cbc8ab1",
   "metadata": {
    "tags": []
   },
   "outputs": [],
   "source": [
    "df = df_prop[prop] \n",
    "stats = df.groupby(level=['source', 'id']).describe().transpose()\n",
    "stats.columns = stats.columns.swaplevel(0,1)\n",
    "stats = stats.sort_index(axis=1, level=0)\n",
    "stats.loc[['count', 'mean', 'min', 'max', 'std'],:]"
   ]
  },
  {
   "cell_type": "code",
   "execution_count": null,
   "id": "9abaf03c-375d-4045-b3fd-601e128ba75a",
   "metadata": {
    "tags": []
   },
   "outputs": [],
   "source": [
    "%matplotlib inline\n",
    "%matplotlib widget\n",
    "df_prop[prop].plot.hist(bins=200, alpha=0.5, title = prop)\n"
   ]
  },
  {
   "cell_type": "code",
   "execution_count": null,
   "id": "4ea8abd6-419a-41d5-ab45-e77ead5f6fa5",
   "metadata": {
    "tags": []
   },
   "outputs": [],
   "source": [
    "df = (df_prop[prop]\n",
    "      .unstack([0,1])\n",
    "      .dropna(how='all', axis=1)\n",
    "      .dropna(how='all', axis=0)\n",
    "      .stack([0,1])\n",
    "      .swaplevel(0,2)\n",
    "      .swaplevel(0,1)\n",
    "      .sort_index()\n",
    "     )\n",
    "\n",
    "# create subplots for each combination of id and source\n",
    "fig, axes = plt.subplots(nrows=len(df.index.levels[0]), ncols=len(df.index.levels[1]), figsize=(20, 10))\n",
    "\n",
    "# set title for each subplot\n",
    "for i, id in enumerate(df.index.levels[0]):\n",
    "    for j, source in enumerate(df.index.levels[1]):\n",
    "        axes[i, j].set_title(f\"id: {id}, Source: {source}\")\n",
    "\n",
    "# plot histogram for each combination of id and source\n",
    "for i, id in enumerate(df.index.levels[0]):\n",
    "    for j, source in enumerate(df.index.levels[1]):\n",
    "        try:\n",
    "            data = df.loc[(id, source)].dropna()\n",
    "        except KeyError:\n",
    "            continue\n",
    "        axes[i, j].hist(data, bins=100)\n",
    "        # axes[i, j].set_xlabel('CO2 (ppm)')\n",
    "        # axes[i, j].set_ylabel('Count')\n",
    "\n",
    "plt.tight_layout()\n",
    "plt.show()"
   ]
  },
  {
   "cell_type": "markdown",
   "id": "b509e7d0-e74c-4a57-a73c-b8add11e9686",
   "metadata": {
    "tags": []
   },
   "source": [
    "##### Interpolating  properties\n"
   ]
  },
  {
   "cell_type": "code",
   "execution_count": null,
   "id": "a9ccc8be-4926-473c-8460-802262ff7e6e",
   "metadata": {},
   "outputs": [],
   "source": [
    "%%time \n",
    "%autoreload 2\n",
    "\n",
    "property_types = {\n",
    "    'temp_in__degC' : 'float32',\n",
    "    'co2__ppm' : 'float32',\n",
    "    'rel_humidity__0' : 'float32',\n",
    "    'valve_frac__0' : 'float32',\n",
    "    'door_open__bool': 'Int8',\n",
    "    'window_open__bool': 'Int8',\n",
    "    'occupancy__bool': 'Int8',\n",
    "    'occupancy__p' : 'Int8'\n",
    "}\n",
    "\n",
    "df_interpolated = Preprocessor.interpolate_time(df_prop,\n",
    "                                        property_dict = property_types,\n",
    "                                        upsample__min = 5,\n",
    "                                        interpolate__min = 15,\n",
    "                                        limit__min = 90,\n",
    "                                        inplace=False\n",
    "                                       )"
   ]
  },
  {
   "cell_type": "code",
   "execution_count": null,
   "id": "3d80a041-7228-4fb8-a9a0-3ece38f89107",
   "metadata": {
    "tags": []
   },
   "outputs": [],
   "source": [
    "df_prop.info()"
   ]
  },
  {
   "cell_type": "code",
   "execution_count": null,
   "id": "423252ea-7700-4be2-ba73-06412477d36b",
   "metadata": {
    "tags": []
   },
   "outputs": [],
   "source": [
    "df_prop.describe()"
   ]
  },
  {
   "cell_type": "code",
   "execution_count": null,
   "id": "3751fa9e-229b-4256-92f8-51300236cd7a",
   "metadata": {},
   "outputs": [],
   "source": [
    "df_interpolated"
   ]
  },
  {
   "cell_type": "code",
   "execution_count": null,
   "id": "66729928-9844-4fb2-8a98-8734938f98f7",
   "metadata": {
    "tags": []
   },
   "outputs": [],
   "source": [
    "df_interpolated.info()"
   ]
  },
  {
   "cell_type": "markdown",
   "id": "d3e78617-2395-408a-a3fd-ab602a02b9f9",
   "metadata": {
    "tags": []
   },
   "source": [
    "#### Converting raw properties dataframe to preprocessed dataframe\n"
   ]
  },
  {
   "cell_type": "code",
   "execution_count": null,
   "id": "c4069b29-3eb4-454a-bd3b-0c2cbf0a8b7a",
   "metadata": {
    "tags": []
   },
   "outputs": [],
   "source": [
    "df_prep = Preprocessor.unstack_prop(df_interpolated)"
   ]
  },
  {
   "cell_type": "code",
   "execution_count": null,
   "id": "e4a364c1-efcb-4bd0-8ff3-85f4b0b735df",
   "metadata": {
    "tags": []
   },
   "outputs": [],
   "source": [
    "df_prep"
   ]
  },
  {
   "cell_type": "code",
   "execution_count": null,
   "id": "71bffcd1-f5ac-40d8-b11b-c8fa47302773",
   "metadata": {
    "tags": []
   },
   "outputs": [],
   "source": [
    "df_prep.info()"
   ]
  },
  {
   "cell_type": "markdown",
   "id": "2d60f558-2d51-4f13-bb57-67a351dcdeee",
   "metadata": {},
   "source": [
    "#### Writing raw properties to a parquet file"
   ]
  },
  {
   "cell_type": "code",
   "execution_count": null,
   "id": "3f7d2a34-c409-4f31-bbd6-2cc77e9ebbea",
   "metadata": {},
   "outputs": [],
   "source": [
    "%%time \n",
    "df_prop.to_parquet('b4b_raw_properties.parquet', index=True, engine='pyarrow')"
   ]
  },
  {
   "cell_type": "markdown",
   "id": "3a3b11c1-4641-425e-888a-285581f28209",
   "metadata": {
    "tags": []
   },
   "source": [
    "## Plotting results: time series before and after preprocessing"
   ]
  },
  {
   "cell_type": "code",
   "execution_count": null,
   "id": "1d92bba8-42b2-466f-a8d9-6d2bfcbfc06a",
   "metadata": {
    "tags": []
   },
   "outputs": [],
   "source": [
    "%autoreload 2\n",
    "units_to_mathtext = property_types = {\n",
    "    'degC' : r'$°C$',\n",
    "    'ppm' : r'$ppm$',\n",
    "    '0' : r'$[-]$',\n",
    "    'bool': r'$0 = False; 1 = True$',\n",
    "    'p' : r'$persons$'\n",
    "}"
   ]
  },
  {
   "cell_type": "code",
   "execution_count": null,
   "id": "d39bed76-c1a7-4b7b-b309-f03f47797a73",
   "metadata": {
    "tags": []
   },
   "outputs": [],
   "source": [
    "%%time\n",
    "#Plot all properties with a single unit for a single id\n",
    "Plot.dataframe_properties_plot(df_prop.loc[[999169]][[prop for prop in df_prop.columns.values if prop.split('__')[-1] == 'ppm']], units_to_mathtext)"
   ]
  },
  {
   "cell_type": "code",
   "execution_count": null,
   "id": "0c1e9406-ccbf-4185-99f5-9e2b25ca9c79",
   "metadata": {
    "tags": []
   },
   "outputs": [],
   "source": [
    "%%time\n",
    "#Plot all preprocessed properties with a single unit for a single id\n",
    "Plot.dataframe_preprocessed_plot(df_prep.loc[[999169]][[prop for prop in df_prep.columns.values if prop.split('__')[-1] == 'ppm']], units_to_mathtext)"
   ]
  },
  {
   "cell_type": "code",
   "execution_count": null,
   "id": "b39a7289-0664-4816-8867-3e7a3ab2fcc4",
   "metadata": {},
   "outputs": [],
   "source": [
    "# TO DO: add prop_ and prep_ in a `prop-prep` column; merge into single dataframe and unstack, thus allowing for close inspection of preprocessed data"
   ]
  },
  {
   "cell_type": "markdown",
   "id": "de68063b-39e2-416f-aff3-780be94cb803",
   "metadata": {
    "tags": []
   },
   "source": [
    "# Other examples: temp_in__degC, minmax filtering and using the static outlier filter, per id\n",
    "Filtering out extreme temperatures based on mean and standard deviation per room"
   ]
  },
  {
   "cell_type": "code",
   "execution_count": null,
   "id": "e6b2725c-83d5-4e57-a8cc-3d41d2cf0334",
   "metadata": {
    "tags": []
   },
   "outputs": [],
   "source": [
    "prop = 'temp_in__degC'"
   ]
  },
  {
   "cell_type": "code",
   "execution_count": null,
   "id": "5da2f03f-2841-4477-8b1d-92e508f729bc",
   "metadata": {
    "tags": []
   },
   "outputs": [],
   "source": [
    "df = df_prop[prop] \n",
    "stats = df.groupby(level=['source', 'id']).describe().transpose()\n",
    "stats.columns = stats.columns.swaplevel(0,1)\n",
    "stats = stats.sort_index(axis=1, level=0)\n",
    "stats.loc[['count', 'mean', 'min', 'max', 'std'],:]"
   ]
  },
  {
   "cell_type": "code",
   "execution_count": null,
   "id": "f155e727-e7f9-497b-9b18-eacd93510208",
   "metadata": {
    "tags": []
   },
   "outputs": [],
   "source": [
    "%matplotlib inline\n",
    "%matplotlib widget\n",
    "\n",
    "df_prop[prop].plot.hist(bins=200, alpha=0.5, title = prop)\n"
   ]
  },
  {
   "cell_type": "code",
   "execution_count": null,
   "id": "a5d99f1f-1136-4aca-a64a-d229e32dfcfe",
   "metadata": {
    "tags": []
   },
   "outputs": [],
   "source": [
    "df = (df_prop[prop]\n",
    "      .unstack([0,1])\n",
    "      .dropna(how='all', axis=1)\n",
    "      .dropna(how='all', axis=0)\n",
    "      .stack([0,1])\n",
    "      .swaplevel(0,2)\n",
    "      .swaplevel(0,1)\n",
    "      .sort_index()\n",
    "     )\n",
    "\n",
    "# create subplots for each combination of id and source\n",
    "fig, axes = plt.subplots(nrows=len(df.index.levels[0]), ncols=len(df.index.levels[1]), figsize=(20, 10))\n",
    "\n",
    "# set title for each subplot\n",
    "for i, id in enumerate(df.index.levels[0]):\n",
    "    for j, source in enumerate(df.index.levels[1]):\n",
    "        axes[i, j].set_title(f\"id: {id}, Source: {source}\")\n",
    "\n",
    "# plot histogram for each combination of id and source\n",
    "for i, id in enumerate(df.index.levels[0]):\n",
    "    for j, source in enumerate(df.index.levels[1]):\n",
    "        try:\n",
    "            data = df.loc[(id, source)].dropna()\n",
    "        except KeyError:\n",
    "            continue\n",
    "        axes[i, j].hist(data, bins=100)\n",
    "        # axes[i, j].set_xlabel('CO2 (ppm)')\n",
    "        # axes[i, j].set_ylabel('Count')\n",
    "\n",
    "plt.tight_layout()\n",
    "plt.show()"
   ]
  },
  {
   "cell_type": "code",
   "execution_count": null,
   "id": "28a0e4ac-4792-46e1-867c-9e25dccbcd9c",
   "metadata": {
    "tags": []
   },
   "outputs": [],
   "source": [
    "df_prop[prop].info()"
   ]
  },
  {
   "cell_type": "code",
   "execution_count": null,
   "id": "9eaa0973-ccfe-44ae-abb7-df9dcf48ec42",
   "metadata": {
    "tags": []
   },
   "outputs": [],
   "source": [
    "df = df_prop[prop] \n",
    "stats = df.groupby(level=['source', 'id']).describe().transpose()\n",
    "stats.columns = stats.columns.swaplevel(0,1)\n",
    "stats = stats.sort_index(axis=1, level=0)\n",
    "stats.loc[['count', 'mean', 'min', 'max', 'std'],:]"
   ]
  }
 ],
 "metadata": {
  "kernelspec": {
   "display_name": "Python 3 (ipykernel)",
   "language": "python",
   "name": "python3"
  },
  "language_info": {
   "codemirror_mode": {
    "name": "ipython",
    "version": 3
   },
   "file_extension": ".py",
   "mimetype": "text/x-python",
   "name": "python",
   "nbconvert_exporter": "python",
   "pygments_lexer": "ipython3",
   "version": "3.10.9"
  }
 },
 "nbformat": 4,
 "nbformat_minor": 5
}
