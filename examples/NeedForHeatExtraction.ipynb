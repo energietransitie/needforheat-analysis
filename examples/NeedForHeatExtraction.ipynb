{
 "cells": [
  {
   "cell_type": "markdown",
   "metadata": {
    "tags": []
   },
   "source": [
    "# REDUCEDHEATCARB data extraction and backup\n",
    "\n",
    "This JupyterLabs notebook can be used download raw data from a twomes_v2 database (see also [more information how to setup a backoffice server](https://github.com/energietransitie/twomes-backoffice-configuration#jupyterlab)).\n",
    "Don't forget to install the requirements listed in [requirements.txt](../requirements.txt) first!\n",
    "\n",
    "Make sure you have an Excel file pseudonyms.xlsx in the same folder as this notebook file, with columns 'pseudonym' and 'account_id', which define the mapping.\n"
   ]
  },
  {
   "cell_type": "markdown",
   "metadata": {
    "tags": []
   },
   "source": [
    "## Set the stage\n",
    "\n",
    "First several imports and variables need to be defined\n"
   ]
  },
  {
   "cell_type": "markdown",
   "metadata": {},
   "source": [
    "### Imports and generic settings"
   ]
  },
  {
   "cell_type": "code",
   "execution_count": null,
   "metadata": {},
   "outputs": [],
   "source": [
    "from datetime import datetime, timedelta\n",
    "import pytz\n",
    "import pylab as plt\n",
    "\n",
    "import pandas as pd\n",
    "import numpy as np\n",
    "\n",
    "# usually, two decimals suffice for displaying DataFrames (NB internally, precision may be higher)\n",
    "pd.options.display.precision = 2\n",
    "\n",
    "import sys\n",
    "sys.path.append('../data/')\n",
    "\n",
    "nfh_output_file_path='nfh_raw_meas.parquet'\n",
    "\n",
    "%load_ext autoreload\n",
    "import gc\n",
    "\n",
    "from measurements import Measurements\n",
    "\n",
    "from tqdm.notebook import tqdm\n",
    "\n",
    "\n",
    "import logging\n",
    "logging.basicConfig(level=logging.INFO, \n",
    "                    format='%(asctime)s %(levelname)-8s %(message)s',\n",
    "                    datefmt='%Y-%m-%d %H:%M:%S',\n",
    "                    filename='log.txt',\n",
    "                   )"
   ]
  },
  {
   "cell_type": "markdown",
   "metadata": {},
   "source": [
    "### Define which homes, which period \n",
    "\n",
    "- which `homes` \n",
    "- what the location and timezone is of those homes (currently, we only support one location and timezone for a batch of homes) \n",
    "- from which `start_day` to which `end_day` "
   ]
  },
  {
   "cell_type": "code",
   "execution_count": null,
   "metadata": {},
   "outputs": [],
   "source": [
    "# TODO: change weather interpolation location to a location per home (rounded to H3 coodrinates at a high level);\n",
    "# the location below is the center of Assendorp neighbourhood in Zwolle\n",
    "lat, lon = 52.50655, 6.09961\n",
    "\n",
    "# timezone: \n",
    "timezone_database = 'UTC'\n",
    "timezone_homes = 'Europe/Amsterdam'\n",
    "\n",
    "# Period: maximum period of datacollection\n",
    "first_day = pytz.timezone(timezone_homes).localize(datetime(2023, 12, 8))\n",
    "last_day = pytz.timezone(timezone_homes).localize(datetime(2024, 4, 1))\n",
    "\n",
    "# Period: Shorter period with suitable weather and lots of homes with measurements.\n",
    "# first_day = pytz.timezone(timezone_homes).localize(datetime(2024, 2, 12))\n",
    "# last_day = pytz.timezone(timezone_homes).localize(datetime(2024, 2, 25))\n",
    "\n",
    "\n",
    "# Properties: a single one\n",
    "needforheat_single_property_type = {\n",
    "    'co2__ppm' : 'float32'\n",
    "}\n",
    "needforheat_single_property = list(needforheat_single_property_type.keys())\n",
    "\n",
    "\n",
    "# Properties: limited set\n",
    "needforheat_limited_properties_types = {\n",
    "    'temp_in__degC' : 'float32',\n",
    "    'co2__ppm' : 'float32',\n",
    "    'e_use_lo_cum__kWh' : 'float64',\n",
    "    'e_use_hi_cum__kWh' : 'float64',\n",
    "    'e_ret_lo_cum__kWh' : 'float64',\n",
    "    'e_ret_hi_cum__kWh' : 'float64',\n",
    "    'g_use_cum__m3' : 'float64',\n",
    "    'occupancy__p' : 'Int8'\n",
    "}\n",
    "needforheat_limited_properties = list(needforheat_limited_properties_types.keys())\n",
    "\n",
    "\n",
    "# Properties:  full set\n",
    "needforheat_full_properties_types = {\n",
    "    'temp_in__degC' : 'float32',\n",
    "    'co2__ppm' : 'float32',\n",
    "    'rel_humidity__0' : 'float32',\n",
    "    'battery_voltage__V': 'float32',\n",
    "    'occupancy__p' : 'Int8',\n",
    "    'onboarded__p' : 'Int8',\n",
    "    'heartbeat' : 'Int16',\n",
    "    'e_use_lo_cum__kWh' : 'float64',\n",
    "    'e_use_hi_cum__kWh' : 'float64',\n",
    "    'e_ret_lo_cum__kWh' : 'float64',\n",
    "    'e_ret_hi_cum__kWh' : 'float64',\n",
    "    'g_use_cum__m3' : 'float64',\n",
    "    'meter_code__str': 'str',\n",
    "    'dsmr_version__0': 'float32',\n",
    "    'e_use_cum__kWh' : 'float64',\n",
    "    'e_ret_cum__kWh' : 'float64'\n",
    "}\n",
    "needforheat_full_properties = list(needforheat_full_properties_types.keys())\n",
    "\n",
    "map_source_category = {\n",
    "    'twomes-p1-reader-firmware': 'device',\n",
    "    'enelogic': 'cloud_feed',\n",
    "    'twomes-co2-occupancy-scd41-m5coreink-firmware': 'device'\n",
    "}\n"
   ]
  },
  {
   "cell_type": "code",
   "execution_count": null,
   "metadata": {
    "tags": []
   },
   "outputs": [],
   "source": [
    "# Load Excel file into DataFrame, with columns 'pseudonym' and 'account_id', which define the mapping\n",
    "# Make sure you have an Excel file pseudonyms.xlsx in the same folder as this notebook file.\n",
    "\n",
    "df_pseudonym_mapping = pd.read_excel('pseudonyms.xlsx')\n",
    "\n",
    "# Create a dictionary mapping pseudonyms to account_ids\n",
    "pseudonym_to_account_id = dict(zip(df_pseudonym_mapping['pseudonym'], df_pseudonym_mapping['account_id']))\n",
    "\n",
    "# Create a dictionary mapping account_ids to pseudonyms\n",
    "account_id_to_pseudonym = dict(zip(df_pseudonym_mapping['account_id'], df_pseudonym_mapping['pseudonym']))\n"
   ]
  },
  {
   "cell_type": "code",
   "execution_count": null,
   "metadata": {
    "tags": []
   },
   "outputs": [],
   "source": [
    "# Homes: full set of subjects that started and did not stop\n",
    "homes_full = [401632, 403603, 404873, 410260, 412715, 424197, 429011, 430062, 434931, 438708, 440152, 444964, 449134, 450051, 450298, 456638, 458000, 458852, 478667, 483173, 487126, 487289, 494233, 495906]\n",
    "\n",
    "# Homes: subset that satisfy 6 criteria: 1_app_activated__bool, 2a_p1_activated__bool, 2b_woonkamermodule_activated__bool, 3b_completed_onboarding__bool, 4a_enelogic_auth__bool, 4b_enelogic_data_bool\n",
    "homes_all = [401632, 403603, 404873, 410260, 412715, 424197, 429011, 430062, 434931, 444964, 449134, 450298, 456638, 458000, 458852, 478667, 483173, 487126, 494233, 495906]\n",
    "\n",
    "#Homes: 3 homes (for testing multi-home data retrieval)\n",
    "homes_3 = [401632, 410260, 424197]\n",
    "\n",
    "# Homes: single home (for testing purposes)\n",
    "homes_single = [424197]\n"
   ]
  },
  {
   "cell_type": "markdown",
   "metadata": {},
   "source": [
    "## Get measurements for 1 property, 1 home"
   ]
  },
  {
   "cell_type": "code",
   "execution_count": null,
   "metadata": {
    "tags": []
   },
   "outputs": [],
   "source": [
    "homes = homes_single\n",
    "properties = needforheat_single_property\n",
    "types = needforheat_single_property_type"
   ]
  },
  {
   "cell_type": "code",
   "execution_count": null,
   "metadata": {},
   "outputs": [],
   "source": [
    "%%time \n",
    "%autoreload 2\n",
    "df_meas= Measurements.get_needforheat_measurements(\n",
    "    [pseudonym_to_account_id[pseudonym] for pseudonym in homes],\n",
    "    first_day, last_day,\n",
    "    properties,\n",
    "    timezone_database, timezone_homes)\n",
    "df_meas.index = df_meas.index.set_levels(df_meas.index.levels[0].map(account_id_to_pseudonym), level=0)"
   ]
  },
  {
   "cell_type": "code",
   "execution_count": null,
   "metadata": {},
   "outputs": [],
   "source": [
    "df_meas.info()"
   ]
  },
  {
   "cell_type": "code",
   "execution_count": null,
   "metadata": {
    "tags": []
   },
   "outputs": [],
   "source": [
    "df_meas"
   ]
  },
  {
   "cell_type": "markdown",
   "metadata": {},
   "source": [
    "## Get measuremens for more properties for 3 homes"
   ]
  },
  {
   "cell_type": "code",
   "execution_count": null,
   "metadata": {
    "tags": []
   },
   "outputs": [],
   "source": [
    "homes = homes_3\n",
    "properties = needforheat_limited_properties\n",
    "types = needforheat_limited_properties_types"
   ]
  },
  {
   "cell_type": "code",
   "execution_count": null,
   "metadata": {
    "tags": []
   },
   "outputs": [],
   "source": [
    "%%time \n",
    "%autoreload 2\n",
    "df_meas= Measurements.get_needforheat_measurements(\n",
    "    [pseudonym_to_account_id[pseudonym] for pseudonym in homes],\n",
    "    first_day, last_day,\n",
    "    properties,\n",
    "    timezone_database, timezone_homes)\n",
    "df_meas.index = df_meas.index.set_levels(df_meas.index.levels[0].map(account_id_to_pseudonym), level=0)"
   ]
  },
  {
   "cell_type": "code",
   "execution_count": null,
   "metadata": {},
   "outputs": [],
   "source": [
    "df_meas.info()"
   ]
  },
  {
   "cell_type": "code",
   "execution_count": null,
   "metadata": {
    "scrolled": true
   },
   "outputs": [],
   "source": [
    "df_meas"
   ]
  },
  {
   "cell_type": "markdown",
   "metadata": {},
   "source": [
    "### Transform the index to new format (id, source_category, source_type, timestamp)"
   ]
  },
  {
   "cell_type": "code",
   "execution_count": null,
   "metadata": {},
   "outputs": [],
   "source": [
    "# Rename the 'source' level to 'source_type'\n",
    "df_meas = df_meas.rename_axis(index={'source': 'source_type'})\n",
    "\n",
    "# Drop the 'device_name' level from the MultiIndex\n",
    "df_meas.index = df_meas.index.droplevel('device_name')\n",
    "\n",
    "# Create a new column 'source_category' based on the mapping of 'source_type'\n",
    "df_meas['source_category'] = df_meas.index.get_level_values('source_type').map(map_source_category)\n",
    "\n",
    "# Reset the index to separate the index levels from the new column\n",
    "df_meas.reset_index(inplace=True)\n",
    "\n",
    "# Set 'source_category' as the index level\n",
    "df_meas.set_index(['id', 'source_category', 'source_type', 'timestamp', 'property'], inplace=True)"
   ]
  },
  {
   "cell_type": "code",
   "execution_count": null,
   "metadata": {},
   "outputs": [],
   "source": [
    "df_meas"
   ]
  },
  {
   "cell_type": "markdown",
   "metadata": {},
   "source": [
    "### Get measurements for all properties for the list homes_all"
   ]
  },
  {
   "cell_type": "code",
   "execution_count": null,
   "metadata": {
    "tags": []
   },
   "outputs": [],
   "source": [
    "# homes = homes_full\n",
    "homes = homes_all\n",
    "properties = needforheat_full_properties\n",
    "types = needforheat_full_properties_types"
   ]
  },
  {
   "cell_type": "code",
   "execution_count": null,
   "metadata": {},
   "outputs": [],
   "source": [
    "len(homes)"
   ]
  },
  {
   "cell_type": "code",
   "execution_count": null,
   "metadata": {},
   "outputs": [],
   "source": [
    "%%time \n",
    "%autoreload 2\n",
    "df_meas= Measurements.get_needforheat_measurements(\n",
    "    [pseudonym_to_account_id[pseudonym] for pseudonym in homes] ,\n",
    "    first_day, last_day,\n",
    "    properties,\n",
    "    timezone_database, timezone_homes)\n",
    "df_meas.index = df_meas.index.set_levels(df_meas.index.levels[0].map(account_id_to_pseudonym), level=0)"
   ]
  },
  {
   "cell_type": "code",
   "execution_count": null,
   "metadata": {},
   "outputs": [],
   "source": [
    "# Rename the 'source' level to 'source_type'\n",
    "df_meas = df_meas.rename_axis(index={'source': 'source_type'})\n",
    "\n",
    "# Drop the 'device_name' level from the MultiIndex\n",
    "df_meas.index = df_meas.index.droplevel('device_name')\n",
    "\n",
    "# Create a new column 'source_category' based on the mapping of 'source_type'\n",
    "df_meas['source_category'] = df_meas.index.get_level_values('source_type').map(map_source_category)\n",
    "\n",
    "# Reset the index to separate the index levels from the new column\n",
    "df_meas.reset_index(inplace=True)\n",
    "\n",
    "# Set 'source_category' as the index level\n",
    "df_meas.set_index(['id', 'source_category', 'source_type', 'timestamp', 'property'], inplace=True)"
   ]
  },
  {
   "cell_type": "code",
   "execution_count": null,
   "metadata": {},
   "outputs": [],
   "source": [
    "df_meas.info()"
   ]
  },
  {
   "cell_type": "code",
   "execution_count": null,
   "metadata": {},
   "outputs": [],
   "source": [
    "df_meas['value'].count()"
   ]
  },
  {
   "cell_type": "code",
   "execution_count": null,
   "metadata": {},
   "outputs": [],
   "source": [
    "df_meas"
   ]
  },
  {
   "cell_type": "markdown",
   "metadata": {},
   "source": [
    "## Write to parquet file(s)"
   ]
  },
  {
   "cell_type": "markdown",
   "metadata": {
    "tags": []
   },
   "source": [
    "### Write raw measurements to a parquet file"
   ]
  },
  {
   "cell_type": "code",
   "execution_count": null,
   "metadata": {},
   "outputs": [],
   "source": [
    "%%time \n",
    "df_meas.to_parquet(nfh_output_file_path, index=True, engine='pyarrow')"
   ]
  },
  {
   "cell_type": "markdown",
   "metadata": {},
   "source": [
    "### Write raw measurements per home to parquet files"
   ]
  },
  {
   "cell_type": "code",
   "execution_count": null,
   "metadata": {},
   "outputs": [],
   "source": [
    "%%time \n",
    "for home_id in tqdm(list(df_meas.index.unique(level='id'))):\n",
    "    df_meas.xs(home_id, drop_level=False).to_parquet(f'{home_id}_raw_measurements.parquet', index=True, engine='pyarrow')"
   ]
  },
  {
   "cell_type": "code",
   "execution_count": null,
   "metadata": {},
   "outputs": [],
   "source": []
  }
 ],
 "metadata": {
  "kernelspec": {
   "display_name": "Python 3 (ipykernel)",
   "language": "python",
   "name": "python3"
  },
  "language_info": {
   "codemirror_mode": {
    "name": "ipython",
    "version": 3
   },
   "file_extension": ".py",
   "mimetype": "text/x-python",
   "name": "python",
   "nbconvert_exporter": "python",
   "pygments_lexer": "ipython3",
   "version": "3.11.6"
  }
 },
 "nbformat": 4,
 "nbformat_minor": 4
}
