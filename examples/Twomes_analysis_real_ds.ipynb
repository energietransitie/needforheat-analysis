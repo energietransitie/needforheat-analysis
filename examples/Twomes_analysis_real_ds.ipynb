{
 "cells": [
  {
   "cell_type": "markdown",
   "id": "02aa6298-301d-4d2f-b59e-7bc2432c67d4",
   "metadata": {},
   "source": [
    "# Twomes virtual home interactive inverse grey-box analysis pipeline\n",
    "\n",
    "This Jupyter Labs notebook can be used to interactively test the Twomes inverse grey-box analysis pipeline.\n",
    "Don't forget to install the requirements listed in [requirements.txt](../requirements.txt) first!"
   ]
  },
  {
   "cell_type": "markdown",
   "id": "40e8f82e-93a6-4156-b4cb-4744c4cc8c13",
   "metadata": {},
   "source": [
    "## Setting the stage\n",
    "\n",
    "First several imports and variables need to be defined\n"
   ]
  },
  {
   "cell_type": "markdown",
   "id": "b276aade-cd93-4e8a-957d-fdc2d3a84336",
   "metadata": {},
   "source": [
    "### Imports and generic settings"
   ]
  },
  {
   "cell_type": "code",
   "execution_count": null,
   "id": "08d2d6ec-cf03-47d6-a505-bf37716c4700",
   "metadata": {},
   "outputs": [],
   "source": [
    "import os\n",
    "\n",
    "import numpy as np\n",
    "import pandas as pd\n",
    "import matplotlib.pyplot as plt\n",
    "%matplotlib widget\n",
    "\n",
    "\n",
    "from tqdm.notebook import tqdm\n",
    "\n",
    "from gekko import GEKKO\n",
    "\n",
    "import sys\n",
    "sys.path.append('../data/')\n",
    "sys.path.append('../view/')\n",
    "sys.path.append('../analysis/')\n",
    "\n",
    "# usually, two decimals suffice for displaying DataFrames (NB internally, precision may be higher)\n",
    "pd.options.display.precision = 2\n",
    "\n",
    "%load_ext autoreload\n",
    "\n",
    "from preprocessor import Preprocessor\n",
    "from inversegreyboxmodel import Learner\n",
    "\n",
    "%matplotlib inline\n",
    "%matplotlib widget\n",
    "\n",
    "from plotter import Plot\n",
    "\n"
   ]
  },
  {
   "attachments": {},
   "cell_type": "markdown",
   "id": "af032baa-340f-470a-85f2-474d4cdbbf5c",
   "metadata": {},
   "source": [
    "### Load Data from Real Homes"
   ]
  },
  {
   "cell_type": "code",
   "execution_count": null,
   "id": "b5e7efbd-0e08-4b28-82aa-d89a4f8219ba",
   "metadata": {},
   "outputs": [],
   "source": [
    "%%time\n",
    "# Prerequisite: for this example to work, you need to have the b4b_raw_properties.parquet, located e.g. in the ../data/B4B_virtual_ds/ folder.\n",
    "# One way to get this is to run B4BExtractionBackup.ipynb first\n",
    "df_prop = pd.read_parquet('../data/twomes_realhomes_raw_properties.parquet', engine='pyarrow')\n",
    "\n",
    "#sorting the DataFrame index is needed to get good performance on certain filters\n",
    "#this guarding code to check whether DataFramews are properly sorted\n",
    "if not df_prop.index.is_monotonic_increasing:\n",
    "    print('df_prop needed index sorting')\n",
    "    df_prop = df_prop.sort_index()  "
   ]
  },
  {
   "cell_type": "code",
   "execution_count": null,
   "id": "31ff05f9-980e-491b-a65d-3713902afe75",
   "metadata": {},
   "outputs": [],
   "source": [
    "df_prop.index.unique(level='id')"
   ]
  },
  {
   "cell_type": "code",
   "execution_count": null,
   "id": "8e724e0f-3a7b-4c22-a574-f88dd7cfb02e",
   "metadata": {},
   "outputs": [],
   "source": [
    "df_prop"
   ]
  },
  {
   "attachments": {},
   "cell_type": "markdown",
   "id": "8d39d911-ebc4-4b07-af8e-0f64cb364126",
   "metadata": {},
   "source": [
    "### Convert real home property data to preprocessed data"
   ]
  },
  {
   "cell_type": "code",
   "execution_count": null,
   "id": "d7732187-857f-4f0b-8c6a-f3f5de4c4a04",
   "metadata": {},
   "outputs": [],
   "source": [
    "# TODO: for real home data (with no noise and measurement errors), preprocessing is NOT trivial\n",
    "df_prep = Preprocessor.unstack_prop(df_prop)\n",
    "\n",
    "# TODO: more preprocessing "
   ]
  },
  {
   "cell_type": "code",
   "execution_count": null,
   "id": "0ad4c804-239c-420c-b89d-3d267b9da608",
   "metadata": {},
   "outputs": [],
   "source": [
    "df_prep.info()"
   ]
  },
  {
   "cell_type": "code",
   "execution_count": null,
   "id": "3a75f215-8c3d-4cd0-9f8d-13ada692b3e7",
   "metadata": {},
   "outputs": [],
   "source": [
    "df_prep"
   ]
  },
  {
   "cell_type": "code",
   "execution_count": null,
   "id": "aa218f9d-4ae8-43ab-b88d-6d15a89e614c",
   "metadata": {},
   "outputs": [],
   "source": [
    "%autoreload 2\n",
    "units_to_mathtext = property_types = {\n",
    "    'degC' : r'$°C$',\n",
    "    'ppm' : r'$ppm$',\n",
    "    '0' : r'$[-]$',\n",
    "    'bool': r'$0 = False; 1 = True$',\n",
    "    'p' : r'$persons$',\n",
    "    'W' : r'$W$',\n",
    "    'W_m_2' : r'$W/m^{2}$',\n",
    "    'm_s_1' : r'$m/s$'    \n",
    "}"
   ]
  },
  {
   "cell_type": "code",
   "execution_count": null,
   "id": "b57fe0ff-48de-4dce-bdb0-a23f3ac5ea06",
   "metadata": {
    "tags": []
   },
   "outputs": [],
   "source": [
    "# visuaize all input data\n",
    "df_plot = df_prep"
   ]
  },
  {
   "cell_type": "code",
   "execution_count": null,
   "id": "67b9a3da-c2bf-4558-9618-b4f0ed0aeac9",
   "metadata": {
    "tags": []
   },
   "outputs": [],
   "source": [
    "df_plot.info()"
   ]
  },
  {
   "cell_type": "code",
   "execution_count": null,
   "id": "2584f526-caa6-4978-8dec-09e737ba3648",
   "metadata": {
    "tags": []
   },
   "outputs": [],
   "source": [
    "#Plot all properties from all sources for all ids\n",
    "Plot.dataframe_preprocessed_plot(df_plot, units_to_mathtext)"
   ]
  },
  {
   "cell_type": "markdown",
   "id": "bffda6fb-9c44-481d-a187-66704d4544ac",
   "metadata": {
    "tags": []
   },
   "source": [
    "## Learn parameters using inverse grey-box analysis\n",
    "\n",
    "Most of the heavy lifting is done by the `learn_home_parameters()` function, which again uses the [GEKKO Python](https://machinelearning.byu.edu/) dynamic optimization toolkit."
   ]
  },
  {
   "cell_type": "code",
   "execution_count": null,
   "id": "71204e0c-995a-4a20-b100-ade7b0508acb",
   "metadata": {
    "tags": []
   },
   "outputs": [],
   "source": [
    "%%time \n",
    "%autoreload 2\n",
    "# set room metadata to None, then learn_room_parameters() will derive the metadata from the ids.\n",
    "\n",
    "hints = {\n",
    "    'A__m2': 12.0,                                     # initial estimate for apparent solar aperture\n",
    "    'eta_sup_CH__0' : 0.97,                            # average home heating efficiency of a gas boiler (superior value)\n",
    "    'eta_sup_noCH__0' : 0.34,                          # average home heating efficiency indirecly DHW & cooking (superior value)\n",
    "    'g_noCH__m3_a_1' : 339,                            # average gas use in m^3 per year for other purposes than home heating \n",
    "    'occupancy__p' : (2.2 * 7.7/24),                   # average house occupancy (2.2 persons, 7.7 of 24h )\n",
    "    'Q_gain_int__W_p_1' : (77 * 8.6/24 + 105 * 7.7/24) # average heat gain per occupant (77W for 8.6 hours, 105W for 7.7 hours)\n",
    "}\n",
    "\n",
    "learn = ['A__m2']\n",
    "\n",
    "#select column names\n",
    "property_sources = {\n",
    "    'temp_out__degC' : 'model_temp_out__degC',\n",
    "    'wind__m_s_1' : 'model_wind__m_s_1',\n",
    "    'ghi__W_m_2' : 'model_ghi__W_m_2', \n",
    "    'g_use__W' : 'model_g_use__W',\n",
    "    'e_use__W' : 'model_e_use__W',\n",
    "    'e_ret__W' : 'model_e_ret__W'\n",
    "}\n",
    "\n",
    "# learn the model parameters and write results to a dataframe\n",
    "df_results_per_period, df_results = Learner.learn_home_parameters(df_prep, \n",
    "                                                                  property_sources = property_sources, \n",
    "                                                                  learn = learn, \n",
    "                                                                  hints = hints,\n",
    "                                                                  ev_type = 2\n",
    "                                                                 )"
   ]
  },
  {
   "cell_type": "markdown",
   "id": "5449c5bd-9446-4814-82bb-da2a228bc27b",
   "metadata": {},
   "source": [
    "### Result Visualization"
   ]
  },
  {
   "cell_type": "code",
   "execution_count": null,
   "id": "f22a7858-e055-4f7c-b493-954f0bf5b549",
   "metadata": {},
   "outputs": [],
   "source": [
    "df_results_per_period"
   ]
  },
  {
   "cell_type": "code",
   "execution_count": null,
   "id": "88306340-8435-4302-acd4-fd3a5a6e0f5f",
   "metadata": {},
   "outputs": [],
   "source": [
    "df_results"
   ]
  },
  {
   "cell_type": "code",
   "execution_count": null,
   "id": "5886cea4-8f61-4995-91a2-ee53902335cd",
   "metadata": {},
   "outputs": [],
   "source": [
    "df_plot = df_prep[[prop for prop in df_prep.columns.values if prop.split('__')[-1] == 'degC']]"
   ]
  },
  {
   "cell_type": "code",
   "execution_count": null,
   "id": "29d4dd2f-1659-438b-911d-a4cb3f5edd4f",
   "metadata": {},
   "outputs": [],
   "source": [
    "#Plot only temperatures from all sources for all ids\n",
    "Plot.dataframe_preprocessed_plot(df_plot, units_to_mathtext)"
   ]
  },
  {
   "cell_type": "code",
   "execution_count": null,
   "id": "d1fb57c7-5e48-45ba-ab56-59279d77a404",
   "metadata": {},
   "outputs": [],
   "source": [
    "df_lot = df_prep"
   ]
  },
  {
   "cell_type": "code",
   "execution_count": null,
   "id": "3e186b4b-e2de-45f6-ba53-39105a013a9a",
   "metadata": {
    "tags": []
   },
   "outputs": [],
   "source": [
    "#Plot all properties from all sources for all ids\n",
    "Plot.dataframe_preprocessed_plot(df_plot, units_to_mathtext)"
   ]
  }
 ],
 "metadata": {
  "kernelspec": {
   "display_name": "Python 3 (ipykernel)",
   "language": "python",
   "name": "python3"
  },
  "language_info": {
   "codemirror_mode": {
    "name": "ipython",
    "version": 3
   },
   "file_extension": ".py",
   "mimetype": "text/x-python",
   "name": "python",
   "nbconvert_exporter": "python",
   "pygments_lexer": "ipython3",
   "version": "3.10.6"
  },
  "vscode": {
   "interpreter": {
    "hash": "2b52c2ff5431c21ddbe91dac57ae43ca32d3900acacc91a5c2a32f1a3c11d7aa"
   }
  }
 },
 "nbformat": 4,
 "nbformat_minor": 5
}
