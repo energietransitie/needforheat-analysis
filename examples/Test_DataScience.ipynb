{
 "cells": [
  {
   "cell_type": "markdown",
   "id": "4cc0484f-e096-47bf-8a52-b191154734b5",
   "metadata": {},
   "source": [
    "# Start of Data Science data analysis"
   ]
  },
  {
   "cell_type": "code",
   "execution_count": null,
   "id": "2bed903f-0587-469d-bdb8-e7a2983037d1",
   "metadata": {},
   "outputs": [],
   "source": [
    "import pandas as pd\n",
    "rhc_file_path='reducedheatcarb_sane_measurements_students_data_science.parquet'"
   ]
  },
  {
   "cell_type": "code",
   "execution_count": null,
   "id": "c77006cf-6ff7-4b59-ae0d-b1341bb95d8d",
   "metadata": {},
   "outputs": [],
   "source": [
    "%%time\n",
    "# Attempt to read the Parquet file\n",
    "try:\n",
    "    df = pd.read_parquet(\n",
    "        rhc_file_path, \n",
    "        engine='pyarrow',\n",
    "        use_nullable_dtypes=True\n",
    "        )\n",
    "    print(\"File was successfully read without specifying compression codec.\")\n",
    "except Exception as e:\n",
    "    print(f\"Error reading file: {e}\")"
   ]
  },
  {
   "cell_type": "markdown",
   "id": "ea551ba3-f13b-422d-ad8c-d829f7787b68",
   "metadata": {},
   "source": [
    "## Initial exploration"
   ]
  },
  {
   "cell_type": "code",
   "execution_count": null,
   "id": "31fd66b9-057f-44e1-9e34-f545053c2fbc",
   "metadata": {},
   "outputs": [],
   "source": [
    "df"
   ]
  },
  {
   "cell_type": "code",
   "execution_count": null,
   "id": "18919b72-a3bd-4718-949b-6ef43e33e5e5",
   "metadata": {},
   "outputs": [],
   "source": [
    "df.index.get_level_values('id').unique().to_list()"
   ]
  },
  {
   "cell_type": "code",
   "execution_count": null,
   "id": "ccbe1aac-cb36-4cfb-9c4f-6d94f36e0c90",
   "metadata": {},
   "outputs": [],
   "source": [
    "len(df.index.get_level_values('id').unique().to_list())"
   ]
  },
  {
   "cell_type": "code",
   "execution_count": null,
   "id": "b3237eb1-8c5f-477d-bba2-7f70dd3a1ef0",
   "metadata": {},
   "outputs": [],
   "source": [
    "counts =  df.groupby(['source_category', 'source_type', 'property']).size()\n",
    "# Filter out rows with count 0\n",
    "counts_filtered = counts[counts != 0]\n",
    "\n",
    "# Print filtered counts\n",
    "print(counts_filtered)"
   ]
  }
 ],
 "metadata": {
  "kernelspec": {
   "display_name": "Python 3 (ipykernel)",
   "language": "python",
   "name": "python3"
  },
  "language_info": {
   "codemirror_mode": {
    "name": "ipython",
    "version": 3
   },
   "file_extension": ".py",
   "mimetype": "text/x-python",
   "name": "python",
   "nbconvert_exporter": "python",
   "pygments_lexer": "ipython3",
   "version": "3.11.6"
  }
 },
 "nbformat": 4,
 "nbformat_minor": 5
}
