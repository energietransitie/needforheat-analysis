{
 "cells": [
  {
   "cell_type": "markdown",
   "id": "4cc0484f-e096-47bf-8a52-b191154734b5",
   "metadata": {},
   "source": [
    "# Start of Data Science data analysis"
   ]
  },
  {
   "cell_type": "code",
   "execution_count": null,
   "id": "2bed903f-0587-469d-bdb8-e7a2983037d1",
   "metadata": {},
   "outputs": [],
   "source": [
    "import pandas as pd\n",
    "needforheat_file_path='needforheat_export_student.parquet'\n",
    "remeha_file_path='remeha_export_student.parquet'"
   ]
  },
  {
   "cell_type": "code",
   "execution_count": null,
   "id": "c77006cf-6ff7-4b59-ae0d-b1341bb95d8d",
   "metadata": {},
   "outputs": [],
   "source": [
    "%%time\n",
    "# Attempt to read the Parquet file\n",
    "try:\n",
    "    df_nfh= pd.read_parquet(\n",
    "        needforheat_file_path, \n",
    "        engine='pyarrow',\n",
    "        use_nullable_dtypes=True\n",
    "        )\n",
    "    print(\"File was successfully read without specifying compression codec.\")\n",
    "except Exception as e:\n",
    "    print(f\"Error reading file: {e}\")"
   ]
  },
  {
   "cell_type": "code",
   "execution_count": null,
   "id": "2eb542bf-844c-4530-b091-d51a17825a4b",
   "metadata": {},
   "outputs": [],
   "source": [
    "%%time\n",
    "# Attempt to read the Parquet file\n",
    "try:\n",
    "    df_remeha = pd.read_parquet(\n",
    "        remeha_file_path, \n",
    "        engine='pyarrow',\n",
    "        use_nullable_dtypes=True\n",
    "        )\n",
    "    print(\"File was successfully read without specifying compression codec.\")\n",
    "except Exception as e:\n",
    "    print(f\"Error reading file: {e}\")"
   ]
  },
  {
   "cell_type": "markdown",
   "id": "ea551ba3-f13b-422d-ad8c-d829f7787b68",
   "metadata": {},
   "source": [
    "# Data from NeedForHeat"
   ]
  },
  {
   "cell_type": "code",
   "execution_count": null,
   "id": "31fd66b9-057f-44e1-9e34-f545053c2fbc",
   "metadata": {},
   "outputs": [],
   "source": [
    "df_nfh"
   ]
  },
  {
   "cell_type": "code",
   "execution_count": null,
   "id": "18919b72-a3bd-4718-949b-6ef43e33e5e5",
   "metadata": {},
   "outputs": [],
   "source": [
    "df_nfh.index.get_level_values('id').unique().to_list()"
   ]
  },
  {
   "cell_type": "code",
   "execution_count": null,
   "id": "ccbe1aac-cb36-4cfb-9c4f-6d94f36e0c90",
   "metadata": {},
   "outputs": [],
   "source": [
    "len(df_nfh.index.get_level_values('id').unique().to_list())"
   ]
  },
  {
   "cell_type": "code",
   "execution_count": null,
   "id": "9f8fcde7-d60d-4e5f-86c6-996c046254c1",
   "metadata": {},
   "outputs": [],
   "source": [
    "df_nfh.index.get_level_values('source_category').unique().to_list()"
   ]
  },
  {
   "cell_type": "code",
   "execution_count": null,
   "id": "b3237eb1-8c5f-477d-bba2-7f70dd3a1ef0",
   "metadata": {},
   "outputs": [],
   "source": [
    "counts =  df_nfh.groupby(['source_category', 'source_type', 'property']).size()\n",
    "# Filter out rows with count 0\n",
    "counts_filtered = counts[counts != 0]\n",
    "\n",
    "# Print filtered counts\n",
    "print(counts_filtered)"
   ]
  },
  {
   "cell_type": "markdown",
   "id": "dd3cd6be-59d1-4d45-b050-7727c8913a37",
   "metadata": {},
   "source": [
    "# Data from Remeha"
   ]
  },
  {
   "cell_type": "code",
   "execution_count": null,
   "id": "f0b2128e-1144-4cd4-ac4b-a1bce0fa7520",
   "metadata": {},
   "outputs": [],
   "source": [
    "df_remeha"
   ]
  },
  {
   "cell_type": "code",
   "execution_count": null,
   "id": "eac943a7-6ef5-4817-b3bc-40c46b017a0b",
   "metadata": {},
   "outputs": [],
   "source": [
    "counts =  df_remeha.groupby(['source_category', 'source_type', 'property']).size()\n",
    "# Filter out rows with count 0\n",
    "counts_filtered = counts[counts != 0]\n",
    "\n",
    "# Print filtered counts\n",
    "print(counts_filtered)"
   ]
  }
 ],
 "metadata": {
  "kernelspec": {
   "display_name": "Python 3 (ipykernel)",
   "language": "python",
   "name": "python3"
  },
  "language_info": {
   "codemirror_mode": {
    "name": "ipython",
    "version": 3
   },
   "file_extension": ".py",
   "mimetype": "text/x-python",
   "name": "python",
   "nbconvert_exporter": "python",
   "pygments_lexer": "ipython3",
   "version": "3.11.6"
  }
 },
 "nbformat": 4,
 "nbformat_minor": 5
}
