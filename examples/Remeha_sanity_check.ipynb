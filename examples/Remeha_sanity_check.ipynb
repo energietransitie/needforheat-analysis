{
 "cells": [
  {
   "cell_type": "markdown",
   "id": "d2f06ab2-4d6e-4786-954d-2d302b790189",
   "metadata": {},
   "source": [
    "# Import data"
   ]
  },
  {
   "cell_type": "code",
   "execution_count": null,
   "id": "f52649ab-50eb-4157-bb37-3c1889197851",
   "metadata": {},
   "outputs": [],
   "source": [
    "import pandas as pd\n",
    "import os\n",
    "import missingno as msno\n",
    "from IPython.display import display\n",
    "\n",
    "file_path='remeha_export.parquet'"
   ]
  },
  {
   "cell_type": "code",
   "execution_count": null,
   "id": "31dffa18-15ea-4671-9430-3e95e7f0103c",
   "metadata": {},
   "outputs": [],
   "source": [
    "%%time\n",
    "# Attempt to read the Parquet file\n",
    "try:\n",
    "    df = pd.read_parquet(\n",
    "        file_path, \n",
    "        engine='pyarrow',\n",
    "        use_nullable_dtypes=True\n",
    "        )\n",
    "    print(\"File was successfully read without specifying compression codec.\")\n",
    "except Exception as e:\n",
    "    print(f\"Error reading file: {e}\")\n"
   ]
  },
  {
   "cell_type": "code",
   "execution_count": null,
   "id": "04559e40-f270-4e52-b698-a4e84190021e",
   "metadata": {},
   "outputs": [],
   "source": [
    "df.info()"
   ]
  },
  {
   "cell_type": "code",
   "execution_count": null,
   "id": "18d379be-3b8a-431e-8702-8ea70373c4de",
   "metadata": {},
   "outputs": [],
   "source": [
    "df.memory_usage()"
   ]
  },
  {
   "cell_type": "code",
   "execution_count": null,
   "id": "d33a5c63-3eca-45dd-b621-8946b9a8b43a",
   "metadata": {},
   "outputs": [],
   "source": [
    "# Get the names of the levels in the MultiIndex\n",
    "level_names = df.index.names\n",
    "\n",
    "# Get the datatypes of the levels in the MultiIndex\n",
    "level_dtypes = [df.index.get_level_values(level).dtype for level in range(df.index.nlevels)]\n",
    "\n",
    "# Display the names and datatypes of the levels in the MultiIndex\n",
    "for i, name in enumerate(level_names):\n",
    "    print(f\"Level {i}: Name = {name}, Dtype = {level_dtypes[i]}\")"
   ]
  },
  {
   "cell_type": "code",
   "execution_count": null,
   "id": "2ce9a7e6-8092-4a44-9da1-e36ebff25601",
   "metadata": {},
   "outputs": [],
   "source": [
    "df"
   ]
  },
  {
   "cell_type": "code",
   "execution_count": null,
   "id": "a57820aa-5910-446e-8c37-46cfe804dd97",
   "metadata": {},
   "outputs": [],
   "source": [
    "df['value'].count()"
   ]
  },
  {
   "cell_type": "code",
   "execution_count": null,
   "id": "319b1c5b-20b4-4415-8c8b-9e9cd0036936",
   "metadata": {},
   "outputs": [],
   "source": [
    "df['value'].notna().sum()"
   ]
  },
  {
   "cell_type": "code",
   "execution_count": null,
   "id": "b91dce41-8d74-43ac-bd24-7f5060131fc1",
   "metadata": {},
   "outputs": [],
   "source": [
    "counts =  df.groupby(['source_category', 'source_type', 'property']).size()\n",
    "# Filter out rows with count 0\n",
    "counts_filtered = counts[counts != 0]\n",
    "\n",
    "# Print filtered counts\n",
    "print(counts_filtered)"
   ]
  },
  {
   "cell_type": "code",
   "execution_count": null,
   "id": "0d470861-5e58-4c8e-b3c7-905648c3f9f3",
   "metadata": {},
   "outputs": [],
   "source": [
    "df.groupby('id').size()"
   ]
  },
  {
   "cell_type": "code",
   "execution_count": null,
   "id": "d5e2de72-2fc4-42b9-9b1f-3be9956ac044",
   "metadata": {},
   "outputs": [],
   "source": [
    "print('\\n'.join(df.index.get_level_values('property').unique().tolist()))\n"
   ]
  },
  {
   "cell_type": "markdown",
   "id": "b35dd5c8-bd9a-4748-b7e2-338cd6730ef1",
   "metadata": {},
   "source": [
    "# Get overview"
   ]
  },
  {
   "cell_type": "code",
   "execution_count": null,
   "id": "420e5917-9b35-40ec-8532-016f9c5ab101",
   "metadata": {},
   "outputs": [],
   "source": [
    "df.index.names"
   ]
  },
  {
   "cell_type": "code",
   "execution_count": null,
   "id": "ccd33f38-6c94-4729-8758-e1ac83773062",
   "metadata": {},
   "outputs": [],
   "source": [
    "df_unstacked = df.unstack(level='property')"
   ]
  },
  {
   "cell_type": "code",
   "execution_count": null,
   "id": "ce56b672-6330-4524-b11a-fa9caa4b7e63",
   "metadata": {},
   "outputs": [],
   "source": [
    "df_unstacked"
   ]
  },
  {
   "cell_type": "code",
   "execution_count": null,
   "id": "ce3da359-458d-4858-8499-7a55eb99d2cf",
   "metadata": {},
   "outputs": [],
   "source": [
    "df_unstacked.info()"
   ]
  },
  {
   "cell_type": "code",
   "execution_count": null,
   "id": "e5178d85-00cc-4446-9deb-8855cca50861",
   "metadata": {},
   "outputs": [],
   "source": [
    "df_unstacked.describe()"
   ]
  },
  {
   "cell_type": "code",
   "execution_count": null,
   "id": "0a38ab88-1e55-4b8f-b21c-a18b27e8a173",
   "metadata": {},
   "outputs": [],
   "source": [
    "for id in df_unstacked.index.get_level_values('id').unique():\n",
    "    print(f\"Description for id {id}:\")\n",
    "    display(df_unstacked[df_unstacked.index.get_level_values('id') == id].describe())\n"
   ]
  },
  {
   "cell_type": "markdown",
   "id": "1aa6a834-9e06-4e2a-b09e-b584ff28c3e0",
   "metadata": {},
   "source": [
    "# Detect stuck values"
   ]
  },
  {
   "cell_type": "code",
   "execution_count": null,
   "id": "d0c5a1fb-c3ba-466e-9b32-dcb0638102d7",
   "metadata": {},
   "outputs": [],
   "source": [
    "# Get unique ids\n",
    "unique_ids = df_unstacked.index.get_level_values('id').unique()\n",
    "\n",
    "# Initialize an empty DataFrame to store the variance per id per column\n",
    "variance_df = pd.DataFrame(index=unique_ids, columns=df_unstacked.columns)\n",
    "\n",
    "# Calculate variance for each id and each column\n",
    "for id in unique_ids:\n",
    "    id_df = df_unstacked[df_unstacked.index.get_level_values('id') == id]\n",
    "    variance_df.loc[id] = id_df.var()\n",
    "\n",
    "# Define a function to apply conditional formatting\n",
    "def highlight_zero_variance(val):\n",
    "    if pd.notna(val) and val == 0:\n",
    "        return 'background-color: yellow'\n",
    "    return ''\n",
    "\n",
    "# Apply conditional formatting to the DataFrame\n",
    "variance_df_styled = variance_df.style.applymap(highlight_zero_variance)\n",
    "\n",
    "# Display the styled DataFrame\n",
    "variance_df_styled\n"
   ]
  },
  {
   "cell_type": "code",
   "execution_count": null,
   "id": "0de1068f-4a28-445c-9796-1650f466d32c",
   "metadata": {},
   "outputs": [],
   "source": [
    "for id in df_unstacked.index.get_level_values('id').unique():\n",
    "    df_unstacked[df_unstacked.index.get_level_values('id') == id].describe()"
   ]
  },
  {
   "cell_type": "code",
   "execution_count": null,
   "id": "fb9760ad-2583-45fd-99ed-7829c9eee84e",
   "metadata": {},
   "outputs": [],
   "source": [
    "msno.bar(df_unstacked)"
   ]
  },
  {
   "cell_type": "code",
   "execution_count": null,
   "id": "15ae3e13-493b-412b-9a41-903076c19c6f",
   "metadata": {},
   "outputs": [],
   "source": [
    "msno.matrix(df_unstacked)"
   ]
  },
  {
   "cell_type": "code",
   "execution_count": null,
   "id": "d0da93a3-6acd-404f-bab9-fed9d0bafde0",
   "metadata": {},
   "outputs": [],
   "source": [
    "msno.matrix(df_unstacked.swaplevel('timestamp', 'id', axis=0))"
   ]
  },
  {
   "cell_type": "code",
   "execution_count": null,
   "id": "f33de219-032a-49a0-9298-b58f58758e72",
   "metadata": {},
   "outputs": [],
   "source": [
    "for id in df_unstacked.index.get_level_values('id').unique():\n",
    "    msno.matrix(df_unstacked[df_unstacked.index.get_level_values('id') == id])"
   ]
  },
  {
   "cell_type": "code",
   "execution_count": null,
   "id": "faf319bd-b9f4-4899-995b-8d9794e371e3",
   "metadata": {},
   "outputs": [],
   "source": [
    "\n",
    "    "
   ]
  }
 ],
 "metadata": {
  "kernelspec": {
   "display_name": "Python 3 (ipykernel)",
   "language": "python",
   "name": "python3"
  },
  "language_info": {
   "codemirror_mode": {
    "name": "ipython",
    "version": 3
   },
   "file_extension": ".py",
   "mimetype": "text/x-python",
   "name": "python",
   "nbconvert_exporter": "python",
   "pygments_lexer": "ipython3",
   "version": "3.11.6"
  }
 },
 "nbformat": 4,
 "nbformat_minor": 5
}
