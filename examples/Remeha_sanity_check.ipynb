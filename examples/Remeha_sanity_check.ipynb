{
 "cells": [
  {
   "cell_type": "markdown",
   "id": "d2f06ab2-4d6e-4786-954d-2d302b790189",
   "metadata": {},
   "source": [
    "# Import data"
   ]
  },
  {
   "cell_type": "code",
   "execution_count": null,
   "id": "f52649ab-50eb-4157-bb37-3c1889197851",
   "metadata": {},
   "outputs": [],
   "source": [
    "import pandas as pd\n",
    "import os\n",
    "import missingno as msno\n",
    "from IPython.display import display\n",
    "\n",
    "\n",
    "file_path='remeha_export.parquet'\n",
    "\n",
    "\n",
    "# usually, two decimals suffice for displaying DataFrames (NB internally, precision may be higher)\n",
    "pd.options.display.precision = 2\n",
    "\n",
    "import sys\n",
    "sys.path.append('../data/')\n",
    "sys.path.append('../view/')\n",
    "\n",
    "%load_ext autoreload\n",
    "\n",
    "\n",
    "%matplotlib inline\n",
    "%matplotlib widget\n",
    "import pylab as plt\n",
    "import itertools\n",
    "from plotter import Plot"
   ]
  },
  {
   "cell_type": "code",
   "execution_count": null,
   "id": "31dffa18-15ea-4671-9430-3e95e7f0103c",
   "metadata": {},
   "outputs": [],
   "source": [
    "%%time\n",
    "# Attempt to read the Parquet file\n",
    "try:\n",
    "    df = pd.read_parquet(\n",
    "        file_path, \n",
    "        engine='pyarrow',\n",
    "        use_nullable_dtypes=True\n",
    "        )\n",
    "    print(\"File was successfully read without specifying compression codec.\")\n",
    "except Exception as e:\n",
    "    print(f\"Error reading file: {e}\")\n"
   ]
  },
  {
   "cell_type": "code",
   "execution_count": null,
   "id": "75339b77-12ca-46f8-b76b-3fc12f79733b",
   "metadata": {},
   "outputs": [],
   "source": [
    "## Initial exploration: size, ids, start & stop times per id"
   ]
  },
  {
   "cell_type": "code",
   "execution_count": null,
   "id": "04559e40-f270-4e52-b698-a4e84190021e",
   "metadata": {},
   "outputs": [],
   "source": [
    "df.info()"
   ]
  },
  {
   "cell_type": "code",
   "execution_count": null,
   "id": "18d379be-3b8a-431e-8702-8ea70373c4de",
   "metadata": {},
   "outputs": [],
   "source": [
    "df.memory_usage()"
   ]
  },
  {
   "cell_type": "code",
   "execution_count": null,
   "id": "d33a5c63-3eca-45dd-b621-8946b9a8b43a",
   "metadata": {},
   "outputs": [],
   "source": [
    "# Get the names of the levels in the MultiIndex\n",
    "level_names = df.index.names\n",
    "\n",
    "# Get the datatypes of the levels in the MultiIndex\n",
    "level_dtypes = [df.index.get_level_values(level).dtype for level in range(df.index.nlevels)]\n",
    "\n",
    "# Display the names and datatypes of the levels in the MultiIndex\n",
    "for i, name in enumerate(level_names):\n",
    "    print(f\"Level {i}: Name = {name}, Dtype = {level_dtypes[i]}\")"
   ]
  },
  {
   "cell_type": "code",
   "execution_count": null,
   "id": "2ce9a7e6-8092-4a44-9da1-e36ebff25601",
   "metadata": {},
   "outputs": [],
   "source": [
    "df"
   ]
  },
  {
   "cell_type": "code",
   "execution_count": null,
   "id": "a57820aa-5910-446e-8c37-46cfe804dd97",
   "metadata": {},
   "outputs": [],
   "source": [
    "df['value'].count()"
   ]
  },
  {
   "cell_type": "code",
   "execution_count": null,
   "id": "319b1c5b-20b4-4415-8c8b-9e9cd0036936",
   "metadata": {},
   "outputs": [],
   "source": [
    "df['value'].notna().sum()"
   ]
  },
  {
   "cell_type": "code",
   "execution_count": null,
   "id": "26b8c667-6d0d-410a-86fc-31fbbe21b01e",
   "metadata": {},
   "outputs": [],
   "source": [
    "len(df)"
   ]
  },
  {
   "cell_type": "code",
   "execution_count": null,
   "id": "6c6d5058-fd6c-45f2-8d36-38d3cdff1365",
   "metadata": {},
   "outputs": [],
   "source": [
    "# deduplicate the measurements\n",
    "df = df.reset_index().drop_duplicates().set_index(['id', 'source_category', 'source_type', 'timestamp', 'property']).sort_index()"
   ]
  },
  {
   "cell_type": "code",
   "execution_count": null,
   "id": "bc5cf008-8a5e-4839-8b3a-9759fbdf9eb4",
   "metadata": {},
   "outputs": [],
   "source": [
    "len(df)"
   ]
  },
  {
   "cell_type": "code",
   "execution_count": null,
   "id": "406ada86-8feb-4d65-9d9e-326e5205023c",
   "metadata": {},
   "outputs": [],
   "source": [
    "len(df.index.get_level_values('id').unique())"
   ]
  },
  {
   "cell_type": "code",
   "execution_count": null,
   "id": "0d470861-5e58-4c8e-b3c7-905648c3f9f3",
   "metadata": {},
   "outputs": [],
   "source": [
    "df.groupby('id').size()"
   ]
  },
  {
   "cell_type": "code",
   "execution_count": null,
   "id": "30891dfb-fb08-4ea9-b090-dd75f2059f5f",
   "metadata": {},
   "outputs": [],
   "source": [
    "df.reset_index().groupby(['id', 'source_type'])['timestamp'].agg(['min', 'max'])"
   ]
  },
  {
   "cell_type": "code",
   "execution_count": null,
   "id": "9f2043eb-3fd2-4888-baab-25d203e0b507",
   "metadata": {},
   "outputs": [],
   "source": [
    "print('\\n'.join(df.index.get_level_values('source_category').unique()))"
   ]
  },
  {
   "cell_type": "code",
   "execution_count": null,
   "id": "e230d17f-3da3-4d94-b090-a6bbdda4d0b2",
   "metadata": {},
   "outputs": [],
   "source": [
    "print('\\n'.join(df.index.get_level_values('source_type').unique()))"
   ]
  },
  {
   "cell_type": "code",
   "execution_count": null,
   "id": "115a6395-ade7-419c-8c32-c09e2dbc52b9",
   "metadata": {},
   "outputs": [],
   "source": [
    "print('\\n'.join(df.index.get_level_values('property').unique()))"
   ]
  },
  {
   "cell_type": "code",
   "execution_count": null,
   "id": "5932bab8-08ee-4800-b0d1-096e047acffc",
   "metadata": {},
   "outputs": [],
   "source": [
    "df.groupby(['source_category', 'source_type', 'property']).size()[counts != 0]"
   ]
  },
  {
   "cell_type": "markdown",
   "id": "b35dd5c8-bd9a-4748-b7e2-338cd6730ef1",
   "metadata": {},
   "source": [
    "# Get overview"
   ]
  },
  {
   "cell_type": "code",
   "execution_count": null,
   "id": "2d20f531-3013-44f6-8280-253b25de1626",
   "metadata": {},
   "outputs": [],
   "source": [
    "Plot.nfh_measurements_plot(df, ids = [412715])\n",
    "# Plot.nfh_measurements_plot(df, source_types = ['enelogic'], ids = [404873])\n",
    "# Plot.nfh_measurements_plot(df, source_types = ['enelogic'])\n"
   ]
  },
  {
   "cell_type": "code",
   "execution_count": null,
   "id": "7c21276e-9d99-4aeb-95db-068b6db1cd7c",
   "metadata": {},
   "outputs": [],
   "source": [
    "Plot.nfh_measurements_plot(df, properties = ['temp_in__degC'])"
   ]
  },
  {
   "cell_type": "code",
   "execution_count": null,
   "id": "ccd33f38-6c94-4729-8758-e1ac83773062",
   "metadata": {},
   "outputs": [],
   "source": [
    "df_unstacked = df.unstack(level='property')"
   ]
  },
  {
   "cell_type": "code",
   "execution_count": null,
   "id": "ce56b672-6330-4524-b11a-fa9caa4b7e63",
   "metadata": {},
   "outputs": [],
   "source": [
    "df_unstacked"
   ]
  },
  {
   "cell_type": "code",
   "execution_count": null,
   "id": "ce3da359-458d-4858-8499-7a55eb99d2cf",
   "metadata": {},
   "outputs": [],
   "source": [
    "df_unstacked.info()"
   ]
  },
  {
   "cell_type": "code",
   "execution_count": null,
   "id": "e5178d85-00cc-4446-9deb-8855cca50861",
   "metadata": {},
   "outputs": [],
   "source": [
    "df_unstacked.describe()"
   ]
  },
  {
   "cell_type": "code",
   "execution_count": null,
   "id": "0a38ab88-1e55-4b8f-b21c-a18b27e8a173",
   "metadata": {},
   "outputs": [],
   "source": [
    "for id in df_unstacked.index.get_level_values('id').unique():\n",
    "    print(f\"Description for id {id}:\")\n",
    "    display(df_unstacked[df_unstacked.index.get_level_values('id') == id].describe())\n"
   ]
  },
  {
   "cell_type": "markdown",
   "id": "1aa6a834-9e06-4e2a-b09e-b584ff28c3e0",
   "metadata": {},
   "source": [
    "# Detect stuck values"
   ]
  },
  {
   "cell_type": "code",
   "execution_count": null,
   "id": "d0c5a1fb-c3ba-466e-9b32-dcb0638102d7",
   "metadata": {},
   "outputs": [],
   "source": [
    "# Get unique ids\n",
    "unique_ids = df_unstacked.index.get_level_values('id').unique()\n",
    "\n",
    "# Initialize an empty DataFrame to store the variance per id per column\n",
    "variance_df = pd.DataFrame(index=unique_ids, columns=df_unstacked.columns)\n",
    "\n",
    "# Calculate variance for each id and each column\n",
    "for id in unique_ids:\n",
    "    id_df = df_unstacked[df_unstacked.index.get_level_values('id') == id]\n",
    "    variance_df.loc[id] = id_df.var()\n",
    "\n",
    "# Define a function to apply conditional formatting\n",
    "def highlight_zero_variance(val):\n",
    "    if pd.notna(val) and val == 0:\n",
    "        return 'background-color: yellow'\n",
    "    return ''\n",
    "\n",
    "# Apply conditional formatting to the DataFrame\n",
    "variance_df_styled = variance_df.style.applymap(highlight_zero_variance)\n",
    "\n",
    "# Display the styled DataFrame\n",
    "variance_df_styled\n"
   ]
  },
  {
   "cell_type": "code",
   "execution_count": null,
   "id": "0de1068f-4a28-445c-9796-1650f466d32c",
   "metadata": {},
   "outputs": [],
   "source": [
    "for id in df_unstacked.index.get_level_values('id').unique():\n",
    "    df_unstacked[df_unstacked.index.get_level_values('id') == id].describe()"
   ]
  },
  {
   "cell_type": "code",
   "execution_count": null,
   "id": "fb9760ad-2583-45fd-99ed-7829c9eee84e",
   "metadata": {},
   "outputs": [],
   "source": [
    "msno.bar(df_unstacked)"
   ]
  },
  {
   "cell_type": "code",
   "execution_count": null,
   "id": "15ae3e13-493b-412b-9a41-903076c19c6f",
   "metadata": {},
   "outputs": [],
   "source": [
    "msno.matrix(df_unstacked)"
   ]
  },
  {
   "cell_type": "code",
   "execution_count": null,
   "id": "d0da93a3-6acd-404f-bab9-fed9d0bafde0",
   "metadata": {},
   "outputs": [],
   "source": [
    "msno.matrix(df_unstacked.swaplevel('timestamp', 'id', axis=0))"
   ]
  },
  {
   "cell_type": "code",
   "execution_count": null,
   "id": "f33de219-032a-49a0-9298-b58f58758e72",
   "metadata": {},
   "outputs": [],
   "source": [
    "for id in df_unstacked.index.get_level_values('id').unique():\n",
    "    msno.matrix(df_unstacked[df_unstacked.index.get_level_values('id') == id])"
   ]
  },
  {
   "cell_type": "code",
   "execution_count": null,
   "id": "faf319bd-b9f4-4899-995b-8d9794e371e3",
   "metadata": {},
   "outputs": [],
   "source": [
    "\n",
    "    "
   ]
  }
 ],
 "metadata": {
  "kernelspec": {
   "display_name": "Python 3 (ipykernel)",
   "language": "python",
   "name": "python3"
  },
  "language_info": {
   "codemirror_mode": {
    "name": "ipython",
    "version": 3
   },
   "file_extension": ".py",
   "mimetype": "text/x-python",
   "name": "python",
   "nbconvert_exporter": "python",
   "pygments_lexer": "ipython3",
   "version": "3.11.6"
  }
 },
 "nbformat": 4,
 "nbformat_minor": 5
}
