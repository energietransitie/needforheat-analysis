{
 "cells": [
  {
   "cell_type": "code",
   "execution_count": null,
   "id": "f52649ab-50eb-4157-bb37-3c1889197851",
   "metadata": {},
   "outputs": [],
   "source": [
    "import os\n",
    "\n",
    "from datetime import datetime, timedelta\n",
    "import pytz\n",
    "import pylab as plt\n",
    "\n",
    "import pandas as pd\n",
    "import numpy as np\n",
    "\n",
    "# usually, two decimals suffice for displaying DataFrames (NB internally, precision may be higher)\n",
    "pd.options.display.precision = 2\n",
    "import sys\n",
    "sys.path.append('../data/')\n",
    "\n",
    "%load_ext autoreload\n",
    "import gc\n",
    "\n",
    "from measurements import Measurements\n",
    "\n",
    "from tqdm.notebook import tqdm\n",
    "\n",
    "# Replace 'file_path' with the actual path to your file\n",
    "file_path='remeha_20231129-20240402.parquet'\n",
    "file_output_path='remeha_export.parquet'\n",
    "\n"
   ]
  },
  {
   "cell_type": "code",
   "execution_count": null,
   "id": "389baf3f-edce-497e-9adb-92fc1634b5e8",
   "metadata": {},
   "outputs": [],
   "source": [
    "# Get the file size in bytes\n",
    "file_size_bytes = os.path.getsize(file_path)\n",
    "\n",
    "# Convert file size to kilobytes, megabytes, etc. for better readability\n",
    "file_size_kb = file_size_bytes / 1024\n",
    "file_size_mb = file_size_kb / 1024\n",
    "file_size_gb = file_size_mb / 1024\n",
    "\n",
    "# Print the file size\n",
    "print(f\"File Size: {file_size_bytes} bytes ({file_size_kb:.2f} KB, {file_size_mb:.2f} MB, {file_size_gb:.2f} GB)\")"
   ]
  },
  {
   "cell_type": "code",
   "execution_count": null,
   "id": "5015bcd1-4d79-4ffc-aebc-1ac378c29a1b",
   "metadata": {},
   "outputs": [],
   "source": [
    "%%time\n",
    "# Attempt to read the Parquet file\n",
    "try:\n",
    "    df = pd.read_parquet(\n",
    "        file_path, \n",
    "        engine='pyarrow',\n",
    "        dtype_backend='numpy_nullable'\n",
    "        )\n",
    "    print(\"File was successfully read without specifying compression codec.\")\n",
    "except Exception as e:\n",
    "    print(f\"Error reading file: {e}\")\n"
   ]
  },
  {
   "cell_type": "code",
   "execution_count": null,
   "id": "4d332e66-67ed-49ff-811b-55195bbcea62",
   "metadata": {},
   "outputs": [],
   "source": [
    "df.info()\n"
   ]
  },
  {
   "cell_type": "code",
   "execution_count": null,
   "id": "68115290-b829-43a9-9fed-c7763672ef0f",
   "metadata": {},
   "outputs": [],
   "source": [
    "df.memory_usage()"
   ]
  },
  {
   "cell_type": "markdown",
   "id": "f66f6a36-0999-4c38-8cbd-870dedfe6ba4",
   "metadata": {},
   "source": [
    "## Map measurement_names to properties and add source_category and source_type"
   ]
  },
  {
   "cell_type": "code",
   "execution_count": null,
   "id": "3e27afd1-797b-453b-bee3-0485d2c697b7",
   "metadata": {},
   "outputs": [],
   "source": [
    "translation_table = {\n",
    "    'parHeFanRpmChMax': 'ch_set_fan_rotations_max__min_1',\n",
    "    'parHeFanRpmMin': 'ch_set_fan_rotations_min__min_1',\n",
    "    'parHePowerMax': 'power_ch_max__kW',\n",
    "    'parHePowerMin': 'power_ch_min__kW',\n",
    "    'parZoneTFlowSetpointMax': 'temp_ch_sup_max__degC',\n",
    "    'varApChEnergyConsumption': 'g_use_ch_lhv_cum__kWh',\n",
    "    'varApDhwEnergyConsumption': 'g_use_dhw_lhv_cum__kWh',\n",
    "    'varApPowerActual': 'g_use_ch_and_dhw__kW0',\n",
    "    'varApPumpSpeed': 'ch_water_pump_speed__0',\n",
    "    'varApStatus': 'boiler_status__str',\n",
    "    'varApTOutside': 'temp_outdoor__degC',\n",
    "    'varApTflow': 'temp_flow__degC',\n",
    "    'varApTreturn': 'temp_ret__degC',\n",
    "    'varDhwFlowSpeed': 'dhw_flow__l_min_1',\n",
    "    'varDhwOutTemp': 'dhw_temp__degC',\n",
    "    'varHeFanRpm': 'fan_rotations__min_1',\n",
    "    'varHeGasValve1': 'gas_valve__str',\n",
    "    'varZoneRoomTemperatureMeasured': 'temp_indoor__degC',\n",
    "    'varZoneTRoomSetpoint': 'temp_set__degC'\n",
    "}\n",
    "\n",
    "# Map the translation table to create the 'property' column\n",
    "df['property'] = df['measurement_name'].map(translation_table)\n"
   ]
  },
  {
   "cell_type": "code",
   "execution_count": null,
   "id": "71e15f49-a885-4740-b1e6-29900e73627a",
   "metadata": {},
   "outputs": [],
   "source": [
    "# Properties:  full set; TODO: be more specific for some data types\n",
    "remeha_full_properties_types = {\n",
    "    'ch_set_fan_rotations_max__min_1': 'float32',\n",
    "    'ch_set_fan_rotations_min__min_1': 'float32',\n",
    "    'power_ch_max__kW': 'float32',\n",
    "    'power_ch_min__kW': 'float32',\n",
    "    'temp_ch_sup_max__degC': 'float32',\n",
    "    'g_use_ch_lhv_cum__kWh': 'float64',\n",
    "    'g_use_dhw_lhv_cum__kWh': 'float64',\n",
    "    'g_use_ch_and_dhw__kW0': 'float64',\n",
    "    'ch_water_pump_speed__0': 'float64',\n",
    "    'boiler_status__str': 'str',\n",
    "    'temp_outdoor__degC': 'float32',\n",
    "    'temp_flow__degC': 'float32',\n",
    "    'temp_ret__degC': 'float32',\n",
    "    'dhw_flow__l_min_1': 'float32',\n",
    "    'dhw_temp__degC': 'float32',\n",
    "    'fan_rotations__min_1': 'float32',\n",
    "    'gas_valve__str': 'str',\n",
    "    'temp_indoor__degC': 'float32',\n",
    "    'temp_set__degC': 'float32'\n",
    "}\n",
    "\n",
    "\n",
    "remeha_full_properties = list(remeha_full_properties_types.keys())\n",
    "\n",
    "types = remeha_full_properties_types\n",
    "\n"
   ]
  },
  {
   "cell_type": "code",
   "execution_count": null,
   "id": "60ada1b8-1961-459e-bbf1-faf2e8bc8d7d",
   "metadata": {},
   "outputs": [],
   "source": [
    "# Rename the 'pseudonym' column to 'id'\n",
    "df.rename(columns={'pseudonym': 'id'}, inplace=True)"
   ]
  },
  {
   "cell_type": "code",
   "execution_count": null,
   "id": "5862d879-8fa4-4b59-a7e2-6e852deb7eb1",
   "metadata": {},
   "outputs": [],
   "source": [
    "# Drop the 'measurement_name' column\n",
    "df.drop(columns=['measurement_name'], inplace=True)\n",
    "\n",
    "# Create constant values for the new levels\n",
    "source_category_values = ['batch_import']\n",
    "source_type_values = ['remeha']\n",
    "\n",
    "# Create a DataFrame with the constant values for the new columns\n",
    "new_columns_df = pd.DataFrame(index=df.index)\n",
    "new_columns_df['source_category'] = source_category_values[0]\n",
    "new_columns_df['source_type'] = source_type_values[0]\n",
    "\n",
    "# Concatenate the new DataFrame with the existing DataFrame\n",
    "df = pd.concat([df, new_columns_df], axis=1)"
   ]
  },
  {
   "cell_type": "code",
   "execution_count": null,
   "id": "f480d638-8a65-480c-9b80-2d7316d16b18",
   "metadata": {},
   "outputs": [],
   "source": [
    "df.sample(25)"
   ]
  },
  {
   "cell_type": "code",
   "execution_count": null,
   "id": "65deb62d-8167-4e36-92e8-cafe1498bc51",
   "metadata": {},
   "outputs": [],
   "source": [
    "df.set_index(['id', 'source_category', 'source_type', 'timestamp', 'property'], inplace=True)\n"
   ]
  },
  {
   "cell_type": "code",
   "execution_count": null,
   "id": "7b85f211-e5f7-433c-84bc-8e91d500142e",
   "metadata": {},
   "outputs": [],
   "source": [
    "# Convert specific levels of the MultiIndex to 'category'\n",
    "df.index = df.index.set_levels(df.index.levels[1].astype('category'), level=1)\n",
    "df.index = df.index.set_levels(df.index.levels[2].astype('category'), level=2)\n",
    "df.index = df.index.set_levels(df.index.levels[4].astype('category'), level=4)"
   ]
  },
  {
   "cell_type": "code",
   "execution_count": null,
   "id": "e501f9dd-f0f2-4853-a588-df28c35b1da4",
   "metadata": {},
   "outputs": [],
   "source": [
    "df.info()\n"
   ]
  },
  {
   "cell_type": "code",
   "execution_count": null,
   "id": "5da03d7d-1d55-4cad-9784-8fafd8ec0728",
   "metadata": {},
   "outputs": [],
   "source": [
    "df.memory_usage()"
   ]
  },
  {
   "cell_type": "code",
   "execution_count": null,
   "id": "ed63cfb4-4ccd-4e48-a2ff-678af8f79cdc",
   "metadata": {},
   "outputs": [],
   "source": [
    "# Get the names of the levels in the MultiIndex\n",
    "level_names = df.index.names\n",
    "\n",
    "# Get the datatypes of the levels in the MultiIndex\n",
    "level_dtypes = [df.index.get_level_values(level).dtype for level in range(df.index.nlevels)]\n",
    "\n",
    "# Display the names and datatypes of the levels in the MultiIndex\n",
    "for i, name in enumerate(level_names):\n",
    "    print(f\"Level {i}: Name = {name}, Dtype = {level_dtypes[i]}\")"
   ]
  },
  {
   "cell_type": "code",
   "execution_count": null,
   "id": "ab366812-e1c3-4003-a56d-94456c2ad85c",
   "metadata": {},
   "outputs": [],
   "source": [
    "# convert value column to string\n",
    "df['value'] = df['value'].astype(float)"
   ]
  },
  {
   "cell_type": "code",
   "execution_count": null,
   "id": "935f08e7-e6af-472a-8e9a-20839ef64c95",
   "metadata": {},
   "outputs": [],
   "source": [
    "%%time \n",
    "df.to_parquet(file_output_path, index=True, engine='pyarrow')"
   ]
  },
  {
   "cell_type": "code",
   "execution_count": null,
   "id": "f1f09fed-bb96-490f-b2ef-a9b952858e26",
   "metadata": {},
   "outputs": [],
   "source": []
  }
 ],
 "metadata": {
  "kernelspec": {
   "display_name": "Python 3 (ipykernel)",
   "language": "python",
   "name": "python3"
  },
  "language_info": {
   "codemirror_mode": {
    "name": "ipython",
    "version": 3
   },
   "file_extension": ".py",
   "mimetype": "text/x-python",
   "name": "python",
   "nbconvert_exporter": "python",
   "pygments_lexer": "ipython3",
   "version": "3.11.6"
  }
 },
 "nbformat": 4,
 "nbformat_minor": 5
}
