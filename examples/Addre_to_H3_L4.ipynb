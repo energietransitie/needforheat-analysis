{
 "cells": [
  {
   "cell_type": "code",
   "execution_count": null,
   "id": "11058c78-217d-43e2-b8b8-a9ced6fa200d",
   "metadata": {},
   "outputs": [],
   "source": [
    "import pandas as pd\n",
    "import numpy as np\n",
    "from geopy.geocoders import Nominatim\n",
    "import h3\n",
    "import folium\n",
    "from folium.plugins import MarkerCluster\n",
    "\n",
    "\n",
    "excel_file = \"nfh_addresses.xlsx\"\n",
    "file_output_path = \"weather_interpolation_locations.parquet\"\n",
    "file_output_excel = \"weather_interpolation_locations.xlsx\""
   ]
  },
  {
   "cell_type": "code",
   "execution_count": null,
   "id": "985cde0b-e82f-4abc-8891-8d4119541e59",
   "metadata": {},
   "outputs": [],
   "source": [
    "resolution = 4 "
   ]
  },
  {
   "cell_type": "code",
   "execution_count": null,
   "id": "b979a9d9-abec-4a4a-bbee-f4ea613fb628",
   "metadata": {},
   "outputs": [],
   "source": [
    "# Initialize geocoder\n",
    "geolocator = Nominatim(user_agent=\"myGeocoder\")\n",
    "\n",
    "# Function to geocode address to latitude and longitude\n",
    "def geocode_address(pc6, number, add_on):\n",
    "    address = f\"{pc6}, {number}{add_on}, Netherlands \"\n",
    "    location = geolocator.geocode(address)\n",
    "    if location:\n",
    "        return (location.latitude, location.longitude)\n",
    "    else:\n",
    "        return None\n",
    "\n",
    "# Function to convert latitude and longitude to H3 index\n",
    "def lat_lon_to_h3(lat, lon, resolution):\n",
    "    return h3.geo_to_h3(lat, lon, resolution)\n",
    "\n",
    "# Function to get the center of H3 cell\n",
    "def h3_to_lat_lon(h3_index):\n",
    "    lat, lon = h3.h3_to_geo(h3_index)\n",
    "    return lat, lon\n",
    "    \n",
    "# Main function to convert addresses to H3\n",
    "def addresses_to_h3(addresses, resolution=4):\n",
    "    results = []\n",
    "    for index, row in addresses.iterrows():\n",
    "        address = f'{row[\"PC6\"]}, {row[\"home_nr\"]}{row[\"home_nr_add_on\"]}, Netherlands'\n",
    "        lat_lon = geocode_address(row['PC6'], row['home_nr'], row['home_nr_add_on'])\n",
    "        if lat_lon:\n",
    "            h3_index = lat_lon_to_h3(lat_lon[0], lat_lon[1], resolution)\n",
    "            h3_center = h3_to_lat_lon(h3_index)\n",
    "            results.append({\n",
    "                'Address': address,\n",
    "                'Geocoded Lat': lat_lon[0],\n",
    "                'Geocoded Lon': lat_lon[1],\n",
    "                'H3 Cell ID': h3_index,\n",
    "                'H3 Center Lat': h3_center[0],\n",
    "                'H3 Center Lon': h3_center[1]\n",
    "            })\n",
    "    return results\n",
    "\n",
    "# Function to add weather_lat and weather_lon to DataFrame\n",
    "def add_weather_coordinates(addresses_df, h3_coordinates):\n",
    "    weather_lat = [coord['H3 Center Lat'] for coord in h3_coordinates]\n",
    "    weather_lon = [coord['H3 Center Lon'] for coord in h3_coordinates]\n",
    "    addresses_df['weather_lat'] = weather_lat\n",
    "    addresses_df['weather_lon'] = weather_lon\n",
    "    return addresses_df\n",
    "\n"
   ]
  },
  {
   "cell_type": "code",
   "execution_count": null,
   "id": "6330520d-b360-4240-bf15-3c93ff010f75",
   "metadata": {},
   "outputs": [],
   "source": [
    "# Read addresses from Excel file\n",
    "addresses_df = pd.read_excel(excel_file)"
   ]
  },
  {
   "cell_type": "code",
   "execution_count": null,
   "id": "71e674ea-2715-4173-b1c4-f70e43403a1d",
   "metadata": {},
   "outputs": [],
   "source": [
    "# Convert NaN values in 'home_nr_add_on' to empty strings\n",
    "addresses_df['home_nr_add_on'] = addresses_df['home_nr_add_on'].replace(np.nan, '')\n"
   ]
  },
  {
   "cell_type": "code",
   "execution_count": null,
   "id": "9c54830c-dea3-4eeb-8943-bd8e4a86ebe2",
   "metadata": {},
   "outputs": [],
   "source": [
    "addresses_df.info()"
   ]
  },
  {
   "cell_type": "code",
   "execution_count": null,
   "id": "569b9efe-025b-43c6-ac40-66c6fd921b9b",
   "metadata": {},
   "outputs": [],
   "source": [
    "# addresses_df"
   ]
  },
  {
   "cell_type": "code",
   "execution_count": null,
   "id": "d55804a3-b566-45ad-b095-c33561e76fd7",
   "metadata": {},
   "outputs": [],
   "source": [
    "# Convert addresses to H3 coordinates\n",
    "h3_coordinates  = addresses_to_h3(addresses_df, resolution)\n"
   ]
  },
  {
   "cell_type": "code",
   "execution_count": null,
   "id": "fd650d35-7488-4654-9345-b51aa7ca5e16",
   "metadata": {},
   "outputs": [],
   "source": [
    "# h3_coordinates "
   ]
  },
  {
   "cell_type": "code",
   "execution_count": null,
   "id": "a1c8ae99-4a0a-473c-a3c3-3f320a0d288a",
   "metadata": {},
   "outputs": [],
   "source": [
    "# Create a folium map centered around the first address\n",
    "map_center = h3_coordinates[0]['Geocoded Lat'], h3_coordinates[0]['Geocoded Lon']\n",
    "mymap = folium.Map(location=map_center, zoom_start=12)\n",
    "\n",
    "# Add markers for home addresses\n",
    "marker_cluster = MarkerCluster().add_to(mymap)\n",
    "# for result in h3_coordinates:\n",
    "#     folium.Marker([result['Geocoded Lat'], result['Geocoded Lon']], popup=result['Address']).add_to(marker_cluster)\n",
    "\n",
    "# Add H3 cells and center points\n",
    "for result in h3_coordinates:\n",
    "    lat_lon = (result['H3 Center Lat'], result['H3 Center Lon'])\n",
    "    folium.Marker(lat_lon, icon=folium.Icon(color='red', icon='cross')).add_to(mymap)\n",
    "    hexagon = h3.h3_to_geo_boundary(result['H3 Cell ID'])\n",
    "    folium.Polygon(locations=hexagon, color='blue', fill=True, fill_opacity=0.2).add_to(mymap)\n",
    "\n",
    "# Save map to HTML file\n",
    "mymap.save(\"map_with_h3_cells.html\")\n",
    "\n",
    "# Display map\n",
    "mymap"
   ]
  },
  {
   "cell_type": "code",
   "execution_count": null,
   "id": "0998cd1c-8e02-4274-a188-6f23ee6e3a36",
   "metadata": {},
   "outputs": [],
   "source": [
    "# Add weather coordinates to the DataFrame\n",
    "df = add_weather_coordinates(addresses_df, h3_coordinates)"
   ]
  },
  {
   "cell_type": "code",
   "execution_count": null,
   "id": "4c8d612b-6094-42f0-982a-b3ee44ffc649",
   "metadata": {},
   "outputs": [],
   "source": [
    "# df"
   ]
  },
  {
   "cell_type": "code",
   "execution_count": null,
   "id": "34d21879-16cd-4211-85e2-33fd2846fb1f",
   "metadata": {},
   "outputs": [],
   "source": [
    "# Read the mapping DataFrame from the Excel file\n",
    "mapping_df = pd.read_excel('pseudonym_id_student_mapping.xlsx')"
   ]
  },
  {
   "cell_type": "code",
   "execution_count": null,
   "id": "7540b924-6921-4ed3-bab7-8cc510817ec1",
   "metadata": {},
   "outputs": [],
   "source": [
    "mapping_df"
   ]
  },
  {
   "cell_type": "code",
   "execution_count": null,
   "id": "c4fd3747-b8bb-4ee1-9724-a9c365046fba",
   "metadata": {},
   "outputs": [],
   "source": [
    "df.info()"
   ]
  },
  {
   "cell_type": "code",
   "execution_count": null,
   "id": "a1318691-b546-4e2e-a846-439b7e6adacc",
   "metadata": {},
   "outputs": [],
   "source": [
    "# Rename 'pseudonym' column to 'id'\n",
    "df.rename(columns={'pseudonym': 'id'}, inplace=True)"
   ]
  },
  {
   "cell_type": "code",
   "execution_count": null,
   "id": "f4ef9c42-ab43-41ff-b2e2-8fd273a9c8d5",
   "metadata": {},
   "outputs": [],
   "source": [
    "df.id.unique()"
   ]
  },
  {
   "cell_type": "code",
   "execution_count": null,
   "id": "320e704c-67fd-407c-a971-7b036fd7d2fe",
   "metadata": {},
   "outputs": [],
   "source": [
    "# # Convert the mapping DataFrame to a dictionary with 'id' as key and 'random_id' as value\n",
    "# id_mapping_dict = dict(zip(mapping_df['id'], mapping_df['random_id']))\n",
    "\n",
    "# # Replace 'id' values in the DataFrame using the dictionary\n",
    "# df['id'] = df['id'].map(id_mapping_dict).astype('Int64')"
   ]
  },
  {
   "cell_type": "code",
   "execution_count": null,
   "id": "b9a9a0ec-6f30-4c91-afb0-5abb16472e03",
   "metadata": {},
   "outputs": [],
   "source": [
    "df.id.unique()"
   ]
  },
  {
   "cell_type": "code",
   "execution_count": null,
   "id": "3686497d-187b-42a8-b879-432aab7209e6",
   "metadata": {},
   "outputs": [],
   "source": [
    "df.drop(columns=['PC6', 'home_nr', 'home_nr_add_on'], inplace=True)"
   ]
  },
  {
   "cell_type": "code",
   "execution_count": null,
   "id": "66fee4e2-83df-4ac2-a15c-eb0bb96d0ce1",
   "metadata": {},
   "outputs": [],
   "source": [
    "df = df.dropna(subset=['id'])"
   ]
  },
  {
   "cell_type": "code",
   "execution_count": null,
   "id": "26658507-4876-4e1b-967b-5bec817aae1e",
   "metadata": {},
   "outputs": [],
   "source": [
    "df"
   ]
  },
  {
   "cell_type": "code",
   "execution_count": null,
   "id": "1095a0f9-4b5f-4469-ad76-b502963002c5",
   "metadata": {},
   "outputs": [],
   "source": [
    "%%time \n",
    "df.to_parquet(file_output_path, index=True, engine='pyarrow')"
   ]
  },
  {
   "cell_type": "code",
   "execution_count": null,
   "id": "9ea84884-607b-42f6-b52b-c83dc47565af",
   "metadata": {},
   "outputs": [],
   "source": [
    "# Save the DataFrame back to Excel\n",
    "df.to_excel(file_output_excel, index=False)"
   ]
  }
 ],
 "metadata": {
  "kernelspec": {
   "display_name": "Python 3 (ipykernel)",
   "language": "python",
   "name": "python3"
  },
  "language_info": {
   "codemirror_mode": {
    "name": "ipython",
    "version": 3
   },
   "file_extension": ".py",
   "mimetype": "text/x-python",
   "name": "python",
   "nbconvert_exporter": "python",
   "pygments_lexer": "ipython3",
   "version": "3.11.6"
  }
 },
 "nbformat": 4,
 "nbformat_minor": 5
}
