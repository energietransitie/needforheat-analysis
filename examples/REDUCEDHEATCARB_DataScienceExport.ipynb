{
 "cells": [
  {
   "cell_type": "markdown",
   "id": "5e24676f-39f9-49e8-a6fa-faf4ba9fa271",
   "metadata": {},
   "source": [
    "# Export sanity checked REDUCEDHEATCARB data for Data Science students"
   ]
  },
  {
   "cell_type": "code",
   "execution_count": null,
   "id": "29ba2386-ffc5-4c51-9ebf-436fe28c55ea",
   "metadata": {},
   "outputs": [],
   "source": [
    "import pandas as pd\n",
    "\n",
    "#Source parquet file \n",
    "file_path='reducedheatcarb_sane_measurements.parquet'\n",
    "\n",
    "# Define the list of properties to filter\n",
    "properties_to_select = ['g_use_cum__m3', \n",
    "                        'temp_indoor__degC', \n",
    "                        'temp_set__degC', \n",
    "                        'co2_indoor__ppm', \n",
    "                        'rel_humidity__0',  \n",
    "                        'e_ret_hi_cum__kWh', 'e_ret_lo_cum__kWh', 'e_use_hi_cum__kWh', 'e_use_lo_cum__kWh', 'e_ret_cum__kWh', 'e_use_cum__kWh']\n",
    "\n",
    "# id mapping\n",
    "pseudonym_id_student_mapping_file_path = 'pseudonym_id_student_mapping.xlsx'\n",
    "\n",
    "#Target parquet file\n",
    "file_output_path='reducedheatcarb_sane_measurements_students_data_science.parquet'"
   ]
  },
  {
   "cell_type": "code",
   "execution_count": null,
   "id": "853cae70-6e40-41dc-ba75-7c22f4b413b0",
   "metadata": {},
   "outputs": [],
   "source": [
    "try:\n",
    "    # df = pd.read_parquet(file_path)\n",
    "    df = pd.read_parquet(\n",
    "        file_path, \n",
    "        engine='pyarrow',\n",
    "        use_nullable_dtypes=True\n",
    "        )\n",
    "    print(\"File was successfully read without specifying compression codec.\")\n",
    "except Exception as e:\n",
    "    print(f\"Error reading file: {e}\")\n"
   ]
  },
  {
   "cell_type": "markdown",
   "id": "e54db1e3-34b7-4bb4-87c0-6a131ee2ec34",
   "metadata": {},
   "source": [
    "## Remap the id"
   ]
  },
  {
   "cell_type": "code",
   "execution_count": null,
   "id": "6cc65d18-51b1-4750-8ce9-1c1ee3220175",
   "metadata": {},
   "outputs": [],
   "source": [
    "df.index.get_level_values('id').unique()"
   ]
  },
  {
   "cell_type": "code",
   "execution_count": null,
   "id": "815dec0b-bf70-47e2-b2a7-b583cffb6377",
   "metadata": {},
   "outputs": [],
   "source": [
    "df.info()"
   ]
  },
  {
   "cell_type": "code",
   "execution_count": null,
   "id": "1edd5fea-3495-44dd-a695-8c89a588d6d3",
   "metadata": {},
   "outputs": [],
   "source": [
    "# Read the mapping DataFrame from the Excel file\n",
    "mapping_df = pd.read_excel(pseudonym_id_student_mapping_file_path)"
   ]
  },
  {
   "cell_type": "code",
   "execution_count": null,
   "id": "e47b5ffd-2993-4bd4-8f0c-ff584c47e6a8",
   "metadata": {},
   "outputs": [],
   "source": [
    "# Convert the mapping DataFrame to a dictionary with 'id' as key and 'random_id' as value\n",
    "id_mapping_dict = dict(zip(mapping_df['id'], mapping_df['random_id']))"
   ]
  },
  {
   "cell_type": "code",
   "execution_count": null,
   "id": "59085caf-9195-4dc4-83bb-3918af164d57",
   "metadata": {},
   "outputs": [],
   "source": [
    "id_mapping_dict"
   ]
  },
  {
   "cell_type": "code",
   "execution_count": null,
   "id": "384c5e28-8fbc-4190-a1f0-47ec5e65d2a2",
   "metadata": {},
   "outputs": [],
   "source": [
    "# Replace 'id' values in the DataFrame using the dictionary\n",
    "df.index = df.index.set_levels(df.index.levels[0].map(id_mapping_dict).astype(df.index.levels[0].dtype), level=0)"
   ]
  },
  {
   "cell_type": "code",
   "execution_count": null,
   "id": "43b070f6-95d3-4551-a141-c17ab553af86",
   "metadata": {},
   "outputs": [],
   "source": [
    "df.index.get_level_values('id').unique()"
   ]
  },
  {
   "cell_type": "code",
   "execution_count": null,
   "id": "beb31e80-4924-4e99-9fec-35d1c23335f8",
   "metadata": {},
   "outputs": [],
   "source": [
    "# Get the names of the levels in the MultiIndex\n",
    "level_names = df.index.names\n",
    "\n",
    "# Get the datatypes of the levels in the MultiIndex\n",
    "level_dtypes = [df.index.get_level_values(level).dtype for level in range(df.index.nlevels)]\n",
    "\n",
    "# Display the names and datatypes of the levels in the MultiIndex\n",
    "for i, name in enumerate(level_names):\n",
    "    print(f\"Level {i}: Name = {name}, Dtype = {level_dtypes[i]}\")"
   ]
  },
  {
   "cell_type": "markdown",
   "id": "ad11f9ee-0e6f-4a85-a91c-6b6391594862",
   "metadata": {},
   "source": [
    "## Filter data for only a few properties"
   ]
  },
  {
   "cell_type": "code",
   "execution_count": null,
   "id": "6c919701-52c2-404a-b399-310db9555dd5",
   "metadata": {},
   "outputs": [],
   "source": [
    "df.index.get_level_values('property').unique().to_list()"
   ]
  },
  {
   "cell_type": "code",
   "execution_count": null,
   "id": "5dfb2b2e-c3f9-41b8-ba7a-a222cc2c47cf",
   "metadata": {},
   "outputs": [],
   "source": [
    "df = df[df.index.get_level_values('property').isin(properties_to_select)]"
   ]
  },
  {
   "cell_type": "code",
   "execution_count": null,
   "id": "5e9f2be5-1a50-4bd0-810a-eec2b00197be",
   "metadata": {},
   "outputs": [],
   "source": [
    "df.index.get_level_values('property').unique().to_list()"
   ]
  },
  {
   "cell_type": "code",
   "execution_count": null,
   "id": "cd8ca22f-d395-42e0-a317-108dd97ac2c2",
   "metadata": {},
   "outputs": [],
   "source": [
    "df.info()"
   ]
  },
  {
   "cell_type": "code",
   "execution_count": null,
   "id": "b54abca9-97d6-446f-a4de-857e2a180f73",
   "metadata": {},
   "outputs": [],
   "source": [
    "print('#ids: ', len(df.index.get_level_values('id').unique()))\n",
    "print('ids: ', list(df.index.get_level_values('id').unique()))\n",
    "\n",
    "print('source categories: ', list(df.index.get_level_values('source_category').unique()))\n",
    "print('source types: ', list(df.index.get_level_values('source_type').unique()))\n",
    "print('properties: ', list(df.index.get_level_values('property').unique()))\n",
    "\n",
    "print('values: ', df['value'].count())\n",
    "print('#values per: \\n', df.groupby(['source_type']).size())\n",
    "print('#values per: \\n', df.groupby(['source_category', 'source_type', 'property']).size())"
   ]
  },
  {
   "cell_type": "code",
   "execution_count": null,
   "id": "e840181d-39e8-4ed5-b164-4f55b6e0123d",
   "metadata": {},
   "outputs": [],
   "source": [
    "df"
   ]
  },
  {
   "cell_type": "code",
   "execution_count": null,
   "id": "46872145-004d-4502-8264-2c3675646432",
   "metadata": {},
   "outputs": [],
   "source": [
    "# Get the names of the levels in the MultiIndex\n",
    "level_names = df.index.names\n",
    "\n",
    "# Get the datatypes of the levels in the MultiIndex\n",
    "level_dtypes = [df.index.get_level_values(level).dtype for level in range(df.index.nlevels)]\n",
    "\n",
    "# Display the names and datatypes of the levels in the MultiIndex\n",
    "for i, name in enumerate(level_names):\n",
    "    print(f\"Level {i}: Name = {name}, Dtype = {level_dtypes[i]}\")"
   ]
  },
  {
   "cell_type": "markdown",
   "id": "a0bbf81d-abb0-4eb9-ba64-d0f87786eb88",
   "metadata": {},
   "source": [
    "## Convert index levels to category"
   ]
  },
  {
   "cell_type": "code",
   "execution_count": null,
   "id": "e2cff3d1-7afa-4ac9-80e1-f929287ec022",
   "metadata": {},
   "outputs": [],
   "source": [
    "# Convert specific levels of the MultiIndex to 'category'\n",
    "df.index = df.index.set_levels(df.index.levels[1].astype('category'), level=1)\n",
    "df.index = df.index.set_levels(df.index.levels[2].astype('category'), level=2)\n",
    "df.index = df.index.set_levels(df.index.levels[4].astype('category'), level=4)"
   ]
  },
  {
   "cell_type": "code",
   "execution_count": null,
   "id": "2b86aff1-8073-4c37-b6b7-2dcf3547d61b",
   "metadata": {},
   "outputs": [],
   "source": [
    "# Get the names of the levels in the MultiIndex\n",
    "level_names = df.index.names\n",
    "\n",
    "# Get the datatypes of the levels in the MultiIndex\n",
    "level_dtypes = [df.index.get_level_values(level).dtype for level in range(df.index.nlevels)]\n",
    "\n",
    "# Display the names and datatypes of the levels in the MultiIndex\n",
    "for i, name in enumerate(level_names):\n",
    "    print(f\"Level {i}: Name = {name}, Dtype = {level_dtypes[i]}\")"
   ]
  },
  {
   "cell_type": "code",
   "execution_count": null,
   "id": "8f7495d8-13d8-4955-b56b-1d747231839d",
   "metadata": {},
   "outputs": [],
   "source": [
    "df.info()"
   ]
  },
  {
   "cell_type": "markdown",
   "id": "ac3fd711-778e-458d-9f19-eb862379e30a",
   "metadata": {},
   "source": [
    "## Convert values to floats\n",
    "N.B. Only do this if you are sure there are no measurements with categorical or string values "
   ]
  },
  {
   "cell_type": "code",
   "execution_count": null,
   "id": "302859a6-0834-4a6c-bbc1-39255170feff",
   "metadata": {},
   "outputs": [],
   "source": [
    "df.loc[:, 'value'] = df['value'].astype('float64')\n"
   ]
  },
  {
   "cell_type": "code",
   "execution_count": null,
   "id": "c6ec323b-bb5d-4975-938c-1b1390df3a53",
   "metadata": {},
   "outputs": [],
   "source": [
    "df"
   ]
  },
  {
   "cell_type": "code",
   "execution_count": null,
   "id": "15f3301a-65d9-4a1f-a243-ee2fa4c781ba",
   "metadata": {},
   "outputs": [],
   "source": [
    "df.index.get_level_values('property').unique().to_list()"
   ]
  },
  {
   "cell_type": "code",
   "execution_count": null,
   "id": "87d4d00a-1487-4386-ae8d-6b595de63e8c",
   "metadata": {},
   "outputs": [],
   "source": [
    "for prop in df.index.get_level_values('property').unique().to_list():\n",
    "    print('\\n', prop)\n",
    "    filtered_df = df[(df.index.get_level_values('property') == prop)]\n",
    "    # Generate summary statistics\n",
    "    summary_stats = filtered_df.describe()\n",
    "\n",
    "    # Format the summary statistics to 2 decimal places\n",
    "    formatted_summary_stats = summary_stats.applymap(lambda x: f\"{x:.2f}\")\n",
    "\n",
    "    # Print the formatted summary statistics\n",
    "    print(formatted_summary_stats)"
   ]
  },
  {
   "cell_type": "markdown",
   "id": "191cf535-719c-4071-87be-38a1a56a489b",
   "metadata": {},
   "source": [
    "## Write to parquet file"
   ]
  },
  {
   "cell_type": "code",
   "execution_count": null,
   "id": "00ef2151-373d-41e0-8497-5579877eee6b",
   "metadata": {},
   "outputs": [],
   "source": [
    "%%time \n",
    "df.to_parquet(file_output_path, index=True, engine='pyarrow')"
   ]
  }
 ],
 "metadata": {
  "kernelspec": {
   "display_name": "Python 3 (ipykernel)",
   "language": "python",
   "name": "python3"
  },
  "language_info": {
   "codemirror_mode": {
    "name": "ipython",
    "version": 3
   },
   "file_extension": ".py",
   "mimetype": "text/x-python",
   "name": "python",
   "nbconvert_exporter": "python",
   "pygments_lexer": "ipython3",
   "version": "3.11.6"
  }
 },
 "nbformat": 4,
 "nbformat_minor": 5
}
