{
 "cells": [
  {
   "cell_type": "markdown",
   "metadata": {},
   "source": [
    "# Twomes data extraction and backup\n",
    "\n",
    "This JupyterLabs notebook can be used download raw data from a Twomes database (see also [more information how to setup a Twomes server](https://github.com/energietransitie/twomes-backoffice-configuration#jupyterlab)).\n",
    "\n",
    "Don't forget to install the requirements listed in [requirements.txt](../requirements.txt) first!\n",
    "\n"
   ]
  },
  {
   "cell_type": "markdown",
   "metadata": {},
   "source": [
    "## Setting the stage\n",
    "\n",
    "First several imports and variables need to be defined\n"
   ]
  },
  {
   "cell_type": "markdown",
   "metadata": {},
   "source": [
    "### Imports and generic settings"
   ]
  },
  {
   "cell_type": "code",
   "execution_count": null,
   "metadata": {},
   "outputs": [],
   "source": [
    "from datetime import datetime, timedelta\n",
    "import pytz\n",
    "import math\n",
    "import pylab as plt\n",
    "\n",
    "import pandas as pd\n",
    "import numpy as np\n",
    "\n",
    "import sys\n",
    "sys.path.append('../data/')\n",
    "sys.path.append('../view/')\n",
    "sys.path.append('../analysis/')\n",
    "\n",
    "%load_ext autoreload\n",
    "\n",
    "%matplotlib widget\n",
    "from plotter import Plot\n",
    "from filewriter import ExcelWriter as ex\n",
    "\n",
    "from measurements import Measurements\n",
    "from tqdm.notebook import tqdm\n",
    "\n",
    "\n",
    "import logging\n",
    "logging.basicConfig(level=logging.INFO, \n",
    "                    format='%(asctime)s %(levelname)-8s %(message)s',\n",
    "                    datefmt='%Y-%m-%d %H:%M:%S',\n",
    "                    filename='log.txt',\n",
    "                   )"
   ]
  },
  {
   "cell_type": "markdown",
   "metadata": {},
   "source": [
    "### Defining which homes, which period \n",
    "\n",
    "- which `homes` \n",
    "- what the location and timezone is of those homes (currently, we only support one location and timezone for a batch of homes) \n",
    "- from which `start_day` to which `end_day' "
   ]
  },
  {
   "cell_type": "code",
   "execution_count": null,
   "metadata": {},
   "outputs": [],
   "source": [
    "#location: center of Assendorp neighbourhood in Zwolle\n",
    "lat, lon = 52.50655, 6.09961\n",
    "\n",
    "#timezone: \n",
    "timezone_database = 'UTC'\n",
    "timezone_homes = 'Europe/Amsterdam'\n",
    "\n",
    "# Below, the maximum period for data collection\n",
    "first_day = pytz.timezone(timezone_homes).localize(datetime(2021, 10, 25))\n",
    "last_day = pytz.timezone(timezone_homes).localize(datetime(2022, 5, 8))\n",
    "\n",
    "# # Alternatively, you may want to test things only on a three week periode. This is a period with suitable weather and lots of homes with measurements.\n",
    "# first_day = pytz.timezone(timezone_homes).localize(datetime(2022, 1, 3))\n",
    "# last_day = pytz.timezone(timezone_homes).localize(datetime(2022, 1, 31))\n",
    "\n",
    "# # The full set of homes\n",
    "homes_all = [803422, 805164, 809743, 811308, 815925, 817341, 822479, 829947, 830088, 831062, 839440, 845966, 845997, 846697, 857477, 864296, 873985, 879481, 881611, 886307, 895671, 897349, 899510]\n",
    "\n",
    "# A subset of homes\n",
    "homes_3 = [803422, 805164, 809743]\n",
    "\n",
    "# single home for virtual homes\n",
    "homes_single = [886307]\n",
    "\n",
    "# single home for gap assessment\n",
    "# homes = [803422]"
   ]
  },
  {
   "cell_type": "markdown",
   "metadata": {},
   "source": [
    "## Getting a single property of raw data"
   ]
  },
  {
   "cell_type": "code",
   "execution_count": null,
   "metadata": {},
   "outputs": [],
   "source": [
    "# extract a more minimal set of properties, as done in earlier queries\n",
    "twomes_single_type_dict = {\n",
    "    'roomTemp' : 'float32'\n",
    "}\n"
   ]
  },
  {
   "cell_type": "code",
   "execution_count": null,
   "metadata": {},
   "outputs": [],
   "source": [
    "%%time \n",
    "%autoreload 2\n",
    "df = Measurements.get_raw_homes_data(homes_single,\n",
    "                                     first_day, last_day,\n",
    "                                     twomes_single_type_dict,\n",
    "                                     timezone_database, timezone_homes)\n"
   ]
  },
  {
   "cell_type": "markdown",
   "metadata": {},
   "source": [
    "### Plotting a single property (e.g. roomTemp)"
   ]
  },
  {
   "cell_type": "code",
   "execution_count": null,
   "metadata": {},
   "outputs": [],
   "source": [
    "# This cell can be used to plot roomTemp\n",
    "\n",
    "devices = list(df.index.unique(level='device_type'))\n",
    "property_name = str(list(twomes_single_type_dict.keys())[0])\n",
    "\n",
    "Plot.temperature_and_power_one_home_plot(f'{property_name} in {homes_single}',\n",
    "                                df,\n",
    "                                temp_plot_dict = {property_name: 'r'}\n",
    "                               )\n",
    "\n",
    "for col in list(df.index.unique(level='device_type')):\n",
    "    Plot.temperature_and_power_one_home_plot(f'{col}:{property_name} in {homes_single}',\n",
    "                                df.loc[homes_single,:,col],\n",
    "                                temp_plot_dict = {property_name: 'r'}\n",
    "                               )"
   ]
  },
  {
   "cell_type": "markdown",
   "metadata": {},
   "source": [
    "## Getting more properties and writing to a parquet file"
   ]
  },
  {
   "cell_type": "code",
   "execution_count": null,
   "metadata": {},
   "outputs": [],
   "source": [
    "# extract the  full set of properties\n",
    "twomes_full_type_dict = {\n",
    "    'heartbeat' : 'Int16',\n",
    "    'eMeterReadingReturnHigh' : 'float32',\n",
    "    'eMeterReadingReturnLow' : 'float32',\n",
    "    'eMeterReadingSupplyHigh' : 'float32', \n",
    "    'eMeterReadingSupplyLow' : 'float32',\n",
    "    'eMeterReadingTimestamp' : 'str',\n",
    "    'gMeterReadingSupply' : 'float32',\n",
    "    'gMeterReadingTimestamp' : 'str',\n",
    "    'listRSSI' : 'str',\n",
    "    'boilerTemp1' : 'float32',\n",
    "    'boilerTemp2' : 'float32',\n",
    "    'roomTemp' : 'float32',\n",
    "    'boilerSupplyTemp' : 'float32',\n",
    "    'isBoilerFlameOn' : 'Int8',\n",
    "    'isCentralHeatingModeOn' : 'Int8',\n",
    "    'isDomesticHotWaterModeOn' : 'Int8',\n",
    "    'maxModulationLevel' : 'Int8',\n",
    "    'roomSetpointTemp' : 'float32',\n",
    "    'minModulationLevel' : 'Int8',\n",
    "    'boilerReturnTemp' : 'float32',\n",
    "    'relativeModulationLevel' : 'Int8',\n",
    "    'boilerMaxSupplyTemp' : 'float32',\n",
    "    'CO2concentration' : 'Int16',\n",
    "    'relativeHumidity' : 'float32',\n",
    "    'roomTemp2' : 'float32'}\n"
   ]
  },
  {
   "cell_type": "code",
   "execution_count": null,
   "metadata": {},
   "outputs": [],
   "source": [
    "# extract a more minimal set of properties, as done in earlier queries\n",
    "twomes_limited_type_dict = {\n",
    "    'eMeterReadingReturnHigh' : 'float32',\n",
    "    'eMeterReadingReturnLow' : 'float32',\n",
    "    'eMeterReadingSupplyHigh' : 'float32', \n",
    "    'eMeterReadingSupplyLow' : 'float32',\n",
    "    'eMeterReadingTimestamp' : 'str',\n",
    "    'gMeterReadingSupply' : 'float32',\n",
    "    'gMeterReadingTimestamp' : 'str',\n",
    "    'roomTemp' : 'float32',\n",
    "    'roomSetpointTemp' : 'float32'\n",
    "}\n"
   ]
  },
  {
   "cell_type": "code",
   "execution_count": null,
   "metadata": {},
   "outputs": [],
   "source": [
    "%%time \n",
    "df_data_homes = Measurements.get_raw_homes_data(homes_all,\n",
    "                                                first_day, last_day,\n",
    "                                                twomes_limited_type_dict,\n",
    "                                                timezone_database, timezone_homes)\n",
    "\n"
   ]
  },
  {
   "cell_type": "code",
   "execution_count": null,
   "metadata": {},
   "outputs": [],
   "source": [
    "%%time \n",
    "df_data_homes.to_parquet('homes_all_twomes_limited_type_dict.parquet', index=True, engine='pyarrow')"
   ]
  },
  {
   "cell_type": "code",
   "execution_count": null,
   "metadata": {},
   "outputs": [],
   "source": [
    "%%time \n",
    "df_data_homes = Measurements.get_raw_homes_data(homes_all,\n",
    "                                                first_day, last_day,\n",
    "                                                twomes_full_type_dict,\n",
    "                                                timezone_database, timezone_homes)\n",
    "\n"
   ]
  },
  {
   "cell_type": "code",
   "execution_count": null,
   "metadata": {},
   "outputs": [],
   "source": [
    "df_data_homes.info()"
   ]
  },
  {
   "cell_type": "code",
   "execution_count": null,
   "metadata": {},
   "outputs": [],
   "source": [
    "%%time \n",
    "df_data_homes.to_parquet('homes_all_twomes_full_type_dict.parquet', index=True, engine='pyarrow')"
   ]
  },
  {
   "cell_type": "code",
   "execution_count": null,
   "metadata": {},
   "outputs": [],
   "source": [
    "df_data_homes"
   ]
  },
  {
   "cell_type": "code",
   "execution_count": null,
   "metadata": {},
   "outputs": [],
   "source": [
    "df_data_homes.describe()"
   ]
  },
  {
   "cell_type": "markdown",
   "metadata": {},
   "source": [
    "### Write individual data for individual homes to parquet files"
   ]
  },
  {
   "cell_type": "code",
   "execution_count": null,
   "metadata": {},
   "outputs": [],
   "source": [
    "%%time \n",
    "for home_id in tqdm(homes_all):\n",
    "    filename = f'{home_id}-rawdata_{first_day.isoformat()}-{(last_day+timedelta(days=1)+ timedelta(hours=1)).isoformat()}.parquet'\n",
    "    df_data_homes.loc[home_id].to_parquet(filename, index=True, engine='pyarrow')\n"
   ]
  },
  {
   "cell_type": "markdown",
   "metadata": {},
   "source": [
    "### Write raw data to a CSV file"
   ]
  },
  {
   "cell_type": "code",
   "execution_count": null,
   "metadata": {},
   "outputs": [],
   "source": [
    "%%time \n",
    "%autoreload 2\n",
    "df = Measurements.get_raw_measurements(homes_all,\n",
    "                                     first_day, last_day,\n",
    "                                     twomes_full_type_dict,\n",
    "                                     timezone_database, timezone_homes)\n"
   ]
  },
  {
   "cell_type": "code",
   "execution_count": null,
   "metadata": {},
   "outputs": [],
   "source": [
    "%%time \n",
    "for home_id in tqdm(list(df.index.unique(level='home_id'))):\n",
    "    filename = f'{home_id}-rawdata_{first_day.isoformat()}-{(last_day+timedelta(days=1)+ timedelta(hours=1)).isoformat()}.csv'\n",
    "    df_write = df.copy(deep=True).reset_index([0,2,3])\n",
    "    df_write['unix_time'] = df_write.index.map(pd.Timestamp.timestamp).astype(int)\n",
    "    # df_write['unix_time'] = df_write['unix_time'].astype(int)\n",
    "    df_write = (df_write\n",
    "                .sort_values('unix_time')\n",
    "                .reset_index(drop=True)\n",
    "                [['home_id', 'unix_time', 'device_type','property', 'value', 'unit']])\n",
    "    df_write.index.name = '#'\n",
    "    df_write.to_csv(filename)\n",
    "    del(df_write)\n"
   ]
  },
  {
   "cell_type": "code",
   "execution_count": null,
   "metadata": {},
   "outputs": [],
   "source": []
  }
 ],
 "metadata": {
  "kernelspec": {
   "display_name": "Python 3 (ipykernel)",
   "language": "python",
   "name": "python3"
  },
  "language_info": {
   "codemirror_mode": {
    "name": "ipython",
    "version": 3
   },
   "file_extension": ".py",
   "mimetype": "text/x-python",
   "name": "python",
   "nbconvert_exporter": "python",
   "pygments_lexer": "ipython3",
   "version": "3.10.6"
  }
 },
 "nbformat": 4,
 "nbformat_minor": 4
}
