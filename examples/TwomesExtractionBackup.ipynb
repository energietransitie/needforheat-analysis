{
 "cells": [
  {
   "cell_type": "markdown",
   "metadata": {
    "tags": []
   },
   "source": [
    "# Twomes data extraction and backup\n",
    "\n",
    "This JupyterLabs notebook can be used download raw data from a Twomes database (see also [more information how to setup a Twomes server](https://github.com/energietransitie/twomes-backoffice-configuration#jupyterlab)).\n",
    "\n",
    "Don't forget to install the requirements listed in [requirements.txt](../requirements.txt) first!\n",
    "\n"
   ]
  },
  {
   "cell_type": "markdown",
   "metadata": {
    "tags": []
   },
   "source": [
    "## Setting the stage\n",
    "\n",
    "First several imports and variables need to be defined\n"
   ]
  },
  {
   "cell_type": "markdown",
   "metadata": {},
   "source": [
    "### Imports and generic settings"
   ]
  },
  {
   "cell_type": "code",
   "execution_count": null,
   "metadata": {},
   "outputs": [],
   "source": [
    "from datetime import datetime, timedelta\n",
    "import pytz\n",
    "import math\n",
    "import pylab as plt\n",
    "\n",
    "import pandas as pd\n",
    "import numpy as np\n",
    "\n",
    "# usually, two decimals suffice for displaying DataFrames (NB internally, precision may be higher)\n",
    "pd.options.display.precision = 2\n",
    "\n",
    "import sys\n",
    "sys.path.append('../data/')\n",
    "# sys.path.append('../view/')\n",
    "# sys.path.append('../analysis/')\n",
    "\n",
    "%load_ext autoreload\n",
    "import gc\n",
    "\n",
    "%matplotlib widget\n",
    "from plotter import Plot\n",
    "from filewriter import ExcelWriter as ex\n",
    "\n",
    "from measurements import Measurements\n",
    "\n",
    "from tqdm.notebook import tqdm\n",
    "\n",
    "\n",
    "import logging\n",
    "logging.basicConfig(level=logging.INFO, \n",
    "                    format='%(asctime)s %(levelname)-8s %(message)s',\n",
    "                    datefmt='%Y-%m-%d %H:%M:%S',\n",
    "                    filename='log.txt',\n",
    "                   )"
   ]
  },
  {
   "cell_type": "markdown",
   "metadata": {},
   "source": [
    "### Defining which homes, which period \n",
    "\n",
    "- which `homes` \n",
    "- what the location and timezone is of those homes (currently, we only support one location and timezone for a batch of homes) \n",
    "- from which `start_day` to which `end_day` "
   ]
  },
  {
   "cell_type": "code",
   "execution_count": null,
   "metadata": {},
   "outputs": [],
   "source": [
    "# location: center of Assendorp neighbourhood in Zwolle\n",
    "lat, lon = 52.50655, 6.09961\n",
    "\n",
    "# timezone: \n",
    "timezone_database = 'UTC'\n",
    "timezone_homes = 'Europe/Amsterdam'\n",
    "\n",
    "# Period: maximum period of datacollection\n",
    "first_day = pytz.timezone(timezone_homes).localize(datetime(2021, 10, 25))\n",
    "last_day = pytz.timezone(timezone_homes).localize(datetime(2022, 5, 8))\n",
    "\n",
    "# Period: Shorter period with suitable weather and lots of homes with measurements.\n",
    "# first_day = pytz.timezone(timezone_homes).localize(datetime(2022, 1, 3))\n",
    "# last_day = pytz.timezone(timezone_homes).localize(datetime(2022, 1, 31))\n",
    "\n",
    "\n",
    "# Homes: full set\n",
    "homes_all = [803422, 805164, 809743, 811308, 815925, 817341, 822479, 829947, 830088, 831062, 839440, 845966, 845997, 846697, 857477, 864296, 873985, 879481, 881611, 886307, 895671, 897349, 899510]\n",
    "\n",
    "# Homes: subset of homes\n",
    "homes_3 = [803422, 805164, 809743]\n",
    "\n",
    "# Homes: single home (virtual home)\n",
    "homes_single = [886307]\n",
    "\n",
    "# Homes: single home for gap assessment\n",
    "# homes = [803422]\n",
    "\n",
    "# Properties: a single one\n",
    "twomes_single_property_names = {\n",
    "    'roomTemp' : 'T_in_avg_degC'\n",
    "}\n",
    "twomes_single_property = [k for k in twomes_single_property_names]\n",
    "twomes_single_property_type = {\n",
    "    'roomTemp' : 'float32'\n",
    "}\n",
    "\n",
    "\n",
    "# Properties: limited set\n",
    "twomes_limited_properties_types = {\n",
    "    'eMeterReadingReturnHigh' : 'float64',\n",
    "    'eMeterReadingReturnLow' : 'float64',\n",
    "    'eMeterReadingSupplyHigh' : 'float64', \n",
    "    'eMeterReadingSupplyLow' : 'float64',\n",
    "    'eMeterReadingTimestamp' : 'str',\n",
    "    'gMeterReadingSupply' : 'float64',\n",
    "    'gMeterReadingTimestamp' : 'str',\n",
    "    'roomTemp' : 'float32',\n",
    "    'roomSetpointTemp' : 'float32'\n",
    "}\n",
    "twomes_limited_properties = [k for k in twomes_limited_properties_types]\n",
    "\n",
    "# Properties:  full set\n",
    "twomes_full_properties_types = {\n",
    "    'heartbeat' : 'Int16',\n",
    "    'eMeterReadingReturnHigh' : 'float64',\n",
    "    'eMeterReadingReturnLow' : 'float64',\n",
    "    'eMeterReadingSupplyHigh' : 'float64', \n",
    "    'eMeterReadingSupplyLow' : 'float64',\n",
    "    'eMeterReadingTimestamp' : 'str',\n",
    "    'gMeterReadingSupply' : 'float64',\n",
    "    'gMeterReadingTimestamp' : 'str',\n",
    "    'listRSSI' : 'str',\n",
    "    'boilerTemp1' : 'float32',\n",
    "    'boilerTemp2' : 'float32',\n",
    "    'roomTemp' : 'float32',\n",
    "    'boilerSupplyTemp' : 'float32',\n",
    "    'isBoilerFlameOn' : 'Int8',\n",
    "    'isCentralHeatingModeOn' : 'Int8',\n",
    "    'isDomesticHotWaterModeOn' : 'Int8',\n",
    "    'maxModulationLevel' : 'Int8',\n",
    "    'roomSetpointTemp' : 'float32',\n",
    "    'minModulationLevel' : 'Int8',\n",
    "    'boilerReturnTemp' : 'float32',\n",
    "    'relativeModulationLevel' : 'Int8',\n",
    "    'boilerMaxSupplyTemp' : 'float32',\n",
    "    'CO2concentration' : 'Int16',\n",
    "    'relativeHumidity' : 'float32',\n",
    "    'roomTemp2' : 'float32'}\n",
    "twomes_full_properties = [k for k in twomes_full_properties_types]"
   ]
  },
  {
   "cell_type": "markdown",
   "metadata": {},
   "source": [
    "## Getting measurements: 1 property, 1 home"
   ]
  },
  {
   "cell_type": "code",
   "execution_count": null,
   "metadata": {},
   "outputs": [],
   "source": [
    "%%time \n",
    "%autoreload 2\n",
    "df_meas= Measurements.get_raw_measurements(\n",
    "    homes_single,\n",
    "    first_day, last_day,\n",
    "    twomes_single_property,\n",
    "    timezone_database, timezone_homes\n",
    ")"
   ]
  },
  {
   "cell_type": "code",
   "execution_count": null,
   "metadata": {},
   "outputs": [],
   "source": [
    "df_meas.info()"
   ]
  },
  {
   "cell_type": "code",
   "execution_count": null,
   "metadata": {},
   "outputs": [],
   "source": [
    "df_meas"
   ]
  },
  {
   "cell_type": "markdown",
   "metadata": {},
   "source": [
    "## Get measuremens for more properties for 3 homes"
   ]
  },
  {
   "cell_type": "code",
   "execution_count": null,
   "metadata": {},
   "outputs": [],
   "source": [
    "%%time \n",
    "df_meas= Measurements.get_raw_measurements(\n",
    "    homes_3,\n",
    "    first_day, last_day,\n",
    "    twomes_limited_properties,\n",
    "    timezone_database, timezone_homes\n",
    ")"
   ]
  },
  {
   "cell_type": "code",
   "execution_count": null,
   "metadata": {},
   "outputs": [],
   "source": [
    "df_meas.info()"
   ]
  },
  {
   "cell_type": "code",
   "execution_count": null,
   "metadata": {},
   "outputs": [],
   "source": [
    "df_meas"
   ]
  },
  {
   "cell_type": "markdown",
   "metadata": {},
   "source": [
    "## Get all measurements for all homes and write to parquet file(s)"
   ]
  },
  {
   "cell_type": "markdown",
   "metadata": {},
   "source": [
    "### Get measurements for all properties for 23 homes"
   ]
  },
  {
   "cell_type": "code",
   "execution_count": null,
   "metadata": {},
   "outputs": [],
   "source": [
    "%%time \n",
    "df_meas = Measurements.get_raw_measurements(\n",
    "    homes_all,\n",
    "    first_day, last_day,\n",
    "    twomes_full_properties,\n",
    "    timezone_database, timezone_homes\n",
    ")"
   ]
  },
  {
   "cell_type": "code",
   "execution_count": null,
   "metadata": {},
   "outputs": [],
   "source": [
    "df_meas.info()"
   ]
  },
  {
   "cell_type": "code",
   "execution_count": null,
   "metadata": {},
   "outputs": [],
   "source": [
    "df_meas"
   ]
  },
  {
   "cell_type": "markdown",
   "metadata": {
    "tags": []
   },
   "source": [
    "### Writing raw measurements to a parquet file"
   ]
  },
  {
   "cell_type": "code",
   "execution_count": null,
   "metadata": {},
   "outputs": [],
   "source": [
    "%%time \n",
    "df_meas.to_parquet('twomes_raw_measurements.parquet', index=True, engine='pyarrow')"
   ]
  },
  {
   "cell_type": "markdown",
   "metadata": {},
   "source": [
    "### Write raw measurements per home to parquet files"
   ]
  },
  {
   "cell_type": "code",
   "execution_count": null,
   "metadata": {},
   "outputs": [],
   "source": [
    "%%time \n",
    "for home_id in tqdm(list(df_meas.index.unique(level='id'))):\n",
    "    df_meas.xs(home_id, drop_level=False).to_parquet(f'{home_id}_raw_measurements.parquet', index=True, engine='pyarrow')"
   ]
  },
  {
   "cell_type": "markdown",
   "metadata": {},
   "source": [
    "## Put properties in separate columns, apply types and write parquet file(s)"
   ]
  },
  {
   "cell_type": "code",
   "execution_count": null,
   "metadata": {},
   "outputs": [],
   "source": [
    "# unstacking takes the entire Twomes dataset uses 32 GB memory, so we have to do it home by home\n",
    "del df_meas\n",
    "gc.collect()"
   ]
  },
  {
   "cell_type": "markdown",
   "metadata": {
    "tags": []
   },
   "source": [
    "### Writing raw properties per home to a parquet file"
   ]
  },
  {
   "cell_type": "code",
   "execution_count": null,
   "metadata": {},
   "outputs": [],
   "source": [
    "%%time\n",
    "df_prop = pd.DataFrame()\n",
    "\n",
    "for home_id in tqdm(homes_all):\n",
    "    df_prop_home = Measurements.to_properties(\n",
    "        pd.read_parquet(f'{home_id}_raw_measurements.parquet', engine='pyarrow'),\n",
    "        twomes_full_properties_types\n",
    "    )\n",
    "    df_prop_home.to_parquet(f'{home_id}_raw_properties.parquet', index=True, engine='pyarrow')\n",
    "    df_prop = pd.concat([df_prop, df_prop_home])   "
   ]
  },
  {
   "cell_type": "code",
   "execution_count": null,
   "metadata": {},
   "outputs": [],
   "source": [
    "df_prop.info()"
   ]
  },
  {
   "cell_type": "code",
   "execution_count": null,
   "metadata": {},
   "outputs": [],
   "source": [
    "df_prop"
   ]
  },
  {
   "cell_type": "markdown",
   "metadata": {
    "tags": []
   },
   "source": [
    "### Writing raw properties to a parquet file"
   ]
  },
  {
   "cell_type": "code",
   "execution_count": null,
   "metadata": {},
   "outputs": [],
   "source": [
    "%%time \n",
    "df_prop.to_parquet('twomes_raw_properties.parquet', index=True, engine='pyarrow')"
   ]
  }
 ],
 "metadata": {
  "kernelspec": {
   "display_name": "Python 3 (ipykernel)",
   "language": "python",
   "name": "python3"
  },
  "language_info": {
   "codemirror_mode": {
    "name": "ipython",
    "version": 3
   },
   "file_extension": ".py",
   "mimetype": "text/x-python",
   "name": "python",
   "nbconvert_exporter": "python",
   "pygments_lexer": "ipython3",
   "version": "3.10.6"
  }
 },
 "nbformat": 4,
 "nbformat_minor": 4
}
