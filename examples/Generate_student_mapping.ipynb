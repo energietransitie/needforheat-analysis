{
 "cells": [
  {
   "cell_type": "markdown",
   "id": "22b53423-6eaa-4def-b594-03eae139d26c",
   "metadata": {},
   "source": [
    "# Generate id mapping for student assignment"
   ]
  },
  {
   "cell_type": "code",
   "execution_count": null,
   "id": "d628c358-cdb2-4f7a-a390-a366ac508ba7",
   "metadata": {},
   "outputs": [],
   "source": [
    "import pandas as pd\n",
    "import numpy as np\n",
    "\n",
    "file_path='needforheat_raw_measurements.parquet'"
   ]
  },
  {
   "cell_type": "code",
   "execution_count": null,
   "id": "5b7da069-dedc-44ae-a9a2-df378961dfaf",
   "metadata": {},
   "outputs": [],
   "source": [
    "%%time\n",
    "# Attempt to read the Parquet file\n",
    "try:\n",
    "    df = pd.read_parquet(\n",
    "        file_path, \n",
    "        engine='pyarrow',\n",
    "        use_nullable_dtypes=True\n",
    "        )\n",
    "    print(\"File was successfully read without specifying compression codec.\")\n",
    "except Exception as e:\n",
    "    print(f\"Error reading file: {e}\")\n"
   ]
  },
  {
   "cell_type": "code",
   "execution_count": null,
   "id": "908c9cc7-9a67-49dd-8011-a0302568214b",
   "metadata": {},
   "outputs": [],
   "source": [
    "df.index.get_level_values('id').unique()"
   ]
  },
  {
   "cell_type": "code",
   "execution_count": null,
   "id": "78972837-9db0-48a8-af3d-2f93e92c7e42",
   "metadata": {},
   "outputs": [],
   "source": [
    "len(df.index.get_level_values('id').unique())"
   ]
  },
  {
   "cell_type": "code",
   "execution_count": null,
   "id": "454caebb-5296-47fc-8e6e-8e4909cb5f45",
   "metadata": {},
   "outputs": [],
   "source": [
    "df['value'].count()"
   ]
  },
  {
   "cell_type": "code",
   "execution_count": null,
   "id": "005cc882-59a2-4bb1-a00c-a56c756446cd",
   "metadata": {},
   "outputs": [],
   "source": [
    "# Generate random IDs for pseudonyms without setting a seed\n",
    "random_pseudonyms = np.random.randint(500000, 599999, size=len(df.index.get_level_values('id').unique()))\n",
    "\n",
    "# Create a DataFrame for the mapping\n",
    "mapping_df = pd.DataFrame({'id': sorted(df.index.get_level_values('id').unique()), 'random_id': random_pseudonyms})"
   ]
  },
  {
   "cell_type": "code",
   "execution_count": null,
   "id": "ea2a64cc-afb9-4394-9e92-344a98995c2d",
   "metadata": {},
   "outputs": [],
   "source": [
    "mapping_df"
   ]
  },
  {
   "cell_type": "code",
   "execution_count": null,
   "id": "f104b56a-4531-49dd-8c52-2b385386ef3b",
   "metadata": {},
   "outputs": [],
   "source": [
    "# Save the mapping DataFrame to an Excel file\n",
    "mapping_df.to_excel('pseudonym_id_student_mapping.xlsx', index=False)\n"
   ]
  },
  {
   "cell_type": "code",
   "execution_count": null,
   "id": "50884d10-c8ed-4a49-89bf-90dfcf856d14",
   "metadata": {},
   "outputs": [],
   "source": []
  }
 ],
 "metadata": {
  "kernelspec": {
   "display_name": "Python 3 (ipykernel)",
   "language": "python",
   "name": "python3"
  },
  "language_info": {
   "codemirror_mode": {
    "name": "ipython",
    "version": 3
   },
   "file_extension": ".py",
   "mimetype": "text/x-python",
   "name": "python",
   "nbconvert_exporter": "python",
   "pygments_lexer": "ipython3",
   "version": "3.11.6"
  }
 },
 "nbformat": 4,
 "nbformat_minor": 5
}
