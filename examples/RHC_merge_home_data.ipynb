{
 "cells": [
  {
   "cell_type": "markdown",
   "id": "f9c5c03f-3c9c-4e13-9951-c11fecad58e4",
   "metadata": {},
   "source": [
    "# Merge home data\n"
   ]
  },
  {
   "cell_type": "code",
   "execution_count": null,
   "id": "2740c492-5431-4307-b898-f5e846ca22de",
   "metadata": {},
   "outputs": [],
   "source": [
    "import pandas as pd\n",
    "import numpy as np\n",
    "\n",
    "home_weather_locations_file_path = \"home_weather_locations.parquet\"\n",
    "home_data_file_path = \"home_data.parquet\""
   ]
  },
  {
   "cell_type": "code",
   "execution_count": null,
   "id": "128e9a85-2b4c-485a-8e4f-c49c46e9cddb",
   "metadata": {},
   "outputs": [],
   "source": [
    "%%time\n",
    "# read home data from Parquet file\n",
    "try:\n",
    "    df_homes_weather = pd.read_parquet(\n",
    "        home_weather_locations_file_path, \n",
    "        engine='pyarrow',\n",
    "        use_nullable_dtypes=True\n",
    "        )\n",
    "    print(\"File was successfully read without specifying compression codec.\")\n",
    "except Exception as e:\n",
    "    print(f\"Error reading file: {e}\")\n"
   ]
  },
  {
   "cell_type": "code",
   "execution_count": null,
   "id": "4367e998-34c1-4c2e-91bf-5ec33d853097",
   "metadata": {},
   "outputs": [],
   "source": [
    "df_homes = df_homes_weather"
   ]
  },
  {
   "cell_type": "code",
   "execution_count": null,
   "id": "62c87390-8048-452d-87f9-0d5466121711",
   "metadata": {},
   "outputs": [],
   "source": [
    "df_homes"
   ]
  },
  {
   "cell_type": "markdown",
   "id": "4e623f9b-4c60-44ae-b02c-a6d1a4bb8a5f",
   "metadata": {},
   "source": [
    "## Merge other home data"
   ]
  },
  {
   "cell_type": "code",
   "execution_count": null,
   "id": "d56a8386-07ea-49d4-a341-8ef06fae54c8",
   "metadata": {},
   "outputs": [],
   "source": [
    "# TO DO: boiler type"
   ]
  },
  {
   "cell_type": "markdown",
   "id": "b997b2b7-0f3e-4afd-b583-c701e56ef620",
   "metadata": {},
   "source": [
    "## Write merged DataFrame to file"
   ]
  },
  {
   "cell_type": "code",
   "execution_count": null,
   "id": "69abb574-fa8c-4cf9-9c3e-fed9b209fd5c",
   "metadata": {},
   "outputs": [],
   "source": [
    "%%time \n",
    "df_homes.to_parquet(home_data_file_path, index=True, engine='pyarrow')"
   ]
  },
  {
   "cell_type": "code",
   "execution_count": null,
   "id": "e02eb8b3-9df6-43fd-b4f0-c91c3f748897",
   "metadata": {},
   "outputs": [],
   "source": []
  }
 ],
 "metadata": {
  "kernelspec": {
   "display_name": "Python 3 (ipykernel)",
   "language": "python",
   "name": "python3"
  },
  "language_info": {
   "codemirror_mode": {
    "name": "ipython",
    "version": 3
   },
   "file_extension": ".py",
   "mimetype": "text/x-python",
   "name": "python",
   "nbconvert_exporter": "python",
   "pygments_lexer": "ipython3",
   "version": "3.11.6"
  }
 },
 "nbformat": 4,
 "nbformat_minor": 5
}
