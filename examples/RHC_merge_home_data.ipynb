{
 "cells": [
  {
   "cell_type": "markdown",
   "id": "f9c5c03f-3c9c-4e13-9951-c11fecad58e4",
   "metadata": {},
   "source": [
    "# Merge home and boiler data\n"
   ]
  },
  {
   "cell_type": "code",
   "execution_count": null,
   "id": "2740c492-5431-4307-b898-f5e846ca22de",
   "metadata": {},
   "outputs": [],
   "source": [
    "import pandas as pd\n",
    "import numpy as np\n",
    "from tqdm.notebook import tqdm\n",
    "\n",
    "# Files needed as input\n",
    "home_weather_locations_file_path = \"home_weather_locations.parquet\"\n",
    "home_boilers_excel_file_path = \"homes_boilers.xlsx\"\n",
    "boilers_excel_file_path = \"boilers.xlsx\"\n",
    "rhc_preprocessed_poperties_file='rhc_preprocessed_properties.parquet'\n",
    "\n",
    "# Also needed\n",
    "# avanta_ace_28c_Hs.csv\n",
    "# calenta_ace_28c_Hs.csv\n",
    "# calenta_ace_40l_Hs.csv\n",
    "# tzerra_ace_39c_Hs.csv\n",
    "# avanta_ace_35c_Hs.csv\n",
    "# calenta_ace_40c_Hs.csv\n",
    "# tzerra_ace_28c_Hs.csv\n",
    "# tzerra_ace_matic_35c_Hs.csv\n",
    "\n",
    "# Files written as output\n",
    "home_data_file_path = \"home_data.parquet\"\n",
    "boiler_returntemp_load_efficiency_file_path = \"boiler_returntemp_load_efficiency.parquet\"\n",
    "boiler_returntemp_efficiency_file_path = \"boiler_returntemp_efficiency.parquet\"\n"
   ]
  },
  {
   "cell_type": "markdown",
   "id": "d5e1978b-76c3-43ce-beb2-373e54074b8d",
   "metadata": {},
   "source": [
    "### Reading homes with enough data from a parquet file"
   ]
  },
  {
   "cell_type": "code",
   "execution_count": null,
   "id": "d9e3e1be-b6fb-4283-99b5-687ac36c6f7f",
   "metadata": {},
   "outputs": [],
   "source": [
    "%%time\n",
    "\n",
    "# Attempt to read the Parquet file\n",
    "try:\n",
    "    df_prep = pd.read_parquet(\n",
    "        rhc_preprocessed_poperties_file, \n",
    "        engine='pyarrow',\n",
    "        dtype_backend='numpy_nullable'\n",
    "        )\n",
    "    print(\"File was successfully read without specifying compression codec.\")\n",
    "except Exception as e:\n",
    "    print(f\"Error reading file: {e}\")"
   ]
  },
  {
   "cell_type": "code",
   "execution_count": null,
   "id": "a1c6d419-9238-4dee-ac6c-837f452e8030",
   "metadata": {},
   "outputs": [],
   "source": [
    "home_ids = list(df_prep.index.unique('id').dropna())"
   ]
  },
  {
   "cell_type": "code",
   "execution_count": null,
   "id": "9d5b5fac-6624-4c24-ab44-0b97141aa8e0",
   "metadata": {},
   "outputs": [],
   "source": [
    "home_ids"
   ]
  },
  {
   "cell_type": "markdown",
   "id": "e706ee81-6ef5-402b-bfb7-5ecdb02b7a8b",
   "metadata": {},
   "source": [
    "## Get home weather locations"
   ]
  },
  {
   "cell_type": "code",
   "execution_count": null,
   "id": "128e9a85-2b4c-485a-8e4f-c49c46e9cddb",
   "metadata": {},
   "outputs": [],
   "source": [
    "%%time\n",
    "# read home data from Parquet file\n",
    "try:\n",
    "    df_homes_weather = pd.read_parquet(\n",
    "        home_weather_locations_file_path, \n",
    "        engine='pyarrow',\n",
    "        dtype_backend='numpy_nullable'\n",
    "        )\n",
    "    print(\"File was successfully read without specifying compression codec.\")\n",
    "except Exception as e:\n",
    "    print(f\"Error reading file: {e}\")\n"
   ]
  },
  {
   "cell_type": "code",
   "execution_count": null,
   "id": "4367e998-34c1-4c2e-91bf-5ec33d853097",
   "metadata": {},
   "outputs": [],
   "source": [
    "df_homes_weather = df_homes_weather.loc[home_ids].reset_index()"
   ]
  },
  {
   "cell_type": "code",
   "execution_count": null,
   "id": "11d0e5ee-2a1b-48ae-8566-43dfe601dceb",
   "metadata": {},
   "outputs": [],
   "source": [
    "df_homes_weather"
   ]
  },
  {
   "cell_type": "markdown",
   "id": "4e623f9b-4c60-44ae-b02c-a6d1a4bb8a5f",
   "metadata": {},
   "source": [
    "## Get boiler related data"
   ]
  },
  {
   "cell_type": "code",
   "execution_count": null,
   "id": "d56a8386-07ea-49d4-a341-8ef06fae54c8",
   "metadata": {},
   "outputs": [],
   "source": [
    "df_homes_boilers = pd.read_excel(home_boilers_excel_file_path).rename(columns={'pseudonym': 'id'})\n"
   ]
  },
  {
   "cell_type": "code",
   "execution_count": null,
   "id": "84ddc00c-e24f-42aa-88f6-aa357da07ef2",
   "metadata": {},
   "outputs": [],
   "source": [
    "df_homes_boilers"
   ]
  },
  {
   "cell_type": "code",
   "execution_count": null,
   "id": "1f3bbd9e-3c45-4bcd-90eb-50b0e309f036",
   "metadata": {},
   "outputs": [],
   "source": [
    "df_boilers = pd.read_excel(boilers_excel_file_path)[['brand_model',\n",
    "                                                     'parHePowerMin__0.1kW',\n",
    "                                                     'parHePowerMax__0.1kW',\n",
    "                                                     'parHeFanRpmMin.Minimum ', # note the space at the end!\n",
    "                                                     'parHeFanRpmChMax.Maximum',\n",
    "                                                     'efficiency_table_temp_ret_degC_eta_sup_dhw__0'\n",
    "                                                    ]]"
   ]
  },
  {
   "cell_type": "code",
   "execution_count": null,
   "id": "4841829d-f9a7-40ef-89c1-24c781af7990",
   "metadata": {},
   "outputs": [],
   "source": [
    "df_boilers['power_ch_min__kW'] = df_boilers['parHePowerMin__0.1kW'] * 0.1\n",
    "df_boilers = df_boilers.drop(columns=['parHePowerMin__0.1kW'])"
   ]
  },
  {
   "cell_type": "code",
   "execution_count": null,
   "id": "368cbf60-8782-4fd5-8752-f4eea71571c3",
   "metadata": {},
   "outputs": [],
   "source": [
    "df_boilers['power_ch_max__kW'] = df_boilers['parHePowerMax__0.1kW'] * 0.1\n",
    "df_boilers = df_boilers.drop(columns=['parHePowerMax__0.1kW'])"
   ]
  },
  {
   "cell_type": "code",
   "execution_count": null,
   "id": "f03e2b9b-f3ec-4770-aa8e-393a175cf571",
   "metadata": {},
   "outputs": [],
   "source": [
    "df_boilers = df_boilers.rename(columns={'parHeFanRpmMin.Minimum ': 'min_fan_rotations__min_1',\n",
    "                                        'parHeFanRpmChMax.Maximum': 'max_ch_fan_rotations__min_1',\n",
    "                                        'efficiency_table_temp_ret_degC_eta_sup_dhw__0': 'table_eta_ch_hhv__W0'})"
   ]
  },
  {
   "cell_type": "code",
   "execution_count": null,
   "id": "9300ed78-f665-496b-bba2-f4981cdbc219",
   "metadata": {},
   "outputs": [],
   "source": [
    "df_boilers"
   ]
  },
  {
   "cell_type": "markdown",
   "id": "5a4fcfc0-4996-46a0-a431-ea94c2bf1758",
   "metadata": {},
   "source": [
    "## Merge other home data"
   ]
  },
  {
   "cell_type": "code",
   "execution_count": null,
   "id": "014d92a5-0c74-4e0f-9144-d70f9d2078d7",
   "metadata": {},
   "outputs": [],
   "source": [
    "df_homes = pd.merge(df_homes_weather, df_homes_boilers, on='id', how='left')"
   ]
  },
  {
   "cell_type": "code",
   "execution_count": null,
   "id": "79464f71-8ca6-4fa2-a8eb-bc947666d654",
   "metadata": {},
   "outputs": [],
   "source": [
    "df_homes"
   ]
  },
  {
   "cell_type": "code",
   "execution_count": null,
   "id": "10956a78-0395-45d1-8e57-7e40481aae7d",
   "metadata": {},
   "outputs": [],
   "source": [
    "df_homes = pd.merge(df_homes, df_boilers, on='brand_model', how='left')"
   ]
  },
  {
   "cell_type": "code",
   "execution_count": null,
   "id": "63ce94ff-f172-4678-b727-5bcc35b0c877",
   "metadata": {},
   "outputs": [],
   "source": [
    "df_homes.set_index('id', inplace=True)"
   ]
  },
  {
   "cell_type": "code",
   "execution_count": null,
   "id": "f8bb5180-76d8-41cf-adc6-9442dbc874eb",
   "metadata": {},
   "outputs": [],
   "source": [
    "df_homes"
   ]
  },
  {
   "cell_type": "markdown",
   "id": "b997b2b7-0f3e-4afd-b583-c701e56ef620",
   "metadata": {},
   "source": [
    "## Write merged DataFrame to file"
   ]
  },
  {
   "cell_type": "code",
   "execution_count": null,
   "id": "69abb574-fa8c-4cf9-9c3e-fed9b209fd5c",
   "metadata": {},
   "outputs": [],
   "source": [
    "%%time \n",
    "df_homes.to_parquet(home_data_file_path, index=True, engine='pyarrow')"
   ]
  },
  {
   "cell_type": "markdown",
   "id": "3bdec13f-b46a-4dd0-bb2c-ce1852313cd7",
   "metadata": {},
   "source": [
    "# Process boiler efficiency data"
   ]
  },
  {
   "cell_type": "code",
   "execution_count": null,
   "id": "e3ed3fec-8a2b-48cc-bb84-818357244837",
   "metadata": {},
   "outputs": [],
   "source": [
    "boiler_returntemp_load_eta_ch_hhv__W0 = pd.DataFrame()"
   ]
  },
  {
   "cell_type": "code",
   "execution_count": null,
   "id": "ac1f8245-73a9-4a58-a2da-cc5ab4c5c9ff",
   "metadata": {},
   "outputs": [],
   "source": [
    "# Iterate over df_boilers\n",
    "for idx, row in df_boilers.iterrows():\n",
    "    \n",
    "    boiler_model = row['brand_model']\n",
    "    eta_file = row['table_eta_ch_hhv__W0']\n",
    "    \n",
    "    # Read efficiency table\n",
    "    eta_ch_hhv__W0 = pd.read_csv(eta_file, index_col=0)\n",
    "    \n",
    "    # Convert percentage efficiencies to fractions\n",
    "    eta_ch_hhv__W0 = eta_ch_hhv__W0 / 100.0\n",
    "\n",
    "    # reformat DataFrame\n",
    "    eta_ch_hhv__W0 = eta_ch_hhv__W0.stack().to_frame(name='eta_ch_hhv__W0')\n",
    "    \n",
    "    # Ensure 'temp_ret__degC' and 'p_load__kW0' are of type float32\n",
    "    eta_ch_hhv__W0.index = pd.MultiIndex.from_tuples(\n",
    "        [(boiler_model, float(load), float(temp)) for load, temp in eta_ch_hhv__W0.index],\n",
    "        names=['boiler_model', 'p_load__kW0', 'temp_ret__degC', ]\n",
    "    )\n",
    "\n",
    "    boiler_returntemp_load_eta_ch_hhv__W0 = pd.concat([boiler_returntemp_load_eta_ch_hhv__W0, eta_ch_hhv__W0], axis=0)\n"
   ]
  },
  {
   "cell_type": "code",
   "execution_count": null,
   "id": "70656380-fee5-4b1b-8552-3fc58049afac",
   "metadata": {},
   "outputs": [],
   "source": [
    "boiler_returntemp_load_eta_ch_hhv__W0.info()"
   ]
  },
  {
   "cell_type": "code",
   "execution_count": null,
   "id": "273bd13d-dc78-4ba8-81c5-801ef2d3ffd6",
   "metadata": {},
   "outputs": [],
   "source": [
    "boiler_returntemp_load_eta_ch_hhv__W0.index.names"
   ]
  },
  {
   "cell_type": "code",
   "execution_count": null,
   "id": "d2d116c3-d644-4f31-95f5-a17bf9d266e4",
   "metadata": {},
   "outputs": [],
   "source": [
    "boiler_returntemp_load_eta_ch_hhv__W0"
   ]
  },
  {
   "cell_type": "code",
   "execution_count": null,
   "id": "23c3f58d-7e99-47e3-b278-aa618f1082aa",
   "metadata": {},
   "outputs": [],
   "source": [
    "# Filter out rows where eta_ch_hhv__W0 is null\n",
    "df_filtered = boiler_returntemp_load_eta_ch_hhv__W0[boiler_returntemp_load_eta_ch_hhv__W0['eta_ch_hhv__W0'].notnull()].reset_index()"
   ]
  },
  {
   "cell_type": "code",
   "execution_count": null,
   "id": "1812ac88-918e-48af-8516-8f953145fcdd",
   "metadata": {},
   "outputs": [],
   "source": [
    "df_filtered.groupby('boiler_model').agg({\n",
    "    'temp_ret__degC': ['min', 'max'],\n",
    "    'p_load__kW0': ['min', 'max']\n",
    "}).reset_index()"
   ]
  },
  {
   "cell_type": "markdown",
   "id": "b8a112e5-6f57-4537-a2af-80557cd4ab5c",
   "metadata": {},
   "source": [
    "## Write boiler efficiency data per boiler model, return temperature and load"
   ]
  },
  {
   "cell_type": "code",
   "execution_count": null,
   "id": "c686c7bb-1107-4757-b954-d80516da7a62",
   "metadata": {},
   "outputs": [],
   "source": [
    "%%time \n",
    "boiler_returntemp_load_eta_ch_hhv__W0.to_parquet(boiler_returntemp_load_efficiency_file_path, index=True, engine='pyarrow')"
   ]
  },
  {
   "cell_type": "code",
   "execution_count": null,
   "id": "37e00293-19bd-4f73-be3b-7a6a1f26990a",
   "metadata": {},
   "outputs": [],
   "source": [
    "boiler_returntemp_load_eta_ch_hhv__W0.mean()"
   ]
  },
  {
   "cell_type": "markdown",
   "id": "12071a74-0991-4d87-a1e3-daf6d77a4c6a",
   "metadata": {},
   "source": [
    "# Calculate mean efficiency across loads"
   ]
  },
  {
   "cell_type": "code",
   "execution_count": null,
   "id": "4024d534-d044-40ba-a592-e95a89742374",
   "metadata": {},
   "outputs": [],
   "source": [
    "# Group by 'boiler_model' and 'temp_ret__degC' and compute the mean efficiency\n",
    "boiler_returntemp_eta_ch_hhv__W0 = boiler_returntemp_load_eta_ch_hhv__W0.groupby(['boiler_model', 'temp_ret__degC']).mean()\n"
   ]
  },
  {
   "cell_type": "markdown",
   "id": "e4a46d1e-6d54-41e5-826a-09e2f77104b9",
   "metadata": {},
   "source": [
    "## Write boiler efficiency data per boiler model, return temperature and load"
   ]
  },
  {
   "cell_type": "code",
   "execution_count": null,
   "id": "38b86999-517d-4a97-9e60-f1e99062fe90",
   "metadata": {},
   "outputs": [],
   "source": [
    "%%time \n",
    "boiler_returntemp_eta_ch_hhv__W0.to_parquet(boiler_returntemp_efficiency_file_path, index=True, engine='pyarrow')"
   ]
  },
  {
   "cell_type": "code",
   "execution_count": null,
   "id": "cda7085b-8606-4ff8-9bce-429de9832576",
   "metadata": {},
   "outputs": [],
   "source": [
    "boiler_returntemp_eta_ch_hhv__W0.mean()"
   ]
  }
 ],
 "metadata": {
  "kernelspec": {
   "display_name": "Python 3 (ipykernel)",
   "language": "python",
   "name": "python3"
  },
  "language_info": {
   "codemirror_mode": {
    "name": "ipython",
    "version": 3
   },
   "file_extension": ".py",
   "mimetype": "text/x-python",
   "name": "python",
   "nbconvert_exporter": "python",
   "pygments_lexer": "ipython3",
   "version": "3.11.6"
  }
 },
 "nbformat": 4,
 "nbformat_minor": 5
}
