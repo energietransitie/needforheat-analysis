{
 "cells": [
  {
   "cell_type": "markdown",
   "id": "c7a324c5-9e4a-4cc0-aabf-7edbc3f3de12",
   "metadata": {},
   "source": [
    "# Testing plots "
   ]
  },
  {
   "cell_type": "code",
   "execution_count": null,
   "id": "498680d2-8965-46e3-b4ec-2983f8bb0046",
   "metadata": {
    "tags": []
   },
   "outputs": [],
   "source": [
    "import pandas as pd\n",
    "\n",
    "# usually, two decimals suffice for displaying DataFrames (NB internally, precision may be higher)\n",
    "pd.options.display.precision = 2\n",
    "\n",
    "import sys\n",
    "sys.path.append('../data/')\n",
    "sys.path.append('../view/')\n",
    "\n",
    "%load_ext autoreload\n",
    "\n",
    "\n",
    "%matplotlib inline\n",
    "%matplotlib widget\n",
    "\n",
    "from plotter import Plot"
   ]
  },
  {
   "cell_type": "code",
   "execution_count": null,
   "id": "31828cb3-2b91-42dc-ae8f-c0c5efa392e5",
   "metadata": {
    "tags": []
   },
   "outputs": [],
   "source": [
    "%%time\n",
    "# Prerequisite: for this example to work, you need to have the b4b_raw_properties.parquet, located e.g. in the ../data/ folder.\n",
    "# One way to get this is to run B4BExtractionBackup.ipynb first\n",
    "df = pd.read_parquet('../data/b4b_raw_properties.parquet', engine='pyarrow')\n",
    "\n",
    "#sorting the DataFrame index is needed to get good performance on certain filters\n",
    "#this guarding code to check whether DataFramews are properly sorted\n",
    "if not df.index.is_monotonic_increasing:\n",
    "    print('df needed index sorting')\n",
    "    df = df.sort_index()  "
   ]
  },
  {
   "cell_type": "code",
   "execution_count": null,
   "id": "570d8534-13b0-4f24-9dfb-05333fb5a4e5",
   "metadata": {
    "tags": []
   },
   "outputs": [],
   "source": [
    "df"
   ]
  },
  {
   "cell_type": "code",
   "execution_count": null,
   "id": "8ce19251-ff5b-425b-a97b-1b57e5ca0042",
   "metadata": {
    "tags": []
   },
   "outputs": [],
   "source": [
    "df.index.unique(level='id').values"
   ]
  },
  {
   "cell_type": "code",
   "execution_count": null,
   "id": "23ebd827-e2b9-42c4-99e0-9411675ff7bb",
   "metadata": {
    "tags": []
   },
   "outputs": [],
   "source": [
    "df.index.unique(level='source').values"
   ]
  },
  {
   "cell_type": "code",
   "execution_count": null,
   "id": "a9bbeccf-1b0b-4841-9cfb-22235eb1c84d",
   "metadata": {
    "tags": []
   },
   "outputs": [],
   "source": [
    "%autoreload 2\n",
    "units_to_mathtext = property_types = {\n",
    "    'degC' : r'$°C$',\n",
    "    'ppm' : r'$ppm$',\n",
    "    '0' : r'$[-]$',\n",
    "    'bool': r'$0 = False; 1 = True$',\n",
    "    'p' : r'$persons$'\n",
    "}"
   ]
  },
  {
   "cell_type": "code",
   "execution_count": null,
   "id": "4ce9cc70-0188-4598-ae34-34a80d3acb30",
   "metadata": {
    "tags": []
   },
   "outputs": [],
   "source": [
    "%%time\n",
    "#Plot all properties with a single unit for a single id\n",
    "Plot.dataframe_properties_plot(df.loc[[999169]][[prop for prop in df.columns.values if prop.split('__')[-1] == 'ppm']], units_to_mathtext)"
   ]
  },
  {
   "cell_type": "code",
   "execution_count": null,
   "id": "49cc9eee-094a-4595-9c95-6db1564bc37a",
   "metadata": {},
   "outputs": [],
   "source": [
    "%%time\n",
    "#Plot all properties for a single id\n",
    "Plot.dataframe_properties_plot(df.loc[[999169]], units_to_mathtext)"
   ]
  },
  {
   "cell_type": "code",
   "execution_count": null,
   "id": "57c4ce10-d571-45da-b8a3-cb5f4a638336",
   "metadata": {},
   "outputs": [],
   "source": [
    "%%time\n",
    "#Plot all properties for a a list of ids\n",
    "Plot.dataframe_properties_plot(df.loc[[999169, 917810]], units_to_mathtext)"
   ]
  },
  {
   "cell_type": "code",
   "execution_count": null,
   "id": "72206316-b0ef-4050-83b2-24a17138e5c9",
   "metadata": {},
   "outputs": [],
   "source": [
    "%%time\n",
    "#Plot all properties from all sources for all ids\n",
    "Plot.dataframe_properties_plot(df, units_to_mathtext)"
   ]
  },
  {
   "cell_type": "code",
   "execution_count": null,
   "id": "37523f60-65b1-400d-b6c8-4e2f50b8f6a0",
   "metadata": {},
   "outputs": [],
   "source": [
    "#Plot all properties of a single source for all ids \n",
    "Plot.dataframe_properties_plot(df.loc[:,['bms'],:], units_to_mathtext)"
   ]
  },
  {
   "cell_type": "code",
   "execution_count": null,
   "id": "8df25bb8-7e59-44b2-94cf-ef989c7e71c4",
   "metadata": {},
   "outputs": [],
   "source": [
    "#Plot all properties of of a single source for a single id \n",
    "Plot.dataframe_properties_plot(df.loc[[999169],['bms'],:], units_to_mathtext)"
   ]
  },
  {
   "cell_type": "code",
   "execution_count": null,
   "id": "bd6d75e2-7358-450c-bc2d-1ae423684d95",
   "metadata": {},
   "outputs": [],
   "source": [
    "#Plot only specific types of properties for all sources for al ids\n",
    "Plot.dataframe_properties_plot(df[[prop for prop in df.columns.values if prop.split('__')[-1] == 'ppm']], units_to_mathtext)"
   ]
  },
  {
   "cell_type": "code",
   "execution_count": null,
   "id": "06a16398-a9fe-40d4-9a78-d30719669f2a",
   "metadata": {},
   "outputs": [],
   "source": [
    "#Plot specific properties of of a single source for a single id \n",
    "Plot.dataframe_properties_plot(df.loc[[999169],['bms'],:][['occupancy__bool', 'valve_frac__0']], units_to_mathtext)"
   ]
  },
  {
   "cell_type": "code",
   "execution_count": null,
   "id": "243095ff-ade9-42b8-b138-a4c6dab93d11",
   "metadata": {},
   "outputs": [],
   "source": [
    "#Plot specific properties of of a single source for a single id \n",
    "Plot.dataframe_properties_plot(df.loc[[925038],['bms'],:][['co2__ppm']], units_to_mathtext)"
   ]
  },
  {
   "cell_type": "code",
   "execution_count": null,
   "id": "ee6ac67f-2ae0-4dbd-88eb-e2fd529ce767",
   "metadata": {},
   "outputs": [],
   "source": [
    "# plot different histograms, one per id, for a single property from a single source\n",
    "for id in [925038, 924038, 900846]:\n",
    "    df.loc[id, 'bms',:][['co2__ppm']].plot(kind='hist', bins=40, title= id)"
   ]
  },
  {
   "cell_type": "code",
   "execution_count": null,
   "id": "733e9c1f-4cfc-4b07-a659-ef117ea79010",
   "metadata": {},
   "outputs": [],
   "source": [
    "# plot a joint histogram of multiple ids, for a single source and a single property\n",
    "df.loc[[925038, 924038, 900846], ['bms'],:][['co2__ppm']].plot(kind='hist', bins=40, title= id)"
   ]
  },
  {
   "cell_type": "code",
   "execution_count": null,
   "id": "365ec988-5506-4196-9d89-4577f80358c0",
   "metadata": {},
   "outputs": [],
   "source": [
    "for id in [925038, 924038, 900846]:\n",
    "    print(id, df.loc[id, 'bms',:].co2__ppm.describe())"
   ]
  },
  {
   "cell_type": "code",
   "execution_count": null,
   "id": "2d535fe2-f1a4-4528-8530-bbd9fc70a3d4",
   "metadata": {},
   "outputs": [],
   "source": [
    "for id in df.index.levels[0]:\n",
    "    df.loc[id, 'CO2-meter-SCD4x',:][['co2__ppm']].plot(kind='hist', bins=40, title= id)\n"
   ]
  }
 ],
 "metadata": {
  "kernelspec": {
   "display_name": "Python 3 (ipykernel)",
   "language": "python",
   "name": "python3"
  },
  "language_info": {
   "codemirror_mode": {
    "name": "ipython",
    "version": 3
   },
   "file_extension": ".py",
   "mimetype": "text/x-python",
   "name": "python",
   "nbconvert_exporter": "python",
   "pygments_lexer": "ipython3",
   "version": "3.10.6"
  }
 },
 "nbformat": 4,
 "nbformat_minor": 5
}
