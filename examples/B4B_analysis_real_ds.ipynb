{
 "cells": [
  {
   "cell_type": "markdown",
   "id": "02aa6298-301d-4d2f-b59e-7bc2432c67d4",
   "metadata": {},
   "source": [
    "# Brains4Buildings interactive inverse grey-box analysis pipeline\n",
    "\n",
    "This Jupyter Labs notebook can be used to interactively test the Brains4Buildings inverse grey-box analysis pipeline.\n",
    "Don't forget to install the requirements listed in [requirements.txt](../requirements.txt) first!\n",
    "\n"
   ]
  },
  {
   "cell_type": "markdown",
   "id": "40e8f82e-93a6-4156-b4cb-4744c4cc8c13",
   "metadata": {},
   "source": [
    "## Setting the stage\n",
    "\n",
    "First several imports and variables need to be defined\n"
   ]
  },
  {
   "cell_type": "markdown",
   "id": "b276aade-cd93-4e8a-957d-fdc2d3a84336",
   "metadata": {},
   "source": [
    "### Imports and generic settings"
   ]
  },
  {
   "cell_type": "code",
   "execution_count": null,
   "id": "08d2d6ec-cf03-47d6-a505-bf37716c4700",
   "metadata": {},
   "outputs": [],
   "source": [
    "import numpy as np\n",
    "import pandas as pd\n",
    "# import matplotlib.pyplot as plt\n",
    "\n",
    "# usually, two decimals suffice for displaying DataFrames (NB internally, precision may be higher)\n",
    "pd.options.display.precision = 2\n",
    "\n",
    "from tqdm.notebook import tqdm\n",
    "from gekko import GEKKO\n",
    "\n",
    "import sys\n",
    "sys.path.append('../data/')\n",
    "sys.path.append('../view/')\n",
    "sys.path.append('../analysis/')\n",
    "\n",
    "from preprocessor import Preprocessor\n",
    "from inversegreyboxmodel import Learner\n",
    "from plotter import Plot\n",
    "\n",
    "\n",
    "%load_ext autoreload\n",
    "%matplotlib inline\n",
    "%matplotlib widget"
   ]
  },
  {
   "cell_type": "markdown",
   "id": "253f7ef7-13a9-471c-95d4-13a1a6b75328",
   "metadata": {},
   "source": [
    "### Load Measured Data from parquet file"
   ]
  },
  {
   "cell_type": "code",
   "execution_count": null,
   "id": "5c0c0b1e-55f9-44c3-a2c4-04d59da0670c",
   "metadata": {},
   "outputs": [],
   "source": [
    "%%time\n",
    "# Prerequisite: for this example to work, you need to have the b4b_raw_properties.parquet, located in the ../data/ folder.\n",
    "# One way to get this is to run B4BExtractionBackup.ipynb first, but then you have to run this code on the energietransitiewindesheim.nl server\n",
    "\n",
    "df_prop = pd.read_parquet('../data/b4b_raw_properties.parquet', engine='pyarrow')\n",
    "\n",
    "#sorting the DataFrame index is needed to get good performance on certain filters\n",
    "#this guarding code to check whether DataFramews are properly sorted\n",
    "if not df_prop.index.is_monotonic_increasing:\n",
    "    print('df needed index sorting')\n",
    "    df_prop = df_prop.sort_index()  "
   ]
  },
  {
   "cell_type": "code",
   "execution_count": null,
   "id": "9477e2e1-e71b-4609-b608-eb68553523a9",
   "metadata": {
    "tags": []
   },
   "outputs": [],
   "source": [
    "df_prop.index.unique(level='id').values"
   ]
  },
  {
   "cell_type": "code",
   "execution_count": null,
   "id": "a9582c29-b2cd-4778-a264-353575dd3eab",
   "metadata": {
    "tags": []
   },
   "outputs": [],
   "source": [
    "df_prop.index.unique(level='source').values"
   ]
  },
  {
   "cell_type": "code",
   "execution_count": null,
   "id": "bc52260b-dc58-4204-a3d6-95906c11416a",
   "metadata": {},
   "outputs": [],
   "source": [
    "df_prop"
   ]
  },
  {
   "cell_type": "code",
   "execution_count": null,
   "id": "1a3c91f6-659c-4039-98ce-2ba2729b26f1",
   "metadata": {
    "tags": []
   },
   "outputs": [],
   "source": [
    "df_prop.info()"
   ]
  },
  {
   "cell_type": "markdown",
   "id": "de7c96f6-5be3-4cdd-b9ca-df5d4daba67d",
   "metadata": {
    "tags": []
   },
   "source": [
    "## Preprocessing"
   ]
  },
  {
   "cell_type": "markdown",
   "id": "d6e6c2d2-fc8e-4bfe-993d-6064e286c958",
   "metadata": {
    "tags": []
   },
   "source": [
    "### Example: processing temp_in__degC"
   ]
  },
  {
   "cell_type": "code",
   "execution_count": null,
   "id": "35ba4258-5fc2-46fa-b063-7699c1429dfc",
   "metadata": {
    "tags": []
   },
   "outputs": [],
   "source": [
    "#if this plot does not show up at initial run, run the cell again (something fishy with interactive plotting of DataFrame.plot.hist())\n",
    "%matplotlib widget\n",
    "df_prop.temp_in__degC.plot.hist(bins=50, alpha=0.5)"
   ]
  },
  {
   "cell_type": "markdown",
   "id": "d82ad78b-5e31-482f-97c0-6fdb7ec8eb16",
   "metadata": {
    "tags": []
   },
   "source": [
    "### Example: using the min-max filter\n",
    "Filtering out extreme, highly unlikely temperature measurements"
   ]
  },
  {
   "cell_type": "code",
   "execution_count": null,
   "id": "4d48f6ee-4209-43a4-b9fa-a80f3cbbc71a",
   "metadata": {
    "tags": []
   },
   "outputs": [],
   "source": [
    "Preprocessor.filter_min_max(df_prop, 'temp_in__degC', min=5, max=40)"
   ]
  },
  {
   "cell_type": "code",
   "execution_count": null,
   "id": "77f5047b-90fa-4e4a-ad41-c31a03faf572",
   "metadata": {
    "tags": []
   },
   "outputs": [],
   "source": [
    "df_prop.info()"
   ]
  },
  {
   "cell_type": "code",
   "execution_count": null,
   "id": "33bec8af-7f3f-4e24-9219-7b72a7d39fba",
   "metadata": {
    "tags": []
   },
   "outputs": [],
   "source": [
    "df_prop.describe()"
   ]
  },
  {
   "cell_type": "code",
   "execution_count": null,
   "id": "20c1f0fa-f1ea-46fd-8c42-a6009e155f78",
   "metadata": {
    "tags": []
   },
   "outputs": [],
   "source": [
    "#if this plot does not show up at initial run, run the cell again (something fishy with interactive plotting of DataFrame.plot.hist())\n",
    "%matplotlib widget\n",
    "df_prop.temp_in__degC.plot.hist(bins=50, alpha=0.5)"
   ]
  },
  {
   "cell_type": "markdown",
   "id": "716c2d1d-7b65-4d1d-8878-73746f6dd817",
   "metadata": {
    "tags": []
   },
   "source": [
    "### Example: using the static outlier filter, per id\n",
    "Filtering out extreme temperatures based on mean and standard deviation per room"
   ]
  },
  {
   "cell_type": "code",
   "execution_count": null,
   "id": "097cacac-837b-4e00-b15f-fa51ef2a17aa",
   "metadata": {
    "tags": []
   },
   "outputs": [],
   "source": [
    "Preprocessor.filter_static_outliers(df_prop, 'temp_in__degC', n_sigma=3.0, per_id=True)"
   ]
  },
  {
   "cell_type": "code",
   "execution_count": null,
   "id": "820f345b-291e-48c7-8969-ffa284cce30e",
   "metadata": {
    "tags": []
   },
   "outputs": [],
   "source": [
    "#if this plot does not show up at initial run, run the cell again (something fishy with interactive plotting of DataFrame.plot.hist())\n",
    "%matplotlib widget\n",
    "df_prop.temp_in__degC.plot.hist(bins=50, alpha=0.5)"
   ]
  },
  {
   "cell_type": "code",
   "execution_count": null,
   "id": "7caa8f0d-e086-4052-a711-fc8d6b6d296e",
   "metadata": {
    "tags": []
   },
   "outputs": [],
   "source": [
    "df_prop.info()"
   ]
  },
  {
   "cell_type": "code",
   "execution_count": null,
   "id": "197e1063-de3a-4084-9ccb-65beb20ab58e",
   "metadata": {
    "tags": []
   },
   "outputs": [],
   "source": [
    "df_prop.describe()"
   ]
  },
  {
   "cell_type": "markdown",
   "id": "b7d6e660-825e-4dff-ac6d-921ecc103be2",
   "metadata": {
    "tags": []
   },
   "source": [
    "### Interpolating all properties\n"
   ]
  },
  {
   "cell_type": "code",
   "execution_count": null,
   "id": "bfd753e5-1b28-468e-9fa7-a6259bb915e9",
   "metadata": {},
   "outputs": [],
   "source": [
    "%%time \n",
    "%autoreload 2\n",
    "\n",
    "property_types = {\n",
    "    'temp_in__degC' : 'float32',\n",
    "    'co2__ppm' : 'float32',\n",
    "    'rel_humidity__0' : 'float32',\n",
    "    'valve_frac__0' : 'float32',\n",
    "    'door_open__bool': 'Int8',\n",
    "    'window_open__bool': 'Int8',\n",
    "    'occupancy__bool': 'Int8',\n",
    "    'occupancy__p' : 'Int8'\n",
    "}\n",
    "\n",
    "df_interpolated = Preprocessor.interpolate_time(df_prop,\n",
    "                                        property_dict = property_types,\n",
    "                                        upsample__min = 5,\n",
    "                                        interpolate__min = 15,\n",
    "                                        limit__min = 90,\n",
    "                                        inplace=False\n",
    "                                       )"
   ]
  },
  {
   "cell_type": "code",
   "execution_count": null,
   "id": "994c7d64-9b0e-4eed-b132-dae90ef88be6",
   "metadata": {},
   "outputs": [],
   "source": [
    "df_interpolated"
   ]
  },
  {
   "cell_type": "code",
   "execution_count": null,
   "id": "9a7871d8-4659-4e21-8d3f-c91d78cfc038",
   "metadata": {},
   "outputs": [],
   "source": [
    "df_interpolated.info()"
   ]
  },
  {
   "cell_type": "markdown",
   "id": "863395a3-4d56-4187-bcf9-d63d2dbd5182",
   "metadata": {
    "tags": []
   },
   "source": [
    "### Converting raw properties dataframe to preprocessed dataframe\n"
   ]
  },
  {
   "cell_type": "code",
   "execution_count": null,
   "id": "deafa091-7ecd-471d-8bbf-8cc13c231a66",
   "metadata": {
    "tags": []
   },
   "outputs": [],
   "source": [
    "df_prep = Preprocessor.unstack_prop(df_interpolated)"
   ]
  },
  {
   "cell_type": "code",
   "execution_count": null,
   "id": "6b64635d-e142-4dea-b688-b1eca366303d",
   "metadata": {
    "tags": []
   },
   "outputs": [],
   "source": [
    "df_prep"
   ]
  },
  {
   "cell_type": "code",
   "execution_count": null,
   "id": "8c6f947b-932b-44a3-bc2f-8a86f8a20486",
   "metadata": {
    "tags": []
   },
   "outputs": [],
   "source": [
    "df_prep.info()"
   ]
  },
  {
   "cell_type": "markdown",
   "id": "bffda6fb-9c44-481d-a187-66704d4544ac",
   "metadata": {
    "tags": []
   },
   "source": [
    "## Learn parameters using inverse grey-box analysis\n",
    "\n",
    "Most of the heavy lifting is done by the `learn_room_parameters()` function, which again uses the [GEKKO Python](https://machinelearning.byu.edu/) dynamic optimization toolkit."
   ]
  },
  {
   "cell_type": "code",
   "execution_count": null,
   "id": "68bdb548-269d-4845-a657-9bc782a08c0e",
   "metadata": {
    "tags": []
   },
   "outputs": [],
   "source": [
    "%%time \n",
    "%autoreload 2\n",
    "\n",
    "# learn the model parameters for only a subset of the room ids and write results to a dataframe\n",
    "\n",
    "df_results, df_prep = Learner.learn_room_parameters(df_prep.loc[[999169,917810]],\n",
    "                                                    col_co2__ppm = 'bms_co2__ppm', \n",
    "                                                    col_occupancy__p = 'bms_occupancy__bool', \n",
    "                                                    col_valve_frac__0 = 'bms_valve_frac__0',\n",
    "                                                    learn_infilt__m2 = False,\n",
    "                                                    learn_valve_frac__0 = True,\n",
    "                                                    learn_occupancy__p = False,\n",
    "                                                    ev_type=2)"
   ]
  },
  {
   "cell_type": "markdown",
   "id": "5449c5bd-9446-4814-82bb-da2a228bc27b",
   "metadata": {},
   "source": [
    "### Result Visualization"
   ]
  },
  {
   "cell_type": "code",
   "execution_count": null,
   "id": "88306340-8435-4302-acd4-fd3a5a6e0f5f",
   "metadata": {},
   "outputs": [],
   "source": [
    "df_results"
   ]
  },
  {
   "cell_type": "code",
   "execution_count": null,
   "id": "4989f06d-c76e-43c9-9885-544435e8c308",
   "metadata": {},
   "outputs": [],
   "source": [
    "df_prep"
   ]
  },
  {
   "cell_type": "code",
   "execution_count": null,
   "id": "aa218f9d-4ae8-43ab-b88d-6d15a89e614c",
   "metadata": {},
   "outputs": [],
   "source": [
    "%autoreload 2\n",
    "units_to_mathtext = property_types = {\n",
    "    'degC' : r'$°C$',\n",
    "    'ppm' : r'$ppm$',\n",
    "    '0' : r'$[-]$',\n",
    "    'bool': r'$0 = False; 1 = True$',\n",
    "    'p' : r'$persons$'\n",
    "}"
   ]
  },
  {
   "cell_type": "code",
   "execution_count": null,
   "id": "3e186b4b-e2de-45f6-ba53-39105a013a9a",
   "metadata": {
    "tags": []
   },
   "outputs": [],
   "source": [
    "#Plot all properties from all sources for all ids\n",
    "Plot.dataframe_preprocessed_plot(df_prep, units_to_mathtext)"
   ]
  }
 ],
 "metadata": {
  "kernelspec": {
   "display_name": "Python 3 (ipykernel)",
   "language": "python",
   "name": "python3"
  },
  "language_info": {
   "codemirror_mode": {
    "name": "ipython",
    "version": 3
   },
   "file_extension": ".py",
   "mimetype": "text/x-python",
   "name": "python",
   "nbconvert_exporter": "python",
   "pygments_lexer": "ipython3",
   "version": "3.10.6"
  }
 },
 "nbformat": 4,
 "nbformat_minor": 5
}
