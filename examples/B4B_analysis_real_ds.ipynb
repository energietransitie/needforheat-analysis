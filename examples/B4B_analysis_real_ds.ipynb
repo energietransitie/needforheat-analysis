{
 "cells": [
  {
   "cell_type": "markdown",
   "id": "02aa6298-301d-4d2f-b59e-7bc2432c67d4",
   "metadata": {},
   "source": [
    "# Brains4Buildings interactive inverse grey-box analysis pipeline\n",
    "\n",
    "This Jupyter Labs notebook can be used to interactively test the Brains4Buildings inverse grey-box analysis pipeline.\n",
    "Don't forget to install the requirements listed in [requirements.txt](../requirements.txt) first!\n",
    "\n"
   ]
  },
  {
   "cell_type": "markdown",
   "id": "40e8f82e-93a6-4156-b4cb-4744c4cc8c13",
   "metadata": {},
   "source": [
    "## Setting the stage\n",
    "\n",
    "First several imports and variables need to be defined\n"
   ]
  },
  {
   "cell_type": "markdown",
   "id": "b276aade-cd93-4e8a-957d-fdc2d3a84336",
   "metadata": {},
   "source": [
    "### Imports and generic settings"
   ]
  },
  {
   "cell_type": "code",
   "execution_count": null,
   "id": "08d2d6ec-cf03-47d6-a505-bf37716c4700",
   "metadata": {},
   "outputs": [],
   "source": [
    "import numpy as np\n",
    "import pandas as pd\n",
    "from datetime import datetime, timedelta\n",
    "# import matplotlib.pyplot as plt\n",
    "\n",
    "# usually, two decimals suffice for displaying DataFrames (NB internally, precision may be higher)\n",
    "pd.options.display.precision = 2\n",
    "\n",
    "from tqdm.notebook import tqdm\n",
    "from gekko import GEKKO\n",
    "\n",
    "import sys\n",
    "sys.path.append('../data/')\n",
    "sys.path.append('../view/')\n",
    "sys.path.append('../analysis/')\n",
    "\n",
    "from preprocessor import Preprocessor\n",
    "from inversegreyboxmodel import Learner\n",
    "from plotter import Plot\n",
    "\n",
    "\n",
    "%load_ext autoreload\n",
    "%matplotlib inline\n",
    "%matplotlib widget\n",
    "\n",
    "import logging\n",
    "logging.basicConfig(level=logging.ERROR, \n",
    "                    format='%(asctime)s %(levelname)-8s %(message)s',\n",
    "                    datefmt='%Y-%m-%d %H:%M:%S',\n",
    "                    filename='log_b4b.txt',\n",
    "                   )"
   ]
  },
  {
   "cell_type": "markdown",
   "id": "253f7ef7-13a9-471c-95d4-13a1a6b75328",
   "metadata": {},
   "source": [
    "### Load Measured Data from parquet file"
   ]
  },
  {
   "cell_type": "code",
   "execution_count": null,
   "id": "5c0c0b1e-55f9-44c3-a2c4-04d59da0670c",
   "metadata": {},
   "outputs": [],
   "source": [
    "%%time\n",
    "# Prerequisite: for this example to work, you need to have the b4b_raw_properties.parquet, located in the ../data/ folder.\n",
    "# One way to get this is to run B4BExtractionBackup.ipynb first, but then you have to run this code on the energietransitiewindesheim.nl server\n",
    "\n",
    "df_prop = pd.read_parquet('../data/b4b_raw_properties.parquet', engine='pyarrow')\n",
    "\n",
    "#sorting the DataFrame index is needed to get good performance on certain filters\n",
    "#this guarding code to check whether DataFramews are properly sorted\n",
    "if not df_prop.index.is_monotonic_increasing:\n",
    "    print('df needed index sorting')\n",
    "    df_prop = df_prop.sort_index()  "
   ]
  },
  {
   "cell_type": "code",
   "execution_count": null,
   "id": "9477e2e1-e71b-4609-b608-eb68553523a9",
   "metadata": {
    "tags": []
   },
   "outputs": [],
   "source": [
    "df_prop.index.unique(level='id').values"
   ]
  },
  {
   "cell_type": "code",
   "execution_count": null,
   "id": "a9582c29-b2cd-4778-a264-353575dd3eab",
   "metadata": {
    "tags": []
   },
   "outputs": [],
   "source": [
    "df_prop.index.unique(level='source').values"
   ]
  },
  {
   "cell_type": "code",
   "execution_count": null,
   "id": "bc52260b-dc58-4204-a3d6-95906c11416a",
   "metadata": {},
   "outputs": [],
   "source": [
    "df_prop"
   ]
  },
  {
   "cell_type": "code",
   "execution_count": null,
   "id": "1a3c91f6-659c-4039-98ce-2ba2729b26f1",
   "metadata": {
    "tags": []
   },
   "outputs": [],
   "source": [
    "df_prop.info()"
   ]
  },
  {
   "cell_type": "markdown",
   "id": "de7c96f6-5be3-4cdd-b9ca-df5d4daba67d",
   "metadata": {
    "tags": []
   },
   "source": [
    "## Preprocessing"
   ]
  },
  {
   "cell_type": "code",
   "execution_count": null,
   "id": "35ba4258-5fc2-46fa-b063-7699c1429dfc",
   "metadata": {
    "tags": []
   },
   "outputs": [],
   "source": [
    "#if this plot does not show up at initial run, run the cell again (something fishy with interactive plotting of DataFrame.plot.hist())\n",
    "%matplotlib widget\n",
    "df_prop.co2__ppm.plot.hist(bins=200, alpha=0.5)"
   ]
  },
  {
   "cell_type": "code",
   "execution_count": null,
   "id": "4d48f6ee-4209-43a4-b9fa-a80f3cbbc71a",
   "metadata": {
    "tags": []
   },
   "outputs": [],
   "source": [
    "df_prep = Preprocessor.preprocess_room_data(df_prop)"
   ]
  },
  {
   "cell_type": "code",
   "execution_count": null,
   "id": "77f5047b-90fa-4e4a-ad41-c31a03faf572",
   "metadata": {
    "tags": []
   },
   "outputs": [],
   "source": [
    "df_prep.info()"
   ]
  },
  {
   "cell_type": "code",
   "execution_count": null,
   "id": "33bec8af-7f3f-4e24-9219-7b72a7d39fba",
   "metadata": {
    "tags": []
   },
   "outputs": [],
   "source": [
    "df_prep.describe()"
   ]
  },
  {
   "cell_type": "code",
   "execution_count": null,
   "id": "20c1f0fa-f1ea-46fd-8c42-a6009e155f78",
   "metadata": {
    "tags": []
   },
   "outputs": [],
   "source": [
    "#if this plot does not show up at initial run, run the cell again (something fishy with interactive plotting of DataFrame.plot.hist())\n",
    "%matplotlib widget\n",
    "df_prep['CO2-meter-SCD4x_co2__ppm'].plot.hist(bins=200, alpha=0.5)"
   ]
  },
  {
   "cell_type": "markdown",
   "id": "bffda6fb-9c44-481d-a187-66704d4544ac",
   "metadata": {
    "tags": []
   },
   "source": [
    "## Learn parameters using inverse grey-box analysis\n",
    "\n",
    "Most of the heavy lifting is done by the `learn_room_parameters()` function, which again uses the [GEKKO Python](https://machinelearning.byu.edu/) dynamic optimization toolkit."
   ]
  },
  {
   "cell_type": "code",
   "execution_count": null,
   "id": "68bdb548-269d-4845-a657-9bc782a08c0e",
   "metadata": {
    "tags": []
   },
   "outputs": [],
   "source": [
    "%%time \n",
    "%autoreload 2\n",
    "\n",
    "# learn the model parameters for only a subset of the room ids and write results to a dataframe\n",
    "filename = '../data/b4b-room-metadata.zip'\n",
    "df_room_metadata = pd.read_csv(filename, usecols=['id', 'room__m3', 'vent_max__m3_h_1']).set_index(['id'])\n",
    "col_co2__ppm = 'CO2-meter-SCD4x_co2__ppm'\n",
    "# col_co2__ppm = 'bms_co2__ppm'\n",
    "col_occupancy__p = 'CO2-meter-SCD4x_occupancy__p'\n",
    "# col_occupancy__p = 'xovis_occupancy__p'\n",
    "col_valve_frac__0 = 'bms_valve_frac__0'\n",
    "\n",
    "# df_results, df_prep = Learner.learn_room_parameters(df_prep,\n",
    "df_results, df_prep = Learner.learn_room_parameters(df_prep.loc[[925038,999169]],\n",
    "                                                    col_co2__ppm = col_co2__ppm, \n",
    "                                                    col_occupancy__p = col_occupancy__p, \n",
    "                                                    col_valve_frac__0 = col_valve_frac__0,\n",
    "                                                    df_room_metadata = df_room_metadata,\n",
    "                                                    learn_period__d = 7, \n",
    "                                                    req_col = [col_co2__ppm, col_occupancy__p, col_valve_frac__0],\n",
    "                                                    sanity_threshold_timedelta = timedelta(hours=24),\n",
    "                                                    learn_infilt__m2 = True,\n",
    "                                                    learn_valve_frac__0 = True,\n",
    "                                                    learn_occupancy__p = False,\n",
    "                                                    ev_type=2)"
   ]
  },
  {
   "cell_type": "markdown",
   "id": "5449c5bd-9446-4814-82bb-da2a228bc27b",
   "metadata": {},
   "source": [
    "### Result Visualization"
   ]
  },
  {
   "cell_type": "code",
   "execution_count": null,
   "id": "88306340-8435-4302-acd4-fd3a5a6e0f5f",
   "metadata": {},
   "outputs": [],
   "source": [
    "df_results"
   ]
  },
  {
   "cell_type": "code",
   "execution_count": null,
   "id": "4989f06d-c76e-43c9-9885-544435e8c308",
   "metadata": {},
   "outputs": [],
   "source": [
    "df_prep"
   ]
  },
  {
   "cell_type": "code",
   "execution_count": null,
   "id": "aa218f9d-4ae8-43ab-b88d-6d15a89e614c",
   "metadata": {},
   "outputs": [],
   "source": [
    "%autoreload 2\n",
    "units_to_mathtext = property_types = {\n",
    "    'degC' : r'$°C$',\n",
    "    'ppm' : r'$ppm$',\n",
    "    '0' : r'$[-]$',\n",
    "    'bool': r'$0 = False; 1 = True$',\n",
    "    'p' : r'$persons$'\n",
    "}"
   ]
  },
  {
   "cell_type": "code",
   "execution_count": null,
   "id": "717e7486-d3dc-4f47-9a76-159b1dbfdfef",
   "metadata": {
    "tags": []
   },
   "outputs": [],
   "source": [
    "#Plot all properties from all sources for all ids\n",
    "input_props = [col_co2__ppm , col_occupancy__p, col_valve_frac__0]\n",
    "learned_props_frac = input_props + ['sim_co2__ppm', 'learned_valve_frac__0']\n",
    "learned_props_occupancy = input_props + ['sim_co2__ppm', 'learned_occupancy__p']"
   ]
  },
  {
   "cell_type": "code",
   "execution_count": null,
   "id": "43e7ab27-3501-41ce-9fa5-a440c29b3aae",
   "metadata": {
    "tags": []
   },
   "outputs": [],
   "source": [
    "df_plot = df_prep[learned_props_frac]"
   ]
  },
  {
   "cell_type": "code",
   "execution_count": null,
   "id": "e739166e-7a45-4a5b-8bd2-e4c91bece8a6",
   "metadata": {
    "tags": []
   },
   "outputs": [],
   "source": [
    "df_plot"
   ]
  },
  {
   "cell_type": "code",
   "execution_count": null,
   "id": "b5ed9bcf-fce1-40c7-a94f-9fddfefb4567",
   "metadata": {
    "tags": []
   },
   "outputs": [],
   "source": [
    "Plot.dataframe_preprocessed_plot(df_plot, units_to_mathtext)"
   ]
  }
 ],
 "metadata": {
  "kernelspec": {
   "display_name": "Python 3 (ipykernel)",
   "language": "python",
   "name": "python3"
  },
  "language_info": {
   "codemirror_mode": {
    "name": "ipython",
    "version": 3
   },
   "file_extension": ".py",
   "mimetype": "text/x-python",
   "name": "python",
   "nbconvert_exporter": "python",
   "pygments_lexer": "ipython3",
   "version": "3.10.9"
  }
 },
 "nbformat": 4,
 "nbformat_minor": 5
}
