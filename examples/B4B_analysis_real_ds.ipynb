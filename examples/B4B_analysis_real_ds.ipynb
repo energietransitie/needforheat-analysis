{
 "cells": [
  {
   "cell_type": "markdown",
   "id": "f01a0e61",
   "metadata": {},
   "source": [
    "# Brains4Buildings interactive inverse grey-box analysis pipeline\n",
    "\n",
    "This Jupyter Labs notebook can be used to interactively test the Brains4Buildings inverse grey-box analysis pipeline.\n",
    "Don't forget to install the requirements listed in [requirements.txt](../requirements.txt) first!\n",
    "\n",
    "This file be downloaded from the [twomes-dataset-windesheim-brains4buildings2022 repository](https://edu.nl/cvwtj):\n",
    "- `raw_properties/b4b_raw_properties.parquet`; \n",
    "- `metadata/b4b-room-metadata.zip`"
   ]
  },
  {
   "cell_type": "markdown",
   "id": "0451261a",
   "metadata": {},
   "source": [
    "## Setting the stage\n",
    "\n",
    "First several imports and variables need to be defined\n"
   ]
  },
  {
   "cell_type": "markdown",
   "id": "63467387",
   "metadata": {},
   "source": [
    "### Imports and generic settings"
   ]
  },
  {
   "cell_type": "code",
   "execution_count": null,
   "id": "55c668ca",
   "metadata": {
    "tags": []
   },
   "outputs": [],
   "source": [
    "import numpy as np\n",
    "import pandas as pd\n",
    "from datetime import datetime, timedelta\n",
    "\n",
    "# usually, two decimals suffice for displaying DataFrames (NB internally, precision may be higher)\n",
    "pd.options.display.precision = 2\n",
    "\n",
    "from tqdm.notebook import tqdm\n",
    "from gekko import GEKKO\n",
    "\n",
    "import sys\n",
    "sys.path.append('../data/')\n",
    "sys.path.append('../view/')\n",
    "sys.path.append('../analysis/')\n",
    "\n",
    "base_url = 'https://github.com/energietransitie/twomes-dataset-windesheim-brains4buildings2022/raw/main/'\n",
    "\n",
    "#location: Google Maps location of Hogeschool Windesheim in Zwolle\n",
    "lat, lon = 52.499255, 6.0765167\n",
    "timezone_ids = 'Europe/Amsterdam'\n",
    "\n",
    "from preprocessor import Preprocessor\n",
    "from inversegreyboxmodel import Learner\n",
    "from plotter import Plot\n",
    "\n",
    "%load_ext autoreload\n",
    "%matplotlib inline\n",
    "%matplotlib widget\n",
    "\n",
    "import logging\n",
    "logging.basicConfig(level=logging.ERROR, \n",
    "                    format='%(asctime)s %(levelname)-8s %(message)s',\n",
    "                    datefmt='%Y-%m-%d %H:%M:%S',\n",
    "                    filename='log_b4b.txt',\n",
    "                   )"
   ]
  },
  {
   "cell_type": "markdown",
   "id": "834687fd",
   "metadata": {},
   "source": [
    "### Load Measured Data from parquet file"
   ]
  },
  {
   "cell_type": "code",
   "execution_count": null,
   "id": "015b27b0",
   "metadata": {
    "tags": []
   },
   "outputs": [],
   "source": [
    "%%time\n",
    "# Prerequisite: for this example to work, you need to have the b4b_raw_properties.parquet, located in the ../data/ folder.\n",
    "# One way to get this is to run B4BExtractionBackup.ipynb first, but then you have to run this code on the energietransitiewindesheim.nl server\n",
    "\n",
    "file_prop = 'raw_properties/b4b_raw_properties.parquet'\n",
    "df_prop = pd.read_parquet(base_url + file_prop, engine='pyarrow')\n",
    "\n",
    "# df_prop = pd.read_parquet('https://github.com/energietransitie/twomes-dataset-windesheim-brains4buildings2022/raw/main/raw_properties/b4b_raw_properties.parquet',\n",
    "#                           engine='pyarrow')\n",
    "\n",
    "#sorting the DataFrame index is needed to get good performance on certain filters\n",
    "#this guarding code to check whether DataFramews are properly sorted\n",
    "if not df_prop.index.is_monotonic_increasing:\n",
    "    print('df needed index sorting')\n",
    "    df_prop = df_prop.sort_index()  "
   ]
  },
  {
   "cell_type": "code",
   "execution_count": null,
   "id": "5995f557",
   "metadata": {
    "tags": []
   },
   "outputs": [],
   "source": [
    "df_prop.index.unique(level='id').values"
   ]
  },
  {
   "cell_type": "code",
   "execution_count": null,
   "id": "4f87f865",
   "metadata": {
    "tags": []
   },
   "outputs": [],
   "source": [
    "df_prop.index.unique(level='source').values"
   ]
  },
  {
   "cell_type": "code",
   "execution_count": null,
   "id": "eabe731e",
   "metadata": {
    "tags": []
   },
   "outputs": [],
   "source": [
    "df_prop"
   ]
  },
  {
   "cell_type": "code",
   "execution_count": null,
   "id": "e785cbdb",
   "metadata": {
    "tags": []
   },
   "outputs": [],
   "source": [
    "df_prop.info()"
   ]
  },
  {
   "cell_type": "markdown",
   "id": "67575fe8",
   "metadata": {
    "tags": []
   },
   "source": [
    "## Preprocessing including merging weather data"
   ]
  },
  {
   "cell_type": "code",
   "execution_count": null,
   "id": "78b320d6",
   "metadata": {
    "tags": []
   },
   "outputs": [],
   "source": [
    "df_prep = Preprocessor.preprocess_room_data(df_prop, lat, lon, timezone_ids)"
   ]
  },
  {
   "cell_type": "code",
   "execution_count": null,
   "id": "2b0ae623-15c8-40a6-b6df-f89032ef09da",
   "metadata": {
    "tags": []
   },
   "outputs": [],
   "source": [
    "df_prep.index.unique(level='id').values"
   ]
  },
  {
   "cell_type": "code",
   "execution_count": null,
   "id": "8e2d4ff7",
   "metadata": {
    "tags": []
   },
   "outputs": [],
   "source": [
    "df_prep.info()"
   ]
  },
  {
   "cell_type": "code",
   "execution_count": null,
   "id": "bc0164f5",
   "metadata": {
    "tags": []
   },
   "outputs": [],
   "source": [
    "df_prep.describe()"
   ]
  },
  {
   "cell_type": "code",
   "execution_count": null,
   "id": "0e0c54de-1b81-41b7-8bad-0cfe515d4f9b",
   "metadata": {
    "tags": []
   },
   "outputs": [],
   "source": [
    "df_prep"
   ]
  },
  {
   "cell_type": "code",
   "execution_count": null,
   "id": "349ae494",
   "metadata": {
    "tags": []
   },
   "outputs": [],
   "source": [
    "%autoreload 2\n",
    "units_to_mathtext = property_types = {\n",
    "    'degC' : r'$°C$',\n",
    "    'ppm' : r'$ppm$',\n",
    "    '0' : r'$[-]$',\n",
    "    'bool': r'$0 = False; 1 = True$',\n",
    "    'p' : r'$persons$',\n",
    "    'm_s_1': r'$m/s$',\n",
    "    'W_m_2' : r'$W/m^2$'\n",
    "}"
   ]
  },
  {
   "cell_type": "code",
   "execution_count": null,
   "id": "80d50946",
   "metadata": {
    "tags": []
   },
   "outputs": [],
   "source": [
    "# visualize input data\n",
    "df_plot = df_prep"
   ]
  },
  {
   "cell_type": "code",
   "execution_count": null,
   "id": "9252f925",
   "metadata": {
    "tags": []
   },
   "outputs": [],
   "source": [
    "df_plot.info()"
   ]
  },
  {
   "cell_type": "code",
   "execution_count": null,
   "id": "aa60ca02",
   "metadata": {
    "tags": []
   },
   "outputs": [],
   "source": [
    "#Plot all properties from all sources for all ids\n",
    "Plot.dataframe_preprocessed_plot(df_plot, units_to_mathtext)"
   ]
  },
  {
   "cell_type": "markdown",
   "id": "6eb76cb8",
   "metadata": {
    "tags": []
   },
   "source": [
    "## Learn parameters using inverse grey-box analysis\n",
    "\n",
    "Most of the heavy lifting is done by the `learn_room_parameters()` function, which again uses the [GEKKO Python](https://machinelearning.byu.edu/) dynamic optimization toolkit."
   ]
  },
  {
   "cell_type": "code",
   "execution_count": null,
   "id": "3c96e786",
   "metadata": {
    "tags": []
   },
   "outputs": [],
   "source": [
    "%%time \n",
    "%autoreload 2\n",
    "\n",
    "# learn the model parameters for only a subset of the room ids and write results to a dataframe\n",
    "\n",
    "# read room metadata\n",
    "\n",
    "file_metadata = 'metadata/b4b-room-metadata.zip'\n",
    "df_room_metadata = pd.read_csv(base_url + file_metadata, usecols=['id', 'room__m3', 'vent_max__m3_h_1']).set_index(['id'])\n",
    "\n",
    "# filename = '../data/b4b-room-metadata.zip'\n",
    "# df_room_metadata = pd.read_csv(filename, usecols=['id', 'room__m3', 'vent_max__m3_h_1']).set_index(['id'])\n",
    "\n",
    "hints = {\n",
    "    'A_inf__m2' : (10 / 1e4) # 10 [cm^2] \n",
    "}\n",
    "    \n",
    "#select whether to learn a time-varying parameters as well (NB you can set 0 or 1 of these to true, both not both\n",
    "learn = [\n",
    "    'A_inf__m2',\n",
    "    'valve_frac__0',\n",
    "    # 'occupancy__p',\n",
    "]\n",
    "\n",
    "#select column names\n",
    "property_sources = {\n",
    "    'co2__ppm' : 'CO2-meter-SCD4x_co2__ppm',           # options: ['bms_co2__ppm', 'CO2-meter-SCD4x_co2__ppm']\n",
    "    'occupancy__p': 'CO2-meter-SCD4x_occupancy__p',    # options: ['CO2-meter-SCD4x_occupancy__p', 'xovis_occupancy__p']\n",
    "    'valve_frac__0': 'bms_valve_frac__0'\n",
    "}\n",
    "\n",
    "df_results_per_period, df_results = Learner.learn_room_parameters(df_prep,\n",
    "                                                                  property_sources = property_sources, \n",
    "                                                                  df_metadata = df_room_metadata,\n",
    "                                                                  hints = hints,\n",
    "                                                                  learn = learn,\n",
    "                                                                  learn_period__d = 3, \n",
    "                                                                  learn_change_interval__min = 30,\n",
    "                                                                  ev_type=2\n",
    "                                                                 )\n"
   ]
  },
  {
   "cell_type": "markdown",
   "id": "1de45081",
   "metadata": {},
   "source": [
    "### Result per learning period"
   ]
  },
  {
   "cell_type": "code",
   "execution_count": null,
   "id": "192a67b9",
   "metadata": {
    "tags": []
   },
   "outputs": [],
   "source": [
    "#write df_results_per_period to zipped CSV file for analysis in other programs\n",
    "if any(df_results.columns.str.startswith('model_')): \n",
    "    roomtype='virtual'\n",
    "else:\n",
    "    roomtype='real'\n",
    "    \n",
    "if (('valve_frac__0' in learn) or ('occupancy__p'in learn)):\n",
    "    if 'valve_frac__0' in learn:\n",
    "        resulttype = 'valve_frac__0'\n",
    "    else:\n",
    "        resulttype = 'occupancy__p'\n",
    "else:\n",
    "    resulttype= 'A_inf__m2'\n",
    "\n",
    "df_results_per_period.to_csv(f'results_{resulttype}_per_period_{roomtype}_rooms.zip',\n",
    "                             encoding='utf-8',\n",
    "                             compression= dict(method='zip',\n",
    "                                               archive_name=f'results_{resulttype}_per_period_{roomtype}_rooms.csv'),\n",
    "                             date_format='%Y-%m-%dT%H:%M:%S%z')"
   ]
  },
  {
   "cell_type": "code",
   "execution_count": null,
   "id": "0ee36bbb",
   "metadata": {
    "tags": []
   },
   "outputs": [],
   "source": [
    "df_results_per_period"
   ]
  },
  {
   "cell_type": "code",
   "execution_count": null,
   "id": "921f2cb9",
   "metadata": {
    "tags": []
   },
   "outputs": [],
   "source": [
    "# box plot for 'learned_A_inf__cm2' per room \n",
    "\n",
    "Plot.learned_parameters_boxplot_b4b(df_results_per_period, parameter='learned_A_inf__cm2')"
   ]
  },
  {
   "cell_type": "code",
   "execution_count": null,
   "id": "f5676c2b",
   "metadata": {
    "tags": []
   },
   "outputs": [],
   "source": [
    "# show essential statistics for the learned values\n",
    "df_stats = df_results_per_period.describe().filter(regex='^actual_|^learned_')\n",
    "df_stats.loc[df_stats.index.get_level_values(0).isin(['mean', 'std', 'min', 'max'])]"
   ]
  },
  {
   "cell_type": "code",
   "execution_count": null,
   "id": "e2ddf2d8",
   "metadata": {
    "tags": []
   },
   "outputs": [],
   "source": [
    "# show essential statistics for the errors\n",
    "df_stats = df_results_per_period.describe().filter(regex='^mae_|^rmse')\n",
    "df_stats.loc[df_stats.index.get_level_values(0).isin(['mean', 'std', 'min', 'max'])]"
   ]
  },
  {
   "cell_type": "code",
   "execution_count": null,
   "id": "f452258d",
   "metadata": {
    "tags": []
   },
   "outputs": [],
   "source": [
    "# show essential statistics for the error values, per id\n",
    "df_stats = df_results_per_period.groupby('id').describe().stack().filter(regex='^mae_|^rmse')\n",
    "df_stats.loc[df_stats.index.get_level_values(1).isin(['mean', 'std', 'min', 'max'])]"
   ]
  },
  {
   "cell_type": "markdown",
   "id": "b19801d9",
   "metadata": {},
   "source": [
    "### Result Visualization"
   ]
  },
  {
   "cell_type": "code",
   "execution_count": null,
   "id": "217ffae9",
   "metadata": {
    "tags": []
   },
   "outputs": [],
   "source": [
    "#Plot all properties from all sources for all ids\n",
    "input_props = list(property_sources.values())\n",
    "learned_props = input_props + ['sim_co2__ppm']\n",
    "learned_props_frac = input_props + ['sim_co2__ppm', 'learned_valve_frac__0']\n",
    "learned_props_occupancy = input_props + ['sim_co2__ppm', 'learned_occupancy__p']"
   ]
  },
  {
   "cell_type": "code",
   "execution_count": null,
   "id": "baa2a5c0",
   "metadata": {
    "tags": []
   },
   "outputs": [],
   "source": [
    "df_results"
   ]
  },
  {
   "cell_type": "code",
   "execution_count": null,
   "id": "de85f49b",
   "metadata": {
    "tags": []
   },
   "outputs": [],
   "source": [
    "# Scatter plot of two features (for example sim_co2__ppm vs learned_valve_frac__0)\n",
    "\n",
    "Plot.learned_parameters_scatterplot(df=df_results, parameters=['sim_co2__ppm', 'bms_valve_frac__0'])"
   ]
  },
  {
   "cell_type": "code",
   "execution_count": null,
   "id": "ff37645e",
   "metadata": {
    "tags": []
   },
   "outputs": [],
   "source": [
    "# select properties to visualise\n",
    "if (('valve_frac__0' in learn) or ('occupancy__p'in learn)):\n",
    "    if 'valve_frac__0' in learn:\n",
    "        props = learned_props_frac\n",
    "    else:\n",
    "        props = learned_props_occupancy\n",
    "else:\n",
    "    props = learned_props\n",
    "        \n",
    "# df_plot = df_prep[props]\n",
    "\n",
    "df_plot = df_results[props]"
   ]
  },
  {
   "cell_type": "code",
   "execution_count": null,
   "id": "78f373a8",
   "metadata": {
    "tags": []
   },
   "outputs": [],
   "source": [
    "Plot.dataframe_preprocessed_plot(df_plot, units_to_mathtext)"
   ]
  },
  {
   "cell_type": "code",
   "execution_count": null,
   "id": "7fb046ea",
   "metadata": {
    "tags": []
   },
   "outputs": [],
   "source": [
    "df_plot"
   ]
  },
  {
   "cell_type": "code",
   "execution_count": null,
   "id": "fc5072cc",
   "metadata": {
    "tags": []
   },
   "outputs": [],
   "source": [
    "df_plot.info()"
   ]
  }
 ],
 "metadata": {
  "kernelspec": {
   "display_name": "Python 3 (ipykernel)",
   "language": "python",
   "name": "python3"
  },
  "language_info": {
   "codemirror_mode": {
    "name": "ipython",
    "version": 3
   },
   "file_extension": ".py",
   "mimetype": "text/x-python",
   "name": "python",
   "nbconvert_exporter": "python",
   "pygments_lexer": "ipython3",
   "version": "3.10.6"
  },
  "vscode": {
   "interpreter": {
    "hash": "2b52c2ff5431c21ddbe91dac57ae43ca32d3900acacc91a5c2a32f1a3c11d7aa"
   }
  }
 },
 "nbformat": 4,
 "nbformat_minor": 5
}
