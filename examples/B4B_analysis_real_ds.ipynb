{
 "cells": [
  {
   "cell_type": "markdown",
   "id": "f01a0e61",
   "metadata": {},
   "source": [
    "# Brains4Buildings interactive inverse grey-box analysis pipeline\n",
    "\n",
    "This Jupyter Labs notebook can be used to interactively test the Brains4Buildings inverse grey-box analysis pipeline.\n",
    "Don't forget to install the requirements listed in [requirements.txt](../requirements.txt) first!\n",
    "\n",
    "This file be downloaded from the [twomes-dataset-windesheim-brains4buildings2022 repository](https://edu.nl/cvwtj):\n",
    "- `raw_properties/b4b_raw_properties.parquet`; \n",
    "- `metadata/b4b-room-metadata.zip`"
   ]
  },
  {
   "cell_type": "markdown",
   "id": "0451261a",
   "metadata": {},
   "source": [
    "## Setting the stage\n",
    "\n",
    "First several imports and variables need to be defined\n"
   ]
  },
  {
   "cell_type": "markdown",
   "id": "63467387",
   "metadata": {},
   "source": [
    "### Imports and generic settings"
   ]
  },
  {
   "cell_type": "code",
   "execution_count": null,
   "id": "55c668ca",
   "metadata": {
    "tags": []
   },
   "outputs": [],
   "source": [
    "import numpy as np\n",
    "import pandas as pd\n",
    "from datetime import datetime, timedelta\n",
    "\n",
    "# usually, two decimals suffice for displaying DataFrames (NB internally, precision may be higher)\n",
    "pd.options.display.precision = 2\n",
    "\n",
    "from tqdm.notebook import tqdm\n",
    "from gekko import GEKKO\n",
    "\n",
    "import sys\n",
    "sys.path.append('../data/')\n",
    "sys.path.append('../view/')\n",
    "sys.path.append('../analysis/')\n",
    "\n",
    "base_url = 'https://github.com/energietransitie/twomes-dataset-windesheim-brains4buildings2022/raw/main/'\n",
    "\n",
    "#location: Google Maps location of Hogeschool Windesheim in Zwolle\n",
    "lat, lon = 52.499255, 6.0765167\n",
    "timezone_ids = 'Europe/Amsterdam'\n",
    "\n",
    "from preprocessor import Preprocessor\n",
    "from inversegreyboxmodel import Learner\n",
    "from plotter import Plot\n",
    "\n",
    "%load_ext autoreload\n",
    "%matplotlib inline\n",
    "%matplotlib widget\n",
    "\n",
    "import logging\n",
    "logging.basicConfig(level=logging.ERROR, \n",
    "                    format='%(asctime)s %(levelname)-8s %(message)s',\n",
    "                    datefmt='%Y-%m-%d %H:%M:%S',\n",
    "                    filename='log_b4b.txt',\n",
    "                   )"
   ]
  },
  {
   "cell_type": "markdown",
   "id": "834687fd",
   "metadata": {},
   "source": [
    "### Load Measured Data from parquet file"
   ]
  },
  {
   "cell_type": "code",
   "execution_count": null,
   "id": "015b27b0",
   "metadata": {
    "tags": []
   },
   "outputs": [],
   "source": [
    "%%time\n",
    "# Prerequisite: for this example to work, you need to have the b4b_raw_properties.parquet, located in the ../data/ folder.\n",
    "# One way to get this is to run B4BExtractionBackup.ipynb first, but then you have to run this code on the energietransitiewindesheim.nl server\n",
    "\n",
    "file_prop = 'raw_properties/b4b_raw_properties.parquet'\n",
    "df_prop = pd.read_parquet(base_url + file_prop, engine='pyarrow')\n",
    "\n",
    "# df_prop = pd.read_parquet('https://github.com/energietransitie/twomes-dataset-windesheim-brains4buildings2022/raw/main/raw_properties/b4b_raw_properties.parquet',\n",
    "#                           engine='pyarrow')\n",
    "\n",
    "#sorting the DataFrame index is needed to get good performance on certain filters\n",
    "#this guarding code to check whether DataFramews are properly sorted\n",
    "if not df_prop.index.is_monotonic_increasing:\n",
    "    print('df needed index sorting')\n",
    "    df_prop = df_prop.sort_index()  "
   ]
  },
  {
   "cell_type": "code",
   "execution_count": null,
   "id": "5995f557",
   "metadata": {
    "tags": []
   },
   "outputs": [],
   "source": [
    "df_prop.index.unique(level='id').values"
   ]
  },
  {
   "cell_type": "code",
   "execution_count": null,
   "id": "4f87f865",
   "metadata": {
    "tags": []
   },
   "outputs": [],
   "source": [
    "df_prop.index.unique(level='source').values"
   ]
  },
  {
   "cell_type": "code",
   "execution_count": null,
   "id": "eabe731e",
   "metadata": {
    "tags": []
   },
   "outputs": [],
   "source": [
    "df_prop"
   ]
  },
  {
   "cell_type": "code",
   "execution_count": null,
   "id": "e785cbdb",
   "metadata": {
    "tags": []
   },
   "outputs": [],
   "source": [
    "df_prop.info()"
   ]
  },
  {
   "cell_type": "markdown",
   "id": "67575fe8",
   "metadata": {
    "tags": []
   },
   "source": [
    "## Preprocessing including merging weather data"
   ]
  },
  {
   "cell_type": "code",
   "execution_count": null,
   "id": "78b320d6",
   "metadata": {
    "tags": []
   },
   "outputs": [],
   "source": [
    "df_prep = Preprocessor.preprocess_room_data(df_prop, lat, lon, timezone_ids)"
   ]
  },
  {
   "cell_type": "code",
   "execution_count": null,
   "id": "2b0ae623-15c8-40a6-b6df-f89032ef09da",
   "metadata": {
    "tags": []
   },
   "outputs": [],
   "source": [
    "df_prep.index.unique(level='id').values"
   ]
  },
  {
   "cell_type": "code",
   "execution_count": null,
   "id": "8e2d4ff7",
   "metadata": {
    "tags": []
   },
   "outputs": [],
   "source": [
    "df_prep.info()"
   ]
  },
  {
   "cell_type": "code",
   "execution_count": null,
   "id": "bc0164f5",
   "metadata": {
    "tags": []
   },
   "outputs": [],
   "source": [
    "df_prep.describe()"
   ]
  },
  {
   "cell_type": "code",
   "execution_count": null,
   "id": "0e0c54de-1b81-41b7-8bad-0cfe515d4f9b",
   "metadata": {
    "tags": []
   },
   "outputs": [],
   "source": [
    "df_prep"
   ]
  },
  {
   "cell_type": "code",
   "execution_count": null,
   "id": "349ae494",
   "metadata": {
    "tags": []
   },
   "outputs": [],
   "source": [
    "%autoreload 2\n",
    "units_to_mathtext = property_types = {\n",
    "    'degC' : r'$°C$',\n",
    "    'ppm' : r'$ppm$',\n",
    "    '0' : r'$[-]$',\n",
    "    'bool': r'$0 = False; 1 = True$',\n",
    "    'p' : r'$persons$',\n",
    "    'm_s_1': r'$m/s$',\n",
    "    'W_m_2' : r'$W/m^2$'\n",
    "}"
   ]
  },
  {
   "cell_type": "code",
   "execution_count": null,
   "id": "80d50946",
   "metadata": {
    "tags": []
   },
   "outputs": [],
   "source": [
    "# visualize input data\n",
    "df_plot = df_prep"
   ]
  },
  {
   "cell_type": "code",
   "execution_count": null,
   "id": "9252f925",
   "metadata": {
    "tags": []
   },
   "outputs": [],
   "source": [
    "df_plot.info()"
   ]
  },
  {
   "cell_type": "code",
   "execution_count": null,
   "id": "aa60ca02",
   "metadata": {
    "tags": []
   },
   "outputs": [],
   "source": [
    "#Plot all properties from all sources for all ids\n",
    "Plot.dataframe_preprocessed_plot(df_plot, units_to_mathtext)"
   ]
  },
  {
   "cell_type": "markdown",
   "id": "6eb76cb8",
   "metadata": {
    "tags": []
   },
   "source": [
    "## Learn parameters using inverse grey-box analysis\n",
    "\n",
    "Most of the heavy lifting is done by the `learn_room_parameters()` function, which again uses the [GEKKO Python](https://machinelearning.byu.edu/) dynamic optimization toolkit."
   ]
  },
  {
   "cell_type": "code",
   "execution_count": null,
   "id": "3c96e786",
   "metadata": {
    "tags": []
   },
   "outputs": [],
   "source": [
    "%%time \n",
    "%autoreload 2\n",
    "\n",
    "# learn the model parameters for only a subset of the room ids and write results to a dataframe\n",
    "\n",
    "# read room metadata\n",
    "\n",
    "file_metadata = 'metadata/b4b-room-metadata.zip'\n",
    "df_room_metadata = pd.read_csv(base_url + file_metadata, usecols=['id', 'room__m3', 'vent_max__m3_h_1']).set_index(['id'])\n",
    "\n",
    "# filename = '../data/b4b-room-metadata.zip'\n",
    "# df_room_metadata = pd.read_csv(filename, usecols=['id', 'room__m3', 'vent_max__m3_h_1']).set_index(['id'])\n",
    "\n",
    "hints = {\n",
    "    'A_inf__m2' : (10 / 1e4) # 10 [cm^2] \n",
    "}\n",
    "    \n",
    "#select whether to learn a time-varying parameters as well (NB you can set 0 or 1 of these to true, both not both\n",
    "learn = [\n",
    "    'A_inf__m2',\n",
    "    'valve_frac__0',\n",
    "    # 'occupancy__p',\n",
    "]\n",
    "\n",
    "#select column names\n",
    "property_sources = {\n",
    "    'co2__ppm' : 'CO2-meter-SCD4x_co2__ppm',           # options: ['bms_co2__ppm', 'CO2-meter-SCD4x_co2__ppm']\n",
    "    'occupancy__p': 'CO2-meter-SCD4x_occupancy__p',    # options: ['CO2-meter-SCD4x_occupancy__p', 'xovis_occupancy__p']\n",
    "    'valve_frac__0': 'bms_valve_frac__0'\n",
    "}\n",
    "\n",
    "df_results_per_period, df_results = Learner.learn_room_parameters(df_prep,\n",
    "                                                                  property_sources = property_sources, \n",
    "                                                                  df_metadata = df_room_metadata,\n",
    "                                                                  hints = hints,\n",
    "                                                                  learn = learn,\n",
    "                                                                  learn_period__d = 3, \n",
    "                                                                  learn_change_interval__min = 30,\n",
    "                                                                  co2_min_margin__ppm = 1,\n",
    "                                                                  ev_type=2\n",
    "                                                                 )\n"
   ]
  },
  {
   "cell_type": "markdown",
   "id": "1de45081",
   "metadata": {},
   "source": [
    "### Result per learning period "
   ]
  },
  {
   "cell_type": "code",
   "execution_count": null,
   "id": "192a67b9",
   "metadata": {
    "tags": []
   },
   "outputs": [],
   "source": [
    "#write df_results_per_period to zipped CSV file for analysis in other programs\n",
    "if any(df_results.columns.str.startswith('model_')): \n",
    "    roomtype='virtual'\n",
    "else:\n",
    "    roomtype='real'\n",
    "    \n",
    "if (('valve_frac__0' in learn) or ('occupancy__p'in learn)):\n",
    "    if 'valve_frac__0' in learn:\n",
    "        resulttype = 'valve_frac__0'\n",
    "    else:\n",
    "        resulttype = 'occupancy__p'\n",
    "else:\n",
    "    resulttype= 'A_inf__m2'\n",
    "\n",
    "df_results_per_period.to_csv(f'results_{resulttype}_per_period_{roomtype}_rooms.zip',\n",
    "                             encoding='utf-8',\n",
    "                             compression= dict(method='zip',\n",
    "                                               archive_name=f'results_{resulttype}_per_period_{roomtype}_rooms.csv'),\n",
    "                             date_format='%Y-%m-%dT%H:%M:%S%z')"
   ]
  },
  {
   "cell_type": "code",
   "execution_count": null,
   "id": "0ee36bbb",
   "metadata": {
    "tags": []
   },
   "outputs": [],
   "source": [
    "df_results_per_period"
   ]
  },
  {
   "cell_type": "code",
   "execution_count": null,
   "id": "921f2cb9",
   "metadata": {
    "tags": []
   },
   "outputs": [],
   "source": [
    "# box plot for 'learned_A_inf__cm2' per room \n",
    "\n",
    "Plot.learned_parameters_boxplot_b4b(df_results_per_period, parameter='learned_A_inf__cm2')"
   ]
  },
  {
   "cell_type": "code",
   "execution_count": null,
   "id": "f5676c2b",
   "metadata": {
    "tags": []
   },
   "outputs": [],
   "source": [
    "# show essential statistics for the learned values\n",
    "df_stats = df_results_per_period.describe().filter(regex='^actual_|^learned_')\n",
    "df_stats.loc[df_stats.index.get_level_values(0).isin(['mean', 'std', 'min', 'max'])]"
   ]
  },
  {
   "cell_type": "code",
   "execution_count": null,
   "id": "e2ddf2d8",
   "metadata": {
    "tags": []
   },
   "outputs": [],
   "source": [
    "# show essential statistics for the errors\n",
    "df_stats = df_results_per_period.describe().filter(regex='^mae_|^rmse')\n",
    "df_stats.loc[df_stats.index.get_level_values(0).isin(['mean', 'std', 'min', 'max'])]"
   ]
  },
  {
   "cell_type": "code",
   "execution_count": null,
   "id": "f452258d",
   "metadata": {
    "tags": []
   },
   "outputs": [],
   "source": [
    "# show essential statistics for the error values, per id\n",
    "df_stats = df_results_per_period.groupby('id').describe().stack().filter(regex='^mae_|^rmse')\n",
    "df_stats.loc[df_stats.index.get_level_values(1).isin(['mean', 'std', 'min', 'max'])]"
   ]
  },
  {
   "cell_type": "markdown",
   "id": "b19801d9",
   "metadata": {},
   "source": [
    "### Result Visualization"
   ]
  },
  {
   "cell_type": "code",
   "execution_count": null,
   "id": "217ffae9",
   "metadata": {
    "tags": []
   },
   "outputs": [],
   "source": [
    "#Plot all properties from all sources for all ids\n",
    "input_props = list(property_sources.values())\n",
    "learned_props = input_props + ['sim_co2__ppm']\n",
    "learned_props_frac = input_props + ['sim_co2__ppm', 'learned_valve_frac__0']\n",
    "learned_props_occupancy = input_props + ['sim_co2__ppm', 'learned_occupancy__p']"
   ]
  },
  {
   "cell_type": "code",
   "execution_count": null,
   "id": "baa2a5c0",
   "metadata": {
    "tags": []
   },
   "outputs": [],
   "source": [
    "df_results"
   ]
  },
  {
   "cell_type": "code",
   "execution_count": null,
   "id": "de85f49b",
   "metadata": {
    "tags": []
   },
   "outputs": [],
   "source": [
    "# Scatter plot of two features (for example sim_co2__ppm vs learned_valve_frac__0)\n",
    "\n",
    "Plot.learned_parameters_scatterplot(df=df_results, parameters=['sim_co2__ppm', 'bms_valve_frac__0'])"
   ]
  },
  {
   "cell_type": "code",
   "execution_count": null,
   "id": "ff37645e",
   "metadata": {
    "tags": []
   },
   "outputs": [],
   "source": [
    "# select properties to visualise\n",
    "if (('valve_frac__0' in learn) or ('occupancy__p'in learn)):\n",
    "    if 'valve_frac__0' in learn:\n",
    "        props = learned_props_frac\n",
    "    else:\n",
    "        props = learned_props_occupancy\n",
    "else:\n",
    "    props = learned_props\n",
    "        \n",
    "# df_plot = df_prep[props]\n",
    "\n",
    "df_plot = df_results[props]"
   ]
  },
  {
   "cell_type": "code",
   "execution_count": null,
   "id": "78f373a8",
   "metadata": {
    "tags": []
   },
   "outputs": [],
   "source": [
    "Plot.dataframe_preprocessed_plot(df_plot, units_to_mathtext)"
   ]
  },
  {
   "cell_type": "code",
   "execution_count": null,
   "id": "7fb046ea",
   "metadata": {
    "tags": []
   },
   "outputs": [],
   "source": [
    "df_plot"
   ]
  },
  {
   "cell_type": "code",
   "execution_count": null,
   "id": "fc5072cc",
   "metadata": {
    "tags": []
   },
   "outputs": [],
   "source": [
    "df_plot.info()"
   ]
  },
  {
   "cell_type": "markdown",
   "id": "8b4ebc8a-08ce-4852-870e-968babdac320",
   "metadata": {
    "tags": []
   },
   "source": [
    "## Learn parameters using inverse grey-box analysis with co2_ext__ppm 50 ppm lower than min(co2__ppm)\n",
    "\n",
    "Most of the heavy lifting is done by the `learn_room_parameters()` function, which again uses the [GEKKO Python](https://machinelearning.byu.edu/) dynamic optimization toolkit."
   ]
  },
  {
   "cell_type": "code",
   "execution_count": null,
   "id": "63327d0f-cb9d-4389-8f8c-728d178e478d",
   "metadata": {
    "tags": []
   },
   "outputs": [],
   "source": [
    "%%time \n",
    "%autoreload 2\n",
    "\n",
    "df_results_per_period_margin_50, df_results_margin_50 = Learner.learn_room_parameters(df_prep,\n",
    "                                                                  property_sources = property_sources, \n",
    "                                                                  df_metadata = df_room_metadata,\n",
    "                                                                  hints = hints,\n",
    "                                                                  learn = learn,\n",
    "                                                                  learn_period__d = 3, \n",
    "                                                                  learn_change_interval__min = 30,\n",
    "                                                                  co2_min_margin__ppm = 50,\n",
    "                                                                  ev_type=2\n",
    "                                                                 )\n"
   ]
  },
  {
   "cell_type": "markdown",
   "id": "5d22e35f-7d13-4e24-9dfd-16935305eb57",
   "metadata": {},
   "source": [
    "### Result per learning period with co2_ext__ppm 50 ppm lower than min(co2__ppm)"
   ]
  },
  {
   "cell_type": "code",
   "execution_count": null,
   "id": "91719d5f-e7d5-4a45-92df-08b50c252c31",
   "metadata": {
    "tags": []
   },
   "outputs": [],
   "source": [
    "#write df_results_per_period to zipped CSV file for analysis in other programs\n",
    "if any(df_results.columns.str.startswith('model_')): \n",
    "    roomtype='virtual'\n",
    "else:\n",
    "    roomtype='real'\n",
    "    \n",
    "if (('valve_frac__0' in learn) or ('occupancy__p'in learn)):\n",
    "    if 'valve_frac__0' in learn:\n",
    "        resulttype = 'valve_frac__0'\n",
    "    else:\n",
    "        resulttype = 'occupancy__p'\n",
    "else:\n",
    "    resulttype= 'A_inf__m2'\n",
    "\n",
    "df_results_per_period_margin_50.to_csv(f'results_{resulttype}_per_period_{roomtype}_rooms_margin_50__ppm.zip',\n",
    "                             encoding='utf-8',\n",
    "                             compression= dict(method='zip',\n",
    "                                               archive_name=f'results_{resulttype}_per_period_{roomtype}_rooms.csv'),\n",
    "                             date_format='%Y-%m-%dT%H:%M:%S%z')"
   ]
  },
  {
   "cell_type": "code",
   "execution_count": null,
   "id": "b10e1fc2-54ef-4882-9cb7-445eed1b8231",
   "metadata": {
    "tags": []
   },
   "outputs": [],
   "source": [
    "df_results_per_period_margin_50"
   ]
  },
  {
   "cell_type": "code",
   "execution_count": null,
   "id": "98cf692f-a124-4cb5-a6cc-2ee8b25f2ee2",
   "metadata": {
    "tags": []
   },
   "outputs": [],
   "source": [
    "# box plot for 'learned_A_inf__cm2' per room \n",
    "\n",
    "Plot.learned_parameters_boxplot_b4b(df_results_per_period_margin_50, parameter='learned_A_inf__cm2')"
   ]
  },
  {
   "cell_type": "code",
   "execution_count": null,
   "id": "a231c1b7-0e66-4168-b2b5-d82e7ace0532",
   "metadata": {
    "tags": []
   },
   "outputs": [],
   "source": [
    "# show essential statistics for the learned values\n",
    "df_stats_margin_50 = df_results_per_period_margin_50.describe().filter(regex='^actual_|^learned_')\n",
    "df_stats_margin_50.loc[df_stats_margin_50.index.get_level_values(0).isin(['mean', 'std', 'min', 'max'])]"
   ]
  },
  {
   "cell_type": "code",
   "execution_count": null,
   "id": "12e03a1d-32fb-433c-8aa1-b29f08cb5af8",
   "metadata": {
    "tags": []
   },
   "outputs": [],
   "source": [
    "# show essential statistics for the errors\n",
    "df_stat_margin_50s = df_results_per_period_margin_50.describe().filter(regex='^mae_|^rmse')\n",
    "df_stats_margin_50.loc[df_stats_margin_50.index.get_level_values(0).isin(['mean', 'std', 'min', 'max'])]"
   ]
  },
  {
   "cell_type": "code",
   "execution_count": null,
   "id": "c764afb2-9e0c-4584-b554-60aa0db6a3b5",
   "metadata": {
    "tags": []
   },
   "outputs": [],
   "source": [
    "# show essential statistics for the error values, per id\n",
    "df_stats_margin_50 = df_results_per_period_margin_50.groupby('id').describe().stack().filter(regex='^mae_|^rmse')\n",
    "df_stats_margin_50.loc[df_stats_margin_50.index.get_level_values(1).isin(['mean', 'std', 'min', 'max'])]"
   ]
  },
  {
   "cell_type": "markdown",
   "id": "eb80331d-f7c0-4e04-bdb8-5b6225251736",
   "metadata": {
    "tags": []
   },
   "source": [
    "### Result Visualization with co2_ext__ppm 50 ppm lower than min(co2__ppm)"
   ]
  },
  {
   "cell_type": "code",
   "execution_count": null,
   "id": "4f0c2fab-0a25-4c30-865b-862495d984a9",
   "metadata": {
    "tags": []
   },
   "outputs": [],
   "source": [
    "#Plot all properties from all sources for all ids\n",
    "input_props = list(property_sources.values())\n",
    "learned_props = input_props + ['sim_co2__ppm']\n",
    "learned_props_frac = input_props + ['sim_co2__ppm', 'learned_valve_frac__0']\n",
    "learned_props_occupancy = input_props + ['sim_co2__ppm', 'learned_occupancy__p']"
   ]
  },
  {
   "cell_type": "code",
   "execution_count": null,
   "id": "411e3d40-bf6b-49c2-8014-99f4aa3b09b9",
   "metadata": {
    "tags": []
   },
   "outputs": [],
   "source": [
    "df_results_margin_50"
   ]
  },
  {
   "cell_type": "code",
   "execution_count": null,
   "id": "79660eeb-c855-4420-96b0-ddc2815fcae6",
   "metadata": {
    "tags": []
   },
   "outputs": [],
   "source": [
    "# Scatter plot of two features (for example sim_co2__ppm vs learned_valve_frac__0)\n",
    "\n",
    "Plot.learned_parameters_scatterplot(df=df_results_margin_50, parameters=['sim_co2__ppm', 'bms_valve_frac__0'])"
   ]
  },
  {
   "cell_type": "code",
   "execution_count": null,
   "id": "f0d0a8fd-35d4-454d-ba3b-e0f79a87c3b8",
   "metadata": {
    "tags": []
   },
   "outputs": [],
   "source": [
    "# select properties to visualise\n",
    "if (('valve_frac__0' in learn) or ('occupancy__p'in learn)):\n",
    "    if 'valve_frac__0' in learn:\n",
    "        props = learned_props_frac\n",
    "    else:\n",
    "        props = learned_props_occupancy\n",
    "else:\n",
    "    props = learned_props\n",
    "        \n",
    "# df_plot = df_prep[props]\n",
    "\n",
    "df_plot = df_results_margin_50[props]"
   ]
  },
  {
   "cell_type": "code",
   "execution_count": null,
   "id": "6402c56b-fd30-4616-8400-9e25b7b37b54",
   "metadata": {
    "tags": []
   },
   "outputs": [],
   "source": [
    "Plot.dataframe_preprocessed_plot(df_plot, units_to_mathtext)"
   ]
  },
  {
   "cell_type": "code",
   "execution_count": null,
   "id": "565d18e7-d1db-4cf6-a5c2-0eb82ba2cbc6",
   "metadata": {
    "tags": []
   },
   "outputs": [],
   "source": [
    "df_plot"
   ]
  },
  {
   "cell_type": "code",
   "execution_count": null,
   "id": "5ede7dcb-9ff3-4092-907d-6f41a3c1fd95",
   "metadata": {
    "tags": []
   },
   "outputs": [],
   "source": [
    "df_plot.info()"
   ]
  },
  {
   "cell_type": "markdown",
   "id": "fe4870c6-ca08-408a-a7d1-073134f02c5d",
   "metadata": {},
   "source": [
    "## Improvements with co2_ext_ppm 50 ppm lower than min(co2__ppm) compared to 1 ppm lower than min(co2__ppm)"
   ]
  },
  {
   "cell_type": "code",
   "execution_count": null,
   "id": "19eb3993-9ee3-4cf6-a9f2-a34b9a38a0b0",
   "metadata": {},
   "outputs": [],
   "source": [
    "df_compare = pd.DataFrame(columns=['learn_streak_period_start', 'learn_streak_period_end', 'mae_co2__ppm', 'rmse_co2__ppm', 'mae_valve_frac__0', 'rmse_valve_frac__0', 'mae_occupancy__p', 'rmse_occupancy__p'])"
   ]
  },
  {
   "cell_type": "code",
   "execution_count": null,
   "id": "b478fd0d-d22f-45d2-bba1-fa314f4fd4fe",
   "metadata": {},
   "outputs": [],
   "source": [
    "df_compare[['learn_streak_period_start', 'learn_streak_period_end']] = df_results_per_period[['learn_streak_period_start', 'learn_streak_period_end']]"
   ]
  },
  {
   "cell_type": "code",
   "execution_count": null,
   "id": "a71d67bd-3289-412f-bd27-9f99f8359468",
   "metadata": {},
   "outputs": [],
   "source": [
    "metrics = ['mae_co2__ppm', 'rmse_co2__ppm', 'mae_valve_frac__0', 'rmse_valve_frac__0', 'mae_occupancy__p', 'rmse_occupancy__p']\n",
    "df_compare[metrics]= df_results_per_period[metrics] - df_results_per_period_margin_50[metrics]\n"
   ]
  },
  {
   "cell_type": "code",
   "execution_count": null,
   "id": "4608b08b-60d3-462c-ba78-c5a1ac280a67",
   "metadata": {},
   "outputs": [],
   "source": [
    "df_compare"
   ]
  },
  {
   "cell_type": "code",
   "execution_count": null,
   "id": "6509b41a-401d-45e5-aa82-a7bd6d019471",
   "metadata": {
    "tags": []
   },
   "outputs": [],
   "source": [
    "# show essential statistics for the errors\n",
    "df_improvements_when_co2_margin_50__ppm = df_compare.describe().filter(regex='^mae_|^rmse')\n",
    "df_improvements_when_co2_margin_50__ppm.loc[df_improvements_when_co2_margin_50__ppm.index.get_level_values(0).isin(['mean', 'std', 'min', 'max'])]\n"
   ]
  },
  {
   "cell_type": "code",
   "execution_count": null,
   "id": "2355ba04-9a66-46c1-9715-6db52d20bfbc",
   "metadata": {},
   "outputs": [],
   "source": []
  },
  {
   "cell_type": "markdown",
   "id": "79b3bc58-a017-4aae-ab90-7bd94dd0308d",
   "metadata": {
    "tags": []
   },
   "source": [
    "## Learn parameters using inverse grey-box analysis considering \"xovis\" as a source for occupancy measurement\n",
    "\n",
    "Most of the heavy lifting is done by the `learn_room_parameters()` function, which again uses the [GEKKO Python](https://machinelearning.byu.edu/) dynamic optimization toolkit."
   ]
  },
  {
   "cell_type": "code",
   "execution_count": null,
   "id": "9cdfcdde-c3d6-4a5f-8c1b-dc5549a76037",
   "metadata": {
    "tags": []
   },
   "outputs": [],
   "source": [
    "%%time \n",
    "%autoreload 2\n",
    "\n",
    "# learn the model parameters for only a subset of the room ids and write results to a dataframe\n",
    "\n",
    "# read room metadata\n",
    "\n",
    "file_metadata = 'metadata/b4b-room-metadata.zip'\n",
    "df_room_metadata = pd.read_csv(base_url + file_metadata, usecols=['id', 'room__m3', 'vent_max__m3_h_1']).set_index(['id'])\n",
    "\n",
    "# filename = '../data/b4b-room-metadata.zip'\n",
    "# df_room_metadata = pd.read_csv(filename, usecols=['id', 'room__m3', 'vent_max__m3_h_1']).set_index(['id'])\n",
    "\n",
    "hints = {\n",
    "    'A_inf__m2' : (10 / 1e4) # 10 [cm^2] \n",
    "}\n",
    "    \n",
    "#select whether to learn a time-varying parameters as well (NB you can set 0 or 1 of these to true, both not both\n",
    "learn = [\n",
    "    'A_inf__m2',\n",
    "    'valve_frac__0',\n",
    "    # 'occupancy__p',\n",
    "]\n",
    "\n",
    "#select column names\n",
    "property_sources = {\n",
    "    'co2__ppm' : 'CO2-meter-SCD4x_co2__ppm',           # options: ['bms_co2__ppm', 'CO2-meter-SCD4x_co2__ppm']\n",
    "    'occupancy__p': 'xovis_occupancy__p',    # options: ['CO2-meter-SCD4x_occupancy__p', 'xovis_occupancy__p']\n",
    "    'valve_frac__0': 'bms_valve_frac__0'\n",
    "}\n",
    "\n",
    "df_results_per_period_xovis_occupancy, df_results_xovis_occupancy = Learner.learn_room_parameters(df_prep,\n",
    "                                                                  property_sources = property_sources, \n",
    "                                                                  df_metadata = df_room_metadata,\n",
    "                                                                  hints = hints,\n",
    "                                                                  learn = learn,\n",
    "                                                                  learn_period__d = 3, \n",
    "                                                                  learn_change_interval__min = 30,\n",
    "                                                                  co2_min_margin__ppm = 1,\n",
    "                                                                  ev_type=2\n",
    "                                                                 )\n"
   ]
  },
  {
   "cell_type": "markdown",
   "id": "d6693241-9a13-4d54-9697-2821b23ba3c8",
   "metadata": {},
   "source": [
    "### Result per learning period considering \"xovis\" as a source for occupancy measurement"
   ]
  },
  {
   "cell_type": "code",
   "execution_count": null,
   "id": "31ea3f04-eb61-47da-a272-92298cd7be8f",
   "metadata": {
    "tags": []
   },
   "outputs": [],
   "source": [
    "#write df_results_per_period to zipped CSV file for analysis in other programs\n",
    "if any(df_results_xovis_occupancy.columns.str.startswith('model_')): \n",
    "    roomtype='virtual'\n",
    "else:\n",
    "    roomtype='real'\n",
    "    \n",
    "if (('valve_frac__0' in learn) or ('occupancy__p'in learn)):\n",
    "    if 'valve_frac__0' in learn:\n",
    "        resulttype = 'valve_frac__0'\n",
    "    else:\n",
    "        resulttype = 'occupancy__p'\n",
    "else:\n",
    "    resulttype= 'A_inf__m2'\n",
    "\n",
    "df_results_per_period_xovis_occupancy.to_csv(f'results_{resulttype}_per_period_{roomtype}_rooms.zip',\n",
    "                             encoding='utf-8',\n",
    "                             compression= dict(method='zip',\n",
    "                                               archive_name=f'results_{resulttype}_per_period_{roomtype}_rooms.csv'),\n",
    "                             date_format='%Y-%m-%dT%H:%M:%S%z')"
   ]
  },
  {
   "cell_type": "code",
   "execution_count": null,
   "id": "e922c5bb-5de7-4738-ae74-701a90b7cd0e",
   "metadata": {
    "tags": []
   },
   "outputs": [],
   "source": [
    "df_results_per_period_xovis_occupancy"
   ]
  },
  {
   "cell_type": "code",
   "execution_count": null,
   "id": "1de337d3-01e4-4164-95f0-9ec2aa486dce",
   "metadata": {
    "tags": []
   },
   "outputs": [],
   "source": [
    "# box plot for 'learned_A_inf__cm2' per room \n",
    "\n",
    "Plot.learned_parameters_boxplot_b4b(df_results_per_period_xovis_occupancy, parameter='learned_A_inf__cm2')"
   ]
  },
  {
   "cell_type": "code",
   "execution_count": null,
   "id": "68d989ee-3f7d-4759-bd78-afa1f8481ec9",
   "metadata": {
    "tags": []
   },
   "outputs": [],
   "source": [
    "# show essential statistics for the learned values\n",
    "df_stats_xovis_occupancy = df_results_per_period_xovis_occupancy.describe().filter(regex='^actual_|^learned_')\n",
    "df_stats_xovis_occupancy.loc[df_stats_xovis_occupancy.index.get_level_values(0).isin(['mean', 'std', 'min', 'max'])]"
   ]
  },
  {
   "cell_type": "code",
   "execution_count": null,
   "id": "4521c741-d4ee-47bf-bc5f-4e5fdc6fe1db",
   "metadata": {
    "tags": []
   },
   "outputs": [],
   "source": [
    "# show essential statistics for the errors\n",
    "df_stats_xovis_occupancy = df_results_per_period_xovis_occupancy.describe().filter(regex='^mae_|^rmse')\n",
    "df_stats_xovis_occupancy.loc[df_stats_xovis_occupancy.index.get_level_values(0).isin(['mean', 'std', 'min', 'max'])]"
   ]
  },
  {
   "cell_type": "code",
   "execution_count": null,
   "id": "38697f5b-4e55-496c-95d5-3654632f55dc",
   "metadata": {
    "tags": []
   },
   "outputs": [],
   "source": [
    "# show essential statistics for the error values, per id\n",
    "df_stats_xovis_occupancy = df_results_per_period_xovis_occupancy.groupby('id').describe().stack().filter(regex='^mae_|^rmse')\n",
    "df_stats_xovis_occupancy.loc[df_stats_xovis_occupancy.index.get_level_values(1).isin(['mean', 'std', 'min', 'max'])]"
   ]
  },
  {
   "cell_type": "markdown",
   "id": "da40eefd-4ce5-4d47-b66a-ee74ad831e4c",
   "metadata": {
    "tags": []
   },
   "source": [
    "### Result Visualization considering \"xovis\" as a source for occupancy measurement"
   ]
  },
  {
   "cell_type": "code",
   "execution_count": null,
   "id": "573864a2-e747-44df-8fd6-4b9743bcae15",
   "metadata": {
    "tags": []
   },
   "outputs": [],
   "source": [
    "#Plot all properties from all sources for all ids\n",
    "input_props = list(property_sources.values())\n",
    "learned_props = input_props + ['sim_co2__ppm']\n",
    "learned_props_frac = input_props + ['sim_co2__ppm', 'learned_valve_frac__0']\n",
    "learned_props_occupancy = input_props + ['sim_co2__ppm', 'learned_occupancy__p']"
   ]
  },
  {
   "cell_type": "code",
   "execution_count": null,
   "id": "cd194ccc-5675-407e-b4ac-9866539ac052",
   "metadata": {
    "tags": []
   },
   "outputs": [],
   "source": [
    "df_results_xovis_occupancy"
   ]
  },
  {
   "cell_type": "code",
   "execution_count": null,
   "id": "555e5f7a-411c-4501-80d1-b888d5ca7e04",
   "metadata": {
    "tags": []
   },
   "outputs": [],
   "source": [
    "# Scatter plot of two features (for example sim_co2__ppm vs learned_valve_frac__0)\n",
    "\n",
    "Plot.learned_parameters_scatterplot(df=df_results_xovis_occupancy, parameters=['sim_co2__ppm', 'bms_valve_frac__0'])"
   ]
  },
  {
   "cell_type": "code",
   "execution_count": null,
   "id": "9859c7e9-0e6f-4053-bad1-235df5df24f2",
   "metadata": {
    "tags": []
   },
   "outputs": [],
   "source": [
    "# select properties to visualise\n",
    "if (('valve_frac__0' in learn) or ('occupancy__p'in learn)):\n",
    "    if 'valve_frac__0' in learn:\n",
    "        props = learned_props_frac\n",
    "    else:\n",
    "        props = learned_props_occupancy\n",
    "else:\n",
    "    props = learned_props\n",
    "        \n",
    "# df_plot = df_prep[props]\n",
    "\n",
    "df_plot = df_results_xovis_occupancy[props]"
   ]
  },
  {
   "cell_type": "code",
   "execution_count": null,
   "id": "1e6ad9a5-f299-429f-99e6-b88efc707387",
   "metadata": {
    "tags": []
   },
   "outputs": [],
   "source": [
    "Plot.dataframe_preprocessed_plot(df_plot, units_to_mathtext)"
   ]
  },
  {
   "cell_type": "code",
   "execution_count": null,
   "id": "9ee379e2-7fbb-410a-9321-0103a19a6c6a",
   "metadata": {
    "tags": []
   },
   "outputs": [],
   "source": [
    "df_plot"
   ]
  },
  {
   "cell_type": "code",
   "execution_count": null,
   "id": "eab8f630-1b48-42b3-bba8-ef0a23c4eedb",
   "metadata": {
    "tags": []
   },
   "outputs": [],
   "source": [
    "df_plot.info()"
   ]
  },
  {
   "cell_type": "markdown",
   "id": "0e845966-2712-4b9c-9d4e-625286b7f912",
   "metadata": {
    "tags": []
   },
   "source": [
    "### Result comparison \"xovis\" and \"CO2-meter-SCD4x\""
   ]
  },
  {
   "cell_type": "code",
   "execution_count": null,
   "id": "8f343628-39cc-468c-9857-c0ce8880c576",
   "metadata": {},
   "outputs": [],
   "source": [
    "df_compare_occupancy = pd.DataFrame(columns=['learn_streak_period_start', 'learn_streak_period_end', 'mae_co2__ppm', 'rmse_co2__ppm', 'mae_valve_frac__0', 'rmse_valve_frac__0', 'mae_occupancy__p', 'rmse_occupancy__p'])"
   ]
  },
  {
   "cell_type": "code",
   "execution_count": null,
   "id": "1dd65b67-f064-4d7c-893e-fb2e3e747799",
   "metadata": {},
   "outputs": [],
   "source": [
    "df_compare_occupancy[['learn_streak_period_start', 'learn_streak_period_end']] = df_results_per_period[['learn_streak_period_start', 'learn_streak_period_end']]"
   ]
  },
  {
   "cell_type": "code",
   "execution_count": null,
   "id": "0d48cf29-8ba1-40e4-8560-03ab9e565468",
   "metadata": {},
   "outputs": [],
   "source": [
    "metrics = ['mae_co2__ppm', 'rmse_co2__ppm', 'mae_valve_frac__0', 'rmse_valve_frac__0', 'mae_occupancy__p', 'rmse_occupancy__p']\n",
    "df_compare_occupancy[metrics]= df_results_per_period[metrics] - df_results_per_period_xovis_occupancy[metrics]"
   ]
  },
  {
   "cell_type": "code",
   "execution_count": null,
   "id": "3dca856e-af8a-4985-9d9e-3fa0439b993e",
   "metadata": {},
   "outputs": [],
   "source": [
    "# show essential statistics for the errors\n",
    "df_compare_xovis_SCD4x = df_compare_occupancy.describe().filter(regex='^mae_|^rmse')\n",
    "df_compare_xovis_SCD4x.loc[df_compare_xovis_SCD4x.index.get_level_values(0).isin(['mean', 'std', 'min', 'max'])]"
   ]
  }
 ],
 "metadata": {
  "kernelspec": {
   "display_name": "Python 3 (ipykernel)",
   "language": "python",
   "name": "python3"
  },
  "language_info": {
   "codemirror_mode": {
    "name": "ipython",
    "version": 3
   },
   "file_extension": ".py",
   "mimetype": "text/x-python",
   "name": "python",
   "nbconvert_exporter": "python",
   "pygments_lexer": "ipython3",
   "version": "3.10.6"
  },
  "vscode": {
   "interpreter": {
    "hash": "2b52c2ff5431c21ddbe91dac57ae43ca32d3900acacc91a5c2a32f1a3c11d7aa"
   }
  }
 },
 "nbformat": 4,
 "nbformat_minor": 5
}
