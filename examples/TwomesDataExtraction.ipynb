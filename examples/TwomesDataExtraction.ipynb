{
 "cells": [
  {
   "cell_type": "code",
   "execution_count": null,
   "metadata": {},
   "outputs": [],
   "source": [
    "from datetime import datetime, timedelta\n",
    "import pytz\n",
    "import math\n",
    "import pylab as plt\n",
    "\n",
    "import pandas as pd\n",
    "import numpy as np\n",
    "\n",
    "import sys\n",
    "sys.path.append('../data/')\n",
    "sys.path.append('../view/')\n",
    "sys.path.append('../analysis/')\n",
    "\n",
    "%load_ext autoreload\n",
    "\n",
    "from extractor import WeatherExtractor, Extractor, Period\n",
    "sampling_interval = '15min'\n",
    "import tqdm\n",
    "\n",
    "%matplotlib widget\n",
    "from plotter import Plot\n",
    "\n",
    "from inversegreyboxmodel import Learner\n",
    "\n",
    "import openpyxl\n",
    "\n",
    "\n",
    "# TODO: get list of pseudonyms, (valid) dates and reference parameters from Excel file  \n",
    "homes =  [817341, 886307, 873985]\n",
    "\n",
    "#location: center of Assendorp neighbourhood in Zwolle\n",
    "lat, lon = 52.5065500000, 6.0996100000\n",
    "\n",
    "#timezone: \n",
    "timezone_homes = 'Europe/Amsterdam'\n",
    "\n",
    "# first test just a short timeseries\n",
    "start = pytz.timezone(timezone_homes).localize(datetime(2021, 12, 20))\n",
    "end = pytz.timezone(timezone_homes).localize(datetime(2022, 1, 18))\n",
    "\n",
    "# date and times of seemingly valid periods for short set of 3 \n",
    "# 886307\t2021-12-19 18:55\t2022-03-17 09:37\n",
    "# 873985\t2021-12-20 12:54\t2022-03-17 17:54\n",
    "# 817341\t2022-01-14 20:27\t2022-03-17 18:15\n",
    "\n",
    "    \n",
    "# utimately: #min, max dates of the analysis\n",
    "# start = pytz.timezone(timezone_homes).localize(datetime(2021, 10, 21))\n",
    "# end = pytz.timezone(timezone_homes).localize(datetime(2022, 5, 12)\n",
    "# homes = [815925, 817341, 857477, 873985, 879481, \n",
    "#          895671, 864296, 845997, 881611, 822479, \n",
    "#          831062, 830088, 811308, 809743, 829947, \n",
    "#          803422, 886307, 846697, 845966, 839440, \n",
    "#          805164, 899510, 897349]"
   ]
  },
  {
   "cell_type": "code",
   "execution_count": null,
   "metadata": {},
   "outputs": [],
   "source": [
    "#check whether the datetime object is properly timezone-aware\n",
    "start"
   ]
  },
  {
   "cell_type": "code",
   "execution_count": null,
   "metadata": {},
   "outputs": [],
   "source": [
    "#check whether the datetime object is properly timezone-aware\n",
    "end"
   ]
  },
  {
   "cell_type": "code",
   "execution_count": null,
   "metadata": {},
   "outputs": [],
   "source": [
    "%%time \n",
    "%autoreload 2\n",
    "# get geospatially interpolated weather from KNMI\n",
    "# for Twomes, the Weather for all all homes studies can be approached by a single location\n",
    "# get the dataframe only once for all homes to save time\n",
    "\n",
    "df_weather = WeatherExtractor.get_interpolated_weather_nl(start, end, lat, lon, timezone_homes, sampling_interval)"
   ]
  },
  {
   "cell_type": "code",
   "execution_count": null,
   "metadata": {},
   "outputs": [],
   "source": [
    "df_weather"
   ]
  },
  {
   "cell_type": "code",
   "execution_count": null,
   "metadata": {},
   "outputs": [],
   "source": [
    "# plot temperature data\n",
    "\n",
    "Plot.weather_and_other_temperatures('Weather in Assendorp, Zwolle', df_weather)\n",
    "\n",
    "# N.B. The resulting figure below can be manipulated interactively; hover with mouse for tips & tricks"
   ]
  },
  {
   "cell_type": "code",
   "execution_count": null,
   "metadata": {},
   "outputs": [],
   "source": [
    "# get interpolated data from the Twomes database and combine with weather data already obtained\n",
    "df_data_homes = Extractor.get_interpolated_twomes_data(homes, start, end, timezone_homes, sampling_interval, df_weather)"
   ]
  },
  {
   "cell_type": "code",
   "execution_count": null,
   "metadata": {},
   "outputs": [],
   "source": [
    "# see what the extracted and interpolated data looks like\n",
    "df_data_homes"
   ]
  },
  {
   "cell_type": "code",
   "execution_count": null,
   "metadata": {},
   "outputs": [],
   "source": [
    "# how to select data from a single home\n",
    "df_data_homes[df_data_homes['homepseudonym'] == 817341]"
   ]
  },
  {
   "cell_type": "code",
   "execution_count": null,
   "metadata": {},
   "outputs": [],
   "source": [
    "# plot temperature data of multiple homes from an array \n",
    "\n",
    "for home_id in homes:\n",
    "    df_data_one_home = df_data_homes[df_data_homes['homepseudonym'] == home_id]\n",
    "    Plot.weather_and_other_temperatures(home_id, df_data_one_home, ['indoor_temp_degC'])\n",
    "\n",
    "# N.B. The resulting figure below can be manipulated interactively; hover with mouse for tips & tricks\n"
   ]
  },
  {
   "cell_type": "code",
   "execution_count": null,
   "metadata": {},
   "outputs": [],
   "source": [
    "#plot a series of weeks for all homes\n",
    "plt.ioff()\n",
    "\n",
    "for home_id in homes:\n",
    "    df_data_one_home = df_data_homes[df_data_homes['homepseudonym'] == home_id]\n",
    "    for moving_horizon_start in pd.date_range(start=start, end=end, inclusive='left', freq='7D'):\n",
    "        moving_horizon_end = min(end, moving_horizon_start + timedelta(days=7))\n",
    "        df_moving_horizon = df_data_one_home[moving_horizon_start:moving_horizon_end]\n",
    "        Plot.weather_and_other_temperatures(home_id, df_moving_horizon, ['indoor_temp_degC'])\n",
    "\n",
    "plt.ion()  \n",
    "    "
   ]
  },
  {
   "cell_type": "code",
   "execution_count": null,
   "metadata": {
    "tags": []
   },
   "outputs": [],
   "source": [
    "%%time \n",
    "%autoreload 2\n",
    "\n",
    "# uncomment lines below if you need something other than the defaults\n",
    "# homes_to_analyze = [817341]\n",
    "# start_analysis_period = pytz.timezone(timezone_homes).localize(datetime(2022, 1, 3))\n",
    "# end_analysis_period = pytz.timezone(timezone_homes).localize(datetime(2022, 1, 9))\n",
    "\n",
    "homes_to_analyze = homes\n",
    "start_analysis_period = start\n",
    "end_analysis_period = end\n",
    "\n",
    "moving_horizon_duration_d = 3\n",
    "df_results = Learner.learn_home_parameter_moving_horizon(df_data_homes, moving_horizon_duration_d, homes_to_analyze, start_analysis_period, end_analysis_period, showdetails=True)\n",
    "\n",
    "# or: uncomment lines below if you want to analyse all homes for all periods with a default moving horizon duration of 7 days\n",
    "# df_results = Learner.learn_home_parameter_moving_horizon(df_data_homes)\n",
    "\n",
    "df = df_results\n",
    "for col in df.select_dtypes(['datetimetz']).columns:\n",
    "    df[col] = df[col].dt.tz_localize(None)\n",
    "df.to_excel('result.xlsx')"
   ]
  },
  {
   "cell_type": "code",
   "execution_count": null,
   "metadata": {},
   "outputs": [],
   "source": [
    "#show the results\n",
    "df_results"
   ]
  }
 ],
 "metadata": {
  "kernelspec": {
   "display_name": "Python 3 (ipykernel)",
   "language": "python",
   "name": "python3"
  },
  "language_info": {
   "codemirror_mode": {
    "name": "ipython",
    "version": 3
   },
   "file_extension": ".py",
   "mimetype": "text/x-python",
   "name": "python",
   "nbconvert_exporter": "python",
   "pygments_lexer": "ipython3",
   "version": "3.9.12"
  }
 },
 "nbformat": 4,
 "nbformat_minor": 4
}
