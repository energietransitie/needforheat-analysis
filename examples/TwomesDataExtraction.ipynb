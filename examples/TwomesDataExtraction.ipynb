{
 "cells": [
  {
   "cell_type": "code",
   "execution_count": null,
   "metadata": {},
   "outputs": [],
   "source": [
    "from datetime import datetime, timedelta\n",
    "import pytz\n",
    "import math\n",
    "import pylab as plt\n",
    "\n",
    "import pandas as pd\n",
    "import numpy as np\n",
    "\n",
    "import sys\n",
    "sys.path.append('../data/')\n",
    "sys.path.append('../view/')\n",
    "sys.path.append('../analysis/')\n",
    "\n",
    "%load_ext autoreload\n",
    "\n",
    "from extractor import WeatherExtractor, Extractor, Period\n",
    "sampling_interval = '15min'\n",
    "import tqdm\n",
    "\n",
    "%matplotlib widget\n",
    "from plotter import Plot\n",
    "\n",
    "from inversegreyboxmodel import Learner\n",
    "\n",
    "import openpyxl\n",
    "\n",
    "\n",
    "# TODO: get list of pseudonyms, (valid) dates and reference parameters from Excel file  \n",
    "homes =  [817341, 886307, 873985]\n",
    "\n",
    "#location: center of Assendorp neighbourhood in Zwolle\n",
    "lat, lon = 52.5065500000, 6.0996100000\n",
    "\n",
    "#timezone: \n",
    "timezone_homes = 'Europe/Amsterdam'\n",
    "\n",
    "# first test just a short timeseries\n",
    "start = pytz.timezone(timezone_homes).localize(datetime(2021, 12, 20))\n",
    "end = pytz.timezone(timezone_homes).localize(datetime(2022, 1, 18))\n",
    "\n",
    "# date and times of seemingly valid periods for short set of 3 \n",
    "# 886307\t2021-12-19 18:55\t2022-03-17 09:37\n",
    "# 873985\t2021-12-20 12:54\t2022-03-17 17:54\n",
    "# 817341\t2022-01-14 20:27\t2022-03-17 18:15\n",
    "\n",
    "    \n",
    "# utimately: #min, max dates of the analysis\n",
    "# start = pytz.timezone(timezone_homes).localize(datetime(2021, 10, 21))\n",
    "# end = pytz.timezone(timezone_homes).localize(datetime(2022, 5, 12)\n",
    "# homes = [815925, 817341, 857477, 873985, 879481, \n",
    "#          895671, 864296, 845997, 881611, 822479, \n",
    "#          831062, 830088, 811308, 809743, 829947, \n",
    "#          803422, 886307, 846697, 845966, 839440, \n",
    "#          805164, 899510, 897349]"
   ]
  },
  {
   "cell_type": "code",
   "execution_count": null,
   "metadata": {},
   "outputs": [],
   "source": [
    "#check whether the datetime object is properly timezone-aware\n",
    "start"
   ]
  },
  {
   "cell_type": "code",
   "execution_count": null,
   "metadata": {},
   "outputs": [],
   "source": [
    "#check whether the datetime object is properly timezone-aware\n",
    "end"
   ]
  },
  {
   "cell_type": "code",
   "execution_count": null,
   "metadata": {},
   "outputs": [],
   "source": [
    "%%time \n",
    "%autoreload 2\n",
    "\n",
    "# get geospatially interpolated weather from KNMI\n",
    "# for Twomes, the Weather for all all homes studies can be approached by a single location\n",
    "# get the dataframe only once for all homes to save time\n",
    "\n",
    "df_weather = WeatherExtractor.get_interpolated_weather_nl(start, end, lat, lon, timezone_homes, sampling_interval)"
   ]
  },
  {
   "cell_type": "code",
   "execution_count": null,
   "metadata": {},
   "outputs": [],
   "source": [
    "df_weather"
   ]
  },
  {
   "cell_type": "code",
   "execution_count": null,
   "metadata": {},
   "outputs": [],
   "source": [
    "# plot temperature data\n",
    "\n",
    "Plot.weather_and_other_temperatures('Weather in Assendorp, Zwolle', df_weather)\n",
    "\n",
    "# N.B. The resulting figure below can be manipulated interactively; hover with mouse for tips & tricks"
   ]
  },
  {
   "cell_type": "code",
   "execution_count": 9,
   "metadata": {},
   "outputs": [
    {
     "name": "stderr",
     "output_type": "stream",
     "text": [
      "  0% 0/3 [01:03<?, ?it/s]\n"
     ]
    },
    {
     "ename": "KeyboardInterrupt",
     "evalue": "",
     "output_type": "error",
     "traceback": [
      "\u001b[0;31m---------------------------------------------------------------------------\u001b[0m",
      "\u001b[0;31mKeyboardInterrupt\u001b[0m                         Traceback (most recent call last)",
      "Input \u001b[0;32mIn [9]\u001b[0m, in \u001b[0;36m<cell line: 2>\u001b[0;34m()\u001b[0m\n\u001b[1;32m      1\u001b[0m \u001b[38;5;66;03m# get interpolated data from the Twomes database and combine with weather data already obtained\u001b[39;00m\n\u001b[0;32m----> 2\u001b[0m df_data_homes \u001b[38;5;241m=\u001b[39m \u001b[43mExtractor\u001b[49m\u001b[38;5;241;43m.\u001b[39;49m\u001b[43mget_interpolated_twomes_data\u001b[49m\u001b[43m(\u001b[49m\u001b[43mhomes\u001b[49m\u001b[43m,\u001b[49m\u001b[43m \u001b[49m\u001b[43mstart\u001b[49m\u001b[43m,\u001b[49m\u001b[43m \u001b[49m\u001b[43mend\u001b[49m\u001b[43m,\u001b[49m\u001b[43m \u001b[49m\u001b[43mtimezone_homes\u001b[49m\u001b[43m,\u001b[49m\u001b[43m \u001b[49m\u001b[43msampling_interval\u001b[49m\u001b[43m,\u001b[49m\u001b[43m \u001b[49m\u001b[43mdf_weather\u001b[49m\u001b[43m)\u001b[49m\n",
      "File \u001b[0;32m~/twomes-twutility-inverse-grey-box-analysis/examples/../data/extractor.py:869\u001b[0m, in \u001b[0;36mExtractor.get_interpolated_twomes_data\u001b[0;34m(homes, starttime, endtime, tz_home, interpolation_interval, weather_interpolated)\u001b[0m\n\u001b[1;32m    866\u001b[0m e_used_normal_kWh_interpolated \u001b[38;5;241m=\u001b[39m extractor\u001b[38;5;241m.\u001b[39mget_meter_parameter_timeseries_sum(\u001b[38;5;124m'\u001b[39m\u001b[38;5;124meMeterReadingSupplyHigh\u001b[39m\u001b[38;5;124m'\u001b[39m, \u001b[38;5;124m'\u001b[39m\u001b[38;5;124me_used_normal_kWh\u001b[39m\u001b[38;5;124m'\u001b[39m, \n\u001b[1;32m    867\u001b[0m                                  \u001b[38;5;28;01mTrue\u001b[39;00m, upsample, interpolation_interval, starttime, endtime, tz_home)\n\u001b[1;32m    868\u001b[0m \u001b[38;5;66;03m# print('...getting e_used_low_kWh')\u001b[39;00m\n\u001b[0;32m--> 869\u001b[0m e_used_low_kWh_interpolated \u001b[38;5;241m=\u001b[39m \u001b[43mextractor\u001b[49m\u001b[38;5;241;43m.\u001b[39;49m\u001b[43mget_meter_parameter_timeseries_sum\u001b[49m\u001b[43m(\u001b[49m\u001b[38;5;124;43m'\u001b[39;49m\u001b[38;5;124;43meMeterReadingSupplyLow\u001b[39;49m\u001b[38;5;124;43m'\u001b[39;49m\u001b[43m,\u001b[49m\u001b[43m \u001b[49m\u001b[38;5;124;43m'\u001b[39;49m\u001b[38;5;124;43me_used_low_kWh\u001b[39;49m\u001b[38;5;124;43m'\u001b[39;49m\u001b[43m,\u001b[49m\u001b[43m \u001b[49m\n\u001b[1;32m    870\u001b[0m \u001b[43m                                 \u001b[49m\u001b[38;5;28;43;01mTrue\u001b[39;49;00m\u001b[43m,\u001b[49m\u001b[43m \u001b[49m\u001b[43mupsample\u001b[49m\u001b[43m,\u001b[49m\u001b[43m \u001b[49m\u001b[43minterpolation_interval\u001b[49m\u001b[43m,\u001b[49m\u001b[43m \u001b[49m\u001b[43mstarttime\u001b[49m\u001b[43m,\u001b[49m\u001b[43m \u001b[49m\u001b[43mendtime\u001b[49m\u001b[43m,\u001b[49m\u001b[43m \u001b[49m\u001b[43mtz_home\u001b[49m\u001b[43m)\u001b[49m\n\u001b[1;32m    871\u001b[0m \u001b[38;5;66;03m# print('...getting e_returned_normal_kWh')\u001b[39;00m\n\u001b[1;32m    872\u001b[0m e_returned_normal_kWh_interpolated \u001b[38;5;241m=\u001b[39m extractor\u001b[38;5;241m.\u001b[39mget_meter_parameter_timeseries_sum(\u001b[38;5;124m'\u001b[39m\u001b[38;5;124meMeterReadingReturnHigh\u001b[39m\u001b[38;5;124m'\u001b[39m, \u001b[38;5;124m'\u001b[39m\u001b[38;5;124me_returned_normal_kWh\u001b[39m\u001b[38;5;124m'\u001b[39m, \n\u001b[1;32m    873\u001b[0m                                  \u001b[38;5;28;01mTrue\u001b[39;00m, upsample, interpolation_interval, starttime, endtime, tz_home)\n",
      "File \u001b[0;32m~/twomes-twutility-inverse-grey-box-analysis/examples/../data/extractor.py:660\u001b[0m, in \u001b[0;36mExtractor.get_meter_parameter_timeseries_sum\u001b[0;34m(self, parameter, seriesname, differentiate, upsample_to, interpolation_interval, start, end, tz_name_home)\u001b[0m\n\u001b[1;32m    656\u001b[0m \u001b[38;5;28;01mdef\u001b[39;00m \u001b[38;5;21mget_meter_parameter_timeseries_sum\u001b[39m(\u001b[38;5;28mself\u001b[39m, parameter: \u001b[38;5;28mstr\u001b[39m, seriesname: \u001b[38;5;28mstr\u001b[39m, \n\u001b[1;32m    657\u001b[0m                              differentiate: \u001b[38;5;28mbool\u001b[39m, upsample_to: \u001b[38;5;28mstr\u001b[39m, interpolation_interval: \u001b[38;5;28mstr\u001b[39m,\n\u001b[1;32m    658\u001b[0m                              start: datetime, end: datetime, tz_name_home: \u001b[38;5;28mstr\u001b[39m) \u001b[38;5;241m-\u001b[39m\u001b[38;5;241m>\u001b[39m pd\u001b[38;5;241m.\u001b[39mDataFrame:\n\u001b[1;32m    659\u001b[0m     tz_system \u001b[38;5;241m=\u001b[39m \u001b[38;5;124m'\u001b[39m\u001b[38;5;124mUTC\u001b[39m\u001b[38;5;124m'\u001b[39m\n\u001b[0;32m--> 660\u001b[0m     timeseriesdata \u001b[38;5;241m=\u001b[39m \u001b[38;5;28;43mself\u001b[39;49m\u001b[38;5;241;43m.\u001b[39;49m\u001b[43mget\u001b[49m\u001b[43m(\u001b[49m\u001b[43mparameter\u001b[49m\u001b[43m)\u001b[49m\n\u001b[1;32m    661\u001b[0m     timeseriesdata\u001b[38;5;241m.\u001b[39mset_index(\u001b[38;5;124m'\u001b[39m\u001b[38;5;124mdatetime\u001b[39m\u001b[38;5;124m'\u001b[39m, inplace\u001b[38;5;241m=\u001b[39m\u001b[38;5;28;01mTrue\u001b[39;00m)\n\u001b[1;32m    662\u001b[0m     \u001b[38;5;28;01mif\u001b[39;00m tz_system \u001b[38;5;241m==\u001b[39m tz_name_home:\n",
      "File \u001b[0;32m~/twomes-twutility-inverse-grey-box-analysis/examples/../data/extractor.py:121\u001b[0m, in \u001b[0;36mExtractor.get\u001b[0;34m(self, name, operator, value)\u001b[0m\n\u001b[1;32m    118\u001b[0m     where \u001b[38;5;241m=\u001b[39m \u001b[38;5;124m'\u001b[39m\u001b[38;5;124m AND m.value \u001b[39m\u001b[38;5;124m'\u001b[39m \u001b[38;5;241m+\u001b[39m operator \u001b[38;5;241m+\u001b[39m \u001b[38;5;124m'\u001b[39m\u001b[38;5;124m \u001b[39m\u001b[38;5;132;01m%(value)s\u001b[39;00m\u001b[38;5;124m'\u001b[39m\n\u001b[1;32m    119\u001b[0m     var[\u001b[38;5;124m'\u001b[39m\u001b[38;5;124mvalue\u001b[39m\u001b[38;5;124m'\u001b[39m] \u001b[38;5;241m=\u001b[39m value\n\u001b[0;32m--> 121\u001b[0m \u001b[38;5;28;01mreturn\u001b[39;00m \u001b[38;5;28;43mself\u001b[39;49m\u001b[38;5;241;43m.\u001b[39;49m\u001b[43m__get\u001b[49m\u001b[43m(\u001b[49m\u001b[43mwhere\u001b[49m\u001b[43m,\u001b[49m\u001b[43m \u001b[49m\u001b[43mvar\u001b[49m\u001b[43m)\u001b[49m\n",
      "File \u001b[0;32m~/twomes-twutility-inverse-grey-box-analysis/examples/../data/extractor.py:180\u001b[0m, in \u001b[0;36mExtractor.__get\u001b[0;34m(self, where, var)\u001b[0m\n\u001b[1;32m    165\u001b[0m     var[\u001b[38;5;124m'\u001b[39m\u001b[38;5;124mend\u001b[39m\u001b[38;5;124m'\u001b[39m] \u001b[38;5;241m=\u001b[39m \u001b[38;5;124m\"\u001b[39m\u001b[38;5;132;01m%s\u001b[39;00m\u001b[38;5;124m\"\u001b[39m \u001b[38;5;241m%\u001b[39m \u001b[38;5;28mself\u001b[39m\u001b[38;5;241m.\u001b[39m__period\u001b[38;5;241m.\u001b[39mend\n\u001b[1;32m    167\u001b[0m sql \u001b[38;5;241m=\u001b[39m \u001b[38;5;124m\"\"\"\u001b[39m\n\u001b[1;32m    168\u001b[0m \u001b[38;5;124m    SELECT \u001b[39m\n\u001b[1;32m    169\u001b[0m \u001b[38;5;124m        m.id AS \u001b[39m\u001b[38;5;124m'\u001b[39m\u001b[38;5;124mindex\u001b[39m\u001b[38;5;124m'\u001b[39m\u001b[38;5;124m, \u001b[39m\n\u001b[0;32m   (...)\u001b[0m\n\u001b[1;32m    177\u001b[0m \u001b[38;5;124m    ORDER BY m.timestamp\u001b[39m\n\u001b[1;32m    178\u001b[0m \u001b[38;5;124m\u001b[39m\u001b[38;5;124m\"\"\"\u001b[39m\n\u001b[0;32m--> 180\u001b[0m \u001b[43mcursor\u001b[49m\u001b[38;5;241;43m.\u001b[39;49m\u001b[43mexecute\u001b[49m\u001b[43m(\u001b[49m\u001b[43msql\u001b[49m\u001b[43m,\u001b[49m\u001b[43m \u001b[49m\u001b[43mvar\u001b[49m\u001b[43m)\u001b[49m\n\u001b[1;32m    181\u001b[0m rows \u001b[38;5;241m=\u001b[39m cursor\u001b[38;5;241m.\u001b[39mfetchall()\n\u001b[1;32m    182\u001b[0m \u001b[38;5;28mself\u001b[39m\u001b[38;5;241m.\u001b[39m_close()\n",
      "File \u001b[0;32m/opt/conda/lib/python3.9/site-packages/mysql/connector/cursor_cext.py:269\u001b[0m, in \u001b[0;36mCMySQLCursor.execute\u001b[0;34m(self, operation, params, multi)\u001b[0m\n\u001b[1;32m    265\u001b[0m             \u001b[38;5;28;01mraise\u001b[39;00m errors\u001b[38;5;241m.\u001b[39mProgrammingError(\n\u001b[1;32m    266\u001b[0m                 \u001b[38;5;124m\"\u001b[39m\u001b[38;5;124mNot all parameters were used in the SQL statement\u001b[39m\u001b[38;5;124m\"\u001b[39m)\n\u001b[1;32m    268\u001b[0m \u001b[38;5;28;01mtry\u001b[39;00m:\n\u001b[0;32m--> 269\u001b[0m     result \u001b[38;5;241m=\u001b[39m \u001b[38;5;28;43mself\u001b[39;49m\u001b[38;5;241;43m.\u001b[39;49m\u001b[43m_cnx\u001b[49m\u001b[38;5;241;43m.\u001b[39;49m\u001b[43mcmd_query\u001b[49m\u001b[43m(\u001b[49m\u001b[43mstmt\u001b[49m\u001b[43m,\u001b[49m\u001b[43m \u001b[49m\u001b[43mraw\u001b[49m\u001b[38;5;241;43m=\u001b[39;49m\u001b[38;5;28;43mself\u001b[39;49m\u001b[38;5;241;43m.\u001b[39;49m\u001b[43m_raw\u001b[49m\u001b[43m,\u001b[49m\n\u001b[1;32m    270\u001b[0m \u001b[43m                                 \u001b[49m\u001b[43mbuffered\u001b[49m\u001b[38;5;241;43m=\u001b[39;49m\u001b[38;5;28;43mself\u001b[39;49m\u001b[38;5;241;43m.\u001b[39;49m\u001b[43m_buffered\u001b[49m\u001b[43m,\u001b[49m\n\u001b[1;32m    271\u001b[0m \u001b[43m                                 \u001b[49m\u001b[43mraw_as_string\u001b[49m\u001b[38;5;241;43m=\u001b[39;49m\u001b[38;5;28;43mself\u001b[39;49m\u001b[38;5;241;43m.\u001b[39;49m\u001b[43m_raw_as_string\u001b[49m\u001b[43m)\u001b[49m\n\u001b[1;32m    272\u001b[0m \u001b[38;5;28;01mexcept\u001b[39;00m MySQLInterfaceError \u001b[38;5;28;01mas\u001b[39;00m exc:\n\u001b[1;32m    273\u001b[0m     \u001b[38;5;28;01mraise\u001b[39;00m errors\u001b[38;5;241m.\u001b[39mget_mysql_exception(msg\u001b[38;5;241m=\u001b[39mexc\u001b[38;5;241m.\u001b[39mmsg, errno\u001b[38;5;241m=\u001b[39mexc\u001b[38;5;241m.\u001b[39merrno,\n\u001b[1;32m    274\u001b[0m                                      sqlstate\u001b[38;5;241m=\u001b[39mexc\u001b[38;5;241m.\u001b[39msqlstate)\n",
      "File \u001b[0;32m/opt/conda/lib/python3.9/site-packages/mysql/connector/connection_cext.py:535\u001b[0m, in \u001b[0;36mCMySQLConnection.cmd_query\u001b[0;34m(self, query, raw, buffered, raw_as_string)\u001b[0m\n\u001b[1;32m    533\u001b[0m     \u001b[38;5;28;01mif\u001b[39;00m \u001b[38;5;129;01mnot\u001b[39;00m \u001b[38;5;28misinstance\u001b[39m(query, \u001b[38;5;28mbytes\u001b[39m):\n\u001b[1;32m    534\u001b[0m         query \u001b[38;5;241m=\u001b[39m query\u001b[38;5;241m.\u001b[39mencode(\u001b[38;5;124m'\u001b[39m\u001b[38;5;124mutf-8\u001b[39m\u001b[38;5;124m'\u001b[39m)\n\u001b[0;32m--> 535\u001b[0m     \u001b[38;5;28;43mself\u001b[39;49m\u001b[38;5;241;43m.\u001b[39;49m\u001b[43m_cmysql\u001b[49m\u001b[38;5;241;43m.\u001b[39;49m\u001b[43mquery\u001b[49m\u001b[43m(\u001b[49m\u001b[43mquery\u001b[49m\u001b[43m,\u001b[49m\n\u001b[1;32m    536\u001b[0m \u001b[43m                       \u001b[49m\u001b[43mraw\u001b[49m\u001b[38;5;241;43m=\u001b[39;49m\u001b[43mraw\u001b[49m\u001b[43m,\u001b[49m\u001b[43m \u001b[49m\u001b[43mbuffered\u001b[49m\u001b[38;5;241;43m=\u001b[39;49m\u001b[43mbuffered\u001b[49m\u001b[43m,\u001b[49m\n\u001b[1;32m    537\u001b[0m \u001b[43m                       \u001b[49m\u001b[43mraw_as_string\u001b[49m\u001b[38;5;241;43m=\u001b[39;49m\u001b[43mraw_as_string\u001b[49m\u001b[43m,\u001b[49m\n\u001b[1;32m    538\u001b[0m \u001b[43m                       \u001b[49m\u001b[43mquery_attrs\u001b[49m\u001b[38;5;241;43m=\u001b[39;49m\u001b[38;5;28;43mself\u001b[39;49m\u001b[38;5;241;43m.\u001b[39;49m\u001b[43m_query_attrs\u001b[49m\u001b[43m)\u001b[49m\n\u001b[1;32m    539\u001b[0m \u001b[38;5;28;01mexcept\u001b[39;00m MySQLInterfaceError \u001b[38;5;28;01mas\u001b[39;00m exc:\n\u001b[1;32m    540\u001b[0m     \u001b[38;5;28;01mraise\u001b[39;00m errors\u001b[38;5;241m.\u001b[39mget_mysql_exception(exc\u001b[38;5;241m.\u001b[39merrno, msg\u001b[38;5;241m=\u001b[39mexc\u001b[38;5;241m.\u001b[39mmsg,\n\u001b[1;32m    541\u001b[0m                                      sqlstate\u001b[38;5;241m=\u001b[39mexc\u001b[38;5;241m.\u001b[39msqlstate)\n",
      "\u001b[0;31mKeyboardInterrupt\u001b[0m: "
     ]
    }
   ],
   "source": [
    "# get interpolated data from the Twomes database and combine with weather data already obtained\n",
    "df_data_homes = Extractor.get_interpolated_twomes_data(homes, start, end, timezone_homes, sampling_interval, df_weather)"
   ]
  },
  {
   "cell_type": "code",
   "execution_count": null,
   "metadata": {},
   "outputs": [],
   "source": [
    "# see what the extracted and interpolated data looks like\n",
    "df_data_homes"
   ]
  },
  {
   "cell_type": "code",
   "execution_count": null,
   "metadata": {},
   "outputs": [],
   "source": [
    "# how to select data from a single home\n",
    "df_data_homes[df_data_homes['homepseudonym'] == 817341]"
   ]
  },
  {
   "cell_type": "code",
   "execution_count": null,
   "metadata": {},
   "outputs": [],
   "source": [
    "# plot temperature data of multiple homes from an array \n",
    "\n",
    "for home_id in homes:\n",
    "    df_data_one_home = df_data_homes[df_data_homes['homepseudonym'] == home_id]\n",
    "    Plot.weather_and_other_temperatures(home_id, df_data_one_home, ['indoor_temp_degC'])\n",
    "\n",
    "# N.B. The resulting figure below can be manipulated interactively; hover with mouse for tips & tricks\n"
   ]
  },
  {
   "cell_type": "code",
   "execution_count": null,
   "metadata": {},
   "outputs": [],
   "source": [
    "#plot a series of weeks for all homes\n",
    "plt.ioff()\n",
    "\n",
    "for home_id in homes:\n",
    "    df_data_one_home = df_data_homes[df_data_homes['homepseudonym'] == home_id]\n",
    "    for moving_horizon_start in pd.date_range(start=start, end=end, inclusive='left', freq='7D'):\n",
    "        moving_horizon_end = min(end, moving_horizon_start + timedelta(days=7))\n",
    "        df_moving_horizon = df_data_one_home[moving_horizon_start:moving_horizon_end]\n",
    "        Plot.weather_and_other_temperatures(home_id, df_moving_horizon, ['indoor_temp_degC'])\n",
    "\n",
    "plt.ion()  \n",
    "    "
   ]
  },
  {
   "cell_type": "code",
   "execution_count": null,
   "metadata": {
    "tags": []
   },
   "outputs": [],
   "source": [
    "%%time \n",
    "%autoreload 2\n",
    "\n",
    "# uncomment lines below if you need something other than the defaults\n",
    "homes_to_analyze = [817341]\n",
    "start_analysis_period = pytz.timezone(timezone_homes).localize(datetime(2022, 1, 3))\n",
    "end_analysis_period = pytz.timezone(timezone_homes).localize(datetime(2022, 1, 9))\n",
    "moving_horizon_duration_d = 3\n",
    "df_results = Learner.learn_home_parameter_moving_horizon(df_data_homes, moving_horizon_duration_d, homes_to_analyze, start_analysis_period, end_analysis_period, showdetails=True)\n",
    "\n",
    "# or: uncomment lines below if you want to analyse all homes for all periods with a default moving horizon duration of 7 days\n",
    "# df_results = Learner.learn_home_parameter_moving_horizon(df_data_homes)\n",
    "\n",
    "df = df_results\n",
    "for col in df.select_dtypes(['datetimetz']).columns:\n",
    "    df[col] = df[col].dt.tz_localize(None)\n",
    "df.to_excel('result.xlsx')"
   ]
  },
  {
   "cell_type": "code",
   "execution_count": null,
   "metadata": {},
   "outputs": [],
   "source": [
    "#show the results\n",
    "df_results"
   ]
  }
 ],
 "metadata": {
  "kernelspec": {
   "display_name": "Python 3 (ipykernel)",
   "language": "python",
   "name": "python3"
  },
  "language_info": {
   "codemirror_mode": {
    "name": "ipython",
    "version": 3
   },
   "file_extension": ".py",
   "mimetype": "text/x-python",
   "name": "python",
   "nbconvert_exporter": "python",
   "pygments_lexer": "ipython3",
   "version": "3.9.12"
  }
 },
 "nbformat": 4,
 "nbformat_minor": 4
}
