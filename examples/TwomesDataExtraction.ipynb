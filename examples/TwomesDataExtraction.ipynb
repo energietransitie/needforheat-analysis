{
 "cells": [
  {
   "cell_type": "code",
   "execution_count": null,
   "metadata": {},
   "outputs": [],
   "source": [
    "from datetime import datetime, timedelta\n",
    "import pytz\n",
    "import math\n",
    "import pylab as plt\n",
    "\n",
    "import pandas as pd\n",
    "import numpy as np\n",
    "\n",
    "import sys\n",
    "sys.path.append('../data/')\n",
    "sys.path.append('../view/')\n",
    "sys.path.append('../analysis/')\n",
    "\n",
    "%load_ext autoreload\n",
    "\n",
    "%matplotlib widget\n",
    "from plotter import Plot\n",
    "from filewriter import ExcelWriter as ex\n",
    "\n",
    "from extractor import WeatherExtractor, Extractor, Period\n",
    "\n",
    "from inversegreyboxmodel import Learner\n",
    "\n",
    "n_std_outliers = 3.0 # default for the multiplier of the the standard deviation; further out than this times the std, outliers are removed during preprocessing\n",
    "up_intv = '5min' # the default upsampling interval that is used before interpolation is done\n",
    "gap_n_intv = 11 # the default maximum number of consecutive NaNs to fill(one for each upsampling interval), i.e. valid measurement values (11+1)* 5 min = 1 hour apart apart will be bridget by interpolation, but not more\n",
    "sampling_interval = '15min' # the default interval on which interpolation will be done during preprocessing\n",
    "moving_horizon_duration_d = 7\n",
    "\n",
    "#location: center of Assendorp neighbourhood in Zwolle\n",
    "lat, lon = 52.5065500000, 6.0996100000\n",
    "\n",
    "#timezone: \n",
    "timezone_homes = 'Europe/Amsterdam'\n",
    "\n",
    "# TODO: get list of pseudonyms, (valid) dates and reference parameters from Excel file?  \n",
    "# utimately: #min, max dates of the analysis\n",
    "start = pytz.timezone(timezone_homes).localize(datetime(2021, 10, 21))\n",
    "end = pytz.timezone(timezone_homes).localize(datetime(2022, 5, 12))\n",
    "homes = [815925, 817341, 857477, 873985, 879481, 895671, 864296, 845997, 881611, 822479, 831062, 830088, 811308, 809743, 829947, 803422, 886307, 846697, 845966, 839440, 805164, 899510, 897349]\n",
    "reversedhomes = [803422, 805164, 809743, 811308, 815925, 817341, 822479, 829947, 830088, 831062, 839440, 845966, 845997, 846697, 857477, 864296, 873985, 879481, 881611, 886307, 895671, 897349, 899510]"
   ]
  },
  {
   "cell_type": "code",
   "execution_count": null,
   "metadata": {},
   "outputs": [],
   "source": [
    "#check whether the datetime object is properly timezone-aware\n",
    "start"
   ]
  },
  {
   "cell_type": "code",
   "execution_count": null,
   "metadata": {},
   "outputs": [],
   "source": [
    "#check whether the datetime object is properly timezone-aware\n",
    "end"
   ]
  },
  {
   "cell_type": "code",
   "execution_count": null,
   "metadata": {},
   "outputs": [],
   "source": [
    "%%time \n",
    "%autoreload 2\n",
    "# get geospatially interpolated weather from KNMI\n",
    "# for Twomes, the Weather for all all homes studies can be approached by a single location\n",
    "# get the dataframe only once for all homes to save time\n",
    "\n",
    "df_weather = WeatherExtractor.get_interpolated_weather_nl(start, end, lat, lon, timezone_homes, sampling_interval)"
   ]
  },
  {
   "cell_type": "code",
   "execution_count": null,
   "metadata": {},
   "outputs": [],
   "source": [
    "df_weather"
   ]
  },
  {
   "cell_type": "code",
   "execution_count": null,
   "metadata": {},
   "outputs": [],
   "source": [
    "%%time \n",
    "# get interpolated data from the Twomes database and combine with weather data already obtained\n",
    "\n",
    "\n",
    "# Optionally: oveerride homes and dates for which to get data\n",
    "homes_to_extract =  [803422, 805164, 817341, 886307, 873985]\n",
    "# homes_to_extract =  homes\n",
    "\n",
    "start_extraction = pytz.timezone(timezone_homes).localize(datetime(2022, 1, 3))\n",
    "end_extraction = pytz.timezone(timezone_homes).localize(datetime(2022, 1, 6))\n",
    "# start_extraction = start\n",
    "# end_extraction = end\n",
    "\n",
    "df_data_homes = Extractor.get_preprocessed_homes_data(homes_to_extract, start_extraction, end_extraction, n_std_outliers, up_intv, gap_n_intv, sampling_interval, timezone_homes, df_weather)"
   ]
  },
  {
   "cell_type": "code",
   "execution_count": null,
   "metadata": {},
   "outputs": [],
   "source": [
    "# see what the extracted and interpolated data looks like\n",
    "df_data_homes"
   ]
  },
  {
   "cell_type": "code",
   "execution_count": null,
   "metadata": {},
   "outputs": [],
   "source": [
    "%%time \n",
    "%autoreload 2\n",
    "\n",
    "filename_prefix = datetime.now().astimezone(pytz.timezone('Europe/Amsterdam')).replace(microsecond=0).isoformat().replace(\":\",\"\")\n",
    "ex.write(df_data_homes, str('{0}-data_homes-{1}-{2}.xlsx'.format(filename_prefix, start.isoformat(),end.isoformat())))"
   ]
  },
  {
   "cell_type": "code",
   "execution_count": null,
   "metadata": {},
   "outputs": [],
   "source": [
    "# plot temperature data\n",
    "\n",
    "Plot.weather_and_other_temperatures('Weather in Assendorp, Zwolle', df_weather)\n",
    "\n",
    "# N.B. The resulting figure below can be manipulated interactively; hover with mouse for tips & tricks"
   ]
  },
  {
   "cell_type": "code",
   "execution_count": null,
   "metadata": {},
   "outputs": [],
   "source": [
    "# how to select data from a single home\n",
    "# df_data_homes[df_data_homes['homepseudonym'] == 817341]"
   ]
  },
  {
   "cell_type": "code",
   "execution_count": null,
   "metadata": {
    "tags": []
   },
   "outputs": [],
   "source": [
    "%%time \n",
    "%autoreload 2\n",
    "\n",
    "# homes with most data\n",
    "# homes_to_analyse = [886307, 873985, 817341]\n",
    "# start_analysis_period = pytz.timezone(timezone_homes).localize(datetime(2021, 12, 20))\n",
    "# end_analysis_period = pytz.timezone(timezone_homes).localize(datetime(2022, 1, 18))\n",
    "# date and times of seemingly valid periods for short set of 3 \n",
    "# 886307\t2021-12-19 18:55\t2022-03-17 09:37\n",
    "# 873985\t2021-12-20 12:54\t2022-03-17 17:54\n",
    "# 817341\t2022-01-14 20:27\t2022-03-17 18:15\n",
    "    \n",
    "# homes_to_analyze = [817341]\n",
    "homes_to_analyse = homes_to_extract\n",
    "# homes_to_analyse = homes\n",
    "\n",
    "# use comment/ncomment lines below if you want the default values for full analysis\n",
    "start_analysis_period = start_extraction\n",
    "end_analysis_period = end_extraction\n",
    "# start_analysis_period = start\n",
    "# end_analysis_period = end\n",
    "\n",
    "# Use one of the lines below to set the moving horizon duration used for analysis \n",
    "moving_horizon_duration_d_analysis = 2\n",
    "# moving_horizon_duration_d_analysis = moving_horizon_duration_d\n",
    "\n",
    "# learn the model parameters and write rerults an intermediate results to excel files\n",
    "df_results = Learner.learn_home_parameter_moving_horizon(df_data_homes, \n",
    "                                                         n_std_outliers, up_intv, gap_n_intv, sampling_interval, \n",
    "                                                         moving_horizon_duration_d_analysis,\n",
    "                                                         homes_to_analyze,\n",
    "                                                         start_analysis_period, end_analysis_period, \n",
    "                                                         showdetails=False, A_m2=6.0)"
   ]
  },
  {
   "cell_type": "code",
   "execution_count": null,
   "metadata": {},
   "outputs": [],
   "source": [
    "#show the results\n",
    "df_results"
   ]
  },
  {
   "cell_type": "code",
   "execution_count": null,
   "metadata": {},
   "outputs": [],
   "source": [
    "# plot temperature data of multiple homes from an array \n",
    "# %autoreload 2\n",
    "# for home_id in homes:\n",
    "#     df_data_one_home = df_data_homes[df_data_homes['homepseudonym'] == home_id]\n",
    "#     Plot.weather_and_other_temperatures(home_id, df_data_one_home, [('indoor_temp_degC','r'),('indoor_setpoint_temp_degC','g')])\n",
    "\n",
    "# # N.B. The resulting figure below can be manipulated interactively; hover with mouse for tips & tricks\n"
   ]
  },
  {
   "cell_type": "code",
   "execution_count": null,
   "metadata": {},
   "outputs": [],
   "source": [
    "#plot a series of weeks for all homes\n",
    "# plt.ioff()\n",
    "\n",
    "# for home_id in homes:\n",
    "#     df_data_one_home = df_data_homes[df_data_homes['homepseudonym'] == home_id]\n",
    "#     for moving_horizon_start in pd.date_range(start=start, end=end, inclusive='left', freq='7D'):\n",
    "#         moving_horizon_end = min(end, moving_horizon_start + timedelta(days=7))\n",
    "#         df_moving_horizon = df_data_one_home[moving_horizon_start:moving_horizon_end]\n",
    "#         Plot.weather_and_other_temperatures(home_id, df_moving_horizon, ['indoor_temp_degC'])\n",
    "\n",
    "# plt.ion()  \n",
    "    "
   ]
  },
  {
   "cell_type": "code",
   "execution_count": null,
   "metadata": {},
   "outputs": [],
   "source": []
  }
 ],
 "metadata": {
  "kernelspec": {
   "display_name": "Python 3 (ipykernel)",
   "language": "python",
   "name": "python3"
  },
  "language_info": {
   "codemirror_mode": {
    "name": "ipython",
    "version": 3
   },
   "file_extension": ".py",
   "mimetype": "text/x-python",
   "name": "python",
   "nbconvert_exporter": "python",
   "pygments_lexer": "ipython3",
   "version": "3.9.12"
  }
 },
 "nbformat": 4,
 "nbformat_minor": 4
}
