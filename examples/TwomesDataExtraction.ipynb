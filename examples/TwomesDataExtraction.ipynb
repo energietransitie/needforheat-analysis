{
 "cells": [
  {
   "cell_type": "code",
   "execution_count": 1,
   "metadata": {},
   "outputs": [],
   "source": [
    "from datetime import datetime, timedelta\n",
    "import pytz\n",
    "import math\n",
    "import pylab as plt\n",
    "\n",
    "import pandas as pd\n",
    "import numpy as np\n",
    "\n",
    "import sys\n",
    "sys.path.append('../data/')\n",
    "sys.path.append('../view/')\n",
    "sys.path.append('../analysis/')\n",
    "\n",
    "%load_ext autoreload\n",
    "\n",
    "%matplotlib widget\n",
    "from plotter import Plot\n",
    "from filewriter import ExcelWriter as ex\n",
    "\n",
    "from extractor import WeatherExtractor, Extractor, Period\n",
    "\n",
    "from inversegreyboxmodel import Learner\n",
    "\n",
    "import logging\n",
    "logger = logging.getLogger('Twomes data extraction')\n",
    "logger.setLevel(logging.NOTSET)\n",
    "\n",
    "\n",
    "\n",
    "n_std_outliers = 3.0 # default for the multiplier of the the standard deviation; further out than this times the std, outliers are removed during preprocessing\n",
    "up_intv = '5min' # the default upsampling interval that is used before interpolation is done\n",
    "gap_n_intv = 11 # the default maximum number of consecutive NaNs to fill(one for each upsampling interval), i.e. valid measurement values (11+1)* 5 min = 1 hour apart apart will be bridget by interpolation, but not more\n",
    "sampling_interval = '15min' # the default interval on which interpolation will be done during preprocessing\n",
    "moving_horizon_duration_d = 7\n",
    "required_columns_for_sanity = ['home_id', 'outdoor_eff_temp_avg_C', 'irradiation_hor_avg_W_per_m2', 'indoor_temp_avg_C', 'gas_sup_avg_W', 'e_remaining_heat_avg_W', 'interval_s']\n",
    "        \n",
    "\n",
    "sanity_fraction = 0.5\n",
    "\n",
    "#location: center of Assendorp neighbourhood in Zwolle\n",
    "lat, lon = 52.5065500000, 6.0996100000\n",
    "\n",
    "#timezone: \n",
    "timezone_database = 'UTC'\n",
    "timezone_homes = 'Europe/Amsterdam'\n",
    "\n",
    "# TODO: get list of pseudonyms, (valid) dates and reference parameters from Excel file?  \n",
    "# utimately: #min, max dates of the analysis\n",
    "first_day = pytz.timezone(timezone_homes).localize(datetime(2021, 10, 25))\n",
    "last_day = pytz.timezone(timezone_homes).localize(datetime(2022, 5, 8))\n",
    "# first_day = pytz.timezone(timezone_homes).localize(datetime(2022, 1, 3))\n",
    "# last_day = pytz.timezone(timezone_homes).localize(datetime(2022, 1, 24))\n",
    "\n",
    "# homes = [803422, 805164, 809743, 811308, 815925, 817341, 822479, 829947, 830088, 831062, 839440, 845966, 845997, 846697, 857477, 864296, 873985, 879481, 881611, 886307, 895671, 897349, 899510]\n",
    "# reversedhomes = [899510, 897349, 895671, 886307, 881611, 879481, 873985, 864296, 857477, 846697, 845997, 845966, 839440, 831062, 830088, 829947, 822479, 817341, 815925, 811308, 809743, 805164, 803422]\n",
    "# Optionally: oveerride homes and dates for which to get data\n",
    "homes =  [803422]\n",
    "# homes =  [817341, 886307, 873985, 803422, 805164]\n",
    "\n",
    "#homes with problematic smart meter timestamps:\n",
    "# homes =  [895671, 809743, 815925]\n",
    "        \n"
   ]
  },
  {
   "cell_type": "code",
   "execution_count": 2,
   "metadata": {},
   "outputs": [
    {
     "name": "stdout",
     "output_type": "stream",
     "text": [
      "2021-10-25 00:00:00+02:00 Europe/Amsterdam\n"
     ]
    }
   ],
   "source": [
    "#check whether the datetime object is properly timezone-aware\n",
    "print(first_day, first_day.tzinfo)\n"
   ]
  },
  {
   "cell_type": "code",
   "execution_count": 3,
   "metadata": {},
   "outputs": [
    {
     "name": "stdout",
     "output_type": "stream",
     "text": [
      "2022-05-08 00:00:00+02:00 Europe/Amsterdam\n"
     ]
    }
   ],
   "source": [
    "#check whether the datetime object is properly timezone-aware\n",
    "print(last_day, first_day.tzinfo)"
   ]
  },
  {
   "cell_type": "code",
   "execution_count": 4,
   "metadata": {},
   "outputs": [
    {
     "name": "stdout",
     "output_type": "stream",
     "text": [
      "weather_extractor_starttime:  2021-10-24 23:00:00+02:00\n",
      "weather_extractor_endtime:  2022-05-09 01:00:00+02:00\n",
      "CPU times: user 48.3 ms, sys: 6.65 ms, total: 54.9 ms\n",
      "Wall time: 53.5 ms\n"
     ]
    }
   ],
   "source": [
    "%%time \n",
    "%autoreload 2\n",
    "# get geospatially interpolated weather from KNMI\n",
    "# for Twomes, the Weather for all all homes studies can be approached by a single location\n",
    "# get the dataframe only once for all homes to save time\n",
    "tz_knmi='Europe/Amsterdam'\n",
    "\n",
    "df_weather = WeatherExtractor.get_interpolated_weather_nl(first_day, last_day, lat, lon, tz_knmi, timezone_homes, sampling_interval)"
   ]
  },
  {
   "cell_type": "code",
   "execution_count": 5,
   "metadata": {},
   "outputs": [
    {
     "data": {
      "text/html": [
       "<div>\n",
       "<style scoped>\n",
       "    .dataframe tbody tr th:only-of-type {\n",
       "        vertical-align: middle;\n",
       "    }\n",
       "\n",
       "    .dataframe tbody tr th {\n",
       "        vertical-align: top;\n",
       "    }\n",
       "\n",
       "    .dataframe thead th {\n",
       "        text-align: right;\n",
       "    }\n",
       "</style>\n",
       "<table border=\"1\" class=\"dataframe\">\n",
       "  <thead>\n",
       "    <tr style=\"text-align: right;\">\n",
       "      <th></th>\n",
       "      <th>outdoor_temp_avg_C</th>\n",
       "      <th>wind_m_per_s_avg</th>\n",
       "      <th>irradiation_hor_avg_W_per_m2</th>\n",
       "      <th>outdoor_eff_temp_avg_C</th>\n",
       "    </tr>\n",
       "  </thead>\n",
       "  <tbody>\n",
       "    <tr>\n",
       "      <th>2021-10-25 00:00:00+02:00</th>\n",
       "      <td>5.466645</td>\n",
       "      <td>2.604638</td>\n",
       "      <td>0.0</td>\n",
       "      <td>3.730219</td>\n",
       "    </tr>\n",
       "    <tr>\n",
       "      <th>2021-10-25 00:15:00+02:00</th>\n",
       "      <td>5.541461</td>\n",
       "      <td>2.625970</td>\n",
       "      <td>0.0</td>\n",
       "      <td>3.790814</td>\n",
       "    </tr>\n",
       "    <tr>\n",
       "      <th>2021-10-25 00:30:00+02:00</th>\n",
       "      <td>5.616278</td>\n",
       "      <td>2.647303</td>\n",
       "      <td>0.0</td>\n",
       "      <td>3.851410</td>\n",
       "    </tr>\n",
       "    <tr>\n",
       "      <th>2021-10-25 00:45:00+02:00</th>\n",
       "      <td>5.691095</td>\n",
       "      <td>2.668635</td>\n",
       "      <td>0.0</td>\n",
       "      <td>3.912005</td>\n",
       "    </tr>\n",
       "    <tr>\n",
       "      <th>2021-10-25 01:00:00+02:00</th>\n",
       "      <td>5.765911</td>\n",
       "      <td>2.689967</td>\n",
       "      <td>0.0</td>\n",
       "      <td>3.972600</td>\n",
       "    </tr>\n",
       "    <tr>\n",
       "      <th>...</th>\n",
       "      <td>...</td>\n",
       "      <td>...</td>\n",
       "      <td>...</td>\n",
       "      <td>...</td>\n",
       "    </tr>\n",
       "    <tr>\n",
       "      <th>2022-05-08 22:45:00+02:00</th>\n",
       "      <td>5.679318</td>\n",
       "      <td>1.235572</td>\n",
       "      <td>0.0</td>\n",
       "      <td>4.855603</td>\n",
       "    </tr>\n",
       "    <tr>\n",
       "      <th>2022-05-08 23:00:00+02:00</th>\n",
       "      <td>5.336775</td>\n",
       "      <td>1.170658</td>\n",
       "      <td>0.0</td>\n",
       "      <td>4.556336</td>\n",
       "    </tr>\n",
       "    <tr>\n",
       "      <th>2022-05-08 23:15:00+02:00</th>\n",
       "      <td>5.042697</td>\n",
       "      <td>1.170658</td>\n",
       "      <td>0.0</td>\n",
       "      <td>4.262258</td>\n",
       "    </tr>\n",
       "    <tr>\n",
       "      <th>2022-05-08 23:30:00+02:00</th>\n",
       "      <td>4.748619</td>\n",
       "      <td>1.170658</td>\n",
       "      <td>0.0</td>\n",
       "      <td>3.968181</td>\n",
       "    </tr>\n",
       "    <tr>\n",
       "      <th>2022-05-08 23:45:00+02:00</th>\n",
       "      <td>4.454542</td>\n",
       "      <td>1.170658</td>\n",
       "      <td>0.0</td>\n",
       "      <td>3.674103</td>\n",
       "    </tr>\n",
       "  </tbody>\n",
       "</table>\n",
       "<p>18816 rows × 4 columns</p>\n",
       "</div>"
      ],
      "text/plain": [
       "                           outdoor_temp_avg_C  wind_m_per_s_avg  \\\n",
       "2021-10-25 00:00:00+02:00            5.466645          2.604638   \n",
       "2021-10-25 00:15:00+02:00            5.541461          2.625970   \n",
       "2021-10-25 00:30:00+02:00            5.616278          2.647303   \n",
       "2021-10-25 00:45:00+02:00            5.691095          2.668635   \n",
       "2021-10-25 01:00:00+02:00            5.765911          2.689967   \n",
       "...                                       ...               ...   \n",
       "2022-05-08 22:45:00+02:00            5.679318          1.235572   \n",
       "2022-05-08 23:00:00+02:00            5.336775          1.170658   \n",
       "2022-05-08 23:15:00+02:00            5.042697          1.170658   \n",
       "2022-05-08 23:30:00+02:00            4.748619          1.170658   \n",
       "2022-05-08 23:45:00+02:00            4.454542          1.170658   \n",
       "\n",
       "                           irradiation_hor_avg_W_per_m2  \\\n",
       "2021-10-25 00:00:00+02:00                           0.0   \n",
       "2021-10-25 00:15:00+02:00                           0.0   \n",
       "2021-10-25 00:30:00+02:00                           0.0   \n",
       "2021-10-25 00:45:00+02:00                           0.0   \n",
       "2021-10-25 01:00:00+02:00                           0.0   \n",
       "...                                                 ...   \n",
       "2022-05-08 22:45:00+02:00                           0.0   \n",
       "2022-05-08 23:00:00+02:00                           0.0   \n",
       "2022-05-08 23:15:00+02:00                           0.0   \n",
       "2022-05-08 23:30:00+02:00                           0.0   \n",
       "2022-05-08 23:45:00+02:00                           0.0   \n",
       "\n",
       "                           outdoor_eff_temp_avg_C  \n",
       "2021-10-25 00:00:00+02:00                3.730219  \n",
       "2021-10-25 00:15:00+02:00                3.790814  \n",
       "2021-10-25 00:30:00+02:00                3.851410  \n",
       "2021-10-25 00:45:00+02:00                3.912005  \n",
       "2021-10-25 01:00:00+02:00                3.972600  \n",
       "...                                           ...  \n",
       "2022-05-08 22:45:00+02:00                4.855603  \n",
       "2022-05-08 23:00:00+02:00                4.556336  \n",
       "2022-05-08 23:15:00+02:00                4.262258  \n",
       "2022-05-08 23:30:00+02:00                3.968181  \n",
       "2022-05-08 23:45:00+02:00                3.674103  \n",
       "\n",
       "[18816 rows x 4 columns]"
      ]
     },
     "execution_count": 5,
     "metadata": {},
     "output_type": "execute_result"
    }
   ],
   "source": [
    "df_weather"
   ]
  },
  {
   "cell_type": "code",
   "execution_count": 6,
   "metadata": {},
   "outputs": [
    {
     "data": {
      "text/html": [
       "<div>\n",
       "<style scoped>\n",
       "    .dataframe tbody tr th:only-of-type {\n",
       "        vertical-align: middle;\n",
       "    }\n",
       "\n",
       "    .dataframe tbody tr th {\n",
       "        vertical-align: top;\n",
       "    }\n",
       "\n",
       "    .dataframe thead th {\n",
       "        text-align: right;\n",
       "    }\n",
       "</style>\n",
       "<table border=\"1\" class=\"dataframe\">\n",
       "  <thead>\n",
       "    <tr style=\"text-align: right;\">\n",
       "      <th></th>\n",
       "      <th>outdoor_temp_avg_C</th>\n",
       "      <th>wind_m_per_s_avg</th>\n",
       "      <th>irradiation_hor_avg_W_per_m2</th>\n",
       "      <th>outdoor_eff_temp_avg_C</th>\n",
       "    </tr>\n",
       "  </thead>\n",
       "  <tbody>\n",
       "    <tr>\n",
       "      <th>count</th>\n",
       "      <td>18816.000000</td>\n",
       "      <td>1.881600e+04</td>\n",
       "      <td>18816.000000</td>\n",
       "      <td>18816.000000</td>\n",
       "    </tr>\n",
       "    <tr>\n",
       "      <th>mean</th>\n",
       "      <td>6.776625</td>\n",
       "      <td>3.628360e+00</td>\n",
       "      <td>82.295479</td>\n",
       "      <td>4.357718</td>\n",
       "    </tr>\n",
       "    <tr>\n",
       "      <th>std</th>\n",
       "      <td>4.261880</td>\n",
       "      <td>2.145596e+00</td>\n",
       "      <td>159.753893</td>\n",
       "      <td>4.143159</td>\n",
       "    </tr>\n",
       "    <tr>\n",
       "      <th>min</th>\n",
       "      <td>-5.675577</td>\n",
       "      <td>-1.976263e-323</td>\n",
       "      <td>0.000000</td>\n",
       "      <td>-8.649752</td>\n",
       "    </tr>\n",
       "    <tr>\n",
       "      <th>25%</th>\n",
       "      <td>3.980206</td>\n",
       "      <td>2.090136e+00</td>\n",
       "      <td>0.000000</td>\n",
       "      <td>1.561753</td>\n",
       "    </tr>\n",
       "    <tr>\n",
       "      <th>50%</th>\n",
       "      <td>6.697973</td>\n",
       "      <td>3.259655e+00</td>\n",
       "      <td>0.000000</td>\n",
       "      <td>4.190069</td>\n",
       "    </tr>\n",
       "    <tr>\n",
       "      <th>75%</th>\n",
       "      <td>9.483935</td>\n",
       "      <td>4.768622e+00</td>\n",
       "      <td>80.148505</td>\n",
       "      <td>6.968198</td>\n",
       "    </tr>\n",
       "    <tr>\n",
       "      <th>max</th>\n",
       "      <td>20.504261</td>\n",
       "      <td>1.682201e+01</td>\n",
       "      <td>849.062087</td>\n",
       "      <td>18.101169</td>\n",
       "    </tr>\n",
       "  </tbody>\n",
       "</table>\n",
       "</div>"
      ],
      "text/plain": [
       "       outdoor_temp_avg_C  wind_m_per_s_avg  irradiation_hor_avg_W_per_m2  \\\n",
       "count        18816.000000      1.881600e+04                  18816.000000   \n",
       "mean             6.776625      3.628360e+00                     82.295479   \n",
       "std              4.261880      2.145596e+00                    159.753893   \n",
       "min             -5.675577    -1.976263e-323                      0.000000   \n",
       "25%              3.980206      2.090136e+00                      0.000000   \n",
       "50%              6.697973      3.259655e+00                      0.000000   \n",
       "75%              9.483935      4.768622e+00                     80.148505   \n",
       "max             20.504261      1.682201e+01                    849.062087   \n",
       "\n",
       "       outdoor_eff_temp_avg_C  \n",
       "count            18816.000000  \n",
       "mean                 4.357718  \n",
       "std                  4.143159  \n",
       "min                 -8.649752  \n",
       "25%                  1.561753  \n",
       "50%                  4.190069  \n",
       "75%                  6.968198  \n",
       "max                 18.101169  "
      ]
     },
     "execution_count": 6,
     "metadata": {},
     "output_type": "execute_result"
    }
   ],
   "source": [
    "#see more statisctics about the weather data\n",
    "df_weather.describe(include='all')"
   ]
  },
  {
   "cell_type": "code",
   "execution_count": null,
   "metadata": {},
   "outputs": [
    {
     "data": {
      "application/vnd.jupyter.widget-view+json": {
       "model_id": "ae64900f9366416ab188468dc4b8182e",
       "version_major": 2,
       "version_minor": 0
      },
      "text/plain": [
       "  0%|          | 0/1 [00:00<?, ?it/s]"
      ]
     },
     "metadata": {},
     "output_type": "display_data"
    },
    {
     "name": "stdout",
     "output_type": "stream",
     "text": [
      "Retrieving data for home 803422 from 2021-10-24T21:00:00+00:00 to 2022-05-08T23:00:00+00:00 ...\n"
     ]
    }
   ],
   "source": [
    "%%time \n",
    "# get interpolated data from the Twomes database and combine with weather data already obtained\n",
    "\n",
    "logger.setLevel(logging.INFO)\n",
    "\n",
    "\n",
    "df_data_homes = Extractor.get_preprocessed_homes_data(homes, first_day, last_day, timezone_database, timezone_homes,\n",
    "                                                      up_intv, gap_n_intv, sampling_interval, \n",
    "                                                      required_columns_for_sanity,\n",
    "                                                      df_weather)\n",
    "logger.setLevel(logging.NOTSET)\n"
   ]
  },
  {
   "cell_type": "code",
   "execution_count": null,
   "metadata": {},
   "outputs": [],
   "source": [
    "print('df_data_homes.index[0]: ', df_data_homes.index[0])"
   ]
  },
  {
   "cell_type": "code",
   "execution_count": null,
   "metadata": {},
   "outputs": [],
   "source": [
    "df_data_homes"
   ]
  },
  {
   "cell_type": "code",
   "execution_count": null,
   "metadata": {},
   "outputs": [],
   "source": [
    "#see more statisctics\n",
    "df_data_homes.describe(include='all')"
   ]
  },
  {
   "cell_type": "code",
   "execution_count": null,
   "metadata": {},
   "outputs": [],
   "source": [
    "# present some sanity metrics for the extracted data\n",
    "total_measurement_time = timedelta(seconds = df_data_homes['interval_s'].sum())\n",
    "print('Total measurement time: ', total_measurement_time)\n",
    "sane_fraction = df_data_homes['sanity_frac'].mean()\n",
    "print('Sane fraction measurement time: {:.2f}'.format(sane_fraction))\n",
    "sane_measurement_time = total_measurement_time * sane_fraction\n",
    "print('Sane  measurement time: ', sane_measurement_time)"
   ]
  },
  {
   "cell_type": "code",
   "execution_count": null,
   "metadata": {},
   "outputs": [],
   "source": [
    "%%time \n",
    "%autoreload 2\n",
    "\n",
    "filename_prefix = datetime.now().astimezone(pytz.timezone('Europe/Amsterdam')).replace(microsecond=0).isoformat().replace(\":\",\"\")\n",
    "ex.write(df_data_homes, str('{0}-data_homes-{1}-{2}.xlsx'.format(filename_prefix, first_day.isoformat(),first_day.isoformat())))"
   ]
  },
  {
   "cell_type": "code",
   "execution_count": null,
   "metadata": {},
   "outputs": [],
   "source": [
    "# plot temperature data\n",
    "logger.setLevel(logging.NOTSET)\n",
    "Plot.weather_and_other_temperatures('Weather in Assendorp, Zwolle', df_weather)\n",
    "\n",
    "# N.B. The resulting figure below can be manipulated interactively; hover with mouse for tips & tricks"
   ]
  },
  {
   "cell_type": "code",
   "execution_count": null,
   "metadata": {},
   "outputs": [],
   "source": [
    "# how to select data from a single home\n",
    "# df_data_homes.loc[817341]"
   ]
  },
  {
   "cell_type": "code",
   "execution_count": null,
   "metadata": {
    "tags": []
   },
   "outputs": [],
   "source": [
    "%%time \n",
    "%autoreload 2\n",
    "\n",
    "# homes with most data\n",
    "# homes_to_analyse = [886307, 873985, 817341]\n",
    "# start_analysis_period = pytz.timezone(timezone_homes).localize(datetime(2021, 12, 20))\n",
    "# end_analysis_period = pytz.timezone(timezone_homes).localize(datetime(2022, 1, 18))\n",
    "# date and times of seemingly valid periods for short set of 3 \n",
    "# 886307\t2021-12-19 18:55\t2022-03-17 09:37\n",
    "# 873985\t2021-12-20 12:54\t2022-03-17 17:54\n",
    "# 817341\t2022-01-14 20:27\t2022-03-17 18:15\n",
    "    \n",
    "sanity_fraction_analysis = sanity_fraction\n",
    "\n",
    "# Use one of the lines below to set the moving horizon duration used for analysis \n",
    "# moving_horizon_duration_d_analysis = 4\n",
    "moving_horizon_duration_d_analysis = moving_horizon_duration_d\n",
    "\n",
    "# learn the model parameters and write rerults an intermediate results to excel files\n",
    "logging.basicConfig(level=logging.INFO)\n",
    "df_results = Learner.learn_home_parameter_moving_horizon(df_data_homes, \n",
    "                                                         n_std_outliers, up_intv, gap_n_intv, sampling_interval, \n",
    "                                                         moving_horizon_duration_d_analysis, sanity_fraction_analysis,\n",
    "                                                         homes, first_day, first_day, \n",
    "                                                         showdetails=True, hint_A_m2=6.0)\n",
    "\n",
    "logging.basicConfig(level=logging.NOTSET)\n"
   ]
  },
  {
   "cell_type": "code",
   "execution_count": null,
   "metadata": {},
   "outputs": [],
   "source": [
    "#show the results\n",
    "df_results"
   ]
  },
  {
   "cell_type": "code",
   "execution_count": null,
   "metadata": {},
   "outputs": [],
   "source": [
    "df_data_homes"
   ]
  },
  {
   "cell_type": "code",
   "execution_count": null,
   "metadata": {},
   "outputs": [],
   "source": [
    "# plot temperature data of multiple homes from an array \n",
    "# %autoreload 2\n",
    "for home_id in homes_to_analyze:\n",
    "    df_data_one_home = df_data_homes.loc[home_id]\n",
    "    Plot.weather_and_other_temperatures(home_id, df_data_one_home, [('indoor_temp_degC','r'),('indoor_setpoint_temp_degC','g')])\n",
    "\n",
    "# # N.B. The resulting figure below can be manipulated interactively; hover with mouse for tips & tricks\n"
   ]
  },
  {
   "cell_type": "code",
   "execution_count": null,
   "metadata": {},
   "outputs": [],
   "source": [
    "#plot a series of weeks for all homes\n",
    "# plt.ioff()\n",
    "\n",
    "# for home_id in homes_to_analyze:\n",
    "#     df_data_one_home = df_data_homes.loc[home_id]\n",
    "#     for moving_horizon_start in pd.date_range(start=first_day, end=first_day, inclusive='left', freq='7D'):\n",
    "#         moving_horizon_end = min(first_day, moving_horizon_start + timedelta(days=7))\n",
    "#         df_moving_horizon = df_data_one_home[moving_horizon_start:moving_horizon_end]\n",
    "#         Plot.weather_and_other_temperatures(home_id, df_moving_horizon, ['indoor_temp_degC'])\n",
    "\n",
    "# plt.ion()  \n",
    "    "
   ]
  },
  {
   "cell_type": "code",
   "execution_count": null,
   "metadata": {},
   "outputs": [],
   "source": []
  }
 ],
 "metadata": {
  "kernelspec": {
   "display_name": "Python 3 (ipykernel)",
   "language": "python",
   "name": "python3"
  },
  "language_info": {
   "codemirror_mode": {
    "name": "ipython",
    "version": 3
   },
   "file_extension": ".py",
   "mimetype": "text/x-python",
   "name": "python",
   "nbconvert_exporter": "python",
   "pygments_lexer": "ipython3",
   "version": "3.9.12"
  }
 },
 "nbformat": 4,
 "nbformat_minor": 4
}
