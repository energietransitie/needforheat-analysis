{
 "cells": [
  {
   "cell_type": "code",
   "execution_count": null,
   "metadata": {},
   "outputs": [],
   "source": [
    "from datetime import datetime, timedelta\n",
    "import pytz\n",
    "import math\n",
    "import pylab as plt\n",
    "\n",
    "import pandas as pd\n",
    "import numpy as np\n",
    "\n",
    "import sys\n",
    "sys.path.append('../data/')\n",
    "sys.path.append('../view/')\n",
    "sys.path.append('../analysis/')\n",
    "\n",
    "%load_ext autoreload\n",
    "\n",
    "%matplotlib widget\n",
    "from plotter import Plot\n",
    "from filewriter import ExcelWriter as ex\n",
    "\n",
    "from extractor import WeatherExtractor, Extractor, Period\n",
    "\n",
    "from inversegreyboxmodel import Learner\n",
    "\n",
    "import logging\n",
    "logger = logging.getLogger('Twomes data extraction')\n",
    "logger.setLevel(logging.NOTSET)\n",
    "\n",
    "\n",
    "\n",
    "n_std_outliers = 3.0 # default for the multiplier of the the standard deviation; further out than this times the std, outliers are removed during preprocessing\n",
    "up_intv = '5min' # the default upsampling interval that is used before interpolation is done\n",
    "gap_n_intv = 11 # the default maximum number of consecutive NaNs to fill(one for each upsampling interval), i.e. valid measurement values (11+1)* 5 min = 1 hour apart apart will be bridget by interpolation, but not more\n",
    "sampling_interval = '15min' # the default interval on which interpolation will be done during preprocessing\n",
    "moving_horizon_duration_d = 7\n",
    "required_columns_for_sanity = ['home_id', 'outdoor_eff_temp_avg_C', 'irradiation_hor_avg_W_per_m2', 'indoor_temp_avg_C', 'gas_sup_avg_W', 'e_remaining_heat_avg_W', 'interval_s']\n",
    "        \n",
    "\n",
    "sanity_fraction = 0.5\n",
    "\n",
    "#location: center of Assendorp neighbourhood in Zwolle\n",
    "lat, lon = 52.5065500000, 6.0996100000\n",
    "\n",
    "#timezone: \n",
    "timezone_database = 'UTC'\n",
    "timezone_homes = 'Europe/Amsterdam'\n",
    "\n",
    "# TODO: get list of pseudonyms, (valid) dates and reference parameters from Excel file?  \n",
    "# utimately: #min, max dates of the analysis\n",
    "first_day = pytz.timezone(timezone_homes).localize(datetime(2021, 10, 25))\n",
    "last_day = pytz.timezone(timezone_homes).localize(datetime(2022, 5, 8))\n",
    "# first_day = pytz.timezone(timezone_homes).localize(datetime(2022, 1, 3))\n",
    "# last_day = pytz.timezone(timezone_homes).localize(datetime(2022, 1, 24))\n",
    "\n",
    "homes = [803422, 805164, 809743, 811308, 815925, 817341, 822479, 829947, 830088, 831062, 839440, 845966, 845997, 846697, 857477, 864296, 873985, 879481, 881611, 886307, 895671, 897349, 899510]\n",
    "# reversedhomes = [899510, 897349, 895671, 886307, 881611, 879481, 873985, 864296, 857477, 846697, 845997, 845966, 839440, 831062, 830088, 829947, 822479, 817341, 815925, 811308, 809743, 805164, 803422]\n",
    "# Optionally: oveerride homes and dates for which to get data\n",
    "# homes =  [803422]\n",
    "# homes =  [817341, 886307, 873985, 803422, 805164]\n",
    "\n",
    "#homes with glitches in smart meter gas meter readings (only Sagemcom XS210 ESMR5 - E0047)\n",
    "# homes =  [895671, 809743, 815925]\n",
    "        \n",
    "# home with DSMR2 smart meter reading problem (Kamstrup 162JxC - KA6U; no eMeterReadingTimestamp in DSMR P1 spec)\n",
    "# homes = [817341]"
   ]
  },
  {
   "cell_type": "code",
   "execution_count": null,
   "metadata": {},
   "outputs": [],
   "source": [
    "#check whether the datetime object is properly timezone-aware\n",
    "print(first_day, first_day.tzinfo)\n"
   ]
  },
  {
   "cell_type": "code",
   "execution_count": null,
   "metadata": {},
   "outputs": [],
   "source": [
    "#check whether the datetime object is properly timezone-aware\n",
    "print(last_day, first_day.tzinfo)"
   ]
  },
  {
   "cell_type": "code",
   "execution_count": null,
   "metadata": {},
   "outputs": [],
   "source": [
    "%%time \n",
    "%autoreload 2\n",
    "# get geospatially interpolated weather from KNMI\n",
    "# for Twomes, the Weather for all all homes studies can be approached by a single location\n",
    "# get the dataframe only once for all homes to save time\n",
    "tz_knmi='Europe/Amsterdam'\n",
    "\n",
    "df_weather = WeatherExtractor.get_interpolated_weather_nl(first_day, last_day, lat, lon, tz_knmi, timezone_homes, sampling_interval)"
   ]
  },
  {
   "cell_type": "code",
   "execution_count": null,
   "metadata": {},
   "outputs": [],
   "source": [
    "df_weather"
   ]
  },
  {
   "cell_type": "code",
   "execution_count": null,
   "metadata": {},
   "outputs": [],
   "source": [
    "#see more statisctics about the weather data\n",
    "df_weather.describe(include='all')"
   ]
  },
  {
   "cell_type": "code",
   "execution_count": null,
   "metadata": {},
   "outputs": [],
   "source": [
    "%%time \n",
    "# get interpolated data from the Twomes database and combine with weather data already obtained\n",
    "\n",
    "logger.setLevel(logging.INFO)\n",
    "\n",
    "\n",
    "df_data_homes = Extractor.get_preprocessed_homes_data(homes, first_day, last_day, timezone_database, timezone_homes,\n",
    "                                                      up_intv, gap_n_intv, sampling_interval, \n",
    "                                                      required_columns_for_sanity,\n",
    "                                                      df_weather)\n",
    "logger.setLevel(logging.NOTSET)\n"
   ]
  },
  {
   "cell_type": "code",
   "execution_count": null,
   "metadata": {},
   "outputs": [],
   "source": [
    "print('df_data_homes.index[0]: ', df_data_homes.index[0])"
   ]
  },
  {
   "cell_type": "code",
   "execution_count": null,
   "metadata": {},
   "outputs": [],
   "source": [
    "df_data_homes"
   ]
  },
  {
   "cell_type": "code",
   "execution_count": null,
   "metadata": {},
   "outputs": [],
   "source": [
    "#see more statisctics\n",
    "df_data_homes.describe(include='all')"
   ]
  },
  {
   "cell_type": "code",
   "execution_count": null,
   "metadata": {},
   "outputs": [],
   "source": [
    "# present some sanity metrics for the extracted data\n",
    "total_measurement_time = timedelta(seconds = df_data_homes['interval_s'].sum())\n",
    "print('Total measurement time: ', total_measurement_time)\n",
    "sane_fraction = df_data_homes['sanity_frac'].mean()\n",
    "print('Sane fraction measurement time: {:.2f}'.format(sane_fraction))\n",
    "sane_measurement_time = total_measurement_time * sane_fraction\n",
    "print('Sane  measurement time: ', sane_measurement_time)"
   ]
  },
  {
   "cell_type": "code",
   "execution_count": null,
   "metadata": {},
   "outputs": [],
   "source": [
    "%%time \n",
    "%autoreload 2\n",
    "\n",
    "filename_prefix = datetime.now().astimezone(pytz.timezone('Europe/Amsterdam')).replace(microsecond=0).isoformat().replace(\":\",\"\")\n",
    "ex.write(df_data_homes, str('{0}-data_homes-{1}-{2}.xlsx'.format(filename_prefix, first_day.isoformat(),first_day.isoformat())))"
   ]
  },
  {
   "cell_type": "code",
   "execution_count": null,
   "metadata": {},
   "outputs": [],
   "source": [
    "# plot temperature data\n",
    "logger.setLevel(logging.NOTSET)\n",
    "Plot.weather_and_other_temperatures('Weather in Assendorp, Zwolle', df_weather)\n",
    "\n",
    "# N.B. The resulting figure below can be manipulated interactively; hover with mouse for tips & tricks"
   ]
  },
  {
   "cell_type": "code",
   "execution_count": null,
   "metadata": {},
   "outputs": [],
   "source": [
    "# how to select data from a single home\n",
    "# df_data_homes.loc[817341]"
   ]
  },
  {
   "cell_type": "code",
   "execution_count": null,
   "metadata": {
    "tags": []
   },
   "outputs": [],
   "source": [
    "%%time \n",
    "%autoreload 2\n",
    "\n",
    "# homes with most data\n",
    "# homes_to_analyse = [886307, 873985, 817341]\n",
    "# start_analysis_period = pytz.timezone(timezone_homes).localize(datetime(2021, 12, 20))\n",
    "# end_analysis_period = pytz.timezone(timezone_homes).localize(datetime(2022, 1, 18))\n",
    "# date and times of seemingly valid periods for short set of 3 \n",
    "# 886307\t2021-12-19 18:55\t2022-03-17 09:37\n",
    "# 873985\t2021-12-20 12:54\t2022-03-17 17:54\n",
    "# 817341\t2022-01-14 20:27\t2022-03-17 18:15\n",
    "    \n",
    "sanity_fraction_analysis = sanity_fraction\n",
    "\n",
    "# Use one of the lines below to set the moving horizon duration used for analysis \n",
    "# moving_horizon_duration_d_analysis = 4\n",
    "moving_horizon_duration_d_analysis = moving_horizon_duration_d\n",
    "\n",
    "# learn the model parameters and write rerults an intermediate results to excel files\n",
    "logging.basicConfig(level=logging.INFO)\n",
    "df_results = Learner.learn_home_parameter_moving_horizon(df_data_homes, \n",
    "                                                         n_std_outliers, up_intv, gap_n_intv, sampling_interval, \n",
    "                                                         moving_horizon_duration_d_analysis, sanity_fraction_analysis,\n",
    "                                                         homes, first_day, first_day, \n",
    "                                                         showdetails=True, hint_A_m2=6.0)\n",
    "\n",
    "logging.basicConfig(level=logging.NOTSET)\n"
   ]
  },
  {
   "cell_type": "code",
   "execution_count": null,
   "metadata": {},
   "outputs": [],
   "source": [
    "#show the results\n",
    "df_results"
   ]
  },
  {
   "cell_type": "code",
   "execution_count": null,
   "metadata": {},
   "outputs": [],
   "source": [
    "df_data_homes"
   ]
  },
  {
   "cell_type": "code",
   "execution_count": null,
   "metadata": {},
   "outputs": [],
   "source": [
    "# plot temperature data of multiple homes from an array \n",
    "# %autoreload 2\n",
    "for home_id in homes_to_analyze:\n",
    "    df_data_one_home = df_data_homes.loc[home_id]\n",
    "    Plot.weather_and_other_temperatures(home_id, df_data_one_home, [('indoor_temp_degC','r'),('indoor_setpoint_temp_degC','g')])\n",
    "\n",
    "# # N.B. The resulting figure below can be manipulated interactively; hover with mouse for tips & tricks\n"
   ]
  },
  {
   "cell_type": "code",
   "execution_count": null,
   "metadata": {},
   "outputs": [],
   "source": [
    "#plot a series of weeks for all homes\n",
    "# plt.ioff()\n",
    "\n",
    "# for home_id in homes_to_analyze:\n",
    "#     df_data_one_home = df_data_homes.loc[home_id]\n",
    "#     for moving_horizon_start in pd.date_range(start=first_day, end=first_day, inclusive='left', freq='7D'):\n",
    "#         moving_horizon_end = min(first_day, moving_horizon_start + timedelta(days=7))\n",
    "#         df_moving_horizon = df_data_one_home[moving_horizon_start:moving_horizon_end]\n",
    "#         Plot.weather_and_other_temperatures(home_id, df_moving_horizon, ['indoor_temp_degC'])\n",
    "\n",
    "# plt.ion()  \n",
    "    "
   ]
  },
  {
   "cell_type": "code",
   "execution_count": null,
   "metadata": {},
   "outputs": [],
   "source": []
  }
 ],
 "metadata": {
  "kernelspec": {
   "display_name": "Python 3 (ipykernel)",
   "language": "python",
   "name": "python3"
  },
  "language_info": {
   "codemirror_mode": {
    "name": "ipython",
    "version": 3
   },
   "file_extension": ".py",
   "mimetype": "text/x-python",
   "name": "python",
   "nbconvert_exporter": "python",
   "pygments_lexer": "ipython3",
   "version": "3.9.12"
  }
 },
 "nbformat": 4,
 "nbformat_minor": 4
}
