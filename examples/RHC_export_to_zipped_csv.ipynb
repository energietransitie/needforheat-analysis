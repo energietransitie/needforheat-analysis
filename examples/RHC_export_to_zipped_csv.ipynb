{
 "cells": [
  {
   "cell_type": "markdown",
   "id": "df620c96-42ba-4e2b-9000-0667d5d00f67",
   "metadata": {},
   "source": [
    "# Export measurements and preprocessed properties to zipped CSV files"
   ]
  },
  {
   "cell_type": "code",
   "execution_count": null,
   "id": "5631052e-6e16-4ec7-a737-cccce04f73a7",
   "metadata": {},
   "outputs": [],
   "source": [
    "import pandas as pd\n",
    "from tqdm.notebook import tqdm\n",
    "\n",
    "rhc_file_path='rhc_raw_measurements.parquet'\n",
    "rhc_preprocessed_poperties_file='rhc_preprocessed_properties.parquet'\n"
   ]
  },
  {
   "cell_type": "markdown",
   "id": "78c015be-6409-4695-b2e6-010e91f7a909",
   "metadata": {},
   "source": [
    "## Write to csv file(s)"
   ]
  },
  {
   "cell_type": "markdown",
   "id": "a6c896e6-ba8b-4c4c-af61-772d0b0773b2",
   "metadata": {},
   "source": [
    "### Load Measured Data from parquet file"
   ]
  },
  {
   "cell_type": "code",
   "execution_count": null,
   "id": "80ae091c-d773-4a74-b135-3884010de5cc",
   "metadata": {
    "scrolled": true
   },
   "outputs": [],
   "source": [
    "%%time\n",
    "# Attempt to read the Parquet file\n",
    "try:\n",
    "    df_meas = pd.read_parquet(\n",
    "        rhc_file_path, \n",
    "        engine='pyarrow',\n",
    "        dtype_backend='numpy_nullable'\n",
    "        )\n",
    "    print(\"File was successfully read without specifying compression codec.\")\n",
    "except Exception as e:\n",
    "    print(f\"Error reading file: {e}\")"
   ]
  },
  {
   "cell_type": "code",
   "execution_count": null,
   "id": "47c879ae-0fcf-4950-9cc4-00f2b1af9841",
   "metadata": {
    "scrolled": true
   },
   "outputs": [],
   "source": [
    "#sorting the DataFrame index is needed to get good performance on certain filters\n",
    "#this guarding code to check whether DataFrames are properly sorted\n",
    "if not df_meas.index.is_monotonic_increasing:\n",
    "    print('df_meas needed index sorting')\n",
    "    df_meas = df_meas.sort_index()  "
   ]
  },
  {
   "cell_type": "code",
   "execution_count": null,
   "id": "591ad174-2e8b-4c63-b1dc-6027d40f0ae2",
   "metadata": {},
   "outputs": [],
   "source": [
    "df_meas.info()"
   ]
  },
  {
   "cell_type": "code",
   "execution_count": null,
   "id": "bb22aa65-0b01-44fc-a4ea-c8afc2018865",
   "metadata": {},
   "outputs": [],
   "source": [
    "df_meas.index.dtypes"
   ]
  },
  {
   "cell_type": "code",
   "execution_count": null,
   "id": "3cab5e74-07e2-4063-8711-fe0738bbd716",
   "metadata": {},
   "outputs": [],
   "source": [
    "print(f\"df_meas.count().sum(): {df_meas.count().sum():_}\")"
   ]
  },
  {
   "cell_type": "code",
   "execution_count": null,
   "id": "6d45c149-878e-4218-8a9c-0362df4a87b6",
   "metadata": {},
   "outputs": [],
   "source": [
    "df_meas"
   ]
  },
  {
   "cell_type": "markdown",
   "id": "46473007-f6d7-40d4-abda-1746b3170a28",
   "metadata": {},
   "source": [
    "### Write raw measurements per home to zipped .CSV files"
   ]
  },
  {
   "cell_type": "code",
   "execution_count": null,
   "id": "7c9a28d8-81fa-4477-8773-4bffd3081b53",
   "metadata": {},
   "outputs": [],
   "source": [
    "%%time \n",
    "for home_id in tqdm(df_meas.index.get_level_values('id').unique()):\n",
    "    df_meas.xs(home_id, drop_level=False).to_csv(\n",
    "        f'{home_id}_raw_measurements.zip',\n",
    "        encoding='utf-8',\n",
    "        compression= dict(method='zip',\n",
    "                          archive_name=f'{home_id}_raw_measurements.csv'),\n",
    "        date_format='%Y-%m-%dT%H:%M:%S%z'\n",
    "    )"
   ]
  },
  {
   "cell_type": "markdown",
   "id": "c25cfff5-0611-4c97-9cd4-c9c637f5a03c",
   "metadata": {},
   "source": [
    "## Reading preprocessed interpolated properties from a parquet file"
   ]
  },
  {
   "cell_type": "code",
   "execution_count": null,
   "id": "cb5fac3f-19f4-4739-92f9-71e01109d380",
   "metadata": {},
   "outputs": [],
   "source": [
    "%%time\n",
    "# Attempt to read the Parquet file\n",
    "try:\n",
    "    df_prep = pd.read_parquet(\n",
    "        rhc_preprocessed_poperties_file, \n",
    "        engine='pyarrow',\n",
    "        dtype_backend='numpy_nullable'\n",
    "        )\n",
    "    print(\"File was successfully read without specifying compression codec.\")\n",
    "except Exception as e:\n",
    "    print(f\"Error reading file: {e}\")"
   ]
  },
  {
   "cell_type": "code",
   "execution_count": null,
   "id": "25d0167d-bc1e-4970-8a85-ad5bf9140668",
   "metadata": {},
   "outputs": [],
   "source": [
    "#sorting the DataFrame index is needed to get good performance on certain filters\n",
    "#this guarding code to check whether DataFrames are properly sorted\n",
    "if not df_prep.index.is_monotonic_increasing:\n",
    "    print('df needed index sorting')\n",
    "    df_prep = df_prep.sort_index()  "
   ]
  },
  {
   "cell_type": "code",
   "execution_count": null,
   "id": "ed4d3036-0eb9-4d7f-abbd-9a3945d82fc3",
   "metadata": {},
   "outputs": [],
   "source": [
    "df_prep.info()"
   ]
  },
  {
   "cell_type": "code",
   "execution_count": null,
   "id": "c5ce06e5-5ea0-4014-9d17-a09d65c9bf9a",
   "metadata": {},
   "outputs": [],
   "source": [
    "df_prep.index.dtypes"
   ]
  },
  {
   "cell_type": "code",
   "execution_count": null,
   "id": "c56781b5-1e00-4a96-a3ed-ee145d7f2f3a",
   "metadata": {},
   "outputs": [],
   "source": [
    "print(f\"df_prep.count().sum(): {df_prep.count().sum():_}\")"
   ]
  },
  {
   "cell_type": "code",
   "execution_count": null,
   "id": "699c1ab2-1b49-4cb3-9c31-05063e4a6767",
   "metadata": {},
   "outputs": [],
   "source": [
    "df_prep"
   ]
  },
  {
   "cell_type": "markdown",
   "id": "32628368-e729-40a5-9209-fb26f16db84d",
   "metadata": {},
   "source": [
    "### Write preprocessed properties per home to zipped .CSV files"
   ]
  },
  {
   "cell_type": "code",
   "execution_count": null,
   "id": "a809afe4-6850-4532-b6b6-531ef5edc56a",
   "metadata": {},
   "outputs": [],
   "source": [
    "%%time \n",
    "for home_id in tqdm(df_prep.index.get_level_values('id').unique()):\n",
    "    df_prep.xs(home_id, drop_level=False).to_csv(\n",
    "        f'{home_id}_preprocessed_properties.zip',\n",
    "        encoding='utf-8',\n",
    "        compression= dict(method='zip',\n",
    "                          archive_name=f'{home_id}_preprocessed_properties.csv'),\n",
    "        date_format='%Y-%m-%dT%H:%M:%S%z'\n",
    "    )\n"
   ]
  },
  {
   "cell_type": "code",
   "execution_count": null,
   "id": "15273692-a868-48e9-97b6-2d8d706a4476",
   "metadata": {},
   "outputs": [],
   "source": []
  }
 ],
 "metadata": {
  "kernelspec": {
   "display_name": "Python 3 (ipykernel)",
   "language": "python",
   "name": "python3"
  },
  "language_info": {
   "codemirror_mode": {
    "name": "ipython",
    "version": 3
   },
   "file_extension": ".py",
   "mimetype": "text/x-python",
   "name": "python",
   "nbconvert_exporter": "python",
   "pygments_lexer": "ipython3",
   "version": "3.11.6"
  }
 },
 "nbformat": 4,
 "nbformat_minor": 5
}
