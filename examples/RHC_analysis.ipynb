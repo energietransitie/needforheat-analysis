{
 "cells": [
  {
   "cell_type": "markdown",
   "id": "02aa6298-301d-4d2f-b59e-7bc2432c67d4",
   "metadata": {},
   "source": [
    "# REDUCEDHEATCARB analysis\n",
    "\n",
    "This JupyterLabs notebook can be used for physics ifnormed machine learning analysis in the REDUCEDHEATCAB project.\n",
    "Don't forget to install the requirements listed in [requirements.txt](../requirements.txt) first!"
   ]
  },
  {
   "cell_type": "markdown",
   "id": "40e8f82e-93a6-4156-b4cb-4744c4cc8c13",
   "metadata": {},
   "source": [
    "## Setting the stage\n",
    "\n",
    "First several imports and variables need to be defined\n"
   ]
  },
  {
   "cell_type": "markdown",
   "id": "b276aade-cd93-4e8a-957d-fdc2d3a84336",
   "metadata": {},
   "source": [
    "### Imports and generic settings"
   ]
  },
  {
   "cell_type": "code",
   "execution_count": null,
   "id": "08d2d6ec-cf03-47d6-a505-bf37716c4700",
   "metadata": {},
   "outputs": [],
   "source": [
    "import numpy as np\n",
    "import pandas as pd\n",
    "\n",
    "%load_ext autoreload\n",
    "\n",
    "    \n",
    "from tqdm.notebook import tqdm\n",
    "\n",
    "from gekko import GEKKO\n",
    "\n",
    "import sys\n",
    "sys.path.append('../data/')\n",
    "sys.path.append('../view/')\n",
    "sys.path.append('../analysis/')\n",
    "\n",
    "from plotter import Plot\n",
    "import matplotlib.pyplot as plt\n",
    "%matplotlib inline\n",
    "%matplotlib widget\n",
    "\n",
    "\n",
    "from nfh_utils import *\n",
    "\n",
    "# usually, two decimals suffice for displaying DataFrames (NB internally, precision may be higher)\n",
    "pd.options.display.precision = 2\n",
    "\n",
    "from rhc_analysis import Learner\n",
    "\n",
    "# rhc_preprocessed_poperties_file='rhc_preprocessed_properties_intv_5_min.parquet'\n",
    "rhc_preprocessed_poperties_file='rhc_preprocessed_properties_intv_1_min.parquet'\n",
    "#rhc_preprocessed_poperties_file='rhc_heat_dist_preprocessed_properties.parquet'\n",
    "\n",
    "home_BAG_data_file_path = 'homes_properties_detailed.xlsx'\n",
    "boiler_returntemp_load_efficiency_file_path = 'boiler_returntemp_load_efficiency.parquet'\n",
    "\n",
    "# File for intermediate output (including preprocessing that may likely needs to migrate to the GEKKO model code for the what-if simulations)\n",
    "rhc_heat_dist_preprocessed_poperties_file='rhc_heat_dist_preprocessed_properties.parquet'\n",
    "\n",
    "rhc_analysis_results_file = 'rhc_results.parquet'\n",
    "rhc_analysis_results_per_period_file = 'rhc_results_per_period.xlsx'\n",
    "\n",
    "import logging \n",
    "\n",
    "# Clear any existing handlers to avoid duplicate logs\n",
    "for handler in logging.root.handlers[:]:\n",
    "    logging.root.removeHandler(handler)\n",
    "\n",
    "# Set up logging to the console only\n",
    "logging.basicConfig(\n",
    "    level=logging.WARNING,  # Adjust log level as necessary (DEBUG, INFO, WARNING, etc.)\n",
    "    # level=logging.INFO,  # Adjust log level as necessary (DEBUG, INFO, WARNING, etc.)\n",
    "    stream=sys.stderr,    # Send logs to stdout (you can also use sys.stderr if needed)\n",
    "    format='%(asctime)s - %(name)s - %(levelname)s - %(message)s',\n",
    ")"
   ]
  },
  {
   "cell_type": "markdown",
   "id": "67602115-22ca-4ea5-a6ee-58d851205533",
   "metadata": {},
   "source": [
    "### Reading preprocessed interpolated properties from a parquet file"
   ]
  },
  {
   "cell_type": "code",
   "execution_count": null,
   "id": "b8547a2a-b7cd-465a-a94d-a5bf10c88ea7",
   "metadata": {},
   "outputs": [],
   "source": [
    "%%time\n",
    "\n",
    "# Attempt to read the Parquet file\n",
    "try:\n",
    "    df_prep = pd.read_parquet(\n",
    "        rhc_preprocessed_poperties_file, \n",
    "        engine='pyarrow',\n",
    "        dtype_backend='numpy_nullable'\n",
    "        )\n",
    "    print(\"File was successfully read without specifying compression codec.\")\n",
    "except Exception as e:\n",
    "    print(f\"Error reading file: {e}\")"
   ]
  },
  {
   "cell_type": "code",
   "execution_count": null,
   "id": "25260ecc-713e-4436-a9ec-43090f878782",
   "metadata": {},
   "outputs": [],
   "source": [
    "#sorting the DataFrame index is needed to get good performance on certain filters\n",
    "#this guarding code to check whether DataFrames are properly sorted\n",
    "if not df_prep.index.is_monotonic_increasing:\n",
    "    print('df needed index sorting')\n",
    "    df_prep = df_prep.sort_index()  "
   ]
  },
  {
   "cell_type": "code",
   "execution_count": null,
   "id": "eda4ab11-d12c-4241-b820-9eea541fd35b",
   "metadata": {},
   "outputs": [],
   "source": [
    "print(f\"df_prep.count().sum(): {df_prep.count().sum():_}\")"
   ]
  },
  {
   "cell_type": "code",
   "execution_count": null,
   "id": "a7fd00c9-b0fa-470f-a99b-0afd761f86ee",
   "metadata": {},
   "outputs": [],
   "source": [
    "df_prep.info()"
   ]
  },
  {
   "cell_type": "code",
   "execution_count": null,
   "id": "26dbce2a-bdb0-4bc2-9eb8-fe75aa476e18",
   "metadata": {
    "scrolled": true
   },
   "outputs": [],
   "source": [
    "print(\"[\\n'\",\"', \\n'\".join(sorted(df_prep.columns)),\"'\\n]\")"
   ]
  },
  {
   "cell_type": "code",
   "execution_count": null,
   "id": "b57fe0ff-48de-4dce-bdb0-a23f3ac5ea06",
   "metadata": {
    "tags": []
   },
   "outputs": [],
   "source": [
    "# visuaize all input data\n",
    "df_plot = df_prep"
   ]
  },
  {
   "cell_type": "code",
   "execution_count": null,
   "id": "bc10153f-5b47-48ed-bc6e-9d3af88e73a7",
   "metadata": {},
   "outputs": [],
   "source": [
    "list(df_plot.index.unique('id').dropna())"
   ]
  },
  {
   "cell_type": "code",
   "execution_count": null,
   "id": "250ab28c-cd29-4b25-9038-cddf64659890",
   "metadata": {},
   "outputs": [],
   "source": [
    "df_plot.index.unique('id').dropna()"
   ]
  },
  {
   "cell_type": "code",
   "execution_count": null,
   "id": "bc2733e2-8ee7-4fe8-9673-79fbd99d1b68",
   "metadata": {},
   "outputs": [],
   "source": [
    "# df_plot.loc[[401632]][[prop for prop in df_plot.columns.values if prop.split('__')[-1] in ('degC', 'W', '0', 'bool', 'ppm', 'W_m_2')]]"
   ]
  },
  {
   "cell_type": "code",
   "execution_count": null,
   "id": "2584f526-caa6-4978-8dec-09e737ba3648",
   "metadata": {
    "tags": []
   },
   "outputs": [],
   "source": [
    "#Plot all properties from all sources for all ids\n",
    "#Plot.dataframe_preprocessed_plot(df_plot.loc[[401632]][[prop for prop in df_plot.columns.values if prop.split('__')[-1] in ('degC', 'ppm', 'W_m_2')]], units_to_mathtext)"
   ]
  },
  {
   "cell_type": "markdown",
   "id": "7dbc9ea1-4a4c-4adf-a52d-a10a6adc2ed4",
   "metadata": {},
   "source": [
    "# Calculate additional properties \n",
    "We may have to move some of these calculations to inside the GEKKO Python model code (e.g. for the what-if scenario simulation)"
   ]
  },
  {
   "cell_type": "markdown",
   "id": "ec7e923b-0716-48f3-a944-ff4e41620e40",
   "metadata": {},
   "source": [
    "## Use boiler-specific efficiency to calculate heat_ch__W"
   ]
  },
  {
   "cell_type": "markdown",
   "id": "af2b5c37-3ce3-4bb2-86ac-dfc6d2c0c2a7",
   "metadata": {},
   "source": [
    "### Reading boiler efficiency data"
   ]
  },
  {
   "cell_type": "code",
   "execution_count": null,
   "id": "b10db8de-48fd-4079-9404-2b81233ab9a7",
   "metadata": {},
   "outputs": [],
   "source": [
    "%%time\n",
    "# Attempt to read the Parquet file\n",
    "try:\n",
    "    df_boiler_efficiency = pd.read_parquet(\n",
    "        # boiler_returntemp_efficiency_file_path, \n",
    "        boiler_returntemp_load_efficiency_file_path, \n",
    "        engine='pyarrow',\n",
    "        dtype_backend='numpy_nullable'\n",
    "        )\n",
    "    print(\"File was successfully read without specifying compression codec.\")\n",
    "except Exception as e:\n",
    "    print(f\"Error reading file: {e}\")"
   ]
  },
  {
   "cell_type": "code",
   "execution_count": null,
   "id": "c9fb9ed0-ba1f-43cd-97c8-550edf244578",
   "metadata": {},
   "outputs": [],
   "source": [
    "df_boiler_efficiency"
   ]
  },
  {
   "cell_type": "markdown",
   "id": "9dba51d4-7fbe-423a-b99a-d698b951b5dc",
   "metadata": {},
   "source": [
    "### Lookup of momentary boiler efficiency from boiler-specific efficiency curves"
   ]
  },
  {
   "cell_type": "code",
   "execution_count": null,
   "id": "c277ca5f-4dbf-4ec4-aa1b-a01691d90bbb",
   "metadata": {},
   "outputs": [],
   "source": [
    "# Derive brand-specific min and max for load and return temperature\n",
    "brand_specific_ranges = df_boiler_efficiency.reset_index().groupby('brand_model').agg({\n",
    "    'rounded_load__%': ['min', 'max'],\n",
    "    'rounded_temp_ret__degC': ['min', 'max']\n",
    "})"
   ]
  },
  {
   "cell_type": "code",
   "execution_count": null,
   "id": "046475b5-96ca-4a5b-869a-2a083dd86c8e",
   "metadata": {},
   "outputs": [],
   "source": [
    "# Rename columns for clarity\n",
    "brand_specific_ranges.columns = ['min_load__%', 'max_load__%', 'min_temp_ret__degC', 'max_temp_ret__degC']"
   ]
  },
  {
   "cell_type": "code",
   "execution_count": null,
   "id": "04cf9a5d-1859-4f03-807c-b21dccf17176",
   "metadata": {},
   "outputs": [],
   "source": [
    "brand_specific_ranges"
   ]
  },
  {
   "cell_type": "code",
   "execution_count": null,
   "id": "7705e165-01b0-45e0-a5f9-3b8c98d74281",
   "metadata": {},
   "outputs": [],
   "source": [
    "%%time\n",
    "# Merge df_prep with brand_specific_ranges to get the min/max values for each brand_model\n",
    "df_prep = (df_prep\n",
    "           .reset_index()\n",
    "           .merge(brand_specific_ranges, on='brand_model', how='left')\n",
    "           .set_index(['id', 'timestamp'])\n",
    "           .sort_index())"
   ]
  },
  {
   "cell_type": "code",
   "execution_count": null,
   "id": "bce48ebd-f75b-4a80-899e-72ce9d83bad0",
   "metadata": {},
   "outputs": [],
   "source": [
    "%%time\n",
    "# Round return temperatures to whole degrees\n",
    "df_prep['rounded_temp_ret__degC'] = (df_prep['batch_import_remeha_temp_ret__degC']\n",
    "                                     .round()\n",
    "                                     .clip(lower=df_prep['min_temp_ret__degC'], upper=df_prep['max_temp_ret__degC'])\n",
    "                                     .astype('Int8')\n",
    "                                    )\n"
   ]
  },
  {
   "cell_type": "code",
   "execution_count": null,
   "id": "c9c9d5a9-c6e9-464f-864f-aa97c6f59892",
   "metadata": {},
   "outputs": [],
   "source": [
    "%%time\n",
    "df_prep.loc[:,'rounded_load__%'] = (\n",
    "    (df_prep['calculated_fan_frac__0'] + (1 - df_prep['calculated_fan_frac__0']) * df_prep['Qnh_min_lhv__kW'] / df_prep['Qnh_max_lhv__kW'])\n",
    "    * 100\n",
    "    * df_prep['batch_import_remeha_gas_valve_open__bool'] # make sure load = 0 when gas valve is closed\n",
    ").round().clip(lower=df_prep['min_load__%'], upper=df_prep['max_load__%']).astype('Int16')"
   ]
  },
  {
   "cell_type": "code",
   "execution_count": null,
   "id": "74f06b95-2045-4b72-b83b-d6884196c418",
   "metadata": {},
   "outputs": [],
   "source": [
    "%%time\n",
    "# Merging DataFrames\n",
    "df_prep = (df_prep\n",
    "           .reset_index()\n",
    "           .merge(df_boiler_efficiency.reset_index(),\n",
    "                  on=['brand_model', 'rounded_load__%', 'rounded_temp_ret__degC'], \n",
    "                  how='left'\n",
    "                  )\n",
    "           .set_index(['id', 'timestamp'])\n",
    "           .sort_index()\n",
    "          )  \n"
   ]
  },
  {
   "cell_type": "markdown",
   "id": "de508b17-194e-4a9f-8ecb-850083cd4ea0",
   "metadata": {},
   "source": [
    "### Calculate heat_ch__W"
   ]
  },
  {
   "cell_type": "code",
   "execution_count": null,
   "id": "3b5f8189-756d-41fb-9807-254dd95f8651",
   "metadata": {},
   "outputs": [],
   "source": [
    "%%time\n",
    "df_prep.loc[:,'calculated_heat_ch__W'] = df_prep['calculated_g_use_ch_hhv__W'] * df_prep['eta_ch_hhv__W0']"
   ]
  },
  {
   "cell_type": "markdown",
   "id": "7c719d24-8aaf-455c-be89-17517959acf8",
   "metadata": {},
   "source": [
    "### Calculate flow_ch__dm3_s_1"
   ]
  },
  {
   "cell_type": "code",
   "execution_count": null,
   "id": "c7c8d1ab-fe28-4b09-975d-450b02849416",
   "metadata": {},
   "outputs": [],
   "source": [
    "water__kg_m_3 = 994 # Approximation of the density of water at 34°C calculated using CoolProp and an average of all observed supply and return temperatures for central heating"
   ]
  },
  {
   "cell_type": "code",
   "execution_count": null,
   "id": "6cdd816e-d38d-4564-8399-b7b280ef5f1c",
   "metadata": {},
   "outputs": [],
   "source": [
    "%%time\n",
    "# Calculate the temperature difference\n",
    "temp_diff = df_prep['batch_import_remeha_temp_sup_ch__degC'] - df_prep['batch_import_remeha_temp_ret_ch__degC']\n",
    "\n",
    "# Use np.where to conditionally replace results based on the temperature difference\n",
    "df_prep.loc[:, 'calculated_flow_ch__dm3_min_1'] = np.where(\n",
    "    (temp_diff == 0) | pd.isna(temp_diff),  # Check if the temperature difference is zero or NA\n",
    "    pd.NA,  # Assign NA if the condition is true\n",
    "    (\n",
    "        df_prep['calculated_heat_ch__W']\n",
    "        / (\n",
    "            water__J_kg_1_K_1 \n",
    "            * temp_diff\n",
    "            * water__kg_m_3\n",
    "        )\n",
    "        * dm3_m_3\n",
    "        * s_min_1\n",
    "    )\n",
    ")\n",
    "\n",
    "# Clipping the calculated flow values, based on maximum flow of 6.5 [m³/h] \n",
    "# (Grundfos UPM4 15-75, UPM4S 15-60; Wilo Yonos Para MS/6B-PWM1, Yonos Para MS/78-PWM1)\n",
    "flow_ch_max__dm3_min_1 = 6.5 * dm3_m_3 / min_h_1\n",
    "df_prep['calculated_flow_ch__dm3_min_1'] = df_prep['calculated_flow_ch__dm3_min_1'].clip(lower=0, upper=flow_ch_max__dm3_min_1)"
   ]
  },
  {
   "cell_type": "code",
   "execution_count": null,
   "id": "96fef5e5-5897-47a3-bb78-e89da9586073",
   "metadata": {},
   "outputs": [],
   "source": [
    "df_prep['calculated_flow_ch__dm3_min_1'].describe()"
   ]
  },
  {
   "cell_type": "code",
   "execution_count": null,
   "id": "f30753c4-ccfd-4fde-85e1-b3e6eeaffde5",
   "metadata": {},
   "outputs": [],
   "source": [
    "%matplotlib inline\n",
    "%matplotlib widget\n",
    "prop = 'calculated_flow_ch__dm3_min_1'\n",
    "df_prep[prop].plot.hist(bins=200, alpha=0.5, title = prop)\n"
   ]
  },
  {
   "cell_type": "markdown",
   "id": "486add66-4539-4e1d-9e7a-0f0c9bc20f67",
   "metadata": {},
   "source": [
    "## Inspect results "
   ]
  },
  {
   "cell_type": "code",
   "execution_count": null,
   "id": "499f7a03-ec58-415d-a892-0542f2bbbaec",
   "metadata": {
    "scrolled": true
   },
   "outputs": [],
   "source": [
    "sorted(list(df_prep.columns))"
   ]
  },
  {
   "cell_type": "code",
   "execution_count": null,
   "id": "1241e89f-5230-4970-bb9c-0cc9ee92dc6a",
   "metadata": {},
   "outputs": [],
   "source": [
    "df_prep[['batch_import_remeha_ch_water_pump_speed__0',\n",
    "         'batch_import_remeha_temp_sup__degC',\n",
    "         'batch_import_remeha_temp_sup_ch__degC',\n",
    "         'batch_import_remeha_temp_ret__degC',\n",
    "         'batch_import_remeha_temp_ret_ch__degC',\n",
    "         'calculated_heat_ch__W',\n",
    "         'calculated_flow_ch__dm3_min_1',\n",
    "         'batch_import_remeha_dhw_flow__l_min_1'\n",
    "        ]].describe()"
   ]
  },
  {
   "cell_type": "code",
   "execution_count": null,
   "id": "2c0f1055-3acb-4480-8988-f9bcf057a2b6",
   "metadata": {},
   "outputs": [],
   "source": [
    "df_prep[['batch_import_remeha_ch_water_pump_speed__0',\n",
    "         'batch_import_remeha_temp_sup__degC',\n",
    "         'batch_import_remeha_temp_sup_ch__degC',\n",
    "         'batch_import_remeha_temp_ret__degC',\n",
    "         'batch_import_remeha_temp_ret_ch__degC',\n",
    "         'calculated_flow_ch__dm3_min_1',\n",
    "         'batch_import_remeha_dhw_flow__l_min_1'\n",
    "        ]].groupby('id').count().T"
   ]
  },
  {
   "cell_type": "code",
   "execution_count": null,
   "id": "dd0fda48-4033-401e-9378-9f33c8d02f32",
   "metadata": {},
   "outputs": [],
   "source": [
    "# Create masks\n",
    "boiler_burning_mask = ((df_prep['batch_import_remeha_boiler_status_burning_ch__bool'] == True) | (df_prep['batch_import_remeha_boiler_status_burning_dhw__bool'] == True)) & (df_prep['batch_import_remeha_gas_valve_open__bool'] == True)\n",
    "boiler_ch_mask = (df_prep['batch_import_remeha_boiler_status_burning_ch__bool'] == True) & (df_prep['batch_import_remeha_gas_valve_open__bool'] == True)\n",
    "boiler_dhw_mask = (df_prep['batch_import_remeha_boiler_status_burning_dhw__bool'] == True) & (df_prep['batch_import_remeha_gas_valve_open__bool'] == True)\n",
    "remeha_data_notna_mask = (df_prep['batch_import_remeha_temp_indoor__degC'].notna()) & (df_prep['device_p1-reader_g_use_hhv__W'].notna())\n",
    "boiler_valve_closed_mask = (df_prep['batch_import_remeha_temp_indoor__degC'].notna()) & (df_prep['batch_import_remeha_gas_valve_closed__bool'] == True)"
   ]
  },
  {
   "cell_type": "code",
   "execution_count": null,
   "id": "40372771-67ff-437d-9e41-1947010215c6",
   "metadata": {},
   "outputs": [],
   "source": [
    "# Select mask\n",
    "boiler_status_mask = remeha_data_notna_mask \n"
   ]
  },
  {
   "cell_type": "markdown",
   "id": "e90c46d9-0e5e-4999-b48d-a8b674d56d61",
   "metadata": {},
   "source": [
    "### Inspecting gas power used by boiler based on fan speed [rpm]"
   ]
  },
  {
   "cell_type": "code",
   "execution_count": null,
   "id": "72f6627d-1e02-4506-98f4-6ebe0c17343b",
   "metadata": {},
   "outputs": [],
   "source": [
    "df_prep[boiler_status_mask]['calculated_fan_frac__0'].mean()"
   ]
  },
  {
   "cell_type": "code",
   "execution_count": null,
   "id": "9ef988de-9c72-48c5-9b14-5666a99bbcbd",
   "metadata": {},
   "outputs": [],
   "source": [
    "average_gas_std_hhv__MJ_mm_3 = df_prep[boiler_status_mask]['batch_import_EDSN_actual_gas_std_hhv__J_m_3'].mean() / 1e6\n",
    "average_gas_std_hhv__MJ_mm_3\n"
   ]
  },
  {
   "cell_type": "code",
   "execution_count": null,
   "id": "efe49e76-2275-4d4d-b7b1-9d059e76ee8f",
   "metadata": {},
   "outputs": [],
   "source": [
    "(df_prep[boiler_status_mask]['batch_import_EDSN_actual_gas_std_hhv__J_m_3'] * df_prep[boiler_status_mask]['calculated_g_use_boiler_hhv__W']).sum() / df_prep[boiler_status_mask]['calculated_g_use_boiler_hhv__W'].sum() / 1e6\n",
    "\n"
   ]
  },
  {
   "cell_type": "code",
   "execution_count": null,
   "id": "b1889281-750b-45db-a421-c021ab7b9539",
   "metadata": {},
   "outputs": [],
   "source": [
    "df_prep[boiler_status_mask]['calculated_g25_3_use_boiler_lhv__W'].mean()"
   ]
  },
  {
   "cell_type": "code",
   "execution_count": null,
   "id": "9275cd08-61c2-43f6-a311-d024c86db2bc",
   "metadata": {
    "scrolled": true
   },
   "outputs": [],
   "source": [
    "df_prep[boiler_status_mask]['gas_calorific_factor_g25_3_lhv_to_actual_hhv__J0'].mean()                                           "
   ]
  },
  {
   "cell_type": "code",
   "execution_count": null,
   "id": "b20c0c70-6fd4-42d9-ab7b-733b3a64e914",
   "metadata": {},
   "outputs": [],
   "source": [
    "df_prep[boiler_status_mask]['gas_pressure_factor_ref_to_actual__J0'].mean()                                           "
   ]
  },
  {
   "cell_type": "code",
   "execution_count": null,
   "id": "59817ed9-27ce-425c-a3e3-ab243d4e610f",
   "metadata": {},
   "outputs": [],
   "source": [
    "df_prep[boiler_status_mask]['gas_temp_factor_ref_to_actual__J0'].mean()                                           "
   ]
  },
  {
   "cell_type": "code",
   "execution_count": null,
   "id": "42bac316-b8f0-4540-9301-08685371a5bb",
   "metadata": {},
   "outputs": [],
   "source": [
    "conversion_factor_boiler = (\n",
    "    df_prep[boiler_status_mask]['gas_calorific_factor_g25_3_lhv_to_actual_hhv__J0'].mean()\n",
    "    * df_prep[boiler_status_mask]['gas_pressure_factor_ref_to_actual__J0'].mean()\n",
    "    * df_prep[boiler_status_mask]['gas_temp_factor_ref_to_actual__J0'].mean()\n",
    ")\n",
    "conversion_factor_boiler"
   ]
  },
  {
   "cell_type": "code",
   "execution_count": null,
   "id": "9f9f0ed1-49ad-415c-9c7d-5de73f39fd46",
   "metadata": {},
   "outputs": [],
   "source": [
    "average_gas_boiler__W = df_prep[boiler_status_mask]['calculated_g_use_boiler_hhv__W'].mean()                              \n",
    "average_gas_boiler__W"
   ]
  },
  {
   "cell_type": "markdown",
   "id": "b7eacfbe-afc4-491a-9cda-bf028ff1df5d",
   "metadata": {},
   "source": [
    "### Inspecting gas power based used by home, based on smart meter measurements"
   ]
  },
  {
   "cell_type": "code",
   "execution_count": null,
   "id": "9df4cfb1-35d5-4fbf-b50e-04b3ee59fd6d",
   "metadata": {},
   "outputs": [],
   "source": [
    "df_prep[boiler_status_mask]['device_p1-reader_g_use_hhv__W'].mean()"
   ]
  },
  {
   "cell_type": "code",
   "execution_count": null,
   "id": "30dfabc7-9561-4aa8-9f5e-388b23d7f30d",
   "metadata": {},
   "outputs": [],
   "source": [
    "df_prep[boiler_status_mask]['gas_calorific_factor_groningen_hhv_to_actual_hhv__J0'].mean()"
   ]
  },
  {
   "cell_type": "code",
   "execution_count": null,
   "id": "331933ca-c8cc-4af1-a690-bff40f7a5cf2",
   "metadata": {},
   "outputs": [],
   "source": [
    "df_prep[boiler_status_mask]['gas_calorific_factor_groningen_hhv_to_actual_hhv__J0'].mean()"
   ]
  },
  {
   "cell_type": "code",
   "execution_count": null,
   "id": "1c0d5cb0-af57-474d-82e7-208c33eee24f",
   "metadata": {},
   "outputs": [],
   "source": [
    "df_prep[boiler_status_mask]['gas_pressure_factor_correct_smart_meter_to_actual__J0'].mean()"
   ]
  },
  {
   "cell_type": "code",
   "execution_count": null,
   "id": "6dc253b4-28de-4a82-aa33-3f639b6ad9d7",
   "metadata": {},
   "outputs": [],
   "source": [
    "conversion_factor_smart_meter = (\n",
    "    df_prep[boiler_status_mask]['gas_calorific_factor_groningen_hhv_to_actual_hhv__J0'].mean()\n",
    "    * df_prep[boiler_status_mask]['gas_pressure_factor_correct_smart_meter_to_actual__J0'].mean()\n",
    ")\n",
    "conversion_factor_smart_meter"
   ]
  },
  {
   "cell_type": "code",
   "execution_count": null,
   "id": "098be277-4eff-4725-aa15-3b8a530d97f2",
   "metadata": {},
   "outputs": [],
   "source": [
    "average_gas_smart_meter__W = df_prep[boiler_status_mask]['calculated_g_use_hhv__W'].mean()\n",
    "average_gas_smart_meter__W"
   ]
  },
  {
   "cell_type": "markdown",
   "id": "a00610ca-1114-48c3-88a2-ff0be4d59a6f",
   "metadata": {},
   "source": [
    "### Inspecting gas power based used by boiler, based on boiler counters"
   ]
  },
  {
   "cell_type": "code",
   "execution_count": null,
   "id": "69cce609-864e-4dfe-be1e-1542e508d616",
   "metadata": {},
   "outputs": [],
   "source": [
    "average_gas_input_bdr_energy_counter_ch_lhv__W = df_prep[boiler_status_mask]['batch_import_remeha_g_use_ch_lhv__W'].mean()                              \n",
    "average_gas_input_bdr_energy_counter_ch_lhv__W"
   ]
  },
  {
   "cell_type": "code",
   "execution_count": null,
   "id": "8bb7203d-d93f-4e7c-8a92-1e2ec04cad6a",
   "metadata": {},
   "outputs": [],
   "source": [
    "df_prep[boiler_status_mask]['calculated_remeha_g_use_ch_hhv__W'].mean()"
   ]
  },
  {
   "cell_type": "code",
   "execution_count": null,
   "id": "b583e2a1-6295-48c1-9b84-c9756476466a",
   "metadata": {},
   "outputs": [],
   "source": [
    "average_gas_input_bdr_energy_counter_dhw_lhv__W = df_prep[boiler_status_mask]['batch_import_remeha_g_use_dhw_lhv__W'].mean()                              \n",
    "average_gas_input_bdr_energy_counter_dhw_lhv__W"
   ]
  },
  {
   "cell_type": "code",
   "execution_count": null,
   "id": "e021aa97-878b-4d33-abda-33c8595b5ba8",
   "metadata": {},
   "outputs": [],
   "source": [
    "df_prep[boiler_status_mask]['calculated_remeha_g_use_dhw_hhv__W'].mean()"
   ]
  },
  {
   "cell_type": "code",
   "execution_count": null,
   "id": "321e9a53-c50e-4bd7-853c-40ba8d7e869a",
   "metadata": {},
   "outputs": [],
   "source": [
    "average_gas_input_bdr_energy_counter_lhv__W = (average_gas_input_bdr_energy_counter_ch_lhv__W +  average_gas_input_bdr_energy_counter_dhw_lhv__W) \n",
    "average_gas_input_bdr_energy_counter_lhv__W"
   ]
  },
  {
   "cell_type": "code",
   "execution_count": null,
   "id": "81e45cb5-ab4a-479c-b8e2-75e433f9a402",
   "metadata": {},
   "outputs": [],
   "source": [
    "average_gas_input_bdr_energy_counter__W = df_prep[boiler_status_mask]['calculated_remeha_g_use_ch_hhv__W'].mean() + df_prep[boiler_status_mask]['calculated_remeha_g_use_dhw_hhv__W'].mean()\n",
    "average_gas_input_bdr_energy_counter__W"
   ]
  },
  {
   "cell_type": "markdown",
   "id": "cf28f370-426c-4ad3-b61b-d3bd2d01f6ef",
   "metadata": {},
   "source": [
    "#### Inspecting boiler counters while valve is closed"
   ]
  },
  {
   "cell_type": "code",
   "execution_count": null,
   "id": "3d92ac04-8d99-4626-a325-a897f22f91cb",
   "metadata": {},
   "outputs": [],
   "source": [
    "df_prep[boiler_valve_closed_mask][[\n",
    "    'batch_import_remeha_fan_rotations__min_1',\n",
    "    'batch_import_remeha_g_use_ch_lhv__W',\n",
    "    'batch_import_remeha_g_use_dhw_lhv__W',\n",
    "    'calculated_remeha_g_use_ch_hhv__W',\n",
    "    'calculated_remeha_g_use_dhw_hhv__W',\n",
    "]].describe().T   "
   ]
  },
  {
   "cell_type": "markdown",
   "id": "259343d6-c560-46d5-b918-f8c949953bfb",
   "metadata": {},
   "source": [
    "### Compare gas power calculated in various ways"
   ]
  },
  {
   "cell_type": "code",
   "execution_count": null,
   "id": "2daecb61-b91a-4825-b6ff-8546d4beb93f",
   "metadata": {},
   "outputs": [],
   "source": [
    "average_gas_smart_meter__W - average_gas_boiler__W"
   ]
  },
  {
   "cell_type": "code",
   "execution_count": null,
   "id": "897feb3c-9f81-422d-a05d-f87bc22dea00",
   "metadata": {},
   "outputs": [],
   "source": [
    "average_gas_boiler__W / average_gas_smart_meter__W"
   ]
  },
  {
   "cell_type": "code",
   "execution_count": null,
   "id": "cb91eaea-c53f-47c4-9f71-051037d76e2a",
   "metadata": {},
   "outputs": [],
   "source": [
    "average_gas_boiler__W / average_gas_input_bdr_energy_counter__W"
   ]
  },
  {
   "cell_type": "code",
   "execution_count": null,
   "id": "59866e26-c08d-43c6-a14e-9b5858c7e7eb",
   "metadata": {},
   "outputs": [],
   "source": [
    "df_prep[boiler_status_mask].groupby(level='id').agg({\n",
    "    'batch_import_remeha_g_use_ch_lhv__W': ['mean'],    \n",
    "    'calculated_remeha_g_use_ch_hhv__W': ['mean'],\n",
    "    'calculated_remeha_g_use_dhw_hhv__W': ['mean'],\n",
    "    'calculated_remeha_g_use_hhv__W': ['mean'],\n",
    "    'calculated_g25_3_use_boiler_lhv__W': ['mean'],\n",
    "    'calculated_g_use_ch_hhv__W': ['mean'],\n",
    "    'calculated_g_use_dhw_hhv__W': ['mean'],\n",
    "    'calculated_g_use_boiler_hhv__W': ['mean'],\n",
    "    'calculated_g_use_hhv__W': ['mean'],\n",
    "    'calculated_heat_ch__W': ['mean'],\n",
    "}).T"
   ]
  },
  {
   "cell_type": "code",
   "execution_count": null,
   "id": "65f2021b-f963-4a33-a7a6-a377c8c3b175",
   "metadata": {},
   "outputs": [],
   "source": [
    "df_prep[boiler_status_mask][[\n",
    "    'batch_import_remeha_g_use_ch_lhv_cum__kWh',\n",
    "    'batch_import_remeha_g_use_ch_lhv__W',\n",
    "    'batch_import_remeha_g_use_dhw_lhv_cum__kWh',\n",
    "    'batch_import_remeha_g_use_dhw_lhv__W']\n",
    "].groupby(level='id').describe().T\n",
    " "
   ]
  },
  {
   "cell_type": "code",
   "execution_count": null,
   "id": "8bae7c8b-2dd6-4620-bf52-f7223a3e0a4a",
   "metadata": {},
   "outputs": [],
   "source": [
    "# Group by 'id' and calculate the means\n",
    "df_prep[boiler_status_mask].groupby(level='id').agg({\n",
    "    'batch_import_remeha_temp_ch_sup_max__degC': 'mean',\n",
    "    'batch_import_remeha_temp_sup_ch__degC': 'mean',\n",
    "    'batch_import_remeha_temp_ret_ch__degC': 'mean',\n",
    "    'rounded_temp_ret__degC': 'mean',\n",
    "    'rounded_load__%': 'mean',\n",
    "    'eta_ch_hhv__W0': 'mean',\n",
    "}).sort_values(by='eta_ch_hhv__W0', ascending=False)"
   ]
  },
  {
   "cell_type": "code",
   "execution_count": null,
   "id": "516ec8c8-9be7-4131-bd7e-d703f9376551",
   "metadata": {},
   "outputs": [],
   "source": [
    "df_prep[boiler_ch_mask]['rounded_temp_ret__degC'].mean() "
   ]
  },
  {
   "cell_type": "code",
   "execution_count": null,
   "id": "3b28a822-0bd9-43f0-8f9d-6a6637d46425",
   "metadata": {},
   "outputs": [],
   "source": [
    "df_prep[boiler_ch_mask & (df_prep['rounded_temp_ret__degC'] <30)]['rounded_temp_ret__degC'].count() / df_prep[boiler_ch_mask]['rounded_temp_ret__degC'].count()"
   ]
  },
  {
   "cell_type": "code",
   "execution_count": null,
   "id": "0eecbe67-fd2b-4023-9e55-8789969a8dbb",
   "metadata": {},
   "outputs": [],
   "source": [
    "# average efficiency on higher heating value, NOT weighted by gas input\n",
    "df_prep[boiler_ch_mask]['eta_ch_hhv__W0'].mean() "
   ]
  },
  {
   "cell_type": "code",
   "execution_count": null,
   "id": "1134151d-a409-4f33-a755-159fc56603e1",
   "metadata": {},
   "outputs": [],
   "source": [
    "# average efficiency on higher heating value, weighted by gas input\n",
    "(df_prep.loc[boiler_ch_mask, 'eta_ch_hhv__W0'] * df_prep.loc[boiler_ch_mask, 'calculated_remeha_g_use_hhv__W']).sum() / df_prep.loc[boiler_ch_mask, 'calculated_remeha_g_use_hhv__W'].sum()\n"
   ]
  },
  {
   "cell_type": "code",
   "execution_count": null,
   "id": "9276a9d1-44d2-40b1-be0a-e52c1524a883",
   "metadata": {},
   "outputs": [],
   "source": [
    "df_prep[boiler_ch_mask]['rounded_load__%'].mean() "
   ]
  },
  {
   "cell_type": "code",
   "execution_count": null,
   "id": "53237e02-e734-46cd-9668-4f2fd2b36bfc",
   "metadata": {},
   "outputs": [],
   "source": [
    "df_boiler_efficiency"
   ]
  },
  {
   "cell_type": "code",
   "execution_count": null,
   "id": "e1bf557b-6ba0-4dbc-940d-290ea2485077",
   "metadata": {},
   "outputs": [],
   "source": [
    "# Filter the DataFrame based on boiler_status_mask\n",
    "df_filtered = df_prep.loc[boiler_status_mask]\n",
    "\n",
    "# Group by 'id' and calculate the sum of the relevant columns\n",
    "grouped = df_filtered.groupby('id').agg(\n",
    "    mean_boiler_use=('calculated_g_use_boiler_hhv__W', 'mean'),\n",
    "    mean_smart_meter_use=('calculated_g_use_hhv__W', 'mean'),\n",
    "    dsmr_version=('device_p1-reader_dsmr_version__0', 'first')  # Assuming the DSMR version doesn't change within an id\n",
    ")\n",
    "\n",
    "# Calculate the ratio\n",
    "grouped['ratio'] = grouped['mean_boiler_use'] / grouped['mean_smart_meter_use']"
   ]
  },
  {
   "cell_type": "code",
   "execution_count": null,
   "id": "e1cfe3a9-2c31-4710-b0bd-62e78ee6009e",
   "metadata": {},
   "outputs": [],
   "source": [
    "grouped"
   ]
  },
  {
   "cell_type": "code",
   "execution_count": null,
   "id": "2ec27ec3-e574-4155-a957-a4286613d7bd",
   "metadata": {},
   "outputs": [],
   "source": [
    "# Now, group by DSMR version and calculate the mean ratio for each version\n",
    "version_grouped = grouped.groupby('dsmr_version').agg(\n",
    "    sum_mean_boiler_use=('mean_boiler_use', 'sum'),\n",
    "    sum_mean_smart_meter_use=('mean_smart_meter_use', 'sum'),\n",
    "    mean_ratio=('ratio', 'mean'),\n",
    "    count=('ratio', 'size'))\n",
    "\n",
    "version_grouped['ratio_sums'] =  version_grouped['sum_mean_boiler_use'] / version_grouped['sum_mean_smart_meter_use']\n"
   ]
  },
  {
   "cell_type": "code",
   "execution_count": null,
   "id": "41ff175f-71fa-438a-9641-b8934adfca31",
   "metadata": {},
   "outputs": [],
   "source": [
    "version_grouped"
   ]
  },
  {
   "cell_type": "markdown",
   "id": "e764cee6-475f-4e93-a73b-de838d8f17e4",
   "metadata": {},
   "source": [
    "### Boxplots per home (when boiler is burning for central heating & gas value is open)"
   ]
  },
  {
   "cell_type": "code",
   "execution_count": null,
   "id": "fbb96ea3-ff1d-4c46-bf64-f3b2b248a391",
   "metadata": {},
   "outputs": [],
   "source": [
    "# Group by 'id' and calculate the mean for both 'eta_ch_hhv__W0' and 'batch_import_remeha_temp_ret__degC'\n",
    "df_prep[boiler_ch_mask].groupby(level='id').agg({\n",
    "    'batch_import_remeha_temp_ch_sup_max__degC': 'mean',\n",
    "    'batch_import_remeha_temp_sup__degC': 'mean',\n",
    "    'batch_import_remeha_temp_ret__degC': 'mean',\n",
    "    'rounded_temp_ret__degC': 'mean',\n",
    "    'rounded_load__%': 'mean',\n",
    "    'eta_ch_hhv__W0': 'mean',\n",
    "    'calculated_heat_ch__W': 'max',\n",
    "}).sort_values(by='eta_ch_hhv__W0', ascending=False)"
   ]
  },
  {
   "cell_type": "code",
   "execution_count": null,
   "id": "4857842e-0ca3-4261-8ece-b11b0c109f58",
   "metadata": {},
   "outputs": [],
   "source": [
    "Plot.nfh_property_per_id_boxplot(df_prep[boiler_ch_mask], property_col='rounded_temp_ret__degC')"
   ]
  },
  {
   "cell_type": "code",
   "execution_count": null,
   "id": "06f61765-0576-416a-ae8c-7666f4fd4ab5",
   "metadata": {},
   "outputs": [],
   "source": [
    "Plot.nfh_property_per_id_boxplot(df_prep[boiler_ch_mask], property_col='rounded_load__%')"
   ]
  },
  {
   "cell_type": "code",
   "execution_count": null,
   "id": "3f96329c-c1c1-4b9c-8bff-986664dd1016",
   "metadata": {},
   "outputs": [],
   "source": [
    "Plot.nfh_property_per_id_boxplot(df_prep[boiler_ch_mask], property_col='eta_ch_hhv__W0')"
   ]
  },
  {
   "cell_type": "code",
   "execution_count": null,
   "id": "3ffbfb88-25eb-416b-9743-5116e8075643",
   "metadata": {},
   "outputs": [],
   "source": [
    "Plot.nfh_property_per_id_boxplot(df_prep[boiler_ch_mask], property_col='calculated_heat_ch__W')"
   ]
  },
  {
   "cell_type": "markdown",
   "id": "9a0d8967-cc17-47f7-92fe-6863c9f88a61",
   "metadata": {},
   "source": [
    "## Write heat distribution results"
   ]
  },
  {
   "cell_type": "markdown",
   "id": "24ced4f0-4565-4a32-a8dd-3a58204dd976",
   "metadata": {},
   "source": [
    "### Writing heat distribution preprocessing results results to parquet file"
   ]
  },
  {
   "cell_type": "code",
   "execution_count": null,
   "id": "9c3927c3-a174-4376-98d8-52fbcbb76fb8",
   "metadata": {},
   "outputs": [],
   "source": [
    "df_heat_dist = df_prep[['batch_import_KNMI_ghi__W_m_2',\n",
    "                        'batch_import_KNMI_temp_outdoor__degC',\n",
    "                        'batch_import_KNMI_wind__m_s_1',\n",
    "                        'device_p1-reader_g_use_hhv__W',\n",
    "                        'batch_import_remeha_boiler_status_burning_ch__bool',\n",
    "                        'batch_import_remeha_boiler_status_burning_dhw__bool', \n",
    "                        'batch_import_remeha_gas_valve_closed__bool',\n",
    "                        'batch_import_remeha_gas_valve_open__bool',\n",
    "                        'batch_import_remeha_fan_rotations__min_1', \n",
    "                        'batch_import_remeha_ch_water_pump_speed__0', \n",
    "                        'batch_import_remeha_g_use_ch_lhv__W',\n",
    "                        'batch_import_remeha_g_use_dhw_lhv__W',\n",
    "                        'batch_import_remeha_temp_set__degC',\n",
    "                        'batch_import_remeha_temp_indoor__degC',\n",
    "                        'device_living_room_calibrated_temp_indoor__degC',\n",
    "                        'batch_import_remeha_temp_sup__degC',\n",
    "                        'batch_import_remeha_temp_ret__degC',\n",
    "                        'batch_import_remeha_temp_sup_ch__degC',\n",
    "                        'batch_import_remeha_temp_ret_ch__degC',\n",
    "                        'batch_import_remeha_temp_ch_sup_max__degC', \n",
    "                        'calculated_g_use_hhv__W',\n",
    "                        'calculated_g_use_boiler_hhv__W',\n",
    "                        'calculated_g_use_dhw_hhv__W',\n",
    "                        'calculated_g_use_ch_hhv__W',\n",
    "                        'eta_ch_hhv__W0',\n",
    "                        'calculated_heat_ch__W',\n",
    "                        'rounded_load__%',\n",
    "                        'rounded_temp_ret__degC',\n",
    "                       ]]"
   ]
  },
  {
   "cell_type": "code",
   "execution_count": null,
   "id": "3b31d206-5506-4c35-94f4-f5a8d5114872",
   "metadata": {},
   "outputs": [],
   "source": [
    "df_heat_dist.info()"
   ]
  },
  {
   "cell_type": "code",
   "execution_count": null,
   "id": "55ecdfe4-f2e7-43b8-a0bb-24e6899f9d7c",
   "metadata": {},
   "outputs": [],
   "source": [
    "# %%time \n",
    "# df_heat_dist.to_parquet(rhc_heat_dist_preprocessed_poperties_file, index=True, engine='pyarrow')"
   ]
  },
  {
   "cell_type": "markdown",
   "id": "53c0199e-739e-41c6-baaa-f4f89bcaaff6",
   "metadata": {},
   "source": [
    "### Writing heat distribution preprocessing results to multiple zipped CSV files"
   ]
  },
  {
   "cell_type": "code",
   "execution_count": null,
   "id": "9026b78c-6225-49ad-b4c1-f74703aba354",
   "metadata": {},
   "outputs": [],
   "source": [
    "# %%time \n",
    "# # uncomment this entire block of code to enable it \n",
    "# # for home_id in tqdm(df_heat_dist.index.get_level_values('id').unique()[:3]):\n",
    "# # for home_id in tqdm(df_heat_dist.index.get_level_values('id').unique()[3:]):\n",
    "# # for home_id in [483173]:\n",
    "# for home_id in tqdm(df_heat_dist.index.get_level_values('id').unique()):\n",
    "#     df_heat_dist.xs(home_id, drop_level=False).to_csv(\n",
    "#         f'{home_id}_heat_dist_preprocessed_properties.zip',\n",
    "#         encoding='utf-8',\n",
    "#         compression= dict(method='zip',\n",
    "#                           archive_name=f'{home_id}_heat_dist_preprocessed_properties.csv'),\n",
    "#         date_format='%Y-%m-%dT%H:%M:%S%z'\n",
    "#     )\n"
   ]
  },
  {
   "cell_type": "markdown",
   "id": "996d4ede-47a5-4b0a-b0cc-213f66a90eb4",
   "metadata": {},
   "source": [
    "## Inspect  return temperatures"
   ]
  },
  {
   "cell_type": "code",
   "execution_count": null,
   "id": "aa218f9d-4ae8-43ab-b88d-6d15a89e614c",
   "metadata": {},
   "outputs": [],
   "source": [
    "units_to_mathtext = property_types = {\n",
    "    'degC' : r'$°C$',\n",
    "    'ppm' : r'$ppm$',\n",
    "    '0' : r'$[-]$',\n",
    "    'bool': r'$0 = False; 1 = True$',\n",
    "    'p' : r'$persons$',\n",
    "    'W' : r'$W$',\n",
    "    'W_m_2' : r'$W/m^{2}$',\n",
    "    'm_s_1' : r'$m/s$',\n",
    "    'W0' : r'$W^{0}$',\n",
    "    'l_min_1' : r'$L/min$',\n",
    "}"
   ]
  },
  {
   "cell_type": "code",
   "execution_count": null,
   "id": "58460792-c0b4-440a-acd1-94386f3fe8b7",
   "metadata": {},
   "outputs": [],
   "source": [
    "# time mask for one week in winter with almost all ids having data\n",
    "returntemp_mask = (\n",
    "    (df_prep.index.get_level_values('id') == 483173)\n",
    "    & \n",
    "    (df_prep.index.get_level_values('timestamp') >= pd.to_datetime('2024-03-04 00:00:00+01:00'))\n",
    "    & \n",
    "    (df_prep.index.get_level_values('timestamp') < pd.to_datetime('2024-03-11 00:00:00+01:00'))\n",
    ")\n"
   ]
  },
  {
   "cell_type": "code",
   "execution_count": null,
   "id": "1ab26cbf-7a61-42be-bf51-9e14973433f9",
   "metadata": {},
   "outputs": [],
   "source": [
    "Plot.dataframe_preprocessed_plot(df_prep[returntemp_mask][['batch_import_remeha_ch_water_pump_speed__0',\n",
    "                                                           'batch_import_remeha_temp_sup__degC',\n",
    "                                                           'batch_import_remeha_temp_ret__degC',\n",
    "                                                           'batch_import_remeha_temp_sup_ch__degC',\n",
    "                                                           'batch_import_remeha_temp_ret_ch__degC',\n",
    "                                                           'batch_import_remeha_dhw_flow__l_min_1',\n",
    "                                                           'calculated_g_use_ch_hhv__W',\n",
    "                                                           'calculated_g_use_dhw_hhv__W']\n",
    "                                 ], units_to_mathtext)"
   ]
  },
  {
   "cell_type": "markdown",
   "id": "bffda6fb-9c44-481d-a187-66704d4544ac",
   "metadata": {
    "tags": []
   },
   "source": [
    "## Learn energy profile parameters\n",
    "\n",
    "Most of the heavy lifting is done by the `learn_energy_profile()` function, which again uses the [GEKKO Python](https://machinelearning.byu.edu/) dynamic optimization toolkit."
   ]
  },
  {
   "cell_type": "code",
   "execution_count": null,
   "id": "1aad52f4-39c1-42d5-87c6-6b067b87bb26",
   "metadata": {
    "tags": []
   },
   "outputs": [],
   "source": [
    "# If room metadata is set to None, then learn_home_parameters() will derive the metadata from the ids.\n",
    "%autoreload 2\n",
    "\n",
    "hints = {\n",
    "    'heat_tr_building_cond__W_K_1': heat_tr_building_nl_avg__W_K_1,      # specific heat loss\n",
    "    'th_inertia_building__h':       th_inertia_building_nl_avg__h,       # thermal inertia\n",
    "    'aperture_sol__m2':             aperture_sol_nl_avg__m2,             # apparent solar aperture\n",
    "    'wind_chill__K_s_m_1':          wind_chill_nl_avg__K_s_m_1,          # wind chill factor\n",
    "    'aperture_inf__cm2':            aperture_inf_nl_avg__cm2,            # effective infiltration area \n",
    "    'occupancy__p':                 occupancy_nl_avg__p,                 # house occupancy\n",
    "    'heat_int__W_p_1':              heat_int_nl_avg__W_p_1,              # heat gain per occupant\n",
    "    'eta_ch_hhv__W0':               eta_ch_nl_avg_hhv__W0,               # home heating efficiency of a gas boiler (based on higher heating value)\n",
    "    'eta_dhw_hhv__W0':              eta_dhw_nl_avg_hhv__W0,              # domestic hot water efficiency\n",
    "    'frac_remain_dhw__0':           frac_remain_dhw_nl_avg__0,           # fraction of domestic hot water heat contributing to heating the home\n",
    "    'g_use_cooking_hhv__W':         g_use_cooking_nl_avg_hhv__W,         # gas power (higher heating value) for cooking \n",
    "    'eta_cooking_hhv__W0':          eta_cooking_nl_avg_hhv__W0,          # cooking efficiency\n",
    "    'frac_remain_cooking__0':       frac_remain_cooking_nl_avg__0,       # fraction of cooking heat contributing to heating the home\n",
    "    'heat_tr_dist__W_K_1':          heat_tr_dist_nl_avg__W_K_1,          # heat dissipation capacity of the heat distribution system\n",
    "    'th_mass_dist__Wh_K_1':         (th_mass_dist_nl_avg__W_K_1/s_h_1),  # thermal mass of the heat distribution system\n",
    "    'ventilation_default__dm3_s_1': 7.0,                                 # default ventilation rate for the entire home\n",
    "    'ventilation_max__dm3_s_1_m_2': 1.0,                                 # maximum ventilation rate per m2 floor area\n",
    "    'co2_outdoor__ppm':             co2_outdoor_eu_avg_2022__ppm,        # average CO₂ outdoor concentration\n",
    "}\n",
    "\n",
    "learn = [\n",
    "    'heat_tr_building_cond__W_K_1',\n",
    "    'th_inertia_building__h',\n",
    "    'th_mass_building__Wh_K_1',\n",
    "    'aperture_sol__m2',\n",
    "    'aperture_inf__cm2',\n",
    "    'ventilation__dm3_s_1', \n",
    "    # 'heat_tr_dist__W_K_1', 'th_mass_dist__J_K_1',\n",
    "]\n",
    "\n",
    "\n",
    "learned_properties = [f'learned_{prop}' for prop in learn]\n",
    "# mae_learned_properties = [f'mae_{prop}' for prop in learn]\n",
    "# rmse_learned_properties = [f'rse_{prop}' for prop in learn]\n",
    "\n",
    "# select which property columns in df_prep are used as properties needed by the learning algorithm\n",
    "property_sources = {\n",
    "    'temp_indoor__degC':    'batch_import_remeha_temp_indoor__degC',\n",
    "    'temp_outdoor__degC':   'batch_import_KNMI_temp_outdoor__degC',\n",
    "    'wind__m_s_1':          'batch_import_KNMI_wind__m_s_1',\n",
    "    'ghi__W_m_2':           'batch_import_KNMI_ghi__W_m_2', \n",
    "    'g_use_ch_hhv__W':      'calculated_g_use_ch_hhv__W',\n",
    "    'eta_ch_hhv__W0':       'eta_ch_hhv__W0', \n",
    "    'g_use_dhw_hhv__W' :    'calculated_g_use_dhw_hhv__W',\n",
    "    'e__W' :                'calculated_device_p1-reader_e__W',    \n",
    "    'occupancy__p':         'device_living_room_occupancy__p',\n",
    "    'co2_indoor__ppm':      'device_living_room_co2_indoor__ppm',\n",
    "    # 'temp_sup_ch__degC':   'batch_import_remeha_temp_sup_ch__degC',\n",
    "    # 'temp_ret_ch__degC':   'batch_import_remeha_temp_ret_ch__degC',\n",
    "}"
   ]
  },
  {
   "cell_type": "code",
   "execution_count": null,
   "id": "6cda0e6e-a276-4215-a544-0dcef0c02d84",
   "metadata": {
    "tags": []
   },
   "outputs": [],
   "source": [
    "props = list(property_sources.values())"
   ]
  },
  {
   "cell_type": "code",
   "execution_count": null,
   "id": "609c297c-1ba1-4be3-9e42-df38b834ed18",
   "metadata": {},
   "outputs": [],
   "source": [
    "props"
   ]
  },
  {
   "cell_type": "code",
   "execution_count": null,
   "id": "b617b940-d414-4ff4-8af6-385a39a63ca0",
   "metadata": {},
   "outputs": [],
   "source": [
    "%%time \n",
    "df_home_bag_data = pd.read_excel(home_BAG_data_file_path,  index_col='id')"
   ]
  },
  {
   "cell_type": "markdown",
   "id": "902030d5-f64c-48ce-80f9-155ba46a7261",
   "metadata": {},
   "source": [
    "### Define (subsets of) learning periods and (subsets of) home ids to perform the learning on"
   ]
  },
  {
   "cell_type": "code",
   "execution_count": null,
   "id": "0686fb89-8da2-401b-9e74-393016a4511c",
   "metadata": {},
   "outputs": [],
   "source": [
    "# time mask for core of winter with most data\n",
    "janfebmrt24_mask = ((df_prep.index.get_level_values('timestamp') >= pd.to_datetime('2024-01-01 00:00:00+01:00')) \n",
    "                    & \n",
    "                    (df_prep.index.get_level_values('timestamp') < pd.to_datetime('2024-04-01 00:00:00+02:00'))\n",
    "                   )"
   ]
  },
  {
   "cell_type": "code",
   "execution_count": null,
   "id": "09d1900c-fd9c-450c-b9d6-1670dd91b054",
   "metadata": {},
   "outputs": [],
   "source": [
    "# time mask for one week in winter with almost all ids having data\n",
    "febwk3_mask = ((df_prep.index.get_level_values('timestamp') >= pd.to_datetime('2024-02-18 00:00:00+01:00'))\n",
    "               & \n",
    "               (df_prep.index.get_level_values('timestamp') < pd.to_datetime('2024-02-25 00:00:00+01:00'))\n",
    "              )\n"
   ]
  },
  {
   "cell_type": "code",
   "execution_count": null,
   "id": "e9de2ad4-daee-4981-b376-7f465d00e9fa",
   "metadata": {},
   "outputs": [],
   "source": [
    "# time mask for one week in winter with almost all ids having data\n",
    "feb_mask = ((df_prep.index.get_level_values('timestamp') >= pd.to_datetime('2024-02-01 00:00:00+01:00'))\n",
    "            & \n",
    "            (df_prep.index.get_level_values('timestamp') < pd.to_datetime('2024-02-29 00:00:00+01:00'))\n",
    "           )\n"
   ]
  },
  {
   "cell_type": "code",
   "execution_count": null,
   "id": "4435ca99-9f15-44a7-a0c2-7ce0c71b258c",
   "metadata": {},
   "outputs": [],
   "source": [
    "specific_id = 434931\n",
    "specific_ids = [434931, 450298, 495906]"
   ]
  },
  {
   "cell_type": "markdown",
   "id": "493aca4e-09ee-4ea9-90d3-cf7021de19fd",
   "metadata": {},
   "source": [
    "### Check presence of properties"
   ]
  },
  {
   "cell_type": "code",
   "execution_count": null,
   "id": "2b34fb80-184a-44a1-aaab-6bbea4195353",
   "metadata": {},
   "outputs": [],
   "source": [
    "Plot.plot_missing_data_overview(df_prep[janfebmrt24_mask], properties_include=props, freq='1W', title_fontsize=8)"
   ]
  },
  {
   "cell_type": "code",
   "execution_count": null,
   "id": "6e54cdd3-f75d-4780-88c6-2b1a3b0fb765",
   "metadata": {},
   "outputs": [],
   "source": [
    "df_prep[febwk3_mask][props].xs(specific_id, level='id', drop_level=False).describe().T"
   ]
  },
  {
   "cell_type": "code",
   "execution_count": null,
   "id": "abcd8224-166b-431e-941e-b2fb209bc7ec",
   "metadata": {},
   "outputs": [],
   "source": [
    "df_prep[feb_mask][props].xs(specific_id, level='id', drop_level=False).describe().T"
   ]
  },
  {
   "cell_type": "code",
   "execution_count": null,
   "id": "754f990a-3380-446f-885a-41fc6141f45a",
   "metadata": {},
   "outputs": [],
   "source": [
    "df_prep[janfebmrt24_mask][props].xs(specific_id, level='id', drop_level=False).describe().T"
   ]
  },
  {
   "cell_type": "code",
   "execution_count": null,
   "id": "bf08b9eb-75e1-4998-8487-7cd36ac80c88",
   "metadata": {},
   "outputs": [],
   "source": [
    "Plot.dataframe_preprocessed_plot(df_prep[feb_mask][props].xs(specific_id, level='id', drop_level=False), units_to_mathtext)"
   ]
  },
  {
   "cell_type": "markdown",
   "id": "fac8ce42-1881-4246-b6b8-6b8c886874f3",
   "metadata": {},
   "source": [
    "### Use GEKKO model to learn the energy profile parameters"
   ]
  },
  {
   "cell_type": "code",
   "execution_count": null,
   "id": "d4db29ae-cb67-44b7-9f57-d99e6334e65c",
   "metadata": {},
   "outputs": [],
   "source": [
    "hints"
   ]
  },
  {
   "cell_type": "code",
   "execution_count": null,
   "id": "46760423-0573-40be-b2bc-50ffdd7f173b",
   "metadata": {},
   "outputs": [],
   "source": [
    "th_inertia_dist_nl_avg__h = hints['th_mass_dist__Wh_K_1']  / hints['heat_tr_dist__W_K_1']\n",
    "th_inertia_dist_nl_avg__h"
   ]
  },
  {
   "cell_type": "code",
   "execution_count": null,
   "id": "54897379-52dd-4393-a6c5-4528febc4189",
   "metadata": {},
   "outputs": [],
   "source": [
    "learn"
   ]
  },
  {
   "cell_type": "code",
   "execution_count": null,
   "id": "d6e191e5-b2f6-4087-be5a-e0a65531c3c5",
   "metadata": {
    "tags": []
   },
   "outputs": [],
   "source": [
    "# learn the model parameters and write results to a dataframe\n",
    "%autoreload 2\n",
    "idx = pd.IndexSlice\n",
    "df_results_per_period, df_results = Learner.learn_energy_profile(df_prep[febwk3_mask][props].loc[idx[[specific_id]], :],                                                                 \n",
    "# df_results_per_period, df_results = Learner.learn_energy_profile(df_prep[feb_mask][props].loc[idx[specific_ids], :],                                                                 \n",
    "# df_results_per_period, df_results = Learner.learn_energy_profile(df_prep[janfebmrt24_mask][props],\n",
    "                                                                 property_sources = property_sources,\n",
    "                                                                 df_building_data = df_home_bag_data,\n",
    "                                                                 learn = learn, \n",
    "                                                                 hints = hints,\n",
    "                                                                 learn_period__d=7,\n",
    "                                                                 learn_change_interval__min = 30,\n",
    "                                                                 req_col = list(property_sources.values()),\n",
    "                                                                 ev_type = 2\n",
    "                                                                )"
   ]
  },
  {
   "cell_type": "code",
   "execution_count": null,
   "id": "e5775bad-9275-4c55-81e1-087907a415be",
   "metadata": {},
   "outputs": [],
   "source": [
    "%%time \n",
    "# Convert all datetime columns to timezone-naive\n",
    "df_results_per_period_no_tz = df_results_per_period.apply(lambda x: x.dt.tz_localize(None) if x.dtype.kind == 'M' else x)\n",
    "\n",
    "# Export to Excel\n",
    "df_results_per_period_no_tz.to_excel(rhc_analysis_results_per_period_file)\n"
   ]
  },
  {
   "cell_type": "code",
   "execution_count": null,
   "id": "a6b66328-8745-443b-a537-91396da0d3b5",
   "metadata": {},
   "outputs": [],
   "source": [
    "%%time \n",
    "df_results.to_parquet(rhc_analysis_results_file, index=True, engine='pyarrow')"
   ]
  },
  {
   "cell_type": "markdown",
   "id": "4f8e1c04-657b-474f-a2d6-ccc4fc329037",
   "metadata": {},
   "source": [
    "## Result visualization"
   ]
  },
  {
   "cell_type": "markdown",
   "id": "67e0c68c-138b-487e-8b9e-e3eee61268f6",
   "metadata": {},
   "source": [
    "### (optional) Read results"
   ]
  },
  {
   "cell_type": "code",
   "execution_count": null,
   "id": "9ef9165f-6d84-4eff-844b-1b224a382c4c",
   "metadata": {},
   "outputs": [],
   "source": [
    "%%time\n",
    "\n",
    "# Attempt to read the Parquet file\n",
    "try:\n",
    "    df_results = pd.read_parquet(\n",
    "        rhc_analysis_results_file, \n",
    "        engine='pyarrow',\n",
    "        dtype_backend='numpy_nullable'\n",
    "        )\n",
    "    print(\"File was successfully read without specifying compression codec.\")\n",
    "except Exception as e:\n",
    "    print(f\"Error reading file: {e}\")"
   ]
  },
  {
   "cell_type": "code",
   "execution_count": null,
   "id": "a2573e75-4ac7-4fa4-89af-6a5d5d3039fe",
   "metadata": {},
   "outputs": [],
   "source": [
    "%%time \n",
    "df_results_per_period = pd.read_excel(rhc_analysis_results_per_period_file,  index_col='id')"
   ]
  },
  {
   "cell_type": "markdown",
   "id": "92d30c50-8576-46ce-94f1-77391286894e",
   "metadata": {},
   "source": [
    "### Result per learning period"
   ]
  },
  {
   "cell_type": "code",
   "execution_count": null,
   "id": "1d9bf3da-ff5f-4cce-8d2f-36123b1abad1",
   "metadata": {},
   "outputs": [],
   "source": [
    "if 'ventilation__dm3_s_1' in learn:\n",
    "    learned_properties.remove('learned_ventilation__dm3_s_1')"
   ]
  },
  {
   "cell_type": "code",
   "execution_count": null,
   "id": "e33ff9b5-eb3c-4026-abc2-1b2d5b44ffa0",
   "metadata": {},
   "outputs": [],
   "source": [
    "df_results_per_period[learned_properties].describe().T"
   ]
  },
  {
   "cell_type": "code",
   "execution_count": null,
   "id": "cf59db2f-a7cf-4064-8433-1deb29f0c360",
   "metadata": {},
   "outputs": [],
   "source": [
    "df_results_per_period[learned_properties].groupby('id').describe().T"
   ]
  },
  {
   "cell_type": "code",
   "execution_count": null,
   "id": "6bd1cdec-902d-4382-a99e-8ae3d4230cdb",
   "metadata": {},
   "outputs": [],
   "source": [
    "for learned_prop in learned_properties:\n",
    "    Plot.nfh_property_per_id_boxplot(df_results_per_period, property_col=learned_prop)"
   ]
  },
  {
   "cell_type": "code",
   "execution_count": null,
   "id": "8a5f7769-3fa9-4125-968a-ed9be017c6d1",
   "metadata": {},
   "outputs": [],
   "source": [
    "# show essential statistics for the errors; all homeperiods combined\n",
    "df_results_per_period[['mae_temp_indoor__degC', 'rmse_temp_indoor__degC']].describe()"
   ]
  },
  {
   "cell_type": "code",
   "execution_count": null,
   "id": "fd406b1d-3e14-4625-91a4-00bbb3a02f62",
   "metadata": {},
   "outputs": [],
   "source": [
    "# show essential statistics for the errors; all periods per home\n",
    "df_results_per_period[['mae_temp_indoor__degC', 'rmse_temp_indoor__degC']].groupby('id').describe().T"
   ]
  },
  {
   "cell_type": "markdown",
   "id": "5449c5bd-9446-4814-82bb-da2a228bc27b",
   "metadata": {},
   "source": [
    "### Visualization of simulated indoor temperatures"
   ]
  },
  {
   "cell_type": "code",
   "execution_count": null,
   "id": "88306340-8435-4302-acd4-fd3a5a6e0f5f",
   "metadata": {},
   "outputs": [],
   "source": [
    "df_results"
   ]
  },
  {
   "cell_type": "code",
   "execution_count": null,
   "id": "abeff269-5495-4919-a4c6-7907ae0d9330",
   "metadata": {},
   "outputs": [],
   "source": [
    "df_results['sim_temp_indoor__degC'].groupby('id').count().to_frame().T"
   ]
  },
  {
   "cell_type": "code",
   "execution_count": null,
   "id": "d6e31980-2133-40d0-b584-60cb1e6be84d",
   "metadata": {},
   "outputs": [],
   "source": [
    "if 'ventilation__dm3_s_1' in learn:\n",
    "    display(df_results['learned_ventilation__dm3_s_1'].groupby('id').count().to_frame().T)\n",
    "    display(df_results['learned_ventilation__dm3_s_1'].groupby('id').describe().T)"
   ]
  },
  {
   "cell_type": "code",
   "execution_count": null,
   "id": "4eab0dcf-9be7-4d16-8960-0a12a65c157b",
   "metadata": {},
   "outputs": [],
   "source": [
    "df_results['learned_ventilation__dm3_s_1']"
   ]
  },
  {
   "cell_type": "code",
   "execution_count": null,
   "id": "29d4dd2f-1659-438b-911d-a4cb3f5edd4f",
   "metadata": {},
   "outputs": [],
   "source": [
    "#Plot only temperatures from all sources for all ids\n",
    "Plot.dataframe_preprocessed_plot(df_results[['batch_import_remeha_temp_indoor__degC', 'sim_temp_indoor__degC']].xs(specific_id, level='id', drop_level=False), units_to_mathtext)\n",
    "# Plot.dataframe_preprocessed_plot(df_results['batch_import_remeha_temp_indoor__degC', 'sim_temp_indoor__degC']], units_to_mathtext)"
   ]
  },
  {
   "cell_type": "code",
   "execution_count": null,
   "id": "80c3819d-1fda-4472-a529-a250f8d91212",
   "metadata": {},
   "outputs": [],
   "source": []
  }
 ],
 "metadata": {
  "kernelspec": {
   "display_name": "Python 3 (ipykernel)",
   "language": "python",
   "name": "python3"
  },
  "language_info": {
   "codemirror_mode": {
    "name": "ipython",
    "version": 3
   },
   "file_extension": ".py",
   "mimetype": "text/x-python",
   "name": "python",
   "nbconvert_exporter": "python",
   "pygments_lexer": "ipython3",
   "version": "3.11.6"
  },
  "vscode": {
   "interpreter": {
    "hash": "2b52c2ff5431c21ddbe91dac57ae43ca32d3900acacc91a5c2a32f1a3c11d7aa"
   }
  }
 },
 "nbformat": 4,
 "nbformat_minor": 5
}
