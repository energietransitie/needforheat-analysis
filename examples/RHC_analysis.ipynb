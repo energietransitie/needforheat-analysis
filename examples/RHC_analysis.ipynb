{
 "cells": [
  {
   "cell_type": "markdown",
   "id": "02aa6298-301d-4d2f-b59e-7bc2432c67d4",
   "metadata": {},
   "source": [
    "# REDUCEDHEATCARB analysis\n",
    "\n",
    "This JupyterLabs notebook can be used for physics ifnormed machine learning analysis in the REDUCEDHEATCAB project.\n",
    "Don't forget to install the requirements listed in [requirements.txt](../requirements.txt) first!"
   ]
  },
  {
   "cell_type": "markdown",
   "id": "40e8f82e-93a6-4156-b4cb-4744c4cc8c13",
   "metadata": {},
   "source": [
    "## Setting the stage\n",
    "\n",
    "First several imports and variables need to be defined\n"
   ]
  },
  {
   "cell_type": "markdown",
   "id": "b276aade-cd93-4e8a-957d-fdc2d3a84336",
   "metadata": {},
   "source": [
    "### Imports and generic settings"
   ]
  },
  {
   "cell_type": "code",
   "execution_count": null,
   "id": "08d2d6ec-cf03-47d6-a505-bf37716c4700",
   "metadata": {},
   "outputs": [],
   "source": [
    "import numpy as np\n",
    "import pandas as pd\n",
    "\n",
    "%load_ext autoreload\n",
    "\n",
    "    \n",
    "from tqdm.notebook import tqdm\n",
    "\n",
    "from gekko import GEKKO\n",
    "\n",
    "import sys\n",
    "sys.path.append('../data/')\n",
    "sys.path.append('../view/')\n",
    "sys.path.append('../analysis/')\n",
    "\n",
    "from plotter import Plot\n",
    "import matplotlib.pyplot as plt\n",
    "%matplotlib inline\n",
    "%matplotlib widget\n",
    "\n",
    "\n",
    "from nfh_utils import *\n",
    "\n",
    "# usually, two decimals suffice for displaying DataFrames (NB internally, precision may be higher)\n",
    "pd.options.display.precision = 2\n",
    "\n",
    "from rhc_analysis import Learner\n",
    "\n",
    "# rhc_preprocessed_poperties_file='rhc_preprocessed_properties_intv_5_min.parquet'\n",
    "rhc_preprocessed_poperties_file='rhc_preprocessed_properties_intv_1_min.parquet'\n",
    "#rhc_preprocessed_poperties_file='rhc_heat_dist_preprocessed_properties.parquet'\n",
    "\n",
    "home_data_file_path = \"home_data.parquet\"\n",
    "boiler_returntemp_load_efficiency_file_path = \"boiler_returntemp_load_efficiency.parquet\"\n",
    "boiler_returntemp_efficiency_file_path = \"boiler_returntemp_efficiency.parquet\"\n",
    "\n",
    "# File for intermediate output (including preprocessing that may likely needs to migrate to the GEKKO model code for the what-if simulations)\n",
    "rhc_heat_dist_preprocessed_poperties_file='rhc_heat_dist_preprocessed_properties.parquet'\n"
   ]
  },
  {
   "cell_type": "markdown",
   "id": "67602115-22ca-4ea5-a6ee-58d851205533",
   "metadata": {},
   "source": [
    "### Reading preprocessed interpolated properties from a parquet file"
   ]
  },
  {
   "cell_type": "code",
   "execution_count": null,
   "id": "b8547a2a-b7cd-465a-a94d-a5bf10c88ea7",
   "metadata": {},
   "outputs": [],
   "source": [
    "%%time\n",
    "\n",
    "# Attempt to read the Parquet file\n",
    "try:\n",
    "    df_prep = pd.read_parquet(\n",
    "        rhc_preprocessed_poperties_file, \n",
    "        engine='pyarrow',\n",
    "        dtype_backend='numpy_nullable'\n",
    "        )\n",
    "    print(\"File was successfully read without specifying compression codec.\")\n",
    "except Exception as e:\n",
    "    print(f\"Error reading file: {e}\")"
   ]
  },
  {
   "cell_type": "code",
   "execution_count": null,
   "id": "25260ecc-713e-4436-a9ec-43090f878782",
   "metadata": {},
   "outputs": [],
   "source": [
    "#sorting the DataFrame index is needed to get good performance on certain filters\n",
    "#this guarding code to check whether DataFrames are properly sorted\n",
    "if not df_prep.index.is_monotonic_increasing:\n",
    "    print('df needed index sorting')\n",
    "    df_prep = df_prep.sort_index()  "
   ]
  },
  {
   "cell_type": "code",
   "execution_count": null,
   "id": "eda4ab11-d12c-4241-b820-9eea541fd35b",
   "metadata": {},
   "outputs": [],
   "source": [
    "print(f\"df_prep.count().sum(): {df_prep.count().sum():_}\")"
   ]
  },
  {
   "cell_type": "code",
   "execution_count": null,
   "id": "a7fd00c9-b0fa-470f-a99b-0afd761f86ee",
   "metadata": {},
   "outputs": [],
   "source": [
    "df_prep.info()"
   ]
  },
  {
   "cell_type": "code",
   "execution_count": null,
   "id": "26dbce2a-bdb0-4bc2-9eb8-fe75aa476e18",
   "metadata": {
    "scrolled": true
   },
   "outputs": [],
   "source": [
    "print(\"[\\n'\",\"', \\n'\".join(sorted(df_prep.columns)),\"'\\n]\")"
   ]
  },
  {
   "cell_type": "code",
   "execution_count": null,
   "id": "aa218f9d-4ae8-43ab-b88d-6d15a89e614c",
   "metadata": {},
   "outputs": [],
   "source": [
    "%autoreload 2\n",
    "units_to_mathtext = property_types = {\n",
    "    'degC' : r'$°C$',\n",
    "    'ppm' : r'$ppm$',\n",
    "    '0' : r'$[-]$',\n",
    "    'bool': r'$0 = False; 1 = True$',\n",
    "    'p' : r'$persons$',\n",
    "    'W' : r'$W$',\n",
    "    'W_m_2' : r'$W/m^{2}$',\n",
    "    'm_s_1' : r'$m/s$'    \n",
    "}"
   ]
  },
  {
   "cell_type": "code",
   "execution_count": null,
   "id": "b57fe0ff-48de-4dce-bdb0-a23f3ac5ea06",
   "metadata": {
    "tags": []
   },
   "outputs": [],
   "source": [
    "# visuaize all input data\n",
    "df_plot = df_prep"
   ]
  },
  {
   "cell_type": "code",
   "execution_count": null,
   "id": "bc10153f-5b47-48ed-bc6e-9d3af88e73a7",
   "metadata": {},
   "outputs": [],
   "source": [
    "list(df_plot.index.unique('id').dropna())"
   ]
  },
  {
   "cell_type": "code",
   "execution_count": null,
   "id": "250ab28c-cd29-4b25-9038-cddf64659890",
   "metadata": {},
   "outputs": [],
   "source": [
    "df_plot.index.unique('id').dropna()"
   ]
  },
  {
   "cell_type": "code",
   "execution_count": null,
   "id": "bc2733e2-8ee7-4fe8-9673-79fbd99d1b68",
   "metadata": {},
   "outputs": [],
   "source": [
    "# df_plot.loc[[401632]][[prop for prop in df_plot.columns.values if prop.split('__')[-1] in ('degC', 'W', '0', 'bool', 'ppm', 'W_m_2')]]"
   ]
  },
  {
   "cell_type": "code",
   "execution_count": null,
   "id": "2584f526-caa6-4978-8dec-09e737ba3648",
   "metadata": {
    "tags": []
   },
   "outputs": [],
   "source": [
    "#Plot all properties from all sources for all ids\n",
    "#Plot.dataframe_preprocessed_plot(df_plot.loc[[401632]][[prop for prop in df_plot.columns.values if prop.split('__')[-1] in ('degC', 'ppm', 'W_m_2')]], units_to_mathtext)"
   ]
  },
  {
   "cell_type": "markdown",
   "id": "7dbc9ea1-4a4c-4adf-a52d-a10a6adc2ed4",
   "metadata": {},
   "source": [
    "# Calculate additional properties \n",
    "We may have to move some of these calculations to inside the GEKKO Python model code (e.g. for the what-if scenario simulation)"
   ]
  },
  {
   "cell_type": "markdown",
   "id": "1f69c089-5e75-4f25-925e-4ff0f54c816c",
   "metadata": {},
   "source": [
    "### Calculating electricity data"
   ]
  },
  {
   "cell_type": "code",
   "execution_count": null,
   "id": "75818b1e-6098-42d4-9cc7-e78a8d325039",
   "metadata": {},
   "outputs": [],
   "source": [
    "%%time\n",
    "df_prep['calculated_device_p1-reader_e_use__W'] = df_prep['device_p1-reader_e_use_hi__W'] + df_prep['device_p1-reader_e_use_lo__W']\n",
    "df_prep['calculated_device_p1-reader_e_ret__W'] = df_prep['device_p1-reader_e_ret_hi__W'] + df_prep['device_p1-reader_e_ret_lo__W'] \n"
   ]
  },
  {
   "cell_type": "markdown",
   "id": "17f64bd2-2fdc-4528-9612-839e25977cd5",
   "metadata": {},
   "source": [
    "### Reading and calculating boiler data "
   ]
  },
  {
   "cell_type": "markdown",
   "id": "c9538e60-b015-4a31-816e-2c6f42c6aba2",
   "metadata": {},
   "source": [
    "#### Reading home metadata"
   ]
  },
  {
   "cell_type": "code",
   "execution_count": null,
   "id": "9ec166bd-c16d-4e1d-9500-53f5a8584391",
   "metadata": {},
   "outputs": [],
   "source": [
    "%%time\n",
    "# Attempt to read the Parquet file\n",
    "try:\n",
    "    df_homes = pd.read_parquet(\n",
    "        home_data_file_path, \n",
    "        engine='pyarrow',\n",
    "        dtype_backend='numpy_nullable'\n",
    "        )\n",
    "    print(\"File was successfully read without specifying compression codec.\")\n",
    "except Exception as e:\n",
    "    print(f\"Error reading file: {e}\")"
   ]
  },
  {
   "cell_type": "markdown",
   "id": "09907f43-fb60-4f7a-abdd-14c5926e5f0f",
   "metadata": {},
   "source": [
    "#### Merge home data into df_prep"
   ]
  },
  {
   "cell_type": "code",
   "execution_count": null,
   "id": "087ff3e6-1a4e-442b-982a-09cc290f189f",
   "metadata": {},
   "outputs": [],
   "source": [
    "# Merge df_prep with df_homes to get the brand_model for each id\n",
    "df_prep = df_prep.reset_index().merge(df_homes, on='id').set_index(['id', 'timestamp'])"
   ]
  },
  {
   "cell_type": "markdown",
   "id": "8852417e-b02f-4541-a75e-99e1e1e65f73",
   "metadata": {},
   "source": [
    "## Calculate actual gas input power"
   ]
  },
  {
   "cell_type": "markdown",
   "id": "ffb13d69-93a2-4184-b690-aa468a41fa56",
   "metadata": {},
   "source": [
    "### Calculate actual gas input power for central heating based on boiler fan speed"
   ]
  },
  {
   "cell_type": "code",
   "execution_count": null,
   "id": "accc4f94-a8ac-4f1c-a8f0-5b9aa76a4ec3",
   "metadata": {},
   "outputs": [],
   "source": [
    "%%time                                         \n",
    "# Create value for boiler load fraction (how far along the current fan RPM is between the min and max)\n",
    "df_prep.loc[:,'calculated_fan_frac__0'] = (\n",
    "    (df_prep['batch_import_remeha_fan_rotations__min_1'] - df_prep['fan_min_ch_rotations_min_1'])\n",
    "    / \n",
    "    (df_prep['fan_max_ch_rotations__min_1'] - df_prep['fan_min_ch_rotations_min_1'])\n",
    ").astype('Float32')\n",
    "\n",
    "# Calculate input power of G25.3 gas as a lineair interpolation btween Qnh_min_lhv__kW and Qnh_max_lhv__kW based on calculated_fan_frac__0\n",
    "df_prep.loc[:,'calculated_g25_3_use_boiler_lhv__W'] = (\n",
    "    (df_prep['Qnh_max_lhv__kW'] * df_prep['calculated_fan_frac__0'] \n",
    "    +\n",
    "    df_prep['Qnh_min_lhv__kW'] * (1- df_prep['calculated_fan_frac__0'])\n",
    "    )\n",
    "    * 1e3\n",
    "    * df_prep['batch_import_remeha_gas_valve_open__bool'] # make sure gas use = 0 when gas valve is closed\n",
    ")\n",
    "\n",
    "# use the actual higher heating value\n",
    "df_prep.loc[:,'gas_std_hhv__J_m_3'] = df_prep['batch_import_EDSN_actual_gas_std_hhv__J_m_3']\n",
    "\n",
    "# alternatively, use average of actual higher heating value\n",
    "# df_prep.loc[:,'gas_std_hhv__J_m_3'] = df_prep[df_prep['batch_import_remeha_boiler_status_burning_ch__bool'] == True]['batch_import_EDSN_actual_gas_std_hhv__J_m_3'].mean()\n",
    "\n",
    "# alternative, simpler solution: assume higher heating value of groningen gas\n",
    "# df_prep.loc[:,'gas_std_hhv__J_m_3'] = gas_groningen_nl_avg_std_hhv__J_m_3\n",
    "\n",
    "# Calorific value conversion factor from G25.3 gas to the actual gas used \n",
    "df_prep.loc[:,'gas_calorific_factor_g25_3_lhv_to_actual_hhv__J0'] = df_prep['gas_std_hhv__J_m_3'] / gas_g25_3_ref_lhv__J_m_3\n",
    "\n",
    "# Pressure conversion factor from reference pressure (1 atm) to actual pressure (KNMI), including constant overpressure\n",
    "df_prep.loc[:,'gas_pressure_factor_ref_to_actual__J0'] = (\n",
    "    (df_prep['batch_import_KNMI_air__Pa'] + overpressure_gas_nl_avg__Pa) \n",
    "    / \n",
    "    (P_std__Pa + overpressure_gas_nl_avg__Pa)\n",
    ")\n",
    "\n",
    "# Temperature conversion factor from reference temperature to actual temperature (of which we only know an average value based on ACM)\n",
    "df_prep.loc[:,'gas_temp_factor_ref_to_actual__J0'] = temp_gas_ref__K / temp_gas_avg_nl__K"
   ]
  },
  {
   "cell_type": "code",
   "execution_count": null,
   "id": "5217b7d8-2289-4be4-bd1f-77fd736259dd",
   "metadata": {},
   "outputs": [],
   "source": [
    "%%time                                         \n",
    "# estimate gas input power at actual pressure and temperature \n",
    "df_prep.loc[:,'calculated_g_use_boiler_hhv__W'] = (\n",
    "    df_prep['calculated_g25_3_use_boiler_lhv__W']\n",
    "    *\n",
    "    df_prep['gas_calorific_factor_g25_3_lhv_to_actual_hhv__J0']\n",
    "    *\n",
    "    df_prep['gas_pressure_factor_ref_to_actual__J0'] \n",
    "    *\n",
    "    df_prep['gas_temp_factor_ref_to_actual__J0']\n",
    ")"
   ]
  },
  {
   "cell_type": "code",
   "execution_count": null,
   "id": "2ce31ed7-01ea-4b9d-aed9-fb1f297ebaa0",
   "metadata": {},
   "outputs": [],
   "source": [
    "%%time                                         \n",
    "# estimate gas input power at actual pressure and temperature \n",
    "df_prep.loc[:,'calculated_remeha_g_use_dhw_hhv__W'] = (\n",
    "    df_prep['batch_import_remeha_g_use_dhw_lhv__W']\n",
    "    *\n",
    "    df_prep['gas_calorific_factor_g25_3_lhv_to_actual_hhv__J0']\n",
    "    *\n",
    "    df_prep['gas_pressure_factor_ref_to_actual__J0'] \n",
    "    *\n",
    "    df_prep['gas_temp_factor_ref_to_actual__J0']\n",
    ")\n",
    "\n",
    "df_prep.loc[:,'calculated_remeha_g_use_ch_hhv__W'] = (\n",
    "    df_prep['batch_import_remeha_g_use_ch_lhv__W']\n",
    "    *\n",
    "    df_prep['gas_calorific_factor_g25_3_lhv_to_actual_hhv__J0']\n",
    "    *\n",
    "    df_prep['gas_pressure_factor_ref_to_actual__J0'] \n",
    "    *\n",
    "    df_prep['gas_temp_factor_ref_to_actual__J0']\n",
    ")\n",
    "\n",
    "df_prep.loc[:,'calculated_remeha_g_use_hhv__W'] = (\n",
    "    df_prep['calculated_remeha_g_use_ch_hhv__W'] \n",
    "    + \n",
    "    df_prep['calculated_remeha_g_use_dhw_hhv__W']\n",
    ")"
   ]
  },
  {
   "cell_type": "code",
   "execution_count": null,
   "id": "d76fe2d6-aaa1-4ca6-b152-47d23137c0d4",
   "metadata": {},
   "outputs": [],
   "source": [
    "df_prep.loc[:,'calculated_g_use_ch_hhv__W'] = df_prep['calculated_g_use_boiler_hhv__W'] * df_prep['batch_import_remeha_boiler_status_burning_ch__bool']\n",
    "df_prep.loc[:,'calculated_g_use_dhw_hhv__W'] = df_prep['calculated_g_use_boiler_hhv__W'] * df_prep['batch_import_remeha_boiler_status_burning_dhw__bool']"
   ]
  },
  {
   "cell_type": "code",
   "execution_count": null,
   "id": "bff8cbe5-7ed3-48c5-94b0-06bc6882ff72",
   "metadata": {},
   "outputs": [],
   "source": [
    "df_bools_to_float = df_prep[[col for col in df_prep.columns if col.endswith('__bool')]].copy()\n",
    "for col in df_bools_to_float.columns:\n",
    "    df_bools_to_float[col] = df_bools_to_float[col].astype('float')\n",
    "df_bools_to_float.describe().T.drop(columns='count').style.format(\"{:.2%}\")"
   ]
  },
  {
   "cell_type": "markdown",
   "id": "2b0b7ecd-e1a1-428b-b346-edd4a72e744c",
   "metadata": {},
   "source": [
    "### Calculate actual gas input power for all purposes based on smart meter data"
   ]
  },
  {
   "cell_type": "code",
   "execution_count": null,
   "id": "8ad6c6cc-d96d-4a59-9396-aac825012a66",
   "metadata": {},
   "outputs": [],
   "source": [
    "%%time\n",
    "# Smart meters measure and correct for temperature; correct for actual air pressure and  actual calorific value is not yet done; we do it here.\n",
    "\n",
    "\n",
    "# Calorific value conversion factor from Groningen gas gas to the actual gas used \n",
    "df_prep.loc[:,'gas_calorific_factor_groningen_hhv_to_actual_hhv__J0'] = df_prep['gas_std_hhv__J_m_3'] / gas_groningen_nl_avg_std_hhv__J_m_3\n",
    "\n",
    "# Pressure conversion factor to correct pressure conversion by smart meter (assumed: P_nl_avg__Pa) using actual pressure (KNMI), including constant overpressure\n",
    "df_prep.loc[:,'gas_pressure_factor_correct_smart_meter_to_actual__J0'] = (\n",
    "    (P_nl_avg__Pa + overpressure_gas_nl_avg__Pa)\n",
    "    /\n",
    "    (df_prep['batch_import_KNMI_air__Pa'] + overpressure_gas_nl_avg__Pa)\n",
    ")\n",
    "\n",
    "df_prep.loc[:,'calculated_g_use_hhv__W'] = (\n",
    "    df_prep['device_p1-reader_g_use_hhv__W']\n",
    "    * df_prep['gas_calorific_factor_groningen_hhv_to_actual_hhv__J0']     # calorific conversion factor\n",
    "    * df_prep['gas_pressure_factor_correct_smart_meter_to_actual__J0']    # pressure conversion factor\n",
    ")"
   ]
  },
  {
   "cell_type": "markdown",
   "id": "ec7e923b-0716-48f3-a944-ff4e41620e40",
   "metadata": {},
   "source": [
    "## Use boiler-specific efficiency to calculate Q_gain_ch__W"
   ]
  },
  {
   "cell_type": "markdown",
   "id": "9dba51d4-7fbe-423a-b99a-d698b951b5dc",
   "metadata": {},
   "source": [
    "### Lookup of momentary boiler efficiency from boiler-specific efficiency curves"
   ]
  },
  {
   "cell_type": "code",
   "execution_count": null,
   "id": "bce48ebd-f75b-4a80-899e-72ce9d83bad0",
   "metadata": {},
   "outputs": [],
   "source": [
    "%%time\n",
    "# Round return temperatures to whole degrees\n",
    "df_prep['rounded_temp_ret__degC'] = df_prep['batch_import_remeha_temp_ret__degC'].round().astype('Int8')"
   ]
  },
  {
   "cell_type": "code",
   "execution_count": null,
   "id": "c9c9d5a9-c6e9-464f-864f-aa97c6f59892",
   "metadata": {},
   "outputs": [],
   "source": [
    "%%time\n",
    "df_prep.loc[:,'rounded_load__%'] = (\n",
    "    (df_prep['calculated_fan_frac__0'] + (1 - df_prep['calculated_fan_frac__0']) * df_prep['Qnh_min_lhv__kW'] / df_prep['Qnh_max_lhv__kW'])\n",
    "    * 100\n",
    "    * df_prep['batch_import_remeha_gas_valve_open__bool'] # make sure load = 0 when gas valve is closed\n",
    ").round().astype('Int16')"
   ]
  },
  {
   "cell_type": "markdown",
   "id": "af2b5c37-3ce3-4bb2-86ac-dfc6d2c0c2a7",
   "metadata": {},
   "source": [
    "### Reading boiler efficiency data"
   ]
  },
  {
   "cell_type": "code",
   "execution_count": null,
   "id": "b10db8de-48fd-4079-9404-2b81233ab9a7",
   "metadata": {},
   "outputs": [],
   "source": [
    "%%time\n",
    "# Attempt to read the Parquet file\n",
    "try:\n",
    "    df_boiler_efficiency = pd.read_parquet(\n",
    "        # boiler_returntemp_efficiency_file_path, \n",
    "        boiler_returntemp_load_efficiency_file_path, \n",
    "        engine='pyarrow',\n",
    "        dtype_backend='numpy_nullable'\n",
    "        )\n",
    "    print(\"File was successfully read without specifying compression codec.\")\n",
    "except Exception as e:\n",
    "    print(f\"Error reading file: {e}\")"
   ]
  },
  {
   "cell_type": "code",
   "execution_count": null,
   "id": "74f06b95-2045-4b72-b83b-d6884196c418",
   "metadata": {},
   "outputs": [],
   "source": [
    "%%time\n",
    "# Merging DataFrames\n",
    "df_prep = (df_prep\n",
    "           .reset_index()\n",
    "           .merge(df_boiler_efficiency.reset_index(),\n",
    "                  on=['brand_model', 'rounded_load__%', 'rounded_temp_ret__degC'], \n",
    "                  how='left'\n",
    "                  )\n",
    "           .set_index(['id', 'timestamp'])\n",
    "           .sort_index()\n",
    "          )  \n"
   ]
  },
  {
   "cell_type": "markdown",
   "id": "de508b17-194e-4a9f-8ecb-850083cd4ea0",
   "metadata": {},
   "source": [
    "### Calculate Q_gain_ch__W"
   ]
  },
  {
   "cell_type": "code",
   "execution_count": null,
   "id": "3b5f8189-756d-41fb-9807-254dd95f8651",
   "metadata": {},
   "outputs": [],
   "source": [
    "%%time\n",
    "df_prep.loc[:,'calculated_Q_gain_ch__W'] = df_prep['calculated_g_use_ch_hhv__W'] * df_prep['eta_ch_hhv__W0']"
   ]
  },
  {
   "cell_type": "code",
   "execution_count": null,
   "id": "499f7a03-ec58-415d-a892-0542f2bbbaec",
   "metadata": {
    "scrolled": true
   },
   "outputs": [],
   "source": [
    "sorted(list(df_prep.columns))"
   ]
  },
  {
   "cell_type": "markdown",
   "id": "486add66-4539-4e1d-9e7a-0f0c9bc20f67",
   "metadata": {},
   "source": [
    "## Inspect results "
   ]
  },
  {
   "cell_type": "code",
   "execution_count": null,
   "id": "dd0fda48-4033-401e-9378-9f33c8d02f32",
   "metadata": {},
   "outputs": [],
   "source": [
    "# Create masks\n",
    "boiler_burning_mask = ((df_prep['batch_import_remeha_boiler_status_burning_ch__bool'] == True) | (df_prep['batch_import_remeha_boiler_status_burning_dhw__bool'] == True)) & (df_prep['batch_import_remeha_gas_valve_open__bool'] == True)\n",
    "boiler_ch_mask = (df_prep['batch_import_remeha_boiler_status_burning_ch__bool'] == True) & (df_prep['batch_import_remeha_gas_valve_open__bool'] == True)\n",
    "boiler_dhw_mask = (df_prep['batch_import_remeha_boiler_status_burning_dhw__bool'] == True) & (df_prep['batch_import_remeha_gas_valve_open__bool'] == True)\n",
    "remeha_data_notna_mask = (df_prep['batch_import_remeha_temp_in__degC'].notna())\n",
    "boiler_valve_closed_mask = (df_prep['batch_import_remeha_gas_valve_closed__bool'] == True)"
   ]
  },
  {
   "cell_type": "code",
   "execution_count": null,
   "id": "40372771-67ff-437d-9e41-1947010215c6",
   "metadata": {},
   "outputs": [],
   "source": [
    "# Select mask\n",
    "boiler_status_mask = remeha_data_notna_mask \n"
   ]
  },
  {
   "cell_type": "markdown",
   "id": "e90c46d9-0e5e-4999-b48d-a8b674d56d61",
   "metadata": {},
   "source": [
    "### Inspecting gas power used by boiler based on fan speed [rpm]"
   ]
  },
  {
   "cell_type": "code",
   "execution_count": null,
   "id": "72f6627d-1e02-4506-98f4-6ebe0c17343b",
   "metadata": {},
   "outputs": [],
   "source": [
    "df_prep[boiler_status_mask]['calculated_fan_frac__0'].mean()"
   ]
  },
  {
   "cell_type": "code",
   "execution_count": null,
   "id": "efe49e76-2275-4d4d-b7b1-9d059e76ee8f",
   "metadata": {},
   "outputs": [],
   "source": [
    "df_prep[boiler_status_mask]['calculated_g25_3_use_boiler_lhv__W'].mean()"
   ]
  },
  {
   "cell_type": "code",
   "execution_count": null,
   "id": "9275cd08-61c2-43f6-a311-d024c86db2bc",
   "metadata": {
    "scrolled": true
   },
   "outputs": [],
   "source": [
    "df_prep[boiler_status_mask]['gas_calorific_factor_g25_3_lhv_to_actual_hhv__J0'].mean()                                           "
   ]
  },
  {
   "cell_type": "code",
   "execution_count": null,
   "id": "b20c0c70-6fd4-42d9-ab7b-733b3a64e914",
   "metadata": {},
   "outputs": [],
   "source": [
    "df_prep[boiler_status_mask]['gas_pressure_factor_ref_to_actual__J0'].mean()                                           "
   ]
  },
  {
   "cell_type": "code",
   "execution_count": null,
   "id": "59817ed9-27ce-425c-a3e3-ab243d4e610f",
   "metadata": {},
   "outputs": [],
   "source": [
    "df_prep[boiler_status_mask]['gas_temp_factor_ref_to_actual__J0'].mean()                                           "
   ]
  },
  {
   "cell_type": "code",
   "execution_count": null,
   "id": "42bac316-b8f0-4540-9301-08685371a5bb",
   "metadata": {},
   "outputs": [],
   "source": [
    "conversion_factor_boiler = (\n",
    "    df_prep[boiler_status_mask]['gas_calorific_factor_g25_3_lhv_to_actual_hhv__J0'].mean()\n",
    "    * df_prep[boiler_status_mask]['gas_pressure_factor_ref_to_actual__J0'].mean()\n",
    "    * df_prep[boiler_status_mask]['gas_temp_factor_ref_to_actual__J0'].mean()\n",
    ")\n",
    "conversion_factor_boiler"
   ]
  },
  {
   "cell_type": "code",
   "execution_count": null,
   "id": "9f9f0ed1-49ad-415c-9c7d-5de73f39fd46",
   "metadata": {},
   "outputs": [],
   "source": [
    "average_gas_boiler__W = df_prep[boiler_status_mask]['calculated_g_use_boiler_hhv__W'].mean()                              \n",
    "average_gas_boiler__W"
   ]
  },
  {
   "cell_type": "markdown",
   "id": "b7eacfbe-afc4-491a-9cda-bf028ff1df5d",
   "metadata": {},
   "source": [
    "### Inspecting gas power based used by home, based on smart meter measurements"
   ]
  },
  {
   "cell_type": "code",
   "execution_count": null,
   "id": "9df4cfb1-35d5-4fbf-b50e-04b3ee59fd6d",
   "metadata": {},
   "outputs": [],
   "source": [
    "df_prep[boiler_status_mask]['device_p1-reader_g_use_hhv__W'].mean()"
   ]
  },
  {
   "cell_type": "code",
   "execution_count": null,
   "id": "331933ca-c8cc-4af1-a690-bff40f7a5cf2",
   "metadata": {},
   "outputs": [],
   "source": [
    "df_prep[boiler_status_mask]['gas_calorific_factor_groningen_hhv_to_actual_hhv__J0'].mean()"
   ]
  },
  {
   "cell_type": "code",
   "execution_count": null,
   "id": "1c0d5cb0-af57-474d-82e7-208c33eee24f",
   "metadata": {},
   "outputs": [],
   "source": [
    "df_prep[boiler_status_mask]['gas_pressure_factor_correct_smart_meter_to_actual__J0'].mean()"
   ]
  },
  {
   "cell_type": "code",
   "execution_count": null,
   "id": "6dc253b4-28de-4a82-aa33-3f639b6ad9d7",
   "metadata": {},
   "outputs": [],
   "source": [
    "conversion_factor_smart_meter = (\n",
    "    df_prep[boiler_status_mask]['gas_calorific_factor_groningen_hhv_to_actual_hhv__J0'].mean()\n",
    "    * df_prep[boiler_status_mask]['gas_pressure_factor_correct_smart_meter_to_actual__J0'].mean()\n",
    ")\n",
    "conversion_factor_smart_meter"
   ]
  },
  {
   "cell_type": "code",
   "execution_count": null,
   "id": "098be277-4eff-4725-aa15-3b8a530d97f2",
   "metadata": {},
   "outputs": [],
   "source": [
    "df_prep[boiler_status_mask]['calculated_g_use_hhv__W'].mean()"
   ]
  },
  {
   "cell_type": "markdown",
   "id": "a00610ca-1114-48c3-88a2-ff0be4d59a6f",
   "metadata": {},
   "source": [
    "### Inspecting gas power based used by boiler, based on boiler counters"
   ]
  },
  {
   "cell_type": "code",
   "execution_count": null,
   "id": "69cce609-864e-4dfe-be1e-1542e508d616",
   "metadata": {},
   "outputs": [],
   "source": [
    "average_gas_input_bdr_energy_counter_ch_lhv__W = df_prep[boiler_status_mask]['batch_import_remeha_g_use_ch_lhv__W'].mean()                              \n",
    "average_gas_input_bdr_energy_counter_ch_lhv__W"
   ]
  },
  {
   "cell_type": "code",
   "execution_count": null,
   "id": "8bb7203d-d93f-4e7c-8a92-1e2ec04cad6a",
   "metadata": {},
   "outputs": [],
   "source": [
    "df_prep[boiler_status_mask]['calculated_remeha_g_use_ch_hhv__W'].mean()"
   ]
  },
  {
   "cell_type": "code",
   "execution_count": null,
   "id": "b583e2a1-6295-48c1-9b84-c9756476466a",
   "metadata": {},
   "outputs": [],
   "source": [
    "average_gas_input_bdr_energy_counter_dhw_lhv__W = df_prep[boiler_status_mask]['batch_import_remeha_g_use_dhw_lhv__W'].mean()                              \n",
    "average_gas_input_bdr_energy_counter_dhw_lhv__W"
   ]
  },
  {
   "cell_type": "code",
   "execution_count": null,
   "id": "e021aa97-878b-4d33-abda-33c8595b5ba8",
   "metadata": {},
   "outputs": [],
   "source": [
    "df_prep[boiler_status_mask]['calculated_remeha_g_use_dhw_hhv__W'].mean()"
   ]
  },
  {
   "cell_type": "code",
   "execution_count": null,
   "id": "321e9a53-c50e-4bd7-853c-40ba8d7e869a",
   "metadata": {},
   "outputs": [],
   "source": [
    "average_gas_input_bdr_energy_counter_lhv__W = (average_gas_input_bdr_energy_counter_ch_lhv__W +  average_gas_input_bdr_energy_counter_dhw_lhv__W) \n",
    "average_gas_input_bdr_energy_counter_lhv__W"
   ]
  },
  {
   "cell_type": "code",
   "execution_count": null,
   "id": "81e45cb5-ab4a-479c-b8e2-75e433f9a402",
   "metadata": {},
   "outputs": [],
   "source": [
    "df_prep[boiler_status_mask]['calculated_remeha_g_use_ch_hhv__W'].mean() + df_prep[boiler_status_mask]['calculated_remeha_g_use_dhw_hhv__W'].mean()"
   ]
  },
  {
   "cell_type": "markdown",
   "id": "259343d6-c560-46d5-b918-f8c949953bfb",
   "metadata": {},
   "source": [
    "### Compare gas power calculated in various ways"
   ]
  },
  {
   "cell_type": "code",
   "execution_count": null,
   "id": "897feb3c-9f81-422d-a05d-f87bc22dea00",
   "metadata": {},
   "outputs": [],
   "source": [
    "average_gas_boiler__W / df_prep[boiler_status_mask]['calculated_g_use_hhv__W'].mean()"
   ]
  },
  {
   "cell_type": "code",
   "execution_count": null,
   "id": "cb91eaea-c53f-47c4-9f71-051037d76e2a",
   "metadata": {},
   "outputs": [],
   "source": [
    "average_gas_boiler__W / ( df_prep[boiler_status_mask]['calculated_remeha_g_use_ch_hhv__W'].mean() + df_prep[boiler_status_mask]['calculated_remeha_g_use_dhw_hhv__W'].mean())"
   ]
  },
  {
   "cell_type": "code",
   "execution_count": null,
   "id": "59866e26-c08d-43c6-a14e-9b5858c7e7eb",
   "metadata": {},
   "outputs": [],
   "source": [
    "df_prep[boiler_status_mask].groupby(level='id').agg({\n",
    "    'calculated_remeha_g_use_ch_hhv__W': ['mean'],\n",
    "    'calculated_remeha_g_use_dhw_hhv__W': ['mean'],\n",
    "    'calculated_remeha_g_use_hhv__W': ['mean'],\n",
    "    'calculated_g25_3_use_boiler_lhv__W': ['mean'],\n",
    "    'calculated_g_use_ch_hhv__W': ['mean'],\n",
    "    'calculated_g_use_dhw_hhv__W': ['mean'],\n",
    "    'calculated_g_use_boiler_hhv__W': ['mean'],\n",
    "    'calculated_g_use_hhv__W': ['mean'],\n",
    "    'calculated_Q_gain_ch__W': ['mean'],\n",
    "}).T"
   ]
  },
  {
   "cell_type": "code",
   "execution_count": null,
   "id": "8bae7c8b-2dd6-4620-bf52-f7223a3e0a4a",
   "metadata": {},
   "outputs": [],
   "source": [
    "# Group by 'id' and calculate the mean for both 'eta_ch_hhv__W0' and 'batch_import_remeha_temp_ret__degC'\n",
    "df_prep[boiler_status_mask].groupby(level='id').agg({\n",
    "    'batch_import_remeha_temp_ch_sup_max__degC': 'mean',\n",
    "    'batch_import_remeha_temp_sup__degC': 'mean',\n",
    "    'batch_import_remeha_temp_ret__degC': 'mean',\n",
    "    'rounded_temp_ret__degC': 'mean',\n",
    "    'rounded_load__%': 'mean',\n",
    "    'eta_ch_hhv__W0': 'mean',\n",
    "}).sort_values(by='eta_ch_hhv__W0', ascending=False)"
   ]
  },
  {
   "cell_type": "code",
   "execution_count": null,
   "id": "516ec8c8-9be7-4131-bd7e-d703f9376551",
   "metadata": {},
   "outputs": [],
   "source": [
    "df_prep[boiler_ch_mask]['rounded_temp_ret__degC'].mean() "
   ]
  },
  {
   "cell_type": "code",
   "execution_count": null,
   "id": "3b28a822-0bd9-43f0-8f9d-6a6637d46425",
   "metadata": {},
   "outputs": [],
   "source": [
    "df_prep[boiler_ch_mask & (df_prep['rounded_temp_ret__degC'] <30)]['rounded_temp_ret__degC'].count() / df_prep[boiler_ch_mask]['rounded_temp_ret__degC'].count()"
   ]
  },
  {
   "cell_type": "code",
   "execution_count": null,
   "id": "0eecbe67-fd2b-4023-9e55-8789969a8dbb",
   "metadata": {},
   "outputs": [],
   "source": [
    "df_prep[boiler_ch_mask]['eta_ch_hhv__W0'].mean() "
   ]
  },
  {
   "cell_type": "code",
   "execution_count": null,
   "id": "1134151d-a409-4f33-a755-159fc56603e1",
   "metadata": {},
   "outputs": [],
   "source": [
    "(df_prep.loc[boiler_ch_mask, 'eta_ch_hhv__W0'] * df_prep.loc[boiler_ch_mask, 'calculated_remeha_g_use_hhv__W']).sum() / df_prep.loc[boiler_ch_mask, 'calculated_remeha_g_use_hhv__W'].sum()\n"
   ]
  },
  {
   "cell_type": "code",
   "execution_count": null,
   "id": "9276a9d1-44d2-40b1-be0a-e52c1524a883",
   "metadata": {},
   "outputs": [],
   "source": [
    "df_prep[boiler_ch_mask]['rounded_load__%'].mean() "
   ]
  },
  {
   "cell_type": "code",
   "execution_count": null,
   "id": "53237e02-e734-46cd-9668-4f2fd2b36bfc",
   "metadata": {},
   "outputs": [],
   "source": [
    "df_boiler_efficiency"
   ]
  },
  {
   "cell_type": "markdown",
   "id": "e764cee6-475f-4e93-a73b-de838d8f17e4",
   "metadata": {},
   "source": [
    "### Boxplots per home (when boiler is burning for central heating & gas value is open)"
   ]
  },
  {
   "cell_type": "code",
   "execution_count": null,
   "id": "fbb96ea3-ff1d-4c46-bf64-f3b2b248a391",
   "metadata": {},
   "outputs": [],
   "source": [
    "# Group by 'id' and calculate the mean for both 'eta_ch_hhv__W0' and 'batch_import_remeha_temp_ret__degC'\n",
    "df_prep[boiler_ch_mask].groupby(level='id').agg({\n",
    "    'batch_import_remeha_temp_ch_sup_max__degC': 'mean',\n",
    "    'batch_import_remeha_temp_sup__degC': 'mean',\n",
    "    'batch_import_remeha_temp_ret__degC': 'mean',\n",
    "    'rounded_temp_ret__degC': 'mean',\n",
    "    'rounded_load__%': 'mean',\n",
    "    'eta_ch_hhv__W0': 'mean',\n",
    "    'calculated_Q_gain_ch__W': 'max',\n",
    "}).sort_values(by='eta_ch_hhv__W0', ascending=False)"
   ]
  },
  {
   "cell_type": "code",
   "execution_count": null,
   "id": "4857842e-0ca3-4261-8ece-b11b0c109f58",
   "metadata": {},
   "outputs": [],
   "source": [
    "Plot.nfh_property_per_id_boxplot(df_prep[boiler_ch_mask], property_col='rounded_temp_ret__degC')"
   ]
  },
  {
   "cell_type": "code",
   "execution_count": null,
   "id": "06f61765-0576-416a-ae8c-7666f4fd4ab5",
   "metadata": {},
   "outputs": [],
   "source": [
    "Plot.nfh_property_per_id_boxplot(df_prep[boiler_ch_mask], property_col='rounded_load__%')"
   ]
  },
  {
   "cell_type": "code",
   "execution_count": null,
   "id": "3f96329c-c1c1-4b9c-8bff-986664dd1016",
   "metadata": {},
   "outputs": [],
   "source": [
    "Plot.nfh_property_per_id_boxplot(df_prep[boiler_ch_mask], property_col='eta_ch_hhv__W0')"
   ]
  },
  {
   "cell_type": "code",
   "execution_count": null,
   "id": "3ffbfb88-25eb-416b-9743-5116e8075643",
   "metadata": {},
   "outputs": [],
   "source": [
    "Plot.nfh_property_per_id_boxplot(df_prep[boiler_ch_mask], property_col='calculated_Q_gain_ch__W')"
   ]
  },
  {
   "cell_type": "markdown",
   "id": "9a0d8967-cc17-47f7-92fe-6863c9f88a61",
   "metadata": {},
   "source": [
    "## Write heat distribution results"
   ]
  },
  {
   "cell_type": "markdown",
   "id": "24ced4f0-4565-4a32-a8dd-3a58204dd976",
   "metadata": {},
   "source": [
    "### Writing heat distribution preprocessing results results to parquet file"
   ]
  },
  {
   "cell_type": "code",
   "execution_count": null,
   "id": "9c3927c3-a174-4376-98d8-52fbcbb76fb8",
   "metadata": {},
   "outputs": [],
   "source": [
    "df_heat_dist = df_prep[['batch_import_KNMI_ghi__W_m_2',\n",
    "                        'batch_import_KNMI_temp_out__degC',\n",
    "                        'batch_import_KNMI_wind__m_s_1',\n",
    "                        'device_p1-reader_g_use_hhv__W',\n",
    "                        'batch_import_remeha_boiler_status_burning_ch__bool',\n",
    "                        'batch_import_remeha_boiler_status_burning_dhw__bool', \n",
    "                        'batch_import_remeha_gas_valve_closed__bool',\n",
    "                        'batch_import_remeha_gas_valve_open__bool',\n",
    "                        'batch_import_remeha_fan_rotations__min_1', \n",
    "                        'batch_import_remeha_g_use_ch_lhv__W',\n",
    "                        'batch_import_remeha_g_use_dhw_lhv__W',\n",
    "                        'batch_import_remeha_temp_set__degC',\n",
    "                        'batch_import_remeha_temp_in__degC',\n",
    "                        'device_living_room_calibrated_temp_in__degC',\n",
    "                        'batch_import_remeha_temp_sup__degC',\n",
    "                        'batch_import_remeha_temp_ret__degC',\n",
    "                        'batch_import_remeha_temp_ch_sup_max__degC', \n",
    "                        'calculated_g_use_hhv__W',\n",
    "                        'calculated_g_use_boiler_hhv__W',\n",
    "                        'calculated_g_use_dhw_hhv__W',\n",
    "                        'calculated_g_use_ch_hhv__W',\n",
    "                        'eta_ch_hhv__W0',\n",
    "                        'calculated_Q_gain_ch__W',\n",
    "                        'rounded_load__%',\n",
    "                        'rounded_temp_ret__degC',\n",
    "                       ]]"
   ]
  },
  {
   "cell_type": "code",
   "execution_count": null,
   "id": "3b31d206-5506-4c35-94f4-f5a8d5114872",
   "metadata": {},
   "outputs": [],
   "source": [
    "df_heat_dist.info()"
   ]
  },
  {
   "cell_type": "code",
   "execution_count": null,
   "id": "725ddb62-8ed1-49dd-ae72-e6856f532433",
   "metadata": {},
   "outputs": [],
   "source": [
    "sorted(list(df_heat_dist.index.get_level_values('id').unique()))"
   ]
  },
  {
   "cell_type": "code",
   "execution_count": null,
   "id": "55ecdfe4-f2e7-43b8-a0bb-24e6899f9d7c",
   "metadata": {},
   "outputs": [],
   "source": [
    "%%time \n",
    "df_heat_dist.to_parquet(rhc_heat_dist_preprocessed_poperties_file, index=True, engine='pyarrow')"
   ]
  },
  {
   "cell_type": "markdown",
   "id": "53c0199e-739e-41c6-baaa-f4f89bcaaff6",
   "metadata": {},
   "source": [
    "### Writing heat distribution preprocessing results to multiple zipped CSV files"
   ]
  },
  {
   "cell_type": "code",
   "execution_count": null,
   "id": "9026b78c-6225-49ad-b4c1-f74703aba354",
   "metadata": {},
   "outputs": [],
   "source": [
    "%%time \n",
    "# uncomment this entire block of code to enable it \n",
    "# for home_id in tqdm(df_heat_dist.index.get_level_values('id').unique()[:3]):\n",
    "# for home_id in tqdm(df_heat_dist.index.get_level_values('id').unique()[3:]):\n",
    "for home_id in tqdm(df_heat_dist.index.get_level_values('id').unique()):\n",
    "    df_heat_dist.xs(home_id, drop_level=False).to_csv(\n",
    "        f'{home_id}_heat_dist_preprocessed_properties.zip',\n",
    "        encoding='utf-8',\n",
    "        compression= dict(method='zip',\n",
    "                          archive_name=f'{home_id}_heat_dist_preprocessed_properties.csv'),\n",
    "        date_format='%Y-%m-%dT%H:%M:%S%z'\n",
    "    )\n"
   ]
  },
  {
   "cell_type": "markdown",
   "id": "bffda6fb-9c44-481d-a187-66704d4544ac",
   "metadata": {
    "tags": []
   },
   "source": [
    "## Learn energy profile parameters\n",
    "\n",
    "Most of the heavy lifting is done by the `learn_energy_profile()` function, which again uses the [GEKKO Python](https://machinelearning.byu.edu/) dynamic optimization toolkit."
   ]
  },
  {
   "cell_type": "code",
   "execution_count": null,
   "id": "66f1a319-a72c-446e-a7f1-21dc436fe58b",
   "metadata": {
    "tags": []
   },
   "outputs": [],
   "source": [
    "# set room metadata to None, then learn_home_parameters() will derive the metadata from the ids.\n",
    "\n",
    "hints = {\n",
    "    'A_sol__m2': A_sol_nl_avg__m2,                      # initial estimate for apparent solar aperture\n",
    "    'eta_ch_hhv__W0' : eta_ch_nl_avg_hhv__W0,           # average home heating efficiency of a gas boiler (based on higher heating value)\n",
    "    'eta_not_ch_hhv__W0' : eta_not_ch_nl_avg_hhv__W0,   # average home heating efficiency indirecly DHW & cooking (based on higher heating value value)  \n",
    "    'g_not_ch_hhv__W' : g_not_ch_nl_avg_hhv__W,         # average gas power (heating value) for other purposes than home heating [W] \n",
    "    'occupancy__p' : occupancy_nl_avg__p,               # average house occupancy (1.5: 2.2 persons, at home for 16.3 of 24 hours)\n",
    "    'Q_gain_int__W_p_1' : Q_gain_int_nl_avg__W_p_1,     # average heat gain per occupant (77 W for 8.6 hours, 105 W for 7.7 hours)\n",
    "    'wind_chill__K_s_m_1' : wind_chill_nl_avg__K_s_m_1, # average for Dutch homes, according to KNMI: https://cdn.knmi.nl/knmi/pdf/bibliotheek/knmipubmetnummer/knmipub219.pdf \n",
    "    'A_inf__m2': A_inf_nl_avg__m2,                       # average effective infiltration area corresponding to wind_chill_nl_avg__K_s_m_1\n",
    "    'H_nl_avg__W_K_1' : H_nl_avg__W_K_1                 # average specific heat loss for a Dutch home\n",
    "}\n",
    "\n",
    "learn = ['A_sol__m2']\n",
    "\n",
    "#define and select column names\n",
    "property_sources = {\n",
    "    'temp_in__degC' : 'batch_import_remeha_temp_in__degC',\n",
    "    'temp_out__degC' : 'batch_import_KNMI_temp_out__degC',\n",
    "    'wind__m_s_1' : 'batch_import_KNMI_wind__m_s_1',\n",
    "    'ghi__W_m_2' : 'batch_import_KNMI_ghi__W_m_2', \n",
    "    'g_use_hhv__W' : 'device_p1-reader_g_use_hhv__W',\n",
    "    'e_use__W' : 'calculated_device_p1-reader_e_use__W',\n",
    "    'e_ret__W' : 'calculated_device_p1-reader_e_ret__W',\n",
    "    'occupancy__p': 'device_living_room_occupancy__p' \n",
    "}"
   ]
  },
  {
   "cell_type": "code",
   "execution_count": null,
   "id": "d6e191e5-b2f6-4087-be5a-e0a65531c3c5",
   "metadata": {
    "tags": []
   },
   "outputs": [],
   "source": [
    "# learn the model parameters and write results to a dataframe\n",
    "%autoreload 2\n",
    "df_results_per_period, df_results = Learner.learn_energy_profile(df_prep, \n",
    "                                                                  property_sources = property_sources, \n",
    "                                                                  learn = learn, \n",
    "                                                                  hints = hints,\n",
    "                                                                  ev_type = 2\n",
    "                                                                 )"
   ]
  },
  {
   "cell_type": "markdown",
   "id": "fac8ce42-1881-4246-b6b8-6b8c886874f3",
   "metadata": {},
   "source": [
    "### Result per learning period"
   ]
  },
  {
   "cell_type": "code",
   "execution_count": null,
   "id": "f22a7858-e055-4f7c-b493-954f0bf5b549",
   "metadata": {},
   "outputs": [],
   "source": [
    "df_results_per_period"
   ]
  },
  {
   "cell_type": "code",
   "execution_count": null,
   "id": "f3477762-b12d-4d95-840a-1a4db75f6863",
   "metadata": {
    "tags": []
   },
   "outputs": [],
   "source": [
    "# show essential statistics for the learned values\n",
    "df_stats = df_results_per_period.describe().filter(regex='^actual_|^learned_')\n",
    "df_stats.loc[df_stats.index.get_level_values(0).isin(['mean', 'std', 'min', 'max'])]"
   ]
  },
  {
   "cell_type": "code",
   "execution_count": null,
   "id": "17688b94-33d1-4e31-affb-c5eea0b88e82",
   "metadata": {
    "tags": []
   },
   "outputs": [],
   "source": [
    "# show essential statistics for the errors\n",
    "df_stats = df_results_per_period.describe().filter(regex='^mae_|^rmse')\n",
    "df_stats.loc[df_stats.index.get_level_values(0).isin(['mean', 'std', 'min', 'max'])]"
   ]
  },
  {
   "cell_type": "code",
   "execution_count": null,
   "id": "24067a35-0f73-44dd-bd4d-bdc7fa4e479b",
   "metadata": {
    "tags": []
   },
   "outputs": [],
   "source": [
    "# show essential statistics for the error values, per id\n",
    "df_stats = df_results_per_period.groupby('id').describe().stack().filter(regex='^mae_|^rmse')\n",
    "df_stats.loc[df_stats.index.get_level_values(1).isin(['mean', 'std', 'min', 'max'])]"
   ]
  },
  {
   "cell_type": "markdown",
   "id": "5449c5bd-9446-4814-82bb-da2a228bc27b",
   "metadata": {},
   "source": [
    "### Result Visualization"
   ]
  },
  {
   "cell_type": "code",
   "execution_count": null,
   "id": "88306340-8435-4302-acd4-fd3a5a6e0f5f",
   "metadata": {},
   "outputs": [],
   "source": [
    "df_results"
   ]
  },
  {
   "cell_type": "code",
   "execution_count": null,
   "id": "5886cea4-8f61-4995-91a2-ee53902335cd",
   "metadata": {},
   "outputs": [],
   "source": [
    "df_plot = df_prep[[prop for prop in df_prep.columns.values if prop.split('__')[-1] == 'degC']]"
   ]
  },
  {
   "cell_type": "code",
   "execution_count": null,
   "id": "29d4dd2f-1659-438b-911d-a4cb3f5edd4f",
   "metadata": {},
   "outputs": [],
   "source": [
    "#Plot only temperatures from all sources for all ids\n",
    "Plot.dataframe_preprocessed_plot(df_plot, units_to_mathtext)"
   ]
  },
  {
   "cell_type": "code",
   "execution_count": null,
   "id": "d1fb57c7-5e48-45ba-ab56-59279d77a404",
   "metadata": {},
   "outputs": [],
   "source": [
    "df_lot = df_prep"
   ]
  },
  {
   "cell_type": "code",
   "execution_count": null,
   "id": "3e186b4b-e2de-45f6-ba53-39105a013a9a",
   "metadata": {
    "tags": []
   },
   "outputs": [],
   "source": [
    "#Plot all properties from all sources for all ids\n",
    "Plot.dataframe_preprocessed_plot(df_plot, units_to_mathtext)"
   ]
  },
  {
   "cell_type": "code",
   "execution_count": null,
   "id": "3160428b-8d88-476f-a345-aa096f0aa62e",
   "metadata": {},
   "outputs": [],
   "source": []
  }
 ],
 "metadata": {
  "kernelspec": {
   "display_name": "Python 3 (ipykernel)",
   "language": "python",
   "name": "python3"
  },
  "language_info": {
   "codemirror_mode": {
    "name": "ipython",
    "version": 3
   },
   "file_extension": ".py",
   "mimetype": "text/x-python",
   "name": "python",
   "nbconvert_exporter": "python",
   "pygments_lexer": "ipython3",
   "version": "3.11.6"
  },
  "vscode": {
   "interpreter": {
    "hash": "2b52c2ff5431c21ddbe91dac57ae43ca32d3900acacc91a5c2a32f1a3c11d7aa"
   }
  }
 },
 "nbformat": 4,
 "nbformat_minor": 5
}
