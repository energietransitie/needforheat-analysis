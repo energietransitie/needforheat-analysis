{
 "cells": [
  {
   "cell_type": "markdown",
   "id": "02aa6298-301d-4d2f-b59e-7bc2432c67d4",
   "metadata": {},
   "source": [
    "# REDUCEDHEATCARB analysis\n",
    "\n",
    "This JupyterLabs notebook can be used for physics ifnormed machine learning analysis in the REDUCEDHEATCAB project.\n",
    "Don't forget to install the requirements listed in [requirements.txt](../requirements.txt) first!"
   ]
  },
  {
   "cell_type": "markdown",
   "id": "40e8f82e-93a6-4156-b4cb-4744c4cc8c13",
   "metadata": {},
   "source": [
    "## Setting the stage\n",
    "\n",
    "First several imports and variables need to be defined\n"
   ]
  },
  {
   "cell_type": "markdown",
   "id": "b276aade-cd93-4e8a-957d-fdc2d3a84336",
   "metadata": {},
   "source": [
    "### Imports and generic settings"
   ]
  },
  {
   "cell_type": "code",
   "execution_count": null,
   "id": "08d2d6ec-cf03-47d6-a505-bf37716c4700",
   "metadata": {},
   "outputs": [],
   "source": [
    "import numpy as np\n",
    "import pandas as pd\n",
    "from datetime import datetime, timedelta\n",
    "\n",
    "%load_ext autoreload\n",
    "\n",
    "    \n",
    "from tqdm.notebook import tqdm\n",
    "\n",
    "from gekko import GEKKO\n",
    "\n",
    "import sys\n",
    "sys.path.append('../data/')\n",
    "sys.path.append('../view/')\n",
    "sys.path.append('../analysis/')\n",
    "\n",
    "from plotter import Plot\n",
    "import matplotlib.pyplot as plt\n",
    "from matplotlib import cm\n",
    "\n",
    "%matplotlib inline\n",
    "%matplotlib widget\n",
    "\n",
    "\n",
    "from nfh_utils import *\n",
    "\n",
    "# usually, two decimals suffice for displaying DataFrames (NB internally, precision may be higher)\n",
    "pd.options.display.precision = 2\n",
    "\n",
    "from rhc_analysis import Learner, Comfort\n",
    "\n",
    "# rhc_preprocessed_poperties_file='rhc_preprocessed_properties_intv_5_min.parquet'\n",
    "rhc_preprocessed_poperties_file='rhc_preprocessed_properties_intv_1_min.parquet'\n",
    "#rhc_preprocessed_poperties_file='rhc_heat_dstr_preprocessed_properties.parquet'\n",
    "\n",
    "home_BAG_data_file_path = 'buildings_properties_detailed.xlsx'\n",
    "home_metadata_file_path = 'home_properties_detailed.parquet'\n",
    "boilers_excel_file_path = \"boilers.xlsx\"\n",
    "homes_boilers_excel_file_path = \"homes_boilers.xlsx\"\n",
    "boiler_returntemp_load_efficiency_file_path = 'boiler_returntemp_load_efficiency.parquet'\n",
    "\n",
    "regime_change_A1_file_path = 'homes_interventions_A1.xlsx'\n",
    "regime_change_B1_file_path = 'homes_interventions_B1.xlsx'\n",
    "\n",
    "# File for intermediate output (including preprocessing that may likely needs to migrate to the GEKKO model code for the what-if simulations)\n",
    "rhc_heat_dstr_preprocessed_poperties_file='rhc_heat_dstr_preprocessed_properties.parquet'\n",
    "\n",
    "rhc_analysis_results_file = 'rhc_results.parquet'\n",
    "rhc_analysis_results_per_period_file = 'rhc_results_per_period.xlsx'\n",
    "\n",
    "rhc_dstr_analysis_results_per_period_file = 'rhc_dstr_results_per_period.parquet'\n",
    "rhc_dstr_analysis_results_per_period_excel_file = 'rhc_dstr_results_per_period.xlsx'\n",
    "\n",
    "import logging \n",
    "\n",
    "# Clear any existing handlers to avoid duplicate logs\n",
    "for handler in logging.root.handlers[:]:\n",
    "    logging.root.removeHandler(handler)\n",
    "\n",
    "# Set up logging to the console only\n",
    "logging.basicConfig(\n",
    "    level=logging.WARNING,  # Adjust log level as necessary (DEBUG, INFO, WARNING, etc.)\n",
    "    # level=logging.INFO,  # Adjust log level as necessary (DEBUG, INFO, WARNING, etc.)\n",
    "    # level=logging.DEBUG,  # Adjust log level as necessary (DEBUG, INFO, WARNING, etc.)\n",
    "    stream=sys.stderr,    # Send logs to stdout (you can also use sys.stderr if needed)\n",
    "    format='%(asctime)s - %(name)s - %(levelname)s - %(message)s',\n",
    ")"
   ]
  },
  {
   "cell_type": "markdown",
   "id": "67602115-22ca-4ea5-a6ee-58d851205533",
   "metadata": {},
   "source": [
    "### Reading preprocessed interpolated properties from a parquet file"
   ]
  },
  {
   "cell_type": "code",
   "execution_count": null,
   "id": "b8547a2a-b7cd-465a-a94d-a5bf10c88ea7",
   "metadata": {},
   "outputs": [],
   "source": [
    "%%time\n",
    "\n",
    "# Attempt to read the Parquet file\n",
    "try:\n",
    "    df_prep = pd.read_parquet(\n",
    "        rhc_preprocessed_poperties_file, \n",
    "        engine='pyarrow',\n",
    "        dtype_backend='numpy_nullable'\n",
    "        )\n",
    "    print(\"File was successfully read without specifying compression codec.\")\n",
    "except Exception as e:\n",
    "    print(f\"Error reading file: {e}\")"
   ]
  },
  {
   "cell_type": "code",
   "execution_count": null,
   "id": "25260ecc-713e-4436-a9ec-43090f878782",
   "metadata": {},
   "outputs": [],
   "source": [
    "#sorting the DataFrame index is needed to get good performance on certain filters\n",
    "#this guarding code to check whether DataFrames are properly sorted\n",
    "if not df_prep.index.is_monotonic_increasing:\n",
    "    print('df needed index sorting')\n",
    "    df_prep = df_prep.sort_index()  "
   ]
  },
  {
   "cell_type": "code",
   "execution_count": null,
   "id": "eda4ab11-d12c-4241-b820-9eea541fd35b",
   "metadata": {},
   "outputs": [],
   "source": [
    "print(f\"df_prep.count().sum(): {df_prep.count().sum():_}\")"
   ]
  },
  {
   "cell_type": "code",
   "execution_count": null,
   "id": "a7fd00c9-b0fa-470f-a99b-0afd761f86ee",
   "metadata": {},
   "outputs": [],
   "source": [
    "df_prep.info()"
   ]
  },
  {
   "cell_type": "code",
   "execution_count": null,
   "id": "d28413c4-b0dc-449a-a6cc-b8baf19f91d3",
   "metadata": {},
   "outputs": [],
   "source": [
    "sorted(df_prep.columns.to_list())"
   ]
  },
  {
   "cell_type": "code",
   "execution_count": null,
   "id": "a6cb0567-e80c-4326-8bdb-d2e13fb71479",
   "metadata": {
    "tags": []
   },
   "outputs": [],
   "source": [
    "# # visuaize all input data\n",
    "# df_plot = df_prep\n",
    "\n",
    "# list(df_plot.index.unique('id').dropna())\n",
    "\n",
    "# df_plot.index.unique('id').dropna()\n",
    "\n",
    "# # df_plot.loc[[401632]][[prop for prop in df_plot.columns.values if prop.split('__')[-1] in ('degC', 'W', '0', 'bool', 'ppm', 'W_m_2')]]\n",
    "\n",
    "# #Plot all properties from all sources for all ids\n",
    "# Plot.dataframe_preprocessed_plot(df_plot.loc[[401632]][[prop for prop in df_plot.columns.values if prop.split('__')[-1] in ('degC', 'ppm', 'W_m_2')]], units_to_mathtext)"
   ]
  },
  {
   "cell_type": "code",
   "execution_count": null,
   "id": "745a29cd-4502-48c6-85f7-774c7fedb3da",
   "metadata": {},
   "outputs": [],
   "source": [
    "mandatory_sourceprops =  ['batch_import_KNMI_temp_outdoor__degC', \n",
    "                          'batch_import_KNMI_sol_ghi__W_m_2',\n",
    "                          'batch_import_KNMI_wind__m_s_1',\n",
    "                          'batch_import_KNMI_air_outdoor__Pa',\n",
    "                          'batch_import_remeha_temp_indoor__degC',\n",
    "                          'batch_import_remeha_temp_ret__degC',\n",
    "                          'batch_import_remeha_temp_flow__degC',\n",
    "                          'batch_import_remeha_fan_rotations__min_1',\n",
    "                          'batch_import_EDSN_actual_gas_std_hhv__J_m_3',\n",
    "                          # 'device_p1-reader_g_use_cum__m3'\n",
    "                         ]"
   ]
  },
  {
   "cell_type": "code",
   "execution_count": null,
   "id": "8e239a19-398a-4c5e-bfec-a7e8e57e9b53",
   "metadata": {},
   "outputs": [],
   "source": [
    "Plot.plot_missing_data_overview(df_prep, properties_include=mandatory_sourceprops, freq='1W', title_fontsize=8)"
   ]
  },
  {
   "cell_type": "markdown",
   "id": "7dbc9ea1-4a4c-4adf-a52d-a10a6adc2ed4",
   "metadata": {},
   "source": [
    "# Calculate additional properties \n",
    "We may have to move some of these calculations to inside the GEKKO Python model code (e.g. for the what-if scenario simulation)"
   ]
  },
  {
   "cell_type": "markdown",
   "id": "ec7e923b-0716-48f3-a944-ff4e41620e40",
   "metadata": {
    "jp-MarkdownHeadingCollapsed": true
   },
   "source": [
    "## Calculate calculated_comfortable__bool"
   ]
  },
  {
   "cell_type": "code",
   "execution_count": null,
   "id": "1d4eccf9-c228-4516-8f0d-85ae07fd45d6",
   "metadata": {},
   "outputs": [],
   "source": [
    "%%time\n",
    "%autoreload 2\n",
    "# initially, we do not use occupancy yet\n",
    "df_prep.loc[:,'calculated_comfortable__bool'] = Comfort.is_comfortable(\n",
    "    df_prep['batch_import_remeha_temp_indoor__degC'], \n",
    "    df_prep['batch_import_remeha_temp_set__degC'], \n",
    "    target_ppd__pct=10, \n",
    "    # occupancy__bool=(df_prep['device_living_room_occupancy__p'] > 0)\n",
    ")"
   ]
  },
  {
   "cell_type": "code",
   "execution_count": null,
   "id": "fa296237-687c-4e81-b4be-fa7e412a0f5c",
   "metadata": {},
   "outputs": [],
   "source": [
    "# Get an overview of True, False, and NaN values\n",
    "df_prep['calculated_comfortable__bool'].value_counts(normalize=True, dropna=False).to_frame().T"
   ]
  },
  {
   "cell_type": "code",
   "execution_count": null,
   "id": "0b01b4e8-2aaa-4e0b-bbbd-5fab1795bc5d",
   "metadata": {},
   "outputs": [],
   "source": [
    "# Get an overview of True, False, and NaN values\n",
    "df_prep['calculated_comfortable__bool'].value_counts(normalize=True, dropna=False).to_frame().T"
   ]
  },
  {
   "cell_type": "code",
   "execution_count": null,
   "id": "a64da17a-a045-4086-a249-c0e73b8d6c6c",
   "metadata": {},
   "outputs": [],
   "source": [
    "# Get an overview of True, False, and NaN values\n",
    "df_prep['calculated_comfortable__bool'].groupby('id').value_counts(normalize=True, dropna=False).to_frame().unstack().T"
   ]
  },
  {
   "cell_type": "markdown",
   "id": "f5990edf-a5c1-4958-9475-792e7f6fc296",
   "metadata": {},
   "source": [
    "## Use boiler-specific efficiency to calculate heat_ch__W"
   ]
  },
  {
   "cell_type": "markdown",
   "id": "af2b5c37-3ce3-4bb2-86ac-dfc6d2c0c2a7",
   "metadata": {
    "jp-MarkdownHeadingCollapsed": true
   },
   "source": [
    "### Reading boiler efficiency data"
   ]
  },
  {
   "cell_type": "code",
   "execution_count": null,
   "id": "b10db8de-48fd-4079-9404-2b81233ab9a7",
   "metadata": {},
   "outputs": [],
   "source": [
    "%%time\n",
    "# Attempt to read the Parquet file\n",
    "try:\n",
    "    df_boiler_efficiency = pd.read_parquet(\n",
    "        # boiler_returntemp_efficiency_file_path, \n",
    "        boiler_returntemp_load_efficiency_file_path, \n",
    "        engine='pyarrow',\n",
    "        dtype_backend='numpy_nullable'\n",
    "        )\n",
    "    print(\"File was successfully read without specifying compression codec.\")\n",
    "except Exception as e:\n",
    "    print(f\"Error reading file: {e}\")"
   ]
  },
  {
   "cell_type": "code",
   "execution_count": null,
   "id": "c9fb9ed0-ba1f-43cd-97c8-550edf244578",
   "metadata": {},
   "outputs": [],
   "source": [
    "df_boiler_efficiency"
   ]
  },
  {
   "cell_type": "markdown",
   "id": "9dba51d4-7fbe-423a-b99a-d698b951b5dc",
   "metadata": {},
   "source": [
    "### Lookup of momentary boiler efficiency from boiler-specific efficiency curves"
   ]
  },
  {
   "cell_type": "code",
   "execution_count": null,
   "id": "c277ca5f-4dbf-4ec4-aa1b-a01691d90bbb",
   "metadata": {},
   "outputs": [],
   "source": [
    "# Derive brand-specific min and max for load and return temperature\n",
    "brand_specific_ranges = df_boiler_efficiency.reset_index().groupby('brand_model').agg({\n",
    "    'rounded_load__%': ['min', 'max'],\n",
    "    'rounded_temp_ret__degC': ['min', 'max']\n",
    "})"
   ]
  },
  {
   "cell_type": "code",
   "execution_count": null,
   "id": "046475b5-96ca-4a5b-869a-2a083dd86c8e",
   "metadata": {},
   "outputs": [],
   "source": [
    "# Rename columns for clarity\n",
    "brand_specific_ranges.columns = ['min_load__%', 'max_load__%', 'min_temp_ret__degC', 'max_temp_ret__degC']"
   ]
  },
  {
   "cell_type": "code",
   "execution_count": null,
   "id": "04cf9a5d-1859-4f03-807c-b21dccf17176",
   "metadata": {},
   "outputs": [],
   "source": [
    "brand_specific_ranges"
   ]
  },
  {
   "cell_type": "code",
   "execution_count": null,
   "id": "7705e165-01b0-45e0-a5f9-3b8c98d74281",
   "metadata": {},
   "outputs": [],
   "source": [
    "%%time\n",
    "# Merge df_prep with brand_specific_ranges to get the min/max values for each brand_model\n",
    "df_prep = (df_prep\n",
    "           .reset_index()\n",
    "           .merge(brand_specific_ranges, on='brand_model', how='left')\n",
    "           .set_index(['id', 'timestamp'])\n",
    "           .sort_index())"
   ]
  },
  {
   "cell_type": "code",
   "execution_count": null,
   "id": "bce48ebd-f75b-4a80-899e-72ce9d83bad0",
   "metadata": {},
   "outputs": [],
   "source": [
    "%%time\n",
    "# Round return temperatures to whole degrees\n",
    "df_prep['rounded_temp_ret__degC'] = (df_prep['batch_import_remeha_temp_ret__degC']\n",
    "                                     .round()\n",
    "                                     .clip(lower=df_prep['min_temp_ret__degC'], upper=df_prep['max_temp_ret__degC'])\n",
    "                                     .astype('Int8')\n",
    "                                    )\n"
   ]
  },
  {
   "cell_type": "code",
   "execution_count": null,
   "id": "c9c9d5a9-c6e9-464f-864f-aa97c6f59892",
   "metadata": {},
   "outputs": [],
   "source": [
    "%%time\n",
    "df_prep.loc[:,'rounded_load__%'] = (\n",
    "    (df_prep['calculated_fan_frac__0'] + (1 - df_prep['calculated_fan_frac__0']) * df_prep['Qnh_min_lhv__kW'] / df_prep['Qnh_max_lhv__kW'])\n",
    "    * 100\n",
    "    * df_prep['batch_import_remeha_gas_valve_open__bool'] # make sure load = 0 when gas valve is closed\n",
    ").round().clip(lower=df_prep['min_load__%'], upper=df_prep['max_load__%']).astype('Int16')"
   ]
  },
  {
   "cell_type": "code",
   "execution_count": null,
   "id": "74f06b95-2045-4b72-b83b-d6884196c418",
   "metadata": {},
   "outputs": [],
   "source": [
    "%%time\n",
    "# Merging DataFrames\n",
    "df_prep = (df_prep\n",
    "           .reset_index()\n",
    "           .merge(df_boiler_efficiency.reset_index(),\n",
    "                  on=['brand_model', 'rounded_load__%', 'rounded_temp_ret__degC'], \n",
    "                  how='left'\n",
    "                  )\n",
    "           .set_index(['id', 'timestamp'])\n",
    "           .sort_index()\n",
    "          )  \n"
   ]
  },
  {
   "cell_type": "markdown",
   "id": "de508b17-194e-4a9f-8ecb-850083cd4ea0",
   "metadata": {},
   "source": [
    "### Calculate heat_ch__W"
   ]
  },
  {
   "cell_type": "code",
   "execution_count": null,
   "id": "3b5f8189-756d-41fb-9807-254dd95f8651",
   "metadata": {},
   "outputs": [],
   "source": [
    "%%time\n",
    "df_prep.loc[:,'calculated_heat_ch__W'] = df_prep['calculated_g_use_ch_hhv__W'] * df_prep['eta_ch_hhv__W0']"
   ]
  },
  {
   "cell_type": "markdown",
   "id": "7c719d24-8aaf-455c-be89-17517959acf8",
   "metadata": {},
   "source": [
    "### Calculate flow_dstr__dm3_min_1"
   ]
  },
  {
   "cell_type": "code",
   "execution_count": null,
   "id": "c7c8d1ab-fe28-4b09-975d-450b02849416",
   "metadata": {},
   "outputs": [],
   "source": [
    "water__kg_m_3 = 994 # Approximation of the density of water at 34°C calculated using CoolProp and an average of all observed supply and return temperatures for central heating"
   ]
  },
  {
   "cell_type": "code",
   "execution_count": null,
   "id": "e11acc5f-c726-4ef5-876b-13d3e1b23e3b",
   "metadata": {},
   "outputs": [],
   "source": [
    "%%time\n",
    "# Calculate the temperature difference\n",
    "temp_diff = df_prep['batch_import_remeha_temp_flow_ch__degC'] - df_prep['batch_import_remeha_temp_ret_ch__degC']"
   ]
  },
  {
   "cell_type": "code",
   "execution_count": null,
   "id": "5065dd56-c347-4a0e-ab91-692d4f36186b",
   "metadata": {},
   "outputs": [],
   "source": [
    "# Use np.where to conditionally replace results based on the temperature difference\n",
    "df_prep.loc[:, 'calculated_flow_dstr__dm3_min_1'] = np.where(\n",
    "    (temp_diff == 0) | pd.isna(temp_diff),  # Check if the temperature difference is zero or NA\n",
    "    np.nan,  # Use np.nan for missing values\n",
    "    (\n",
    "        df_prep['calculated_heat_ch__W']\n",
    "        / (\n",
    "            water__J_kg_1_K_1 \n",
    "            * temp_diff\n",
    "            * water__kg_m_3\n",
    "        )\n",
    "        * dm3_m_3\n",
    "        * s_min_1\n",
    "    )\n",
    ")"
   ]
  },
  {
   "cell_type": "code",
   "execution_count": null,
   "id": "0f37a963-aa7b-4e36-a637-bdd7cc3492af",
   "metadata": {},
   "outputs": [],
   "source": [
    "# Clipping the calculated flow values, based on maximum flow of 6.5 [m³/h] \n",
    "# (Grundfos UPM4 15-75, UPM4S 15-60; Wilo Yonos Para MS/6B-PWM1, Yonos Para MS/78-PWM1)\n",
    "flow_ch_max__dm3_min_1 = 6.5 * dm3_m_3 / min_h_1\n",
    "df_prep['calculated_flow_dstr__dm3_min_1'] = df_prep['calculated_flow_dstr__dm3_min_1'].clip(lower=0, upper=flow_ch_max__dm3_min_1).astype('float32')"
   ]
  },
  {
   "cell_type": "code",
   "execution_count": null,
   "id": "96fef5e5-5897-47a3-bb78-e89da9586073",
   "metadata": {},
   "outputs": [],
   "source": [
    "df_prep['calculated_flow_dstr__dm3_min_1'].describe()"
   ]
  },
  {
   "cell_type": "code",
   "execution_count": null,
   "id": "f30753c4-ccfd-4fde-85e1-b3e6eeaffde5",
   "metadata": {},
   "outputs": [],
   "source": [
    "%matplotlib inline\n",
    "%matplotlib widget\n",
    "prop = 'batch_import_remeha_temp_outdoor__degC'\n",
    "df_prep[prop].plot.hist(bins=200, alpha=0.5, title = prop)\n"
   ]
  },
  {
   "cell_type": "code",
   "execution_count": null,
   "id": "335d2b21-2d0e-4ea1-9b01-13ee4cc4b407",
   "metadata": {},
   "outputs": [],
   "source": [
    "%matplotlib inline\n",
    "%matplotlib widget\n",
    "prop = 'calculated_flow_dstr__dm3_min_1'\n",
    "df_prep[prop].plot.hist(bins=200, alpha=0.5, title = prop)\n"
   ]
  },
  {
   "cell_type": "markdown",
   "id": "486add66-4539-4e1d-9e7a-0f0c9bc20f67",
   "metadata": {},
   "source": [
    "## Inspect results "
   ]
  },
  {
   "cell_type": "code",
   "execution_count": null,
   "id": "499f7a03-ec58-415d-a892-0542f2bbbaec",
   "metadata": {
    "scrolled": true
   },
   "outputs": [],
   "source": [
    "sorted(list(df_prep.columns))"
   ]
  },
  {
   "cell_type": "code",
   "execution_count": null,
   "id": "1241e89f-5230-4970-bb9c-0cc9ee92dc6a",
   "metadata": {},
   "outputs": [],
   "source": [
    "df_prep[['batch_import_remeha_flow_dstr_pump_speed__%',\n",
    "         'calculated_flow_dstr__dm3_min_1',\n",
    "         'batch_import_remeha_temp_flow__degC',\n",
    "         'batch_import_remeha_temp_flow_ch__degC',\n",
    "         'batch_import_remeha_temp_ret__degC',\n",
    "         'batch_import_remeha_temp_ret_ch__degC',\n",
    "         'calculated_heat_ch__W',\n",
    "         'calculated_flow_dstr__dm3_min_1',\n",
    "         'batch_import_remeha_dhw_flow__l_min_1'\n",
    "        ]].describe()"
   ]
  },
  {
   "cell_type": "code",
   "execution_count": null,
   "id": "2c0f1055-3acb-4480-8988-f9bcf057a2b6",
   "metadata": {},
   "outputs": [],
   "source": [
    "df_prep[['batch_import_remeha_flow_dstr_pump_speed__%',\n",
    "         'batch_import_remeha_temp_flow__degC',\n",
    "         'batch_import_remeha_temp_flow_ch__degC',\n",
    "         'batch_import_remeha_temp_ret__degC',\n",
    "         'batch_import_remeha_temp_ret_ch__degC',\n",
    "         'calculated_flow_dstr__dm3_min_1',\n",
    "         'batch_import_remeha_dhw_flow__l_min_1'\n",
    "        ]].groupby('id').count().T"
   ]
  },
  {
   "cell_type": "code",
   "execution_count": null,
   "id": "dd0fda48-4033-401e-9378-9f33c8d02f32",
   "metadata": {},
   "outputs": [],
   "source": [
    "# Create masks\n",
    "boiler_burning_mask = ((df_prep['batch_import_remeha_boiler_status_burning_ch__bool'] == True) | (df_prep['batch_import_remeha_boiler_status_burning_dhw__bool'] == True)) & (df_prep['batch_import_remeha_gas_valve_open__bool'] == True)\n",
    "boiler_ch_mask = (df_prep['batch_import_remeha_boiler_status_burning_ch__bool'] == True) & (df_prep['batch_import_remeha_gas_valve_open__bool'] == True)\n",
    "boiler_dhw_mask = (df_prep['batch_import_remeha_boiler_status_burning_dhw__bool'] == True) & (df_prep['batch_import_remeha_gas_valve_open__bool'] == True)\n",
    "remeha_data_notna_mask = (df_prep['batch_import_remeha_temp_indoor__degC'].notna()) & (df_prep['device_p1-reader_g_use_hhv__W'].notna())\n",
    "boiler_valve_closed_mask = (df_prep['batch_import_remeha_temp_indoor__degC'].notna()) & (df_prep['batch_import_remeha_gas_valve_closed__bool'] == True)"
   ]
  },
  {
   "cell_type": "code",
   "execution_count": null,
   "id": "40372771-67ff-437d-9e41-1947010215c6",
   "metadata": {},
   "outputs": [],
   "source": [
    "# Select mask\n",
    "boiler_status_mask = remeha_data_notna_mask \n"
   ]
  },
  {
   "cell_type": "markdown",
   "id": "e90c46d9-0e5e-4999-b48d-a8b674d56d61",
   "metadata": {
    "jp-MarkdownHeadingCollapsed": true
   },
   "source": [
    "### Inspecting gas power used by boiler based on fan speed [rpm]"
   ]
  },
  {
   "cell_type": "code",
   "execution_count": null,
   "id": "72f6627d-1e02-4506-98f4-6ebe0c17343b",
   "metadata": {},
   "outputs": [],
   "source": [
    "df_prep[boiler_status_mask]['calculated_fan_frac__0'].mean()"
   ]
  },
  {
   "cell_type": "code",
   "execution_count": null,
   "id": "9ef988de-9c72-48c5-9b14-5666a99bbcbd",
   "metadata": {},
   "outputs": [],
   "source": [
    "average_gas_std_hhv__MJ_mm_3 = df_prep[boiler_status_mask]['batch_import_EDSN_actual_gas_std_hhv__J_m_3'].mean() / 1e6\n",
    "average_gas_std_hhv__MJ_mm_3\n"
   ]
  },
  {
   "cell_type": "code",
   "execution_count": null,
   "id": "efe49e76-2275-4d4d-b7b1-9d059e76ee8f",
   "metadata": {},
   "outputs": [],
   "source": [
    "(df_prep[boiler_status_mask]['batch_import_EDSN_actual_gas_std_hhv__J_m_3'] * df_prep[boiler_status_mask]['calculated_g_use_boiler_hhv__W']).sum() / df_prep[boiler_status_mask]['calculated_g_use_boiler_hhv__W'].sum() / 1e6\n",
    "\n"
   ]
  },
  {
   "cell_type": "code",
   "execution_count": null,
   "id": "b1889281-750b-45db-a421-c021ab7b9539",
   "metadata": {},
   "outputs": [],
   "source": [
    "df_prep[boiler_status_mask]['calculated_g25_3_use_boiler_lhv__W'].mean()"
   ]
  },
  {
   "cell_type": "code",
   "execution_count": null,
   "id": "9275cd08-61c2-43f6-a311-d024c86db2bc",
   "metadata": {
    "scrolled": true
   },
   "outputs": [],
   "source": [
    "df_prep[boiler_status_mask]['gas_calorific_factor_g25_3_lhv_to_actual_hhv__J0'].mean()                                           "
   ]
  },
  {
   "cell_type": "code",
   "execution_count": null,
   "id": "b20c0c70-6fd4-42d9-ab7b-733b3a64e914",
   "metadata": {},
   "outputs": [],
   "source": [
    "df_prep[boiler_status_mask]['gas_pressure_factor_ref_to_actual__J0'].mean()                                           "
   ]
  },
  {
   "cell_type": "code",
   "execution_count": null,
   "id": "59817ed9-27ce-425c-a3e3-ab243d4e610f",
   "metadata": {},
   "outputs": [],
   "source": [
    "df_prep[boiler_status_mask]['gas_temp_factor_ref_to_actual__J0'].mean()                                           "
   ]
  },
  {
   "cell_type": "code",
   "execution_count": null,
   "id": "42bac316-b8f0-4540-9301-08685371a5bb",
   "metadata": {},
   "outputs": [],
   "source": [
    "conversion_factor_boiler = (\n",
    "    df_prep[boiler_status_mask]['gas_calorific_factor_g25_3_lhv_to_actual_hhv__J0'].mean()\n",
    "    * df_prep[boiler_status_mask]['gas_pressure_factor_ref_to_actual__J0'].mean()\n",
    "    * df_prep[boiler_status_mask]['gas_temp_factor_ref_to_actual__J0'].mean()\n",
    ")\n",
    "conversion_factor_boiler"
   ]
  },
  {
   "cell_type": "code",
   "execution_count": null,
   "id": "9f9f0ed1-49ad-415c-9c7d-5de73f39fd46",
   "metadata": {},
   "outputs": [],
   "source": [
    "average_gas_boiler__W = df_prep[boiler_status_mask]['calculated_g_use_boiler_hhv__W'].mean()                              \n",
    "average_gas_boiler__W"
   ]
  },
  {
   "cell_type": "markdown",
   "id": "b7eacfbe-afc4-491a-9cda-bf028ff1df5d",
   "metadata": {
    "jp-MarkdownHeadingCollapsed": true
   },
   "source": [
    "### Inspecting gas power based used by home, based on smart meter measurements"
   ]
  },
  {
   "cell_type": "code",
   "execution_count": null,
   "id": "9df4cfb1-35d5-4fbf-b50e-04b3ee59fd6d",
   "metadata": {},
   "outputs": [],
   "source": [
    "df_prep[boiler_status_mask]['device_p1-reader_g_use_hhv__W'].mean()"
   ]
  },
  {
   "cell_type": "code",
   "execution_count": null,
   "id": "30dfabc7-9561-4aa8-9f5e-388b23d7f30d",
   "metadata": {},
   "outputs": [],
   "source": [
    "df_prep[boiler_status_mask]['gas_calorific_factor_groningen_hhv_to_actual_hhv__J0'].mean()"
   ]
  },
  {
   "cell_type": "code",
   "execution_count": null,
   "id": "331933ca-c8cc-4af1-a690-bff40f7a5cf2",
   "metadata": {},
   "outputs": [],
   "source": [
    "df_prep[boiler_status_mask]['gas_calorific_factor_groningen_hhv_to_actual_hhv__J0'].mean()"
   ]
  },
  {
   "cell_type": "code",
   "execution_count": null,
   "id": "1c0d5cb0-af57-474d-82e7-208c33eee24f",
   "metadata": {},
   "outputs": [],
   "source": [
    "df_prep[boiler_status_mask]['gas_pressure_factor_correct_smart_meter_to_actual__J0'].mean()"
   ]
  },
  {
   "cell_type": "code",
   "execution_count": null,
   "id": "6dc253b4-28de-4a82-aa33-3f639b6ad9d7",
   "metadata": {},
   "outputs": [],
   "source": [
    "conversion_factor_smart_meter = (\n",
    "    df_prep[boiler_status_mask]['gas_calorific_factor_groningen_hhv_to_actual_hhv__J0'].mean()\n",
    "    * df_prep[boiler_status_mask]['gas_pressure_factor_correct_smart_meter_to_actual__J0'].mean()\n",
    ")\n",
    "conversion_factor_smart_meter"
   ]
  },
  {
   "cell_type": "code",
   "execution_count": null,
   "id": "098be277-4eff-4725-aa15-3b8a530d97f2",
   "metadata": {},
   "outputs": [],
   "source": [
    "average_gas_smart_meter__W = df_prep[boiler_status_mask]['calculated_g_use_hhv__W'].mean()\n",
    "average_gas_smart_meter__W"
   ]
  },
  {
   "cell_type": "markdown",
   "id": "a00610ca-1114-48c3-88a2-ff0be4d59a6f",
   "metadata": {
    "jp-MarkdownHeadingCollapsed": true
   },
   "source": [
    "### Inspecting gas power based used by boiler, based on boiler counters"
   ]
  },
  {
   "cell_type": "code",
   "execution_count": null,
   "id": "69cce609-864e-4dfe-be1e-1542e508d616",
   "metadata": {},
   "outputs": [],
   "source": [
    "average_gas_input_bdr_energy_counter_ch_lhv__W = df_prep[boiler_status_mask]['batch_import_remeha_g_use_ch_lhv__W'].mean()                              \n",
    "average_gas_input_bdr_energy_counter_ch_lhv__W"
   ]
  },
  {
   "cell_type": "code",
   "execution_count": null,
   "id": "8bb7203d-d93f-4e7c-8a92-1e2ec04cad6a",
   "metadata": {},
   "outputs": [],
   "source": [
    "df_prep[boiler_status_mask]['calculated_remeha_g_use_ch_hhv__W'].mean()"
   ]
  },
  {
   "cell_type": "code",
   "execution_count": null,
   "id": "b583e2a1-6295-48c1-9b84-c9756476466a",
   "metadata": {},
   "outputs": [],
   "source": [
    "average_gas_input_bdr_energy_counter_dhw_lhv__W = df_prep[boiler_status_mask]['batch_import_remeha_g_use_dhw_lhv__W'].mean()                              \n",
    "average_gas_input_bdr_energy_counter_dhw_lhv__W"
   ]
  },
  {
   "cell_type": "code",
   "execution_count": null,
   "id": "e021aa97-878b-4d33-abda-33c8595b5ba8",
   "metadata": {},
   "outputs": [],
   "source": [
    "df_prep[boiler_status_mask]['calculated_remeha_g_use_dhw_hhv__W'].mean()"
   ]
  },
  {
   "cell_type": "code",
   "execution_count": null,
   "id": "321e9a53-c50e-4bd7-853c-40ba8d7e869a",
   "metadata": {},
   "outputs": [],
   "source": [
    "average_gas_input_bdr_energy_counter_lhv__W = (average_gas_input_bdr_energy_counter_ch_lhv__W +  average_gas_input_bdr_energy_counter_dhw_lhv__W) \n",
    "average_gas_input_bdr_energy_counter_lhv__W"
   ]
  },
  {
   "cell_type": "code",
   "execution_count": null,
   "id": "81e45cb5-ab4a-479c-b8e2-75e433f9a402",
   "metadata": {},
   "outputs": [],
   "source": [
    "average_gas_input_bdr_energy_counter__W = df_prep[boiler_status_mask]['calculated_remeha_g_use_ch_hhv__W'].mean() + df_prep[boiler_status_mask]['calculated_remeha_g_use_dhw_hhv__W'].mean()\n",
    "average_gas_input_bdr_energy_counter__W"
   ]
  },
  {
   "cell_type": "markdown",
   "id": "cf28f370-426c-4ad3-b61b-d3bd2d01f6ef",
   "metadata": {
    "jp-MarkdownHeadingCollapsed": true
   },
   "source": [
    "#### Inspecting boiler counters while valve is closed"
   ]
  },
  {
   "cell_type": "code",
   "execution_count": null,
   "id": "3d92ac04-8d99-4626-a325-a897f22f91cb",
   "metadata": {},
   "outputs": [],
   "source": [
    "df_prep[boiler_valve_closed_mask][[\n",
    "    'batch_import_remeha_fan_rotations__min_1',\n",
    "    'batch_import_remeha_g_use_ch_lhv__W',\n",
    "    'batch_import_remeha_g_use_dhw_lhv__W',\n",
    "    'calculated_remeha_g_use_ch_hhv__W',\n",
    "    'calculated_remeha_g_use_dhw_hhv__W',\n",
    "]].describe().T   "
   ]
  },
  {
   "cell_type": "markdown",
   "id": "259343d6-c560-46d5-b918-f8c949953bfb",
   "metadata": {
    "jp-MarkdownHeadingCollapsed": true
   },
   "source": [
    "### Compare gas power calculated in various ways"
   ]
  },
  {
   "cell_type": "code",
   "execution_count": null,
   "id": "2daecb61-b91a-4825-b6ff-8546d4beb93f",
   "metadata": {},
   "outputs": [],
   "source": [
    "average_gas_smart_meter__W - average_gas_boiler__W"
   ]
  },
  {
   "cell_type": "code",
   "execution_count": null,
   "id": "897feb3c-9f81-422d-a05d-f87bc22dea00",
   "metadata": {},
   "outputs": [],
   "source": [
    "average_gas_boiler__W / average_gas_smart_meter__W"
   ]
  },
  {
   "cell_type": "code",
   "execution_count": null,
   "id": "cb91eaea-c53f-47c4-9f71-051037d76e2a",
   "metadata": {},
   "outputs": [],
   "source": [
    "average_gas_boiler__W / average_gas_input_bdr_energy_counter__W"
   ]
  },
  {
   "cell_type": "code",
   "execution_count": null,
   "id": "59866e26-c08d-43c6-a14e-9b5858c7e7eb",
   "metadata": {},
   "outputs": [],
   "source": [
    "df_prep[boiler_status_mask].groupby(level='id').agg({\n",
    "    'batch_import_remeha_g_use_ch_lhv__W': ['mean'],    \n",
    "    'calculated_remeha_g_use_ch_hhv__W': ['mean'],\n",
    "    'calculated_remeha_g_use_dhw_hhv__W': ['mean'],\n",
    "    'calculated_remeha_g_use_hhv__W': ['mean'],\n",
    "    'calculated_g25_3_use_boiler_lhv__W': ['mean'],\n",
    "    'calculated_g_use_ch_hhv__W': ['mean'],\n",
    "    'calculated_g_use_dhw_hhv__W': ['mean'],\n",
    "    'calculated_g_use_boiler_hhv__W': ['mean'],\n",
    "    'calculated_g_use_hhv__W': ['mean'],\n",
    "    'calculated_heat_ch__W': ['mean'],\n",
    "}).T"
   ]
  },
  {
   "cell_type": "code",
   "execution_count": null,
   "id": "65f2021b-f963-4a33-a7a6-a377c8c3b175",
   "metadata": {},
   "outputs": [],
   "source": [
    "df_prep[boiler_status_mask][[\n",
    "    'batch_import_remeha_g_use_ch_lhv_cum__kWh',\n",
    "    'batch_import_remeha_g_use_ch_lhv__W',\n",
    "    'batch_import_remeha_g_use_dhw_lhv_cum__kWh',\n",
    "    'batch_import_remeha_g_use_dhw_lhv__W']\n",
    "].groupby(level='id').describe().T\n",
    " "
   ]
  },
  {
   "cell_type": "code",
   "execution_count": null,
   "id": "8bae7c8b-2dd6-4620-bf52-f7223a3e0a4a",
   "metadata": {},
   "outputs": [],
   "source": [
    "# Group by 'id' and calculate the means\n",
    "df_prep[boiler_status_mask].groupby(level='id').agg({\n",
    "    'batch_import_remeha_temp_flow_ch_max__degC': 'mean',\n",
    "    'batch_import_remeha_temp_flow_ch__degC': 'mean',\n",
    "    'batch_import_remeha_temp_ret_ch__degC': 'mean',\n",
    "    'rounded_temp_ret__degC': 'mean',\n",
    "    'rounded_load__%': 'mean',\n",
    "    'eta_ch_hhv__W0': 'mean',\n",
    "}).sort_values(by='eta_ch_hhv__W0', ascending=False)"
   ]
  },
  {
   "cell_type": "code",
   "execution_count": null,
   "id": "516ec8c8-9be7-4131-bd7e-d703f9376551",
   "metadata": {},
   "outputs": [],
   "source": [
    "df_prep[boiler_ch_mask]['rounded_temp_ret__degC'].mean() "
   ]
  },
  {
   "cell_type": "code",
   "execution_count": null,
   "id": "3b28a822-0bd9-43f0-8f9d-6a6637d46425",
   "metadata": {},
   "outputs": [],
   "source": [
    "df_prep[boiler_ch_mask & (df_prep['rounded_temp_ret__degC'] <30)]['rounded_temp_ret__degC'].count() / df_prep[boiler_ch_mask]['rounded_temp_ret__degC'].count()"
   ]
  },
  {
   "cell_type": "code",
   "execution_count": null,
   "id": "0eecbe67-fd2b-4023-9e55-8789969a8dbb",
   "metadata": {},
   "outputs": [],
   "source": [
    "# average efficiency on higher heating value, NOT weighted by gas input\n",
    "df_prep[boiler_ch_mask]['eta_ch_hhv__W0'].mean() "
   ]
  },
  {
   "cell_type": "code",
   "execution_count": null,
   "id": "1134151d-a409-4f33-a755-159fc56603e1",
   "metadata": {},
   "outputs": [],
   "source": [
    "# average efficiency on higher heating value, weighted by gas input\n",
    "(df_prep.loc[boiler_ch_mask, 'eta_ch_hhv__W0'] * df_prep.loc[boiler_ch_mask, 'calculated_remeha_g_use_hhv__W']).sum() / df_prep.loc[boiler_ch_mask, 'calculated_remeha_g_use_hhv__W'].sum()\n"
   ]
  },
  {
   "cell_type": "code",
   "execution_count": null,
   "id": "9276a9d1-44d2-40b1-be0a-e52c1524a883",
   "metadata": {},
   "outputs": [],
   "source": [
    "df_prep[boiler_ch_mask]['rounded_load__%'].mean() "
   ]
  },
  {
   "cell_type": "code",
   "execution_count": null,
   "id": "53237e02-e734-46cd-9668-4f2fd2b36bfc",
   "metadata": {},
   "outputs": [],
   "source": [
    "df_boiler_efficiency"
   ]
  },
  {
   "cell_type": "code",
   "execution_count": null,
   "id": "e1bf557b-6ba0-4dbc-940d-290ea2485077",
   "metadata": {},
   "outputs": [],
   "source": [
    "# Filter the DataFrame based on boiler_status_mask\n",
    "df_filtered = df_prep.loc[boiler_status_mask]\n",
    "\n",
    "# Group by 'id' and calculate the sum of the relevant columns\n",
    "grouped = df_filtered.groupby('id').agg(\n",
    "    mean_boiler_use=('calculated_g_use_boiler_hhv__W', 'mean'),\n",
    "    mean_smart_meter_use=('calculated_g_use_hhv__W', 'mean'),\n",
    "    dsmr_version=('device_p1-reader_dsmr_version__0', 'first')  # Assuming the DSMR version doesn't change within an id\n",
    ")\n",
    "\n",
    "# Calculate the ratio\n",
    "grouped['ratio'] = grouped['mean_boiler_use'] / grouped['mean_smart_meter_use']"
   ]
  },
  {
   "cell_type": "code",
   "execution_count": null,
   "id": "e1cfe3a9-2c31-4710-b0bd-62e78ee6009e",
   "metadata": {},
   "outputs": [],
   "source": [
    "grouped"
   ]
  },
  {
   "cell_type": "code",
   "execution_count": null,
   "id": "2ec27ec3-e574-4155-a957-a4286613d7bd",
   "metadata": {},
   "outputs": [],
   "source": [
    "# Now, group by DSMR version and calculate the mean ratio for each version\n",
    "version_grouped = grouped.groupby('dsmr_version').agg(\n",
    "    sum_mean_boiler_use=('mean_boiler_use', 'sum'),\n",
    "    sum_mean_smart_meter_use=('mean_smart_meter_use', 'sum'),\n",
    "    mean_ratio=('ratio', 'mean'),\n",
    "    count=('ratio', 'size'))\n",
    "\n",
    "version_grouped['ratio_sums'] =  version_grouped['sum_mean_boiler_use'] / version_grouped['sum_mean_smart_meter_use']\n"
   ]
  },
  {
   "cell_type": "code",
   "execution_count": null,
   "id": "41ff175f-71fa-438a-9641-b8934adfca31",
   "metadata": {},
   "outputs": [],
   "source": [
    "version_grouped"
   ]
  },
  {
   "cell_type": "markdown",
   "id": "e764cee6-475f-4e93-a73b-de838d8f17e4",
   "metadata": {},
   "source": [
    "### Boxplots per home (when boiler is burning for central heating & gas value is open)"
   ]
  },
  {
   "cell_type": "code",
   "execution_count": null,
   "id": "fbb96ea3-ff1d-4c46-bf64-f3b2b248a391",
   "metadata": {},
   "outputs": [],
   "source": [
    "# Group by 'id' and calculate the mean for both 'eta_ch_hhv__W0' and 'batch_import_remeha_temp_ret__degC'\n",
    "df_prep[boiler_ch_mask].groupby(level='id').agg({\n",
    "    'batch_import_remeha_temp_flow_ch_max__degC': 'mean',\n",
    "    'batch_import_remeha_temp_flow__degC': 'mean',\n",
    "    'batch_import_remeha_temp_ret__degC': 'mean',\n",
    "    'rounded_temp_ret__degC': 'mean',\n",
    "    'rounded_load__%': 'mean',\n",
    "    'eta_ch_hhv__W0': 'mean',\n",
    "    'calculated_heat_ch__W': 'max',\n",
    "}).sort_values(by='eta_ch_hhv__W0', ascending=False)"
   ]
  },
  {
   "cell_type": "code",
   "execution_count": null,
   "id": "4857842e-0ca3-4261-8ece-b11b0c109f58",
   "metadata": {},
   "outputs": [],
   "source": [
    "Plot.nfh_property_per_id_boxplot(df_prep[boiler_ch_mask], property_col='rounded_temp_ret__degC')"
   ]
  },
  {
   "cell_type": "code",
   "execution_count": null,
   "id": "06f61765-0576-416a-ae8c-7666f4fd4ab5",
   "metadata": {},
   "outputs": [],
   "source": [
    "Plot.nfh_property_per_id_boxplot(df_prep[boiler_ch_mask], property_col='rounded_load__%')"
   ]
  },
  {
   "cell_type": "code",
   "execution_count": null,
   "id": "3f96329c-c1c1-4b9c-8bff-986664dd1016",
   "metadata": {},
   "outputs": [],
   "source": [
    "Plot.nfh_property_per_id_boxplot(df_prep[boiler_ch_mask], property_col='eta_ch_hhv__W0')"
   ]
  },
  {
   "cell_type": "code",
   "execution_count": null,
   "id": "3ffbfb88-25eb-416b-9743-5116e8075643",
   "metadata": {},
   "outputs": [],
   "source": [
    "Plot.nfh_property_per_id_boxplot(df_prep[boiler_ch_mask], property_col='calculated_heat_ch__W')"
   ]
  },
  {
   "cell_type": "code",
   "execution_count": null,
   "id": "2b319769-0027-4a1d-8249-66946788b5d9",
   "metadata": {},
   "outputs": [],
   "source": [
    "Plot.nfh_property_per_id_boxplot(df_prep[boiler_ch_mask], property_col='batch_import_remeha_temp_flow_ch__degC')"
   ]
  },
  {
   "cell_type": "code",
   "execution_count": null,
   "id": "6a9988aa-9e51-490a-98b9-beaab4db56f5",
   "metadata": {},
   "outputs": [],
   "source": [
    "Plot.nfh_property_per_id_boxplot(df_prep[boiler_ch_mask], property_col='batch_import_remeha_temp_outdoor__degC')"
   ]
  },
  {
   "cell_type": "markdown",
   "id": "86d4b55e-c30d-48ea-8aba-a9f83fb838a2",
   "metadata": {},
   "source": [
    "## Inspect internal heat from electrical energy\n"
   ]
  },
  {
   "cell_type": "code",
   "execution_count": null,
   "id": "8bb4c0f6-ad8f-492a-853e-9bfa8b4091f5",
   "metadata": {},
   "outputs": [],
   "source": [
    "df_prep[['calculated_device_p1-reader_e__W', 'calculated_device_p1-reader_e_use__W', 'calculated_device_p1-reader_e_ret__W']].describe().T"
   ]
  },
  {
   "cell_type": "code",
   "execution_count": null,
   "id": "6a31acd7-be3a-4397-8a34-742b2b65cacb",
   "metadata": {},
   "outputs": [],
   "source": [
    "df_prep[['calculated_device_p1-reader_e__W', 'calculated_device_p1-reader_e_use__W', 'calculated_device_p1-reader_e_ret__W']].groupby('id').describe().T"
   ]
  },
  {
   "cell_type": "code",
   "execution_count": null,
   "id": "4040c14e-0924-4e9b-870f-e508e0671bf8",
   "metadata": {},
   "outputs": [],
   "source": [
    "%%time\n",
    "# Calculate the fraction of time across al homes that net electricity usage is zero (which reaults into a relative 'cooling' effect: the sun is less effectively heating the home)\n",
    "(df_prep['calculated_device_p1-reader_e__W'] < 0).mean()"
   ]
  },
  {
   "cell_type": "code",
   "execution_count": null,
   "id": "9998d099-1bdb-483f-aea6-94fc82ac51f2",
   "metadata": {},
   "outputs": [],
   "source": [
    "%%time\n",
    "# Calculate the fraction of time per home that net electricity usage is zero (which reaults into a relative 'cooling' effect: the sun is less effectively heating the home)\n",
    "df_prep.groupby('id')['calculated_device_p1-reader_e__W'].apply(lambda x: (x < 0).mean())"
   ]
  },
  {
   "cell_type": "markdown",
   "id": "9a0d8967-cc17-47f7-92fe-6863c9f88a61",
   "metadata": {},
   "source": [
    "## Write heat distribution results"
   ]
  },
  {
   "cell_type": "markdown",
   "id": "24ced4f0-4565-4a32-a8dd-3a58204dd976",
   "metadata": {},
   "source": [
    "### Writing heat distribution preprocessing results results to parquet file"
   ]
  },
  {
   "cell_type": "code",
   "execution_count": null,
   "id": "9c3927c3-a174-4376-98d8-52fbcbb76fb8",
   "metadata": {},
   "outputs": [],
   "source": [
    "df_heat_dist = df_prep[['batch_import_KNMI_sol_ghi__W_m_2',\n",
    "                        'batch_import_KNMI_temp_outdoor__degC',\n",
    "                        'batch_import_KNMI_wind__m_s_1',\n",
    "                        'device_p1-reader_g_use_hhv__W',\n",
    "                        'batch_import_remeha_boiler_status_burning_ch__bool',\n",
    "                        'batch_import_remeha_boiler_status_burning_dhw__bool', \n",
    "                        'batch_import_remeha_gas_valve_closed__bool',\n",
    "                        'batch_import_remeha_gas_valve_open__bool',\n",
    "                        'batch_import_remeha_fan_rotations__min_1', \n",
    "                        'batch_import_remeha_flow_dstr_pump_speed__%', \n",
    "                        'batch_import_remeha_g_use_ch_lhv__W',\n",
    "                        'batch_import_remeha_g_use_dhw_lhv__W',\n",
    "                        'batch_import_remeha_temp_set__degC',\n",
    "                        'batch_import_remeha_temp_indoor__degC',\n",
    "                        'device_living_room_calibrated_temp_indoor__degC',\n",
    "                        'batch_import_remeha_temp_flow__degC',\n",
    "                        'batch_import_remeha_temp_ret__degC',\n",
    "                        'batch_import_remeha_temp_flow_ch__degC',\n",
    "                        'batch_import_remeha_temp_ret_ch__degC',\n",
    "                        'batch_import_remeha_temp_flow_ch_max__degC', \n",
    "                        'calculated_g_use_hhv__W',\n",
    "                        'calculated_g_use_boiler_hhv__W',\n",
    "                        'calculated_g_use_dhw_hhv__W',\n",
    "                        'calculated_g_use_ch_hhv__W',\n",
    "                        'eta_ch_hhv__W0',\n",
    "                        'calculated_heat_ch__W',\n",
    "                        'rounded_load__%',\n",
    "                        'rounded_temp_ret__degC',\n",
    "                       ]]"
   ]
  },
  {
   "cell_type": "code",
   "execution_count": null,
   "id": "3b31d206-5506-4c35-94f4-f5a8d5114872",
   "metadata": {},
   "outputs": [],
   "source": [
    "df_heat_dist.info()"
   ]
  },
  {
   "cell_type": "code",
   "execution_count": null,
   "id": "55ecdfe4-f2e7-43b8-a0bb-24e6899f9d7c",
   "metadata": {},
   "outputs": [],
   "source": [
    "# %%time \n",
    "# df_heat_dist.to_parquet(rhc_heat_dstr_preprocessed_poperties_file, index=True, engine='pyarrow')"
   ]
  },
  {
   "cell_type": "markdown",
   "id": "53c0199e-739e-41c6-baaa-f4f89bcaaff6",
   "metadata": {
    "jp-MarkdownHeadingCollapsed": true
   },
   "source": [
    "### Writing heat distribution preprocessing results to multiple zipped CSV files"
   ]
  },
  {
   "cell_type": "code",
   "execution_count": null,
   "id": "9026b78c-6225-49ad-b4c1-f74703aba354",
   "metadata": {},
   "outputs": [],
   "source": [
    "# %%time \n",
    "# # uncomment this entire block of code to enable it \n",
    "# # for home_id in tqdm(df_heat_dist.index.get_level_values('id').unique()[:3]):\n",
    "# # for home_id in tqdm(df_heat_dist.index.get_level_values('id').unique()[3:]):\n",
    "# # for home_id in [483173]:\n",
    "# for home_id in tqdm(df_heat_dist.index.get_level_values('id').unique()):\n",
    "#     df_heat_dist.xs(home_id, drop_level=False).to_csv(\n",
    "#         f'{home_id}_heat_dstr_preprocessed_properties.zip',\n",
    "#         encoding='utf-8',\n",
    "#         compression= dict(method='zip',\n",
    "#                           archive_name=f'{home_id}_heat_dstr_preprocessed_properties.csv'),\n",
    "#         date_format='%Y-%m-%dT%H:%M:%S%z'\n",
    "#     )\n"
   ]
  },
  {
   "cell_type": "markdown",
   "id": "996d4ede-47a5-4b0a-b0cc-213f66a90eb4",
   "metadata": {},
   "source": [
    "## Inspect  return temperatures"
   ]
  },
  {
   "cell_type": "code",
   "execution_count": null,
   "id": "aa218f9d-4ae8-43ab-b88d-6d15a89e614c",
   "metadata": {},
   "outputs": [],
   "source": [
    "units_to_mathtext = property_types = {\n",
    "    'degC' : r'$°C$',\n",
    "    'ppm' : r'$ppm$',\n",
    "    '0' : r'$[-]$',\n",
    "    'bool': r'$0 = False; 1 = True$',\n",
    "    'p' : r'$persons$',\n",
    "    'W' : r'$W$',\n",
    "    'W_m_2' : r'$W/m^{2}$',\n",
    "    'm_s_1' : r'$m/s$',\n",
    "    'W0' : r'$W^{0}$',\n",
    "    'l_min_1' : r'$L/min$',\n",
    "    'dm3_s_1' : r'$dm^{3}/s$',\n",
    "    '%': '%',\n",
    "}"
   ]
  },
  {
   "cell_type": "code",
   "execution_count": null,
   "id": "58460792-c0b4-440a-acd1-94386f3fe8b7",
   "metadata": {},
   "outputs": [],
   "source": [
    "# time mask for one week in winter with almost all ids having data\n",
    "returntemp_mask = (\n",
    "    (df_prep.index.get_level_values('id') == 483173)\n",
    "    & \n",
    "    (df_prep.index.get_level_values('timestamp') >= pd.to_datetime('2024-03-04 00:00:00+01:00'))\n",
    "    & \n",
    "    (df_prep.index.get_level_values('timestamp') < pd.to_datetime('2024-03-11 00:00:00+01:00'))\n",
    ")\n"
   ]
  },
  {
   "cell_type": "code",
   "execution_count": null,
   "id": "1ab26cbf-7a61-42be-bf51-9e14973433f9",
   "metadata": {},
   "outputs": [],
   "source": [
    "Plot.dataframe_preprocessed_plot(df_prep[returntemp_mask][['batch_import_remeha_flow_dstr_pump_speed__%',\n",
    "                                                           'batch_import_remeha_temp_flow__degC',\n",
    "                                                           'batch_import_remeha_temp_ret__degC',\n",
    "                                                           'batch_import_remeha_temp_flow_ch__degC',\n",
    "                                                           'batch_import_remeha_temp_ret_ch__degC',\n",
    "                                                           'batch_import_remeha_dhw_flow__l_min_1',\n",
    "                                                           'calculated_g_use_ch_hhv__W',\n",
    "                                                           'calculated_g_use_dhw_hhv__W']\n",
    "                                 ], units_to_mathtext)"
   ]
  },
  {
   "cell_type": "code",
   "execution_count": null,
   "id": "ebdb7159-794c-4b4b-91d2-76f260a2057b",
   "metadata": {},
   "outputs": [],
   "source": [
    "# time mask for one week in winter with almost all ids having data\n",
    "filtered_returntemp_plot_mask = (\n",
    "    (df_prep.index.get_level_values('id') == 483173)\n",
    "    & \n",
    "    (df_prep.index.get_level_values('timestamp') >= pd.to_datetime('2024-03-04 00:00:00+01:00'))\n",
    "    & \n",
    "    (df_prep.index.get_level_values('timestamp') < pd.to_datetime('2024-03-11 00:00:00+01:00'))\n",
    ")\n"
   ]
  },
  {
   "cell_type": "code",
   "execution_count": null,
   "id": "b65dddea-bc1c-4fa0-8828-8326c6866408",
   "metadata": {},
   "outputs": [],
   "source": [
    "returntemp_plot_columns = ['batch_import_remeha_flow_dstr_pump_speed__%',\n",
    "                           'batch_import_remeha_temp_flow__degC',\n",
    "                           'batch_import_remeha_temp_ret__degC',\n",
    "                           'batch_import_remeha_temp_flow_ch__degC',\n",
    "                           'batch_import_remeha_temp_ret_ch__degC',\n",
    "                           'batch_import_remeha_dhw_flow__l_min_1',\n",
    "                           'calculated_g_use_ch_hhv__W',\n",
    "                           'calculated_g_use_dhw_hhv__W']"
   ]
  },
  {
   "cell_type": "code",
   "execution_count": null,
   "id": "e2242a26-90a6-43bd-9567-d65e3b0f3389",
   "metadata": {},
   "outputs": [],
   "source": [
    "df_prep[filtered_returntemp_plot_mask][returntemp_plot_columns].describe().T"
   ]
  },
  {
   "cell_type": "code",
   "execution_count": null,
   "id": "6977694a-c084-45dd-839d-03c43d83ada6",
   "metadata": {},
   "outputs": [],
   "source": [
    "Plot.dataframe_preprocessed_plot(df_prep[filtered_returntemp_plot_mask][returntemp_plot_columns], units_to_mathtext)"
   ]
  },
  {
   "cell_type": "code",
   "execution_count": null,
   "id": "ef63c086-c9f1-4878-8492-a0a26bfeaa1e",
   "metadata": {},
   "outputs": [],
   "source": [
    "df_prep[filtered_returntemp_plot_mask][returntemp_plot_columns].describe().T"
   ]
  },
  {
   "cell_type": "code",
   "execution_count": null,
   "id": "ce0e331c-ad78-4682-beed-e50ab801e52a",
   "metadata": {},
   "outputs": [],
   "source": [
    "filtered_returntemp_plot_columns = ['batch_import_remeha_flow_dstr_pump_speed__%',\n",
    "                           'batch_import_remeha_temp_flow_ch__degC',\n",
    "                           'batch_import_remeha_temp_ret_ch__degC',\n",
    "                           'batch_import_remeha_dhw_flow__l_min_1',\n",
    "                           'calculated_g_use_ch_hhv__W',\n",
    "                           'calculated_g_use_dhw_hhv__W']"
   ]
  },
  {
   "cell_type": "code",
   "execution_count": null,
   "id": "66dc6f2a-4827-4280-a3ae-b332f317bc12",
   "metadata": {},
   "outputs": [],
   "source": [
    "Plot.dataframe_preprocessed_plot(df_prep[filtered_returntemp_plot_mask][filtered_returntemp_plot_columns], units_to_mathtext)"
   ]
  },
  {
   "cell_type": "markdown",
   "id": "e7e67911-5709-4fc7-80a4-651f4daea508",
   "metadata": {},
   "source": [
    "## Inspect relation between flow_dstr_pump_speed__% and calcualted_flow_ch__dm3_min_1"
   ]
  },
  {
   "cell_type": "code",
   "execution_count": null,
   "id": "e87e18ae-4709-473c-8e78-3cd600d423c9",
   "metadata": {},
   "outputs": [],
   "source": [
    "df_boilers = pd.read_excel(boilers_excel_file_path)[['brand_model',\n",
    "                                                     'hydronic_pump_brand',\n",
    "                                                     'hydronic_pump_model',\n",
    "                                                     'fan_min_ch_rotations_min_1',\n",
    "                                                     'fan_max_ch_rotations__min_1',\n",
    "                                                     'desired_temp_delta_flow_ret__K',\n",
    "                                                     'overheat_hysteresis__K',\n",
    "                                                    ]]\n",
    "\n",
    "df_homes_boilers = pd.read_excel(homes_boilers_excel_file_path).rename(columns={'pseudonym': 'id'})\n",
    "\n",
    "df_homes_boilers = pd.merge(df_homes_boilers, df_boilers, on='brand_model', how='left').set_index('id')"
   ]
  },
  {
   "cell_type": "code",
   "execution_count": null,
   "id": "2d43ffe6-dbad-479c-877b-c1f0f91b3ffb",
   "metadata": {},
   "outputs": [],
   "source": [
    "df_homes_boilers"
   ]
  },
  {
   "cell_type": "code",
   "execution_count": null,
   "id": "7149f89c-dff4-4cb7-91ca-5322a535ee37",
   "metadata": {},
   "outputs": [],
   "source": [
    "df_prep['batch_import_remeha_flow_dstr_pump_speed__%'].describe()"
   ]
  },
  {
   "cell_type": "code",
   "execution_count": null,
   "id": "c51412de-728d-4b26-9e15-bbe63bdac1a0",
   "metadata": {},
   "outputs": [],
   "source": [
    "df_prep[df_prep['batch_import_remeha_boiler_status_burning_dhw__bool']==True]['batch_import_remeha_flow_dstr_pump_speed__%'].describe()"
   ]
  },
  {
   "cell_type": "code",
   "execution_count": null,
   "id": "284578be-62d8-4321-9e95-0fd8904c35fd",
   "metadata": {},
   "outputs": [],
   "source": [
    "%matplotlib inline\n",
    "%matplotlib widget\n",
    "prop = 'batch_import_remeha_flow_dstr_pump_speed__%'\n",
    "df_prep[df_prep['batch_import_remeha_boiler_status_burning_dhw__bool']==True][prop].plot.hist(bins=200, alpha=0.5, title = prop)\n"
   ]
  },
  {
   "cell_type": "code",
   "execution_count": null,
   "id": "077aed04-60a4-4d53-b53e-6ad7f7c413d7",
   "metadata": {},
   "outputs": [],
   "source": [
    "%%time\n",
    "# Ensure that the necessary columns exist in both DataFrames\n",
    "columns_to_merge = ['brand_model', 'hydronic_pump_brand', 'hydronic_pump_model']\n",
    "\n",
    "if not all(col in df_boilers.columns for col in columns_to_merge):\n",
    "    print(\"Some required columns are missing in df_boilers!\")\n",
    "else:\n",
    "    # Step 1: Reset the index of df_prep to make brand_model a normal column\n",
    "    df_prep = df_prep.reset_index()  # Resets 'id' and 'timestamp'\n",
    "\n",
    "    # Step 2: Merge df_prep_reset with df_boilers on 'brand_model'\n",
    "    df_prep = pd.merge(\n",
    "        df_prep,              # The DataFrame we're merging into\n",
    "        df_boilers[columns_to_merge],  # Only keeping relevant columns from df_boilers\n",
    "        how='left',                 # Use 'left' join to keep all rows from df_prep\n",
    "        on='brand_model'            # The column to join on\n",
    "    )\n",
    "\n",
    "    # Convert specific object columns to categorical\n",
    "    df_prep['hydronic_pump_brand'] = df_prep['hydronic_pump_brand'].astype('category')\n",
    "    df_prep['hydronic_pump_model'] = df_prep['hydronic_pump_model'].astype('category')\n",
    "\n",
    "    # Step 3: Set the 'id' and 'timestamp' columns back to MultiIndex\n",
    "    df_prep = df_prep.set_index(['id', 'timestamp'])"
   ]
  },
  {
   "cell_type": "code",
   "execution_count": null,
   "id": "ed172b82-3a3b-4ba9-b974-88583e49255a",
   "metadata": {},
   "outputs": [],
   "source": [
    "required_columns = ['batch_import_remeha_flow_dstr_pump_speed__%', 'calculated_flow_dstr__dm3_min_1']\n",
    "# color_by = 'hydronic_pump_brand'\n",
    "color_by = 'hydronic_pump_model'\n",
    "\n",
    "if not all(col in df_prep.columns for col in required_columns):\n",
    "    print(\"Some required columns are missing!\")\n",
    "\n",
    "df_sample = df_prep.sample(n=1000000, random_state=42)\n",
    "\n",
    "plt.figure(figsize=(10, 6))\n",
    "\n",
    "# Create a unique color palette for each brand using matplotlib's colormap\n",
    "brands = df_sample[color_by].cat.categories\n",
    "num_brands = len(brands)\n",
    "\n",
    "# Use a colormap from matplotlib\n",
    "cmap = plt.get_cmap('tab10', num_brands)  # 'tab10' is good for discrete categories\n",
    "\n",
    "# Scatter plot with color based on 'hydronic_pump_brand'\n",
    "for idx, brand in enumerate(brands):\n",
    "    brand_data = df_sample[df_sample[color_by] == brand]\n",
    "    plt.scatter(brand_data['batch_import_remeha_flow_dstr_pump_speed__%'], \n",
    "                brand_data['calculated_flow_dstr__dm3_min_1'], \n",
    "                color=cmap(idx),  # Use the colormap to get the color for the current brand\n",
    "                alpha=0.5, s=1, label=brand)  # Label for legend\n",
    "    \n",
    "plt.title('Scatter plot of Water Pump Speed vs. Calculated Flow (all ids)')\n",
    "plt.xlabel('batch_import_remeha_flow_dstr_pump_speed__%')\n",
    "plt.ylabel('calculated_flow_dstr__dm3_min_1')\n",
    "plt.grid(True)\n",
    "\n",
    "# Add a legend\n",
    "plt.legend(title=color_by, loc='best', markerscale=5)\n",
    "\n",
    "plt.show()"
   ]
  },
  {
   "cell_type": "markdown",
   "id": "bffda6fb-9c44-481d-a187-66704d4544ac",
   "metadata": {
    "tags": []
   },
   "source": [
    "## Learn heat performance signature parameters\n",
    "Most of the heavy lifting is done by the `learn_heat_performance_signature()` function, which again uses the [GEKKO Python](https://machinelearning.byu.edu/) dynamic optimization toolkit."
   ]
  },
  {
   "cell_type": "code",
   "execution_count": null,
   "id": "1aad52f4-39c1-42d5-87c6-6b067b87bb26",
   "metadata": {
    "tags": []
   },
   "outputs": [],
   "source": [
    "# If room metadata is set to None, then learn_home_parameters() will derive the metadata from the ids.\n",
    "%autoreload 2\n",
    "\n",
    "hints = {\n",
    "    'heat_tr_bldng_cond__W_K_1':    heat_tr_bldng_nl_avg__W_K_1,         # specific heat loss of the building via conduction\n",
    "    'th_inert_bldng__h':            th_inert_bldng_nl_avg__h,            # thermal inertia\n",
    "    'aperture_sol__m2':             aperture_sol_nl_avg__m2,             # apparent solar aperture\n",
    "    'wind_chill__K_s_m_1':          wind_chill_nl_avg__K_s_m_1,          # wind chill factor\n",
    "    'aperture_inf__cm2':            aperture_inf_nl_avg__cm2,            # effective infiltration area \n",
    "    'occupancy__p':                 occupancy_nl_avg__p,                 # house occupancy\n",
    "    'heat_int__W_p_1':              heat_int_nl_avg__W_p_1,              # heat gain per occupant\n",
    "    'eta_ch_hhv__W0':               eta_ch_nl_avg_hhv__W0,               # home heating efficiency of a gas boiler (based on higher heating value)\n",
    "    'eta_dhw_hhv__W0':              eta_dhw_nl_avg_hhv__W0,              # domestic hot water efficiency\n",
    "    'frac_remain_dhw__0':           frac_remain_dhw_nl_avg__0,           # fraction of domestic hot water heat contributing to heating the home\n",
    "    'g_use_cooking_hhv__W':         g_use_cooking_nl_avg_hhv__W,         # gas power (higher heating value) for cooking \n",
    "    'eta_cooking_hhv__W0':          eta_cooking_nl_avg_hhv__W0,          # cooking efficiency\n",
    "    'frac_remain_cooking__0':       frac_remain_cooking_nl_avg__0,       # fraction of cooking heat contributing to heating the home\n",
    "    'heat_tr_dstr__W_K_1':          heat_tr_dstr_nl_avg__W_K_1,          # heat dissipation capacity of the heat distribution system\n",
    "    'th_mass_dstr__Wh_K_1':         th_mass_dstr_nl_avg__Wh_K_1,         # thermal mass of the heat distribution system\n",
    "    'ventilation_default__dm3_s_1': 7.0,                                 # default ventilation rate for the entire home\n",
    "    'ventilation_max__dm3_s_1_m_2': 1.0,                                 # maximum ventilation rate per m2 floor area\n",
    "    'co2_outdoor__ppm':             co2_outdoor_eu_avg_2022__ppm,        # average CO₂ outdoor concentration\n",
    "}\n",
    "\n",
    "learn = [\n",
    "    'heat_tr_bldng_cond__W_K_1',\n",
    "    'th_inert_bldng__h',\n",
    "    'th_mass_bldng__Wh_K_1',\n",
    "    'aperture_sol__m2',\n",
    "    'aperture_inf__cm2',\n",
    "    'ventilation__dm3_s_1',\n",
    "    # 'heat_tr_dstr__W_K_1', 'th_mass_dstr__J_K_1',\n",
    "]\n",
    "\n",
    "\n",
    "learned_parameters = [f'learned_{prop}' for prop in learn]\n",
    "\n",
    "# select which property columns in df_prep are used as properties needed by the learning algorithm\n",
    "property_sources = {\n",
    "    'temp_indoor__degC':     'batch_import_remeha_temp_indoor__degC',\n",
    "    'temp_set__degC':        'batch_import_remeha_temp_set__degC',\n",
    "    'comfortable__bool':     'calculated_comfortable__bool',\n",
    "    'temp_outdoor__degC':    'batch_import_KNMI_temp_outdoor__degC',\n",
    "    'wind__m_s_1':           'batch_import_KNMI_wind__m_s_1',\n",
    "    'sol_ghi__W_m_2':        'batch_import_KNMI_sol_ghi__W_m_2', \n",
    "    'g_use_ch_hhv__W':       'calculated_g_use_ch_hhv__W',\n",
    "    'eta_ch_hhv__W0':        'eta_ch_hhv__W0', \n",
    "    'g_use_dhw_hhv__W':      'calculated_g_use_dhw_hhv__W',\n",
    "    'e__W':                  'calculated_device_p1-reader_e__W',    \n",
    "    'occupancy__p':          'device_living_room_occupancy__p',\n",
    "    'co2_indoor__ppm':       'device_living_room_co2_indoor__ppm',\n",
    "    'temp_flow__degC':       'batch_import_remeha_temp_flow__degC',\n",
    "    'temp_ret__degC':        'batch_import_remeha_temp_ret__degC',\n",
    "    'temp_flow_ch__degC':    'batch_import_remeha_temp_flow_ch__degC',\n",
    "    'temp_ret_ch__degC':     'batch_import_remeha_temp_ret_ch__degC',\n",
    "    'temp_flow_ch_max__degC':'batch_import_remeha_temp_flow_ch_max__degC', \n",
    "}"
   ]
  },
  {
   "cell_type": "code",
   "execution_count": null,
   "id": "60998dd2-b869-4b9b-9619-ae7b3141b976",
   "metadata": {},
   "outputs": [],
   "source": [
    "props = list(property_sources.keys())\n",
    "cols = list(property_sources.values())"
   ]
  },
  {
   "cell_type": "code",
   "execution_count": null,
   "id": "e5c5beb2-e6f9-4d67-8ffa-3c41d40efff5",
   "metadata": {},
   "outputs": [],
   "source": [
    "req_props = props.copy()\n",
    "exclude_from_req_props = ['temp_flow_ch__degC', 'temp_ret_ch__degC', 'temp_flow_ch_max__degC']\n",
    "for prop in exclude_from_req_props:\n",
    "    if prop in req_props:\n",
    "        req_props.remove(prop)"
   ]
  },
  {
   "cell_type": "code",
   "execution_count": null,
   "id": "25af2d91-1d11-41d6-8c1a-e0905149b972",
   "metadata": {},
   "outputs": [],
   "source": [
    "if req_props is None:  # If req_col not set, use all property sources\n",
    "    req_col = list(property_sources.values())\n",
    "else:\n",
    "    req_col = [property_sources[prop] for prop in req_props if prop in property_sources]"
   ]
  },
  {
   "cell_type": "code",
   "execution_count": null,
   "id": "7254e65e-338f-42f6-a706-ee30e909f99c",
   "metadata": {},
   "outputs": [],
   "source": [
    "cols"
   ]
  },
  {
   "cell_type": "code",
   "execution_count": null,
   "id": "7630848d-704b-4fbf-bed7-5e75612a2026",
   "metadata": {},
   "outputs": [],
   "source": [
    "req_col"
   ]
  },
  {
   "cell_type": "markdown",
   "id": "defa7bec-6dec-49f7-85fe-7e0340d189ad",
   "metadata": {},
   "source": [
    "### Define (subsets of) learning periods and (subsets of) home ids to perform the learning on"
   ]
  },
  {
   "cell_type": "code",
   "execution_count": null,
   "id": "0686fb89-8da2-401b-9e74-393016a4511c",
   "metadata": {},
   "outputs": [],
   "source": [
    "# time mask for core of winter with most data\n",
    "janfebmrt24_mask = ((df_prep.index.get_level_values('timestamp') >= pd.to_datetime('2024-01-01 00:00:00+01:00')) \n",
    "                    & \n",
    "                    (df_prep.index.get_level_values('timestamp') < pd.to_datetime('2024-04-01 00:00:00+02:00'))\n",
    "                   )"
   ]
  },
  {
   "cell_type": "code",
   "execution_count": null,
   "id": "09d1900c-fd9c-450c-b9d6-1670dd91b054",
   "metadata": {},
   "outputs": [],
   "source": [
    "# time mask for one week in winter with almost all ids having data\n",
    "febwk3_mask = ((df_prep.index.get_level_values('timestamp') >= pd.to_datetime('2024-02-18 00:00:00+01:00'))\n",
    "               & \n",
    "               (df_prep.index.get_level_values('timestamp') < pd.to_datetime('2024-02-25 00:00:00+01:00'))\n",
    "              )\n"
   ]
  },
  {
   "cell_type": "code",
   "execution_count": null,
   "id": "e9de2ad4-daee-4981-b376-7f465d00e9fa",
   "metadata": {},
   "outputs": [],
   "source": [
    "# time mask for one week in winter with almost all ids having data\n",
    "feb_mask = ((df_prep.index.get_level_values('timestamp') >= pd.to_datetime('2024-02-01 00:00:00+01:00'))\n",
    "            & \n",
    "            (df_prep.index.get_level_values('timestamp') < pd.to_datetime('2024-02-29 00:00:00+01:00'))\n",
    "           )\n"
   ]
  },
  {
   "cell_type": "code",
   "execution_count": null,
   "id": "4435ca99-9f15-44a7-a0c2-7ce0c71b258c",
   "metadata": {},
   "outputs": [],
   "source": [
    "specific_id = 434931\n",
    "specific_ids = [434931, 450298, 495906]"
   ]
  },
  {
   "cell_type": "markdown",
   "id": "493aca4e-09ee-4ea9-90d3-cf7021de19fd",
   "metadata": {},
   "source": [
    "### Check presence of properties"
   ]
  },
  {
   "cell_type": "code",
   "execution_count": null,
   "id": "2b34fb80-184a-44a1-aaab-6bbea4195353",
   "metadata": {},
   "outputs": [],
   "source": [
    "Plot.plot_missing_data_overview(df_prep[janfebmrt24_mask], properties_include=req_col, freq='1W', title_fontsize=8)"
   ]
  },
  {
   "cell_type": "code",
   "execution_count": null,
   "id": "6e54cdd3-f75d-4780-88c6-2b1a3b0fb765",
   "metadata": {},
   "outputs": [],
   "source": [
    "df_prep[febwk3_mask][cols].xs(specific_id, level='id', drop_level=False).describe().T"
   ]
  },
  {
   "cell_type": "code",
   "execution_count": null,
   "id": "abcd8224-166b-431e-941e-b2fb209bc7ec",
   "metadata": {},
   "outputs": [],
   "source": [
    "df_prep[feb_mask][cols].xs(specific_id, level='id', drop_level=False).describe().T"
   ]
  },
  {
   "cell_type": "code",
   "execution_count": null,
   "id": "754f990a-3380-446f-885a-41fc6141f45a",
   "metadata": {},
   "outputs": [],
   "source": [
    "df_prep[janfebmrt24_mask][cols].xs(specific_id, level='id', drop_level=False).describe().T"
   ]
  },
  {
   "cell_type": "code",
   "execution_count": null,
   "id": "bf08b9eb-75e1-4998-8487-7cd36ac80c88",
   "metadata": {},
   "outputs": [],
   "source": [
    "Plot.dataframe_preprocessed_plot(df_prep[feb_mask][cols].xs(specific_id, level='id', drop_level=False), units_to_mathtext)"
   ]
  },
  {
   "cell_type": "markdown",
   "id": "e5eea51f-bf3b-4183-851b-2419b71cc84b",
   "metadata": {},
   "source": [
    "## Learn boiler control characteristics"
   ]
  },
  {
   "cell_type": "code",
   "execution_count": null,
   "id": "331b9a54-353e-4131-873c-4db21039c0b8",
   "metadata": {},
   "outputs": [],
   "source": [
    "df_home_bag_data = pd.read_excel(home_BAG_data_file_path,  index_col='id')\n",
    "\n",
    "df_home_bag_data = pd.merge(df_home_bag_data, df_homes_boilers[['fan_min_ch_rotations_min_1',\n",
    "                                                                'fan_max_ch_rotations__min_1',\n",
    "                                                                'desired_temp_delta_flow_ret__K',\n",
    "                                                                'overheat_hysteresis__K',\n",
    "                                                               ]], on='id', how='left')\n",
    "\n",
    "\n",
    "\n",
    "\n",
    " \n"
   ]
  },
  {
   "cell_type": "code",
   "execution_count": null,
   "id": "f30190ed-eeef-4b04-8289-b4ef96306085",
   "metadata": {},
   "outputs": [],
   "source": [
    "df_home_bag_data"
   ]
  },
  {
   "cell_type": "code",
   "execution_count": null,
   "id": "011f0d6f-d056-4205-acdc-b21c527a3927",
   "metadata": {},
   "outputs": [],
   "source": [
    "%autoreload 2\n",
    "req_props_boiler_control = ['temp_flow_ch__degC',\n",
    "                            'temp_ret_ch__degC',\n",
    "                            'fan_rotations__min_1',\n",
    "                            'flow_ch_pump_speed__%',\n",
    "                           ]\n",
    "\n",
    "if req_props_boiler_control is None:  # If req_props_dstr not set, use all property sources\n",
    "    req_col_boiler_control = list(property_sources.values())\n",
    "else:\n",
    "    req_col_boiler_control = [property_sources[prop] for prop in req_props_dstr if prop in property_sources]\n",
    "\n",
    "# Properties that are learned\n",
    "learned_props = ['learned_heat_tr_dstr__W_K_1', 'learned_th_mass_dstr__Wh_K_1']"
   ]
  },
  {
   "cell_type": "code",
   "execution_count": null,
   "id": "c6f7dc4b-67be-4732-806b-f2bd07bf507a",
   "metadata": {},
   "outputs": [],
   "source": [
    "# TO DO: Learn boiler control characteristics"
   ]
  },
  {
   "cell_type": "markdown",
   "id": "01291808-50bc-4965-8e25-7d8e7dccfb76",
   "metadata": {},
   "source": [
    "## Learn heat distribution characteristics"
   ]
  },
  {
   "cell_type": "code",
   "execution_count": null,
   "id": "a55cf02c-fe2c-4f17-b801-2a42fcbded05",
   "metadata": {},
   "outputs": [],
   "source": [
    "%autoreload 2\n",
    "req_props_dstr = ['temp_indoor__degC',\n",
    "                  'temp_flow_ch__degC',\n",
    "                  'temp_ret_ch__degC',\n",
    "                  'g_use_ch_hhv__W',\n",
    "                  'eta_ch_hhv__W0'\n",
    "                 ]\n",
    "\n",
    "if req_props_dstr is None:  # If req_props_dstr not set, use all property sources\n",
    "    req_col_dstr = list(property_sources.values())\n",
    "else:\n",
    "    req_col_dstr = [property_sources[prop] for prop in req_props_dstr if prop in property_sources]\n",
    "\n",
    "# Properties that are learned\n",
    "learned_props = ['learned_heat_tr_dstr__W_K_1', 'learned_th_mass_dstr__Wh_K_1']"
   ]
  },
  {
   "cell_type": "code",
   "execution_count": null,
   "id": "31990664-1d2e-4a84-b5b3-95eab3a85675",
   "metadata": {},
   "outputs": [],
   "source": [
    "req_col_dstr"
   ]
  },
  {
   "cell_type": "code",
   "execution_count": null,
   "id": "32783208-4b03-4511-bd97-014a24601db1",
   "metadata": {},
   "outputs": [],
   "source": [
    "# minimum_duration__min = 20\n",
    "minimum_duration__min = 5"
   ]
  },
  {
   "cell_type": "code",
   "execution_count": null,
   "id": "9219562d-2faa-4eb4-9a33-553b50c4163e",
   "metadata": {},
   "outputs": [],
   "source": [
    "%%time\n",
    "df_dstr_results_per_period = Learner.learn_heat_distribution_parameters(df_prep,\n",
    "                                                                        property_sources=property_sources,\n",
    "                                                                        hints=hints,\n",
    "                                                                        req_props=req_props_dstr,\n",
    "                                                                        duration_threshold_timedelta=timedelta(minutes=minimum_duration__min),\n",
    "                                                                        parallel=True)"
   ]
  },
  {
   "cell_type": "code",
   "execution_count": null,
   "id": "023abd89-091e-48e6-9341-b2ec21d56bad",
   "metadata": {},
   "outputs": [],
   "source": [
    "df_dstr_results_per_period"
   ]
  },
  {
   "cell_type": "code",
   "execution_count": null,
   "id": "5446746f-4235-41d4-9425-302209bb301d",
   "metadata": {},
   "outputs": [],
   "source": [
    "print(f\"We learned heating periods for {len(df_dstr_results_per_period.index.get_level_values('id').unique())} out of {len(df_prep.index.get_level_values('id').unique())} homes\")"
   ]
  },
  {
   "cell_type": "markdown",
   "id": "ac5fe430-9d18-4791-9b7c-da0f14874b71",
   "metadata": {},
   "source": [
    "### Merge info from survey about floor heating into the results table"
   ]
  },
  {
   "cell_type": "code",
   "execution_count": null,
   "id": "725cfa29-6aa4-4a3b-89e8-1decc1384142",
   "metadata": {},
   "outputs": [],
   "source": [
    "df_homes_boilers = pd.read_excel(homes_boilers_excel_file_path).rename(columns={'pseudonym': 'id'}).set_index('id')"
   ]
  },
  {
   "cell_type": "code",
   "execution_count": null,
   "id": "f8095b5d-1261-47f4-8838-0ca3001f5ec6",
   "metadata": {},
   "outputs": [],
   "source": [
    "df_homes_boilers"
   ]
  },
  {
   "cell_type": "code",
   "execution_count": null,
   "id": "284496ed-e2f5-4b41-b92d-1f646d3b75e3",
   "metadata": {},
   "outputs": [],
   "source": [
    "%%time\n",
    "# Merging info about floor heating from df_homes_boilers\n",
    "if 'floor_heating__bool' not in df_dstr_results_per_period.index.names:\n",
    "    df_dstr_results_per_period= df_dstr_results_per_period.merge(df_homes_boilers[['floor_heating__bool']],\n",
    "                                                                 how='left',\n",
    "                                                                 left_on='id',\n",
    "                                                                 right_index=True\n",
    "                                                                 ).set_index('floor_heating__bool', append=True)"
   ]
  },
  {
   "cell_type": "code",
   "execution_count": null,
   "id": "5e2d0a22-facc-4194-b498-803935ceba6e",
   "metadata": {},
   "outputs": [],
   "source": [
    "df_dstr_results_per_period"
   ]
  },
  {
   "cell_type": "markdown",
   "id": "e3dd9bae-7b02-4aea-866e-13f946a9661b",
   "metadata": {},
   "source": [
    "### Write learned heat distribution data per period to file "
   ]
  },
  {
   "cell_type": "code",
   "execution_count": null,
   "id": "4d8aea1b-042b-40e3-8a0a-c5556439754f",
   "metadata": {},
   "outputs": [],
   "source": [
    "%%time \n",
    "df_dstr_results_per_period.to_parquet(rhc_dstr_analysis_results_per_period_file, index=True, engine='pyarrow')"
   ]
  },
  {
   "cell_type": "code",
   "execution_count": null,
   "id": "3eb40c31-2a15-490c-80f7-b84be878575e",
   "metadata": {},
   "outputs": [],
   "source": [
    "%%time \n",
    "# Convert all datetime columns to timezone-naive\n",
    "df_dstr_results_per_period_no_tz = df_dstr_results_per_period.reset_index(drop=False).apply(lambda x: x.dt.tz_localize(None) if x.dtype.kind == 'M' else x)\n",
    "\n",
    "# Export to Excel\n",
    "df_dstr_results_per_period_no_tz.to_excel(rhc_dstr_analysis_results_per_period_excel_file, index=False)\n"
   ]
  },
  {
   "cell_type": "code",
   "execution_count": null,
   "id": "385766e2-6241-4f09-99b8-6f225bc4e7ff",
   "metadata": {},
   "outputs": [],
   "source": [
    "df_dstr_results_per_period.info()"
   ]
  },
  {
   "cell_type": "markdown",
   "id": "4f8e1c04-657b-474f-a2d6-ccc4fc329037",
   "metadata": {},
   "source": [
    "### Read periodically learned heat distribution system parameters (optional)"
   ]
  },
  {
   "cell_type": "code",
   "execution_count": null,
   "id": "bb677523-635c-4254-8773-b113c386a69c",
   "metadata": {},
   "outputs": [],
   "source": [
    "%%time\n",
    "\n",
    "# Attempt to read the Parquet file\n",
    "try:\n",
    "    df_dstr_results_per_period = pd.read_parquet(\n",
    "        rhc_dstr_analysis_results_per_period_file, \n",
    "        engine='pyarrow',\n",
    "        dtype_backend='numpy_nullable'\n",
    "        )\n",
    "    print(\"File was successfully read without specifying compression codec.\")\n",
    "except Exception as e:\n",
    "    print(f\"Error reading file: {e}\")"
   ]
  },
  {
   "cell_type": "code",
   "execution_count": null,
   "id": "fb55700d-a90a-4cba-b5e3-a66f23e64749",
   "metadata": {},
   "outputs": [],
   "source": [
    "df_dstr_results_per_period.head()"
   ]
  },
  {
   "cell_type": "markdown",
   "id": "a77a2f88-5e82-443b-a9ed-937830e2a323",
   "metadata": {},
   "source": [
    "### Visualize distribution of learn duration for distribution system parameters"
   ]
  },
  {
   "cell_type": "code",
   "execution_count": null,
   "id": "3aafb949-0ae3-4b68-85a2-8832be3c14d8",
   "metadata": {},
   "outputs": [],
   "source": [
    "# Check if 'duration__min' is already an index level\n",
    "if 'duration__min' not in df_dstr_results_per_period.index.names:\n",
    "    # Calculate the duration in minutes directly on the DataFrame\n",
    "    df_dstr_results_per_period['duration__min'] = (\n",
    "        (df_dstr_results_per_period.index.get_level_values('end') - \n",
    "         df_dstr_results_per_period.index.get_level_values('start')).total_seconds() / 60\n",
    "    )\n",
    "    \n",
    "    # Add the new column to the index\n",
    "    df_dstr_results_per_period = df_dstr_results_per_period.set_index('duration__min', append=True)\n"
   ]
  },
  {
   "cell_type": "code",
   "execution_count": null,
   "id": "75f30519-64be-4c38-aa5e-b6897f1b5d08",
   "metadata": {},
   "outputs": [],
   "source": [
    "df_dstr_results_per_period.head()"
   ]
  },
  {
   "cell_type": "code",
   "execution_count": null,
   "id": "b10b28f2-7430-42b0-afc7-340652737548",
   "metadata": {},
   "outputs": [],
   "source": [
    "new_threshold__min = 5"
   ]
  },
  {
   "cell_type": "code",
   "execution_count": null,
   "id": "caa9bfdd-9c21-4ac1-bde4-a62cd2e60332",
   "metadata": {},
   "outputs": [],
   "source": [
    "df_plot = df_dstr_results_per_period[df_dstr_results_per_period.index.get_level_values('duration__min') >= new_threshold__min]"
   ]
  },
  {
   "cell_type": "code",
   "execution_count": null,
   "id": "3c0cc67a-6958-4799-8811-353943403367",
   "metadata": {},
   "outputs": [],
   "source": [
    "bins = np.arange(df_plot.index.get_level_values('duration__min').min(), df_plot.index.get_level_values('duration__min').max() + 5, 5)  # 5-minute bins\n",
    "plt.figure()\n",
    "plt.hist(df_plot.index.get_level_values('duration__min'), bins=bins, edgecolor='black')\n",
    "plt.title(f\"Histogram of Durations for all IDs\")\n",
    "plt.xlabel('Duration (minutes)')\n",
    "plt.ylabel('Frequency')\n",
    "plt.show()"
   ]
  },
  {
   "cell_type": "code",
   "execution_count": null,
   "id": "76effa05-5e1b-4e17-b710-551e7b9da094",
   "metadata": {},
   "outputs": [],
   "source": [
    "for id in df_plot.index.get_level_values('id').unique(): \n",
    "    df_id_plot = df_plot[df_plot.index.get_level_values('id')==id]\n",
    "    bins = np.arange(df_plot.index.get_level_values('duration__min').min(), df_id_plot.index.get_level_values('duration__min').max() + 5, 5)  # 5-minute bins\n",
    "    plt.figure()\n",
    "    plt.hist(df_plot.index.get_level_values('duration__min'), bins=bins, edgecolor='black')\n",
    "    plt.title(f\"Histogram of Durations for ID: {id}\")\n",
    "    plt.xlabel('Duration (minutes)')\n",
    "    plt.ylabel('Frequency')\n",
    "    plt.show()\n"
   ]
  },
  {
   "cell_type": "markdown",
   "id": "da8bd21c-bc86-4b53-a988-b58b238736b4",
   "metadata": {},
   "source": [
    "### Visualize central and spread metrics for learned heat distribution parameters"
   ]
  },
  {
   "cell_type": "code",
   "execution_count": null,
   "id": "4f85457a-0e75-47b1-b08b-726b88edfc20",
   "metadata": {},
   "outputs": [],
   "source": [
    "df_dstr_results_per_period['learned_th_inertia_dstr__h'] = df_dstr_results_per_period['learned_th_mass_dstr__Wh_K_1']/df_dstr_results_per_period['learned_heat_tr_dstr__W_K_1']"
   ]
  },
  {
   "cell_type": "code",
   "execution_count": null,
   "id": "5e12ab25-ac5c-4129-b8de-407b37e8f3f7",
   "metadata": {},
   "outputs": [],
   "source": [
    "df_dstr_results_per_period.groupby(['floor_heating__bool']).agg(['median', 'mean', 'std']).T"
   ]
  },
  {
   "cell_type": "code",
   "execution_count": null,
   "id": "a1594fd4-4d02-4c82-b9a5-b417b9dd4cc7",
   "metadata": {},
   "outputs": [],
   "source": [
    "hints['heat_tr_dstr__W_K_1']"
   ]
  },
  {
   "cell_type": "code",
   "execution_count": null,
   "id": "0e5b362c-5886-45e5-96fb-e98fa10d3dc1",
   "metadata": {},
   "outputs": [],
   "source": [
    "hints['th_mass_dstr__Wh_K_1']"
   ]
  },
  {
   "cell_type": "code",
   "execution_count": null,
   "id": "eabf7171-8f5e-4d17-886d-e213a52d3fac",
   "metadata": {},
   "outputs": [],
   "source": [
    "hints['th_mass_dstr__Wh_K_1'] / hints['heat_tr_dstr__W_K_1']"
   ]
  },
  {
   "cell_type": "code",
   "execution_count": null,
   "id": "0a8e3671-616a-4b20-a8c0-0e979cc344a2",
   "metadata": {},
   "outputs": [],
   "source": [
    "df_dstr_results_per_period.groupby(['floor_heating__bool']).median()"
   ]
  },
  {
   "cell_type": "code",
   "execution_count": null,
   "id": "fd9b156e-627d-4766-ab8f-d434bebfc10c",
   "metadata": {},
   "outputs": [],
   "source": [
    "df_dstr_results_per_period.groupby(['floor_heating__bool', 'id']).median()"
   ]
  },
  {
   "cell_type": "code",
   "execution_count": null,
   "id": "765124bc-319f-47de-a4ba-125b1ee6dc1e",
   "metadata": {},
   "outputs": [],
   "source": [
    "df_dstr_results_per_period.groupby(['floor_heating__bool', 'id']).mean()"
   ]
  },
  {
   "cell_type": "code",
   "execution_count": null,
   "id": "d36d9ebd-add2-4dd9-96d6-e52fb369b264",
   "metadata": {},
   "outputs": [],
   "source": [
    "for learned_prop in learned_props:\n",
    "    Plot.nfh_property_per_id_boxplot(df_dstr_results_per_period[df_dstr_results_per_period.index.get_level_values('duration__min') >= 5], property_col=learned_prop)"
   ]
  },
  {
   "cell_type": "code",
   "execution_count": null,
   "id": "531f2e69-dc5c-4746-a614-e4a765cf0e0c",
   "metadata": {},
   "outputs": [],
   "source": [
    "%autoreload 2\n",
    "for learned_prop in learned_props:\n",
    "    Plot.nfh_property_grouped_boxplot(df_dstr_results_per_period[df_dstr_results_per_period.index.get_level_values('duration__min') >= 5],\n",
    "                                      property_col=learned_prop,\n",
    "                                      groupby_level='floor_heating__bool'\n",
    "                                     )"
   ]
  },
  {
   "cell_type": "code",
   "execution_count": null,
   "id": "f7a20867-6633-4d24-b543-4b9127ee08e5",
   "metadata": {},
   "outputs": [],
   "source": [
    "Plot.nfh_property_grouped_boxplot(df_dstr_results_per_period[df_dstr_results_per_period.index.get_level_values('duration__min') >= 5],\n",
    "                                  property_col='learned_th_inertia_dstr__h',\n",
    "                                  groupby_level='floor_heating__bool'\n",
    "                                 )"
   ]
  },
  {
   "cell_type": "markdown",
   "id": "7596d97b-0f0e-40b3-9a8b-1547307a90c6",
   "metadata": {},
   "source": [
    "### Inspect influence of duration__min minimum"
   ]
  },
  {
   "cell_type": "code",
   "execution_count": null,
   "id": "c96e93a8-c538-41ce-9442-2da25da95aeb",
   "metadata": {},
   "outputs": [],
   "source": [
    "%%time\n",
    "# Initialize a dictionary to store results\n",
    "results = {'duration__min': []}\n",
    "\n",
    "# Dynamically add keys for each property\n",
    "for prop in learned_props:\n",
    "    results[f'median_{prop}'] = []\n",
    "    results[f'weighted_mean_{prop}'] = []\n",
    "    results[f'weighted_std_{prop}'] = []\n",
    "\n",
    "\n",
    "# Loop over duration thresholds\n",
    "for threshold in range(minimum_duration__min, 241, 5):  # From 15 to 240, steps of 5\n",
    "    # Filter DataFrame based on duration__min\n",
    "    filtered_df = df_dstr_results_per_period[\n",
    "        df_dstr_results_per_period.index.get_level_values('duration__min') >= threshold\n",
    "    ]\n",
    "    \n",
    "    if not filtered_df.empty:\n",
    "        # Extract weights (duration__min)\n",
    "        weights = filtered_df.index.get_level_values('duration__min')\n",
    "\n",
    "        # Loop through the properties\n",
    "        for prop in learned_props:\n",
    "            values = filtered_df[prop]\n",
    "            # Calculate median\n",
    "            median = np.median(values)\n",
    "            # Calculate weighted mean\n",
    "            weighted_mean = np.average(values, weights=weights)\n",
    "            # Calculate weighted standard deviation\n",
    "            weighted_std = np.sqrt(np.average((values - weighted_mean) ** 2, weights=weights))\n",
    "            # Store results\n",
    "            results[f'median_{prop}'].append(median)\n",
    "            results[f'weighted_mean_{prop}'].append(weighted_mean)\n",
    "            results[f'weighted_std_{prop}'].append(weighted_std)\n",
    "\n",
    "        # Store the threshold\n",
    "        results['duration__min'].append(threshold)\n",
    "\n",
    "# Convert results dictionary to a DataFrame for plotting\n",
    "results_df = pd.DataFrame(results)"
   ]
  },
  {
   "cell_type": "markdown",
   "id": "94bce220-8737-40a5-a381-d212507c8ef0",
   "metadata": {},
   "source": [
    "#### Inspect influence of duration__min minimum on weighted mean and weighted standard deviation"
   ]
  },
  {
   "cell_type": "code",
   "execution_count": null,
   "id": "408db100-2c72-4518-b70c-8ea0205e5b25",
   "metadata": {},
   "outputs": [],
   "source": [
    "# Plot the results\n",
    "\n",
    "# Clear the current figure if it exists\n",
    "plt.clf()\n",
    "\n",
    "plt.figure(figsize=(10, 6))\n",
    "for prop in learned_props:\n",
    "    for metric in ['median', 'weighted_mean', 'weighted_std']:\n",
    "        plt.plot(\n",
    "            results_df['duration__min'], \n",
    "            results_df[f\"{metric}_{prop}\"],\n",
    "            '.--',\n",
    "            label=f\"{metric}__{prop}\",\n",
    "        )\n",
    "\n",
    "# Customize plot\n",
    "plt.xlabel('Minimum Duration (minutes)')\n",
    "plt.ylabel('Wighted Mean /  Standard Deviation')\n",
    "plt.title('Impact of Minimum Duration on Learned Parameters')\n",
    "plt.legend()\n",
    "plt.grid(True, linestyle='--', alpha=0.7)\n",
    "plt.tight_layout()\n",
    "\n",
    "# Show plot\n",
    "plt.show()"
   ]
  },
  {
   "cell_type": "code",
   "execution_count": null,
   "id": "acb52a67-3d2b-4c26-af87-22d075da2c25",
   "metadata": {},
   "outputs": [],
   "source": [
    "for learned_parameter in learned_props:\n",
    "    # Prepare a colormap for distinct IDs\n",
    "    unique_ids = df_dstr_results_per_period.index.get_level_values('id').unique()\n",
    "    colors = plt.cm.tab20(np.linspace(0, 1, len(unique_ids)))\n",
    "    \n",
    "    # Start a new figure\n",
    "    # Clear the current figure if it exists\n",
    "    plt.figure(figsize=(12, 8))\n",
    "    \n",
    "    # Iterate over unique IDs to create separate lines per ID\n",
    "    for idx, (id_value, color) in enumerate(zip(unique_ids, colors)):\n",
    "        # Filter the DataFrame for the current ID\n",
    "        df_id = df_dstr_results_per_period.loc[df_dstr_results_per_period.index.get_level_values('id') == id_value]\n",
    "    \n",
    "        # Initialize lists for thresholds, weighted means, and weighted stds\n",
    "        thresholds = []\n",
    "        weighted_means = []\n",
    "        weighted_stds = []\n",
    "    \n",
    "        # Loop over duration thresholds\n",
    "        for threshold in range(minimum_duration__min, 241, 1):  # From 15 to 240, steps of 1\n",
    "            # Filter DataFrame based on duration__min\n",
    "            filtered_df = df_id[df_id.index.get_level_values('duration__min') >= threshold]\n",
    "    \n",
    "            if not filtered_df.empty:\n",
    "                # Extract weights (duration__min)\n",
    "                weights = filtered_df.index.get_level_values('duration__min')\n",
    "    \n",
    "                # Compute weighted mean and std for the chosen learned parameter\n",
    "                values = filtered_df[learned_parameter]\n",
    "                \n",
    "                weighted_mean = np.average(values, weights=weights)\n",
    "                weighted_std = np.sqrt(np.average((values - weighted_mean)**2, weights=weights))\n",
    "    \n",
    "                # Append the results\n",
    "                thresholds.append(threshold)\n",
    "                weighted_means.append(weighted_mean)\n",
    "                weighted_stds.append(weighted_std)\n",
    "    \n",
    "        # Plot the weighted mean for the current ID\n",
    "        plt.plot(thresholds, weighted_means, '.--', color=color, label=f'ID: {id_value}')\n",
    "    \n",
    "        # Add the shaded region for the weighted standard deviation\n",
    "        plt.fill_between(\n",
    "            thresholds,\n",
    "            np.array(weighted_means) - np.array(weighted_stds),\n",
    "            np.array(weighted_means) + np.array(weighted_stds),\n",
    "            color=color,\n",
    "            alpha=0.2,\n",
    "        )\n",
    "    \n",
    "    # Customize the plot\n",
    "    plt.xlabel('Minimum Duration (minutes)')\n",
    "    plt.ylabel(f'Learned {learned_parameter}')\n",
    "    plt.title('Impact of Minimum Duration on Weighted Mean and StDev per ID')\n",
    "    plt.legend(bbox_to_anchor=(1.05, 1), loc='upper left', title='ID')\n",
    "    plt.grid(True, linestyle='--', alpha=0.7)\n",
    "    plt.tight_layout()\n",
    "    \n",
    "    # Show the plot\n",
    "    plt.show()\n"
   ]
  },
  {
   "cell_type": "markdown",
   "id": "a7ec490a-3ba0-4479-8a26-0ffb9c4177c8",
   "metadata": {},
   "source": [
    "#### Inspect influence of duration__min minimum on median and interquartile range"
   ]
  },
  {
   "cell_type": "code",
   "execution_count": null,
   "id": "c26445cb-ef16-46f8-8f04-59bb92efc658",
   "metadata": {},
   "outputs": [],
   "source": [
    "for learned_parameter in learned_props:\n",
    "    # Prepare a colormap for distinct IDs\n",
    "    unique_ids = df_dstr_results_per_period.index.get_level_values('id').unique()\n",
    "    colors = plt.cm.tab20(np.linspace(0, 1, len(unique_ids)))\n",
    "    \n",
    "    # Start a new figure\n",
    "    # Clear the current figure if it exists\n",
    "    plt.figure(figsize=(12, 8))\n",
    "    \n",
    "    # Iterate over unique IDs to create separate lines per ID\n",
    "    for idx, (id_value, color) in enumerate(zip(unique_ids, colors)):\n",
    "        # Filter the DataFrame for the current ID\n",
    "        df_id = df_dstr_results_per_period.loc[df_dstr_results_per_period.index.get_level_values('id') == id_value]\n",
    "    \n",
    "        # Initialize lists for thresholds, weighted means, and weighted stds\n",
    "        thresholds = []\n",
    "        medians = []\n",
    "        Q1_values = []\n",
    "        Q3_values = []\n",
    "    \n",
    "        # Loop over duration thresholds\n",
    "        for threshold in range(minimum_duration__min, 241, 1):  # From 15 to 240, steps of 1\n",
    "            # Filter DataFrame based on duration__min\n",
    "            filtered_df = df_id[df_id.index.get_level_values('duration__min') >= threshold]\n",
    "    \n",
    "            if not filtered_df.empty:\n",
    "                # Compute weighted mean and std for the chosen learned parameter\n",
    "                values = filtered_df[learned_parameter]\n",
    "                \n",
    "                median = np.median(values)\n",
    "                Q1 = np.quantile(values, 0.25)\n",
    "                Q3 = np.quantile(values, 0.75)\n",
    "    \n",
    "                # Append the results\n",
    "                thresholds.append(threshold)\n",
    "                medians.append(median)\n",
    "                Q1_values.append(Q1)\n",
    "                Q3_values.append(Q3)\n",
    "    \n",
    "        # Plot the median for the current ID\n",
    "        plt.plot(thresholds, medians, '.--', color=color, label=f'ID: {id_value}')\n",
    "        \n",
    "        # Add the shaded region for the weighted standard deviation\n",
    "        plt.fill_between(\n",
    "            thresholds,\n",
    "            np.array(Q1_values),\n",
    "            np.array(Q3_values),\n",
    "            color=color,\n",
    "            alpha=0.2,\n",
    "        )\n",
    "    \n",
    "    # Customize the plot\n",
    "    plt.xlabel('Minimum Duration (minutes)')\n",
    "    plt.ylabel(f'Learned {learned_parameter}')\n",
    "    plt.title('Impact of Minimum Duration on Median and Interquartile Range per ID')\n",
    "    plt.legend(bbox_to_anchor=(1.05, 1), loc='upper left', title='ID')\n",
    "    plt.grid(True, linestyle='--', alpha=0.7)\n",
    "    plt.tight_layout()\n",
    "    \n",
    "    # Show the plot\n",
    "    plt.show()\n"
   ]
  },
  {
   "cell_type": "markdown",
   "id": "f2125b60-1cc0-442f-aad8-868ba4bc1b62",
   "metadata": {},
   "source": [
    "### Determine learned heat distribution parameters and write to (Parquet) file"
   ]
  },
  {
   "cell_type": "code",
   "execution_count": null,
   "id": "630c1651-2aba-4de6-bab3-63b5039b384d",
   "metadata": {},
   "outputs": [],
   "source": [
    "# Determine learned heat distribution parameters \n",
    "threshold_duration__min = 20\n",
    "\n",
    "df_dstr_learned = df_dstr_results_per_period[df_dstr_results_per_period.index.get_level_values('duration__min') >= threshold_duration__min].groupby('id').median()"
   ]
  },
  {
   "cell_type": "code",
   "execution_count": null,
   "id": "e60e6645-2dc5-4def-812d-d436b3830004",
   "metadata": {},
   "outputs": [],
   "source": [
    "# merge learned data into building metadata\n",
    "# Calculate the duration in minutes directly on the DataFrame\n",
    "df_bldng_data = df_home_bag_data.merge(df_dstr_learned,\n",
    "                                    how='left',\n",
    "                                    left_on='id',\n",
    "                                    right_index=True\n",
    "                                   )\n",
    "display(df_bldng_data)"
   ]
  },
  {
   "cell_type": "code",
   "execution_count": null,
   "id": "396654b6-0a5e-48eb-a102-587043812d7d",
   "metadata": {},
   "outputs": [],
   "source": [
    "df_bldng_data.to_parquet(home_metadata_file_path, index=True, engine='pyarrow')"
   ]
  },
  {
   "cell_type": "markdown",
   "id": "fac8ce42-1881-4246-b6b8-6b8c886874f3",
   "metadata": {},
   "source": [
    "## Use GEKKO model to learn the heat performance signature parameters"
   ]
  },
  {
   "cell_type": "code",
   "execution_count": null,
   "id": "d4db29ae-cb67-44b7-9f57-d99e6334e65c",
   "metadata": {},
   "outputs": [],
   "source": [
    "hints"
   ]
  },
  {
   "cell_type": "code",
   "execution_count": null,
   "id": "46760423-0573-40be-b2bc-50ffdd7f173b",
   "metadata": {},
   "outputs": [],
   "source": [
    "th_inert_dstr_nl_avg__h = hints['th_mass_dstr__Wh_K_1']  / hints['heat_tr_dstr__W_K_1']\n",
    "print(th_inert_dstr_nl_avg__h)"
   ]
  },
  {
   "cell_type": "code",
   "execution_count": null,
   "id": "0103d1e3-f760-48bb-9df2-4ecb4704c989",
   "metadata": {},
   "outputs": [],
   "source": [
    "props"
   ]
  },
  {
   "cell_type": "code",
   "execution_count": null,
   "id": "51038ad2-68d1-4b5f-b0fd-6735fe5550ef",
   "metadata": {},
   "outputs": [],
   "source": [
    "cols"
   ]
  },
  {
   "cell_type": "code",
   "execution_count": null,
   "id": "f0c58ab9-7dcf-4aa0-bb93-66ae7fd5b33e",
   "metadata": {},
   "outputs": [],
   "source": [
    "req_props"
   ]
  },
  {
   "cell_type": "code",
   "execution_count": null,
   "id": "85af67bf-c116-437d-879d-c5991f9147ac",
   "metadata": {},
   "outputs": [],
   "source": [
    "req_col"
   ]
  },
  {
   "cell_type": "code",
   "execution_count": null,
   "id": "54897379-52dd-4393-a6c5-4528febc4189",
   "metadata": {},
   "outputs": [],
   "source": [
    "learn"
   ]
  },
  {
   "cell_type": "code",
   "execution_count": null,
   "id": "4d9107a3-76fe-4056-b8fb-ea9a2a833668",
   "metadata": {},
   "outputs": [],
   "source": [
    "df_prep.info()"
   ]
  },
  {
   "cell_type": "code",
   "execution_count": null,
   "id": "3a43ee90-9b75-490a-997b-a8b3e6e6e41b",
   "metadata": {},
   "outputs": [],
   "source": [
    "specific_ids"
   ]
  },
  {
   "cell_type": "code",
   "execution_count": null,
   "id": "c37b8c90-217f-4785-9e68-6cec5c53005f",
   "metadata": {},
   "outputs": [],
   "source": [
    "specific_id"
   ]
  },
  {
   "cell_type": "code",
   "execution_count": null,
   "id": "518aef3a-dd22-43cb-afc2-97c50dea864b",
   "metadata": {
    "tags": []
   },
   "outputs": [],
   "source": [
    "# learn the model parameters and write results to a dataframe\n",
    "idx = pd.IndexSlice\n",
    "# df_prep_analyze = df_prep[febwk3_mask][cols].loc[idx[[specific_id]], :]\n",
    "# df_prep_analyze = df_prep[febwk3_mask][cols].loc[idx[specific_ids], :]\n",
    "# df_prep_analyze = df_prep[feb_mask][cols].loc[idx[specific_ids], :]                                                                \n",
    "df_prep_analyze = df_prep[janfebmrt24_mask][cols]                                                                             "
   ]
  },
  {
   "cell_type": "code",
   "execution_count": null,
   "id": "87a3534d-7367-4b47-8262-50cc334bf846",
   "metadata": {},
   "outputs": [],
   "source": [
    "#define the length of the learning period\n",
    "learn_period__d=7\n",
    "# learn_period__d=3\n"
   ]
  },
  {
   "cell_type": "code",
   "execution_count": null,
   "id": "136ed8c7-d834-4e6a-9945-7ff0f7b5c375",
   "metadata": {
    "tags": []
   },
   "outputs": [],
   "source": [
    "%%time\n",
    "%autoreload 2\n",
    "# Start the actual learning\n",
    "df_results_per_period, df_results = Learner.learn_heat_performance_signature(\n",
    "    df_prep_analyze,  # This is the selected DataFrame based on the uncommented line\n",
    "    property_sources=property_sources,\n",
    "    df_bldng_data=df_bldng_data,\n",
    "    learn=learn, \n",
    "    hints=hints,\n",
    "    learn_period__d=learn_period__d,\n",
    "    learn_change_interval__min=30,\n",
    "    req_props=req_props,\n",
    "    # complete_most_recent_analysis=True,  # Uncomment if needed\n",
    "    parallel = True # Comment out or set to false if you do not want parallel execution of learning\n",
    ")"
   ]
  },
  {
   "cell_type": "code",
   "execution_count": null,
   "id": "0214a539-528b-4cbe-b5df-b4f64798f3f7",
   "metadata": {},
   "outputs": [],
   "source": [
    "df_results_per_period.sort_index()"
   ]
  },
  {
   "cell_type": "code",
   "execution_count": null,
   "id": "bbf2d420-a794-4df1-b853-9de69ba1f653",
   "metadata": {},
   "outputs": [],
   "source": [
    "df_results_per_period.describe().T"
   ]
  },
  {
   "cell_type": "code",
   "execution_count": null,
   "id": "dabc9884-c6af-4d40-a17b-9165e2ce8f3c",
   "metadata": {},
   "outputs": [],
   "source": [
    "df_results_per_period[['learned_avg_energy_ch__W', 'learned_avg_heat_sol__W','learned_avg_heat_int__W']].mean().T"
   ]
  },
  {
   "cell_type": "code",
   "execution_count": null,
   "id": "e5775bad-9275-4c55-81e1-087907a415be",
   "metadata": {},
   "outputs": [],
   "source": [
    "%%time \n",
    "# Convert all datetime columns to timezone-naive\n",
    "df_results_per_period_no_tz = df_results_per_period.reset_index(drop=False).apply(lambda x: x.dt.tz_localize(None) if x.dtype.kind == 'M' else x)\n",
    "\n",
    "# Export to Excel\n",
    "df_results_per_period_no_tz.to_excel(rhc_analysis_results_per_period_file, index=False)\n"
   ]
  },
  {
   "cell_type": "code",
   "execution_count": null,
   "id": "a6b66328-8745-443b-a537-91396da0d3b5",
   "metadata": {},
   "outputs": [],
   "source": [
    "%%time \n",
    "#TODO: check whether this is still needed; results are available in subdirs?\n",
    "df_results.to_parquet(rhc_analysis_results_file, index=True, engine='pyarrow')"
   ]
  },
  {
   "cell_type": "code",
   "execution_count": null,
   "id": "ad1a5196-7d77-46b7-b3c2-b61a2b9991c4",
   "metadata": {},
   "outputs": [],
   "source": [
    "df_results_per_period_no_tz"
   ]
  },
  {
   "cell_type": "markdown",
   "id": "8d936432-1375-4ee4-8507-185b0c5f03fe",
   "metadata": {},
   "source": [
    "### Visualize learned heat performance signature parameters"
   ]
  },
  {
   "cell_type": "markdown",
   "id": "67e0c68c-138b-487e-8b9e-e3eee61268f6",
   "metadata": {},
   "source": [
    "#### (optional) Read results"
   ]
  },
  {
   "cell_type": "code",
   "execution_count": null,
   "id": "9ef9165f-6d84-4eff-844b-1b224a382c4c",
   "metadata": {},
   "outputs": [],
   "source": [
    "%%time\n",
    "\n",
    "# Attempt to read the Parquet file\n",
    "try:\n",
    "    df_results = pd.read_parquet(\n",
    "        rhc_analysis_results_file, \n",
    "        engine='pyarrow',\n",
    "        dtype_backend='numpy_nullable'\n",
    "        )\n",
    "    print(\"File was successfully read without specifying compression codec.\")\n",
    "except Exception as e:\n",
    "    print(f\"Error reading file: {e}\")"
   ]
  },
  {
   "cell_type": "code",
   "execution_count": null,
   "id": "a2573e75-4ac7-4fa4-89af-6a5d5d3039fe",
   "metadata": {},
   "outputs": [],
   "source": [
    "%%time \n",
    "df_results_per_period = pd.read_excel(rhc_analysis_results_per_period_file)\n",
    "\n",
    "# Re-apply the timezone to the 'start' and 'end' columns\n",
    "df_results_per_period['start'] = pd.to_datetime(df_results_per_period['start']).dt.tz_localize('Europe/Amsterdam')\n",
    "df_results_per_period['end'] = pd.to_datetime(df_results_per_period['end']).dt.tz_localize('Europe/Amsterdam')\n",
    "\n",
    "# Set MultiIndex again\n",
    "df_results_per_period.set_index(['id', 'start', 'end'], inplace=True)"
   ]
  },
  {
   "cell_type": "code",
   "execution_count": null,
   "id": "e82acec5-1a85-47e8-93e0-5da0763f18d7",
   "metadata": {},
   "outputs": [],
   "source": [
    "df_results_per_period.columns.to_list()"
   ]
  },
  {
   "cell_type": "code",
   "execution_count": null,
   "id": "1bc69b31-5a08-43ea-8cbc-c862417482fd",
   "metadata": {},
   "outputs": [],
   "source": [
    "df_results_per_period"
   ]
  },
  {
   "cell_type": "code",
   "execution_count": null,
   "id": "1e2dd7ab-71b7-44bf-8e5c-8b1413a4b916",
   "metadata": {},
   "outputs": [],
   "source": [
    "df_results_per_period.describe().T"
   ]
  },
  {
   "cell_type": "markdown",
   "id": "92d30c50-8576-46ce-94f1-77391286894e",
   "metadata": {},
   "source": [
    "#### Calculate how well parameters were learned"
   ]
  },
  {
   "cell_type": "code",
   "execution_count": null,
   "id": "8a5f7769-3fa9-4125-968a-ed9be017c6d1",
   "metadata": {},
   "outputs": [],
   "source": [
    "# show essential statistics for the errors; all homeperiods combined\n",
    "df_results_per_period[['mae_temp_indoor__degC', 'rmse_temp_indoor__degC']].describe()"
   ]
  },
  {
   "cell_type": "code",
   "execution_count": null,
   "id": "fd406b1d-3e14-4625-91a4-00bbb3a02f62",
   "metadata": {},
   "outputs": [],
   "source": [
    "# show essential statistics for the errors; all periods per home\n",
    "df_results_per_period[['mae_temp_indoor__degC', 'rmse_temp_indoor__degC']].groupby('id').describe().T"
   ]
  },
  {
   "cell_type": "markdown",
   "id": "e6e24611-2633-4619-8571-8c0e8d21a8a7",
   "metadata": {},
   "source": [
    "## Add correction factors to make periods comparable"
   ]
  },
  {
   "cell_type": "code",
   "execution_count": null,
   "id": "c494e151-3e4e-432a-bd36-ec4713c387ec",
   "metadata": {},
   "outputs": [],
   "source": [
    "# Calculate period length in seconds using the 'end' and 'start' MultiIndex levels\n",
    "df_results_per_period['period__s'] = (df_results_per_period.index.get_level_values('end') - df_results_per_period.index.get_level_values('start')).total_seconds()\n",
    "df_results_per_period['period__d'] = df_results_per_period['period__s'] / s_d_1"
   ]
  },
  {
   "cell_type": "code",
   "execution_count": null,
   "id": "54d883b9-88a8-49a4-ab98-628af5f1c040",
   "metadata": {},
   "outputs": [],
   "source": [
    "# Calculate total period duration per `id`\n",
    "total_period__s = df_results_per_period.groupby('id')['period__s'].transform('sum')"
   ]
  },
  {
   "cell_type": "code",
   "execution_count": null,
   "id": "e207f1cc-0051-409d-a1a1-0690f05a2784",
   "metadata": {},
   "outputs": [],
   "source": [
    "# Calculate `period_avg_int_heat__K`, `period_avg_inf_chill__K`, and `period_avg_vent_chill__K` with division by `learned_heat_tr_bldng_cond__W_K_1`\n",
    "df_results_per_period['period_avg_int_heat__K'] = np.where(\n",
    "    df_results_per_period['learned_heat_tr_bldng_cond__W_K_1'] != 0,\n",
    "    df_results_per_period['learned_avg_heat_int__W'] / df_results_per_period['learned_heat_tr_bldng_cond__W_K_1'],\n",
    "    np.nan\n",
    ")\n",
    "\n",
    "df_results_per_period['period_avg_inf_chill__K'] = np.where(\n",
    "    df_results_per_period['learned_heat_tr_bldng_cond__W_K_1'] != 0,\n",
    "    df_results_per_period['learned_avg_heat_loss_bldng_inf__W'] / df_results_per_period['learned_heat_tr_bldng_cond__W_K_1'],\n",
    "    np.nan\n",
    ")\n",
    "\n",
    "df_results_per_period['period_avg_vent_chill__K'] = np.where(\n",
    "    df_results_per_period['learned_heat_tr_bldng_cond__W_K_1'] != 0,\n",
    "    df_results_per_period['learned_avg_heat_loss_bldng_vent__W'] / df_results_per_period['learned_heat_tr_bldng_cond__W_K_1'],\n",
    "    np.nan\n",
    ")"
   ]
  },
  {
   "cell_type": "code",
   "execution_count": null,
   "id": "9f1114c9-78f9-41f6-9505-060b8c89cbee",
   "metadata": {},
   "outputs": [],
   "source": [
    "# Calculate the weighted sums\n",
    "df_results_per_period['int_heat__K_s'] = df_results_per_period['period_avg_int_heat__K'] * df_results_per_period['period__s']\n",
    "df_results_per_period['inf_chill__K_s'] = df_results_per_period['period_avg_inf_chill__K'] * df_results_per_period['period__s']\n",
    "df_results_per_period['vent_chill__K_s'] = df_results_per_period['period_avg_vent_chill__K'] * df_results_per_period['period__s']\n",
    "df_results_per_period['temp_outdoor__degC_s'] = df_results_per_period['learned_avg_temp_outdoor__degC'] * df_results_per_period['period__s']"
   ]
  },
  {
   "cell_type": "code",
   "execution_count": null,
   "id": "297e7d9f-23a9-4064-8039-7022ab359222",
   "metadata": {},
   "outputs": [],
   "source": [
    "# Calculate time-weighted averages by dividing the weighted sums by `total_period__s`\n",
    "df_results_per_period['all_periods_avg_int_heat__K'] = df_results_per_period.groupby('id')['int_heat__K_s'].transform('sum') / total_period__s\n",
    "df_results_per_period['all_periods_avg_inf_chill__K'] = df_results_per_period.groupby('id')['inf_chill__K_s'].transform('sum') / total_period__s\n",
    "df_results_per_period['all_periods_avg_vent_chill__K'] = df_results_per_period.groupby('id')['vent_chill__K_s'].transform('sum') / total_period__s\n",
    "df_results_per_period['all_periods_avg_temp_outdoor__degC'] = df_results_per_period.groupby('id')['temp_outdoor__degC_s'].transform('sum') / total_period__s"
   ]
  },
  {
   "cell_type": "code",
   "execution_count": null,
   "id": "779db89b-883b-4f5f-a94c-f585a0d32183",
   "metadata": {},
   "outputs": [],
   "source": [
    "# Calculate period heat demand\n",
    "df_results_per_period['period_heat_demand__K'] = (\n",
    "    df_results_per_period['learned_avg_indoor_outdoor_delta__K'] +\n",
    "    df_results_per_period['period_avg_inf_chill__K'] +\n",
    "    df_results_per_period['period_avg_vent_chill__K'] -\n",
    "    df_results_per_period['period_avg_int_heat__K']\n",
    ").clip(lower=0)"
   ]
  },
  {
   "cell_type": "code",
   "execution_count": null,
   "id": "78c8dc04-2cf3-4385-b32b-538eb1ea955d",
   "metadata": {},
   "outputs": [],
   "source": [
    "# Calculate period corrected heat demand \n",
    "df_results_per_period['corrected_heat_demand__K'] = (\n",
    "    df_results_per_period['learned_avg_indoor_outdoor_delta__K'] +\n",
    "    df_results_per_period['all_periods_avg_inf_chill__K'] +\n",
    "    df_results_per_period['all_periods_avg_vent_chill__K'] -\n",
    "    df_results_per_period['all_periods_avg_int_heat__K'] +\n",
    "    (df_results_per_period['learned_avg_temp_outdoor__degC'] - df_results_per_period['all_periods_avg_temp_outdoor__degC'])\n",
    ").clip(lower=0)"
   ]
  },
  {
   "cell_type": "code",
   "execution_count": null,
   "id": "378ee073-9dbd-492c-b265-799c9eb67c32",
   "metadata": {},
   "outputs": [],
   "source": [
    "# Calculate the correction factor, avoiding division by zero\n",
    "df_results_per_period['energy_ch_correction_factor__0'] = np.where(\n",
    "    df_results_per_period['period_heat_demand__K'] != 0,\n",
    "    df_results_per_period['corrected_heat_demand__K'] / df_results_per_period['period_heat_demand__K'],\n",
    "    1.0  # Default to 1.0 if period_heat_demand__K is zero to avoid division by zero\n",
    ")"
   ]
  },
  {
   "cell_type": "code",
   "execution_count": null,
   "id": "40555a7e-77e3-4b11-9128-5f34fa606fde",
   "metadata": {},
   "outputs": [],
   "source": [
    "# Apply the correction factor to calculate corrected_avg_energy_ch__W and corrected_avg_co2_ch__g_s_1\n",
    "df_results_per_period['corrected_avg_energy_ch__W'] = (\n",
    "    df_results_per_period['learned_avg_energy_ch__W'] * df_results_per_period['energy_ch_correction_factor__0']\n",
    ")\n",
    "df_results_per_period['corrected_avg_co2_ch__g_s_1'] = (\n",
    "    df_results_per_period['learned_avg_co2_ch__g_s_1'] * df_results_per_period['energy_ch_correction_factor__0']\n",
    ")"
   ]
  },
  {
   "cell_type": "code",
   "execution_count": null,
   "id": "33cdeb7f-debd-46e2-861d-707f8410c494",
   "metadata": {},
   "outputs": [],
   "source": [
    "with pd.option_context('display.float_format', '{:.2f}'.format):\n",
    "    display(df_results_per_period.describe().T)\n"
   ]
  },
  {
   "cell_type": "code",
   "execution_count": null,
   "id": "5184eecd-9f1f-4d54-a746-72646c0ed9c9",
   "metadata": {},
   "outputs": [],
   "source": [
    "# Optionally drop intermediate columns for a clean final DataFrame\n",
    "# df_results_per_period = df_results_per_period.drop(columns=['period_avg_int_heat__K', 'period_avg_inf_chill__K', 'period_avg_vent_chill__K',\n",
    "#                                                             'int_heat__K_s', 'inf_chill__K_s', 'vent_chill__K_s', 'temp_outdoor__degC_s',\n",
    "#                                                             'heat_demand__K', 'corrected_heat_demand__K'])"
   ]
  },
  {
   "cell_type": "markdown",
   "id": "de343374-4924-4b68-932d-9295f2106e76",
   "metadata": {},
   "source": [
    "## Visualize learned parameters (boxplots per id to illustrate variability)"
   ]
  },
  {
   "cell_type": "code",
   "execution_count": null,
   "id": "d4151c51-1191-453e-bf02-d6670c6da9e5",
   "metadata": {},
   "outputs": [],
   "source": [
    "learned_parameters"
   ]
  },
  {
   "cell_type": "code",
   "execution_count": null,
   "id": "1d9bf3da-ff5f-4cce-8d2f-36123b1abad1",
   "metadata": {},
   "outputs": [],
   "source": [
    "visualize_learned_parameters = [param for param in learned_parameters if param not in ['learned_ventilation__dm3_s_1']]"
   ]
  },
  {
   "cell_type": "code",
   "execution_count": null,
   "id": "e57e5b5d-5151-477c-9d0e-48f27befc458",
   "metadata": {},
   "outputs": [],
   "source": [
    "visualize_learned_parameters"
   ]
  },
  {
   "cell_type": "code",
   "execution_count": null,
   "id": "e33ff9b5-eb3c-4026-abc2-1b2d5b44ffa0",
   "metadata": {},
   "outputs": [],
   "source": [
    "df_results_per_period[visualize_learned_parameters].describe().T"
   ]
  },
  {
   "cell_type": "code",
   "execution_count": null,
   "id": "cf59db2f-a7cf-4064-8433-1deb29f0c360",
   "metadata": {},
   "outputs": [],
   "source": [
    "df_results_per_period[visualize_learned_parameters].groupby('id').describe().T"
   ]
  },
  {
   "cell_type": "code",
   "execution_count": null,
   "id": "6bd1cdec-902d-4382-a99e-8ae3d4230cdb",
   "metadata": {
    "scrolled": true
   },
   "outputs": [],
   "source": [
    "for learned_prop in visualize_learned_parameters:\n",
    "    Plot.nfh_property_per_id_boxplot(df_results_per_period, property_col=learned_prop)"
   ]
  },
  {
   "cell_type": "markdown",
   "id": "5449c5bd-9446-4814-82bb-da2a228bc27b",
   "metadata": {},
   "source": [
    "### Visualization of learned/simulated temperatures"
   ]
  },
  {
   "cell_type": "code",
   "execution_count": null,
   "id": "abeff269-5495-4919-a4c6-7907ae0d9330",
   "metadata": {},
   "outputs": [],
   "source": [
    "df_results['learned_temp_indoor__degC'].groupby('id').count().to_frame().T"
   ]
  },
  {
   "cell_type": "code",
   "execution_count": null,
   "id": "d6e31980-2133-40d0-b584-60cb1e6be84d",
   "metadata": {},
   "outputs": [],
   "source": [
    "if 'ventilation__dm3_s_1' in learn:\n",
    "    display(df_results['learned_ventilation__dm3_s_1'].groupby('id').count().to_frame().T)\n",
    "    display(df_results['learned_ventilation__dm3_s_1'].groupby('id').describe().T)"
   ]
  },
  {
   "cell_type": "code",
   "execution_count": null,
   "id": "4eab0dcf-9be7-4d16-8960-0a12a65c157b",
   "metadata": {},
   "outputs": [],
   "source": [
    "if 'ventilation__dm3_s_1' in learn:\n",
    "    df_results['learned_ventilation__dm3_s_1']"
   ]
  },
  {
   "cell_type": "code",
   "execution_count": null,
   "id": "29d4dd2f-1659-438b-911d-a4cb3f5edd4f",
   "metadata": {},
   "outputs": [],
   "source": [
    "#Plot only temperatures from all sources for all ids\n",
    "if 'ventilation__dm3_s_1' in learn:\n",
    "    Plot.dataframe_preprocessed_plot(df_results[['batch_import_remeha_temp_indoor__degC', 'learned_temp_indoor__degC', 'learned_ventilation__dm3_s_1']].xs(specific_id, level='id', drop_level=False), units_to_mathtext)\n",
    "else:\n",
    "    Plot.dataframe_preprocessed_plot(df_results[['batch_import_remeha_temp_indoor__degC', 'learned_temp_indoor__degC']].xs(specific_id, level='id', drop_level=False), units_to_mathtext)"
   ]
  },
  {
   "cell_type": "markdown",
   "id": "0b2a556e-57d9-4500-8d48-3942d48cd2df",
   "metadata": {},
   "source": [
    "## Visualize calculated metrics for Energy Case, Comfort Case and Carbon Case"
   ]
  },
  {
   "cell_type": "code",
   "execution_count": null,
   "id": "e0073adf-fe5d-4d8d-9143-8ffbd54991bb",
   "metadata": {},
   "outputs": [],
   "source": [
    "metrics = ['corrected_avg_energy_ch__W', 'learned_avg_comfortable__0', 'corrected_avg_co2_ch__g_s_1']"
   ]
  },
  {
   "cell_type": "code",
   "execution_count": null,
   "id": "e60b7be6-eda2-46eb-8858-127cae2294d5",
   "metadata": {},
   "outputs": [],
   "source": [
    "df_results_per_period[metrics].groupby('id').describe().T"
   ]
  },
  {
   "cell_type": "markdown",
   "id": "c6678853-eea3-4356-82f2-eae80d72ec91",
   "metadata": {},
   "source": [
    "## Analyze and visualize intervention A1: change thermostat program"
   ]
  },
  {
   "cell_type": "code",
   "execution_count": null,
   "id": "15c1a7e6-9538-4d6e-b660-93b24f6b3063",
   "metadata": {},
   "outputs": [],
   "source": [
    "# Load the regime change data from Excel\n",
    "regime_changes_A1 = pd.read_excel(regime_change_A1_file_path)"
   ]
  },
  {
   "cell_type": "code",
   "execution_count": null,
   "id": "76614a8e-7ad9-4823-84d6-e5f170c18c9e",
   "metadata": {},
   "outputs": [],
   "source": [
    "# Convert the program change datetime to a datetime object only if the datetime and timezone values are non-empty\n",
    "regime_changes_A1['A_thermostat_program_change_datetime'] = pd.to_datetime(\n",
    "    regime_changes_A1['A_thermostat_program_change_datetime'], errors='coerce'\n",
    ")\n",
    "\n",
    "# Apply timezone localization conditionally\n",
    "regime_changes_A1['A_thermostat_program_change_datetime'] = regime_changes_A1.apply(\n",
    "    lambda row: row['A_thermostat_program_change_datetime'].tz_localize(row['timezone'])\n",
    "    if pd.notna(row['A_thermostat_program_change_datetime']) and pd.notna(row['timezone'])\n",
    "    else row['A_thermostat_program_change_datetime'],\n",
    "    axis=1\n",
    ")"
   ]
  },
  {
   "cell_type": "code",
   "execution_count": null,
   "id": "0e9c8035-4203-4e33-ba65-a9c07418850a",
   "metadata": {},
   "outputs": [],
   "source": [
    "regime_changes_A1 = regime_changes_A1.drop(columns=['timezone'])"
   ]
  },
  {
   "cell_type": "code",
   "execution_count": null,
   "id": "ed028f0d-d44e-44b6-8d73-2f50b38eb2eb",
   "metadata": {},
   "outputs": [],
   "source": [
    "regime_changes_A1['regime_sequence_number'] = regime_changes_A1.groupby('id').cumcount() + 1"
   ]
  },
  {
   "cell_type": "code",
   "execution_count": null,
   "id": "203a5113-da9f-4dfa-a4c6-17892ea347fc",
   "metadata": {},
   "outputs": [],
   "source": [
    "regime_changes_A1"
   ]
  },
  {
   "cell_type": "code",
   "execution_count": null,
   "id": "5c4cde12-67ec-4530-85f7-51ec3b3025d2",
   "metadata": {},
   "outputs": [],
   "source": [
    "# Label results per period with regime sequence numbers, if there was no regime change in the period\n",
    "\n",
    "# Initialize the regime_sequence_number column\n",
    "df_results_per_period['regime_sequence_number'] = None\n",
    "\n",
    "# reset index\n",
    "df_results_per_period = df_results_per_period.reset_index()\n",
    "\n",
    "# Loop over each row in df_results_per_period\n",
    "for index, row in df_results_per_period.iterrows():\n",
    "    # Get the current id, start, and end for the row\n",
    "    current_id = row['id']\n",
    "    start_time = row['start']\n",
    "    end_time = row['end']\n",
    "\n",
    "    # Check for regime changes within the interval\n",
    "    regime_changes = regime_changes_A1[\n",
    "        (regime_changes_A1['id'] == current_id) &\n",
    "        (regime_changes_A1['A_thermostat_program_change_datetime'] >= start_time) &\n",
    "        (regime_changes_A1['A_thermostat_program_change_datetime'] <= end_time)\n",
    "    ]\n",
    "\n",
    "    # If there are regime changes, do not assign a regime sequence number\n",
    "    if not regime_changes.empty:\n",
    "        continue  # Skip assigning a regime sequence number for this interval\n",
    "\n",
    "    # If there are no regime changes, find the latest regime sequence number before the start\n",
    "    latest_regime = regime_changes_A1[\n",
    "        (regime_changes_A1['id'] == current_id) &\n",
    "        (regime_changes_A1['A_thermostat_program_change_datetime'] <= start_time)\n",
    "    ].sort_values(by='A_thermostat_program_change_datetime', ascending=False)\n",
    "\n",
    "    # Assign the regime sequence number if found\n",
    "    if not latest_regime.empty:\n",
    "        df_results_per_period.at[index, 'regime_sequence_number'] = latest_regime.iloc[0]['regime_sequence_number']\n",
    "\n",
    "\n",
    "\n",
    "# Convert the regime_sequence_number column to integers\n",
    "df_results_per_period['regime_sequence_number'] = pd.to_numeric(df_results_per_period['regime_sequence_number'], downcast='integer')\n",
    "\n",
    "# restore the index\n",
    "df_results_per_period = df_results_per_period.set_index(['id', 'start', 'end'])"
   ]
  },
  {
   "cell_type": "code",
   "execution_count": null,
   "id": "f16b1a3f-709f-47ac-9491-e52d15d45b22",
   "metadata": {},
   "outputs": [],
   "source": [
    "regime_changes_A1[['id', 'regime_sequence_number']].groupby('id').describe()"
   ]
  },
  {
   "cell_type": "code",
   "execution_count": null,
   "id": "0f93497f-62ed-452b-ad7c-dfa017dc58a3",
   "metadata": {},
   "outputs": [],
   "source": [
    "df_results_per_period[['regime_sequence_number']].groupby('id').describe()"
   ]
  },
  {
   "cell_type": "code",
   "execution_count": null,
   "id": "55afb2d9-0613-49f3-a2f7-2387392f8533",
   "metadata": {},
   "outputs": [],
   "source": [
    "# Group by 'id' and calculate standard deviation for 'regime_sequence_number'\n",
    "std_values = regime_changes_A1.groupby('id')['regime_sequence_number'].std()\n",
    "\n",
    "# Filter the ids where std > 0\n",
    "id_mask_intervention_A1 = std_values[std_values > 0].index.tolist()"
   ]
  },
  {
   "cell_type": "code",
   "execution_count": null,
   "id": "4ff91698-7486-4259-b74c-41de824b53b9",
   "metadata": {},
   "outputs": [],
   "source": [
    "df_results_per_period.columns.to_list()"
   ]
  },
  {
   "cell_type": "code",
   "execution_count": null,
   "id": "e29c2c19-cba2-4814-8ac9-ccdcbe5807d2",
   "metadata": {},
   "outputs": [],
   "source": [
    "intervention_results_columns_a1 = (['regime_sequence_number',\n",
    "                                 'period__d',\n",
    "                                 'learned_avg_temp_set__degC',\n",
    "                                 'learned_avg_temp_indoor__degC',\n",
    "                                 'learned_avg_temp_outdoor__degC',\n",
    "                                 'learned_avg_energy_ch__W',\n",
    "                                 'learned_avg_co2_ch__g_s_1',\n",
    "                                ] + metrics)"
   ]
  },
  {
   "cell_type": "code",
   "execution_count": null,
   "id": "cbf03646-a27e-424e-8111-bbae555e7bd0",
   "metadata": {},
   "outputs": [],
   "source": [
    "df_results_per_a1_intervention = (df_results_per_period[df_results_per_period.index.get_level_values('id').isin(id_mask_intervention_A1)][intervention_results_columns_a1]\n",
    "                                  .reset_index()\n",
    "                                  .dropna(subset=['regime_sequence_number'])  # Drop rows where 'regime_sequence_number' is NaN\n",
    "                                  .dropna(subset=metrics) # Drop rows where any of the metrics is NaN\n",
    "                                  .set_index(['id', 'regime_sequence_number', 'start', 'end']))"
   ]
  },
  {
   "cell_type": "code",
   "execution_count": null,
   "id": "967befdd-9fbe-46cd-b57b-5f2d816ec2d2",
   "metadata": {},
   "outputs": [],
   "source": [
    "df_results_per_a1_intervention\n"
   ]
  },
  {
   "cell_type": "code",
   "execution_count": null,
   "id": "60ce6ea5-e49d-4025-819a-5b5894734ec9",
   "metadata": {},
   "outputs": [],
   "source": [
    "homes_with_thermostat_program_change = df_results_per_a1_intervention.index.get_level_values('id').unique().size\n",
    "print(f\"Number of homes that did a thermostat program change: {homes_with_thermostat_program_change}\")\n",
    "thermostat_programs_in_homes_with_thermostat_change = df_results_per_a1_intervention.index.to_frame(index=False)[['id', 'regime_sequence_number']].drop_duplicates().size\n",
    "print(f\"Number of thermostat programs of these homes: {thermostat_programs_in_homes_with_thermostat_change}\")\n",
    "if homes_with_thermostat_program_change >0:\n",
    "    print(f\"Average number of thermostat programs in homes with thermostat program change: {thermostat_programs_in_homes_with_thermostat_change/homes_with_thermostat_program_change}\")"
   ]
  },
  {
   "cell_type": "markdown",
   "id": "eb217688-c2a2-4a9b-a578-5ff52179ce57",
   "metadata": {
    "jp-MarkdownHeadingCollapsed": true
   },
   "source": [
    "### Filter out learning periods that don't cover a full thermostat program "
   ]
  },
  {
   "cell_type": "code",
   "execution_count": null,
   "id": "aba52f04-63f4-43be-9f21-3546725f06dc",
   "metadata": {},
   "outputs": [],
   "source": [
    "df_results_per_a1_intervention = df_results_per_a1_intervention[df_results_per_a1_intervention['period__d'] == learn_period__d]"
   ]
  },
  {
   "cell_type": "markdown",
   "id": "9a65d225-84db-4c25-801c-2c7e61c5bc49",
   "metadata": {
    "jp-MarkdownHeadingCollapsed": true
   },
   "source": [
    "### Aggregate regime metrics and keep only ids for which 2 or more regimes can be compared"
   ]
  },
  {
   "cell_type": "code",
   "execution_count": null,
   "id": "775e1e34-910a-4179-b230-d755c426c2c0",
   "metadata": {},
   "outputs": [],
   "source": [
    "df_results_per_a1_intervention_grouped = df_results_per_a1_intervention.groupby(['id', 'regime_sequence_number']).agg({\n",
    "        'period__d': 'sum',  # Summing this specific column\n",
    "    **{col: 'mean' for col in df_results_per_a1_intervention.columns if col != 'period__d'}  # Mean for all other columns\n",
    "})\n",
    "\n",
    "# Step 1: Find unique regime counts per `id`\n",
    "unique_counts = df_results_per_a1_intervention_grouped.index.to_frame(index=False).groupby('id')['regime_sequence_number'].nunique()\n",
    "\n",
    "# Step 2: Identify `id`s with more than one unique regime_sequence_number\n",
    "ids_with_multiple_regimes = unique_counts[unique_counts > 1].index\n",
    "\n",
    "# Step 3: Filter the DataFrame to keep only rows with `id`s that have multiple regimes\n",
    "df_results_per_a1_intervention_grouped = df_results_per_a1_intervention_grouped[df_results_per_a1_intervention_grouped.index.get_level_values('id').isin(ids_with_multiple_regimes)]"
   ]
  },
  {
   "cell_type": "code",
   "execution_count": null,
   "id": "1678a375-26a5-4f0a-abc9-e7aa9c9584e4",
   "metadata": {},
   "outputs": [],
   "source": [
    "df_results_per_a1_intervention_limited_grouped = df_results_per_a1_intervention_grouped\n",
    "\n",
    "# df_results_per_a1_intervention_limited_grouped = df_results_per_a1_intervention_grouped[['period__d',\n",
    "#  'learned_avg_temp_set__degC',\n",
    "#  'learned_avg_temp_indoor__degC',\n",
    "#  'learned_avg_temp_outdoor__degC',\n",
    "#  'corrected_avg_energy_ch__W',\n",
    "#  'learned_avg_comfortable__0',\n",
    "#  'corrected_avg_co2_ch__g_s_1']]"
   ]
  },
  {
   "cell_type": "code",
   "execution_count": null,
   "id": "9dc3357a-b450-4b8d-87dd-01a7b2acde11",
   "metadata": {},
   "outputs": [],
   "source": [
    "df_results_per_a1_intervention_limited_grouped"
   ]
  },
  {
   "cell_type": "code",
   "execution_count": null,
   "id": "5e55d2a8-ac28-4a4c-9842-185294f8459e",
   "metadata": {},
   "outputs": [],
   "source": [
    "%%time \n",
    "# Convert all datetime columns to timezone-naive and export to Excel\n",
    "df_results_per_a1_intervention_limited_grouped.reset_index(drop=False).apply(lambda x: x.dt.tz_localize(None) if x.dtype.kind == 'M' else x).to_excel(\"results_interventions_A1.xlsx\", index=False)"
   ]
  },
  {
   "cell_type": "markdown",
   "id": "31b09df3-1007-4291-9517-c4c619875e13",
   "metadata": {},
   "source": [
    "### Check thermostat program changes via temperature plots"
   ]
  },
  {
   "cell_type": "code",
   "execution_count": null,
   "id": "ffaf860d-6e5d-4aa4-bc0d-51a8444b41b9",
   "metadata": {},
   "outputs": [],
   "source": [
    "temp_property_sources_a1 = {\n",
    "    'temp_indoor__degC':    'batch_import_remeha_temp_indoor__degC',\n",
    "    'temp_set__degC':       'batch_import_remeha_temp_set__degC',\n",
    "    # 'comfortable__bool':    'calculated_comfortable__bool',\n",
    "    'temp_outdoor__degC':   'batch_import_KNMI_temp_outdoor__degC',\n",
    "    # 'temp_flow_ch__degC':    'batch_import_remeha_temp_flow_ch__degC',\n",
    "    # 'temp_ret_ch__degC':    'batch_import_remeha_temp_ret_ch__degC',\n",
    "    # 'temp_flow_ch_max__degC':'batch_import_remeha_temp_flow_ch_max__degC', \n",
    "}\n",
    "\n",
    "tempprops_a1 = list(temp_property_sources_a1.values())"
   ]
  },
  {
   "cell_type": "code",
   "execution_count": null,
   "id": "2e9bcea8-9ce3-4678-9516-5cfdd5b08b29",
   "metadata": {},
   "outputs": [],
   "source": [
    "for id in df_results_per_a1_intervention_limited_grouped.index.get_level_values('id').unique():\n",
    "    print(id)\n",
    "    display(df_results_per_a1_intervention_limited_grouped.loc[id])\n",
    "    Plot.dataframe_preprocessed_plot(df_prep[janfebmrt24_mask][tempprops_a1].xs(id, level='id', drop_level=False), units_to_mathtext)"
   ]
  },
  {
   "cell_type": "code",
   "execution_count": null,
   "id": "434b357c-f6c9-43b3-a565-b3c0f40e234d",
   "metadata": {},
   "outputs": [],
   "source": [
    "# Define your metrics and desired precisions in a dictionary\n",
    "metrics_format = {\n",
    "    'corrected_avg_energy_ch__W': '{:.0f}',  # 0 decimal places\n",
    "    'learned_avg_comfortable__0': '{:.2f}',  # 2 decimal places\n",
    "    'corrected_avg_co2_ch__g_s_1': '{:.3f}'  # 3 decimal places\n",
    "}\n",
    "\n",
    "# Loop through each metric, applying the specified precision\n",
    "for metric, format_str in metrics_format.items():\n",
    "    print(metric)\n",
    "    with pd.option_context('display.float_format', format_str.format):\n",
    "        display(df_results_per_a1_intervention[metric].groupby(['id', 'regime_sequence_number']).describe().T)\n"
   ]
  },
  {
   "cell_type": "code",
   "execution_count": null,
   "id": "0f5e8049-e322-41d5-87b8-eb929ce037df",
   "metadata": {},
   "outputs": [],
   "source": [
    "# Plot.calculated_intervention_metrics_boxplot(df_results_per_a1_intervention_limited_grouped, metrics)"
   ]
  },
  {
   "cell_type": "markdown",
   "id": "3cb2cfea-68ba-44f9-b8b2-0acfc2037ebf",
   "metadata": {},
   "source": [
    "## Analyze and visualize intervention B1: lower maximum supply temperatures"
   ]
  },
  {
   "cell_type": "code",
   "execution_count": null,
   "id": "f5c9e142-a2ac-4e0f-a67f-66998f0399cf",
   "metadata": {},
   "outputs": [],
   "source": [
    "# Load the regime change data from Excel\n",
    "regime_changes_B1 = pd.read_excel(regime_change_B1_file_path)"
   ]
  },
  {
   "cell_type": "code",
   "execution_count": null,
   "id": "f69f5d51-99df-42de-8a31-a64a1d1cf6d4",
   "metadata": {},
   "outputs": [],
   "source": [
    "# Convert the program change datetime to a datetime object only if the datetime and timezone values are non-empty\n",
    "regime_changes_B1['B_temp_flow_ch_max__datetime'] = pd.to_datetime(\n",
    "    regime_changes_B1['B_temp_flow_ch_max__datetime'], errors='coerce'\n",
    ")\n",
    "\n",
    "# Apply timezone localization conditionally\n",
    "regime_changes_B1['B_temp_flow_ch_max__datetime'] = regime_changes_B1.apply(\n",
    "    lambda row: row['B_temp_flow_ch_max__datetime'].tz_localize(row['timezone'])\n",
    "    if pd.notna(row['B_temp_flow_ch_max__datetime']) and pd.notna(row['timezone'])\n",
    "    else row['B_temp_flow_ch_max__datetime'],\n",
    "    axis=1\n",
    ")"
   ]
  },
  {
   "cell_type": "code",
   "execution_count": null,
   "id": "394a2e41-9cb9-407d-b4f7-4cd46234f86b",
   "metadata": {},
   "outputs": [],
   "source": [
    "regime_changes_B1 = regime_changes_B1.drop(columns=['timezone'])"
   ]
  },
  {
   "cell_type": "code",
   "execution_count": null,
   "id": "b02ba70c-26e7-496c-8b23-b791f0e6bdd1",
   "metadata": {},
   "outputs": [],
   "source": [
    "regime_changes_B1['regime_sequence_number'] = regime_changes_B1.groupby('id').cumcount() + 1"
   ]
  },
  {
   "cell_type": "code",
   "execution_count": null,
   "id": "54d5dfa8-2fb0-40a8-a54b-4acccbe01850",
   "metadata": {},
   "outputs": [],
   "source": [
    "regime_changes_B1"
   ]
  },
  {
   "cell_type": "code",
   "execution_count": null,
   "id": "f4f12b4c-b17d-41a9-844c-f26479340d8d",
   "metadata": {},
   "outputs": [],
   "source": [
    "# Label results per period with regime sequence numbers, if there was no regime change in the period\n",
    "\n",
    "# Initialize the regime_sequence_number column\n",
    "df_results_per_period['regime_sequence_number'] = None\n",
    "\n",
    "# reset index\n",
    "df_results_per_period = df_results_per_period.reset_index()\n",
    "\n",
    "# Loop over each row in df_results_per_period\n",
    "for index, row in df_results_per_period.iterrows():\n",
    "    # Get the current id, start, and end for the row\n",
    "    current_id = row['id']\n",
    "    start_time = row['start']\n",
    "    end_time = row['end']\n",
    "\n",
    "    # Check for regime changes within the interval\n",
    "    regime_changes = regime_changes_B1[\n",
    "        (regime_changes_B1['id'] == current_id) &\n",
    "        (regime_changes_B1['B_temp_flow_ch_max__datetime'] >= start_time) &\n",
    "        (regime_changes_B1['B_temp_flow_ch_max__datetime'] <= end_time)\n",
    "    ]\n",
    "\n",
    "    # If there are regime changes, do not assign a regime sequence number\n",
    "    if not regime_changes.empty:\n",
    "        continue  # Skip assigning a regime sequence number for this interval\n",
    "\n",
    "    # If there are no regime changes, find the latest regime sequence number before the start\n",
    "    latest_regime = regime_changes_B1[\n",
    "        (regime_changes_B1['id'] == current_id) &\n",
    "        (regime_changes_B1['B_temp_flow_ch_max__datetime'] <= start_time)\n",
    "    ].sort_values(by='B_temp_flow_ch_max__datetime', ascending=False)\n",
    "\n",
    "    # Assign the regime sequence number if found\n",
    "    if not latest_regime.empty:\n",
    "        df_results_per_period.at[index, 'regime_sequence_number'] = latest_regime.iloc[0]['regime_sequence_number']\n",
    "\n",
    "\n",
    "\n",
    "# Convert the regime_sequence_number column to integers\n",
    "df_results_per_period['regime_sequence_number'] = pd.to_numeric(df_results_per_period['regime_sequence_number'], downcast='integer')\n",
    "\n",
    "# restore the index\n",
    "df_results_per_period = df_results_per_period.set_index(['id', 'start', 'end'])"
   ]
  },
  {
   "cell_type": "code",
   "execution_count": null,
   "id": "6ea2993f-2d46-4415-aae9-7c522fd4cfa6",
   "metadata": {},
   "outputs": [],
   "source": [
    "regime_changes_B1[['id', 'regime_sequence_number']].groupby('id').describe()"
   ]
  },
  {
   "cell_type": "code",
   "execution_count": null,
   "id": "09b2d77a-b8f9-4b3f-9b87-ac46749af5fb",
   "metadata": {},
   "outputs": [],
   "source": [
    "df_results_per_period[['regime_sequence_number']].groupby('id').describe()"
   ]
  },
  {
   "cell_type": "code",
   "execution_count": null,
   "id": "b754f706-e74d-44e1-ba94-30c0d9c9344f",
   "metadata": {},
   "outputs": [],
   "source": [
    "# Group by 'id' and calculate standard deviation for 'regime_sequence_number'\n",
    "std_values = regime_changes_B1.groupby('id')['regime_sequence_number'].std()\n",
    "\n",
    "# Filter the ids where std > 0\n",
    "id_mask_intervention_B1 = std_values[std_values > 0].index.tolist()"
   ]
  },
  {
   "cell_type": "code",
   "execution_count": null,
   "id": "98eba9bd-3827-4882-b3fa-56e8ee179fcc",
   "metadata": {},
   "outputs": [],
   "source": [
    "df_results_per_period.columns.to_list()"
   ]
  },
  {
   "cell_type": "code",
   "execution_count": null,
   "id": "08607b3c-2bc4-4159-8741-18db0c5064a7",
   "metadata": {},
   "outputs": [],
   "source": [
    "intervention_results_columns_b1 = (['regime_sequence_number',\n",
    "                                 'period__d',\n",
    "                                 'learned_avg_temp_flow_ch_max__degC',\n",
    "                                 'learned_avg_temp_indoor__degC',\n",
    "                                 'learned_avg_temp_outdoor__degC',\n",
    "                                 'learned_avg_energy_ch__W',\n",
    "                                 'learned_avg_co2_ch__g_s_1',\n",
    "                                ] + metrics)"
   ]
  },
  {
   "cell_type": "code",
   "execution_count": null,
   "id": "eb8125a5-d455-446f-bfa5-3cb0d8b8dd0f",
   "metadata": {},
   "outputs": [],
   "source": [
    "df_results_per_b1_intervention = (df_results_per_period[df_results_per_period.index.get_level_values('id').isin(id_mask_intervention_B1)][intervention_results_columns_b1]\n",
    "                                  .reset_index()\n",
    "                                  .dropna(subset=['regime_sequence_number'])  # Drop rows where 'regime_sequence_number' is NaN\n",
    "                                  .dropna(subset=metrics) # Drop rows where any of the metrics is NaN\n",
    "                                  .set_index(['id', 'regime_sequence_number', 'start', 'end']))"
   ]
  },
  {
   "cell_type": "code",
   "execution_count": null,
   "id": "d316bba5-d963-4e88-a897-0597c04a9971",
   "metadata": {},
   "outputs": [],
   "source": [
    "df_results_per_b1_intervention"
   ]
  },
  {
   "cell_type": "code",
   "execution_count": null,
   "id": "2d83afd8-1488-4481-98e1-39e833012686",
   "metadata": {},
   "outputs": [],
   "source": [
    "homes_with_max_flow_temp_change = len(df_results_per_b1_intervention.index.get_level_values('id').unique())\n",
    "print(f\"Number of homes that changed their max supply temperature: {homes_with_max_flow_temp_change}\")\n",
    "max_flow_temp_regimes_in_homes_with_max_flow_temp_change = len(df_results_per_b1_intervention.index.to_frame(index=False)[['id', 'regime_sequence_number']].drop_duplicates())\n",
    "print(f\"Number of max supply temperature settings in these homes: {max_flow_temp_regimes_in_homes_with_max_flow_temp_change}\")\n",
    "if homes_with_max_flow_temp_change >0:\n",
    "    print(f\"Average number of max supply temperatures settings in homes with such a change: {max_flow_temp_regimes_in_homes_with_max_flow_temp_change/homes_with_max_flow_temp_change}\")\n"
   ]
  },
  {
   "cell_type": "markdown",
   "id": "1422b356-359e-4096-9910-567298fc3763",
   "metadata": {
    "jp-MarkdownHeadingCollapsed": true
   },
   "source": [
    "### Filter out learning periods that don't cover a period - 1 day"
   ]
  },
  {
   "cell_type": "code",
   "execution_count": null,
   "id": "298767bb-24c4-46a4-a248-a0a8e53a2222",
   "metadata": {},
   "outputs": [],
   "source": [
    "df_results_per_b1_intervention = df_results_per_b1_intervention[df_results_per_b1_intervention['period__d'] > (learn_period__d - 1)]\n"
   ]
  },
  {
   "cell_type": "code",
   "execution_count": null,
   "id": "ae6a98b6-d7e5-456e-98df-7ce04043edd5",
   "metadata": {},
   "outputs": [],
   "source": [
    "df_results_per_b1_intervention"
   ]
  },
  {
   "cell_type": "markdown",
   "id": "511e7074-ef3d-46c0-bd8b-a70822639469",
   "metadata": {},
   "source": [
    "### Aggregate regime metrics and keep only ids for which 2 or more regimes can be compared"
   ]
  },
  {
   "cell_type": "code",
   "execution_count": null,
   "id": "ad602586-d0c3-46c1-8a02-d1a72c36f256",
   "metadata": {},
   "outputs": [],
   "source": [
    "df_results_per_b1_intervention_grouped = df_results_per_b1_intervention.groupby(['id', 'regime_sequence_number']).agg({\n",
    "        'period__d': 'sum',  # Summing this specific column\n",
    "    **{col: 'mean' for col in df_results_per_b1_intervention.columns if col != 'period__d'}  # Mean for all other columns\n",
    "})\n",
    "\n",
    "# Step 1: Find unique regime counts per `id`\n",
    "unique_counts = df_results_per_b1_intervention_grouped.index.to_frame(index=False).groupby('id')['regime_sequence_number'].nunique()\n",
    "\n",
    "# Step 2: Identify `id`s with more than one unique regime_sequence_number\n",
    "ids_with_multiple_regimes = unique_counts[unique_counts > 1].index\n",
    "\n",
    "# Step 3: Filter the DataFrame to keep only rows with `id`s that have multiple regimes\n",
    "df_results_per_b1_intervention_grouped = df_results_per_b1_intervention_grouped[df_results_per_b1_intervention_grouped.index.get_level_values('id').isin(ids_with_multiple_regimes)]"
   ]
  },
  {
   "cell_type": "code",
   "execution_count": null,
   "id": "189d20e7-b1c0-4d86-98fa-c1b57132d14f",
   "metadata": {},
   "outputs": [],
   "source": [
    "df_results_per_b1_intervention_limited_grouped = df_results_per_b1_intervention_grouped\n",
    "\n",
    "# df_results_per_a1_intervention_limited_grouped = df_results_per_a1_intervention_grouped[['period__d',\n",
    "#  'learned_avg_temp_flow_ch_max__degC',\n",
    "#  'learned_avg_temp_indoor__degC',\n",
    "#  'learned_avg_temp_outdoor__degC',\n",
    "#  'corrected_avg_energy_ch__W',\n",
    "#  'learned_avg_comfortable__0',\n",
    "#  'corrected_avg_co2_ch__g_s_1']]"
   ]
  },
  {
   "cell_type": "code",
   "execution_count": null,
   "id": "c7fc15f8-b665-4bf3-967c-c769ac70ee9f",
   "metadata": {},
   "outputs": [],
   "source": [
    "df_results_per_b1_intervention_limited_grouped"
   ]
  },
  {
   "cell_type": "code",
   "execution_count": null,
   "id": "aeb2428f-55df-4008-98b0-4ae86650f6ea",
   "metadata": {},
   "outputs": [],
   "source": [
    "%%time \n",
    "# Convert all datetime columns to timezone-naive and export to Excel\n",
    "df_results_per_b1_intervention_limited_grouped.reset_index(drop=False).apply(lambda x: x.dt.tz_localize(None) if x.dtype.kind == 'M' else x).to_excel(\"results_interventions_B1.xlsx\", index=False)"
   ]
  },
  {
   "cell_type": "code",
   "execution_count": null,
   "id": "56ba896b-d0ef-4a6f-b086-5667c4235bdc",
   "metadata": {},
   "outputs": [],
   "source": [
    "# Define your metrics and desired precisions in a dictionary\n",
    "metrics_format = {\n",
    "    'corrected_avg_energy_ch__W': '{:.0f}',  # 0 decimal places\n",
    "    'learned_avg_comfortable__0': '{:.2f}',  # 2 decimal places\n",
    "    'corrected_avg_co2_ch__g_s_1': '{:.3f}'  # 3 decimal places\n",
    "}\n",
    "\n",
    "# Loop through each metric, applying the specified precision\n",
    "for metric, format_str in metrics_format.items():\n",
    "    print(metric)\n",
    "    with pd.option_context('display.float_format', format_str.format):\n",
    "        display(df_results_per_b1_intervention[metric].groupby(['id', 'regime_sequence_number']).describe().T)\n"
   ]
  },
  {
   "cell_type": "code",
   "execution_count": null,
   "id": "1ed653f8-5b0e-4876-9724-7b89aa21dbb3",
   "metadata": {},
   "outputs": [],
   "source": [
    "temp_property_sources_b1 = {\n",
    "    'temp_indoor__degC':    'batch_import_remeha_temp_indoor__degC',\n",
    "    'temp_set__degC':       'batch_import_remeha_temp_set__degC',\n",
    "    # 'comfortable__bool':    'calculated_comfortable__bool',\n",
    "    'temp_outdoor__degC':   'batch_import_KNMI_temp_outdoor__degC',\n",
    "    'temp_flow_ch__degC':    'batch_import_remeha_temp_flow_ch__degC',\n",
    "    'temp_ret_ch__degC':    'batch_import_remeha_temp_ret_ch__degC',\n",
    "    'temp_flow_ch_max__degC':'batch_import_remeha_temp_flow_ch_max__degC', \n",
    "}\n",
    "\n",
    "tempprops_b1 = list(temp_property_sources_b1.values())"
   ]
  },
  {
   "cell_type": "code",
   "execution_count": null,
   "id": "fe5ddff5-9fa4-4754-b4de-ea9c2afb4f3e",
   "metadata": {},
   "outputs": [],
   "source": [
    "for id in df_results_per_b1_intervention_limited_grouped.index.get_level_values('id').unique():\n",
    "    print(id)\n",
    "    display(df_results_per_b1_intervention_limited_grouped.loc[id])\n",
    "    Plot.dataframe_preprocessed_plot(df_prep[janfebmrt24_mask][tempprops_b1].xs(id, level='id', drop_level=False), units_to_mathtext)"
   ]
  },
  {
   "cell_type": "code",
   "execution_count": null,
   "id": "93b91b77-668d-4ad6-8bcf-7cc9c88ed56a",
   "metadata": {},
   "outputs": [],
   "source": [
    "# Plot.calculated_intervention_metrics_boxplot(df_results_per_b1_intervention_limited_grouped, metrics)"
   ]
  }
 ],
 "metadata": {
  "kernelspec": {
   "display_name": "Python 3 (ipykernel)",
   "language": "python",
   "name": "python3"
  },
  "language_info": {
   "codemirror_mode": {
    "name": "ipython",
    "version": 3
   },
   "file_extension": ".py",
   "mimetype": "text/x-python",
   "name": "python",
   "nbconvert_exporter": "python",
   "pygments_lexer": "ipython3",
   "version": "3.11.6"
  },
  "vscode": {
   "interpreter": {
    "hash": "2b52c2ff5431c21ddbe91dac57ae43ca32d3900acacc91a5c2a32f1a3c11d7aa"
   }
  }
 },
 "nbformat": 4,
 "nbformat_minor": 5
}
