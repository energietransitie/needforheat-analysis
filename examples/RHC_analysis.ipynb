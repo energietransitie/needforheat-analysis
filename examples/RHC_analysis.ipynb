{
 "cells": [
  {
   "cell_type": "markdown",
   "id": "02aa6298-301d-4d2f-b59e-7bc2432c67d4",
   "metadata": {},
   "source": [
    "# REDUCEDHEATCARB analysis\n",
    "\n",
    "This JupyterLabs notebook can be used for physics ifnormed machine learning analysis in the REDUCEDHEATCAB project.\n",
    "Don't forget to install the requirements listed in [requirements.txt](../requirements.txt) first!"
   ]
  },
  {
   "cell_type": "markdown",
   "id": "40e8f82e-93a6-4156-b4cb-4744c4cc8c13",
   "metadata": {},
   "source": [
    "## Setting the stage\n",
    "\n",
    "First several imports and variables need to be defined\n"
   ]
  },
  {
   "cell_type": "markdown",
   "id": "b276aade-cd93-4e8a-957d-fdc2d3a84336",
   "metadata": {},
   "source": [
    "### Imports and generic settings"
   ]
  },
  {
   "cell_type": "code",
   "execution_count": null,
   "id": "08d2d6ec-cf03-47d6-a505-bf37716c4700",
   "metadata": {},
   "outputs": [],
   "source": [
    "import numpy as np\n",
    "import pandas as pd\n",
    "from datetime import datetime, timedelta\n",
    "\n",
    "%load_ext autoreload\n",
    "\n",
    "    \n",
    "from tqdm.notebook import tqdm\n",
    "\n",
    "from gekko import GEKKO\n",
    "\n",
    "import sys\n",
    "sys.path.append('../data/')\n",
    "sys.path.append('../view/')\n",
    "sys.path.append('../analysis/')\n",
    "\n",
    "from plotter import Plot\n",
    "import matplotlib.pyplot as plt\n",
    "%matplotlib inline\n",
    "%matplotlib widget\n",
    "\n",
    "\n",
    "from nfh_utils import *\n",
    "\n",
    "# usually, two decimals suffice for displaying DataFrames (NB internally, precision may be higher)\n",
    "pd.options.display.precision = 2\n",
    "\n",
    "from rhc_analysis import Learner, Comfort\n",
    "\n",
    "# rhc_preprocessed_poperties_file='rhc_preprocessed_properties_intv_5_min.parquet'\n",
    "rhc_preprocessed_poperties_file='rhc_preprocessed_properties_intv_1_min.parquet'\n",
    "#rhc_preprocessed_poperties_file='rhc_heat_dstr_preprocessed_properties.parquet'\n",
    "\n",
    "home_BAG_data_file_path = 'buildings_properties_detailed.xlsx'\n",
    "home_boilers_excel_file_path = \"boilers.xlsx\"\n",
    "boiler_returntemp_load_efficiency_file_path = 'boiler_returntemp_load_efficiency.parquet'\n",
    "\n",
    "regime_change_A1_file_path = 'homes_interventions_A1.xlsx'\n",
    "regime_change_B1_file_path = 'homes_interventions_B1.xlsx'\n",
    "\n",
    "# File for intermediate output (including preprocessing that may likely needs to migrate to the GEKKO model code for the what-if simulations)\n",
    "rhc_heat_dstr_preprocessed_poperties_file='rhc_heat_dstr_preprocessed_properties.parquet'\n",
    "\n",
    "rhc_analysis_results_file = 'rhc_results.parquet'\n",
    "rhc_analysis_results_per_period_file = 'rhc_results_per_period.xlsx'\n",
    "\n",
    "import logging \n",
    "\n",
    "# Clear any existing handlers to avoid duplicate logs\n",
    "for handler in logging.root.handlers[:]:\n",
    "    logging.root.removeHandler(handler)\n",
    "\n",
    "# Set up logging to the console only\n",
    "logging.basicConfig(\n",
    "    level=logging.WARNING,  # Adjust log level as necessary (DEBUG, INFO, WARNING, etc.)\n",
    "    # level=logging.INFO,  # Adjust log level as necessary (DEBUG, INFO, WARNING, etc.)\n",
    "    # level=logging.DEBUG,  # Adjust log level as necessary (DEBUG, INFO, WARNING, etc.)\n",
    "    stream=sys.stderr,    # Send logs to stdout (you can also use sys.stderr if needed)\n",
    "    format='%(asctime)s - %(name)s - %(levelname)s - %(message)s',\n",
    ")"
   ]
  },
  {
   "cell_type": "markdown",
   "id": "67602115-22ca-4ea5-a6ee-58d851205533",
   "metadata": {},
   "source": [
    "### Reading preprocessed interpolated properties from a parquet file"
   ]
  },
  {
   "cell_type": "code",
   "execution_count": null,
   "id": "b8547a2a-b7cd-465a-a94d-a5bf10c88ea7",
   "metadata": {},
   "outputs": [],
   "source": [
    "%%time\n",
    "\n",
    "# Attempt to read the Parquet file\n",
    "try:\n",
    "    df_prep = pd.read_parquet(\n",
    "        rhc_preprocessed_poperties_file, \n",
    "        engine='pyarrow',\n",
    "        dtype_backend='numpy_nullable'\n",
    "        )\n",
    "    print(\"File was successfully read without specifying compression codec.\")\n",
    "except Exception as e:\n",
    "    print(f\"Error reading file: {e}\")"
   ]
  },
  {
   "cell_type": "code",
   "execution_count": null,
   "id": "25260ecc-713e-4436-a9ec-43090f878782",
   "metadata": {},
   "outputs": [],
   "source": [
    "#sorting the DataFrame index is needed to get good performance on certain filters\n",
    "#this guarding code to check whether DataFrames are properly sorted\n",
    "if not df_prep.index.is_monotonic_increasing:\n",
    "    print('df needed index sorting')\n",
    "    df_prep = df_prep.sort_index()  "
   ]
  },
  {
   "cell_type": "code",
   "execution_count": null,
   "id": "eda4ab11-d12c-4241-b820-9eea541fd35b",
   "metadata": {},
   "outputs": [],
   "source": [
    "print(f\"df_prep.count().sum(): {df_prep.count().sum():_}\")"
   ]
  },
  {
   "cell_type": "code",
   "execution_count": null,
   "id": "a7fd00c9-b0fa-470f-a99b-0afd761f86ee",
   "metadata": {},
   "outputs": [],
   "source": [
    "df_prep.info()"
   ]
  },
  {
   "cell_type": "code",
   "execution_count": null,
   "id": "d28413c4-b0dc-449a-a6cc-b8baf19f91d3",
   "metadata": {},
   "outputs": [],
   "source": [
    "sorted(df_prep.columns.to_list())"
   ]
  },
  {
   "cell_type": "code",
   "execution_count": null,
   "id": "b57fe0ff-48de-4dce-bdb0-a23f3ac5ea06",
   "metadata": {
    "tags": []
   },
   "outputs": [],
   "source": [
    "# visuaize all input data\n",
    "df_plot = df_prep"
   ]
  },
  {
   "cell_type": "code",
   "execution_count": null,
   "id": "bc10153f-5b47-48ed-bc6e-9d3af88e73a7",
   "metadata": {},
   "outputs": [],
   "source": [
    "list(df_plot.index.unique('id').dropna())"
   ]
  },
  {
   "cell_type": "code",
   "execution_count": null,
   "id": "250ab28c-cd29-4b25-9038-cddf64659890",
   "metadata": {},
   "outputs": [],
   "source": [
    "df_plot.index.unique('id').dropna()"
   ]
  },
  {
   "cell_type": "code",
   "execution_count": null,
   "id": "bc2733e2-8ee7-4fe8-9673-79fbd99d1b68",
   "metadata": {},
   "outputs": [],
   "source": [
    "# df_plot.loc[[401632]][[prop for prop in df_plot.columns.values if prop.split('__')[-1] in ('degC', 'W', '0', 'bool', 'ppm', 'W_m_2')]]"
   ]
  },
  {
   "cell_type": "code",
   "execution_count": null,
   "id": "2584f526-caa6-4978-8dec-09e737ba3648",
   "metadata": {
    "tags": []
   },
   "outputs": [],
   "source": [
    "#Plot all properties from all sources for all ids\n",
    "#Plot.dataframe_preprocessed_plot(df_plot.loc[[401632]][[prop for prop in df_plot.columns.values if prop.split('__')[-1] in ('degC', 'ppm', 'W_m_2')]], units_to_mathtext)"
   ]
  },
  {
   "cell_type": "code",
   "execution_count": null,
   "id": "745a29cd-4502-48c6-85f7-774c7fedb3da",
   "metadata": {},
   "outputs": [],
   "source": [
    "mandatory_sourceprops =  ['batch_import_KNMI_temp_outdoor__degC', \n",
    "                          'batch_import_KNMI_sol_ghi__W_m_2',\n",
    "                          'batch_import_KNMI_wind__m_s_1',\n",
    "                          'batch_import_KNMI_air_outdoor__Pa',\n",
    "                          'batch_import_remeha_temp_indoor__degC',\n",
    "                          'batch_import_remeha_temp_ret__degC',\n",
    "                          'batch_import_remeha_temp_flow__degC',\n",
    "                          'batch_import_remeha_fan_rotations__min_1',\n",
    "                          'batch_import_EDSN_actual_gas_std_hhv__J_m_3',\n",
    "                          # 'device_p1-reader_g_use_cum__m3'\n",
    "                         ]"
   ]
  },
  {
   "cell_type": "code",
   "execution_count": null,
   "id": "8e239a19-398a-4c5e-bfec-a7e8e57e9b53",
   "metadata": {},
   "outputs": [],
   "source": [
    "Plot.plot_missing_data_overview(df_prep, properties_include=mandatory_sourceprops, freq='1W', title_fontsize=8)"
   ]
  },
  {
   "cell_type": "markdown",
   "id": "7dbc9ea1-4a4c-4adf-a52d-a10a6adc2ed4",
   "metadata": {},
   "source": [
    "# Calculate additional properties \n",
    "We may have to move some of these calculations to inside the GEKKO Python model code (e.g. for the what-if scenario simulation)"
   ]
  },
  {
   "cell_type": "markdown",
   "id": "ec7e923b-0716-48f3-a944-ff4e41620e40",
   "metadata": {},
   "source": [
    "## Calculate calculated_comfortable__bool"
   ]
  },
  {
   "cell_type": "code",
   "execution_count": null,
   "id": "1d4eccf9-c228-4516-8f0d-85ae07fd45d6",
   "metadata": {},
   "outputs": [],
   "source": [
    "%%time\n",
    "%autoreload 2\n",
    "# initially, we do not use occupancy yet\n",
    "df_prep.loc[:,'calculated_comfortable__bool'] = Comfort.is_comfortable(\n",
    "    df_prep['batch_import_remeha_temp_indoor__degC'], \n",
    "    df_prep['batch_import_remeha_temp_set__degC'], \n",
    "    target_ppd__pct=10, \n",
    "    # occupancy__bool=(df_prep['device_living_room_occupancy__p'] > 0)\n",
    ")"
   ]
  },
  {
   "cell_type": "code",
   "execution_count": null,
   "id": "fa296237-687c-4e81-b4be-fa7e412a0f5c",
   "metadata": {},
   "outputs": [],
   "source": [
    "# Get an overview of True, False, and NaN values\n",
    "df_prep['calculated_comfortable__bool'].value_counts(normalize=True, dropna=False).to_frame().T"
   ]
  },
  {
   "cell_type": "code",
   "execution_count": null,
   "id": "0b01b4e8-2aaa-4e0b-bbbd-5fab1795bc5d",
   "metadata": {},
   "outputs": [],
   "source": [
    "# Get an overview of True, False, and NaN values\n",
    "df_prep['calculated_comfortable__bool'].value_counts(normalize=True, dropna=False).to_frame().T"
   ]
  },
  {
   "cell_type": "code",
   "execution_count": null,
   "id": "a64da17a-a045-4086-a249-c0e73b8d6c6c",
   "metadata": {},
   "outputs": [],
   "source": [
    "# Get an overview of True, False, and NaN values\n",
    "df_prep['calculated_comfortable__bool'].groupby('id').value_counts(normalize=True, dropna=False).to_frame().unstack().T"
   ]
  },
  {
   "cell_type": "markdown",
   "id": "f5990edf-a5c1-4958-9475-792e7f6fc296",
   "metadata": {},
   "source": [
    "## Use boiler-specific efficiency to calculate heat_ch__W"
   ]
  },
  {
   "cell_type": "markdown",
   "id": "af2b5c37-3ce3-4bb2-86ac-dfc6d2c0c2a7",
   "metadata": {},
   "source": [
    "### Reading boiler efficiency data"
   ]
  },
  {
   "cell_type": "code",
   "execution_count": null,
   "id": "b10db8de-48fd-4079-9404-2b81233ab9a7",
   "metadata": {},
   "outputs": [],
   "source": [
    "%%time\n",
    "# Attempt to read the Parquet file\n",
    "try:\n",
    "    df_boiler_efficiency = pd.read_parquet(\n",
    "        # boiler_returntemp_efficiency_file_path, \n",
    "        boiler_returntemp_load_efficiency_file_path, \n",
    "        engine='pyarrow',\n",
    "        dtype_backend='numpy_nullable'\n",
    "        )\n",
    "    print(\"File was successfully read without specifying compression codec.\")\n",
    "except Exception as e:\n",
    "    print(f\"Error reading file: {e}\")"
   ]
  },
  {
   "cell_type": "code",
   "execution_count": null,
   "id": "c9fb9ed0-ba1f-43cd-97c8-550edf244578",
   "metadata": {},
   "outputs": [],
   "source": [
    "df_boiler_efficiency"
   ]
  },
  {
   "cell_type": "markdown",
   "id": "9dba51d4-7fbe-423a-b99a-d698b951b5dc",
   "metadata": {},
   "source": [
    "### Lookup of momentary boiler efficiency from boiler-specific efficiency curves"
   ]
  },
  {
   "cell_type": "code",
   "execution_count": null,
   "id": "c277ca5f-4dbf-4ec4-aa1b-a01691d90bbb",
   "metadata": {},
   "outputs": [],
   "source": [
    "# Derive brand-specific min and max for load and return temperature\n",
    "brand_specific_ranges = df_boiler_efficiency.reset_index().groupby('brand_model').agg({\n",
    "    'rounded_load__%': ['min', 'max'],\n",
    "    'rounded_temp_ret__degC': ['min', 'max']\n",
    "})"
   ]
  },
  {
   "cell_type": "code",
   "execution_count": null,
   "id": "046475b5-96ca-4a5b-869a-2a083dd86c8e",
   "metadata": {},
   "outputs": [],
   "source": [
    "# Rename columns for clarity\n",
    "brand_specific_ranges.columns = ['min_load__%', 'max_load__%', 'min_temp_ret__degC', 'max_temp_ret__degC']"
   ]
  },
  {
   "cell_type": "code",
   "execution_count": null,
   "id": "04cf9a5d-1859-4f03-807c-b21dccf17176",
   "metadata": {},
   "outputs": [],
   "source": [
    "brand_specific_ranges"
   ]
  },
  {
   "cell_type": "code",
   "execution_count": null,
   "id": "7705e165-01b0-45e0-a5f9-3b8c98d74281",
   "metadata": {},
   "outputs": [],
   "source": [
    "%%time\n",
    "# Merge df_prep with brand_specific_ranges to get the min/max values for each brand_model\n",
    "df_prep = (df_prep\n",
    "           .reset_index()\n",
    "           .merge(brand_specific_ranges, on='brand_model', how='left')\n",
    "           .set_index(['id', 'timestamp'])\n",
    "           .sort_index())"
   ]
  },
  {
   "cell_type": "code",
   "execution_count": null,
   "id": "bce48ebd-f75b-4a80-899e-72ce9d83bad0",
   "metadata": {},
   "outputs": [],
   "source": [
    "%%time\n",
    "# Round return temperatures to whole degrees\n",
    "df_prep['rounded_temp_ret__degC'] = (df_prep['batch_import_remeha_temp_ret__degC']\n",
    "                                     .round()\n",
    "                                     .clip(lower=df_prep['min_temp_ret__degC'], upper=df_prep['max_temp_ret__degC'])\n",
    "                                     .astype('Int8')\n",
    "                                    )\n"
   ]
  },
  {
   "cell_type": "code",
   "execution_count": null,
   "id": "c9c9d5a9-c6e9-464f-864f-aa97c6f59892",
   "metadata": {},
   "outputs": [],
   "source": [
    "%%time\n",
    "df_prep.loc[:,'rounded_load__%'] = (\n",
    "    (df_prep['calculated_fan_frac__0'] + (1 - df_prep['calculated_fan_frac__0']) * df_prep['Qnh_min_lhv__kW'] / df_prep['Qnh_max_lhv__kW'])\n",
    "    * 100\n",
    "    * df_prep['batch_import_remeha_gas_valve_open__bool'] # make sure load = 0 when gas valve is closed\n",
    ").round().clip(lower=df_prep['min_load__%'], upper=df_prep['max_load__%']).astype('Int16')"
   ]
  },
  {
   "cell_type": "code",
   "execution_count": null,
   "id": "74f06b95-2045-4b72-b83b-d6884196c418",
   "metadata": {},
   "outputs": [],
   "source": [
    "%%time\n",
    "# Merging DataFrames\n",
    "df_prep = (df_prep\n",
    "           .reset_index()\n",
    "           .merge(df_boiler_efficiency.reset_index(),\n",
    "                  on=['brand_model', 'rounded_load__%', 'rounded_temp_ret__degC'], \n",
    "                  how='left'\n",
    "                  )\n",
    "           .set_index(['id', 'timestamp'])\n",
    "           .sort_index()\n",
    "          )  \n"
   ]
  },
  {
   "cell_type": "markdown",
   "id": "de508b17-194e-4a9f-8ecb-850083cd4ea0",
   "metadata": {},
   "source": [
    "### Calculate heat_ch__W"
   ]
  },
  {
   "cell_type": "code",
   "execution_count": null,
   "id": "3b5f8189-756d-41fb-9807-254dd95f8651",
   "metadata": {},
   "outputs": [],
   "source": [
    "%%time\n",
    "df_prep.loc[:,'calculated_heat_ch__W'] = df_prep['calculated_g_use_ch_hhv__W'] * df_prep['eta_ch_hhv__W0']"
   ]
  },
  {
   "cell_type": "markdown",
   "id": "7c719d24-8aaf-455c-be89-17517959acf8",
   "metadata": {},
   "source": [
    "### Calculate flow_dstr__dm3_min_1"
   ]
  },
  {
   "cell_type": "code",
   "execution_count": null,
   "id": "c7c8d1ab-fe28-4b09-975d-450b02849416",
   "metadata": {},
   "outputs": [],
   "source": [
    "water__kg_m_3 = 994 # Approximation of the density of water at 34°C calculated using CoolProp and an average of all observed supply and return temperatures for central heating"
   ]
  },
  {
   "cell_type": "code",
   "execution_count": null,
   "id": "e11acc5f-c726-4ef5-876b-13d3e1b23e3b",
   "metadata": {},
   "outputs": [],
   "source": [
    "%%time\n",
    "# Calculate the temperature difference\n",
    "temp_diff = df_prep['batch_import_remeha_temp_flow_ch__degC'] - df_prep['batch_import_remeha_temp_ret_ch__degC']"
   ]
  },
  {
   "cell_type": "code",
   "execution_count": null,
   "id": "5065dd56-c347-4a0e-ab91-692d4f36186b",
   "metadata": {},
   "outputs": [],
   "source": [
    "# Use np.where to conditionally replace results based on the temperature difference\n",
    "df_prep.loc[:, 'calculated_flow_dstr__dm3_min_1'] = np.where(\n",
    "    (temp_diff == 0) | pd.isna(temp_diff),  # Check if the temperature difference is zero or NA\n",
    "    np.nan,  # Use np.nan for missing values\n",
    "    (\n",
    "        df_prep['calculated_heat_ch__W']\n",
    "        / (\n",
    "            water__J_kg_1_K_1 \n",
    "            * temp_diff\n",
    "            * water__kg_m_3\n",
    "        )\n",
    "        * dm3_m_3\n",
    "        * s_min_1\n",
    "    )\n",
    ")"
   ]
  },
  {
   "cell_type": "code",
   "execution_count": null,
   "id": "0f37a963-aa7b-4e36-a637-bdd7cc3492af",
   "metadata": {},
   "outputs": [],
   "source": [
    "# Clipping the calculated flow values, based on maximum flow of 6.5 [m³/h] \n",
    "# (Grundfos UPM4 15-75, UPM4S 15-60; Wilo Yonos Para MS/6B-PWM1, Yonos Para MS/78-PWM1)\n",
    "flow_ch_max__dm3_min_1 = 6.5 * dm3_m_3 / min_h_1\n",
    "df_prep['calculated_flow_dstr__dm3_min_1'] = df_prep['calculated_flow_dstr__dm3_min_1'].clip(lower=0, upper=flow_ch_max__dm3_min_1).astype('float32')"
   ]
  },
  {
   "cell_type": "code",
   "execution_count": null,
   "id": "96fef5e5-5897-47a3-bb78-e89da9586073",
   "metadata": {},
   "outputs": [],
   "source": [
    "df_prep['calculated_flow_dstr__dm3_min_1'].describe()"
   ]
  },
  {
   "cell_type": "code",
   "execution_count": null,
   "id": "f30753c4-ccfd-4fde-85e1-b3e6eeaffde5",
   "metadata": {},
   "outputs": [],
   "source": [
    "%matplotlib inline\n",
    "%matplotlib widget\n",
    "prop = 'batch_import_remeha_temp_outdoor__degC'\n",
    "df_prep[prop].plot.hist(bins=200, alpha=0.5, title = prop)\n"
   ]
  },
  {
   "cell_type": "code",
   "execution_count": null,
   "id": "335d2b21-2d0e-4ea1-9b01-13ee4cc4b407",
   "metadata": {},
   "outputs": [],
   "source": [
    "%matplotlib inline\n",
    "%matplotlib widget\n",
    "prop = 'calculated_flow_dstr__dm3_min_1'\n",
    "df_prep[prop].plot.hist(bins=200, alpha=0.5, title = prop)\n"
   ]
  },
  {
   "cell_type": "markdown",
   "id": "486add66-4539-4e1d-9e7a-0f0c9bc20f67",
   "metadata": {},
   "source": [
    "## Inspect results "
   ]
  },
  {
   "cell_type": "code",
   "execution_count": null,
   "id": "499f7a03-ec58-415d-a892-0542f2bbbaec",
   "metadata": {
    "scrolled": true
   },
   "outputs": [],
   "source": [
    "sorted(list(df_prep.columns))"
   ]
  },
  {
   "cell_type": "code",
   "execution_count": null,
   "id": "1241e89f-5230-4970-bb9c-0cc9ee92dc6a",
   "metadata": {},
   "outputs": [],
   "source": [
    "df_prep[['batch_import_remeha_flow_dstr_pump_speed__%',\n",
    "         'calculated_flow_dstr__dm3_min_1',\n",
    "         'batch_import_remeha_temp_flow__degC',\n",
    "         'batch_import_remeha_temp_flow_ch__degC',\n",
    "         'batch_import_remeha_temp_ret__degC',\n",
    "         'batch_import_remeha_temp_ret_ch__degC',\n",
    "         'calculated_heat_ch__W',\n",
    "         'calculated_flow_dstr__dm3_min_1',\n",
    "         'batch_import_remeha_dhw_flow__l_min_1'\n",
    "        ]].describe()"
   ]
  },
  {
   "cell_type": "code",
   "execution_count": null,
   "id": "2c0f1055-3acb-4480-8988-f9bcf057a2b6",
   "metadata": {},
   "outputs": [],
   "source": [
    "df_prep[['batch_import_remeha_flow_dstr_pump_speed__%',\n",
    "         'batch_import_remeha_temp_flow__degC',\n",
    "         'batch_import_remeha_temp_flow_ch__degC',\n",
    "         'batch_import_remeha_temp_ret__degC',\n",
    "         'batch_import_remeha_temp_ret_ch__degC',\n",
    "         'calculated_flow_dstr__dm3_min_1',\n",
    "         'batch_import_remeha_dhw_flow__l_min_1'\n",
    "        ]].groupby('id').count().T"
   ]
  },
  {
   "cell_type": "code",
   "execution_count": null,
   "id": "dd0fda48-4033-401e-9378-9f33c8d02f32",
   "metadata": {},
   "outputs": [],
   "source": [
    "# Create masks\n",
    "boiler_burning_mask = ((df_prep['batch_import_remeha_boiler_status_burning_ch__bool'] == True) | (df_prep['batch_import_remeha_boiler_status_burning_dhw__bool'] == True)) & (df_prep['batch_import_remeha_gas_valve_open__bool'] == True)\n",
    "boiler_ch_mask = (df_prep['batch_import_remeha_boiler_status_burning_ch__bool'] == True) & (df_prep['batch_import_remeha_gas_valve_open__bool'] == True)\n",
    "boiler_dhw_mask = (df_prep['batch_import_remeha_boiler_status_burning_dhw__bool'] == True) & (df_prep['batch_import_remeha_gas_valve_open__bool'] == True)\n",
    "remeha_data_notna_mask = (df_prep['batch_import_remeha_temp_indoor__degC'].notna()) & (df_prep['device_p1-reader_g_use_hhv__W'].notna())\n",
    "boiler_valve_closed_mask = (df_prep['batch_import_remeha_temp_indoor__degC'].notna()) & (df_prep['batch_import_remeha_gas_valve_closed__bool'] == True)"
   ]
  },
  {
   "cell_type": "code",
   "execution_count": null,
   "id": "40372771-67ff-437d-9e41-1947010215c6",
   "metadata": {},
   "outputs": [],
   "source": [
    "# Select mask\n",
    "boiler_status_mask = remeha_data_notna_mask \n"
   ]
  },
  {
   "cell_type": "markdown",
   "id": "e90c46d9-0e5e-4999-b48d-a8b674d56d61",
   "metadata": {},
   "source": [
    "### Inspecting gas power used by boiler based on fan speed [rpm]"
   ]
  },
  {
   "cell_type": "code",
   "execution_count": null,
   "id": "72f6627d-1e02-4506-98f4-6ebe0c17343b",
   "metadata": {},
   "outputs": [],
   "source": [
    "df_prep[boiler_status_mask]['calculated_fan_frac__0'].mean()"
   ]
  },
  {
   "cell_type": "code",
   "execution_count": null,
   "id": "9ef988de-9c72-48c5-9b14-5666a99bbcbd",
   "metadata": {},
   "outputs": [],
   "source": [
    "average_gas_std_hhv__MJ_mm_3 = df_prep[boiler_status_mask]['batch_import_EDSN_actual_gas_std_hhv__J_m_3'].mean() / 1e6\n",
    "average_gas_std_hhv__MJ_mm_3\n"
   ]
  },
  {
   "cell_type": "code",
   "execution_count": null,
   "id": "efe49e76-2275-4d4d-b7b1-9d059e76ee8f",
   "metadata": {},
   "outputs": [],
   "source": [
    "(df_prep[boiler_status_mask]['batch_import_EDSN_actual_gas_std_hhv__J_m_3'] * df_prep[boiler_status_mask]['calculated_g_use_boiler_hhv__W']).sum() / df_prep[boiler_status_mask]['calculated_g_use_boiler_hhv__W'].sum() / 1e6\n",
    "\n"
   ]
  },
  {
   "cell_type": "code",
   "execution_count": null,
   "id": "b1889281-750b-45db-a421-c021ab7b9539",
   "metadata": {},
   "outputs": [],
   "source": [
    "df_prep[boiler_status_mask]['calculated_g25_3_use_boiler_lhv__W'].mean()"
   ]
  },
  {
   "cell_type": "code",
   "execution_count": null,
   "id": "9275cd08-61c2-43f6-a311-d024c86db2bc",
   "metadata": {
    "scrolled": true
   },
   "outputs": [],
   "source": [
    "df_prep[boiler_status_mask]['gas_calorific_factor_g25_3_lhv_to_actual_hhv__J0'].mean()                                           "
   ]
  },
  {
   "cell_type": "code",
   "execution_count": null,
   "id": "b20c0c70-6fd4-42d9-ab7b-733b3a64e914",
   "metadata": {},
   "outputs": [],
   "source": [
    "df_prep[boiler_status_mask]['gas_pressure_factor_ref_to_actual__J0'].mean()                                           "
   ]
  },
  {
   "cell_type": "code",
   "execution_count": null,
   "id": "59817ed9-27ce-425c-a3e3-ab243d4e610f",
   "metadata": {},
   "outputs": [],
   "source": [
    "df_prep[boiler_status_mask]['gas_temp_factor_ref_to_actual__J0'].mean()                                           "
   ]
  },
  {
   "cell_type": "code",
   "execution_count": null,
   "id": "42bac316-b8f0-4540-9301-08685371a5bb",
   "metadata": {},
   "outputs": [],
   "source": [
    "conversion_factor_boiler = (\n",
    "    df_prep[boiler_status_mask]['gas_calorific_factor_g25_3_lhv_to_actual_hhv__J0'].mean()\n",
    "    * df_prep[boiler_status_mask]['gas_pressure_factor_ref_to_actual__J0'].mean()\n",
    "    * df_prep[boiler_status_mask]['gas_temp_factor_ref_to_actual__J0'].mean()\n",
    ")\n",
    "conversion_factor_boiler"
   ]
  },
  {
   "cell_type": "code",
   "execution_count": null,
   "id": "9f9f0ed1-49ad-415c-9c7d-5de73f39fd46",
   "metadata": {},
   "outputs": [],
   "source": [
    "average_gas_boiler__W = df_prep[boiler_status_mask]['calculated_g_use_boiler_hhv__W'].mean()                              \n",
    "average_gas_boiler__W"
   ]
  },
  {
   "cell_type": "markdown",
   "id": "b7eacfbe-afc4-491a-9cda-bf028ff1df5d",
   "metadata": {},
   "source": [
    "### Inspecting gas power based used by home, based on smart meter measurements"
   ]
  },
  {
   "cell_type": "code",
   "execution_count": null,
   "id": "9df4cfb1-35d5-4fbf-b50e-04b3ee59fd6d",
   "metadata": {},
   "outputs": [],
   "source": [
    "df_prep[boiler_status_mask]['device_p1-reader_g_use_hhv__W'].mean()"
   ]
  },
  {
   "cell_type": "code",
   "execution_count": null,
   "id": "30dfabc7-9561-4aa8-9f5e-388b23d7f30d",
   "metadata": {},
   "outputs": [],
   "source": [
    "df_prep[boiler_status_mask]['gas_calorific_factor_groningen_hhv_to_actual_hhv__J0'].mean()"
   ]
  },
  {
   "cell_type": "code",
   "execution_count": null,
   "id": "331933ca-c8cc-4af1-a690-bff40f7a5cf2",
   "metadata": {},
   "outputs": [],
   "source": [
    "df_prep[boiler_status_mask]['gas_calorific_factor_groningen_hhv_to_actual_hhv__J0'].mean()"
   ]
  },
  {
   "cell_type": "code",
   "execution_count": null,
   "id": "1c0d5cb0-af57-474d-82e7-208c33eee24f",
   "metadata": {},
   "outputs": [],
   "source": [
    "df_prep[boiler_status_mask]['gas_pressure_factor_correct_smart_meter_to_actual__J0'].mean()"
   ]
  },
  {
   "cell_type": "code",
   "execution_count": null,
   "id": "6dc253b4-28de-4a82-aa33-3f639b6ad9d7",
   "metadata": {},
   "outputs": [],
   "source": [
    "conversion_factor_smart_meter = (\n",
    "    df_prep[boiler_status_mask]['gas_calorific_factor_groningen_hhv_to_actual_hhv__J0'].mean()\n",
    "    * df_prep[boiler_status_mask]['gas_pressure_factor_correct_smart_meter_to_actual__J0'].mean()\n",
    ")\n",
    "conversion_factor_smart_meter"
   ]
  },
  {
   "cell_type": "code",
   "execution_count": null,
   "id": "098be277-4eff-4725-aa15-3b8a530d97f2",
   "metadata": {},
   "outputs": [],
   "source": [
    "average_gas_smart_meter__W = df_prep[boiler_status_mask]['calculated_g_use_hhv__W'].mean()\n",
    "average_gas_smart_meter__W"
   ]
  },
  {
   "cell_type": "markdown",
   "id": "a00610ca-1114-48c3-88a2-ff0be4d59a6f",
   "metadata": {},
   "source": [
    "### Inspecting gas power based used by boiler, based on boiler counters"
   ]
  },
  {
   "cell_type": "code",
   "execution_count": null,
   "id": "69cce609-864e-4dfe-be1e-1542e508d616",
   "metadata": {},
   "outputs": [],
   "source": [
    "average_gas_input_bdr_energy_counter_ch_lhv__W = df_prep[boiler_status_mask]['batch_import_remeha_g_use_ch_lhv__W'].mean()                              \n",
    "average_gas_input_bdr_energy_counter_ch_lhv__W"
   ]
  },
  {
   "cell_type": "code",
   "execution_count": null,
   "id": "8bb7203d-d93f-4e7c-8a92-1e2ec04cad6a",
   "metadata": {},
   "outputs": [],
   "source": [
    "df_prep[boiler_status_mask]['calculated_remeha_g_use_ch_hhv__W'].mean()"
   ]
  },
  {
   "cell_type": "code",
   "execution_count": null,
   "id": "b583e2a1-6295-48c1-9b84-c9756476466a",
   "metadata": {},
   "outputs": [],
   "source": [
    "average_gas_input_bdr_energy_counter_dhw_lhv__W = df_prep[boiler_status_mask]['batch_import_remeha_g_use_dhw_lhv__W'].mean()                              \n",
    "average_gas_input_bdr_energy_counter_dhw_lhv__W"
   ]
  },
  {
   "cell_type": "code",
   "execution_count": null,
   "id": "e021aa97-878b-4d33-abda-33c8595b5ba8",
   "metadata": {},
   "outputs": [],
   "source": [
    "df_prep[boiler_status_mask]['calculated_remeha_g_use_dhw_hhv__W'].mean()"
   ]
  },
  {
   "cell_type": "code",
   "execution_count": null,
   "id": "321e9a53-c50e-4bd7-853c-40ba8d7e869a",
   "metadata": {},
   "outputs": [],
   "source": [
    "average_gas_input_bdr_energy_counter_lhv__W = (average_gas_input_bdr_energy_counter_ch_lhv__W +  average_gas_input_bdr_energy_counter_dhw_lhv__W) \n",
    "average_gas_input_bdr_energy_counter_lhv__W"
   ]
  },
  {
   "cell_type": "code",
   "execution_count": null,
   "id": "81e45cb5-ab4a-479c-b8e2-75e433f9a402",
   "metadata": {},
   "outputs": [],
   "source": [
    "average_gas_input_bdr_energy_counter__W = df_prep[boiler_status_mask]['calculated_remeha_g_use_ch_hhv__W'].mean() + df_prep[boiler_status_mask]['calculated_remeha_g_use_dhw_hhv__W'].mean()\n",
    "average_gas_input_bdr_energy_counter__W"
   ]
  },
  {
   "cell_type": "markdown",
   "id": "cf28f370-426c-4ad3-b61b-d3bd2d01f6ef",
   "metadata": {},
   "source": [
    "#### Inspecting boiler counters while valve is closed"
   ]
  },
  {
   "cell_type": "code",
   "execution_count": null,
   "id": "3d92ac04-8d99-4626-a325-a897f22f91cb",
   "metadata": {},
   "outputs": [],
   "source": [
    "df_prep[boiler_valve_closed_mask][[\n",
    "    'batch_import_remeha_fan_rotations__min_1',\n",
    "    'batch_import_remeha_g_use_ch_lhv__W',\n",
    "    'batch_import_remeha_g_use_dhw_lhv__W',\n",
    "    'calculated_remeha_g_use_ch_hhv__W',\n",
    "    'calculated_remeha_g_use_dhw_hhv__W',\n",
    "]].describe().T   "
   ]
  },
  {
   "cell_type": "markdown",
   "id": "259343d6-c560-46d5-b918-f8c949953bfb",
   "metadata": {},
   "source": [
    "### Compare gas power calculated in various ways"
   ]
  },
  {
   "cell_type": "code",
   "execution_count": null,
   "id": "2daecb61-b91a-4825-b6ff-8546d4beb93f",
   "metadata": {},
   "outputs": [],
   "source": [
    "average_gas_smart_meter__W - average_gas_boiler__W"
   ]
  },
  {
   "cell_type": "code",
   "execution_count": null,
   "id": "897feb3c-9f81-422d-a05d-f87bc22dea00",
   "metadata": {},
   "outputs": [],
   "source": [
    "average_gas_boiler__W / average_gas_smart_meter__W"
   ]
  },
  {
   "cell_type": "code",
   "execution_count": null,
   "id": "cb91eaea-c53f-47c4-9f71-051037d76e2a",
   "metadata": {},
   "outputs": [],
   "source": [
    "average_gas_boiler__W / average_gas_input_bdr_energy_counter__W"
   ]
  },
  {
   "cell_type": "code",
   "execution_count": null,
   "id": "59866e26-c08d-43c6-a14e-9b5858c7e7eb",
   "metadata": {},
   "outputs": [],
   "source": [
    "df_prep[boiler_status_mask].groupby(level='id').agg({\n",
    "    'batch_import_remeha_g_use_ch_lhv__W': ['mean'],    \n",
    "    'calculated_remeha_g_use_ch_hhv__W': ['mean'],\n",
    "    'calculated_remeha_g_use_dhw_hhv__W': ['mean'],\n",
    "    'calculated_remeha_g_use_hhv__W': ['mean'],\n",
    "    'calculated_g25_3_use_boiler_lhv__W': ['mean'],\n",
    "    'calculated_g_use_ch_hhv__W': ['mean'],\n",
    "    'calculated_g_use_dhw_hhv__W': ['mean'],\n",
    "    'calculated_g_use_boiler_hhv__W': ['mean'],\n",
    "    'calculated_g_use_hhv__W': ['mean'],\n",
    "    'calculated_heat_ch__W': ['mean'],\n",
    "}).T"
   ]
  },
  {
   "cell_type": "code",
   "execution_count": null,
   "id": "65f2021b-f963-4a33-a7a6-a377c8c3b175",
   "metadata": {},
   "outputs": [],
   "source": [
    "df_prep[boiler_status_mask][[\n",
    "    'batch_import_remeha_g_use_ch_lhv_cum__kWh',\n",
    "    'batch_import_remeha_g_use_ch_lhv__W',\n",
    "    'batch_import_remeha_g_use_dhw_lhv_cum__kWh',\n",
    "    'batch_import_remeha_g_use_dhw_lhv__W']\n",
    "].groupby(level='id').describe().T\n",
    " "
   ]
  },
  {
   "cell_type": "code",
   "execution_count": null,
   "id": "8bae7c8b-2dd6-4620-bf52-f7223a3e0a4a",
   "metadata": {},
   "outputs": [],
   "source": [
    "# Group by 'id' and calculate the means\n",
    "df_prep[boiler_status_mask].groupby(level='id').agg({\n",
    "    'batch_import_remeha_temp_flow_ch_max__degC': 'mean',\n",
    "    'batch_import_remeha_temp_flow_ch__degC': 'mean',\n",
    "    'batch_import_remeha_temp_ret_ch__degC': 'mean',\n",
    "    'rounded_temp_ret__degC': 'mean',\n",
    "    'rounded_load__%': 'mean',\n",
    "    'eta_ch_hhv__W0': 'mean',\n",
    "}).sort_values(by='eta_ch_hhv__W0', ascending=False)"
   ]
  },
  {
   "cell_type": "code",
   "execution_count": null,
   "id": "516ec8c8-9be7-4131-bd7e-d703f9376551",
   "metadata": {},
   "outputs": [],
   "source": [
    "df_prep[boiler_ch_mask]['rounded_temp_ret__degC'].mean() "
   ]
  },
  {
   "cell_type": "code",
   "execution_count": null,
   "id": "3b28a822-0bd9-43f0-8f9d-6a6637d46425",
   "metadata": {},
   "outputs": [],
   "source": [
    "df_prep[boiler_ch_mask & (df_prep['rounded_temp_ret__degC'] <30)]['rounded_temp_ret__degC'].count() / df_prep[boiler_ch_mask]['rounded_temp_ret__degC'].count()"
   ]
  },
  {
   "cell_type": "code",
   "execution_count": null,
   "id": "0eecbe67-fd2b-4023-9e55-8789969a8dbb",
   "metadata": {},
   "outputs": [],
   "source": [
    "# average efficiency on higher heating value, NOT weighted by gas input\n",
    "df_prep[boiler_ch_mask]['eta_ch_hhv__W0'].mean() "
   ]
  },
  {
   "cell_type": "code",
   "execution_count": null,
   "id": "1134151d-a409-4f33-a755-159fc56603e1",
   "metadata": {},
   "outputs": [],
   "source": [
    "# average efficiency on higher heating value, weighted by gas input\n",
    "(df_prep.loc[boiler_ch_mask, 'eta_ch_hhv__W0'] * df_prep.loc[boiler_ch_mask, 'calculated_remeha_g_use_hhv__W']).sum() / df_prep.loc[boiler_ch_mask, 'calculated_remeha_g_use_hhv__W'].sum()\n"
   ]
  },
  {
   "cell_type": "code",
   "execution_count": null,
   "id": "9276a9d1-44d2-40b1-be0a-e52c1524a883",
   "metadata": {},
   "outputs": [],
   "source": [
    "df_prep[boiler_ch_mask]['rounded_load__%'].mean() "
   ]
  },
  {
   "cell_type": "code",
   "execution_count": null,
   "id": "53237e02-e734-46cd-9668-4f2fd2b36bfc",
   "metadata": {},
   "outputs": [],
   "source": [
    "df_boiler_efficiency"
   ]
  },
  {
   "cell_type": "code",
   "execution_count": null,
   "id": "e1bf557b-6ba0-4dbc-940d-290ea2485077",
   "metadata": {},
   "outputs": [],
   "source": [
    "# Filter the DataFrame based on boiler_status_mask\n",
    "df_filtered = df_prep.loc[boiler_status_mask]\n",
    "\n",
    "# Group by 'id' and calculate the sum of the relevant columns\n",
    "grouped = df_filtered.groupby('id').agg(\n",
    "    mean_boiler_use=('calculated_g_use_boiler_hhv__W', 'mean'),\n",
    "    mean_smart_meter_use=('calculated_g_use_hhv__W', 'mean'),\n",
    "    dsmr_version=('device_p1-reader_dsmr_version__0', 'first')  # Assuming the DSMR version doesn't change within an id\n",
    ")\n",
    "\n",
    "# Calculate the ratio\n",
    "grouped['ratio'] = grouped['mean_boiler_use'] / grouped['mean_smart_meter_use']"
   ]
  },
  {
   "cell_type": "code",
   "execution_count": null,
   "id": "e1cfe3a9-2c31-4710-b0bd-62e78ee6009e",
   "metadata": {},
   "outputs": [],
   "source": [
    "grouped"
   ]
  },
  {
   "cell_type": "code",
   "execution_count": null,
   "id": "2ec27ec3-e574-4155-a957-a4286613d7bd",
   "metadata": {},
   "outputs": [],
   "source": [
    "# Now, group by DSMR version and calculate the mean ratio for each version\n",
    "version_grouped = grouped.groupby('dsmr_version').agg(\n",
    "    sum_mean_boiler_use=('mean_boiler_use', 'sum'),\n",
    "    sum_mean_smart_meter_use=('mean_smart_meter_use', 'sum'),\n",
    "    mean_ratio=('ratio', 'mean'),\n",
    "    count=('ratio', 'size'))\n",
    "\n",
    "version_grouped['ratio_sums'] =  version_grouped['sum_mean_boiler_use'] / version_grouped['sum_mean_smart_meter_use']\n"
   ]
  },
  {
   "cell_type": "code",
   "execution_count": null,
   "id": "41ff175f-71fa-438a-9641-b8934adfca31",
   "metadata": {},
   "outputs": [],
   "source": [
    "version_grouped"
   ]
  },
  {
   "cell_type": "markdown",
   "id": "e764cee6-475f-4e93-a73b-de838d8f17e4",
   "metadata": {},
   "source": [
    "### Boxplots per home (when boiler is burning for central heating & gas value is open)"
   ]
  },
  {
   "cell_type": "code",
   "execution_count": null,
   "id": "fbb96ea3-ff1d-4c46-bf64-f3b2b248a391",
   "metadata": {},
   "outputs": [],
   "source": [
    "# Group by 'id' and calculate the mean for both 'eta_ch_hhv__W0' and 'batch_import_remeha_temp_ret__degC'\n",
    "df_prep[boiler_ch_mask].groupby(level='id').agg({\n",
    "    'batch_import_remeha_temp_flow_ch_max__degC': 'mean',\n",
    "    'batch_import_remeha_temp_flow__degC': 'mean',\n",
    "    'batch_import_remeha_temp_ret__degC': 'mean',\n",
    "    'rounded_temp_ret__degC': 'mean',\n",
    "    'rounded_load__%': 'mean',\n",
    "    'eta_ch_hhv__W0': 'mean',\n",
    "    'calculated_heat_ch__W': 'max',\n",
    "}).sort_values(by='eta_ch_hhv__W0', ascending=False)"
   ]
  },
  {
   "cell_type": "code",
   "execution_count": null,
   "id": "4857842e-0ca3-4261-8ece-b11b0c109f58",
   "metadata": {},
   "outputs": [],
   "source": [
    "Plot.nfh_property_per_id_boxplot(df_prep[boiler_ch_mask], property_col='rounded_temp_ret__degC')"
   ]
  },
  {
   "cell_type": "code",
   "execution_count": null,
   "id": "06f61765-0576-416a-ae8c-7666f4fd4ab5",
   "metadata": {},
   "outputs": [],
   "source": [
    "Plot.nfh_property_per_id_boxplot(df_prep[boiler_ch_mask], property_col='rounded_load__%')"
   ]
  },
  {
   "cell_type": "code",
   "execution_count": null,
   "id": "3f96329c-c1c1-4b9c-8bff-986664dd1016",
   "metadata": {},
   "outputs": [],
   "source": [
    "Plot.nfh_property_per_id_boxplot(df_prep[boiler_ch_mask], property_col='eta_ch_hhv__W0')"
   ]
  },
  {
   "cell_type": "code",
   "execution_count": null,
   "id": "3ffbfb88-25eb-416b-9743-5116e8075643",
   "metadata": {},
   "outputs": [],
   "source": [
    "Plot.nfh_property_per_id_boxplot(df_prep[boiler_ch_mask], property_col='calculated_heat_ch__W')"
   ]
  },
  {
   "cell_type": "code",
   "execution_count": null,
   "id": "2b319769-0027-4a1d-8249-66946788b5d9",
   "metadata": {},
   "outputs": [],
   "source": [
    "Plot.nfh_property_per_id_boxplot(df_prep[boiler_ch_mask], property_col='batch_import_remeha_temp_flow_ch__degC')"
   ]
  },
  {
   "cell_type": "code",
   "execution_count": null,
   "id": "6a9988aa-9e51-490a-98b9-beaab4db56f5",
   "metadata": {},
   "outputs": [],
   "source": [
    "Plot.nfh_property_per_id_boxplot(df_prep[boiler_ch_mask], property_col='batch_import_remeha_temp_outdoor__degC')"
   ]
  },
  {
   "cell_type": "markdown",
   "id": "86d4b55e-c30d-48ea-8aba-a9f83fb838a2",
   "metadata": {},
   "source": [
    "## Inspect internal heat from electrical energy\n"
   ]
  },
  {
   "cell_type": "code",
   "execution_count": null,
   "id": "8bb4c0f6-ad8f-492a-853e-9bfa8b4091f5",
   "metadata": {},
   "outputs": [],
   "source": [
    "df_prep[['calculated_device_p1-reader_e__W', 'calculated_device_p1-reader_e_use__W', 'calculated_device_p1-reader_e_ret__W']].describe().T"
   ]
  },
  {
   "cell_type": "code",
   "execution_count": null,
   "id": "6a31acd7-be3a-4397-8a34-742b2b65cacb",
   "metadata": {},
   "outputs": [],
   "source": [
    "df_prep[['calculated_device_p1-reader_e__W', 'calculated_device_p1-reader_e_use__W', 'calculated_device_p1-reader_e_ret__W']].groupby('id').describe().T"
   ]
  },
  {
   "cell_type": "code",
   "execution_count": null,
   "id": "4040c14e-0924-4e9b-870f-e508e0671bf8",
   "metadata": {},
   "outputs": [],
   "source": [
    "%%time\n",
    "# Calculate the fraction of time across al homes that net electricity usage is zero (which reaults into a relative 'cooling' effect: the sun is less effectively heating the home)\n",
    "(df_prep['calculated_device_p1-reader_e__W'] < 0).mean()"
   ]
  },
  {
   "cell_type": "code",
   "execution_count": null,
   "id": "9998d099-1bdb-483f-aea6-94fc82ac51f2",
   "metadata": {},
   "outputs": [],
   "source": [
    "%%time\n",
    "# Calculate the fraction of time per home that net electricity usage is zero (which reaults into a relative 'cooling' effect: the sun is less effectively heating the home)\n",
    "df_prep.groupby('id')['calculated_device_p1-reader_e__W'].apply(lambda x: (x < 0).mean())"
   ]
  },
  {
   "cell_type": "markdown",
   "id": "9a0d8967-cc17-47f7-92fe-6863c9f88a61",
   "metadata": {},
   "source": [
    "## Write heat distribution results"
   ]
  },
  {
   "cell_type": "markdown",
   "id": "24ced4f0-4565-4a32-a8dd-3a58204dd976",
   "metadata": {},
   "source": [
    "### Writing heat distribution preprocessing results results to parquet file"
   ]
  },
  {
   "cell_type": "code",
   "execution_count": null,
   "id": "9c3927c3-a174-4376-98d8-52fbcbb76fb8",
   "metadata": {},
   "outputs": [],
   "source": [
    "df_heat_dist = df_prep[['batch_import_KNMI_sol_ghi__W_m_2',\n",
    "                        'batch_import_KNMI_temp_outdoor__degC',\n",
    "                        'batch_import_KNMI_wind__m_s_1',\n",
    "                        'device_p1-reader_g_use_hhv__W',\n",
    "                        'batch_import_remeha_boiler_status_burning_ch__bool',\n",
    "                        'batch_import_remeha_boiler_status_burning_dhw__bool', \n",
    "                        'batch_import_remeha_gas_valve_closed__bool',\n",
    "                        'batch_import_remeha_gas_valve_open__bool',\n",
    "                        'batch_import_remeha_fan_rotations__min_1', \n",
    "                        'batch_import_remeha_flow_dstr_pump_speed__%', \n",
    "                        'batch_import_remeha_g_use_ch_lhv__W',\n",
    "                        'batch_import_remeha_g_use_dhw_lhv__W',\n",
    "                        'batch_import_remeha_temp_set__degC',\n",
    "                        'batch_import_remeha_temp_indoor__degC',\n",
    "                        'device_living_room_calibrated_temp_indoor__degC',\n",
    "                        'batch_import_remeha_temp_flow__degC',\n",
    "                        'batch_import_remeha_temp_ret__degC',\n",
    "                        'batch_import_remeha_temp_flow_ch__degC',\n",
    "                        'batch_import_remeha_temp_ret_ch__degC',\n",
    "                        'batch_import_remeha_temp_flow_ch_max__degC', \n",
    "                        'calculated_g_use_hhv__W',\n",
    "                        'calculated_g_use_boiler_hhv__W',\n",
    "                        'calculated_g_use_dhw_hhv__W',\n",
    "                        'calculated_g_use_ch_hhv__W',\n",
    "                        'eta_ch_hhv__W0',\n",
    "                        'calculated_heat_ch__W',\n",
    "                        'rounded_load__%',\n",
    "                        'rounded_temp_ret__degC',\n",
    "                       ]]"
   ]
  },
  {
   "cell_type": "code",
   "execution_count": null,
   "id": "3b31d206-5506-4c35-94f4-f5a8d5114872",
   "metadata": {},
   "outputs": [],
   "source": [
    "df_heat_dist.info()"
   ]
  },
  {
   "cell_type": "code",
   "execution_count": null,
   "id": "55ecdfe4-f2e7-43b8-a0bb-24e6899f9d7c",
   "metadata": {},
   "outputs": [],
   "source": [
    "# %%time \n",
    "# df_heat_dist.to_parquet(rhc_heat_dstr_preprocessed_poperties_file, index=True, engine='pyarrow')"
   ]
  },
  {
   "cell_type": "markdown",
   "id": "53c0199e-739e-41c6-baaa-f4f89bcaaff6",
   "metadata": {},
   "source": [
    "### Writing heat distribution preprocessing results to multiple zipped CSV files"
   ]
  },
  {
   "cell_type": "code",
   "execution_count": null,
   "id": "9026b78c-6225-49ad-b4c1-f74703aba354",
   "metadata": {},
   "outputs": [],
   "source": [
    "# %%time \n",
    "# # uncomment this entire block of code to enable it \n",
    "# # for home_id in tqdm(df_heat_dist.index.get_level_values('id').unique()[:3]):\n",
    "# # for home_id in tqdm(df_heat_dist.index.get_level_values('id').unique()[3:]):\n",
    "# # for home_id in [483173]:\n",
    "# for home_id in tqdm(df_heat_dist.index.get_level_values('id').unique()):\n",
    "#     df_heat_dist.xs(home_id, drop_level=False).to_csv(\n",
    "#         f'{home_id}_heat_dstr_preprocessed_properties.zip',\n",
    "#         encoding='utf-8',\n",
    "#         compression= dict(method='zip',\n",
    "#                           archive_name=f'{home_id}_heat_dstr_preprocessed_properties.csv'),\n",
    "#         date_format='%Y-%m-%dT%H:%M:%S%z'\n",
    "#     )\n"
   ]
  },
  {
   "cell_type": "markdown",
   "id": "996d4ede-47a5-4b0a-b0cc-213f66a90eb4",
   "metadata": {},
   "source": [
    "## Inspect  return temperatures"
   ]
  },
  {
   "cell_type": "code",
   "execution_count": 7,
   "id": "aa218f9d-4ae8-43ab-b88d-6d15a89e614c",
   "metadata": {},
   "outputs": [],
   "source": [
    "units_to_mathtext = property_types = {\n",
    "    'degC' : r'$°C$',\n",
    "    'ppm' : r'$ppm$',\n",
    "    '0' : r'$[-]$',\n",
    "    'bool': r'$0 = False; 1 = True$',\n",
    "    'p' : r'$persons$',\n",
    "    'W' : r'$W$',\n",
    "    'W_m_2' : r'$W/m^{2}$',\n",
    "    'm_s_1' : r'$m/s$',\n",
    "    'W0' : r'$W^{0}$',\n",
    "    'l_min_1' : r'$L/min$',\n",
    "    'dm3_s_1' : r'$dm^{3}/s$',\n",
    "    '%': '%',\n",
    "}"
   ]
  },
  {
   "cell_type": "code",
   "execution_count": 8,
   "id": "58460792-c0b4-440a-acd1-94386f3fe8b7",
   "metadata": {},
   "outputs": [],
   "source": [
    "# time mask for one week in winter with almost all ids having data\n",
    "returntemp_mask = (\n",
    "    (df_prep.index.get_level_values('id') == 483173)\n",
    "    & \n",
    "    (df_prep.index.get_level_values('timestamp') >= pd.to_datetime('2024-03-04 00:00:00+01:00'))\n",
    "    & \n",
    "    (df_prep.index.get_level_values('timestamp') < pd.to_datetime('2024-03-11 00:00:00+01:00'))\n",
    ")\n"
   ]
  },
  {
   "cell_type": "code",
   "execution_count": 9,
   "id": "1ab26cbf-7a61-42be-bf51-9e14973433f9",
   "metadata": {},
   "outputs": [
    {
     "name": "stderr",
     "output_type": "stream",
     "text": [
      "/opt/conda/lib/python3.11/site-packages/traitlets/traitlets.py:1404: DeprecationWarning: Passing unrecognized arguments to super(Toolbar).__init__().\n",
      "NavigationToolbar2WebAgg.__init__() missing 1 required positional argument: 'canvas'\n",
      "This is deprecated in traitlets 4.2.This error will be raised in a future release of traitlets.\n",
      "  warn(\n"
     ]
    },
    {
     "data": {
      "application/vnd.jupyter.widget-view+json": {
       "model_id": "eb1d069d3acf48a199de45eb0fd8a38f",
       "version_major": 2,
       "version_minor": 0
      },
      "image/png": "[encoded data removed]",
      "text/html": [
       "\n",
       "            <div style=\"display: inline-block;\">\n",
       "                <div class=\"jupyter-widgets widget-label\" style=\"text-align: center;\">\n",
       "                    Figure\n",
       "                </div>\n",
       "                <img src='data:image/png;base64,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' width=640.0/>\n",
       "            </div>\n",
       "        "
      ],
      "text/plain": [
       "Canvas(toolbar=Toolbar(toolitems=[('Home', 'Reset original view', 'home', 'home'), ('Back', 'Back to previous …"
      ]
     },
     "metadata": {},
     "output_type": "display_data"
    }
   ],
   "source": [
    "Plot.dataframe_preprocessed_plot(df_prep[returntemp_mask][['batch_import_remeha_flow_dstr_pump_speed__%',\n",
    "                                                           'batch_import_remeha_temp_flow__degC',\n",
    "                                                           'batch_import_remeha_temp_ret__degC',\n",
    "                                                           'batch_import_remeha_temp_flow_ch__degC',\n",
    "                                                           'batch_import_remeha_temp_ret_ch__degC',\n",
    "                                                           'batch_import_remeha_dhw_flow__l_min_1',\n",
    "                                                           'calculated_g_use_ch_hhv__W',\n",
    "                                                           'calculated_g_use_dhw_hhv__W']\n",
    "                                 ], units_to_mathtext)"
   ]
  },
  {
   "cell_type": "markdown",
   "id": "015029ec-2e18-4966-b97f-444388f22d2b",
   "metadata": {},
   "source": [
    "### Create a mask for data from which heat distribution characteristics can be learned"
   ]
  },
  {
   "cell_type": "code",
   "execution_count": null,
   "id": "c47c1a6a-882f-4fa3-8ed0-b014710011b7",
   "metadata": {},
   "outputs": [],
   "source": [
    "%%time\n",
    "# Define the columns and conditions\n",
    "include_cols = ['batch_import_remeha_boiler_status_burning_ch__bool', 'batch_import_remeha_boiler_status_pump_post_run__bool']\n",
    "exclude_cols = ['batch_import_remeha_boiler_status_burning_dhw__bool']\n",
    "pump_col = 'batch_import_remeha_flow_dstr_pump_speed__%'\n",
    "dhw_flow = 'batch_import_remeha_dhw_flow__l_min_1'\n",
    "\n",
    "# Define n (number of minutes to exclude per streak)\n",
    "n = 5\n",
    "\n",
    "# Step 1: Create the initial mask\n",
    "include_mask = df_prep[include_cols].any(axis=1)  # At least one inclusion column is True\n",
    "exclude_mask = df_prep[exclude_cols].any(axis=1)  # Any exclusion column is True\n",
    "pump_mask = (df_prep[pump_col] > 0) & (df_prep[pump_col] < 100)  # Pump must be on, but not 100% for dhw\n",
    "dhw_not_flow_mask = ~(df_prep[dhw_flow] > 0)\n",
    "\n",
    "# Combine the masks\n",
    "initial_mask = include_mask & ~exclude_mask & pump_mask & dhw_not_flow_mask\n",
    "\n",
    "# Step 2: Ensure streaks are calculated per `id`\n",
    "id_array = df_prep.index.get_level_values('id').to_numpy()  # Extract the `id` level\n",
    "streak_ids = (~initial_mask).cumsum() + (id_array != np.roll(id_array, 1)).cumsum()  # Unique streak IDs per `id`\n",
    "\n",
    "# Step 3: Exclude the first n rows of each streak\n",
    "valid_indices = np.full_like(initial_mask, True)  # Start with all rows as valid"
   ]
  },
  {
   "cell_type": "code",
   "execution_count": null,
   "id": "edd1168d-4941-495a-995c-22c4e403551a",
   "metadata": {},
   "outputs": [],
   "source": [
    "%%time\n",
    "# Create a DataFrame to hold streak_ids and their corresponding indices\n",
    "streak_df = pd.DataFrame({\n",
    "    'streak_ids': streak_ids,\n",
    "    'mask': initial_mask\n",
    "}, index=df_prep.index).reset_index()  # Reset index to make `id` a column\n",
    "\n",
    "# Filter streak_df to include only valid streaks\n",
    "streak_df = streak_df[streak_df['mask']]  # Keep only rows where initial_mask is True\n",
    "\n",
    "# Rank rows within each streak (and id) to determine position within the streak\n",
    "streak_df['rank'] = streak_df.groupby(['id', 'streak_ids']).cumcount()\n",
    "\n",
    "# Identify rows to exclude (rank < n)\n",
    "exclude_streak_rows = streak_df['rank'] < n\n",
    "\n",
    "# Build the final valid_indices mask\n",
    "valid_indices = ~exclude_streak_rows.reindex(index=np.arange(len(df_prep)), fill_value=False).to_numpy()\n",
    "\n",
    "learn_heat_dstr_mask = initial_mask & valid_indices"
   ]
  },
  {
   "cell_type": "code",
   "execution_count": null,
   "id": "6aee014b-6b41-4b16-a865-d11d37f712fc",
   "metadata": {},
   "outputs": [],
   "source": [
    "# Apply the final mask to df_prep\n",
    "df_prep_heat_dstr = df_prep[learn_heat_dstr_mask]"
   ]
  },
  {
   "cell_type": "code",
   "execution_count": null,
   "id": "78c39c65-7225-4589-9002-305f3950f7f0",
   "metadata": {},
   "outputs": [],
   "source": [
    "len(df_prep_heat_dstr)/len(df_prep)"
   ]
  },
  {
   "cell_type": "code",
   "execution_count": null,
   "id": "ebdb7159-794c-4b4b-91d2-76f260a2057b",
   "metadata": {},
   "outputs": [],
   "source": [
    "# time mask for one week in winter with almost all ids having data\n",
    "filtered_returntemp_plot_mask = (\n",
    "    (df_prep_heat_dstr.index.get_level_values('id') == 483173)\n",
    "    & \n",
    "    (df_prep_heat_dstr.index.get_level_values('timestamp') >= pd.to_datetime('2024-03-04 00:00:00+01:00'))\n",
    "    & \n",
    "    (df_prep_heat_dstr.index.get_level_values('timestamp') < pd.to_datetime('2024-03-11 00:00:00+01:00'))\n",
    ")\n"
   ]
  },
  {
   "cell_type": "code",
   "execution_count": null,
   "id": "b65dddea-bc1c-4fa0-8828-8326c6866408",
   "metadata": {},
   "outputs": [],
   "source": [
    "returntemp_plot_columns = ['batch_import_remeha_flow_dstr_pump_speed__%',\n",
    "                           'batch_import_remeha_temp_flow__degC',\n",
    "                           'batch_import_remeha_temp_ret__degC',\n",
    "                           'batch_import_remeha_temp_flow_ch__degC',\n",
    "                           'batch_import_remeha_temp_ret_ch__degC',\n",
    "                           'batch_import_remeha_dhw_flow__l_min_1',\n",
    "                           'calculated_g_use_ch_hhv__W',\n",
    "                           'calculated_g_use_dhw_hhv__W']"
   ]
  },
  {
   "cell_type": "code",
   "execution_count": null,
   "id": "e2242a26-90a6-43bd-9567-d65e3b0f3389",
   "metadata": {},
   "outputs": [],
   "source": [
    "df_prep_heat_dstr[filtered_returntemp_plot_mask][returntemp_plot_columns].describe().T"
   ]
  },
  {
   "cell_type": "code",
   "execution_count": null,
   "id": "6977694a-c084-45dd-839d-03c43d83ada6",
   "metadata": {},
   "outputs": [],
   "source": [
    "Plot.dataframe_preprocessed_plot(df_prep_heat_dstr[filtered_returntemp_plot_mask][returntemp_plot_columns], units_to_mathtext)"
   ]
  },
  {
   "cell_type": "code",
   "execution_count": null,
   "id": "ef63c086-c9f1-4878-8492-a0a26bfeaa1e",
   "metadata": {},
   "outputs": [],
   "source": [
    "df_prep_heat_dstr[returntemp_plot_columns].describe().T"
   ]
  },
  {
   "cell_type": "code",
   "execution_count": null,
   "id": "66dc6f2a-4827-4280-a3ae-b332f317bc12",
   "metadata": {},
   "outputs": [],
   "source": [
    "Plot.dataframe_preprocessed_plot(df_prep_heat_dstr[returntemp_plot_columns], units_to_mathtext)"
   ]
  },
  {
   "cell_type": "markdown",
   "id": "4c1b704c-150a-44c6-a4a7-103a2827f9b5",
   "metadata": {},
   "source": [
    "### Inspect relation between flow_dstr_pump_speed__% and calcualted_flow_ch__dm3_min_1"
   ]
  },
  {
   "cell_type": "code",
   "execution_count": null,
   "id": "7149f89c-dff4-4cb7-91ca-5322a535ee37",
   "metadata": {},
   "outputs": [],
   "source": [
    "df_prep['batch_import_remeha_flow_dstr_pump_speed__%'].describe()"
   ]
  },
  {
   "cell_type": "code",
   "execution_count": null,
   "id": "c51412de-728d-4b26-9e15-bbe63bdac1a0",
   "metadata": {},
   "outputs": [],
   "source": [
    "df_prep[df_prep['batch_import_remeha_boiler_status_burning_dhw__bool']==True]['batch_import_remeha_flow_dstr_pump_speed__%'].describe()"
   ]
  },
  {
   "cell_type": "code",
   "execution_count": null,
   "id": "284578be-62d8-4321-9e95-0fd8904c35fd",
   "metadata": {},
   "outputs": [],
   "source": [
    "%matplotlib inline\n",
    "%matplotlib widget\n",
    "prop = 'batch_import_remeha_flow_dstr_pump_speed__%'\n",
    "df_prep[df_prep['batch_import_remeha_boiler_status_burning_dhw__bool']==True][prop].plot.hist(bins=200, alpha=0.5, title = prop)\n"
   ]
  },
  {
   "cell_type": "code",
   "execution_count": null,
   "id": "d524e98a-57ba-4cff-a4ee-29bc8bf98f34",
   "metadata": {},
   "outputs": [],
   "source": [
    "df_homes_boilers = pd.read_excel(home_boilers_excel_file_path).rename(columns={'pseudonym': 'id'})"
   ]
  },
  {
   "cell_type": "code",
   "execution_count": null,
   "id": "0526e462-72e1-4515-a92d-e7312c2ef0fe",
   "metadata": {},
   "outputs": [],
   "source": [
    "df_homes_boilers = df_homes_boilers.rename(columns={'hydronic_ pump_model': 'hydronic_pump_model'})"
   ]
  },
  {
   "cell_type": "code",
   "execution_count": null,
   "id": "bb3a4f37-701d-49ac-b0ba-3b0e36b4bee1",
   "metadata": {},
   "outputs": [],
   "source": [
    "df_homes_boilers.columns.to_list()"
   ]
  },
  {
   "cell_type": "code",
   "execution_count": null,
   "id": "077aed04-60a4-4d53-b53e-6ad7f7c413d7",
   "metadata": {},
   "outputs": [],
   "source": [
    "%%time\n",
    "# Ensure that the necessary columns exist in both DataFrames\n",
    "columns_to_merge = ['brand_model', 'hydronic_pump_brand', 'hydronic_pump_model']\n",
    "\n",
    "if not all(col in df_homes_boilers.columns for col in columns_to_merge):\n",
    "    print(\"Some required columns are missing in df_homes_boilers!\")\n",
    "else:\n",
    "    # Step 1: Reset the index of df_prep to make brand_model a normal column\n",
    "    df_prep = df_prep.reset_index()  # Resets 'id' and 'timestamp'\n",
    "\n",
    "    # Step 2: Merge df_prep_reset with df_homes_boilers on 'brand_model'\n",
    "    df_prep = pd.merge(\n",
    "        df_prep,              # The DataFrame we're merging into\n",
    "        df_homes_boilers[columns_to_merge],  # Only keeping relevant columns from df_homes_boilers\n",
    "        how='left',                 # Use 'left' join to keep all rows from df_prep\n",
    "        on='brand_model'            # The column to join on\n",
    "    )\n",
    "\n",
    "    # Convert specific object columns to categorical\n",
    "    df_prep['hydronic_pump_brand'] = df_prep['hydronic_pump_brand'].astype('category')\n",
    "    df_prep['hydronic_pump_model'] = df_prep['hydronic_pump_model'].astype('category')\n",
    "\n",
    "    # Step 3: Set the 'id' and 'timestamp' columns back to MultiIndex\n",
    "    df_prep = df_prep.set_index(['id', 'timestamp'])"
   ]
  },
  {
   "cell_type": "code",
   "execution_count": null,
   "id": "ed172b82-3a3b-4ba9-b974-88583e49255a",
   "metadata": {},
   "outputs": [],
   "source": [
    "required_columns = ['batch_import_remeha_flow_dstr_pump_speed__%', 'calculated_flow_dstr__dm3_min_1']\n",
    "# color_by = 'hydronic_pump_brand'\n",
    "color_by = 'hydronic_pump_model'\n",
    "\n",
    "if not all(col in df_prep.columns for col in required_columns):\n",
    "    print(\"Some required columns are missing!\")\n",
    "\n",
    "df_sample = df_prep.sample(n=1000000, random_state=42)\n",
    "\n",
    "plt.figure(figsize=(10, 6))\n",
    "\n",
    "# Create a unique color palette for each brand using matplotlib's colormap\n",
    "brands = df_sample[color_by].cat.categories\n",
    "num_brands = len(brands)\n",
    "\n",
    "# Use a colormap from matplotlib\n",
    "cmap = plt.get_cmap('tab10', num_brands)  # 'tab10' is good for discrete categories\n",
    "\n",
    "# Scatter plot with color based on 'hydronic_pump_brand'\n",
    "for idx, brand in enumerate(brands):\n",
    "    brand_data = df_sample[df_sample[color_by] == brand]\n",
    "    plt.scatter(brand_data['batch_import_remeha_flow_dstr_pump_speed__%'], \n",
    "                brand_data['calculated_flow_dstr__dm3_min_1'], \n",
    "                color=cmap(idx),  # Use the colormap to get the color for the current brand\n",
    "                alpha=0.5, s=1, label=brand)  # Label for legend\n",
    "    \n",
    "plt.title('Scatter plot of Water Pump Speed vs. Calculated Flow (all ids)')\n",
    "plt.xlabel('batch_import_remeha_flow_dstr_pump_speed__%')\n",
    "plt.ylabel('calculated_flow_dstr__dm3_min_1')\n",
    "plt.grid(True)\n",
    "\n",
    "# Add a legend\n",
    "plt.legend(title=color_by, loc='best', markerscale=5)\n",
    "\n",
    "plt.show()"
   ]
  },
  {
   "cell_type": "markdown",
   "id": "bffda6fb-9c44-481d-a187-66704d4544ac",
   "metadata": {
    "tags": []
   },
   "source": [
    "## Learn heat performance signature parameters\n",
    "Most of the heavy lifting is done by the `learn_heat_performance_signature()` function, which again uses the [GEKKO Python](https://machinelearning.byu.edu/) dynamic optimization toolkit."
   ]
  },
  {
   "cell_type": "code",
   "execution_count": null,
   "id": "1aad52f4-39c1-42d5-87c6-6b067b87bb26",
   "metadata": {
    "tags": []
   },
   "outputs": [],
   "source": [
    "# If room metadata is set to None, then learn_home_parameters() will derive the metadata from the ids.\n",
    "%autoreload 2\n",
    "\n",
    "hints = {\n",
    "    'heat_tr_bldng_cond__W_K_1':    heat_tr_bldng_nl_avg__W_K_1,         # specific heat loss of the building via conduction\n",
    "    'th_inert_bldng__h':            th_inert_bldng_nl_avg__h,            # thermal inertia\n",
    "    'aperture_sol__m2':             aperture_sol_nl_avg__m2,             # apparent solar aperture\n",
    "    'wind_chill__K_s_m_1':          wind_chill_nl_avg__K_s_m_1,          # wind chill factor\n",
    "    'aperture_inf__cm2':            aperture_inf_nl_avg__cm2,            # effective infiltration area \n",
    "    'occupancy__p':                 occupancy_nl_avg__p,                 # house occupancy\n",
    "    'heat_int__W_p_1':              heat_int_nl_avg__W_p_1,              # heat gain per occupant\n",
    "    'eta_ch_hhv__W0':               eta_ch_nl_avg_hhv__W0,               # home heating efficiency of a gas boiler (based on higher heating value)\n",
    "    'eta_dhw_hhv__W0':              eta_dhw_nl_avg_hhv__W0,              # domestic hot water efficiency\n",
    "    'frac_remain_dhw__0':           frac_remain_dhw_nl_avg__0,           # fraction of domestic hot water heat contributing to heating the home\n",
    "    'g_use_cooking_hhv__W':         g_use_cooking_nl_avg_hhv__W,         # gas power (higher heating value) for cooking \n",
    "    'eta_cooking_hhv__W0':          eta_cooking_nl_avg_hhv__W0,          # cooking efficiency\n",
    "    'frac_remain_cooking__0':       frac_remain_cooking_nl_avg__0,       # fraction of cooking heat contributing to heating the home\n",
    "    'heat_tr_dstr__W_K_1':          heat_tr_dstr_nl_avg__W_K_1,          # heat dissipation capacity of the heat distribution system\n",
    "    'th_mass_dstr__Wh_K_1':         th_mass_dstr_nl_avg__Wh_K_1,         # thermal mass of the heat distribution system\n",
    "    'ventilation_default__dm3_s_1': 7.0,                                 # default ventilation rate for the entire home\n",
    "    'ventilation_max__dm3_s_1_m_2': 1.0,                                 # maximum ventilation rate per m2 floor area\n",
    "    'co2_outdoor__ppm':             co2_outdoor_eu_avg_2022__ppm,        # average CO₂ outdoor concentration\n",
    "}\n",
    "\n",
    "learn = [\n",
    "    'heat_tr_bldng_cond__W_K_1',\n",
    "    'th_inert_bldng__h',\n",
    "    'th_mass_bldng__Wh_K_1',\n",
    "    'aperture_sol__m2',\n",
    "    'aperture_inf__cm2',\n",
    "    'ventilation__dm3_s_1',\n",
    "    # 'heat_tr_dstr__W_K_1', 'th_mass_dstr__J_K_1',\n",
    "]\n",
    "\n",
    "\n",
    "learned_parameters = [f'learned_{prop}' for prop in learn]\n",
    "\n",
    "# select which property columns in df_prep are used as properties needed by the learning algorithm\n",
    "property_sources = {\n",
    "    'temp_indoor__degC':    'batch_import_remeha_temp_indoor__degC',\n",
    "    'temp_set__degC':       'batch_import_remeha_temp_set__degC',\n",
    "    'comfortable__bool':    'calculated_comfortable__bool',\n",
    "    'temp_outdoor__degC':   'batch_import_KNMI_temp_outdoor__degC',\n",
    "    'wind__m_s_1':          'batch_import_KNMI_wind__m_s_1',\n",
    "    'sol_ghi__W_m_2':       'batch_import_KNMI_sol_ghi__W_m_2', \n",
    "    'g_use_ch_hhv__W':      'calculated_g_use_ch_hhv__W',\n",
    "    'eta_ch_hhv__W0':       'eta_ch_hhv__W0', \n",
    "    'g_use_dhw_hhv__W':     'calculated_g_use_dhw_hhv__W',\n",
    "    'e__W':                 'calculated_device_p1-reader_e__W',    \n",
    "    'occupancy__p':         'device_living_room_occupancy__p',\n",
    "    'co2_indoor__ppm':      'device_living_room_co2_indoor__ppm',\n",
    "    'temp_flow_ch__degC':    'batch_import_remeha_temp_flow_ch__degC',\n",
    "    'temp_ret_ch__degC':    'batch_import_remeha_temp_ret_ch__degC',\n",
    "    'temp_flow_ch_max__degC':'batch_import_remeha_temp_flow_ch_max__degC', \n",
    "}"
   ]
  },
  {
   "cell_type": "code",
   "execution_count": null,
   "id": "60998dd2-b869-4b9b-9619-ae7b3141b976",
   "metadata": {},
   "outputs": [],
   "source": [
    "props = list(property_sources.values())"
   ]
  },
  {
   "cell_type": "code",
   "execution_count": null,
   "id": "e5c5beb2-e6f9-4d67-8ffa-3c41d40efff5",
   "metadata": {},
   "outputs": [],
   "source": [
    "req_props = props.copy()\n",
    "exclude_from_req_props = ['batch_import_remeha_temp_flow_ch__degC', 'batch_import_remeha_temp_ret_ch__degC', 'batch_import_remeha_temp_ch_max__degC']\n",
    "for prop in exclude_from_req_props:\n",
    "    if prop in req_props:\n",
    "        req_props.remove(prop)"
   ]
  },
  {
   "cell_type": "code",
   "execution_count": null,
   "id": "b617b940-d414-4ff4-8af6-385a39a63ca0",
   "metadata": {},
   "outputs": [],
   "source": [
    "%%time \n",
    "df_home_bag_data = pd.read_excel(home_BAG_data_file_path,  index_col='id')"
   ]
  },
  {
   "cell_type": "markdown",
   "id": "defa7bec-6dec-49f7-85fe-7e0340d189ad",
   "metadata": {},
   "source": [
    "### Define (subsets of) learning periods and (subsets of) home ids to perform the learning on"
   ]
  },
  {
   "cell_type": "code",
   "execution_count": null,
   "id": "0686fb89-8da2-401b-9e74-393016a4511c",
   "metadata": {},
   "outputs": [],
   "source": [
    "# time mask for core of winter with most data\n",
    "janfebmrt24_mask = ((df_prep.index.get_level_values('timestamp') >= pd.to_datetime('2024-01-01 00:00:00+01:00')) \n",
    "                    & \n",
    "                    (df_prep.index.get_level_values('timestamp') < pd.to_datetime('2024-04-01 00:00:00+02:00'))\n",
    "                   )"
   ]
  },
  {
   "cell_type": "code",
   "execution_count": null,
   "id": "09d1900c-fd9c-450c-b9d6-1670dd91b054",
   "metadata": {},
   "outputs": [],
   "source": [
    "# time mask for one week in winter with almost all ids having data\n",
    "febwk3_mask = ((df_prep.index.get_level_values('timestamp') >= pd.to_datetime('2024-02-18 00:00:00+01:00'))\n",
    "               & \n",
    "               (df_prep.index.get_level_values('timestamp') < pd.to_datetime('2024-02-25 00:00:00+01:00'))\n",
    "              )\n"
   ]
  },
  {
   "cell_type": "code",
   "execution_count": null,
   "id": "e9de2ad4-daee-4981-b376-7f465d00e9fa",
   "metadata": {},
   "outputs": [],
   "source": [
    "# time mask for one week in winter with almost all ids having data\n",
    "feb_mask = ((df_prep.index.get_level_values('timestamp') >= pd.to_datetime('2024-02-01 00:00:00+01:00'))\n",
    "            & \n",
    "            (df_prep.index.get_level_values('timestamp') < pd.to_datetime('2024-02-29 00:00:00+01:00'))\n",
    "           )\n"
   ]
  },
  {
   "cell_type": "code",
   "execution_count": null,
   "id": "4435ca99-9f15-44a7-a0c2-7ce0c71b258c",
   "metadata": {},
   "outputs": [],
   "source": [
    "specific_id = 434931\n",
    "specific_ids = [434931, 450298, 495906]"
   ]
  },
  {
   "cell_type": "markdown",
   "id": "493aca4e-09ee-4ea9-90d3-cf7021de19fd",
   "metadata": {},
   "source": [
    "### Check presence of properties"
   ]
  },
  {
   "cell_type": "code",
   "execution_count": null,
   "id": "2b34fb80-184a-44a1-aaab-6bbea4195353",
   "metadata": {},
   "outputs": [],
   "source": [
    "Plot.plot_missing_data_overview(df_prep[janfebmrt24_mask], properties_include=req_props, freq='1W', title_fontsize=8)"
   ]
  },
  {
   "cell_type": "code",
   "execution_count": null,
   "id": "6e54cdd3-f75d-4780-88c6-2b1a3b0fb765",
   "metadata": {},
   "outputs": [],
   "source": [
    "df_prep[febwk3_mask][props].xs(specific_id, level='id', drop_level=False).describe().T"
   ]
  },
  {
   "cell_type": "code",
   "execution_count": null,
   "id": "abcd8224-166b-431e-941e-b2fb209bc7ec",
   "metadata": {},
   "outputs": [],
   "source": [
    "df_prep[feb_mask][props].xs(specific_id, level='id', drop_level=False).describe().T"
   ]
  },
  {
   "cell_type": "code",
   "execution_count": null,
   "id": "754f990a-3380-446f-885a-41fc6141f45a",
   "metadata": {},
   "outputs": [],
   "source": [
    "df_prep[janfebmrt24_mask][props].xs(specific_id, level='id', drop_level=False).describe().T"
   ]
  },
  {
   "cell_type": "code",
   "execution_count": null,
   "id": "bf08b9eb-75e1-4998-8487-7cd36ac80c88",
   "metadata": {},
   "outputs": [],
   "source": [
    "Plot.dataframe_preprocessed_plot(df_prep[feb_mask][props].xs(specific_id, level='id', drop_level=False), units_to_mathtext)"
   ]
  },
  {
   "cell_type": "markdown",
   "id": "fac8ce42-1881-4246-b6b8-6b8c886874f3",
   "metadata": {},
   "source": [
    "### Use GEKKO model to learn the heat performance signature parameters"
   ]
  },
  {
   "cell_type": "code",
   "execution_count": null,
   "id": "d4db29ae-cb67-44b7-9f57-d99e6334e65c",
   "metadata": {},
   "outputs": [],
   "source": [
    "hints"
   ]
  },
  {
   "cell_type": "code",
   "execution_count": null,
   "id": "46760423-0573-40be-b2bc-50ffdd7f173b",
   "metadata": {},
   "outputs": [],
   "source": [
    "th_inert_dstr_nl_avg__h = hints['th_mass_dstr__Wh_K_1']  / hints['heat_tr_dstr__W_K_1']\n",
    "th_inert_dstr_nl_avg__h"
   ]
  },
  {
   "cell_type": "code",
   "execution_count": null,
   "id": "0103d1e3-f760-48bb-9df2-4ecb4704c989",
   "metadata": {},
   "outputs": [],
   "source": [
    "props"
   ]
  },
  {
   "cell_type": "code",
   "execution_count": null,
   "id": "f0c58ab9-7dcf-4aa0-bb93-66ae7fd5b33e",
   "metadata": {},
   "outputs": [],
   "source": [
    "req_props"
   ]
  },
  {
   "cell_type": "code",
   "execution_count": null,
   "id": "54897379-52dd-4393-a6c5-4528febc4189",
   "metadata": {},
   "outputs": [],
   "source": [
    "learn"
   ]
  },
  {
   "cell_type": "code",
   "execution_count": null,
   "id": "4d9107a3-76fe-4056-b8fb-ea9a2a833668",
   "metadata": {},
   "outputs": [],
   "source": [
    "df_prep.info()"
   ]
  },
  {
   "cell_type": "code",
   "execution_count": null,
   "id": "3a43ee90-9b75-490a-997b-a8b3e6e6e41b",
   "metadata": {},
   "outputs": [],
   "source": [
    "specific_ids"
   ]
  },
  {
   "cell_type": "code",
   "execution_count": null,
   "id": "518aef3a-dd22-43cb-afc2-97c50dea864b",
   "metadata": {
    "tags": []
   },
   "outputs": [],
   "source": [
    "# learn the model parameters and write results to a dataframe\n",
    "idx = pd.IndexSlice\n",
    "# df_prep_analyze = df_prep[febwk3_mask][props].loc[idx[[specific_id]], :]\n",
    "# df_prep_analyze = df_prep[febwk3_mask][props].loc[idx[specific_ids], :]\n",
    "df_prep_analyze = df_prep[feb_mask][props].loc[idx[specific_ids], :]                                                                \n",
    "# df_prep_analyze = df_prep[janfebmrt24_mask][props]                                                                             "
   ]
  },
  {
   "cell_type": "code",
   "execution_count": null,
   "id": "87a3534d-7367-4b47-8262-50cc334bf846",
   "metadata": {},
   "outputs": [],
   "source": [
    "#define the length of the learning period\n",
    "learn_period__d=7\n",
    "# learn_period__d=3\n"
   ]
  },
  {
   "cell_type": "code",
   "execution_count": null,
   "id": "136ed8c7-d834-4e6a-9945-7ff0f7b5c375",
   "metadata": {
    "tags": []
   },
   "outputs": [],
   "source": [
    "%%time\n",
    "%autoreload 2\n",
    "# Start the actual learning\n",
    "df_results_per_period, df_results = Learner.learn_heat_performance_signature(\n",
    "    df_prep_analyze,  # This is the selected DataFrame based on the uncommented line\n",
    "    property_sources=property_sources,\n",
    "    df_bldng_data=df_home_bag_data,\n",
    "    learn=learn, \n",
    "    hints=hints,\n",
    "    learn_period__d=learn_period__d,\n",
    "    learn_change_interval__min=30,\n",
    "    req_col=req_props,\n",
    "    # complete_most_recent_analysis=True,  # Uncomment if needed\n",
    "    parallel = True # Comment out or set to false if you do not want parallel execution of learning\n",
    ")"
   ]
  },
  {
   "cell_type": "code",
   "execution_count": null,
   "id": "0214a539-528b-4cbe-b5df-b4f64798f3f7",
   "metadata": {},
   "outputs": [],
   "source": [
    "df_results_per_period.sort_index()"
   ]
  },
  {
   "cell_type": "code",
   "execution_count": null,
   "id": "bbf2d420-a794-4df1-b853-9de69ba1f653",
   "metadata": {},
   "outputs": [],
   "source": [
    "df_results_per_period.describe().T"
   ]
  },
  {
   "cell_type": "code",
   "execution_count": null,
   "id": "dabc9884-c6af-4d40-a17b-9165e2ce8f3c",
   "metadata": {},
   "outputs": [],
   "source": [
    "df_results_per_period[['learned_avg_energy_ch__W', 'learned_avg_heat_sol__W','learned_avg_heat_int__W']].mean().T"
   ]
  },
  {
   "cell_type": "code",
   "execution_count": null,
   "id": "e5775bad-9275-4c55-81e1-087907a415be",
   "metadata": {},
   "outputs": [],
   "source": [
    "%%time \n",
    "# Convert all datetime columns to timezone-naive\n",
    "df_results_per_period_no_tz = df_results_per_period.reset_index(drop=False).apply(lambda x: x.dt.tz_localize(None) if x.dtype.kind == 'M' else x)\n",
    "\n",
    "# Export to Excel\n",
    "df_results_per_period_no_tz.to_excel(rhc_analysis_results_per_period_file, index=False)\n"
   ]
  },
  {
   "cell_type": "code",
   "execution_count": null,
   "id": "a6b66328-8745-443b-a537-91396da0d3b5",
   "metadata": {},
   "outputs": [],
   "source": [
    "%%time \n",
    "#TODO: check whether this is still needed; results are available in subdirs?\n",
    "df_results.to_parquet(rhc_analysis_results_file, index=True, engine='pyarrow')"
   ]
  },
  {
   "cell_type": "code",
   "execution_count": null,
   "id": "ad1a5196-7d77-46b7-b3c2-b61a2b9991c4",
   "metadata": {},
   "outputs": [],
   "source": [
    "df_results_per_period_no_tz"
   ]
  },
  {
   "cell_type": "markdown",
   "id": "4f8e1c04-657b-474f-a2d6-ccc4fc329037",
   "metadata": {},
   "source": [
    "## Visualize learned heat performance signature parameters"
   ]
  },
  {
   "cell_type": "markdown",
   "id": "67e0c68c-138b-487e-8b9e-e3eee61268f6",
   "metadata": {},
   "source": [
    "### (optional) Read results"
   ]
  },
  {
   "cell_type": "code",
   "execution_count": null,
   "id": "9ef9165f-6d84-4eff-844b-1b224a382c4c",
   "metadata": {},
   "outputs": [],
   "source": [
    "%%time\n",
    "\n",
    "# Attempt to read the Parquet file\n",
    "try:\n",
    "    df_results = pd.read_parquet(\n",
    "        rhc_analysis_results_file, \n",
    "        engine='pyarrow',\n",
    "        dtype_backend='numpy_nullable'\n",
    "        )\n",
    "    print(\"File was successfully read without specifying compression codec.\")\n",
    "except Exception as e:\n",
    "    print(f\"Error reading file: {e}\")"
   ]
  },
  {
   "cell_type": "code",
   "execution_count": null,
   "id": "a2573e75-4ac7-4fa4-89af-6a5d5d3039fe",
   "metadata": {},
   "outputs": [],
   "source": [
    "%%time \n",
    "df_results_per_period = pd.read_excel(rhc_analysis_results_per_period_file)\n",
    "\n",
    "# Re-apply the timezone to the 'start' and 'end' columns\n",
    "df_results_per_period['start'] = pd.to_datetime(df_results_per_period['start']).dt.tz_localize('Europe/Amsterdam')\n",
    "df_results_per_period['end'] = pd.to_datetime(df_results_per_period['end']).dt.tz_localize('Europe/Amsterdam')\n",
    "\n",
    "# Set MultiIndex again\n",
    "df_results_per_period.set_index(['id', 'start', 'end'], inplace=True)"
   ]
  },
  {
   "cell_type": "code",
   "execution_count": null,
   "id": "e82acec5-1a85-47e8-93e0-5da0763f18d7",
   "metadata": {},
   "outputs": [],
   "source": [
    "df_results_per_period.columns.to_list()"
   ]
  },
  {
   "cell_type": "code",
   "execution_count": null,
   "id": "1bc69b31-5a08-43ea-8cbc-c862417482fd",
   "metadata": {},
   "outputs": [],
   "source": [
    "df_results_per_period"
   ]
  },
  {
   "cell_type": "code",
   "execution_count": null,
   "id": "1e2dd7ab-71b7-44bf-8e5c-8b1413a4b916",
   "metadata": {},
   "outputs": [],
   "source": [
    "df_results_per_period.describe().T"
   ]
  },
  {
   "cell_type": "markdown",
   "id": "92d30c50-8576-46ce-94f1-77391286894e",
   "metadata": {},
   "source": [
    "### Calculate how well parameters were learned"
   ]
  },
  {
   "cell_type": "code",
   "execution_count": null,
   "id": "8a5f7769-3fa9-4125-968a-ed9be017c6d1",
   "metadata": {},
   "outputs": [],
   "source": [
    "# show essential statistics for the errors; all homeperiods combined\n",
    "df_results_per_period[['mae_temp_indoor__degC', 'rmse_temp_indoor__degC']].describe()"
   ]
  },
  {
   "cell_type": "code",
   "execution_count": null,
   "id": "fd406b1d-3e14-4625-91a4-00bbb3a02f62",
   "metadata": {},
   "outputs": [],
   "source": [
    "# show essential statistics for the errors; all periods per home\n",
    "df_results_per_period[['mae_temp_indoor__degC', 'rmse_temp_indoor__degC']].groupby('id').describe().T"
   ]
  },
  {
   "cell_type": "markdown",
   "id": "e6e24611-2633-4619-8571-8c0e8d21a8a7",
   "metadata": {},
   "source": [
    "## Add correction factors to make periods comparable"
   ]
  },
  {
   "cell_type": "code",
   "execution_count": null,
   "id": "c494e151-3e4e-432a-bd36-ec4713c387ec",
   "metadata": {},
   "outputs": [],
   "source": [
    "# Calculate period length in seconds using the 'end' and 'start' MultiIndex levels\n",
    "df_results_per_period['period__s'] = (df_results_per_period.index.get_level_values('end') - df_results_per_period.index.get_level_values('start')).total_seconds()\n",
    "df_results_per_period['period__d'] = df_results_per_period['period__s'] / s_d_1"
   ]
  },
  {
   "cell_type": "code",
   "execution_count": null,
   "id": "54d883b9-88a8-49a4-ab98-628af5f1c040",
   "metadata": {},
   "outputs": [],
   "source": [
    "# Calculate total period duration per `id`\n",
    "total_period__s = df_results_per_period.groupby('id')['period__s'].transform('sum')"
   ]
  },
  {
   "cell_type": "code",
   "execution_count": null,
   "id": "e207f1cc-0051-409d-a1a1-0690f05a2784",
   "metadata": {},
   "outputs": [],
   "source": [
    "# Calculate `period_avg_int_heat__K`, `period_avg_inf_chill__K`, and `period_avg_vent_chill__K` with division by `learned_heat_tr_bldng_cond__W_K_1`\n",
    "df_results_per_period['period_avg_int_heat__K'] = np.where(\n",
    "    df_results_per_period['learned_heat_tr_bldng_cond__W_K_1'] != 0,\n",
    "    df_results_per_period['learned_avg_heat_int__W'] / df_results_per_period['learned_heat_tr_bldng_cond__W_K_1'],\n",
    "    np.nan\n",
    ")\n",
    "\n",
    "df_results_per_period['period_avg_inf_chill__K'] = np.where(\n",
    "    df_results_per_period['learned_heat_tr_bldng_cond__W_K_1'] != 0,\n",
    "    df_results_per_period['learned_avg_heat_loss_bldng_inf__W'] / df_results_per_period['learned_heat_tr_bldng_cond__W_K_1'],\n",
    "    np.nan\n",
    ")\n",
    "\n",
    "df_results_per_period['period_avg_vent_chill__K'] = np.where(\n",
    "    df_results_per_period['learned_heat_tr_bldng_cond__W_K_1'] != 0,\n",
    "    df_results_per_period['learned_avg_heat_loss_bldng_vent__W'] / df_results_per_period['learned_heat_tr_bldng_cond__W_K_1'],\n",
    "    np.nan\n",
    ")"
   ]
  },
  {
   "cell_type": "code",
   "execution_count": null,
   "id": "9f1114c9-78f9-41f6-9505-060b8c89cbee",
   "metadata": {},
   "outputs": [],
   "source": [
    "# Calculate the weighted sums\n",
    "df_results_per_period['int_heat__K_s'] = df_results_per_period['period_avg_int_heat__K'] * df_results_per_period['period__s']\n",
    "df_results_per_period['inf_chill__K_s'] = df_results_per_period['period_avg_inf_chill__K'] * df_results_per_period['period__s']\n",
    "df_results_per_period['vent_chill__K_s'] = df_results_per_period['period_avg_vent_chill__K'] * df_results_per_period['period__s']\n",
    "df_results_per_period['temp_outdoor__degC_s'] = df_results_per_period['learned_avg_temp_outdoor__degC'] * df_results_per_period['period__s']"
   ]
  },
  {
   "cell_type": "code",
   "execution_count": null,
   "id": "297e7d9f-23a9-4064-8039-7022ab359222",
   "metadata": {},
   "outputs": [],
   "source": [
    "# Calculate time-weighted averages by dividing the weighted sums by `total_period__s`\n",
    "df_results_per_period['all_periods_avg_int_heat__K'] = df_results_per_period.groupby('id')['int_heat__K_s'].transform('sum') / total_period__s\n",
    "df_results_per_period['all_periods_avg_inf_chill__K'] = df_results_per_period.groupby('id')['inf_chill__K_s'].transform('sum') / total_period__s\n",
    "df_results_per_period['all_periods_avg_vent_chill__K'] = df_results_per_period.groupby('id')['vent_chill__K_s'].transform('sum') / total_period__s\n",
    "df_results_per_period['all_periods_avg_temp_outdoor__degC'] = df_results_per_period.groupby('id')['temp_outdoor__degC_s'].transform('sum') / total_period__s"
   ]
  },
  {
   "cell_type": "code",
   "execution_count": null,
   "id": "779db89b-883b-4f5f-a94c-f585a0d32183",
   "metadata": {},
   "outputs": [],
   "source": [
    "# Calculate period heat demand\n",
    "df_results_per_period['period_heat_demand__K'] = (\n",
    "    df_results_per_period['learned_avg_indoor_outdoor_delta__K'] +\n",
    "    df_results_per_period['period_avg_inf_chill__K'] +\n",
    "    df_results_per_period['period_avg_vent_chill__K'] -\n",
    "    df_results_per_period['period_avg_int_heat__K']\n",
    ").clip(lower=0)"
   ]
  },
  {
   "cell_type": "code",
   "execution_count": null,
   "id": "78c8dc04-2cf3-4385-b32b-538eb1ea955d",
   "metadata": {},
   "outputs": [],
   "source": [
    "# Calculate period corrected heat demand \n",
    "df_results_per_period['corrected_heat_demand__K'] = (\n",
    "    df_results_per_period['learned_avg_indoor_outdoor_delta__K'] +\n",
    "    df_results_per_period['all_periods_avg_inf_chill__K'] +\n",
    "    df_results_per_period['all_periods_avg_vent_chill__K'] -\n",
    "    df_results_per_period['all_periods_avg_int_heat__K'] +\n",
    "    (df_results_per_period['learned_avg_temp_outdoor__degC'] - df_results_per_period['all_periods_avg_temp_outdoor__degC'])\n",
    ").clip(lower=0)"
   ]
  },
  {
   "cell_type": "code",
   "execution_count": null,
   "id": "378ee073-9dbd-492c-b265-799c9eb67c32",
   "metadata": {},
   "outputs": [],
   "source": [
    "# Calculate the correction factor, avoiding division by zero\n",
    "df_results_per_period['energy_ch_correction_factor__0'] = np.where(\n",
    "    df_results_per_period['period_heat_demand__K'] != 0,\n",
    "    df_results_per_period['corrected_heat_demand__K'] / df_results_per_period['period_heat_demand__K'],\n",
    "    1.0  # Default to 1.0 if period_heat_demand__K is zero to avoid division by zero\n",
    ")"
   ]
  },
  {
   "cell_type": "code",
   "execution_count": null,
   "id": "40555a7e-77e3-4b11-9128-5f34fa606fde",
   "metadata": {},
   "outputs": [],
   "source": [
    "# Apply the correction factor to calculate corrected_avg_energy_ch__W and corrected_avg_co2_ch__g_s_1\n",
    "df_results_per_period['corrected_avg_energy_ch__W'] = (\n",
    "    df_results_per_period['learned_avg_energy_ch__W'] * df_results_per_period['energy_ch_correction_factor__0']\n",
    ")\n",
    "df_results_per_period['corrected_avg_co2_ch__g_s_1'] = (\n",
    "    df_results_per_period['learned_avg_co2_ch__g_s_1'] * df_results_per_period['energy_ch_correction_factor__0']\n",
    ")"
   ]
  },
  {
   "cell_type": "code",
   "execution_count": null,
   "id": "33cdeb7f-debd-46e2-861d-707f8410c494",
   "metadata": {},
   "outputs": [],
   "source": [
    "with pd.option_context('display.float_format', '{:.2f}'.format):\n",
    "    display(df_results_per_period.describe().T)\n"
   ]
  },
  {
   "cell_type": "code",
   "execution_count": null,
   "id": "5184eecd-9f1f-4d54-a746-72646c0ed9c9",
   "metadata": {},
   "outputs": [],
   "source": [
    "# Optionally drop intermediate columns for a clean final DataFrame\n",
    "# df_results_per_period = df_results_per_period.drop(columns=['period_avg_int_heat__K', 'period_avg_inf_chill__K', 'period_avg_vent_chill__K',\n",
    "#                                                             'int_heat__K_s', 'inf_chill__K_s', 'vent_chill__K_s', 'temp_outdoor__degC_s',\n",
    "#                                                             'heat_demand__K', 'corrected_heat_demand__K'])"
   ]
  },
  {
   "cell_type": "markdown",
   "id": "de343374-4924-4b68-932d-9295f2106e76",
   "metadata": {},
   "source": [
    "## Visualize learned parameters (boxplots per id to illustrate variability)"
   ]
  },
  {
   "cell_type": "code",
   "execution_count": null,
   "id": "d4151c51-1191-453e-bf02-d6670c6da9e5",
   "metadata": {},
   "outputs": [],
   "source": [
    "learned_parameters"
   ]
  },
  {
   "cell_type": "code",
   "execution_count": null,
   "id": "1d9bf3da-ff5f-4cce-8d2f-36123b1abad1",
   "metadata": {},
   "outputs": [],
   "source": [
    "visualize_learned_parameters = [param for param in learned_parameters if param not in ['learned_ventilation__dm3_s_1']]"
   ]
  },
  {
   "cell_type": "code",
   "execution_count": null,
   "id": "e57e5b5d-5151-477c-9d0e-48f27befc458",
   "metadata": {},
   "outputs": [],
   "source": [
    "visualize_learned_parameters"
   ]
  },
  {
   "cell_type": "code",
   "execution_count": null,
   "id": "e33ff9b5-eb3c-4026-abc2-1b2d5b44ffa0",
   "metadata": {},
   "outputs": [],
   "source": [
    "df_results_per_period[visualize_learned_parameters].describe().T"
   ]
  },
  {
   "cell_type": "code",
   "execution_count": null,
   "id": "cf59db2f-a7cf-4064-8433-1deb29f0c360",
   "metadata": {},
   "outputs": [],
   "source": [
    "df_results_per_period[visualize_learned_parameters].groupby('id').describe().T"
   ]
  },
  {
   "cell_type": "code",
   "execution_count": null,
   "id": "6bd1cdec-902d-4382-a99e-8ae3d4230cdb",
   "metadata": {
    "scrolled": true
   },
   "outputs": [],
   "source": [
    "for learned_prop in visualize_learned_parameters:\n",
    "    Plot.nfh_property_per_id_boxplot(df_results_per_period, property_col=learned_prop)"
   ]
  },
  {
   "cell_type": "markdown",
   "id": "5449c5bd-9446-4814-82bb-da2a228bc27b",
   "metadata": {},
   "source": [
    "### Visualization of learned/simulated temperatures"
   ]
  },
  {
   "cell_type": "code",
   "execution_count": null,
   "id": "abeff269-5495-4919-a4c6-7907ae0d9330",
   "metadata": {},
   "outputs": [],
   "source": [
    "df_results['learned_temp_indoor__degC'].groupby('id').count().to_frame().T"
   ]
  },
  {
   "cell_type": "code",
   "execution_count": null,
   "id": "d6e31980-2133-40d0-b584-60cb1e6be84d",
   "metadata": {},
   "outputs": [],
   "source": [
    "if 'ventilation__dm3_s_1' in learn:\n",
    "    display(df_results['learned_ventilation__dm3_s_1'].groupby('id').count().to_frame().T)\n",
    "    display(df_results['learned_ventilation__dm3_s_1'].groupby('id').describe().T)"
   ]
  },
  {
   "cell_type": "code",
   "execution_count": null,
   "id": "4eab0dcf-9be7-4d16-8960-0a12a65c157b",
   "metadata": {},
   "outputs": [],
   "source": [
    "if 'ventilation__dm3_s_1' in learn:\n",
    "    df_results['learned_ventilation__dm3_s_1']"
   ]
  },
  {
   "cell_type": "code",
   "execution_count": null,
   "id": "29d4dd2f-1659-438b-911d-a4cb3f5edd4f",
   "metadata": {},
   "outputs": [],
   "source": [
    "#Plot only temperatures from all sources for all ids\n",
    "if 'ventilation__dm3_s_1' in learn:\n",
    "    Plot.dataframe_preprocessed_plot(df_results[['batch_import_remeha_temp_indoor__degC', 'learned_temp_indoor__degC', 'learned_ventilation__dm3_s_1']].xs(specific_id, level='id', drop_level=False), units_to_mathtext)\n",
    "else:\n",
    "    Plot.dataframe_preprocessed_plot(df_results[['batch_import_remeha_temp_indoor__degC', 'learned_temp_indoor__degC']].xs(specific_id, level='id', drop_level=False), units_to_mathtext)"
   ]
  },
  {
   "cell_type": "markdown",
   "id": "0b2a556e-57d9-4500-8d48-3942d48cd2df",
   "metadata": {},
   "source": [
    "## Visualize calculated metrics for Energy Case, Comfort Case and Carbon Case"
   ]
  },
  {
   "cell_type": "code",
   "execution_count": null,
   "id": "e0073adf-fe5d-4d8d-9143-8ffbd54991bb",
   "metadata": {},
   "outputs": [],
   "source": [
    "metrics = ['corrected_avg_energy_ch__W', 'learned_avg_comfortable__0', 'corrected_avg_co2_ch__g_s_1']"
   ]
  },
  {
   "cell_type": "code",
   "execution_count": null,
   "id": "e60b7be6-eda2-46eb-8858-127cae2294d5",
   "metadata": {},
   "outputs": [],
   "source": [
    "df_results_per_period[metrics].groupby('id').describe().T"
   ]
  },
  {
   "cell_type": "markdown",
   "id": "c6678853-eea3-4356-82f2-eae80d72ec91",
   "metadata": {},
   "source": [
    "## Analyze and visualize intervention A1: change thermostat program"
   ]
  },
  {
   "cell_type": "code",
   "execution_count": null,
   "id": "15c1a7e6-9538-4d6e-b660-93b24f6b3063",
   "metadata": {},
   "outputs": [],
   "source": [
    "# Load the regime change data from Excel\n",
    "regime_changes_A1 = pd.read_excel(regime_change_A1_file_path)"
   ]
  },
  {
   "cell_type": "code",
   "execution_count": null,
   "id": "76614a8e-7ad9-4823-84d6-e5f170c18c9e",
   "metadata": {},
   "outputs": [],
   "source": [
    "# Convert the program change datetime to a datetime object only if the datetime and timezone values are non-empty\n",
    "regime_changes_A1['A_thermostat_program_change_datetime'] = pd.to_datetime(\n",
    "    regime_changes_A1['A_thermostat_program_change_datetime'], errors='coerce'\n",
    ")\n",
    "\n",
    "# Apply timezone localization conditionally\n",
    "regime_changes_A1['A_thermostat_program_change_datetime'] = regime_changes_A1.apply(\n",
    "    lambda row: row['A_thermostat_program_change_datetime'].tz_localize(row['timezone'])\n",
    "    if pd.notna(row['A_thermostat_program_change_datetime']) and pd.notna(row['timezone'])\n",
    "    else row['A_thermostat_program_change_datetime'],\n",
    "    axis=1\n",
    ")"
   ]
  },
  {
   "cell_type": "code",
   "execution_count": null,
   "id": "0e9c8035-4203-4e33-ba65-a9c07418850a",
   "metadata": {},
   "outputs": [],
   "source": [
    "regime_changes_A1 = regime_changes_A1.drop(columns=['timezone'])"
   ]
  },
  {
   "cell_type": "code",
   "execution_count": null,
   "id": "ed028f0d-d44e-44b6-8d73-2f50b38eb2eb",
   "metadata": {},
   "outputs": [],
   "source": [
    "regime_changes_A1['regime_sequence_number'] = regime_changes_A1.groupby('id').cumcount() + 1"
   ]
  },
  {
   "cell_type": "code",
   "execution_count": null,
   "id": "203a5113-da9f-4dfa-a4c6-17892ea347fc",
   "metadata": {},
   "outputs": [],
   "source": [
    "regime_changes_A1"
   ]
  },
  {
   "cell_type": "code",
   "execution_count": null,
   "id": "5c4cde12-67ec-4530-85f7-51ec3b3025d2",
   "metadata": {},
   "outputs": [],
   "source": [
    "# Label results per period with regime sequence numbers, if there was no regime change in the period\n",
    "\n",
    "# Initialize the regime_sequence_number column\n",
    "df_results_per_period['regime_sequence_number'] = None\n",
    "\n",
    "# reset index\n",
    "df_results_per_period = df_results_per_period.reset_index()\n",
    "\n",
    "# Loop over each row in df_results_per_period\n",
    "for index, row in df_results_per_period.iterrows():\n",
    "    # Get the current id, start, and end for the row\n",
    "    current_id = row['id']\n",
    "    start_time = row['start']\n",
    "    end_time = row['end']\n",
    "\n",
    "    # Check for regime changes within the interval\n",
    "    regime_changes = regime_changes_A1[\n",
    "        (regime_changes_A1['id'] == current_id) &\n",
    "        (regime_changes_A1['A_thermostat_program_change_datetime'] >= start_time) &\n",
    "        (regime_changes_A1['A_thermostat_program_change_datetime'] <= end_time)\n",
    "    ]\n",
    "\n",
    "    # If there are regime changes, do not assign a regime sequence number\n",
    "    if not regime_changes.empty:\n",
    "        continue  # Skip assigning a regime sequence number for this interval\n",
    "\n",
    "    # If there are no regime changes, find the latest regime sequence number before the start\n",
    "    latest_regime = regime_changes_A1[\n",
    "        (regime_changes_A1['id'] == current_id) &\n",
    "        (regime_changes_A1['A_thermostat_program_change_datetime'] <= start_time)\n",
    "    ].sort_values(by='A_thermostat_program_change_datetime', ascending=False)\n",
    "\n",
    "    # Assign the regime sequence number if found\n",
    "    if not latest_regime.empty:\n",
    "        df_results_per_period.at[index, 'regime_sequence_number'] = latest_regime.iloc[0]['regime_sequence_number']\n",
    "\n",
    "\n",
    "\n",
    "# Convert the regime_sequence_number column to integers\n",
    "df_results_per_period['regime_sequence_number'] = pd.to_numeric(df_results_per_period['regime_sequence_number'], downcast='integer')\n",
    "\n",
    "# restore the index\n",
    "df_results_per_period = df_results_per_period.set_index(['id', 'start', 'end'])"
   ]
  },
  {
   "cell_type": "code",
   "execution_count": null,
   "id": "f16b1a3f-709f-47ac-9491-e52d15d45b22",
   "metadata": {},
   "outputs": [],
   "source": [
    "regime_changes_A1[['id', 'regime_sequence_number']].groupby('id').describe()"
   ]
  },
  {
   "cell_type": "code",
   "execution_count": null,
   "id": "0f93497f-62ed-452b-ad7c-dfa017dc58a3",
   "metadata": {},
   "outputs": [],
   "source": [
    "df_results_per_period[['regime_sequence_number']].groupby('id').describe()"
   ]
  },
  {
   "cell_type": "code",
   "execution_count": null,
   "id": "55afb2d9-0613-49f3-a2f7-2387392f8533",
   "metadata": {},
   "outputs": [],
   "source": [
    "# Group by 'id' and calculate standard deviation for 'regime_sequence_number'\n",
    "std_values = regime_changes_A1.groupby('id')['regime_sequence_number'].std()\n",
    "\n",
    "# Filter the ids where std > 0\n",
    "id_mask_intervention_A1 = std_values[std_values > 0].index.tolist()"
   ]
  },
  {
   "cell_type": "code",
   "execution_count": null,
   "id": "4ff91698-7486-4259-b74c-41de824b53b9",
   "metadata": {},
   "outputs": [],
   "source": [
    "df_results_per_period.columns.to_list()"
   ]
  },
  {
   "cell_type": "code",
   "execution_count": null,
   "id": "e29c2c19-cba2-4814-8ac9-ccdcbe5807d2",
   "metadata": {},
   "outputs": [],
   "source": [
    "intervention_results_columns_a1 = (['regime_sequence_number',\n",
    "                                 'period__d',\n",
    "                                 'learned_avg_temp_set__degC',\n",
    "                                 'learned_avg_temp_indoor__degC',\n",
    "                                 'learned_avg_temp_outdoor__degC',\n",
    "                                 'learned_avg_energy_ch__W',\n",
    "                                 'learned_avg_co2_ch__g_s_1',\n",
    "                                ] + metrics)"
   ]
  },
  {
   "cell_type": "code",
   "execution_count": null,
   "id": "cbf03646-a27e-424e-8111-bbae555e7bd0",
   "metadata": {},
   "outputs": [],
   "source": [
    "df_results_per_a1_intervention = (df_results_per_period[df_results_per_period.index.get_level_values('id').isin(id_mask_intervention_A1)][intervention_results_columns_a1]\n",
    "                                  .reset_index()\n",
    "                                  .dropna(subset=['regime_sequence_number'])  # Drop rows where 'regime_sequence_number' is NaN\n",
    "                                  .dropna(subset=metrics) # Drop rows where any of the metrics is NaN\n",
    "                                  .set_index(['id', 'regime_sequence_number', 'start', 'end']))"
   ]
  },
  {
   "cell_type": "code",
   "execution_count": null,
   "id": "967befdd-9fbe-46cd-b57b-5f2d816ec2d2",
   "metadata": {},
   "outputs": [],
   "source": [
    "df_results_per_a1_intervention\n"
   ]
  },
  {
   "cell_type": "code",
   "execution_count": null,
   "id": "60ce6ea5-e49d-4025-819a-5b5894734ec9",
   "metadata": {},
   "outputs": [],
   "source": [
    "homes_with_thermostat_program_change = df_results_per_a1_intervention.index.get_level_values('id').unique().size\n",
    "print(f\"Number of homes that did a thermostat program change: {homes_with_thermostat_program_change}\")\n",
    "thermostat_programs_in_homes_with_thermostat_change = df_results_per_a1_intervention.index.to_frame(index=False)[['id', 'regime_sequence_number']].drop_duplicates().size\n",
    "print(f\"Number of thermostat programs of these homes: {thermostat_programs_in_homes_with_thermostat_change}\")\n",
    "if homes_with_thermostat_program_change >0:\n",
    "    print(f\"Average number of thermostat programs in homes with thermostat program change: {thermostat_programs_in_homes_with_thermostat_change/homes_with_thermostat_program_change}\")"
   ]
  },
  {
   "cell_type": "markdown",
   "id": "eb217688-c2a2-4a9b-a578-5ff52179ce57",
   "metadata": {},
   "source": [
    "### Filter out learning periods that don't cover a full thermostat program "
   ]
  },
  {
   "cell_type": "code",
   "execution_count": null,
   "id": "aba52f04-63f4-43be-9f21-3546725f06dc",
   "metadata": {},
   "outputs": [],
   "source": [
    "df_results_per_a1_intervention = df_results_per_a1_intervention[df_results_per_a1_intervention['period__d'] == learn_period__d]"
   ]
  },
  {
   "cell_type": "markdown",
   "id": "9a65d225-84db-4c25-801c-2c7e61c5bc49",
   "metadata": {},
   "source": [
    "### Aggregate regime metrics and keep only ids for which 2 or more regimes can be compared"
   ]
  },
  {
   "cell_type": "code",
   "execution_count": null,
   "id": "775e1e34-910a-4179-b230-d755c426c2c0",
   "metadata": {},
   "outputs": [],
   "source": [
    "df_results_per_a1_intervention_grouped = df_results_per_a1_intervention.groupby(['id', 'regime_sequence_number']).agg({\n",
    "        'period__d': 'sum',  # Summing this specific column\n",
    "    **{col: 'mean' for col in df_results_per_a1_intervention.columns if col != 'period__d'}  # Mean for all other columns\n",
    "})\n",
    "\n",
    "# Step 1: Find unique regime counts per `id`\n",
    "unique_counts = df_results_per_a1_intervention_grouped.index.to_frame(index=False).groupby('id')['regime_sequence_number'].nunique()\n",
    "\n",
    "# Step 2: Identify `id`s with more than one unique regime_sequence_number\n",
    "ids_with_multiple_regimes = unique_counts[unique_counts > 1].index\n",
    "\n",
    "# Step 3: Filter the DataFrame to keep only rows with `id`s that have multiple regimes\n",
    "df_results_per_a1_intervention_grouped = df_results_per_a1_intervention_grouped[df_results_per_a1_intervention_grouped.index.get_level_values('id').isin(ids_with_multiple_regimes)]"
   ]
  },
  {
   "cell_type": "code",
   "execution_count": null,
   "id": "1678a375-26a5-4f0a-abc9-e7aa9c9584e4",
   "metadata": {},
   "outputs": [],
   "source": [
    "df_results_per_a1_intervention_limited_grouped = df_results_per_a1_intervention_grouped\n",
    "\n",
    "# df_results_per_a1_intervention_limited_grouped = df_results_per_a1_intervention_grouped[['period__d',\n",
    "#  'learned_avg_temp_set__degC',\n",
    "#  'learned_avg_temp_indoor__degC',\n",
    "#  'learned_avg_temp_outdoor__degC',\n",
    "#  'corrected_avg_energy_ch__W',\n",
    "#  'learned_avg_comfortable__0',\n",
    "#  'corrected_avg_co2_ch__g_s_1']]"
   ]
  },
  {
   "cell_type": "code",
   "execution_count": null,
   "id": "9dc3357a-b450-4b8d-87dd-01a7b2acde11",
   "metadata": {},
   "outputs": [],
   "source": [
    "df_results_per_a1_intervention_limited_grouped"
   ]
  },
  {
   "cell_type": "code",
   "execution_count": null,
   "id": "5e55d2a8-ac28-4a4c-9842-185294f8459e",
   "metadata": {},
   "outputs": [],
   "source": [
    "%%time \n",
    "# Convert all datetime columns to timezone-naive and export to Excel\n",
    "df_results_per_a1_intervention_limited_grouped.reset_index(drop=False).apply(lambda x: x.dt.tz_localize(None) if x.dtype.kind == 'M' else x).to_excel(\"results_interventions_A1.xlsx\", index=False)"
   ]
  },
  {
   "cell_type": "markdown",
   "id": "31b09df3-1007-4291-9517-c4c619875e13",
   "metadata": {},
   "source": [
    "### Check thermostat program changes via temperature plots"
   ]
  },
  {
   "cell_type": "code",
   "execution_count": null,
   "id": "ffaf860d-6e5d-4aa4-bc0d-51a8444b41b9",
   "metadata": {},
   "outputs": [],
   "source": [
    "temp_property_sources_a1 = {\n",
    "    'temp_indoor__degC':    'batch_import_remeha_temp_indoor__degC',\n",
    "    'temp_set__degC':       'batch_import_remeha_temp_set__degC',\n",
    "    # 'comfortable__bool':    'calculated_comfortable__bool',\n",
    "    'temp_outdoor__degC':   'batch_import_KNMI_temp_outdoor__degC',\n",
    "    # 'temp_flow_ch__degC':    'batch_import_remeha_temp_flow_ch__degC',\n",
    "    # 'temp_ret_ch__degC':    'batch_import_remeha_temp_ret_ch__degC',\n",
    "    # 'temp_flow_ch_max__degC':'batch_import_remeha_temp_flow_ch_max__degC', \n",
    "}\n",
    "\n",
    "tempprops_a1 = list(temp_property_sources_a1.values())"
   ]
  },
  {
   "cell_type": "code",
   "execution_count": null,
   "id": "2e9bcea8-9ce3-4678-9516-5cfdd5b08b29",
   "metadata": {},
   "outputs": [],
   "source": [
    "for id in df_results_per_a1_intervention_limited_grouped.index.get_level_values('id').unique():\n",
    "    print(id)\n",
    "    display(df_results_per_a1_intervention_limited_grouped.loc[id])\n",
    "    Plot.dataframe_preprocessed_plot(df_prep[janfebmrt24_mask][tempprops_a1].xs(id, level='id', drop_level=False), units_to_mathtext)"
   ]
  },
  {
   "cell_type": "code",
   "execution_count": null,
   "id": "434b357c-f6c9-43b3-a565-b3c0f40e234d",
   "metadata": {},
   "outputs": [],
   "source": [
    "# Define your metrics and desired precisions in a dictionary\n",
    "metrics_format = {\n",
    "    'corrected_avg_energy_ch__W': '{:.0f}',  # 0 decimal places\n",
    "    'learned_avg_comfortable__0': '{:.2f}',  # 2 decimal places\n",
    "    'corrected_avg_co2_ch__g_s_1': '{:.3f}'  # 3 decimal places\n",
    "}\n",
    "\n",
    "# Loop through each metric, applying the specified precision\n",
    "for metric, format_str in metrics_format.items():\n",
    "    print(metric)\n",
    "    with pd.option_context('display.float_format', format_str.format):\n",
    "        display(df_results_per_a1_intervention[metric].groupby(['id', 'regime_sequence_number']).describe().T)\n"
   ]
  },
  {
   "cell_type": "code",
   "execution_count": null,
   "id": "0f5e8049-e322-41d5-87b8-eb929ce037df",
   "metadata": {},
   "outputs": [],
   "source": [
    "# Plot.calculated_intervention_metrics_boxplot(df_results_per_a1_intervention_limited_grouped, metrics)"
   ]
  },
  {
   "cell_type": "markdown",
   "id": "3cb2cfea-68ba-44f9-b8b2-0acfc2037ebf",
   "metadata": {},
   "source": [
    "## Analyze and visualize intervention B1: lower maximum supply temperatures"
   ]
  },
  {
   "cell_type": "code",
   "execution_count": null,
   "id": "f5c9e142-a2ac-4e0f-a67f-66998f0399cf",
   "metadata": {},
   "outputs": [],
   "source": [
    "# Load the regime change data from Excel\n",
    "regime_changes_B1 = pd.read_excel(regime_change_B1_file_path)"
   ]
  },
  {
   "cell_type": "code",
   "execution_count": null,
   "id": "f69f5d51-99df-42de-8a31-a64a1d1cf6d4",
   "metadata": {},
   "outputs": [],
   "source": [
    "# Convert the program change datetime to a datetime object only if the datetime and timezone values are non-empty\n",
    "regime_changes_B1['B_temp_flow_ch_max__datetime'] = pd.to_datetime(\n",
    "    regime_changes_B1['B_temp_flow_ch_max__datetime'], errors='coerce'\n",
    ")\n",
    "\n",
    "# Apply timezone localization conditionally\n",
    "regime_changes_B1['B_temp_flow_ch_max__datetime'] = regime_changes_B1.apply(\n",
    "    lambda row: row['B_temp_flow_ch_max__datetime'].tz_localize(row['timezone'])\n",
    "    if pd.notna(row['B_temp_flow_ch_max__datetime']) and pd.notna(row['timezone'])\n",
    "    else row['B_temp_flow_ch_max__datetime'],\n",
    "    axis=1\n",
    ")"
   ]
  },
  {
   "cell_type": "code",
   "execution_count": null,
   "id": "394a2e41-9cb9-407d-b4f7-4cd46234f86b",
   "metadata": {},
   "outputs": [],
   "source": [
    "regime_changes_B1 = regime_changes_B1.drop(columns=['timezone'])"
   ]
  },
  {
   "cell_type": "code",
   "execution_count": null,
   "id": "b02ba70c-26e7-496c-8b23-b791f0e6bdd1",
   "metadata": {},
   "outputs": [],
   "source": [
    "regime_changes_B1['regime_sequence_number'] = regime_changes_B1.groupby('id').cumcount() + 1"
   ]
  },
  {
   "cell_type": "code",
   "execution_count": null,
   "id": "54d5dfa8-2fb0-40a8-a54b-4acccbe01850",
   "metadata": {},
   "outputs": [],
   "source": [
    "regime_changes_B1"
   ]
  },
  {
   "cell_type": "code",
   "execution_count": null,
   "id": "f4f12b4c-b17d-41a9-844c-f26479340d8d",
   "metadata": {},
   "outputs": [],
   "source": [
    "# Label results per period with regime sequence numbers, if there was no regime change in the period\n",
    "\n",
    "# Initialize the regime_sequence_number column\n",
    "df_results_per_period['regime_sequence_number'] = None\n",
    "\n",
    "# reset index\n",
    "df_results_per_period = df_results_per_period.reset_index()\n",
    "\n",
    "# Loop over each row in df_results_per_period\n",
    "for index, row in df_results_per_period.iterrows():\n",
    "    # Get the current id, start, and end for the row\n",
    "    current_id = row['id']\n",
    "    start_time = row['start']\n",
    "    end_time = row['end']\n",
    "\n",
    "    # Check for regime changes within the interval\n",
    "    regime_changes = regime_changes_B1[\n",
    "        (regime_changes_B1['id'] == current_id) &\n",
    "        (regime_changes_B1['B_temp_flow_ch_max__datetime'] >= start_time) &\n",
    "        (regime_changes_B1['B_temp_flow_ch_max__datetime'] <= end_time)\n",
    "    ]\n",
    "\n",
    "    # If there are regime changes, do not assign a regime sequence number\n",
    "    if not regime_changes.empty:\n",
    "        continue  # Skip assigning a regime sequence number for this interval\n",
    "\n",
    "    # If there are no regime changes, find the latest regime sequence number before the start\n",
    "    latest_regime = regime_changes_B1[\n",
    "        (regime_changes_B1['id'] == current_id) &\n",
    "        (regime_changes_B1['B_temp_flow_ch_max__datetime'] <= start_time)\n",
    "    ].sort_values(by='B_temp_flow_ch_max__datetime', ascending=False)\n",
    "\n",
    "    # Assign the regime sequence number if found\n",
    "    if not latest_regime.empty:\n",
    "        df_results_per_period.at[index, 'regime_sequence_number'] = latest_regime.iloc[0]['regime_sequence_number']\n",
    "\n",
    "\n",
    "\n",
    "# Convert the regime_sequence_number column to integers\n",
    "df_results_per_period['regime_sequence_number'] = pd.to_numeric(df_results_per_period['regime_sequence_number'], downcast='integer')\n",
    "\n",
    "# restore the index\n",
    "df_results_per_period = df_results_per_period.set_index(['id', 'start', 'end'])"
   ]
  },
  {
   "cell_type": "code",
   "execution_count": null,
   "id": "6ea2993f-2d46-4415-aae9-7c522fd4cfa6",
   "metadata": {},
   "outputs": [],
   "source": [
    "regime_changes_B1[['id', 'regime_sequence_number']].groupby('id').describe()"
   ]
  },
  {
   "cell_type": "code",
   "execution_count": null,
   "id": "09b2d77a-b8f9-4b3f-9b87-ac46749af5fb",
   "metadata": {},
   "outputs": [],
   "source": [
    "df_results_per_period[['regime_sequence_number']].groupby('id').describe()"
   ]
  },
  {
   "cell_type": "code",
   "execution_count": null,
   "id": "b754f706-e74d-44e1-ba94-30c0d9c9344f",
   "metadata": {},
   "outputs": [],
   "source": [
    "# Group by 'id' and calculate standard deviation for 'regime_sequence_number'\n",
    "std_values = regime_changes_B1.groupby('id')['regime_sequence_number'].std()\n",
    "\n",
    "# Filter the ids where std > 0\n",
    "id_mask_intervention_B1 = std_values[std_values > 0].index.tolist()"
   ]
  },
  {
   "cell_type": "code",
   "execution_count": null,
   "id": "98eba9bd-3827-4882-b3fa-56e8ee179fcc",
   "metadata": {},
   "outputs": [],
   "source": [
    "df_results_per_period.columns.to_list()"
   ]
  },
  {
   "cell_type": "code",
   "execution_count": null,
   "id": "08607b3c-2bc4-4159-8741-18db0c5064a7",
   "metadata": {},
   "outputs": [],
   "source": [
    "intervention_results_columns_b1 = (['regime_sequence_number',\n",
    "                                 'period__d',\n",
    "                                 'learned_avg_temp_flow_ch_max__degC',\n",
    "                                 'learned_avg_temp_indoor__degC',\n",
    "                                 'learned_avg_temp_outdoor__degC',\n",
    "                                 'learned_avg_energy_ch__W',\n",
    "                                 'learned_avg_co2_ch__g_s_1',\n",
    "                                ] + metrics)"
   ]
  },
  {
   "cell_type": "code",
   "execution_count": null,
   "id": "eb8125a5-d455-446f-bfa5-3cb0d8b8dd0f",
   "metadata": {},
   "outputs": [],
   "source": [
    "df_results_per_b1_intervention = (df_results_per_period[df_results_per_period.index.get_level_values('id').isin(id_mask_intervention_B1)][intervention_results_columns_b1]\n",
    "                                  .reset_index()\n",
    "                                  .dropna(subset=['regime_sequence_number'])  # Drop rows where 'regime_sequence_number' is NaN\n",
    "                                  .dropna(subset=metrics) # Drop rows where any of the metrics is NaN\n",
    "                                  .set_index(['id', 'regime_sequence_number', 'start', 'end']))"
   ]
  },
  {
   "cell_type": "code",
   "execution_count": null,
   "id": "d316bba5-d963-4e88-a897-0597c04a9971",
   "metadata": {},
   "outputs": [],
   "source": [
    "df_results_per_b1_intervention"
   ]
  },
  {
   "cell_type": "code",
   "execution_count": null,
   "id": "2d83afd8-1488-4481-98e1-39e833012686",
   "metadata": {},
   "outputs": [],
   "source": [
    "homes_with_max_flow_temp_change = len(df_results_per_b1_intervention.index.get_level_values('id').unique())\n",
    "print(f\"Number of homes that changed their max supply temperature: {homes_with_max_flow_temp_change}\")\n",
    "max_flow_temp_regimes_in_homes_with_max_flow_temp_change = len(df_results_per_b1_intervention.index.to_frame(index=False)[['id', 'regime_sequence_number']].drop_duplicates())\n",
    "print(f\"Number of max supply temperature settings in these homes: {max_flow_temp_regimes_in_homes_with_max_flow_temp_change}\")\n",
    "if homes_with_max_flow_temp_change >0:\n",
    "    print(f\"Average number of max supply temperatures settings in homes with such a change: {max_flow_temp_regimes_in_homes_with_max_flow_temp_change/homes_with_max_flow_temp_change}\")\n"
   ]
  },
  {
   "cell_type": "markdown",
   "id": "1422b356-359e-4096-9910-567298fc3763",
   "metadata": {},
   "source": [
    "### Filter out learning periods that don't cover a period - 1 day"
   ]
  },
  {
   "cell_type": "code",
   "execution_count": null,
   "id": "298767bb-24c4-46a4-a248-a0a8e53a2222",
   "metadata": {},
   "outputs": [],
   "source": [
    "df_results_per_b1_intervention = df_results_per_b1_intervention[df_results_per_b1_intervention['period__d'] > (learn_period__d - 1)]\n"
   ]
  },
  {
   "cell_type": "code",
   "execution_count": null,
   "id": "ae6a98b6-d7e5-456e-98df-7ce04043edd5",
   "metadata": {},
   "outputs": [],
   "source": [
    "df_results_per_b1_intervention"
   ]
  },
  {
   "cell_type": "markdown",
   "id": "511e7074-ef3d-46c0-bd8b-a70822639469",
   "metadata": {},
   "source": [
    "### Aggregate regime metrics and keep only ids for which 2 or more regimes can be compared"
   ]
  },
  {
   "cell_type": "code",
   "execution_count": null,
   "id": "ad602586-d0c3-46c1-8a02-d1a72c36f256",
   "metadata": {},
   "outputs": [],
   "source": [
    "df_results_per_b1_intervention_grouped = df_results_per_b1_intervention.groupby(['id', 'regime_sequence_number']).agg({\n",
    "        'period__d': 'sum',  # Summing this specific column\n",
    "    **{col: 'mean' for col in df_results_per_b1_intervention.columns if col != 'period__d'}  # Mean for all other columns\n",
    "})\n",
    "\n",
    "# Step 1: Find unique regime counts per `id`\n",
    "unique_counts = df_results_per_b1_intervention_grouped.index.to_frame(index=False).groupby('id')['regime_sequence_number'].nunique()\n",
    "\n",
    "# Step 2: Identify `id`s with more than one unique regime_sequence_number\n",
    "ids_with_multiple_regimes = unique_counts[unique_counts > 1].index\n",
    "\n",
    "# Step 3: Filter the DataFrame to keep only rows with `id`s that have multiple regimes\n",
    "df_results_per_b1_intervention_grouped = df_results_per_b1_intervention_grouped[df_results_per_b1_intervention_grouped.index.get_level_values('id').isin(ids_with_multiple_regimes)]"
   ]
  },
  {
   "cell_type": "code",
   "execution_count": null,
   "id": "189d20e7-b1c0-4d86-98fa-c1b57132d14f",
   "metadata": {},
   "outputs": [],
   "source": [
    "df_results_per_b1_intervention_limited_grouped = df_results_per_b1_intervention_grouped\n",
    "\n",
    "# df_results_per_a1_intervention_limited_grouped = df_results_per_a1_intervention_grouped[['period__d',\n",
    "#  'learned_avg_temp_flow_ch_max__degC',\n",
    "#  'learned_avg_temp_indoor__degC',\n",
    "#  'learned_avg_temp_outdoor__degC',\n",
    "#  'corrected_avg_energy_ch__W',\n",
    "#  'learned_avg_comfortable__0',\n",
    "#  'corrected_avg_co2_ch__g_s_1']]"
   ]
  },
  {
   "cell_type": "code",
   "execution_count": null,
   "id": "c7fc15f8-b665-4bf3-967c-c769ac70ee9f",
   "metadata": {},
   "outputs": [],
   "source": [
    "df_results_per_b1_intervention_limited_grouped"
   ]
  },
  {
   "cell_type": "code",
   "execution_count": null,
   "id": "aeb2428f-55df-4008-98b0-4ae86650f6ea",
   "metadata": {},
   "outputs": [],
   "source": [
    "%%time \n",
    "# Convert all datetime columns to timezone-naive and export to Excel\n",
    "df_results_per_b1_intervention_limited_grouped.reset_index(drop=False).apply(lambda x: x.dt.tz_localize(None) if x.dtype.kind == 'M' else x).to_excel(\"results_interventions_B1.xlsx\", index=False)"
   ]
  },
  {
   "cell_type": "code",
   "execution_count": null,
   "id": "56ba896b-d0ef-4a6f-b086-5667c4235bdc",
   "metadata": {},
   "outputs": [],
   "source": [
    "# Define your metrics and desired precisions in a dictionary\n",
    "metrics_format = {\n",
    "    'corrected_avg_energy_ch__W': '{:.0f}',  # 0 decimal places\n",
    "    'learned_avg_comfortable__0': '{:.2f}',  # 2 decimal places\n",
    "    'corrected_avg_co2_ch__g_s_1': '{:.3f}'  # 3 decimal places\n",
    "}\n",
    "\n",
    "# Loop through each metric, applying the specified precision\n",
    "for metric, format_str in metrics_format.items():\n",
    "    print(metric)\n",
    "    with pd.option_context('display.float_format', format_str.format):\n",
    "        display(df_results_per_b1_intervention[metric].groupby(['id', 'regime_sequence_number']).describe().T)\n"
   ]
  },
  {
   "cell_type": "code",
   "execution_count": null,
   "id": "1ed653f8-5b0e-4876-9724-7b89aa21dbb3",
   "metadata": {},
   "outputs": [],
   "source": [
    "temp_property_sources_b1 = {\n",
    "    'temp_indoor__degC':    'batch_import_remeha_temp_indoor__degC',\n",
    "    'temp_set__degC':       'batch_import_remeha_temp_set__degC',\n",
    "    # 'comfortable__bool':    'calculated_comfortable__bool',\n",
    "    'temp_outdoor__degC':   'batch_import_KNMI_temp_outdoor__degC',\n",
    "    'temp_flow_ch__degC':    'batch_import_remeha_temp_flow_ch__degC',\n",
    "    'temp_ret_ch__degC':    'batch_import_remeha_temp_ret_ch__degC',\n",
    "    'temp_flow_ch_max__degC':'batch_import_remeha_temp_flow_ch_max__degC', \n",
    "}\n",
    "\n",
    "tempprops_b1 = list(temp_property_sources_b1.values())"
   ]
  },
  {
   "cell_type": "code",
   "execution_count": null,
   "id": "fe5ddff5-9fa4-4754-b4de-ea9c2afb4f3e",
   "metadata": {},
   "outputs": [],
   "source": [
    "for id in df_results_per_b1_intervention_limited_grouped.index.get_level_values('id').unique():\n",
    "    print(id)\n",
    "    display(df_results_per_b1_intervention_limited_grouped.loc[id])\n",
    "    Plot.dataframe_preprocessed_plot(df_prep[janfebmrt24_mask][tempprops_b1].xs(id, level='id', drop_level=False), units_to_mathtext)"
   ]
  },
  {
   "cell_type": "code",
   "execution_count": null,
   "id": "93b91b77-668d-4ad6-8bcf-7cc9c88ed56a",
   "metadata": {},
   "outputs": [],
   "source": [
    "# Plot.calculated_intervention_metrics_boxplot(df_results_per_b1_intervention_limited_grouped, metrics)"
   ]
  }
 ],
 "metadata": {
  "kernelspec": {
   "display_name": "Python 3 (ipykernel)",
   "language": "python",
   "name": "python3"
  },
  "language_info": {
   "codemirror_mode": {
    "name": "ipython",
    "version": 3
   },
   "file_extension": ".py",
   "mimetype": "text/x-python",
   "name": "python",
   "nbconvert_exporter": "python",
   "pygments_lexer": "ipython3",
   "version": "3.11.6"
  },
  "vscode": {
   "interpreter": {
    "hash": "2b52c2ff5431c21ddbe91dac57ae43ca32d3900acacc91a5c2a32f1a3c11d7aa"
   }
  }
 },
 "nbformat": 4,
 "nbformat_minor": 5
}
