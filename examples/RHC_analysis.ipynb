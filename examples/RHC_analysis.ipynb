{
 "cells": [
  {
   "cell_type": "markdown",
   "id": "02aa6298-301d-4d2f-b59e-7bc2432c67d4",
   "metadata": {},
   "source": [
    "# REDUCEDHEATCARB analysis\n",
    "\n",
    "This JupyterLabs notebook can be used for physics ifnormed machine learning analysis in the REDUCEDHEATCAB project.\n",
    "Don't forget to install the requirements listed in [requirements.txt](../requirements.txt) first!"
   ]
  },
  {
   "cell_type": "markdown",
   "id": "40e8f82e-93a6-4156-b4cb-4744c4cc8c13",
   "metadata": {},
   "source": [
    "## Setting the stage\n",
    "\n",
    "First several imports and variables need to be defined\n"
   ]
  },
  {
   "cell_type": "markdown",
   "id": "b276aade-cd93-4e8a-957d-fdc2d3a84336",
   "metadata": {},
   "source": [
    "### Imports and generic settings"
   ]
  },
  {
   "cell_type": "code",
   "execution_count": null,
   "id": "08d2d6ec-cf03-47d6-a505-bf37716c4700",
   "metadata": {},
   "outputs": [],
   "source": [
    "import numpy as np\n",
    "import pandas as pd\n",
    "\n",
    "%load_ext autoreload\n",
    "\n",
    "    \n",
    "from tqdm.notebook import tqdm\n",
    "\n",
    "from gekko import GEKKO\n",
    "\n",
    "import sys\n",
    "sys.path.append('../data/')\n",
    "sys.path.append('../view/')\n",
    "sys.path.append('../analysis/')\n",
    "\n",
    "from plotter import Plot\n",
    "import matplotlib.pyplot as plt\n",
    "%matplotlib inline\n",
    "%matplotlib widget\n",
    "\n",
    "\n",
    "from nfh_utils import *\n",
    "\n",
    "# usually, two decimals suffice for displaying DataFrames (NB internally, precision may be higher)\n",
    "pd.options.display.precision = 2\n",
    "\n",
    "from rhc_analysis import Learner\n",
    "\n",
    "# rhc_preprocessed_poperties_file='rhc_preprocessed_properties_intv_5_min.parquet'\n",
    "rhc_preprocessed_poperties_file='rhc_preprocessed_properties_intv_1_min.parquet'\n",
    "#rhc_preprocessed_poperties_file='rhc_heat_dist_preprocessed_properties.parquet'\n",
    "\n",
    "home_data_file_path = \"home_data.parquet\"\n",
    "boiler_returntemp_load_efficiency_file_path = \"boiler_returntemp_load_efficiency.parquet\"\n",
    "boiler_returntemp_efficiency_file_path = \"boiler_returntemp_efficiency.parquet\"\n",
    "\n",
    "\n"
   ]
  },
  {
   "cell_type": "markdown",
   "id": "67602115-22ca-4ea5-a6ee-58d851205533",
   "metadata": {},
   "source": [
    "### Reading preprocessed interpolated properties from a parquet file"
   ]
  },
  {
   "cell_type": "code",
   "execution_count": null,
   "id": "b8547a2a-b7cd-465a-a94d-a5bf10c88ea7",
   "metadata": {},
   "outputs": [],
   "source": [
    "%%time\n",
    "\n",
    "# Attempt to read the Parquet file\n",
    "try:\n",
    "    df_prep = pd.read_parquet(\n",
    "        rhc_preprocessed_poperties_file, \n",
    "        engine='pyarrow',\n",
    "        dtype_backend='numpy_nullable'\n",
    "        )\n",
    "    print(\"File was successfully read without specifying compression codec.\")\n",
    "except Exception as e:\n",
    "    print(f\"Error reading file: {e}\")"
   ]
  },
  {
   "cell_type": "code",
   "execution_count": null,
   "id": "25260ecc-713e-4436-a9ec-43090f878782",
   "metadata": {},
   "outputs": [],
   "source": [
    "#sorting the DataFrame index is needed to get good performance on certain filters\n",
    "#this guarding code to check whether DataFrames are properly sorted\n",
    "if not df_prep.index.is_monotonic_increasing:\n",
    "    print('df needed index sorting')\n",
    "    df_prep = df_prep.sort_index()  "
   ]
  },
  {
   "cell_type": "code",
   "execution_count": null,
   "id": "eda4ab11-d12c-4241-b820-9eea541fd35b",
   "metadata": {},
   "outputs": [],
   "source": [
    "print(f\"df_prep.count().sum(): {df_prep.count().sum():_}\")"
   ]
  },
  {
   "cell_type": "code",
   "execution_count": null,
   "id": "a7fd00c9-b0fa-470f-a99b-0afd761f86ee",
   "metadata": {},
   "outputs": [],
   "source": [
    "df_prep.info()"
   ]
  },
  {
   "cell_type": "code",
   "execution_count": null,
   "id": "26dbce2a-bdb0-4bc2-9eb8-fe75aa476e18",
   "metadata": {
    "scrolled": true
   },
   "outputs": [],
   "source": [
    "print(\"[\\n'\",\"', \\n'\".join(sorted(df_prep.columns)),\"'\\n]\")"
   ]
  },
  {
   "cell_type": "code",
   "execution_count": null,
   "id": "aa218f9d-4ae8-43ab-b88d-6d15a89e614c",
   "metadata": {},
   "outputs": [],
   "source": [
    "%autoreload 2\n",
    "units_to_mathtext = property_types = {\n",
    "    'degC' : r'$°C$',\n",
    "    'ppm' : r'$ppm$',\n",
    "    '0' : r'$[-]$',\n",
    "    'bool': r'$0 = False; 1 = True$',\n",
    "    'p' : r'$persons$',\n",
    "    'W' : r'$W$',\n",
    "    'W_m_2' : r'$W/m^{2}$',\n",
    "    'm_s_1' : r'$m/s$'    \n",
    "}"
   ]
  },
  {
   "cell_type": "code",
   "execution_count": null,
   "id": "b57fe0ff-48de-4dce-bdb0-a23f3ac5ea06",
   "metadata": {
    "tags": []
   },
   "outputs": [],
   "source": [
    "# visuaize all input data\n",
    "df_plot = df_prep"
   ]
  },
  {
   "cell_type": "code",
   "execution_count": null,
   "id": "250ab28c-cd29-4b25-9038-cddf64659890",
   "metadata": {},
   "outputs": [],
   "source": [
    "df_plot.index.unique('id').dropna()"
   ]
  },
  {
   "cell_type": "code",
   "execution_count": null,
   "id": "bc2733e2-8ee7-4fe8-9673-79fbd99d1b68",
   "metadata": {},
   "outputs": [],
   "source": [
    "# df_plot.loc[[401632]][[prop for prop in df_plot.columns.values if prop.split('__')[-1] in ('degC', 'W', '0', 'bool', 'ppm', 'W_m_2')]]"
   ]
  },
  {
   "cell_type": "code",
   "execution_count": null,
   "id": "2584f526-caa6-4978-8dec-09e737ba3648",
   "metadata": {
    "tags": []
   },
   "outputs": [],
   "source": [
    "#Plot all properties from all sources for all ids\n",
    "#Plot.dataframe_preprocessed_plot(df_plot.loc[[401632]][[prop for prop in df_plot.columns.values if prop.split('__')[-1] in ('degC', 'ppm', 'W_m_2')]], units_to_mathtext)"
   ]
  },
  {
   "cell_type": "markdown",
   "id": "7dbc9ea1-4a4c-4adf-a52d-a10a6adc2ed4",
   "metadata": {},
   "source": [
    "# Calculate additional properties \n",
    "We may have to move some of these calculations to inside the GEKKO Python model code (e.g. for the what-if scenario simulation)"
   ]
  },
  {
   "cell_type": "markdown",
   "id": "1f69c089-5e75-4f25-925e-4ff0f54c816c",
   "metadata": {},
   "source": [
    "### Calculating electricity data"
   ]
  },
  {
   "cell_type": "code",
   "execution_count": null,
   "id": "75818b1e-6098-42d4-9cc7-e78a8d325039",
   "metadata": {},
   "outputs": [],
   "source": [
    "%%time\n",
    "df_prep['calculated_device_p1-reader_e_use__W'] = df_prep['device_p1-reader_e_use_hi__W'] + df_prep['device_p1-reader_e_use_lo__W']\n",
    "df_prep['calculated_device_p1-reader_e_ret__W'] = df_prep['device_p1-reader_e_ret_hi__W'] + df_prep['device_p1-reader_e_ret_lo__W'] \n"
   ]
  },
  {
   "cell_type": "markdown",
   "id": "17f64bd2-2fdc-4528-9612-839e25977cd5",
   "metadata": {},
   "source": [
    "### Reading and calculating boiler data "
   ]
  },
  {
   "cell_type": "markdown",
   "id": "c9538e60-b015-4a31-816e-2c6f42c6aba2",
   "metadata": {},
   "source": [
    "#### Reading home metadata"
   ]
  },
  {
   "cell_type": "code",
   "execution_count": null,
   "id": "9ec166bd-c16d-4e1d-9500-53f5a8584391",
   "metadata": {},
   "outputs": [],
   "source": [
    "%%time\n",
    "# Attempt to read the Parquet file\n",
    "try:\n",
    "    df_homes = pd.read_parquet(\n",
    "        home_data_file_path, \n",
    "        engine='pyarrow',\n",
    "        dtype_backend='numpy_nullable'\n",
    "        )\n",
    "    print(\"File was successfully read without specifying compression codec.\")\n",
    "except Exception as e:\n",
    "    print(f\"Error reading file: {e}\")"
   ]
  },
  {
   "cell_type": "code",
   "execution_count": null,
   "id": "c020c3a2-dbea-4ee3-8051-0b60b7cfda91",
   "metadata": {},
   "outputs": [],
   "source": [
    "df_homes.info()"
   ]
  },
  {
   "cell_type": "markdown",
   "id": "c9fc2011-2de1-4c7e-9499-571a81ec27e8",
   "metadata": {},
   "source": [
    "#### Reading boiler data"
   ]
  },
  {
   "cell_type": "code",
   "execution_count": null,
   "id": "b10db8de-48fd-4079-9404-2b81233ab9a7",
   "metadata": {},
   "outputs": [],
   "source": [
    "%%time\n",
    "# Attempt to read the Parquet file\n",
    "try:\n",
    "    df_boiler_efficiency = pd.read_parquet(\n",
    "        # boiler_returntemp_efficiency_file_path, \n",
    "        boiler_returntemp_load_efficiency_file_path, \n",
    "        engine='pyarrow',\n",
    "        dtype_backend='numpy_nullable'\n",
    "        )\n",
    "    print(\"File was successfully read without specifying compression codec.\")\n",
    "except Exception as e:\n",
    "    print(f\"Error reading file: {e}\")"
   ]
  },
  {
   "cell_type": "code",
   "execution_count": null,
   "id": "55411e0e-6430-48df-84e7-d15adb80aa77",
   "metadata": {},
   "outputs": [],
   "source": [
    "df_boiler_efficiency"
   ]
  },
  {
   "cell_type": "markdown",
   "id": "09907f43-fb60-4f7a-abdd-14c5926e5f0f",
   "metadata": {},
   "source": [
    "#### Prepare lookup of momentary boiler efficiency from boiler-specific efficiency curves"
   ]
  },
  {
   "cell_type": "code",
   "execution_count": null,
   "id": "bce48ebd-f75b-4a80-899e-72ce9d83bad0",
   "metadata": {},
   "outputs": [],
   "source": [
    "%%time\n",
    "# Round return temperatures to whole degrees\n",
    "df_prep['rounded_temp_ret__degC'] = df_prep['batch_import_remeha_temp_ret__degC'].round()"
   ]
  },
  {
   "cell_type": "code",
   "execution_count": null,
   "id": "e4122ece-013e-4b36-99d2-f89b170d2caa",
   "metadata": {},
   "outputs": [],
   "source": [
    "df_prep.info()"
   ]
  },
  {
   "cell_type": "code",
   "execution_count": null,
   "id": "e937089a-1a58-4b67-88a4-62cc4f00da36",
   "metadata": {},
   "outputs": [],
   "source": [
    "df_prep.index.dtypes"
   ]
  },
  {
   "cell_type": "code",
   "execution_count": null,
   "id": "1a594a80-bb0b-4809-bac0-95fe7fa3c0f6",
   "metadata": {},
   "outputs": [],
   "source": [
    "df_prep.count()"
   ]
  },
  {
   "cell_type": "code",
   "execution_count": null,
   "id": "a43b97b6-b904-47fe-a95b-4e2360e7b1f5",
   "metadata": {},
   "outputs": [],
   "source": [
    "df_prep.groupby(level='id').count().T"
   ]
  },
  {
   "cell_type": "code",
   "execution_count": null,
   "id": "8c79c5fa-0487-4c44-ade1-964e01b12b4a",
   "metadata": {},
   "outputs": [],
   "source": [
    "pd.concat([df_prep.dropna().groupby(level='id')['batch_import_remeha_ch_set_fan_rotations_min__min_1'].unique(),\n",
    "           df_prep.dropna().groupby(level='id')['batch_import_remeha_ch_set_fan_rotations_max__min_1'].unique()],\n",
    "          axis=1).sort_values(by='batch_import_remeha_ch_set_fan_rotations_max__min_1', ascending=True)"
   ]
  },
  {
   "cell_type": "code",
   "execution_count": null,
   "id": "a0fc7173-1ca7-440c-bbba-ff67f05a1fb1",
   "metadata": {},
   "outputs": [],
   "source": [
    "df_prep.groupby(level='id')['batch_import_remeha_ch_set_fan_rotations_max__min_1'].unique()"
   ]
  },
  {
   "cell_type": "code",
   "execution_count": null,
   "id": "087ff3e6-1a4e-442b-982a-09cc290f189f",
   "metadata": {},
   "outputs": [],
   "source": [
    "# Merge df_prep with df_homes to get the brand_model for each id\n",
    "df_prep = df_prep.reset_index().merge(df_homes, on='id').set_index(['id', 'timestamp'])"
   ]
  },
  {
   "cell_type": "code",
   "execution_count": null,
   "id": "81fcc5f2-50ff-49bc-a45c-fe92c445926f",
   "metadata": {},
   "outputs": [],
   "source": [
    "df_prep.info()"
   ]
  },
  {
   "cell_type": "code",
   "execution_count": null,
   "id": "6f2a34cd-8b09-4a3a-bdaa-0c664387bd55",
   "metadata": {},
   "outputs": [],
   "source": [
    "df_prep.count()"
   ]
  },
  {
   "cell_type": "code",
   "execution_count": null,
   "id": "60cb5ab9-ea4b-455c-8cfb-1e2e89c503b9",
   "metadata": {},
   "outputs": [],
   "source": [
    "remeha2nfh = {\n",
    "    'parHeFanRpmChMax': 'batch_import_remeha_ch_set_fan_rotations_max__min_1',\n",
    "    'parHeFanRpmMin': 'batch_import_remeha_ch_set_fan_rotations_min__min_1',\n",
    "    'parHePowerMax': 'power_ch_max__kW',\n",
    "    'parHePowerMin': 'power_ch_min__kW',\n",
    "    'parHeFanRpmMin.Minimum': 'min_fan_rotations__min_1',\n",
    "    'parHeFanRpmChMax.Maximum': 'max_ch_fan_rotations__min_1',\n",
    "    'varHeFanRpm': 'batch_import_remeha_fan_rotations__min_1',\n",
    "    'varApPowerActual': 'batch_import_remeha_g_use_ch_and_dhw__kW0'\n",
    "}\n"
   ]
  },
  {
   "cell_type": "code",
   "execution_count": null,
   "id": "3a9c6abb-9dfc-4817-91c8-f346fa0ef274",
   "metadata": {},
   "outputs": [],
   "source": [
    "%%time\n",
    "# Create lookup value for boiler load fraction (how far along the current fan RPM is between the min and max)\n",
    "df_prep.loc[:,'calculated_p_load__0'] = (\n",
    "    (df_prep[remeha2nfh['varHeFanRpm']] - df_prep[remeha2nfh['parHeFanRpmMin.Minimum']])\n",
    "    /\n",
    "    (df_prep[remeha2nfh['parHeFanRpmChMax.Maximum']] - df_prep[remeha2nfh['parHeFanRpmMin.Minimum']])\n",
    ").astype('Float32')\n",
    "\n"
   ]
  },
  {
   "cell_type": "code",
   "execution_count": null,
   "id": "fd00a72f-1d98-4cb8-b6fb-e88e083acd15",
   "metadata": {},
   "outputs": [],
   "source": [
    "%%time                                         \n",
    "# calculate the gas use as weighted interpolation between min and max\n",
    "df_prep.loc[:,'calculated_g_use_ch_lhv__W'] = 1e3 * (\n",
    "    (df_prep[remeha2nfh['parHePowerMax']] * df_prep['calculated_p_load__0'])\n",
    "    +\n",
    "    (df_prep[remeha2nfh['parHePowerMin']] * (1 -df_prep['calculated_p_load__0']))\n",
    ")\n",
    "\n",
    "# Set the calculated gas use for central heating to zero when the boiler was not burning for central heating\n",
    "df_prep.loc[df_prep['batch_import_remeha_boiler_status_burning_ch__bool'] == False, 'calculated_g_use_ch_lhv__W'] = 0\n",
    "\n",
    "# Convert gas use expresed in lower heating value to gas usage expressed using higher heating value\n",
    "df_prep.loc[:,'calculated_g_use_ch_hhv__W'] = df_prep['calculated_g_use_ch_lhv__W'] * (gas_groningen_nl_avg_hhv__J_m_3 /  gas_groningen_nl_avg_lhv__J_m_3)"
   ]
  },
  {
   "cell_type": "code",
   "execution_count": null,
   "id": "14d57e58-1f6a-4668-947f-49e3c8b7eff8",
   "metadata": {},
   "outputs": [],
   "source": [
    "%%time\n",
    "#Store rounded values for lookup in efficiency tables\n",
    "df_prep.loc[:,'rounded_temp_ret__degC'] = df_prep['batch_import_remeha_temp_ret__degC'].round().astype('Int8')\n",
    "df_prep.loc[:,'rounded_p_load__%'] = (df_prep['calculated_p_load__0'] * 100 ).round().astype('Int16')"
   ]
  },
  {
   "cell_type": "code",
   "execution_count": null,
   "id": "06f61765-0576-416a-ae8c-7666f4fd4ab5",
   "metadata": {},
   "outputs": [],
   "source": [
    "Plot.nfh_property_per_id_boxplot(df_prep, filter_col='batch_import_remeha_boiler_status_burning_ch__bool', property_col='calculated_p_load__0')"
   ]
  },
  {
   "cell_type": "code",
   "execution_count": null,
   "id": "8bb0d0f9-2e35-44f3-ad72-b8d825e8beb1",
   "metadata": {},
   "outputs": [],
   "source": [
    "def count_percentage_below_zero(df, filter_col, property_col, filter_value=True):\n",
    "    \"\"\"\n",
    "    Calculate the count and fraction of values below zero for a given property column per id, \n",
    "    after filtering the DataFrame based on a filter column, considering a multi-index DataFrame.\n",
    "    A 'total' row is added, representing the total count below zero and a weighted fraction below zero.\n",
    "\n",
    "    Parameters:\n",
    "    df (pd.DataFrame): The DataFrame containing the data, assumed to have 'id' as part of a multi-index.\n",
    "    filter_col (str): The column name used to filter the DataFrame.\n",
    "    property_col (str): The column name representing the property to analyze.\n",
    "    filter_value (bool): The value to filter the filter_col by. Defaults to True.\n",
    "\n",
    "    Returns:\n",
    "    pd.DataFrame: A DataFrame with id, count of values below zero, and the fraction of values below zero per id.\n",
    "    \"\"\"\n",
    "\n",
    "    # Step 1: Filter the DataFrame based on the filter_col and filter_value\n",
    "    df_filtered = df[df[filter_col] == filter_value]\n",
    "\n",
    "    # Step 2: Reset index to treat 'id' as a regular column and drop missing values in property_col\n",
    "    df_filtered = df_filtered.reset_index()[['id', property_col]].dropna()\n",
    "\n",
    "    # Step 3: Calculate total count of values per id\n",
    "    total_count_per_id = df_filtered.groupby('id')[property_col].count()\n",
    "\n",
    "    # Step 4: Calculate count of values below zero per id\n",
    "    below_zero_count = df_filtered[df_filtered[property_col] < 0].groupby('id')[property_col].count()\n",
    "\n",
    "    # Step 5: Calculate fraction of values below zero per id\n",
    "    fraction_below_zero = below_zero_count / total_count_per_id\n",
    "\n",
    "    # Step 6: Create a DataFrame with the results\n",
    "    result_df = pd.DataFrame({\n",
    "        'count_below_zero': below_zero_count,\n",
    "        'fraction_below_zero': fraction_below_zero\n",
    "    }).fillna(0)  # Fill NaN with 0 for ids that don't have any values below zero\n",
    "\n",
    "    # Step 7: Calculate the total row\n",
    "    total_count_below_zero = below_zero_count.sum()\n",
    "    total_values = total_count_per_id.sum()\n",
    "    weighted_fraction_below_zero = total_count_below_zero / total_values\n",
    "\n",
    "    # Step 8: Add the total row to the DataFrame\n",
    "    total_row = pd.DataFrame({\n",
    "        'count_below_zero': [total_count_below_zero],\n",
    "        'fraction_below_zero': [weighted_fraction_below_zero]\n",
    "    }, index=['total'])\n",
    "\n",
    "    # Step 9: Append the total row to the result DataFrame\n",
    "    result_df = pd.concat([result_df, total_row])\n",
    "\n",
    "    return result_df\n"
   ]
  },
  {
   "cell_type": "code",
   "execution_count": null,
   "id": "93954dc4-cae7-418f-9acf-d925fc756e64",
   "metadata": {},
   "outputs": [],
   "source": [
    "# Set display format to scientific notation\n",
    "pd.options.display.float_format = '{:.2e}'.format"
   ]
  },
  {
   "cell_type": "code",
   "execution_count": null,
   "id": "d30e5acb-5eee-4310-9ea2-c9bca000dd35",
   "metadata": {},
   "outputs": [],
   "source": [
    "count_percentage_below_zero(df_prep,\n",
    "                            filter_col='batch_import_remeha_boiler_status_burning_ch__bool', \n",
    "                            property_col='calculated_p_load__0')"
   ]
  },
  {
   "cell_type": "code",
   "execution_count": null,
   "id": "68cd1dcf-d6ff-4e1c-9371-892c7056f210",
   "metadata": {},
   "outputs": [],
   "source": [
    "# Reset the display format to default\n",
    "pd.reset_option('display.float_format')"
   ]
  },
  {
   "cell_type": "markdown",
   "id": "e6b4c070-5464-4229-add5-00663c79ce90",
   "metadata": {},
   "source": [
    "#### Read in version of boiler-specific efficiency curves, only using return temperatures\n",
    "This is the current strategy to avoid errors with negative values in df_prep['calculated_p_load__0'] "
   ]
  },
  {
   "cell_type": "code",
   "execution_count": null,
   "id": "f8d9043e-8327-43b0-adff-b09a7fa33dda",
   "metadata": {},
   "outputs": [],
   "source": [
    "# %%time\n",
    "# # Attempt to read the Parquet file\n",
    "# try:\n",
    "#     df_boiler_efficiency = pd.read_parquet(\n",
    "#         boiler_returntemp_efficiency_file_path, \n",
    "#         # boiler_returntemp_load_efficiency_file_path, \n",
    "#         engine='pyarrow',\n",
    "#         dtype_backend='numpy_nullable'\n",
    "#         )\n",
    "#     print(\"File was successfully read without specifying compression codec.\")\n",
    "# except Exception as e:\n",
    "#     print(f\"Error reading file: {e}\")"
   ]
  },
  {
   "cell_type": "code",
   "execution_count": null,
   "id": "53237e02-e734-46cd-9668-4f2fd2b36bfc",
   "metadata": {},
   "outputs": [],
   "source": [
    "df_boiler_efficiency"
   ]
  },
  {
   "cell_type": "code",
   "execution_count": null,
   "id": "c39d727c-cc61-4585-a463-f084bebcfd32",
   "metadata": {},
   "outputs": [],
   "source": [
    "df_boiler_efficiency = "
   ]
  },
  {
   "cell_type": "markdown",
   "id": "ec7e923b-0716-48f3-a944-ff4e41620e40",
   "metadata": {},
   "source": [
    "#### Actual lookup of momentary boiler efficiency from boiler-specific efficiency curves"
   ]
  },
  {
   "cell_type": "code",
   "execution_count": null,
   "id": "74f06b95-2045-4b72-b83b-d6884196c418",
   "metadata": {},
   "outputs": [],
   "source": [
    "%%time\n",
    "# Merging DataFrames\n",
    "df_prep = (df_prep\n",
    "           .reset_index()\n",
    "           .merge(df_boiler_efficiency.reset_index().rename(columns={'boiler_model': 'brand_model',\n",
    "                                                                     'p_load__kW0': 'rounded_p_load__%',\n",
    "                                                                     'temp_ret__degC': 'rounded_temp_ret__degC'\n",
    "                                                                     }\n",
    "                                                           ),\n",
    "                  on=['brand_model', 'rounded_p_load__%', 'rounded_temp_ret__degC'], \n",
    "                  how='left'\n",
    "                  )\n",
    "           .set_index(['id', 'timestamp'])\n",
    "           .sort_index()\n",
    "          )  \n"
   ]
  },
  {
   "cell_type": "code",
   "execution_count": null,
   "id": "0d79a1b9-9777-430c-b3de-939e84f7ae37",
   "metadata": {},
   "outputs": [],
   "source": [
    "# Ensure 'eta_ch_hhv__W0' values do not exceed 1.0\n",
    "df_prep['eta_ch_hhv__W0'] = df_prep['eta_ch_hhv__W0'].clip(upper=1.0)"
   ]
  },
  {
   "cell_type": "markdown",
   "id": "8a2ad433-2f55-4ba2-ad8b-da71141c0a82",
   "metadata": {},
   "source": [
    "#### Calculating W_gain_ch__W based on boiler-specific efficiency"
   ]
  },
  {
   "cell_type": "code",
   "execution_count": null,
   "id": "3b5f8189-756d-41fb-9807-254dd95f8651",
   "metadata": {},
   "outputs": [],
   "source": [
    "%%time\n",
    "df_prep.loc[:,'calculated_Q_gain_ch_from_batch_import__W'] = (\n",
    "    df_prep['batch_import_remeha_g_use_ch_lhv__W'] \n",
    "    * (gas_groningen_nl_avg_hhv__J_m_3 /  gas_groningen_nl_avg_lhv__J_m_3) \n",
    "    * df_prep['eta_ch_hhv__W0']\n",
    ")\n",
    "\n",
    "df_prep.loc[:,'calculated_Q_gain_ch_from_fan_rpm__W'] = df_prep['calculated_g_use_ch_hhv__W'] * df_prep['eta_ch_hhv__W0']"
   ]
  },
  {
   "cell_type": "markdown",
   "id": "c5501705-f691-41bf-a721-f9088d25a09c",
   "metadata": {},
   "source": [
    "#### Calculate Q_gain_ch__W based on national average efficiency"
   ]
  },
  {
   "cell_type": "code",
   "execution_count": null,
   "id": "ab807deb-43df-4d21-9cc4-c671d9303714",
   "metadata": {},
   "outputs": [],
   "source": [
    "%%time\n",
    "df_prep.loc[:,'calculated_Q_gain_ch_from_batch_import_and_generic_efficiency__W'] = (\n",
    "    df_prep['batch_import_remeha_g_use_ch_lhv__W'] \n",
    "    *  (gas_groningen_nl_avg_hhv__J_m_3 /  gas_groningen_nl_avg_lhv__J_m_3) \n",
    "    * df_prep['eta_ch_hhv__W0']\n",
    ")\n",
    "\n",
    "df_prep.loc[:,'calculated_Q_gain_ch_from_fan_rpm_and_generic_efficiency__W'] = (\n",
    "    df_prep['calculated_g_use_ch_hhv__W'] \n",
    "    * df_prep['eta_ch_hhv__W0']\n",
    ")"
   ]
  },
  {
   "cell_type": "code",
   "execution_count": null,
   "id": "499f7a03-ec58-415d-a892-0542f2bbbaec",
   "metadata": {},
   "outputs": [],
   "source": [
    "list(df_prep.columns)"
   ]
  },
  {
   "cell_type": "markdown",
   "id": "486add66-4539-4e1d-9e7a-0f0c9bc20f67",
   "metadata": {},
   "source": [
    "#### Inspect results"
   ]
  },
  {
   "cell_type": "code",
   "execution_count": null,
   "id": "9c3927c3-a174-4376-98d8-52fbcbb76fb8",
   "metadata": {},
   "outputs": [],
   "source": [
    "df_heat_dist = df_prep[['batch_import_KNMI_ghi__W_m_2',\n",
    "                        'batch_import_KNMI_temp_out__degC',\n",
    "                        'batch_import_KNMI_wind__m_s_1',\n",
    "                        'device_p1-reader_g_use_hhv__W',\n",
    "                        'batch_import_remeha_boiler_status_burning_ch__bool',\n",
    "                        'batch_import_remeha_gas_valve_closed__bool',\n",
    "                        'batch_import_remeha_gas_valve_open__bool',\n",
    "                        'batch_import_remeha_fan_rotations__min_1', \n",
    "                        'batch_import_remeha_ch_set_fan_rotations_min__min_1', \n",
    "                        'batch_import_remeha_ch_set_fan_rotations_max__min_1', \n",
    "                        'boiler_default_min_fan_rotations__min_1', \n",
    "                        'boiler_default_max_ch_fan_rotations__min_1', \n",
    "                        'batch_import_remeha_g_use_ch_lhv__W',\n",
    "                        'batch_import_remeha_temp_set__degC',\n",
    "                        'batch_import_remeha_temp_in__degC',\n",
    "                        'device_living_room_calibrated_temp_in__degC',\n",
    "                        'batch_import_remeha_temp_sup__degC',\n",
    "                        'batch_import_remeha_temp_ret__degC',\n",
    "                        'batch_import_remeha_temp_ch_sup_max__degC', \n",
    "                        'min_fan_rotations__min_1',\n",
    "                        'max_ch_fan_rotations__min_1',\n",
    "                        'power_ch_min__kW',\n",
    "                        'power_ch_max__kW',\n",
    "                        'calculated_p_load__0',\n",
    "                        'calculated_g_use_ch_lhv__W',\n",
    "                        'calculated_g_use_ch_hhv__W',\n",
    "                        'eta_ch_hhv__W0',\n",
    "                        'calculated_Q_gain_ch_from_batch_import__W',\n",
    "                        'calculated_Q_gain_ch_from_fan_rpm__W',\n",
    "                        'calculated_Q_gain_ch_from_batch_import_and_generic_efficiency__W',\n",
    "                        'calculated_Q_gain_ch_from_fan_rpm_and_generic_efficiency__W',\n",
    "                        'rounded_p_load__%',\n",
    "                        'rounded_temp_ret__degC',\n",
    "                       ]]"
   ]
  },
  {
   "cell_type": "code",
   "execution_count": null,
   "id": "59866e26-c08d-43c6-a14e-9b5858c7e7eb",
   "metadata": {},
   "outputs": [],
   "source": [
    "df_heat_dist[df_heat_dist['batch_import_remeha_boiler_status_burning_ch__bool'] == True].groupby(level='id').agg({\n",
    "    'power_ch_min__kW': 'mean',\n",
    "    'power_ch_max__kW': 'mean',\n",
    "    'min_fan_rotations__min_1': 'mean',\n",
    "    'batch_import_remeha_ch_set_fan_rotations_min__min_1': 'mean',\n",
    "    'boiler_default_min_fan_rotations__min_1': 'mean', \n",
    "    'boiler_default_max_ch_fan_rotations__min_1': 'mean', \n",
    "    'batch_import_remeha_ch_set_fan_rotations_max__min_1': 'mean',\n",
    "    'max_ch_fan_rotations__min_1': 'mean',\n",
    "    'batch_import_remeha_fan_rotations__min_1': ['min', 'mean', 'max'],\n",
    "    'batch_import_remeha_g_use_ch_lhv__W': ['min', 'mean', 'max'],\n",
    "    'calculated_p_load__0': ['min', 'mean', 'max'],\n",
    "    'calculated_g_use_ch_hhv__W': ['min', 'mean', 'max'],\n",
    "    'calculated_Q_gain_ch_from_batch_import__W': ['min', 'mean', 'max'],\n",
    "    'calculated_Q_gain_ch_from_batch_import_and_generic_efficiency__W': ['min', 'mean', 'max'],\n",
    "    'calculated_Q_gain_ch_from_fan_rpm__W': ['min', 'mean', 'max'],\n",
    "    'calculated_Q_gain_ch_from_fan_rpm_and_generic_efficiency__W': ['min', 'mean', 'max'],\n",
    "\n",
    "}).T"
   ]
  },
  {
   "cell_type": "code",
   "execution_count": null,
   "id": "3b31d206-5506-4c35-94f4-f5a8d5114872",
   "metadata": {},
   "outputs": [],
   "source": [
    "df_heat_dist.info()"
   ]
  },
  {
   "cell_type": "code",
   "execution_count": null,
   "id": "8bae7c8b-2dd6-4620-bf52-f7223a3e0a4a",
   "metadata": {},
   "outputs": [],
   "source": [
    "# Group by 'id' and calculate the mean for both 'eta_ch_hhv__W0' and 'batch_import_remeha_temp_ret__degC'\n",
    "df_heat_dist[df_heat_dist['batch_import_remeha_boiler_status_burning_ch__bool'] == True].groupby(level='id').agg({\n",
    "    'eta_ch_hhv__W0': 'mean',\n",
    "    'batch_import_remeha_temp_ret__degC': 'mean',\n",
    "    'batch_import_remeha_temp_ch_sup_max__degC': 'mean',\n",
    "    'batch_import_remeha_temp_sup__degC': 'mean'\n",
    "}).sort_values(by='eta_ch_hhv__W0', ascending=False)"
   ]
  },
  {
   "cell_type": "code",
   "execution_count": null,
   "id": "9276a9d1-44d2-40b1-be0a-e52c1524a883",
   "metadata": {},
   "outputs": [],
   "source": [
    "df_heat_dist[df_heat_dist['batch_import_remeha_boiler_status_burning_ch__bool'] == True]['eta_ch_hhv__W0'].mean() "
   ]
  },
  {
   "cell_type": "code",
   "execution_count": null,
   "id": "3f96329c-c1c1-4b9c-8bff-986664dd1016",
   "metadata": {},
   "outputs": [],
   "source": [
    "Plot.nfh_property_per_id_boxplot(df_heat_dist, filter_col='batch_import_remeha_boiler_status_burning_ch__bool', property_col='eta_ch_hhv__W0')"
   ]
  },
  {
   "cell_type": "markdown",
   "id": "bffda6fb-9c44-481d-a187-66704d4544ac",
   "metadata": {
    "tags": []
   },
   "source": [
    "## Learn energy profile parameters\n",
    "\n",
    "Most of the heavy lifting is done by the `learn_energy_profile()` function, which again uses the [GEKKO Python](https://machinelearning.byu.edu/) dynamic optimization toolkit."
   ]
  },
  {
   "cell_type": "code",
   "execution_count": null,
   "id": "66f1a319-a72c-446e-a7f1-21dc436fe58b",
   "metadata": {
    "tags": []
   },
   "outputs": [],
   "source": [
    "# set room metadata to None, then learn_home_parameters() will derive the metadata from the ids.\n",
    "\n",
    "hints = {\n",
    "    'A_sol__m2': A_sol_nl_avg__m2,                      # initial estimate for apparent solar aperture\n",
    "    'eta_ch_hhv__W0' : eta_ch_nl_avg_hhv__W0,           # average home heating efficiency of a gas boiler (based on higher heating value)\n",
    "    'eta_not_ch_hhv__W0' : eta_not_ch_nl_avg_hhv__W0,   # average home heating efficiency indirecly DHW & cooking (based on higher heating value value)  \n",
    "    'g_not_ch_hhv__W' : g_not_ch_nl_avg_hhv__W,         # average gas power (heating value) for other purposes than home heating [W] \n",
    "    'occupancy__p' : occupancy_nl_avg__p,               # average house occupancy (1.5: 2.2 persons, at home for 16.3 of 24 hours)\n",
    "    'Q_gain_int__W_p_1' : Q_gain_int_nl_avg__W_p_1,     # average heat gain per occupant (77 W for 8.6 hours, 105 W for 7.7 hours)\n",
    "    'wind_chill__K_s_m_1' : wind_chill_nl_avg__K_s_m_1, # average for Dutch homes, according to KNMI: https://cdn.knmi.nl/knmi/pdf/bibliotheek/knmipubmetnummer/knmipub219.pdf \n",
    "    'A_inf__m2': A_inf_nl_avg__m2                       # average effective infiltration area corresponding to wind_chill_nl_avg__K_s_m_1\n",
    "    'H_nl_avg__W_K_1' : H_nl_avg__W_K_1                 # average specific heat loss for a Dutch home\n",
    "}\n",
    "\n",
    "learn = ['A_sol__m2']\n",
    "\n",
    "#define and select column names\n",
    "property_sources = {\n",
    "    'temp_in__degC' : 'batch_import_remeha_temp_in__degC',\n",
    "    'temp_out__degC' : 'batch_import_KNMI_temp_out__degC',\n",
    "    'wind__m_s_1' : 'batch_import_KNMI_wind__m_s_1',\n",
    "    'ghi__W_m_2' : 'batch_import_KNMI_ghi__W_m_2', \n",
    "    'g_use_hhv__W' : 'device_p1-reader_g_use_hhv__W',\n",
    "    'e_use__W' : 'calculated_device_p1-reader_e_use__W',\n",
    "    'e_ret__W' : 'calculated_device_p1-reader_e_ret__W',\n",
    "    'occupancy__p': 'device_living_room_occupancy__p' \n",
    "}"
   ]
  },
  {
   "cell_type": "code",
   "execution_count": null,
   "id": "d6e191e5-b2f6-4087-be5a-e0a65531c3c5",
   "metadata": {
    "tags": []
   },
   "outputs": [],
   "source": [
    "# learn the model parameters and write results to a dataframe\n",
    "%autoreload 2\n",
    "df_results_per_period, df_results = Learner.learn_energy_profile(df_prep, \n",
    "                                                                  property_sources = property_sources, \n",
    "                                                                  learn = learn, \n",
    "                                                                  hints = hints,\n",
    "                                                                  ev_type = 2\n",
    "                                                                 )"
   ]
  },
  {
   "cell_type": "markdown",
   "id": "fac8ce42-1881-4246-b6b8-6b8c886874f3",
   "metadata": {},
   "source": [
    "### Result per learning period"
   ]
  },
  {
   "cell_type": "code",
   "execution_count": null,
   "id": "f22a7858-e055-4f7c-b493-954f0bf5b549",
   "metadata": {},
   "outputs": [],
   "source": [
    "df_results_per_period"
   ]
  },
  {
   "cell_type": "code",
   "execution_count": null,
   "id": "f3477762-b12d-4d95-840a-1a4db75f6863",
   "metadata": {
    "tags": []
   },
   "outputs": [],
   "source": [
    "# show essential statistics for the learned values\n",
    "df_stats = df_results_per_period.describe().filter(regex='^actual_|^learned_')\n",
    "df_stats.loc[df_stats.index.get_level_values(0).isin(['mean', 'std', 'min', 'max'])]"
   ]
  },
  {
   "cell_type": "code",
   "execution_count": null,
   "id": "17688b94-33d1-4e31-affb-c5eea0b88e82",
   "metadata": {
    "tags": []
   },
   "outputs": [],
   "source": [
    "# show essential statistics for the errors\n",
    "df_stats = df_results_per_period.describe().filter(regex='^mae_|^rmse')\n",
    "df_stats.loc[df_stats.index.get_level_values(0).isin(['mean', 'std', 'min', 'max'])]"
   ]
  },
  {
   "cell_type": "code",
   "execution_count": null,
   "id": "24067a35-0f73-44dd-bd4d-bdc7fa4e479b",
   "metadata": {
    "tags": []
   },
   "outputs": [],
   "source": [
    "# show essential statistics for the error values, per id\n",
    "df_stats = df_results_per_period.groupby('id').describe().stack().filter(regex='^mae_|^rmse')\n",
    "df_stats.loc[df_stats.index.get_level_values(1).isin(['mean', 'std', 'min', 'max'])]"
   ]
  },
  {
   "cell_type": "markdown",
   "id": "5449c5bd-9446-4814-82bb-da2a228bc27b",
   "metadata": {},
   "source": [
    "### Result Visualization"
   ]
  },
  {
   "cell_type": "code",
   "execution_count": null,
   "id": "88306340-8435-4302-acd4-fd3a5a6e0f5f",
   "metadata": {},
   "outputs": [],
   "source": [
    "df_results"
   ]
  },
  {
   "cell_type": "code",
   "execution_count": null,
   "id": "5886cea4-8f61-4995-91a2-ee53902335cd",
   "metadata": {},
   "outputs": [],
   "source": [
    "df_plot = df_prep[[prop for prop in df_prep.columns.values if prop.split('__')[-1] == 'degC']]"
   ]
  },
  {
   "cell_type": "code",
   "execution_count": null,
   "id": "29d4dd2f-1659-438b-911d-a4cb3f5edd4f",
   "metadata": {},
   "outputs": [],
   "source": [
    "#Plot only temperatures from all sources for all ids\n",
    "Plot.dataframe_preprocessed_plot(df_plot, units_to_mathtext)"
   ]
  },
  {
   "cell_type": "code",
   "execution_count": null,
   "id": "d1fb57c7-5e48-45ba-ab56-59279d77a404",
   "metadata": {},
   "outputs": [],
   "source": [
    "df_lot = df_prep"
   ]
  },
  {
   "cell_type": "code",
   "execution_count": null,
   "id": "3e186b4b-e2de-45f6-ba53-39105a013a9a",
   "metadata": {
    "tags": []
   },
   "outputs": [],
   "source": [
    "#Plot all properties from all sources for all ids\n",
    "Plot.dataframe_preprocessed_plot(df_plot, units_to_mathtext)"
   ]
  },
  {
   "cell_type": "code",
   "execution_count": null,
   "id": "3160428b-8d88-476f-a345-aa096f0aa62e",
   "metadata": {},
   "outputs": [],
   "source": []
  }
 ],
 "metadata": {
  "kernelspec": {
   "display_name": "Python 3 (ipykernel)",
   "language": "python",
   "name": "python3"
  },
  "language_info": {
   "codemirror_mode": {
    "name": "ipython",
    "version": 3
   },
   "file_extension": ".py",
   "mimetype": "text/x-python",
   "name": "python",
   "nbconvert_exporter": "python",
   "pygments_lexer": "ipython3",
   "version": "3.11.6"
  },
  "vscode": {
   "interpreter": {
    "hash": "2b52c2ff5431c21ddbe91dac57ae43ca32d3900acacc91a5c2a32f1a3c11d7aa"
   }
  }
 },
 "nbformat": 4,
 "nbformat_minor": 5
}
