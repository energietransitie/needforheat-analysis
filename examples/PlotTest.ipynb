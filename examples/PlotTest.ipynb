{
 "cells": [
  {
   "cell_type": "markdown",
   "id": "c7a324c5-9e4a-4cc0-aabf-7edbc3f3de12",
   "metadata": {},
   "source": [
    "# Testing plots "
   ]
  },
  {
   "cell_type": "code",
   "execution_count": null,
   "id": "498680d2-8965-46e3-b4ec-2983f8bb0046",
   "metadata": {},
   "outputs": [],
   "source": [
    "import pandas as pd\n",
    "import numpy as np\n",
    "import pylab as plt\n",
    "\n",
    "# usually, two decimals suffice for displaying DataFrames (NB internally, precision may be higher)\n",
    "pd.options.display.precision = 2\n",
    "\n",
    "import sys\n",
    "sys.path.append('../data/')\n",
    "\n",
    "%load_ext autoreload\n",
    "\n",
    "\n",
    "%matplotlib widget\n",
    "\n",
    "from preprocessor import Preprocessor"
   ]
  },
  {
   "cell_type": "code",
   "execution_count": null,
   "id": "31828cb3-2b91-42dc-ae8f-c0c5efa392e5",
   "metadata": {},
   "outputs": [],
   "source": [
    "%%time\n",
    "# Prerequisite: for this example to work, you need to have the b4b_raw_properties.parquet, located e.g. in the ../data/ folder.\n",
    "# One way to get this is to run B4BExtractionBackup.ipynb first\n",
    "df = pd.read_parquet('b4b_raw_properties.parquet', engine='pyarrow')\n",
    "\n",
    "#sorting the DataFrame index is needed to get good performance on certain filters\n",
    "if not df.index.is_monotonic_increasing:\n",
    "  df = df.sort_index()  "
   ]
  },
  {
   "cell_type": "code",
   "execution_count": null,
   "id": "7d7fd48d-abce-4ac4-9564-7474a272eec9",
   "metadata": {},
   "outputs": [],
   "source": [
    "def get_unit(prop:str) -> str:\n",
    "    return prop.split('__')[-1]"
   ]
  },
  {
   "cell_type": "code",
   "execution_count": null,
   "id": "655e61eb-3f2c-4711-9a96-098c0695bcdd",
   "metadata": {},
   "outputs": [],
   "source": [
    "# This cell can be used to plot one or more properties in one or more rooms for one or more sources\n",
    "# TODO: unstack sources and put data from different sources with same unit in same subplot, while still clearly identifying source in label and color \n",
    "\n",
    "for id, source in list(df.index.droplevel(2).to_flat_index().unique()):\n",
    "    props_with_data = [prop for prop in list(df.columns) if df.loc[id,source][prop].count()>0] \n",
    "    units_with_data = np.unique(np.array([get_unit(prop) for prop in props_with_data]))\n",
    "    unit_tuples = [tuple([prop for prop in props_with_data if get_unit(prop) == unit]) for unit in units_with_data]\n",
    "    df.loc[id,source][props_with_data].plot(\n",
    "        subplots = unit_tuples,\n",
    "        style='.--',\n",
    "        title=f'room: {id}, source: {source}'\n",
    "    )"
   ]
  }
 ],
 "metadata": {
  "kernelspec": {
   "display_name": "Python 3 (ipykernel)",
   "language": "python",
   "name": "python3"
  },
  "language_info": {
   "codemirror_mode": {
    "name": "ipython",
    "version": 3
   },
   "file_extension": ".py",
   "mimetype": "text/x-python",
   "name": "python",
   "nbconvert_exporter": "python",
   "pygments_lexer": "ipython3",
   "version": "3.10.6"
  }
 },
 "nbformat": 4,
 "nbformat_minor": 5
}
