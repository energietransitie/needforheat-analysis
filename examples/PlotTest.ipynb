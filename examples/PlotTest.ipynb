{
 "cells": [
  {
   "cell_type": "markdown",
   "id": "c7a324c5-9e4a-4cc0-aabf-7edbc3f3de12",
   "metadata": {},
   "source": [
    "# Testing plots "
   ]
  },
  {
   "cell_type": "code",
   "execution_count": null,
   "id": "498680d2-8965-46e3-b4ec-2983f8bb0046",
   "metadata": {},
   "outputs": [],
   "source": [
    "import pandas as pd\n",
    "\n",
    "# usually, two decimals suffice for displaying DataFrames (NB internally, precision may be higher)\n",
    "pd.options.display.precision = 2\n",
    "\n",
    "import sys\n",
    "sys.path.append('../data/')\n",
    "sys.path.append('../view/')\n",
    "\n",
    "%load_ext autoreload\n",
    "\n",
    "\n",
    "%matplotlib inline\n",
    "%matplotlib widget\n",
    "\n",
    "from plotter import Plot"
   ]
  },
  {
   "cell_type": "code",
   "execution_count": null,
   "id": "31828cb3-2b91-42dc-ae8f-c0c5efa392e5",
   "metadata": {},
   "outputs": [],
   "source": [
    "%%time\n",
    "# Prerequisite: for this example to work, you need to have the b4b_raw_properties.parquet, located e.g. in the ../data/ folder.\n",
    "# One way to get this is to run B4BExtractionBackup.ipynb first\n",
    "df = pd.read_parquet('b4b_raw_properties.parquet', engine='pyarrow')\n",
    "\n",
    "#sorting the DataFrame index is needed to get good performance on certain filters\n",
    "#this guarding code to check whether DataFramews are properly sorted\n",
    "if not df.index.is_monotonic_increasing:\n",
    "    print('df needed index sorting')\n",
    "    df = df.sort_index()  "
   ]
  },
  {
   "cell_type": "code",
   "execution_count": null,
   "id": "8ce19251-ff5b-425b-a97b-1b57e5ca0042",
   "metadata": {},
   "outputs": [],
   "source": [
    "df"
   ]
  },
  {
   "cell_type": "code",
   "execution_count": null,
   "id": "d416e1d3-832c-4912-a8fe-c5fb2ea0c505",
   "metadata": {},
   "outputs": [],
   "source": [
    "units_to_mathtext = property_types = {\n",
    "    'degC' : r'$°C$',\n",
    "    'ppm' : r'$ppm$',\n",
    "    '0' : r'$[-]$',\n",
    "    'bool': r'$0 = False; 1 = True$',\n",
    "    'p' : r'$persons$'\n",
    "}\n",
    "\n",
    "Plot.dataframe_properties_plot(df, units_to_mathtext)"
   ]
  }
 ],
 "metadata": {
  "kernelspec": {
   "display_name": "Python 3 (ipykernel)",
   "language": "python",
   "name": "python3"
  },
  "language_info": {
   "codemirror_mode": {
    "name": "ipython",
    "version": 3
   },
   "file_extension": ".py",
   "mimetype": "text/x-python",
   "name": "python",
   "nbconvert_exporter": "python",
   "pygments_lexer": "ipython3",
   "version": "3.10.6"
  }
 },
 "nbformat": 4,
 "nbformat_minor": 5
}
