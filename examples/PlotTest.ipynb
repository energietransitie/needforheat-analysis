{
 "cells": [
  {
   "cell_type": "markdown",
   "id": "c7a324c5-9e4a-4cc0-aabf-7edbc3f3de12",
   "metadata": {},
   "source": [
    "# Testing plots "
   ]
  },
  {
   "cell_type": "code",
   "execution_count": null,
   "id": "498680d2-8965-46e3-b4ec-2983f8bb0046",
   "metadata": {},
   "outputs": [],
   "source": [
    "import pandas as pd\n",
    "\n",
    "# usually, two decimals suffice for displaying DataFrames (NB internally, precision may be higher)\n",
    "pd.options.display.precision = 2\n",
    "\n",
    "import sys\n",
    "sys.path.append('../data/')\n",
    "sys.path.append('../view/')\n",
    "\n",
    "%load_ext autoreload\n",
    "\n",
    "\n",
    "%matplotlib inline\n",
    "%matplotlib widget\n",
    "\n",
    "from plotter import Plot"
   ]
  },
  {
   "cell_type": "code",
   "execution_count": null,
   "id": "31828cb3-2b91-42dc-ae8f-c0c5efa392e5",
   "metadata": {},
   "outputs": [],
   "source": [
    "%%time\n",
    "# Prerequisite: for this example to work, you need to have the b4b_raw_properties.parquet, located e.g. in the ../data/ folder.\n",
    "# One way to get this is to run B4BExtractionBackup.ipynb first\n",
    "df = pd.read_parquet('b4b_raw_properties.parquet', engine='pyarrow')\n",
    "\n",
    "#sorting the DataFrame index is needed to get good performance on certain filters\n",
    "#this guarding code to check whether DataFramews are properly sorted\n",
    "if not df.index.is_monotonic_increasing:\n",
    "    print('df needed index sorting')\n",
    "    df = df.sort_index()  "
   ]
  },
  {
   "cell_type": "code",
   "execution_count": null,
   "id": "570d8534-13b0-4f24-9dfb-05333fb5a4e5",
   "metadata": {},
   "outputs": [],
   "source": [
    "df"
   ]
  },
  {
   "cell_type": "code",
   "execution_count": null,
   "id": "8ce19251-ff5b-425b-a97b-1b57e5ca0042",
   "metadata": {},
   "outputs": [],
   "source": [
    "df.index.levels[1]"
   ]
  },
  {
   "cell_type": "code",
   "execution_count": null,
   "id": "a9bbeccf-1b0b-4841-9cfb-22235eb1c84d",
   "metadata": {},
   "outputs": [],
   "source": [
    "%autoreload 2\n",
    "units_to_mathtext = property_types = {\n",
    "    'degC' : r'$°C$',\n",
    "    'ppm' : r'$ppm$',\n",
    "    '0' : r'$[-]$',\n",
    "    'bool': r'$0 = False; 1 = True$',\n",
    "    'p' : r'$persons$'\n",
    "}"
   ]
  },
  {
   "cell_type": "code",
   "execution_count": null,
   "id": "72206316-b0ef-4050-83b2-24a17138e5c9",
   "metadata": {},
   "outputs": [],
   "source": [
    "#Plot all properties from all sources for all ids\n",
    "Plot.dataframe_properties_plot(df, units_to_mathtext)"
   ]
  },
  {
   "cell_type": "code",
   "execution_count": null,
   "id": "49cc9eee-094a-4595-9c95-6db1564bc37a",
   "metadata": {},
   "outputs": [],
   "source": [
    "#Plot all properties for a single id\n",
    "Plot.dataframe_properties_plot(df.xs(999169, drop_level=False), units_to_mathtext)"
   ]
  },
  {
   "cell_type": "code",
   "execution_count": null,
   "id": "37523f60-65b1-400d-b6c8-4e2f50b8f6a0",
   "metadata": {},
   "outputs": [],
   "source": [
    "#Plot all properties of a single source for all ids \n",
    "Plot.dataframe_properties_plot(df.xs('bms', level='source', drop_level=False), units_to_mathtext)"
   ]
  },
  {
   "cell_type": "code",
   "execution_count": null,
   "id": "8df25bb8-7e59-44b2-94cf-ef989c7e71c4",
   "metadata": {},
   "outputs": [],
   "source": [
    "#Plot all properties of of a single source for a single id \n",
    "Plot.dataframe_properties_plot(df.xs((999169, 'bms'), level=['id', 'source'], drop_level=False), units_to_mathtext)"
   ]
  },
  {
   "cell_type": "code",
   "execution_count": null,
   "id": "bd6d75e2-7358-450c-bc2d-1ae423684d95",
   "metadata": {},
   "outputs": [],
   "source": [
    "#Plot only specific types of properties for all sources for al ids\n",
    "Plot.dataframe_properties_plot(df[[prop for prop in df.columns.values if prop.split('__')[-1] == 'bool']], units_to_mathtext)"
   ]
  },
  {
   "cell_type": "code",
   "execution_count": null,
   "id": "06a16398-a9fe-40d4-9a78-d30719669f2a",
   "metadata": {},
   "outputs": [],
   "source": [
    "#Plot specific properties of of a single source for a single id \n",
    "Plot.dataframe_properties_plot(df.xs((999169, 'bms'), level=['id', 'source'], drop_level=False)[['occupancy__bool', 'valve_frac__0']], units_to_mathtext)"
   ]
  },
  {
   "cell_type": "code",
   "execution_count": null,
   "id": "243095ff-ade9-42b8-b138-a4c6dab93d11",
   "metadata": {},
   "outputs": [],
   "source": [
    "#Plot specific properties of of a single source for a single id \n",
    "Plot.dataframe_properties_plot(df.xs((925038, 'bms'), level=['id', 'source'], drop_level=False)[['co2__ppm']], units_to_mathtext)"
   ]
  },
  {
   "cell_type": "code",
   "execution_count": null,
   "id": "a1a97e58-f8c5-4440-b23e-1a014616c8d2",
   "metadata": {},
   "outputs": [],
   "source": [
    "#Plot specific properties of of a single source for a single id \n",
    "Plot.dataframe_properties_plot(df.xs((924038, 'bms'), level=['id', 'source'], drop_level=False)[['co2__ppm']], units_to_mathtext)"
   ]
  },
  {
   "cell_type": "code",
   "execution_count": null,
   "id": "830787d6-a09a-455f-bfb1-1e695c3f427a",
   "metadata": {},
   "outputs": [],
   "source": [
    "#Plot specific properties of of a single source for a single id \n",
    "Plot.dataframe_properties_plot(df.xs((900846, 'bms'), level=['id', 'source'], drop_level=False)[['co2__ppm']], units_to_mathtext)"
   ]
  },
  {
   "cell_type": "code",
   "execution_count": null,
   "id": "733e9c1f-4cfc-4b07-a659-ef117ea79010",
   "metadata": {},
   "outputs": [],
   "source": [
    "for id in [925038, 924038, 900846]:\n",
    "    df.xs((id, 'bms'), level=['id', 'source'], drop_level=False)[['co2__ppm']].plot(kind='hist', bins=40, title= id)"
   ]
  },
  {
   "cell_type": "code",
   "execution_count": null,
   "id": "365ec988-5506-4196-9d89-4577f80358c0",
   "metadata": {},
   "outputs": [],
   "source": [
    "for id in [925038, 924038, 900846]:\n",
    "    print(id, df.xs((id, 'bms'), level=['id', 'source'], drop_level=False).co2__ppm.describe())"
   ]
  },
  {
   "cell_type": "code",
   "execution_count": null,
   "id": "2d535fe2-f1a4-4528-8530-bbd9fc70a3d4",
   "metadata": {},
   "outputs": [],
   "source": [
    "for id in df.index.levels[0]:\n",
    "    df.xs((id, 'CO2-meter-SCD4x'), level=['id', 'source'], drop_level=False)[['co2__ppm']].plot(kind='hist', bins=40, title= id)"
   ]
  },
  {
   "cell_type": "code",
   "execution_count": null,
   "id": "4ee3cbfb-b5e7-4607-b4a3-7d84956c3f6f",
   "metadata": {},
   "outputs": [],
   "source": []
  }
 ],
 "metadata": {
  "kernelspec": {
   "display_name": "Python 3 (ipykernel)",
   "language": "python",
   "name": "python3"
  },
  "language_info": {
   "codemirror_mode": {
    "name": "ipython",
    "version": 3
   },
   "file_extension": ".py",
   "mimetype": "text/x-python",
   "name": "python",
   "nbconvert_exporter": "python",
   "pygments_lexer": "ipython3",
   "version": "3.10.8"
  }
 },
 "nbformat": 4,
 "nbformat_minor": 5
}
