{
 "cells": [
  {
   "cell_type": "markdown",
   "id": "6856fc7c-e654-4ab9-af2e-6bfbb4858976",
   "metadata": {},
   "source": [
    "# Preprocessing REDUCEDHEATARB data"
   ]
  },
  {
   "cell_type": "code",
   "execution_count": null,
   "id": "d099eec7-e0ca-4d52-bd04-e58bffd90633",
   "metadata": {
    "tags": []
   },
   "outputs": [],
   "source": [
    "import pandas as pd\n",
    "import numpy as np\n",
    "import pylab as plt\n",
    "\n",
    "# usually, two decimals suffice for displaying DataFrames (NB internally, precision may be higher)\n",
    "pd.options.display.precision = 2\n",
    "\n",
    "import sys\n",
    "sys.path.append('../data/')\n",
    "sys.path.append('../view/')\n",
    "\n",
    "rhc_raw_properties_file='rhc_raw_props.parquet'\n",
    "rhc_preprocessed_poperties_file='rhc_prep_props.parquet'\n",
    "%load_ext autoreload\n",
    "\n",
    "%matplotlib inline\n",
    "%matplotlib widget\n",
    "\n",
    "from preprocessor import Preprocessor\n",
    "from plotter import Plot\n",
    "\n",
    "meta_df = None\n"
   ]
  },
  {
   "cell_type": "markdown",
   "id": "2c867b6c-3e5c-478d-aab5-cc3a0b9f2afc",
   "metadata": {},
   "source": [
    "### Load Measured Data Properties from parquet file"
   ]
  },
  {
   "cell_type": "code",
   "execution_count": null,
   "id": "99763197-f115-4b09-93c0-c70d06c8963b",
   "metadata": {},
   "outputs": [],
   "source": [
    "%%time\n",
    "# Prerequisite: for this example to work, you need to have the b4b_raw_properties.parquet, located in the ../data/ folder.\n",
    "# One way to get this is to run NeedForHeatExtractionBackup.ipynb, REDUCEDHEATCARB_data_merge.ipynb and REDUCEDHEATCARB_sanity_check.ipynb first,\n",
    "# but then you have to run this code on the energietransitiewindesheim.nl server\n",
    "\n",
    "# Attempt to read the Parquet file\n",
    "try:\n",
    "    df_prop = pd.read_parquet(\n",
    "        rhc_raw_properties_file, \n",
    "        engine='pyarrow',\n",
    "        use_nullable_dtypes=True\n",
    "        )\n",
    "    print(\"File was successfully read without specifying compression codec.\")\n",
    "except Exception as e:\n",
    "    print(f\"Error reading file: {e}\")\n",
    "\n",
    "#sorting the DataFrame index is needed to get good performance on certain filters\n",
    "#this guarding code to check whether DataFrames are properly sorted\n",
    "if not df_prop.index.is_monotonic_increasing:\n",
    "    print('df needed index sorting')\n",
    "    df_prop = df_prop.sort_index()  "
   ]
  },
  {
   "cell_type": "code",
   "execution_count": null,
   "id": "f2b4899d-94f9-4307-92ca-80b55014977c",
   "metadata": {
    "tags": []
   },
   "outputs": [],
   "source": [
    "df_prop.index.unique(level='id').values"
   ]
  },
  {
   "cell_type": "code",
   "execution_count": null,
   "id": "d7c6ae4a-ec39-4ff4-9376-131050ae1a0c",
   "metadata": {},
   "outputs": [],
   "source": [
    "df_prop.index.unique(level='source_category').values"
   ]
  },
  {
   "cell_type": "code",
   "execution_count": null,
   "id": "d3187fc4-cf50-420d-a644-05a90e131443",
   "metadata": {
    "tags": []
   },
   "outputs": [],
   "source": [
    "df_prop.index.unique(level='source_type').values"
   ]
  },
  {
   "cell_type": "code",
   "execution_count": null,
   "id": "780de484-b182-40ac-86a4-aa7df0714e20",
   "metadata": {},
   "outputs": [],
   "source": [
    "# Rename long source type names\n",
    "rename_dict = {\n",
    "    'twomes-co2-occupancy-scd41-m5coreink-firmware': 'living_room',\n",
    "    'twomes-p1-reader-firmware': 'p1-reader'\n",
    "}\n",
    "\n",
    "df_prop = df_prop.rename(index=rename_dict, level='source_type')\n"
   ]
  },
  {
   "cell_type": "code",
   "execution_count": null,
   "id": "1f3ae634-404b-43c9-b6dc-b4906b3f20a2",
   "metadata": {},
   "outputs": [],
   "source": [
    "df_prop.index.unique(level='source_type').values"
   ]
  },
  {
   "cell_type": "code",
   "execution_count": null,
   "id": "41467d69-f38b-4ec0-9775-f19ef2afac53",
   "metadata": {},
   "outputs": [],
   "source": [
    "df_prop"
   ]
  },
  {
   "cell_type": "code",
   "execution_count": null,
   "id": "3cbf8bd2-4c58-4f35-9895-a75330a5aafe",
   "metadata": {},
   "outputs": [],
   "source": [
    "df_prop.count().sum()"
   ]
  },
  {
   "cell_type": "code",
   "execution_count": null,
   "id": "fafe1564-83b7-4f3b-85f2-77e491f23903",
   "metadata": {
    "tags": []
   },
   "outputs": [],
   "source": [
    "df_prop.info()"
   ]
  },
  {
   "cell_type": "markdown",
   "id": "f358df11-1f90-4db2-8693-6016ab0663e4",
   "metadata": {
    "tags": []
   },
   "source": [
    "## Inspecting and preprocessing properties"
   ]
  },
  {
   "cell_type": "code",
   "execution_count": null,
   "id": "a2150463-4077-48ef-b1e9-a102eb53cfe4",
   "metadata": {
    "scrolled": true
   },
   "outputs": [],
   "source": [
    "df_prop.describe().T"
   ]
  },
  {
   "cell_type": "code",
   "execution_count": null,
   "id": "0a155532-934b-4e18-89b6-49b889dcb9c4",
   "metadata": {},
   "outputs": [],
   "source": [
    "df_bools_to_float = df_prop[[col for col in df_prop.columns if col.endswith('__bool')]].copy()\n",
    "for col in df_bools_to_float.columns:\n",
    "    df_bools_to_float[col] = df_bools_to_float[col].astype('float')\n",
    "df_bools_to_float.describe().T.drop(columns='count').style.format(\"{:.2%}\")"
   ]
  },
  {
   "cell_type": "markdown",
   "id": "20078b3f-40cf-4116-9ae1-45df59a07a71",
   "metadata": {},
   "source": [
    "### Preprocessing temp_out__degC"
   ]
  },
  {
   "cell_type": "code",
   "execution_count": null,
   "id": "de9e4ba6-b02f-40ec-9009-8dfa9a2af4f7",
   "metadata": {},
   "outputs": [],
   "source": [
    "prop = 'temp_out__degC'"
   ]
  },
  {
   "cell_type": "code",
   "execution_count": null,
   "id": "674c714f-016d-49c4-8019-bd8d2f4b7449",
   "metadata": {},
   "outputs": [],
   "source": [
    "df_prop[prop].describe().T"
   ]
  },
  {
   "cell_type": "code",
   "execution_count": null,
   "id": "f7b20042-3042-492b-ad03-8b059219b964",
   "metadata": {
    "scrolled": true,
    "tags": []
   },
   "outputs": [],
   "source": [
    "%matplotlib inline\n",
    "%matplotlib widget\n",
    "df_prop[prop].plot.hist(bins=200, alpha=0.5, title = prop)"
   ]
  },
  {
   "cell_type": "code",
   "execution_count": null,
   "id": "daf26505-ff24-4d0f-aac8-9a4ac732e670",
   "metadata": {},
   "outputs": [],
   "source": [
    "df_prop, meta_df = Preprocessor.filter_min_max(df_prop, prop, min=-28.0, max=40.0, meta_df=meta_df)"
   ]
  },
  {
   "cell_type": "code",
   "execution_count": null,
   "id": "30cc3cfe-ee48-490e-be1e-c2f46f2eaeeb",
   "metadata": {},
   "outputs": [],
   "source": [
    "meta_df"
   ]
  },
  {
   "cell_type": "code",
   "execution_count": null,
   "id": "57378b10-363f-4730-af64-f82cb0b283e4",
   "metadata": {},
   "outputs": [],
   "source": [
    "df_prop[prop].describe().T"
   ]
  },
  {
   "cell_type": "code",
   "execution_count": null,
   "id": "883c4755-86f5-416c-96f3-4019c0824337",
   "metadata": {
    "scrolled": true,
    "tags": []
   },
   "outputs": [],
   "source": [
    "%matplotlib inline\n",
    "%matplotlib widget\n",
    "df_prop[prop].plot.hist(bins=200, alpha=0.5, title = prop)"
   ]
  },
  {
   "cell_type": "markdown",
   "id": "bfe1a521-537e-4c7f-a6ed-082c0ec07faf",
   "metadata": {},
   "source": [
    "### Preprocessing temp_in__degC"
   ]
  },
  {
   "cell_type": "code",
   "execution_count": null,
   "id": "99be4471-d48a-482c-9583-920b736de930",
   "metadata": {},
   "outputs": [],
   "source": [
    "prop = 'temp_in__degC'"
   ]
  },
  {
   "cell_type": "code",
   "execution_count": null,
   "id": "ac5a8de9-1acc-4ea5-a708-b80fee747591",
   "metadata": {
    "scrolled": true
   },
   "outputs": [],
   "source": [
    "df_prop[prop].describe().T"
   ]
  },
  {
   "cell_type": "code",
   "execution_count": null,
   "id": "465543b0-98a1-4ce3-91dd-e0a4cd84ce78",
   "metadata": {
    "scrolled": true,
    "tags": []
   },
   "outputs": [],
   "source": [
    "%matplotlib inline\n",
    "%matplotlib widget\n",
    "df_prop[prop].plot.hist(bins=200, alpha=0.5, title = prop)"
   ]
  },
  {
   "cell_type": "code",
   "execution_count": null,
   "id": "26f5caeb-b424-4880-b971-2cb6519152fb",
   "metadata": {},
   "outputs": [],
   "source": [
    "df_prop, meta_df = Preprocessor.filter_min_max(df_prop, prop, min=0.0, max=40.0, meta_df=meta_df)"
   ]
  },
  {
   "cell_type": "code",
   "execution_count": null,
   "id": "b6cb9a02-2916-4903-a3cf-475c8195924c",
   "metadata": {},
   "outputs": [],
   "source": [
    "meta_df"
   ]
  },
  {
   "cell_type": "code",
   "execution_count": null,
   "id": "0a1a37d0-a626-48a6-925b-0318fe7e7aef",
   "metadata": {},
   "outputs": [],
   "source": [
    "df_prop[prop].info()"
   ]
  },
  {
   "cell_type": "code",
   "execution_count": null,
   "id": "01c92a9c-3c23-463e-82c1-d8aedaa5fc6e",
   "metadata": {},
   "outputs": [],
   "source": [
    "df_prop[prop].groupby(level='id').count()"
   ]
  },
  {
   "cell_type": "code",
   "execution_count": null,
   "id": "aa3038f8-695a-491a-ae4f-2d6ebb86b52c",
   "metadata": {
    "scrolled": true
   },
   "outputs": [],
   "source": [
    "df_prop[prop].describe().T"
   ]
  },
  {
   "cell_type": "code",
   "execution_count": null,
   "id": "6355d7c1-f97e-441b-9281-56b837642eec",
   "metadata": {
    "scrolled": true,
    "tags": []
   },
   "outputs": [],
   "source": [
    "%matplotlib inline\n",
    "%matplotlib widget\n",
    "df_prop[prop].plot.hist(bins=200, alpha=0.5, title = prop)"
   ]
  },
  {
   "cell_type": "code",
   "execution_count": null,
   "id": "9597eb74-acbb-4c2a-8a49-7db9cdaf77df",
   "metadata": {
    "scrolled": true,
    "tags": []
   },
   "outputs": [],
   "source": [
    "%matplotlib inline\n",
    "%matplotlib widget\n",
    "df_prop[['temp_in__degC', 'temp_set__degC']].plot.hist(bins=200, alpha=0.5, title = 'temp_in__degC, temp_set__degC')"
   ]
  },
  {
   "cell_type": "markdown",
   "id": "e07bda8c-8f4f-44b0-a9d1-bd6d72312582",
   "metadata": {},
   "source": [
    "#### Preprocess indoor temperatures per source_category"
   ]
  },
  {
   "cell_type": "code",
   "execution_count": null,
   "id": "9a17f814-2ca0-4999-bfde-fe6fcceb3301",
   "metadata": {},
   "outputs": [],
   "source": [
    "df_prop[prop].groupby(level='source_type').describe()"
   ]
  },
  {
   "cell_type": "code",
   "execution_count": null,
   "id": "317b9049-2860-4c94-b51a-6a9197776269",
   "metadata": {},
   "outputs": [],
   "source": [
    "%matplotlib inline\n",
    "%matplotlib widget\n",
    "source_types = df_prop.index.get_level_values('source_type').unique()\n",
    "valid_source_types = [st for st in source_types if not df_prop.xs(st, level='source_type')[prop].dropna().empty]\n",
    "\n",
    "# Create the plot\n",
    "plt.figure(figsize=(10, 6))\n",
    "\n",
    "for source_type in valid_source_types:\n",
    "    # Filter DataFrame for the current source_type and drop NaN values\n",
    "    df_filtered = df_prop.xs(source_type, level='source_type')[prop].dropna()\n",
    "    \n",
    "    # Plot the histogram using matplotlib directly\n",
    "    plt.hist(df_filtered, bins=200, alpha=0.5, density=True, label=source_type)\n",
    "\n",
    "plt.legend()\n",
    "plt.show()"
   ]
  },
  {
   "cell_type": "code",
   "execution_count": null,
   "id": "f4c56c6d-7407-42aa-adbf-d130241f3214",
   "metadata": {},
   "outputs": [],
   "source": [
    "source_types"
   ]
  },
  {
   "cell_type": "code",
   "execution_count": null,
   "id": "c7ffb49f-8c00-4959-b315-1b87a2818c47",
   "metadata": {},
   "outputs": [],
   "source": [
    "%autoreload 2 \n",
    "df_calibration_factors = Preprocessor.compute_calibration_factors(df_prop, prop, 'living_room', 'remeha', 20)"
   ]
  },
  {
   "cell_type": "code",
   "execution_count": null,
   "id": "a10ed0d9-c64a-491a-b669-6cf0c1a3c742",
   "metadata": {},
   "outputs": [],
   "source": [
    "df_calibration_factors"
   ]
  },
  {
   "cell_type": "code",
   "execution_count": null,
   "id": "d7ee5025-0985-451d-90cd-71a256a4f834",
   "metadata": {},
   "outputs": [],
   "source": [
    "pd.DataFrame(df_calibration_factors.mean()).T"
   ]
  },
  {
   "cell_type": "code",
   "execution_count": null,
   "id": "96d1c381-63db-43f6-8789-6026e6bd9158",
   "metadata": {},
   "outputs": [],
   "source": [
    "%%time\n",
    "df_prop, metadata = Preprocessor.create_calibrated_property(df_prop, prop, 'living_room', 'remeha', 20)        \n"
   ]
  },
  {
   "cell_type": "code",
   "execution_count": null,
   "id": "e5e23738-d7b0-48a3-9d4c-4b071912c048",
   "metadata": {},
   "outputs": [],
   "source": [
    "df_prop[prop].groupby(level='source_type').describe()"
   ]
  },
  {
   "cell_type": "code",
   "execution_count": null,
   "id": "e8d39e86-347d-4c7a-95fe-0179d7849c55",
   "metadata": {},
   "outputs": [],
   "source": [
    "metadata"
   ]
  },
  {
   "cell_type": "code",
   "execution_count": null,
   "id": "2244dd4b-cfc4-431d-a24d-4f210adc90b0",
   "metadata": {},
   "outputs": [],
   "source": [
    "%matplotlib inline\n",
    "%matplotlib widget\n",
    "source_types = df_prop.index.get_level_values('source_type').unique()\n",
    "valid_source_types = [st for st in source_types if not df_prop.xs(st, level='source_type')[prop].dropna().empty]\n",
    "\n",
    "# Create the plot\n",
    "plt.figure(figsize=(10, 6))\n",
    "\n",
    "for source_type in valid_source_types:\n",
    "    # Filter DataFrame for the current source_type and drop NaN values\n",
    "    df_filtered = df_prop.xs(source_type, level='source_type')[prop].dropna()\n",
    "    \n",
    "    # Plot the histogram using matplotlib directly\n",
    "    plt.hist(df_filtered, bins=200, alpha=0.5, density=True, label=source_type)\n",
    "\n",
    "plt.legend()\n",
    "plt.show()"
   ]
  },
  {
   "cell_type": "markdown",
   "id": "bc8c4bf3-5183-47ba-8f44-8a9955db136c",
   "metadata": {},
   "source": [
    "### Preprocessing temp_sup__degC"
   ]
  },
  {
   "cell_type": "code",
   "execution_count": null,
   "id": "355ee5ac-66ee-4fa5-aa13-94eb867d17a0",
   "metadata": {},
   "outputs": [],
   "source": [
    "prop = 'temp_sup__degC'"
   ]
  },
  {
   "cell_type": "code",
   "execution_count": null,
   "id": "b95629f3-690c-42b3-9d9f-194438eca7f7",
   "metadata": {
    "scrolled": true
   },
   "outputs": [],
   "source": [
    "df_prop[prop].describe().T"
   ]
  },
  {
   "cell_type": "code",
   "execution_count": null,
   "id": "e4a73e33-bda6-454d-969d-febbf971c942",
   "metadata": {
    "scrolled": true,
    "tags": []
   },
   "outputs": [],
   "source": [
    "%matplotlib inline\n",
    "%matplotlib widget\n",
    "df_prop[prop].plot.hist(bins=200, alpha=0.5, title = prop)"
   ]
  },
  {
   "cell_type": "code",
   "execution_count": null,
   "id": "dea78ed3-6d25-49bb-a37a-37f070bd67b2",
   "metadata": {},
   "outputs": [],
   "source": [
    "df_prop, meta_df = Preprocessor.filter_min_max(df_prop, prop, min=0.0, max=100.0, meta_df=meta_df)"
   ]
  },
  {
   "cell_type": "code",
   "execution_count": null,
   "id": "0b47676c-c4ac-4a16-9619-f23ed469b433",
   "metadata": {},
   "outputs": [],
   "source": [
    "meta_df"
   ]
  },
  {
   "cell_type": "code",
   "execution_count": null,
   "id": "2e4c65e2-08a5-4724-a3bf-5995ec8eac2d",
   "metadata": {
    "scrolled": true
   },
   "outputs": [],
   "source": [
    "df_prop[prop].describe().T"
   ]
  },
  {
   "cell_type": "code",
   "execution_count": null,
   "id": "68354b91-3531-468c-8285-3a4664bdd601",
   "metadata": {
    "scrolled": true,
    "tags": []
   },
   "outputs": [],
   "source": [
    "%matplotlib inline\n",
    "%matplotlib widget\n",
    "df_prop[prop].plot.hist(bins=200, alpha=0.5, title = prop)"
   ]
  },
  {
   "cell_type": "code",
   "execution_count": null,
   "id": "7f128217-1ab4-4744-9f60-0adfc1f668d9",
   "metadata": {
    "scrolled": true
   },
   "outputs": [],
   "source": [
    "df_prop['meter_code__str'].unique()"
   ]
  },
  {
   "cell_type": "code",
   "execution_count": null,
   "id": "318cc604-bb1f-4e0d-ab26-9991a1406aa9",
   "metadata": {},
   "outputs": [],
   "source": [
    "df_prop['dsmr_version__0'].unique()"
   ]
  },
  {
   "cell_type": "code",
   "execution_count": null,
   "id": "fb56d422-566f-4f55-b41f-18dadee33de0",
   "metadata": {},
   "outputs": [],
   "source": [
    "df_prop.groupby(['id', 'meter_code__str', 'dsmr_version__0']).size().reset_index(name='count').set_index(['id', 'meter_code__str', 'dsmr_version__0'])"
   ]
  },
  {
   "cell_type": "markdown",
   "id": "7f84c4fd-fe03-404b-a27a-32eeb6a1c2e1",
   "metadata": {},
   "source": [
    "### Preprocessing temp_ret__degC"
   ]
  },
  {
   "cell_type": "code",
   "execution_count": null,
   "id": "f8a097bc-a914-4ef8-b90c-84357b9fae25",
   "metadata": {},
   "outputs": [],
   "source": [
    "prop = 'temp_ret__degC'"
   ]
  },
  {
   "cell_type": "code",
   "execution_count": null,
   "id": "846d45c6-9e3b-45bc-9310-036e953c3b65",
   "metadata": {
    "scrolled": true
   },
   "outputs": [],
   "source": [
    "df_prop[prop].describe().T"
   ]
  },
  {
   "cell_type": "code",
   "execution_count": null,
   "id": "6bd4d00d-0c64-4e69-8faa-e4f7dccb7a01",
   "metadata": {
    "scrolled": true,
    "tags": []
   },
   "outputs": [],
   "source": [
    "%matplotlib inline\n",
    "%matplotlib widget\n",
    "df_prop[prop].plot.hist(bins=200, alpha=0.5, title = prop)"
   ]
  },
  {
   "cell_type": "code",
   "execution_count": null,
   "id": "1411ad7b-cccc-4552-bccc-5d526e551555",
   "metadata": {},
   "outputs": [],
   "source": [
    "df_prop, meta_df = Preprocessor.filter_min_max(df_prop, prop, min=0.0, max=100.0, meta_df=meta_df)"
   ]
  },
  {
   "cell_type": "code",
   "execution_count": null,
   "id": "fb9bed24-bfd3-403e-a07c-6219de81cfd8",
   "metadata": {},
   "outputs": [],
   "source": [
    "meta_df"
   ]
  },
  {
   "cell_type": "code",
   "execution_count": null,
   "id": "d5bfbeaf-9338-493d-9480-00f8df60aa9d",
   "metadata": {
    "scrolled": true
   },
   "outputs": [],
   "source": [
    "df_prop[prop].describe().T"
   ]
  },
  {
   "cell_type": "code",
   "execution_count": null,
   "id": "fc213183-d051-47c3-8323-842a785c4e81",
   "metadata": {
    "scrolled": true,
    "tags": []
   },
   "outputs": [],
   "source": [
    "%matplotlib inline\n",
    "%matplotlib widget\n",
    "df_prop[prop].plot.hist(bins=200, alpha=0.5, title = prop)"
   ]
  },
  {
   "cell_type": "code",
   "execution_count": null,
   "id": "1f0acdf1-fb36-450d-8899-c2ece7e601b4",
   "metadata": {},
   "outputs": [],
   "source": [
    "%matplotlib inline\n",
    "%matplotlib widget\n",
    "df_prop[['temp_sup__degC', 'temp_ret__degC']].plot.hist(bins=200, alpha=0.5, title = 'temp_sup__degC, temp_ret__degC')"
   ]
  },
  {
   "cell_type": "markdown",
   "id": "fe43a127-913e-405b-94e8-a790af29c82c",
   "metadata": {},
   "source": [
    "### Preprocessing dhw_temp_out__degC"
   ]
  },
  {
   "cell_type": "code",
   "execution_count": null,
   "id": "ba96178f-401c-42f6-b3c6-3244df3e7f82",
   "metadata": {},
   "outputs": [],
   "source": [
    "prop = 'dhw_temp_out__degC'"
   ]
  },
  {
   "cell_type": "code",
   "execution_count": null,
   "id": "3f702338-427f-40c6-81c4-e99eb942ad95",
   "metadata": {
    "scrolled": true
   },
   "outputs": [],
   "source": [
    "df_prop[prop].describe().T"
   ]
  },
  {
   "cell_type": "code",
   "execution_count": null,
   "id": "e5514079-db93-4907-9160-af62c1abe7de",
   "metadata": {
    "scrolled": true,
    "tags": []
   },
   "outputs": [],
   "source": [
    "%matplotlib inline\n",
    "%matplotlib widget\n",
    "df_prop[prop].plot.hist(bins=200, alpha=0.5, title = prop)"
   ]
  },
  {
   "cell_type": "code",
   "execution_count": null,
   "id": "8ea2e6b3-b520-421e-833d-896458fa8d2c",
   "metadata": {},
   "outputs": [],
   "source": [
    "df_prop, meta_df = Preprocessor.filter_min_max(df_prop, prop, min=0.0, max=100.0, meta_df=meta_df)"
   ]
  },
  {
   "cell_type": "code",
   "execution_count": null,
   "id": "69cea746-c8a2-40d4-8925-3488de505149",
   "metadata": {},
   "outputs": [],
   "source": [
    "meta_df"
   ]
  },
  {
   "cell_type": "code",
   "execution_count": null,
   "id": "d6b6b3e4-7ec6-4bb5-aa79-d9d6bddf4a5f",
   "metadata": {
    "scrolled": true
   },
   "outputs": [],
   "source": [
    "df_prop[prop].describe().T"
   ]
  },
  {
   "cell_type": "code",
   "execution_count": null,
   "id": "a49b6448-dcd8-4766-b065-0503ff636416",
   "metadata": {
    "tags": []
   },
   "outputs": [],
   "source": [
    "%matplotlib inline\n",
    "%matplotlib widget\n",
    "df_prop[prop].plot.hist(bins=200, alpha=0.5, title = prop)"
   ]
  },
  {
   "cell_type": "markdown",
   "id": "4dc7acaf-b689-412a-8078-61490680e0af",
   "metadata": {},
   "source": [
    "### Preprocessing dhw_flow__l_min_1"
   ]
  },
  {
   "cell_type": "code",
   "execution_count": null,
   "id": "5b1c6eba-b12c-4616-9954-d710b0b7e1cf",
   "metadata": {},
   "outputs": [],
   "source": [
    "prop = 'dhw_flow__l_min_1'"
   ]
  },
  {
   "cell_type": "code",
   "execution_count": null,
   "id": "4eeb58f8-14f3-4d44-a2c6-2cbf521f4d8a",
   "metadata": {
    "scrolled": true
   },
   "outputs": [],
   "source": [
    "df_prop[prop].describe().T"
   ]
  },
  {
   "cell_type": "code",
   "execution_count": null,
   "id": "e187b0e3-1121-4210-b6b5-dffa293c88cb",
   "metadata": {
    "scrolled": true,
    "tags": []
   },
   "outputs": [],
   "source": [
    "%matplotlib inline\n",
    "%matplotlib widget\n",
    "df_prop[prop].plot.hist(bins=200, alpha=0.5, title = prop)"
   ]
  },
  {
   "cell_type": "code",
   "execution_count": null,
   "id": "23c2ea7b-672b-41d1-970a-f20cf1920c0f",
   "metadata": {
    "scrolled": true
   },
   "outputs": [],
   "source": [
    "df_prop[prop].info()"
   ]
  },
  {
   "cell_type": "code",
   "execution_count": null,
   "id": "2670fd45-e6a4-43ad-b230-26e514793508",
   "metadata": {},
   "outputs": [],
   "source": [
    "# Define a custom styling function\n",
    "def highlight_zero_std(s):\n",
    "    # Use pd.isna to handle NaN values properly\n",
    "    is_zero = (s == 0.0) & (~pd.isna(s))\n",
    "    return ['background-color: lightcoral; color: red;' if v else '' for v in is_zero]\n"
   ]
  },
  {
   "cell_type": "code",
   "execution_count": null,
   "id": "5542b36d-a7f6-4de8-83a6-29d78518f258",
   "metadata": {},
   "outputs": [],
   "source": [
    "stats_per_id = df_prop[prop].groupby(level='id').describe()"
   ]
  },
  {
   "cell_type": "code",
   "execution_count": null,
   "id": "39704730-6f40-426c-8871-83eb7698a0a0",
   "metadata": {},
   "outputs": [],
   "source": [
    "# Apply the custom styling to the DataFrame\n",
    "styled_stats = stats_per_id.style.apply(\n",
    "    highlight_zero_std, \n",
    "    subset=['std']\n",
    ")\n",
    "\n",
    "# Display the styled DataFrame\n",
    "styled_stats"
   ]
  },
  {
   "cell_type": "code",
   "execution_count": null,
   "id": "1916763a-9921-4ff6-aebc-9fa43121354c",
   "metadata": {},
   "outputs": [],
   "source": [
    "df_prop, meta_df = Preprocessor.filter_id_prop_with_std_zero(df_prop, prop, meta_df=meta_df)"
   ]
  },
  {
   "cell_type": "code",
   "execution_count": null,
   "id": "d12bf45e-0605-4bf3-993c-90a053bbbeec",
   "metadata": {},
   "outputs": [],
   "source": [
    "meta_df"
   ]
  },
  {
   "cell_type": "code",
   "execution_count": null,
   "id": "ad6eb6fe-bf7d-4e40-8a1c-92cc5aa6ba13",
   "metadata": {},
   "outputs": [],
   "source": [
    "stats_per_id = df_prop[prop].groupby(level='id').describe()"
   ]
  },
  {
   "cell_type": "code",
   "execution_count": null,
   "id": "b2461639-3392-4310-9dde-74effa16cbe9",
   "metadata": {},
   "outputs": [],
   "source": [
    "# Apply the custom styling to the DataFrame\n",
    "styled_stats = stats_per_id.style.apply(\n",
    "    highlight_zero_std, \n",
    "    subset=['std']\n",
    ")\n",
    "\n",
    "# Display the styled DataFrame\n",
    "styled_stats"
   ]
  },
  {
   "cell_type": "code",
   "execution_count": null,
   "id": "e0feb769-f20d-4ef0-b15c-5e1eef1ee41b",
   "metadata": {
    "scrolled": true
   },
   "outputs": [],
   "source": [
    "df_prop[prop].describe().T"
   ]
  },
  {
   "cell_type": "code",
   "execution_count": null,
   "id": "03780797-bdc4-433e-9637-79bc8a10c322",
   "metadata": {
    "tags": []
   },
   "outputs": [],
   "source": [
    "%matplotlib inline\n",
    "%matplotlib widget\n",
    "df_prop[prop].plot.hist(bins=200, alpha=0.5, title = prop)"
   ]
  },
  {
   "cell_type": "code",
   "execution_count": null,
   "id": "1dbdfc20-77d5-4033-a17b-d48b93d6e455",
   "metadata": {},
   "outputs": [],
   "source": [
    "df_prop_filtered = df_prop[prop][df_prop[prop] != 0]"
   ]
  },
  {
   "cell_type": "code",
   "execution_count": null,
   "id": "05b04baa-4c4d-4b18-9312-33f442e10197",
   "metadata": {},
   "outputs": [],
   "source": [
    "df_prop_filtered.info()"
   ]
  },
  {
   "cell_type": "code",
   "execution_count": null,
   "id": "cf6685b9-cbd0-4bb1-85fc-57fff8b19e22",
   "metadata": {},
   "outputs": [],
   "source": [
    "df_prop_filtered.describe().T"
   ]
  },
  {
   "cell_type": "code",
   "execution_count": null,
   "id": "0e53e491-94cd-45c7-84f3-d4701411eab9",
   "metadata": {
    "tags": []
   },
   "outputs": [],
   "source": [
    "%matplotlib inline\n",
    "%matplotlib widget\n",
    "df_prop_filtered.plot.hist(bins=200, alpha=0.5, title = prop)"
   ]
  },
  {
   "cell_type": "markdown",
   "id": "9f7a7df1-bcec-4e0f-9c5d-6caf357e3670",
   "metadata": {},
   "source": [
    "## Inspecting and preprocessing 'fixed' (?) properties\n"
   ]
  },
  {
   "cell_type": "markdown",
   "id": "03547163-885e-43bd-b887-0023eadb7148",
   "metadata": {},
   "source": [
    "### Preprocessing temp_ch_sup_max__degC"
   ]
  },
  {
   "cell_type": "code",
   "execution_count": null,
   "id": "da9676e9-f156-418b-b66d-9bfd1b3c6807",
   "metadata": {},
   "outputs": [],
   "source": [
    "df_prop['temp_ch_sup_max__degC'].groupby(level='id').describe()"
   ]
  },
  {
   "cell_type": "markdown",
   "id": "53b5eee4-33ab-4e99-aa8c-1f8bbeacaf3d",
   "metadata": {},
   "source": [
    "### Inspecting power_ch_max__kW"
   ]
  },
  {
   "cell_type": "code",
   "execution_count": null,
   "id": "b04ad041-975b-43e3-aae8-c645dff1a1c0",
   "metadata": {},
   "outputs": [],
   "source": [
    "prop = 'power_ch_max__kW'"
   ]
  },
  {
   "cell_type": "code",
   "execution_count": null,
   "id": "4cfe4463-080d-42f8-ba96-cb6737c9320a",
   "metadata": {},
   "outputs": [],
   "source": [
    "df_prop[prop].groupby(level='id').describe()"
   ]
  },
  {
   "cell_type": "markdown",
   "id": "48bb817c-b69e-48f8-aa7b-f67559b8c3d6",
   "metadata": {},
   "source": [
    "## Inspecting and preprocessing smart meter values"
   ]
  },
  {
   "cell_type": "markdown",
   "id": "0e029cdb-c535-455c-af61-7acf4516aae5",
   "metadata": {},
   "source": [
    "#### Removing electricity meter values when dsmr_version__0 < 3.0"
   ]
  },
  {
   "cell_type": "code",
   "execution_count": null,
   "id": "2e44a87c-8d72-433d-9782-650513767a26",
   "metadata": {},
   "outputs": [],
   "source": [
    "# Define columns for electricity meter values\n",
    "use_meter_cols = ['e_use_hi_cum__kWh', 'e_use_lo_cum__kWh']\n",
    "ret_meter_cols = ['e_ret_hi_cum__kWh', 'e_ret_lo_cum__kWh']\n",
    "all_meter_cols = use_meter_cols + ret_meter_cols\n",
    "\n",
    "# Apply mask to set use meter columns to NaN where dsmr_version__0 < 3.0 or values < 10 kWh\n",
    "mask_version = df_prop['dsmr_version__0'] < 3.0\n",
    "mask_use_values = df_prop[use_meter_cols] < 10\n",
    "\n",
    "# Combine the masks for use meter columns\n",
    "mask_use = mask_version | mask_use_values.any(axis=1)\n",
    "\n",
    "df_prop.loc[mask_use, use_meter_cols] = np.nan\n",
    "\n",
    "# Identify ids where the maximum value of ret meter columns is 0.0\n",
    "max_ret_values = df_prop.groupby('id')[ret_meter_cols].max()\n",
    "ids_with_no_real_ret = max_ret_values[(max_ret_values < 10).all(axis=1)].index"
   ]
  },
  {
   "cell_type": "code",
   "execution_count": null,
   "id": "334abfe3-4177-407e-a2f5-e5b8aa320418",
   "metadata": {},
   "outputs": [],
   "source": [
    "ids_with_no_real_ret"
   ]
  },
  {
   "cell_type": "code",
   "execution_count": null,
   "id": "0748e4cb-ff83-493f-9b7f-3a5e9500fe84",
   "metadata": {},
   "outputs": [],
   "source": [
    "# # Apply mask to set ret meter columns to NaN for identified ids and where values < 10 kWh\n",
    "# mask_ret_ids = df_prop.index.get_level_values('id').isin(ids_with_max_zero_ret)\n",
    "# mask_ret_values = df_prop[ret_meter_cols] < 10\n",
    "\n",
    "# # Ensure masks have the same shape before combining them\n",
    "# mask_ret_ids_reshaped = mask_ret_ids.values.reshape(-1, 1)\n",
    "\n",
    "# # Combine masks for return meter columns\n",
    "# mask_ret_combined = mask_ret_ids_reshaped & mask_ret_values"
   ]
  },
  {
   "cell_type": "code",
   "execution_count": null,
   "id": "6d23dc3b-6412-4a1c-902a-690a17dd25c2",
   "metadata": {},
   "outputs": [],
   "source": [
    "# Masks for filtering\n",
    "mask_with_solar = ~df_prop.index.get_level_values('id').isin(ids_with_no_real_ret)\n",
    "mask_without_solar = df_prop.index.get_level_values('id').isin(ids_with_no_real_ret)\n",
    "\n",
    "# Apply mask for use_meter_cols for ids not in ids_with_no_real_ret\n",
    "df_prop.loc[mask_with_solar, use_meter_cols] = df_prop.loc[mask_with_solar, use_meter_cols].where(lambda x: x >= 10)\n",
    "\n",
    "# Apply mask for use_meter_cols for ids in ids_with_max_zero_ret\n",
    "df_prop.loc[mask_without_solar, use_meter_cols] = df_prop.loc[mask_without_solar, use_meter_cols].where(lambda x: x >= 10)\n",
    "\n",
    "# Set dsmr_version__0 to NaN where dsmr_version__0 < 3.0\n",
    "mask_version = df_prop['dsmr_version__0'] < 3.0\n",
    "df_prop.loc[mask_version, 'dsmr_version__0'] = np.nan"
   ]
  },
  {
   "cell_type": "code",
   "execution_count": null,
   "id": "83dc0001-422f-4bee-875b-adf6226880ce",
   "metadata": {},
   "outputs": [],
   "source": [
    "# Additional filtering step for ret_meter_cols\n",
    "# Apply mask for ret_meter_cols for ids with solar panels\n",
    "df_prop.loc[mask_with_solar, ret_meter_cols] = df_prop.loc[mask_with_solar, ret_meter_cols].where(lambda x: x >= 10)\n",
    "\n",
    "# Apply mask for ret_meter_cols for ids without solar panels\n",
    "df_prop.loc[mask_without_solar, ret_meter_cols] = df_prop.loc[mask_without_solar, ret_meter_cols].where(lambda x: (x >= 10) | (x == 0))\n"
   ]
  },
  {
   "cell_type": "code",
   "execution_count": null,
   "id": "7d1726a5-87f3-4fa8-afa5-bbc55f3b78ce",
   "metadata": {},
   "outputs": [],
   "source": [
    "for prop in all_meter_cols:\n",
    "    print('\\n', prop, '\\n', df_prop[prop].unique())"
   ]
  },
  {
   "cell_type": "markdown",
   "id": "1aaf640d-7c89-4f2a-8cd1-bdbbb5b588f9",
   "metadata": {},
   "source": [
    "#### Inspecting and preprocessing dsmr_version__0"
   ]
  },
  {
   "cell_type": "code",
   "execution_count": null,
   "id": "f6edc089-aa00-4af7-9ac3-4bb1ce010c44",
   "metadata": {},
   "outputs": [],
   "source": [
    "prop = 'dsmr_version__0'"
   ]
  },
  {
   "cell_type": "code",
   "execution_count": null,
   "id": "bfc0017c-20a9-4339-875d-7af987cc6ecb",
   "metadata": {
    "scrolled": true
   },
   "outputs": [],
   "source": [
    "df_prop[prop].unique()"
   ]
  },
  {
   "cell_type": "code",
   "execution_count": null,
   "id": "a334542f-0e76-453f-a4f8-74f1aec5da06",
   "metadata": {},
   "outputs": [],
   "source": [
    "df_prop[prop].describe()"
   ]
  },
  {
   "cell_type": "code",
   "execution_count": null,
   "id": "e57e1b93-af81-4fa7-a0bb-ec8ec078ead8",
   "metadata": {},
   "outputs": [],
   "source": [
    "%matplotlib inline\n",
    "%matplotlib widget\n",
    "df_prop[prop].plot.hist(bins=200, alpha=0.5, title = prop)"
   ]
  },
  {
   "cell_type": "code",
   "execution_count": null,
   "id": "3180fcee-dbaa-4f08-9062-c912ea661e31",
   "metadata": {},
   "outputs": [],
   "source": [
    "df_prop[prop].groupby(level='id').describe()"
   ]
  },
  {
   "cell_type": "code",
   "execution_count": null,
   "id": "a6427d1a-f2d4-4c09-82f4-bc29fe6d09c9",
   "metadata": {},
   "outputs": [],
   "source": [
    "# Define a custom styling function\n",
    "def highlight_nonzero_std(s):\n",
    "    # Use pd.isna to handle NaN values properly\n",
    "    is_not_zero = (s != 0.0) & (~pd.isna(s))\n",
    "    return ['background-color: lightcoral; color: red;' if v else '' for v in is_not_zero]\n"
   ]
  },
  {
   "cell_type": "code",
   "execution_count": null,
   "id": "eab4a64d-9c47-4ac5-a596-81f097712d1d",
   "metadata": {},
   "outputs": [],
   "source": [
    "stats_per_id = df_prop[prop].groupby(level='id').describe()"
   ]
  },
  {
   "cell_type": "code",
   "execution_count": null,
   "id": "d50070fd-0f2c-4fc3-89bd-148959e103f8",
   "metadata": {},
   "outputs": [],
   "source": [
    "# Apply the custom styling to the DataFrame\n",
    "styled_stats = stats_per_id.style.apply(\n",
    "    highlight_nonzero_std, \n",
    "    subset=['std']\n",
    ")\n",
    "\n",
    "# Display the styled DataFrame\n",
    "styled_stats"
   ]
  },
  {
   "cell_type": "markdown",
   "id": "1f82994e-ad52-4cef-89d3-6a4f0ed53081",
   "metadata": {},
   "source": [
    "#### Inspecting and preprocessing e_use_hi_cum__kWh"
   ]
  },
  {
   "cell_type": "code",
   "execution_count": null,
   "id": "8c117a7b-bc5e-41c4-a952-07d24b7c5272",
   "metadata": {},
   "outputs": [],
   "source": [
    "prop = 'e_use_hi_cum__kWh'"
   ]
  },
  {
   "cell_type": "code",
   "execution_count": null,
   "id": "5b1002a0-2490-4c3e-8716-d326adcfd4d6",
   "metadata": {},
   "outputs": [],
   "source": [
    "df_prop[prop].describe()"
   ]
  },
  {
   "cell_type": "code",
   "execution_count": null,
   "id": "537b58cc-764c-455e-a102-dfd28f0a6e1a",
   "metadata": {},
   "outputs": [],
   "source": [
    "df_prop[prop].groupby(level='id').describe().sort_values(by='min', ascending=False)"
   ]
  },
  {
   "cell_type": "code",
   "execution_count": null,
   "id": "a45261d6-191e-4296-becd-5257e0f74305",
   "metadata": {
    "scrolled": true
   },
   "outputs": [],
   "source": [
    "%matplotlib inline\n",
    "%matplotlib widget\n",
    "df_prop[prop].plot.hist(bins=400, alpha=0.5, title = prop)"
   ]
  },
  {
   "cell_type": "markdown",
   "id": "055392ff-b7f3-4441-94a0-8c6b4f203cf3",
   "metadata": {},
   "source": [
    "#### Inspecting and preprocessing e_use_lo_cum__kWh"
   ]
  },
  {
   "cell_type": "code",
   "execution_count": null,
   "id": "f4b5eb01-3b40-423f-b77a-af19f122be3b",
   "metadata": {},
   "outputs": [],
   "source": [
    "prop = 'e_use_lo_cum__kWh'"
   ]
  },
  {
   "cell_type": "code",
   "execution_count": null,
   "id": "e2923e34-2afa-4c20-9775-cc5c92023ce7",
   "metadata": {},
   "outputs": [],
   "source": [
    "df_prop[prop].describe()"
   ]
  },
  {
   "cell_type": "code",
   "execution_count": null,
   "id": "2982dd32-4b9a-4700-a04c-3e0415fbbcbe",
   "metadata": {},
   "outputs": [],
   "source": [
    "df_prop[prop].groupby(level='id').describe().sort_values(by='min', ascending=False)"
   ]
  },
  {
   "cell_type": "code",
   "execution_count": null,
   "id": "a425d00e-6daf-4921-9094-ca8735909ed4",
   "metadata": {
    "scrolled": true
   },
   "outputs": [],
   "source": [
    "%matplotlib inline\n",
    "%matplotlib widget\n",
    "df_prop[prop].plot.hist(bins=400, alpha=0.5, title = prop)"
   ]
  },
  {
   "cell_type": "markdown",
   "id": "c8a52786-14c8-436f-b849-148641afdea3",
   "metadata": {},
   "source": [
    "#### Inspecting and preprocessing e_ret_hi_cum__kWh"
   ]
  },
  {
   "cell_type": "code",
   "execution_count": null,
   "id": "8a81a029-db81-44fe-a2c7-00c24d147b7d",
   "metadata": {},
   "outputs": [],
   "source": [
    "prop = 'e_ret_hi_cum__kWh'"
   ]
  },
  {
   "cell_type": "code",
   "execution_count": null,
   "id": "60ef5358-5b54-47c0-aaf4-749542a8a173",
   "metadata": {},
   "outputs": [],
   "source": [
    "df_prop[prop].describe()"
   ]
  },
  {
   "cell_type": "code",
   "execution_count": null,
   "id": "9529981f-37f6-4384-b74b-ac911ed5099d",
   "metadata": {},
   "outputs": [],
   "source": [
    "df_prop[prop].groupby(level='id').describe().sort_values(by='max', ascending=False)"
   ]
  },
  {
   "cell_type": "code",
   "execution_count": null,
   "id": "133bd7a2-e4db-4b42-aea6-a765ffc29c9a",
   "metadata": {
    "scrolled": true
   },
   "outputs": [],
   "source": [
    "%matplotlib inline\n",
    "%matplotlib widget\n",
    "df_prop[prop].plot.hist(bins=400, alpha=0.5, title = prop)"
   ]
  },
  {
   "cell_type": "markdown",
   "id": "c1424b61-2010-4244-9c2c-40154a9a40ff",
   "metadata": {},
   "source": [
    "#### Inspecting and preprocessing e_ret_lo_cum__kWh"
   ]
  },
  {
   "cell_type": "code",
   "execution_count": null,
   "id": "bd449c2f-1efa-42a8-bcc2-2eacb416b84a",
   "metadata": {},
   "outputs": [],
   "source": [
    "prop = 'e_ret_lo_cum__kWh'"
   ]
  },
  {
   "cell_type": "code",
   "execution_count": null,
   "id": "0ca5d4e6-6246-4421-89da-1cce5df2df0f",
   "metadata": {},
   "outputs": [],
   "source": [
    "df_prop[prop].describe()"
   ]
  },
  {
   "cell_type": "code",
   "execution_count": null,
   "id": "228fed0d-1f84-4c8e-9b41-3c0b7bb5d4ff",
   "metadata": {},
   "outputs": [],
   "source": [
    "df_prop[prop].groupby(level='id').describe().sort_values(by='max', ascending=False)"
   ]
  },
  {
   "cell_type": "code",
   "execution_count": null,
   "id": "1a9da48a-0678-4119-8a31-1b5fa2d6d48a",
   "metadata": {
    "scrolled": true
   },
   "outputs": [],
   "source": [
    "%matplotlib inline\n",
    "%matplotlib widget\n",
    "df_prop[prop].plot.hist(bins=400, alpha=0.5, title = prop)"
   ]
  },
  {
   "cell_type": "markdown",
   "id": "828f54d1-9e40-4d78-b3ef-c26eb3db8be3",
   "metadata": {},
   "source": [
    "#### Inspecting and preprocessing g_use_cum__m3"
   ]
  },
  {
   "cell_type": "code",
   "execution_count": null,
   "id": "5f135bae-282b-4088-9a29-76fc8b995f26",
   "metadata": {},
   "outputs": [],
   "source": [
    "prop = 'g_use_cum__m3'"
   ]
  },
  {
   "cell_type": "code",
   "execution_count": null,
   "id": "09dca332-88fe-43a9-94e0-0997fc458ba1",
   "metadata": {},
   "outputs": [],
   "source": [
    "df_prop[prop].describe()"
   ]
  },
  {
   "cell_type": "code",
   "execution_count": null,
   "id": "10a43157-2d26-433b-bb30-c0239e4028a4",
   "metadata": {},
   "outputs": [],
   "source": [
    "df_prop[prop].groupby(level='id').describe().sort_values(by='std', ascending=False)"
   ]
  },
  {
   "cell_type": "code",
   "execution_count": null,
   "id": "48c019ae-261a-47e0-90c6-b691d217b76b",
   "metadata": {
    "scrolled": true
   },
   "outputs": [],
   "source": [
    "%matplotlib inline\n",
    "%matplotlib widget\n",
    "df_prop[prop].plot.hist(bins=400, alpha=0.5, title = prop)"
   ]
  },
  {
   "cell_type": "markdown",
   "id": "570b4ad4-c6b6-44cd-b480-09cef353755c",
   "metadata": {},
   "source": [
    "#### Inspecting and preprocessing meter_code__str"
   ]
  },
  {
   "cell_type": "code",
   "execution_count": null,
   "id": "8e5e7b42-0add-4187-b946-8878fb07904b",
   "metadata": {},
   "outputs": [],
   "source": [
    "prop = 'meter_code__str'"
   ]
  },
  {
   "cell_type": "code",
   "execution_count": null,
   "id": "249eabcd-f2d8-43e2-89c4-99c45808f48c",
   "metadata": {
    "scrolled": true
   },
   "outputs": [],
   "source": [
    "df_prop['meter_code__str'].unique()"
   ]
  },
  {
   "cell_type": "code",
   "execution_count": null,
   "id": "ba879755-563e-4aef-9ad3-0489c1b568db",
   "metadata": {},
   "outputs": [],
   "source": [
    "df_prop.groupby(['id', 'meter_code__str', 'dsmr_version__0']).size().reset_index(name='count').set_index(['id', 'meter_code__str', 'dsmr_version__0'])"
   ]
  },
  {
   "cell_type": "markdown",
   "id": "1124523e-06b6-4acf-a263-2314ccfee91d",
   "metadata": {},
   "source": [
    "#### Analysing the relation between suspect values for dsmr_version__o and electricity meter values"
   ]
  },
  {
   "cell_type": "code",
   "execution_count": null,
   "id": "3e4f68d2-25b6-4e5c-aac3-4a95f1a71259",
   "metadata": {},
   "outputs": [],
   "source": [
    "# %%time\n",
    "# # Define columns for electricity meter values\n",
    "# meter_cols = ['e_use_hi_cum__kWh', 'e_use_lo_cum__kWh', 'e_ret_hi_cum__kWh', 'e_ret_lo_cum__kWh']\n",
    "\n",
    "# # Flag suspect readings (values < 10 kWh or negative)\n",
    "# df_prop['suspect_reading'] = df_prop[meter_cols].apply(lambda x: any(v < 10 for v in x if not pd.isna(v)), axis=1)\n",
    "\n",
    "# # Fill NaNs in suspect_reading as False (if there's no data, assume not suspect)\n",
    "# df_prop['suspect_reading'].fillna(False, inplace=True)\n",
    "\n",
    "# # Create a crosstab to analyze the distribution\n",
    "# crosstab = pd.crosstab(df_prop['dsmr_version__0'], df_prop['suspect_reading'])\n",
    "\n",
    "# # Calculate the percentage of suspect readings for each dsmr_version__0 value\n",
    "# crosstab['percent_suspect'] = crosstab[True] / (crosstab[True] + crosstab[False]) * 100\n",
    "\n",
    "# print(crosstab)\n",
    "\n",
    "# del df_prop['suspect_reading']"
   ]
  },
  {
   "cell_type": "markdown",
   "id": "a93c99ab-85c8-447d-a080-13641e045dce",
   "metadata": {},
   "source": [
    "## Inspecting total number of non-null measurements"
   ]
  },
  {
   "cell_type": "code",
   "execution_count": null,
   "id": "bcef89fb-74dc-4a6d-a5ec-ce05bf1909ec",
   "metadata": {},
   "outputs": [],
   "source": [
    "# Define a function to apply the styling\n",
    "def highlight_specific_value(val, specific_value=0):\n",
    "    color = 'red' if val == specific_value else ''\n",
    "    return f'background-color: {color}'\n",
    "\n",
    "# Count non-null values per column and per id\n",
    "non_null_counts_per_col = df_prop.groupby(level='id').count()\n",
    "\n",
    "# Sum across columns to get the total non-null values per id\n",
    "non_null_counts_per_col['total_non_null'] = non_null_counts_per_col.sum(axis=1)\n",
    "\n",
    "non_null_counts_per_col.sort_values(by='total_non_null', ascending=False).T.style.applymap(highlight_specific_value)\n",
    "\n"
   ]
  },
  {
   "cell_type": "code",
   "execution_count": null,
   "id": "5e14f89a-8b24-40ac-93f4-113ebdbe3843",
   "metadata": {},
   "outputs": [],
   "source": [
    "# Function to calculate the total covered time excluding large intervals\n",
    "def calculate_covered_time(group, max_interval=90*60):\n",
    "    # Calculate the intervals\n",
    "    intervals = group.dropna().index.get_level_values('timestamp').to_series().diff().dt.total_seconds()\n",
    "    # Filter out intervals larger than max_interval\n",
    "    valid_intervals = intervals[intervals <= max_interval]\n",
    "    # Sum the valid intervals\n",
    "    return valid_intervals.sum()\n",
    "    \n",
    "\n",
    "# Create a copy of the DataFrame for the analysis\n",
    "df_analysis = df_prop.copy()\n",
    "\n",
    "# Remove duplicate timestamps and sort by 'id' and 'timestamp'\n",
    "df_analysis = df_analysis[~df_analysis.index.duplicated(keep='first')]\n",
    "df_analysis.sort_index(level=['id', 'timestamp'], inplace=True)\n",
    "\n",
    "# Calculate the total covered time per property and id\n",
    "covered_time = df_analysis.groupby(level='id').apply(\n",
    "    lambda x: x.apply(lambda col: calculate_covered_time(col), axis=0)\n",
    ")\n",
    "\n",
    "# Convert the covered time from seconds to days\n",
    "covered_time /= (24*60*60)\n",
    "\n",
    "# Add a column for the total covered time per 'id'\n",
    "covered_time['total'] = covered_time.sum(axis=1)\n",
    "\n",
    "# Display the covered time measured per group\n",
    "covered_time.sort_values(by='total', ascending=False).T.style.applymap(highlight_specific_value).format(precision=1)"
   ]
  },
  {
   "cell_type": "code",
   "execution_count": null,
   "id": "ed28bbc4-a27f-466a-932a-74798eebe430",
   "metadata": {},
   "outputs": [],
   "source": [
    "covered_time.sort_values(by='total', ascending=False).to_excel('covered_time_sorted.xlsx')"
   ]
  },
  {
   "cell_type": "markdown",
   "id": "7503b1dd-cc8f-4c3b-949f-d58074195bce",
   "metadata": {},
   "source": [
    "## Plotting data using in analysis"
   ]
  },
  {
   "cell_type": "code",
   "execution_count": null,
   "id": "290e5875-a0ab-4beb-b91c-43561696b289",
   "metadata": {
    "tags": []
   },
   "outputs": [],
   "source": [
    "units_to_mathtext = {\n",
    "    'ppm' : r'$ppm$',\n",
    "    'kWh' : r'$kWh$',\n",
    "    'm3' : r'$m^{3}$',\n",
    "    'degC' : r'$°C$',\n",
    "    'W' : r'$W$',\n",
    "    'V' : r'$V$',\n",
    "    '0' : r'$[-]$',\n",
    "    'bool': r'$0 = False; 1 = True$',\n",
    "    'W_m_2' : r'$W\\cdotm^{-1}$'\n",
    "}"
   ]
  },
  {
   "cell_type": "code",
   "execution_count": null,
   "id": "2041336a-4ab1-414a-99fe-557ee87e69c3",
   "metadata": {
    "tags": []
   },
   "outputs": [],
   "source": [
    "# %%time\n",
    "\n",
    "# #Plot all properties with a single unit for a single id\n",
    "# Plot.dataframe_properties_plot(df_prop.loc[[948634, 999169]][[prop for prop in df_prop.columns.values if prop.split('__')[-1] in['ppm', '0', 'bool']]], units_to_mathtext)"
   ]
  },
  {
   "cell_type": "code",
   "execution_count": null,
   "id": "91850626-b7a4-435f-8d33-497194ad0b39",
   "metadata": {
    "tags": []
   },
   "outputs": [],
   "source": [
    "# props = [prop for prop in df_prop.columns.values if prop.split('__')[-1] in['ppm', '0', 'bool', 'p']]\n",
    "props = ['co2__ppm', 'occupancy__p', 'onboarded__p']"
   ]
  },
  {
   "cell_type": "code",
   "execution_count": null,
   "id": "97251ed5-0d50-4d42-b48c-2ed35996a825",
   "metadata": {
    "tags": []
   },
   "outputs": [],
   "source": [
    "props"
   ]
  },
  {
   "cell_type": "code",
   "execution_count": null,
   "id": "ca02a2db-a1b4-49bd-9873-49c4b6d121bd",
   "metadata": {
    "tags": []
   },
   "outputs": [],
   "source": [
    "df_prop[props].info()"
   ]
  },
  {
   "cell_type": "code",
   "execution_count": null,
   "id": "1dae8ced-3c83-48ee-8781-d3c46c52f06c",
   "metadata": {
    "tags": []
   },
   "outputs": [],
   "source": [
    "df = df_prop[props] "
   ]
  },
  {
   "cell_type": "code",
   "execution_count": null,
   "id": "1159ccd2-6fba-4ee1-a448-863266c37714",
   "metadata": {},
   "outputs": [],
   "source": [
    "df.describe().T\n"
   ]
  },
  {
   "cell_type": "code",
   "execution_count": null,
   "id": "4718267a-ea99-4ebc-9303-d8c4075a05f1",
   "metadata": {
    "tags": []
   },
   "outputs": [],
   "source": [
    "stats = df.groupby(level=['source_category', 'source_type','id']).describe().transpose()\n",
    "stats.columns = stats.columns.swaplevel(0,1)\n",
    "stats = stats.sort_index(axis=1, level=0)\n",
    "stats"
   ]
  },
  {
   "cell_type": "code",
   "execution_count": null,
   "id": "5eed48be-876e-4cb9-9146-fe1d429d94a3",
   "metadata": {
    "tags": []
   },
   "outputs": [],
   "source": [
    "%matplotlib inline\n",
    "%matplotlib widget\n",
    "prop = 'co2__ppm'\n",
    "df_prop[prop].plot.hist(bins=200, alpha=0.5, title = prop)"
   ]
  },
  {
   "cell_type": "code",
   "execution_count": null,
   "id": "82a1320b-0ba1-4cb7-9987-62147470a72d",
   "metadata": {
    "tags": []
   },
   "outputs": [],
   "source": [
    "%matplotlib inline\n",
    "%matplotlib widget\n",
    "prop = 'ch_water_pump_speed__0'\n",
    "df_prop[prop].plot.hist(bins=200, alpha=0.5, title = prop)"
   ]
  },
  {
   "cell_type": "code",
   "execution_count": null,
   "id": "f2467515-c6df-41ba-ac6f-387f5dc3d4fa",
   "metadata": {
    "tags": []
   },
   "outputs": [],
   "source": [
    "%matplotlib inline\n",
    "%matplotlib widget\n",
    "prop = 'dhw_flow__l_min_1'\n",
    "df_prop[prop].plot.hist(bins=200, alpha=0.5, title = prop)"
   ]
  },
  {
   "cell_type": "markdown",
   "id": "580571f1-8946-4c81-a80f-f43cd44c05ce",
   "metadata": {
    "tags": []
   },
   "source": [
    "## Preprocessing co2__ppm\n",
    "Filtering out measurement errors of 0 ppm below 5 ppm"
   ]
  },
  {
   "cell_type": "code",
   "execution_count": null,
   "id": "8186ed45-a06a-44d0-8606-c5658481ae31",
   "metadata": {},
   "outputs": [],
   "source": [
    "prop = 'co2__ppm'"
   ]
  },
  {
   "cell_type": "code",
   "execution_count": null,
   "id": "f5a2e75d-cd19-40bb-8269-88f6831bbc27",
   "metadata": {},
   "outputs": [],
   "source": [
    "%matplotlib inline\n",
    "%matplotlib widget\n",
    "df_prop[prop].plot.hist(bins=200, alpha=0.5, title = prop)"
   ]
  },
  {
   "cell_type": "code",
   "execution_count": null,
   "id": "fc34e5c7-12ae-49ba-ac40-091b2b6a0993",
   "metadata": {
    "tags": []
   },
   "outputs": [],
   "source": [
    "df_prop[prop].groupby(level=['id']).describe()"
   ]
  },
  {
   "cell_type": "markdown",
   "id": "2a64a88f-c8cd-4ad8-8036-e064aee2407e",
   "metadata": {
    "jp-MarkdownHeadingCollapsed": true,
    "tags": []
   },
   "source": [
    "#### Filter out values below 5 ppm, these must be measurement errors"
   ]
  },
  {
   "cell_type": "code",
   "execution_count": null,
   "id": "6085cc5a-004d-4df7-99f6-41a3842c8c10",
   "metadata": {
    "tags": []
   },
   "outputs": [],
   "source": [
    "df_prop, meta_df = Preprocessor.filter_min_max(df_prop, prop, min=5, meta_df=meta_df)"
   ]
  },
  {
   "cell_type": "code",
   "execution_count": null,
   "id": "0eeca938-352d-4b01-89fb-736d11e5644c",
   "metadata": {},
   "outputs": [],
   "source": [
    "meta_df"
   ]
  },
  {
   "cell_type": "markdown",
   "id": "1565020c-b48c-4bf6-b78f-0cb6f1ad5d14",
   "metadata": {
    "jp-MarkdownHeadingCollapsed": true,
    "tags": []
   },
   "source": [
    "#### Check to see whether minimum is better now"
   ]
  },
  {
   "cell_type": "code",
   "execution_count": null,
   "id": "61f413e8-208d-4264-b054-6f4c6868604c",
   "metadata": {
    "tags": []
   },
   "outputs": [],
   "source": [
    "df_prop[prop].groupby(level=['id']).describe()"
   ]
  },
  {
   "cell_type": "code",
   "execution_count": null,
   "id": "0a98e119-0650-403c-b1c6-d73bc6254473",
   "metadata": {
    "tags": []
   },
   "outputs": [],
   "source": [
    "%matplotlib inline\n",
    "%matplotlib widget\n",
    "df_prop[prop].plot.hist(bins=200, alpha=0.5, title = prop)\n"
   ]
  },
  {
   "cell_type": "markdown",
   "id": "179583e7-766d-4861-9099-94125604a213",
   "metadata": {},
   "source": [
    "## After preprocessing, before temporal interpolation"
   ]
  },
  {
   "cell_type": "code",
   "execution_count": null,
   "id": "5ff1ee85-4d26-4c63-9835-59bbe54328fb",
   "metadata": {},
   "outputs": [],
   "source": [
    "meta_df"
   ]
  },
  {
   "cell_type": "code",
   "execution_count": null,
   "id": "b15954da-4ba9-44d1-9cde-844835c2bef0",
   "metadata": {},
   "outputs": [],
   "source": [
    "meta_df.to_excel('rhc_preprocessing.xlsx')"
   ]
  },
  {
   "cell_type": "code",
   "execution_count": null,
   "id": "b02fa358-154a-4d12-b54c-420c8a43f4f9",
   "metadata": {},
   "outputs": [],
   "source": [
    "df_prop.size"
   ]
  },
  {
   "cell_type": "code",
   "execution_count": null,
   "id": "8055699e-fea7-4aee-b4cd-44b31ef186cb",
   "metadata": {},
   "outputs": [],
   "source": [
    "df_prop.count().sum()"
   ]
  },
  {
   "cell_type": "code",
   "execution_count": null,
   "id": "b9f561a2-1125-43ab-870a-bb951f9e521b",
   "metadata": {},
   "outputs": [],
   "source": [
    "df_prop.info()"
   ]
  },
  {
   "cell_type": "markdown",
   "id": "b509e7d0-e74c-4a57-a73c-b8add11e9686",
   "metadata": {
    "tags": []
   },
   "source": [
    "# Interpolating  properties\n"
   ]
  },
  {
   "cell_type": "code",
   "execution_count": null,
   "id": "f1e60f3a-a4f1-46f7-a0ec-b07dcc4f388e",
   "metadata": {},
   "outputs": [],
   "source": [
    "%%time \n",
    "%autoreload 2\n",
    "\n",
    "# Define the properties and their respective limit__min values\n",
    "property_limits = {\n",
    "    'default': 90,\n",
    "    'boiler_status_blocking_mode__bool': 5,\n",
    "    'boiler_status_burner_start__bool': 5,\n",
    "    'boiler_status_burner_stop__bool': 5,\n",
    "    'boiler_status_burning_ch__bool': 5,\n",
    "    'boiler_status_burning_dhw__bool': 5,\n",
    "    'boiler_status_controlled_stop__bool': 5,\n",
    "    'boiler_status_de_air__bool': 5,\n",
    "    'boiler_status_heat_demand__bool': 5,\n",
    "    'boiler_status_locking_mode__bool': 5,\n",
    "    'boiler_status_pump_post_run__bool': 5,\n",
    "    'boiler_status_standby__bool': 5,\n",
    "    'dhw_flow__l_min_1': 5,\n",
    "    'dhw_temp_out__degC': 5,\n",
    "    'gas_valve_closed__bool': 5,\n",
    "    'gas_valve_open__bool': 5,\n",
    "    'temp_sup__degC': 5,\n",
    "    'temp_ret__degC': 5,\n",
    "    'fan_rotations__min_1': 5,\n",
    "    'temp_ch_supmax__degC': 2 * 24 * 60,  # 2 days in minutes\n",
    "    'power_ch_max__kW': 2 * 24 * 60,     # 2 days in minutes\n",
    "    'ch_set_fan_rotations_max__min_1': 2 * 24 * 60,  # 2 days in minutes\n",
    "    'ch_set_fan_rotations_min__min_1': 2 * 24 * 60   # 2 days in minutes\n",
    "}"
   ]
  },
  {
   "cell_type": "code",
   "execution_count": null,
   "id": "6b9fce94-b9de-4e21-9bf4-592e3f589e89",
   "metadata": {},
   "outputs": [],
   "source": [
    "# Perform interpolation\n",
    "df_interpolated = Preprocessor.interpolate_time(df_prop=df_prop,\n",
    "                                               property_limits =property_limits ,\n",
    "                                               upsample__min=5,\n",
    "                                               interpolate__min=15,\n",
    "                                               restore_original_types=True,\n",
    "                                               inplace=False)"
   ]
  },
  {
   "cell_type": "code",
   "execution_count": null,
   "id": "3d80a041-7228-4fb8-a9a0-3ece38f89107",
   "metadata": {
    "tags": []
   },
   "outputs": [],
   "source": [
    "df_prop.info()"
   ]
  },
  {
   "cell_type": "code",
   "execution_count": null,
   "id": "09471f42-bb47-454f-a136-5ae19707cfa0",
   "metadata": {},
   "outputs": [],
   "source": [
    "df_interpolated.info()"
   ]
  },
  {
   "cell_type": "code",
   "execution_count": null,
   "id": "423252ea-7700-4be2-ba73-06412477d36b",
   "metadata": {
    "tags": []
   },
   "outputs": [],
   "source": [
    "df_prop.describe().T"
   ]
  },
  {
   "cell_type": "code",
   "execution_count": null,
   "id": "940dbd8b-53a6-4ccd-8674-8ca0880d3bf6",
   "metadata": {},
   "outputs": [],
   "source": [
    "df_interpolated.describe().T"
   ]
  },
  {
   "cell_type": "code",
   "execution_count": null,
   "id": "dd943de0-4a43-440a-90c8-43a97fc11f94",
   "metadata": {},
   "outputs": [],
   "source": [
    "df_bools_to_float = df_prop[[col for col in df_prop.columns if col.endswith('__bool')]].copy()\n",
    "for col in df_bools_to_float.columns:\n",
    "    df_bools_to_float[col] = df_bools_to_float[col].astype('float')\n",
    "df_bools_to_float.describe().T.drop(columns='count').style.format(\"{:.2%}\")"
   ]
  },
  {
   "cell_type": "code",
   "execution_count": null,
   "id": "3751fa9e-229b-4256-92f8-51300236cd7a",
   "metadata": {},
   "outputs": [],
   "source": [
    "df_interpolated"
   ]
  },
  {
   "cell_type": "code",
   "execution_count": null,
   "id": "66729928-9844-4fb2-8a98-8734938f98f7",
   "metadata": {
    "tags": []
   },
   "outputs": [],
   "source": [
    "df_interpolated.info()"
   ]
  },
  {
   "cell_type": "code",
   "execution_count": null,
   "id": "72c0d0b7-0b02-4e24-a408-503237346fec",
   "metadata": {},
   "outputs": [],
   "source": [
    "df_interpolated.count().sum()"
   ]
  },
  {
   "cell_type": "markdown",
   "id": "02d1139a-9b8d-45c2-bc87-e3856ac4f22e",
   "metadata": {},
   "source": [
    "## Writing preprocessed interpolated properties to a parquet file"
   ]
  },
  {
   "cell_type": "code",
   "execution_count": null,
   "id": "1e668523-ab87-4345-9d19-68090a4c9cb7",
   "metadata": {},
   "outputs": [],
   "source": [
    "%%time \n",
    "df_interpolated.to_parquet(rhc_preprocessed_poperties_file, index=True, engine='pyarrow')"
   ]
  },
  {
   "cell_type": "markdown",
   "id": "426483fb-ddc6-4ace-a6ee-847d2c393a8f",
   "metadata": {},
   "source": [
    "## Missing value overview"
   ]
  },
  {
   "cell_type": "code",
   "execution_count": null,
   "id": "717a90b4-c053-43b2-834a-88597a80f401",
   "metadata": {},
   "outputs": [],
   "source": [
    "import missingno as msno\n",
    "import matplotlib.pyplot as plt"
   ]
  },
  {
   "cell_type": "code",
   "execution_count": null,
   "id": "adff0888-59b8-4c38-b326-f769d6b4ba4c",
   "metadata": {},
   "outputs": [],
   "source": [
    "%%time \n",
    "\n",
    "try:\n",
    "    df_interpolated = pd.read_parquet(\n",
    "        rhc_preprocessed_poperties_file, \n",
    "        engine='pyarrow',\n",
    "        use_nullable_dtypes=True\n",
    "        )\n",
    "    print(\"File was successfully read without specifying compression codec.\")\n",
    "except Exception as e:\n",
    "    print(f\"Error reading file: {e}\")"
   ]
  },
  {
   "cell_type": "code",
   "execution_count": null,
   "id": "83837e79-19c2-4bab-8df9-c70c81f8b8b4",
   "metadata": {},
   "outputs": [],
   "source": [
    "# def plot_missing_data_overview(df, id_column, time_column, properties_include=None, properties_exclude=None):\n",
    "#     \"\"\"\n",
    "#     Plots an overview of valid measurements over time for various IDs.\n",
    "    \n",
    "#     Parameters:\n",
    "#     - df: DataFrame containing the data.\n",
    "#     - id_column: The column name representing the IDs.\n",
    "#     - time_column: The column name representing the timestamp.\n",
    "#     - properties_include: List of properties to include for validation. If None, all properties are included.\n",
    "#     - properties_exclude: List of properties to exclude for validation. If None, no properties are excluded.\n",
    "#     \"\"\"\n",
    "#     # Ensure time_column is datetime type\n",
    "#     df[time_column] = pd.to_datetime(df[time_column])\n",
    "    \n",
    "#     # If properties_include is specified, use it; otherwise, use all columns except id_column and time_column\n",
    "#     if properties_include is not None:\n",
    "#         properties = properties_include\n",
    "#     else:\n",
    "#         properties = df.columns.difference([id_column, time_column])\n",
    "    \n",
    "#     # Exclude specified properties if properties_exclude is provided\n",
    "#     if properties_exclude is not None:\n",
    "#         properties = properties.difference(properties_exclude)\n",
    "    \n",
    "#     # Filter the DataFrame to include only the relevant columns\n",
    "#     df_filtered = df[[id_column, time_column] + list(properties)]\n",
    "    \n",
    "#     # Aggregate data to ensure no duplicate timestamps for any ID\n",
    "#     df_aggregated = df_filtered.groupby([id_column, time_column]).first().reset_index()\n",
    "    \n",
    "#     # Set the time_column as index\n",
    "#     df_aggregated = df_aggregated.set_index(time_column)\n",
    "    \n",
    "#     # Create a new DataFrame to track validity\n",
    "#     df_validity = pd.DataFrame(index=df_aggregated.index)\n",
    "    \n",
    "#     # Create columns for each ID, marking True if all specified properties are non-null\n",
    "#     for id_val in df_aggregated[id_column].unique():\n",
    "#         df_id = df_aggregated[df_aggregated[id_column] == id_val]\n",
    "#         df_validity[id_val] = df_id[properties].notnull().all(axis=1)\n",
    "    \n",
    "#     # Plot using missingno\n",
    "#     msno.matrix(df_validity, sparkline=False)\n",
    "#     plt.gca().invert_yaxis()  # Invert y-axis for time representation\n",
    "#     plt.yticks(ticks=range(len(df_validity.index)), labels=df_validity.index.strftime('%Y-%m-%d %H:%M:%S'))\n",
    "#     plt.title(\"Overview of Valid Measurements Over Time for Various IDs\")\n",
    "#     plt.xlabel(\"ID\")\n",
    "#     plt.ylabel(\"Time\")\n",
    "#     plt.show()\n"
   ]
  },
  {
   "cell_type": "code",
   "execution_count": null,
   "id": "35c148f4-ed08-4ec4-9461-7cacac3cc610",
   "metadata": {},
   "outputs": [],
   "source": [
    "def plot_missing_data_overview(df, id_column, time_column, properties_include=None, properties_exclude=None):\n",
    "    \"\"\"\n",
    "    Plots an overview of valid measurements over time for various IDs.\n",
    "    \n",
    "    Parameters:\n",
    "    - df: DataFrame containing the data.\n",
    "    - id_column: The column name representing the IDs.\n",
    "    - time_column: The column name representing the timestamp.\n",
    "    - properties_include: List of properties to include for validation. If None, all properties are included.\n",
    "    - properties_exclude: List of properties to exclude for validation. If None, no properties are excluded.\n",
    "    \"\"\"\n",
    "    # Ensure time_column is datetime type\n",
    "    df[time_column] = pd.to_datetime(df[time_column])\n",
    "    \n",
    "    # If properties_include is specified, use it; otherwise, use all columns except id_column and time_column\n",
    "    if properties_include is not None:\n",
    "        properties = properties_include\n",
    "    else:\n",
    "        properties = df.columns.difference([id_column, time_column])\n",
    "    \n",
    "    # Exclude specified properties if properties_exclude is provided\n",
    "    if properties_exclude is not None:\n",
    "        properties = properties.difference(properties_exclude)\n",
    "    \n",
    "    # Filter the DataFrame to include only the relevant columns\n",
    "    df_filtered = df[[time_column] + list(properties)].copy()\n",
    "    \n",
    "    # Set the time_column as index\n",
    "    df_filtered = df_filtered.set_index(time_column)\n",
    "    \n",
    "    # Create a new DataFrame to track validity by counting non-null values per timestamp\n",
    "    df_validity = df_filtered.notnull().groupby(level=0).sum()\n",
    "    \n",
    "    # Plot using missingno\n",
    "    msno.matrix(df_validity, sparkline=False)\n",
    "    plt.title(\"Overview of Valid Measurements Over Time\")\n",
    "    plt.xlabel(\"Properties\")\n",
    "    plt.ylabel(\"Time\")\n",
    "    plt.show()\n"
   ]
  },
  {
   "cell_type": "code",
   "execution_count": null,
   "id": "33f7fd63-f7b1-4cd4-9d44-8d4a6b31c2c2",
   "metadata": {},
   "outputs": [],
   "source": [
    "# Example usage\n",
    "# Assuming df_interpolated is your DataFrame with interpolated values\n",
    "plot_missing_data_overview(df_interpolated.reset_index(), \n",
    "                           id_column='id', \n",
    "                           time_column='timestamp', \n",
    "                           properties_include=['temp_sup__degC', 'temp_ret__degC', 'fan_rotations__min_1'])"
   ]
  },
  {
   "cell_type": "code",
   "execution_count": null,
   "id": "353f4d79-f0c2-4eb5-917e-b49d77184cbb",
   "metadata": {},
   "outputs": [],
   "source": []
  },
  {
   "cell_type": "markdown",
   "id": "63e52321-95b7-47db-9296-8244c6c4b2a6",
   "metadata": {},
   "source": [
    "## Inspecting total number of non-null measurements"
   ]
  },
  {
   "cell_type": "code",
   "execution_count": null,
   "id": "36a0c5c6-ae6d-46bf-8dd1-a7b4d8f633db",
   "metadata": {},
   "outputs": [],
   "source": [
    "# Count non-null values per column and per id\n",
    "non_null_counts_per_col = df_interpolated.groupby(level='id').count()\n",
    "\n",
    "# Sum across columns to get the total non-null values per id\n",
    "non_null_counts_per_col['total_non_null'] = non_null_counts_per_col.sum(axis=1)\n",
    "\n",
    "non_null_counts_per_col.sort_values(by='total_non_null', ascending=False).T.style.applymap(highlight_specific_value)\n",
    "\n"
   ]
  },
  {
   "cell_type": "markdown",
   "id": "d3e78617-2395-408a-a3fd-ab602a02b9f9",
   "metadata": {
    "tags": []
   },
   "source": [
    "#### Converting raw properties dataframe to preprocessed dataframe\n"
   ]
  },
  {
   "cell_type": "code",
   "execution_count": null,
   "id": "c4069b29-3eb4-454a-bd3b-0c2cbf0a8b7a",
   "metadata": {
    "tags": []
   },
   "outputs": [],
   "source": [
    "df_prep = Preprocessor.unstack_prop(df_interpolated)"
   ]
  },
  {
   "cell_type": "code",
   "execution_count": null,
   "id": "e4a364c1-efcb-4bd0-8ff3-85f4b0b735df",
   "metadata": {
    "tags": []
   },
   "outputs": [],
   "source": [
    "df_prep"
   ]
  },
  {
   "cell_type": "code",
   "execution_count": null,
   "id": "71bffcd1-f5ac-40d8-b11b-c8fa47302773",
   "metadata": {
    "tags": []
   },
   "outputs": [],
   "source": [
    "df_prep.info()"
   ]
  },
  {
   "cell_type": "markdown",
   "id": "3a3b11c1-4641-425e-888a-285581f28209",
   "metadata": {
    "tags": []
   },
   "source": [
    "## Plotting results: time series before and after preprocessing"
   ]
  },
  {
   "cell_type": "code",
   "execution_count": null,
   "id": "1d92bba8-42b2-466f-a8d9-6d2bfcbfc06a",
   "metadata": {
    "tags": []
   },
   "outputs": [],
   "source": [
    "%autoreload 2\n",
    "units_to_mathtext = property_types = {\n",
    "    'degC' : r'$°C$',\n",
    "    'ppm' : r'$ppm$',\n",
    "    '0' : r'$[-]$',\n",
    "    'bool': r'$0 = False; 1 = True$',\n",
    "    'p' : r'$persons$'\n",
    "}"
   ]
  },
  {
   "cell_type": "code",
   "execution_count": null,
   "id": "d39bed76-c1a7-4b7b-b309-f03f47797a73",
   "metadata": {
    "tags": []
   },
   "outputs": [],
   "source": [
    "%%time\n",
    "#Plot all properties with a single unit for a single id\n",
    "Plot.dataframe_properties_plot(df_prop.loc[[401632]][[prop for prop in df_prop.columns.values if prop.split('__')[-1] == 'm3']], units_to_mathtext)"
   ]
  },
  {
   "cell_type": "code",
   "execution_count": null,
   "id": "0c1e9406-ccbf-4185-99f5-9e2b25ca9c79",
   "metadata": {
    "tags": []
   },
   "outputs": [],
   "source": [
    "%%time\n",
    "#Plot all preprocessed properties with a single unit for a single id\n",
    "Plot.dataframe_preprocessed_plot(df_prep.loc[[401632]][[prop for prop in df_prep.columns.values if prop.split('__')[-1] == 'degC']], units_to_mathtext)"
   ]
  },
  {
   "cell_type": "code",
   "execution_count": null,
   "id": "b39a7289-0664-4816-8867-3e7a3ab2fcc4",
   "metadata": {},
   "outputs": [],
   "source": [
    "# TO DO: add prop_ and prep_ in a `prop-prep` column; merge into single dataframe and unstack, thus allowing for close inspection of preprocessed data"
   ]
  },
  {
   "cell_type": "markdown",
   "id": "de68063b-39e2-416f-aff3-780be94cb803",
   "metadata": {
    "tags": []
   },
   "source": [
    "# Other examples: temp_in__degC, minmax filtering and using the static outlier filter, per id\n",
    "Filtering out extreme temperatures based on mean and standard deviation per room"
   ]
  },
  {
   "cell_type": "code",
   "execution_count": null,
   "id": "e6b2725c-83d5-4e57-a8cc-3d41d2cf0334",
   "metadata": {
    "tags": []
   },
   "outputs": [],
   "source": [
    "prop = 'temp_in__degC'"
   ]
  },
  {
   "cell_type": "code",
   "execution_count": null,
   "id": "5da2f03f-2841-4477-8b1d-92e508f729bc",
   "metadata": {
    "tags": []
   },
   "outputs": [],
   "source": [
    "df = df_prop[prop] \n",
    "stats = df.groupby(level=['source_type', 'id']).describe().transpose()\n",
    "stats.columns = stats.columns.swaplevel(0,1)\n",
    "stats = stats.sort_index(axis=1, level=0)\n",
    "stats.loc[['count', 'mean', 'min', 'max', 'std'],:]"
   ]
  },
  {
   "cell_type": "code",
   "execution_count": null,
   "id": "f155e727-e7f9-497b-9b18-eacd93510208",
   "metadata": {
    "tags": []
   },
   "outputs": [],
   "source": [
    "%matplotlib inline\n",
    "%matplotlib widget\n",
    "\n",
    "df_prop[prop].plot.hist(bins=200, alpha=0.5, title = prop)\n"
   ]
  },
  {
   "cell_type": "code",
   "execution_count": null,
   "id": "a5d99f1f-1136-4aca-a64a-d229e32dfcfe",
   "metadata": {
    "tags": []
   },
   "outputs": [],
   "source": [
    "df = (df_prop[prop]\n",
    "      .unstack([0,1])\n",
    "      .dropna(how='all', axis=1)\n",
    "      .dropna(how='all', axis=0)\n",
    "      .stack([0,1])\n",
    "      .swaplevel(0,2)\n",
    "      .swaplevel(0,1)\n",
    "      .sort_index()\n",
    "     )\n",
    "\n",
    "# create subplots for each combination of id and source_type\n",
    "fig, axes = plt.subplots(nrows=len(df.index.levels[0]), ncols=len(df.index.levels[1]), figsize=(20, 10))\n",
    "\n",
    "# set title for each subplot\n",
    "for i, id in enumerate(df.index.levels[0]):\n",
    "    for j, source_type in enumerate(df.index.levels[1]):\n",
    "        axes[i, j].set_title(f\"id: {id}, source_type: {source_type}\")\n",
    "\n",
    "# plot histogram for each combination of id and source_type\n",
    "for i, id in enumerate(df.index.levels[0]):\n",
    "    for j, source_type in enumerate(df.index.levels[1]):\n",
    "        try:\n",
    "            data = df.loc[(id, source_type)].dropna()\n",
    "        except KeyError:\n",
    "            continue\n",
    "        axes[i, j].hist(data, bins=100)\n",
    "        # axes[i, j].set_xlabel('CO2 (ppm)')\n",
    "        # axes[i, j].set_ylabel('Count')\n",
    "\n",
    "plt.tight_layout()\n",
    "plt.show()"
   ]
  },
  {
   "cell_type": "code",
   "execution_count": null,
   "id": "28a0e4ac-4792-46e1-867c-9e25dccbcd9c",
   "metadata": {
    "tags": []
   },
   "outputs": [],
   "source": [
    "df_prop[prop].info()"
   ]
  },
  {
   "cell_type": "code",
   "execution_count": null,
   "id": "9eaa0973-ccfe-44ae-abb7-df9dcf48ec42",
   "metadata": {
    "tags": []
   },
   "outputs": [],
   "source": [
    "df = df_prop[prop] \n",
    "stats = df.groupby(level=['source_type', 'id']).describe().transpose()\n",
    "stats.columns = stats.columns.swaplevel(0,1)\n",
    "stats = stats.sort_index(axis=1, level=0)\n",
    "stats.loc[['count', 'mean', 'min', 'max', 'std'],:]"
   ]
  },
  {
   "cell_type": "markdown",
   "id": "2d60f558-2d51-4f13-bb57-67a351dcdeee",
   "metadata": {},
   "source": [
    "## Writing preprocessed properties to a parquet file"
   ]
  },
  {
   "cell_type": "code",
   "execution_count": null,
   "id": "3f7d2a34-c409-4f31-bbd6-2cc77e9ebbea",
   "metadata": {},
   "outputs": [],
   "source": [
    "%%time \n",
    "df_prop.to_parquet(rhc_preprocessed_poperties_file, index=True, engine='pyarrow')"
   ]
  },
  {
   "cell_type": "code",
   "execution_count": null,
   "id": "bd7b82e8-bf1a-4ae5-a764-e85f9ca3f3ed",
   "metadata": {},
   "outputs": [],
   "source": []
  }
 ],
 "metadata": {
  "kernelspec": {
   "display_name": "Python 3 (ipykernel)",
   "language": "python",
   "name": "python3"
  },
  "language_info": {
   "codemirror_mode": {
    "name": "ipython",
    "version": 3
   },
   "file_extension": ".py",
   "mimetype": "text/x-python",
   "name": "python",
   "nbconvert_exporter": "python",
   "pygments_lexer": "ipython3",
   "version": "3.11.6"
  }
 },
 "nbformat": 4,
 "nbformat_minor": 5
}
