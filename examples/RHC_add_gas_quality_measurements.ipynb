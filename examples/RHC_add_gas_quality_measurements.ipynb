{
 "cells": [
  {
   "cell_type": "markdown",
   "id": "97a7fe2f-f9d6-4f45-8e65-27e167b47212",
   "metadata": {},
   "source": [
    "# Add gas quality to raw data"
   ]
  },
  {
   "cell_type": "code",
   "execution_count": null,
   "id": "30607ab5-5420-4749-ba66-ac9c516a0061",
   "metadata": {},
   "outputs": [],
   "source": [
    "import pandas as pd\n",
    "import numpy as np\n",
    "\n",
    "rhc_file_path='rhc_raw_measurements.parquet'\n",
    "rhc_gas_quality_file = 'rhc_gas_quality.parquet'            # produced by RHC_gas_quality.ipynb\n",
    "\n",
    "# usually, two decimals suffice for displaying DataFrames (NB internally, precision may be higher)\n",
    "pd.options.display.precision = 2\n",
    "\n",
    "import sys\n",
    "sys.path.append('../data/')\n",
    "sys.path.append('../view/')\n",
    "\n",
    "%load_ext autoreload\n"
   ]
  },
  {
   "cell_type": "markdown",
   "id": "f9bb8dec-3947-4013-800e-bc29a01d8903",
   "metadata": {},
   "source": [
    "## Get measurements"
   ]
  },
  {
   "cell_type": "code",
   "execution_count": null,
   "id": "318bb2cd-fbbe-405f-b4de-73dcfc98ac29",
   "metadata": {},
   "outputs": [],
   "source": [
    "%%time\n",
    "# Attempt to read the Parquet file\n",
    "try:\n",
    "    df_meas = pd.read_parquet(\n",
    "        rhc_file_path, \n",
    "        engine='pyarrow',\n",
    "        dtype_backend='numpy_nullable'\n",
    "        )\n",
    "    print(\"File was successfully read without specifying compression codec.\")\n",
    "except Exception as e:\n",
    "    print(f\"Error reading file: {e}\")\n"
   ]
  },
  {
   "cell_type": "markdown",
   "id": "8627a1ac-ccdc-4cbc-8c4f-4d0f11356f2a",
   "metadata": {},
   "source": [
    "## Get and merge gas quality data"
   ]
  },
  {
   "cell_type": "code",
   "execution_count": null,
   "id": "95116a9a-537e-460f-88a5-fafc5831613e",
   "metadata": {},
   "outputs": [],
   "source": [
    "%%time\n",
    "# read gas quality data from Parquet file produced by RHC_gas_quality.ipynb\n",
    "try:\n",
    "    df_gas_quality = pd.read_parquet(\n",
    "        rhc_gas_quality_file, \n",
    "        engine='pyarrow',\n",
    "        dtype_backend='numpy_nullable'\n",
    "        )\n",
    "    print(\"File was successfully read without specifying compression codec.\")\n",
    "except Exception as e:\n",
    "    print(f\"Error reading file: {e}\")"
   ]
  },
  {
   "cell_type": "code",
   "execution_count": null,
   "id": "5c7ffdf6-e0b3-4afe-940b-7121a66b14f2",
   "metadata": {},
   "outputs": [],
   "source": [
    "df_gas_quality"
   ]
  },
  {
   "cell_type": "code",
   "execution_count": null,
   "id": "69c0b86d-027e-43b6-8e8d-73339fdde804",
   "metadata": {},
   "outputs": [],
   "source": [
    "df_gas_quality.index.dtype"
   ]
  },
  {
   "cell_type": "code",
   "execution_count": null,
   "id": "be97d3a4-9c29-4626-8f5c-b80894d77b79",
   "metadata": {},
   "outputs": [],
   "source": [
    "df_gas_quality.info()"
   ]
  },
  {
   "cell_type": "code",
   "execution_count": null,
   "id": "4ee10b2d-d889-46f0-9254-fdd1cea840ab",
   "metadata": {},
   "outputs": [],
   "source": [
    "# %%time\n",
    "# df_gas_quality['actual_gas_std_hhv__J_m_3'] = df_gas_quality['actual_gas_std_hhv__J_m_3'].astype(str)"
   ]
  },
  {
   "cell_type": "code",
   "execution_count": null,
   "id": "e3ab38df-23df-48f5-99ce-1e1a82c11538",
   "metadata": {},
   "outputs": [],
   "source": [
    "df_gas_quality.info()"
   ]
  },
  {
   "cell_type": "code",
   "execution_count": null,
   "id": "dc7ad159-5768-430b-a2ae-9c0f7aaf94d6",
   "metadata": {},
   "outputs": [],
   "source": [
    "df_meas.info()"
   ]
  },
  {
   "cell_type": "code",
   "execution_count": null,
   "id": "5b3297bc-d77e-48c7-9cdc-11fbe9692c17",
   "metadata": {},
   "outputs": [],
   "source": [
    "df_meas.index.dtypes"
   ]
  },
  {
   "cell_type": "code",
   "execution_count": null,
   "id": "7d98634d-b956-4835-a295-4c736a2274ae",
   "metadata": {},
   "outputs": [],
   "source": [
    "# Extract necessary values from df_meas\n",
    "unique_ids = df_meas.index.get_level_values('id').unique()"
   ]
  },
  {
   "cell_type": "code",
   "execution_count": null,
   "id": "537b4df4-b58f-4c1d-8505-37baf7713497",
   "metadata": {},
   "outputs": [],
   "source": [
    "unique_ids"
   ]
  },
  {
   "cell_type": "code",
   "execution_count": null,
   "id": "3a374906-3a7e-440e-8fe2-b41ecb6ff92b",
   "metadata": {},
   "outputs": [],
   "source": [
    "source_category = 'batch_import'\n",
    "source_type = 'EDSN'\n",
    "property_name = 'actual_gas_std_hhv__J_m_3'"
   ]
  },
  {
   "cell_type": "code",
   "execution_count": null,
   "id": "834c3af8-a2b0-4fe5-93a0-125a1c2b7921",
   "metadata": {},
   "outputs": [],
   "source": [
    "# Create a new MultiIndex for df_gas_quality to be compatible with df_meas\n",
    "# Replicate df_gas_quality for each unique id\n",
    "multiindex_tuples = []\n",
    "for _id in unique_ids:\n",
    "    for timestamp in df_gas_quality.index:\n",
    "        multiindex_tuples.append((_id, source_category, source_type, timestamp, property_name))\n",
    "\n",
    "# Create the new MultiIndex\n",
    "new_index = pd.MultiIndex.from_tuples(multiindex_tuples, names=['id', 'source_category', 'source_type', 'timestamp', 'property'])"
   ]
  },
  {
   "cell_type": "code",
   "execution_count": null,
   "id": "c8240485-f095-4e51-b766-69872f3829db",
   "metadata": {},
   "outputs": [],
   "source": [
    "# Replicate the gas quality data for each id\n",
    "df_gas_quality_replicated = pd.DataFrame(\n",
    "    data={'value': df_gas_quality['actual_gas_std_hhv__J_m_3'].values.repeat(len(unique_ids))},\n",
    "    index=new_index\n",
    ")"
   ]
  },
  {
   "cell_type": "code",
   "execution_count": null,
   "id": "abcd449f-4f4f-473b-8079-cbd90de91c8f",
   "metadata": {},
   "outputs": [],
   "source": [
    "%%time\n",
    "# Merge df_gas_quality_replicated with df_meas (assuming a left join to keep all df_meas data)\n",
    "df_meas = pd.concat([df_meas, df_gas_quality_replicated], axis=0).sort_index()"
   ]
  },
  {
   "cell_type": "code",
   "execution_count": null,
   "id": "dfa61a5e-1ec7-4776-b8b4-629c379f8379",
   "metadata": {},
   "outputs": [],
   "source": [
    "df_meas.info()"
   ]
  },
  {
   "cell_type": "code",
   "execution_count": null,
   "id": "317076cd-20fc-4c2f-a1ed-00017ee4271c",
   "metadata": {},
   "outputs": [],
   "source": [
    "df_meas.index.dtypes"
   ]
  },
  {
   "cell_type": "code",
   "execution_count": null,
   "id": "3c5b2ec3-35c4-45b0-b60b-985f53854de5",
   "metadata": {},
   "outputs": [],
   "source": [
    "df_meas.index.get_level_values('source_category').unique()"
   ]
  },
  {
   "cell_type": "code",
   "execution_count": null,
   "id": "ed068804-601f-41bd-bbf4-7d2aed22fd1c",
   "metadata": {},
   "outputs": [],
   "source": [
    "df_meas.index.get_level_values('source_type').unique()"
   ]
  },
  {
   "cell_type": "code",
   "execution_count": null,
   "id": "b1295118-d0ea-4cc1-99b7-6b227ef65e37",
   "metadata": {},
   "outputs": [],
   "source": [
    "df_meas.index.get_level_values('property').unique()"
   ]
  },
  {
   "cell_type": "markdown",
   "id": "574c9e4b-eefa-4f8a-aeb8-965880564b6d",
   "metadata": {},
   "source": [
    "## Write to parquet file(s)"
   ]
  },
  {
   "cell_type": "code",
   "execution_count": null,
   "id": "b6509c24-6b86-4d6e-a36c-615069991d28",
   "metadata": {},
   "outputs": [],
   "source": [
    "df_meas.index.dtypes"
   ]
  },
  {
   "cell_type": "code",
   "execution_count": null,
   "id": "3a9372ac-97fe-4d31-8cbf-276e290ea4ec",
   "metadata": {},
   "outputs": [],
   "source": [
    "%%time \n",
    "# Convert the 'value' column to string type\n",
    "df_meas['value'] = df_meas['value'].astype(str)"
   ]
  },
  {
   "cell_type": "code",
   "execution_count": null,
   "id": "26995811-4f47-4bdf-8150-a3e14410d4bf",
   "metadata": {},
   "outputs": [],
   "source": [
    "%%time \n",
    "df_meas.to_parquet(rhc_file_path, index=True, engine='pyarrow')"
   ]
  },
  {
   "cell_type": "code",
   "execution_count": null,
   "id": "a929f3a0-da54-4b3e-84d7-9fc7c8379872",
   "metadata": {},
   "outputs": [],
   "source": [
    "# # uncomment this code to enable it \n",
    "# %%time \n",
    "# for home_id in tqdm(df_meas.index.get_level_values('id').unique()):\n",
    "#     df_meas.xs(home_id, drop_level=False).to_parquet(f'{home_id}_raw_measurements.parquet', index=True, engine='pyarrow')"
   ]
  }
 ],
 "metadata": {
  "kernelspec": {
   "display_name": "Python 3 (ipykernel)",
   "language": "python",
   "name": "python3"
  },
  "language_info": {
   "codemirror_mode": {
    "name": "ipython",
    "version": 3
   },
   "file_extension": ".py",
   "mimetype": "text/x-python",
   "name": "python",
   "nbconvert_exporter": "python",
   "pygments_lexer": "ipython3",
   "version": "3.11.6"
  }
 },
 "nbformat": 4,
 "nbformat_minor": 5
}
