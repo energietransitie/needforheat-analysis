{
 "cells": [
  {
   "cell_type": "code",
   "execution_count": null,
   "id": "29ba2386-ffc5-4c51-9ebf-436fe28c55ea",
   "metadata": {},
   "outputs": [],
   "source": [
    "import pandas as pd\n",
    "\n",
    "file_path='needforheat_raw_measurements.parquet'\n",
    "file_output_path='needforheat_export_student.parquet'"
   ]
  },
  {
   "cell_type": "code",
   "execution_count": null,
   "id": "aed04676-c5df-49f2-85ca-b75c0ce157a9",
   "metadata": {},
   "outputs": [],
   "source": [
    "map_source_category = {\n",
    "    'twomes-p1-reader-firmware': 'device',\n",
    "    'enelogic': 'cloud_feed',\n",
    "    'twomes-co2-occupancy-scd41-m5coreink-firmware': 'device'\n",
    "}"
   ]
  },
  {
   "cell_type": "code",
   "execution_count": null,
   "id": "853cae70-6e40-41dc-ba75-7c22f4b413b0",
   "metadata": {},
   "outputs": [],
   "source": [
    "try:\n",
    "    # df = pd.read_parquet(file_path)\n",
    "    df = pd.read_parquet(\n",
    "        file_path, \n",
    "        engine='pyarrow',\n",
    "        use_nullable_dtypes=True\n",
    "        )\n",
    "    print(\"File was successfully read without specifying compression codec.\")\n",
    "except Exception as e:\n",
    "    print(f\"Error reading file: {e}\")\n"
   ]
  },
  {
   "cell_type": "markdown",
   "id": "e54db1e3-34b7-4bb4-87c0-6a131ee2ec34",
   "metadata": {},
   "source": [
    "# Remap the id"
   ]
  },
  {
   "cell_type": "code",
   "execution_count": null,
   "id": "6cc65d18-51b1-4750-8ce9-1c1ee3220175",
   "metadata": {},
   "outputs": [],
   "source": [
    "df.index.get_level_values('id').unique()"
   ]
  },
  {
   "cell_type": "code",
   "execution_count": null,
   "id": "815dec0b-bf70-47e2-b2a7-b583cffb6377",
   "metadata": {},
   "outputs": [],
   "source": [
    "df.info()"
   ]
  },
  {
   "cell_type": "code",
   "execution_count": null,
   "id": "1edd5fea-3495-44dd-a695-8c89a588d6d3",
   "metadata": {},
   "outputs": [],
   "source": [
    "# Read the mapping DataFrame from the Excel file\n",
    "mapping_df = pd.read_excel('pseudonym_id_student_mapping.xlsx')"
   ]
  },
  {
   "cell_type": "code",
   "execution_count": null,
   "id": "e47b5ffd-2993-4bd4-8f0c-ff584c47e6a8",
   "metadata": {},
   "outputs": [],
   "source": [
    "# Convert the mapping DataFrame to a dictionary with 'id' as key and 'random_id' as value\n",
    "id_mapping_dict = dict(zip(mapping_df['id'], mapping_df['random_id']))"
   ]
  },
  {
   "cell_type": "code",
   "execution_count": null,
   "id": "59085caf-9195-4dc4-83bb-3918af164d57",
   "metadata": {},
   "outputs": [],
   "source": [
    "id_mapping_dict"
   ]
  },
  {
   "cell_type": "code",
   "execution_count": null,
   "id": "384c5e28-8fbc-4190-a1f0-47ec5e65d2a2",
   "metadata": {},
   "outputs": [],
   "source": [
    "# Replace 'id' values in the DataFrame using the dictionary\n",
    "df.index = df.index.set_levels(df.index.levels[0].map(id_mapping_dict).astype(df.index.levels[0].dtype), level=0)"
   ]
  },
  {
   "cell_type": "code",
   "execution_count": null,
   "id": "43b070f6-95d3-4551-a141-c17ab553af86",
   "metadata": {},
   "outputs": [],
   "source": [
    "df.index.get_level_values('id').unique()"
   ]
  },
  {
   "cell_type": "code",
   "execution_count": null,
   "id": "beb31e80-4924-4e99-9fec-35d1c23335f8",
   "metadata": {},
   "outputs": [],
   "source": [
    "# Get the names of the levels in the MultiIndex\n",
    "level_names = df.index.names\n",
    "\n",
    "# Get the datatypes of the levels in the MultiIndex\n",
    "level_dtypes = [df.index.get_level_values(level).dtype for level in range(df.index.nlevels)]\n",
    "\n",
    "# Display the names and datatypes of the levels in the MultiIndex\n",
    "for i, name in enumerate(level_names):\n",
    "    print(f\"Level {i}: Name = {name}, Dtype = {level_dtypes[i]}\")"
   ]
  },
  {
   "cell_type": "markdown",
   "id": "eea597db-ee27-4180-9f32-d5dc53ec2370",
   "metadata": {},
   "source": [
    "# Delete device_name, add source_category and source_type "
   ]
  },
  {
   "cell_type": "code",
   "execution_count": null,
   "id": "25c50e7d-c029-43af-99ad-6cf1b6bb657a",
   "metadata": {},
   "outputs": [],
   "source": [
    "# Step 1: Rename the 'source' level to 'source_type'\n",
    "df = df.rename_axis(index={'source': 'source_type'})\n"
   ]
  },
  {
   "cell_type": "code",
   "execution_count": null,
   "id": "6dbf79b5-8dbc-4c3b-99b2-320fcddefed8",
   "metadata": {},
   "outputs": [],
   "source": [
    "df.index.names"
   ]
  },
  {
   "cell_type": "code",
   "execution_count": null,
   "id": "c6cbb62a-2a01-4b81-a657-a75b4e9e2925",
   "metadata": {},
   "outputs": [],
   "source": [
    "df"
   ]
  },
  {
   "cell_type": "code",
   "execution_count": null,
   "id": "75051b11-8d2b-4655-b6bb-975d4de19ac9",
   "metadata": {},
   "outputs": [],
   "source": [
    "df.index.get_level_values('source_type').unique()"
   ]
  },
  {
   "cell_type": "code",
   "execution_count": null,
   "id": "fc4de962-9595-4d2b-9dde-70a9d08ba445",
   "metadata": {},
   "outputs": [],
   "source": [
    "# Drop the 'device_name' level from the MultiIndex\n",
    "df.index = df.index.droplevel('device_name')"
   ]
  },
  {
   "cell_type": "code",
   "execution_count": null,
   "id": "873c129b-1bed-4097-a5e6-45f361f78d6d",
   "metadata": {},
   "outputs": [],
   "source": [
    "df"
   ]
  },
  {
   "cell_type": "code",
   "execution_count": null,
   "id": "d1050b2d-8c11-4492-bbd5-955b2be6a171",
   "metadata": {},
   "outputs": [],
   "source": [
    "# Create a new column 'source_category' based on the mapping of 'source_type'\n",
    "df['source_category'] = df.index.get_level_values('source_type').map(map_source_category)"
   ]
  },
  {
   "cell_type": "code",
   "execution_count": null,
   "id": "032e0765-eafd-41a1-8929-16044d8e4cb4",
   "metadata": {},
   "outputs": [],
   "source": [
    "df"
   ]
  },
  {
   "cell_type": "code",
   "execution_count": null,
   "id": "41f46d90-e666-4dcf-9bfb-ef8b87cbb33d",
   "metadata": {},
   "outputs": [],
   "source": [
    "# Reset the index to separate the index levels from the new column\n",
    "df.reset_index(inplace=True)"
   ]
  },
  {
   "cell_type": "code",
   "execution_count": null,
   "id": "9c44e5f9-8032-4fcd-8ae7-5187237c52ca",
   "metadata": {},
   "outputs": [],
   "source": [
    "# Set 'source_category' as the index level\n",
    "df.set_index(['id', 'source_category', 'source_type', 'timestamp', 'property'], inplace=True)"
   ]
  },
  {
   "cell_type": "code",
   "execution_count": null,
   "id": "12dbd3ca-7a3d-4c73-9fe5-7cefd7d8ba24",
   "metadata": {},
   "outputs": [],
   "source": [
    "df"
   ]
  },
  {
   "cell_type": "code",
   "execution_count": null,
   "id": "a06e8581-ae26-4229-8d51-57cb839ac602",
   "metadata": {},
   "outputs": [],
   "source": [
    "# Extract 'source_category' and 'source_type' levels from the MultiIndex\n",
    "source_category_levels = df.index.get_level_values('source_category')\n",
    "source_type_levels = df.index.get_level_values('source_type')\n",
    "\n",
    "# Combine into a DataFrame and drop duplicates\n",
    "unique_combinations = pd.DataFrame({'source_category': source_category_levels, 'source_type': source_type_levels}).drop_duplicates().reset_index(drop=True)"
   ]
  },
  {
   "cell_type": "code",
   "execution_count": null,
   "id": "0fa07bda-3ded-46ae-addd-81f74d2c8d62",
   "metadata": {},
   "outputs": [],
   "source": [
    "unique_combinations"
   ]
  },
  {
   "cell_type": "code",
   "execution_count": null,
   "id": "1ff13c21-7022-4e7b-8810-e537031e360f",
   "metadata": {},
   "outputs": [],
   "source": [
    "df\n"
   ]
  },
  {
   "cell_type": "code",
   "execution_count": null,
   "id": "2f6efb57-da45-4477-badb-5cb0fc97b417",
   "metadata": {},
   "outputs": [],
   "source": [
    "counts =  df.groupby(['source_category', 'source_type', 'property']).size()\n",
    "# Filter out rows with count 0\n",
    "counts_filtered = counts[counts != 0]\n",
    "\n",
    "# Print filtered counts\n",
    "print(counts_filtered)"
   ]
  },
  {
   "cell_type": "markdown",
   "id": "ad11f9ee-0e6f-4a85-a91c-6b6391594862",
   "metadata": {},
   "source": [
    "# Filter data for only a few properties"
   ]
  },
  {
   "cell_type": "code",
   "execution_count": null,
   "id": "6c919701-52c2-404a-b399-310db9555dd5",
   "metadata": {},
   "outputs": [],
   "source": [
    "df.index.get_level_values('property').unique().to_list()"
   ]
  },
  {
   "cell_type": "code",
   "execution_count": null,
   "id": "5dfb2b2e-c3f9-41b8-ba7a-a222cc2c47cf",
   "metadata": {},
   "outputs": [],
   "source": [
    "df = df[(df.index.get_level_values('property') == 'g_use_cum__m3') | (df.index.get_level_values('property') == 'temp_indoor__degC')]"
   ]
  },
  {
   "cell_type": "code",
   "execution_count": null,
   "id": "cd8ca22f-d395-42e0-a317-108dd97ac2c2",
   "metadata": {},
   "outputs": [],
   "source": [
    "df.info()"
   ]
  },
  {
   "cell_type": "code",
   "execution_count": null,
   "id": "e840181d-39e8-4ed5-b164-4f55b6e0123d",
   "metadata": {},
   "outputs": [],
   "source": [
    "df"
   ]
  },
  {
   "cell_type": "code",
   "execution_count": null,
   "id": "46872145-004d-4502-8264-2c3675646432",
   "metadata": {},
   "outputs": [],
   "source": [
    "# Get the names of the levels in the MultiIndex\n",
    "level_names = df.index.names\n",
    "\n",
    "# Get the datatypes of the levels in the MultiIndex\n",
    "level_dtypes = [df.index.get_level_values(level).dtype for level in range(df.index.nlevels)]\n",
    "\n",
    "# Display the names and datatypes of the levels in the MultiIndex\n",
    "for i, name in enumerate(level_names):\n",
    "    print(f\"Level {i}: Name = {name}, Dtype = {level_dtypes[i]}\")"
   ]
  },
  {
   "cell_type": "code",
   "execution_count": null,
   "id": "e2cff3d1-7afa-4ac9-80e1-f929287ec022",
   "metadata": {},
   "outputs": [],
   "source": [
    "# Convert specific levels of the MultiIndex to 'category'\n",
    "df.index = df.index.set_levels(df.index.levels[1].astype('category'), level=1)\n",
    "df.index = df.index.set_levels(df.index.levels[2].astype('category'), level=2)\n",
    "df.index = df.index.set_levels(df.index.levels[4].astype('category'), level=4)"
   ]
  },
  {
   "cell_type": "code",
   "execution_count": null,
   "id": "302859a6-0834-4a6c-bbc1-39255170feff",
   "metadata": {},
   "outputs": [],
   "source": [
    "df.loc[:, 'value'] = df['value'].astype('float64')\n"
   ]
  },
  {
   "cell_type": "code",
   "execution_count": null,
   "id": "8f7495d8-13d8-4955-b56b-1d747231839d",
   "metadata": {},
   "outputs": [],
   "source": [
    "df.info()"
   ]
  },
  {
   "cell_type": "code",
   "execution_count": null,
   "id": "c6ec323b-bb5d-4975-938c-1b1390df3a53",
   "metadata": {},
   "outputs": [],
   "source": [
    "df"
   ]
  },
  {
   "cell_type": "code",
   "execution_count": null,
   "id": "00ef2151-373d-41e0-8497-5579877eee6b",
   "metadata": {},
   "outputs": [],
   "source": [
    "%%time \n",
    "df.to_parquet(file_output_path, index=True, engine='pyarrow')"
   ]
  }
 ],
 "metadata": {
  "kernelspec": {
   "display_name": "Python 3 (ipykernel)",
   "language": "python",
   "name": "python3"
  },
  "language_info": {
   "codemirror_mode": {
    "name": "ipython",
    "version": 3
   },
   "file_extension": ".py",
   "mimetype": "text/x-python",
   "name": "python",
   "nbconvert_exporter": "python",
   "pygments_lexer": "ipython3",
   "version": "3.11.6"
  }
 },
 "nbformat": 4,
 "nbformat_minor": 5
}
