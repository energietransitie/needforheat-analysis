{
 "cells": [
  {
   "cell_type": "markdown",
   "id": "b8e351d3-620f-45ea-82f0-18b8a8ebf2c5",
   "metadata": {},
   "source": [
    "# Write to zipped CSV files\n",
    "> WARNING: this might take hours for large Parquet files!"
   ]
  },
  {
   "cell_type": "markdown",
   "id": "baa708ab-f1ac-418f-9d2e-208e1b1c53d3",
   "metadata": {
    "tags": []
   },
   "source": [
    "## Write raw measurements per home to zipped CSV files"
   ]
  },
  {
   "cell_type": "code",
   "execution_count": null,
   "id": "a29fb076-a8a4-4f9e-b1fb-986b25590521",
   "metadata": {},
   "outputs": [],
   "source": [
    "import sys\n",
    "sys.path.append('../data/')\n",
    "import pandas as pd\n",
    "from measurements import Measurements\n",
    "from tqdm.notebook import tqdm"
   ]
  },
  {
   "cell_type": "code",
   "execution_count": null,
   "id": "2ca12f62-59ff-46ef-847d-7368cae350a8",
   "metadata": {},
   "outputs": [],
   "source": [
    "# Homes: full set of subjects that started and did not stop\n",
    "homes_full = [401632, 403603, 404873, 410260, 412715, 424197, 429011, 430062, 434931, 438708, 440152, 444964, 449134, 450051, 450298, 456638, 458000, 458852, 478667, 483173, 487126, 487289, 494233, 495906]"
   ]
  },
  {
   "cell_type": "code",
   "execution_count": null,
   "id": "77664773-92dd-44cb-994e-0532b8f0ca90",
   "metadata": {},
   "outputs": [],
   "source": [
    "homes = homes_full"
   ]
  },
  {
   "cell_type": "code",
   "execution_count": null,
   "id": "0d85f5b5-f438-49fe-81e4-1988cad39aa4",
   "metadata": {},
   "outputs": [],
   "source": [
    "%%time \n",
    "for home_id in tqdm(homes):\n",
    "    try:\n",
    "        df_meas_home =  pd.read_parquet(\n",
    "            f'{home_id}_raw_measurements.parquet', \n",
    "            engine='pyarrow',\n",
    "            use_nullable_dtypes=True\n",
    "        )\n",
    "        df_meas_home.to_csv(\n",
    "            f'{home_id}_raw_measurements.zip',\n",
    "            encoding='utf-8',\n",
    "            compression= dict(method='zip',\n",
    "                              archive_name=f'{home_id}_raw_measurements.csv'),\n",
    "            date_format='%Y-%m-%dT%H:%M:%S%z'\n",
    "        )\n",
    "    except FileNotFoundError as e:\n",
    "        print(f\"Error: {e}. Skipping file {home_id}_raw_measurements.parquet.\")\n",
    "        continue        "
   ]
  },
  {
   "cell_type": "markdown",
   "id": "35275ef1-ac60-4242-a14a-75647c7c9b05",
   "metadata": {
    "tags": []
   },
   "source": [
    "## Write raw properties per home to zipped CSV files"
   ]
  },
  {
   "cell_type": "code",
   "execution_count": null,
   "id": "05e9b31f-fba3-4ce6-a0f2-f3ebe296e9c3",
   "metadata": {
    "tags": []
   },
   "outputs": [],
   "source": [
    "%%time \n",
    "for home_id in tqdm(homes):\n",
    "    try:\n",
    "        df_prop_home =  pd.read_parquet(\n",
    "            f'{home_id}_raw_properties.parquet',\n",
    "            engine='pyarrow'\n",
    "        )\n",
    "        obj_cols = df_prop_home.select_dtypes(include=['object']).columns\n",
    "        df_prop_home[obj_cols] = df_prop_home[obj_cols].replace('nan', None)\n",
    "        df_prop_home.to_csv(\n",
    "            f'{home_id}_raw_properties.zip',\n",
    "            encoding='utf-8',\n",
    "            compression= dict(method='zip',\n",
    "                              archive_name=f'{home_id}_raw_properties.csv'),\n",
    "            date_format='%Y-%m-%dT%H:%M:%S%z'\n",
    "        )\n",
    "    except FileNotFoundError as e:\n",
    "        print(f\"Error: {e}. Skipping file {home_id}_raw_measurements.parquet.\")\n",
    "        continue                "
   ]
  }
 ],
 "metadata": {
  "kernelspec": {
   "display_name": "Python 3 (ipykernel)",
   "language": "python",
   "name": "python3"
  },
  "language_info": {
   "codemirror_mode": {
    "name": "ipython",
    "version": 3
   },
   "file_extension": ".py",
   "mimetype": "text/x-python",
   "name": "python",
   "nbconvert_exporter": "python",
   "pygments_lexer": "ipython3",
   "version": "3.10.11"
  }
 },
 "nbformat": 4,
 "nbformat_minor": 5
}
