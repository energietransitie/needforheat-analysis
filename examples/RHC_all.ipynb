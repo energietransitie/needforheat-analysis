{
 "cells": [
  {
   "cell_type": "markdown",
   "id": "ad6af577-02b6-41f3-88b3-976296c2e77a",
   "metadata": {},
   "source": [
    "# Sequentially run the REDUCEDHEATCARB notebooks using IPython magic commands"
   ]
  },
  {
   "cell_type": "code",
   "execution_count": null,
   "id": "38f8a64a-dc13-4d27-9297-b598260de7df",
   "metadata": {},
   "outputs": [],
   "source": [
    "# Import the necessary magic command\n",
    "from IPython import get_ipython\n",
    "\n",
    "ipython = get_ipython()\n",
    "\n",
    "# ANSI escape code for bold text\n",
    "BOLD = \"\\033[1m\"\n",
    "RESET = \"\\033[0m\""
   ]
  },
  {
   "cell_type": "code",
   "execution_count": null,
   "id": "3fe7c289-8f92-4541-a0a7-24ab5600cc3f",
   "metadata": {},
   "outputs": [],
   "source": [
    "# # List of notebooks in the order they should be run\n",
    "# notebooks = [\n",
    "#     # \"NeedForHeatExtraction.ipynb\",  # Update not needed\n",
    "#     \"Remeha_import.ipynb\",\n",
    "#     # \"PC6_address_to_H3_L4.ipynb\",  # Update not needed\n",
    "#     \"RHC_merge_home_data.ipynb\",   # Requires preprocessed file, might handle fewer homes\n",
    "#     \"REDUCEDHEATCARB_enelogic_manual_import.ipynb\",\n",
    "#     \"REDUCEDHEATCARB_data_merge.ipynb\",\n",
    "#     \"RHC_gas_quality.ipynb\",\n",
    "#     \"RHC_add_gas_quality_measurements.ipynb\",\n",
    "#     \"REDUCEDHEATCARB_sanity_check.ipynb\",\n",
    "#     \"REDUCEDHEATCARB_preprocessing.ipynb\",\n",
    "#     \"Remeha_import_schedules.ipynb\",\n",
    "#     \"RHC_analysis.ipynb\"\n",
    "# ]"
   ]
  },
  {
   "cell_type": "code",
   "execution_count": null,
   "id": "e732179a-8cad-419c-a261-e2ef5b163130",
   "metadata": {},
   "outputs": [],
   "source": [
    "# List of notebooks in the order they should be run\n",
    "notebooks = [\n",
    "    # # \"NeedForHeatExtraction.ipynb\",  # Update not needed\n",
    "    # \"Remeha_import.ipynb\",\n",
    "    # # \"PC6_address_to_H3_L4.ipynb\",  # Update not needed\n",
    "    # \"RHC_merge_home_data.ipynb\",   # Requires preprocessed file, might handle fewer homes\n",
    "    # \"REDUCEDHEATCARB_enelogic_manual_import.ipynb\",\n",
    "    # \"REDUCEDHEATCARB_data_merge.ipynb\",\n",
    "    # \"RHC_gas_quality.ipynb\",\n",
    "    # \"RHC_add_gas_quality_measurements.ipynb\",\n",
    "    # \"REDUCEDHEATCARB_sanity_check.ipynb\",\n",
    "    \"REDUCEDHEATCARB_preprocessing.ipynb\",\n",
    "    \"Remeha_import_schedules.ipynb\",\n",
    "    \"RHC_analysis.ipynb\"\n",
    "]"
   ]
  },
  {
   "cell_type": "code",
   "execution_count": null,
   "id": "3fc0e2f3-93c6-4f26-b515-57a7375d4aa4",
   "metadata": {},
   "outputs": [],
   "source": [
    "%%time\n",
    "for notebook in notebooks:\n",
    "    print(f\"{BOLD}Running {notebook}...{RESET}\")\n",
    "    try:\n",
    "        ipython.run_line_magic('run', notebook)\n",
    "        print(f\"{BOLD}Completed {notebook}.{RESET}\\n\")\n",
    "    except Exception as e:\n",
    "        print(f\"{BOLD}Error running {notebook}: {e}{RESET}\\n\")"
   ]
  },
  {
   "cell_type": "code",
   "execution_count": null,
   "id": "626aa41b-1fcd-4a0d-a5b2-1230eae3476b",
   "metadata": {},
   "outputs": [],
   "source": [
    "# for notebook in notebooks:\n",
    "#     print(f\"Running {notebook}...\")\n",
    "#     try:\n",
    "#         ipython.run_line_magic('run', notebook)\n",
    "#         print(f\"Completed {notebook}.\\n\")\n",
    "#     except Exception as e:\n",
    "#         print(f\"Error running {notebook}: {e}\\n\")"
   ]
  },
  {
   "cell_type": "code",
   "execution_count": null,
   "id": "f019d0e0-5ef2-4c4b-ae68-7371e6acda5a",
   "metadata": {},
   "outputs": [],
   "source": []
  }
 ],
 "metadata": {
  "kernelspec": {
   "display_name": "Python 3 (ipykernel)",
   "language": "python",
   "name": "python3"
  },
  "language_info": {
   "codemirror_mode": {
    "name": "ipython",
    "version": 3
   },
   "file_extension": ".py",
   "mimetype": "text/x-python",
   "name": "python",
   "nbconvert_exporter": "python",
   "pygments_lexer": "ipython3",
   "version": "3.11.6"
  }
 },
 "nbformat": 4,
 "nbformat_minor": 5
}
