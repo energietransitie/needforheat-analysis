{
 "cells": [
  {
   "cell_type": "markdown",
   "id": "8b209202-987b-4ae5-964d-367c639f6b3b",
   "metadata": {},
   "source": [
    "# Import Enelogic Excel"
   ]
  },
  {
   "cell_type": "code",
   "execution_count": null,
   "id": "f52649ab-50eb-4157-bb37-3c1889197851",
   "metadata": {},
   "outputs": [],
   "source": [
    "import os\n",
    "\n",
    "from datetime import datetime, timedelta\n",
    "import pytz\n",
    "import pylab as plt\n",
    "\n",
    "import pandas as pd\n",
    "import numpy as np\n",
    "\n",
    "# usually, two decimals suffice for displaying DataFrames (NB internally, precision may be higher)\n",
    "pd.options.display.precision = 2\n",
    "import sys\n",
    "sys.path.append('../data/')\n",
    "\n",
    "%load_ext autoreload\n",
    "import gc\n",
    "\n",
    "from measurements import Measurements\n",
    "from preprocessor import Preprocessor\n",
    "\n",
    "from tqdm.notebook import tqdm\n",
    "\n",
    "# Replace 'file_path' with the actual path to your file\n",
    "file_path='rhc_enelogic_monthly_export.xlsx'\n",
    "file_output_path='rhc_enelogic_monthly_export.parquet'\n",
    "\n"
   ]
  },
  {
   "cell_type": "code",
   "execution_count": null,
   "id": "389baf3f-edce-497e-9adb-92fc1634b5e8",
   "metadata": {},
   "outputs": [],
   "source": [
    "# Get the file size in bytes\n",
    "file_size_bytes = os.path.getsize(file_path)\n",
    "\n",
    "# Convert file size to kilobytes, megabytes, etc. for better readability\n",
    "file_size_kb = file_size_bytes / 1024\n",
    "file_size_mb = file_size_kb / 1024\n",
    "file_size_gb = file_size_mb / 1024\n",
    "\n",
    "# Print the file size\n",
    "print(f\"File Size: {file_size_bytes} bytes ({file_size_kb:.2f} KB, {file_size_mb:.2f} MB, {file_size_gb:.2f} GB)\")"
   ]
  },
  {
   "cell_type": "code",
   "execution_count": null,
   "id": "5015bcd1-4d79-4ffc-aebc-1ac378c29a1b",
   "metadata": {},
   "outputs": [],
   "source": [
    "%%time\n",
    "%autoreload 2\n",
    "df_enelogic_meas = Preprocessor.convert_enelogic_excel_to_measurements(file_path, tz='Europe/Amsterdam')\n",
    "\n"
   ]
  },
  {
   "cell_type": "code",
   "execution_count": null,
   "id": "4d332e66-67ed-49ff-811b-55195bbcea62",
   "metadata": {},
   "outputs": [],
   "source": [
    "df_enelogic_meas.info()\n"
   ]
  },
  {
   "cell_type": "code",
   "execution_count": null,
   "id": "68115290-b829-43a9-9fed-c7763672ef0f",
   "metadata": {},
   "outputs": [],
   "source": [
    "df_enelogic_meas.memory_usage()"
   ]
  },
  {
   "cell_type": "code",
   "execution_count": null,
   "id": "3a299cc8-8026-4ec9-9d27-61457e5ea7f8",
   "metadata": {},
   "outputs": [],
   "source": [
    "df_enelogic_meas"
   ]
  },
  {
   "cell_type": "markdown",
   "id": "fe1653cc-f19c-48d1-963a-18b6934cd406",
   "metadata": {},
   "source": [
    "### Write raw properties to a parquet file"
   ]
  },
  {
   "cell_type": "code",
   "execution_count": null,
   "id": "17bb9c28-5f49-4b09-b561-9028e6a9d47d",
   "metadata": {},
   "outputs": [],
   "source": [
    "%%time \n",
    "df_enelogic_meas.to_parquet(file_output_path, index=True, engine='pyarrow')"
   ]
  },
  {
   "cell_type": "code",
   "execution_count": null,
   "id": "f1f09fed-bb96-490f-b2ef-a9b952858e26",
   "metadata": {},
   "outputs": [],
   "source": []
  }
 ],
 "metadata": {
  "kernelspec": {
   "display_name": "Python 3 (ipykernel)",
   "language": "python",
   "name": "python3"
  },
  "language_info": {
   "codemirror_mode": {
    "name": "ipython",
    "version": 3
   },
   "file_extension": ".py",
   "mimetype": "text/x-python",
   "name": "python",
   "nbconvert_exporter": "python",
   "pygments_lexer": "ipython3",
   "version": "3.11.6"
  }
 },
 "nbformat": 4,
 "nbformat_minor": 5
}
