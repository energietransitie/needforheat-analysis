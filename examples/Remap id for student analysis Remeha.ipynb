{
 "cells": [
  {
   "cell_type": "markdown",
   "id": "cf0da7b7-9d49-4c49-bd95-90a3f92d3fe7",
   "metadata": {},
   "source": [
    "# Remap id for student analysis: remeha data"
   ]
  },
  {
   "cell_type": "code",
   "execution_count": null,
   "id": "c522d3fc-22bd-4871-9d60-027af6a04d81",
   "metadata": {},
   "outputs": [],
   "source": [
    "import pandas as pd\n",
    "file_path='remeha_export.parquet'\n",
    "file_output_path='remeha_export_student.parquet'\n"
   ]
  },
  {
   "cell_type": "code",
   "execution_count": null,
   "id": "cabe97d5-a58e-4cee-a40d-b3a6b74c9086",
   "metadata": {},
   "outputs": [],
   "source": [
    "%%time\n",
    "# Attempt to read the Parquet file\n",
    "try:\n",
    "    df = pd.read_parquet(\n",
    "        file_path, \n",
    "        engine='pyarrow',\n",
    "        use_nullable_dtypes=True\n",
    "        )\n",
    "    print(\"File was successfully read without specifying compression codec.\")\n",
    "except Exception as e:\n",
    "    print(f\"Error reading file: {e}\")\n"
   ]
  },
  {
   "cell_type": "code",
   "execution_count": null,
   "id": "ed101680-0f94-4b5c-9ba2-38707e7c82bb",
   "metadata": {},
   "outputs": [],
   "source": [
    "df"
   ]
  },
  {
   "cell_type": "code",
   "execution_count": null,
   "id": "c92b9b1e-a155-45ea-a1fc-338614c86fb1",
   "metadata": {},
   "outputs": [],
   "source": [
    "# Read the mapping DataFrame from the Excel file\n",
    "mapping_df = pd.read_excel('pseudonym_id_student_mapping.xlsx')"
   ]
  },
  {
   "cell_type": "code",
   "execution_count": null,
   "id": "415bc4ae-f79b-4b3d-abe9-213c0dbd682b",
   "metadata": {},
   "outputs": [],
   "source": [
    "df.index.get_level_values('id').unique()"
   ]
  },
  {
   "cell_type": "code",
   "execution_count": null,
   "id": "7ade3531-b823-4995-909a-7f8a82c1449f",
   "metadata": {},
   "outputs": [],
   "source": [
    "# Convert the mapping DataFrame to a dictionary with 'id' as key and 'random_id' as value\n",
    "id_mapping_dict = dict(zip(mapping_df['id'], mapping_df['random_id']))\n",
    "\n",
    "# Replace 'id' values in the DataFrame using the dictionary\n",
    "df.index = df.index.set_levels(df.index.levels[0].map(id_mapping_dict).astype(df.index.levels[0].dtype), level=0)\n"
   ]
  },
  {
   "cell_type": "code",
   "execution_count": null,
   "id": "031103b0-3358-45d9-b8ab-60c89adab34d",
   "metadata": {},
   "outputs": [],
   "source": [
    "df.index.get_level_values('id').unique()"
   ]
  },
  {
   "cell_type": "code",
   "execution_count": null,
   "id": "171eac1b-2637-4e52-b99c-62d0b61a2972",
   "metadata": {},
   "outputs": [],
   "source": [
    "df"
   ]
  },
  {
   "cell_type": "code",
   "execution_count": null,
   "id": "0d658806-5f8e-49c3-9a22-cbb3252acf40",
   "metadata": {},
   "outputs": [],
   "source": [
    "df.info()"
   ]
  },
  {
   "cell_type": "code",
   "execution_count": null,
   "id": "58087f4b-12c7-452b-afe4-c8143f76730b",
   "metadata": {},
   "outputs": [],
   "source": [
    "# Get the names of the levels in the MultiIndex\n",
    "level_names = df.index.names\n",
    "\n",
    "# Get the datatypes of the levels in the MultiIndex\n",
    "level_dtypes = [df.index.get_level_values(level).dtype for level in range(df.index.nlevels)]\n",
    "\n",
    "# Display the names and datatypes of the levels in the MultiIndex\n",
    "for i, name in enumerate(level_names):\n",
    "    print(f\"Level {i}: Name = {name}, Dtype = {level_dtypes[i]}\")"
   ]
  },
  {
   "cell_type": "code",
   "execution_count": null,
   "id": "285da98c-7cc5-474a-a065-c8789d8c40e4",
   "metadata": {},
   "outputs": [],
   "source": [
    "counts =  df.groupby(['source_category', 'source_type', 'property']).size()\n",
    "# Filter out rows with count 0\n",
    "counts_filtered = counts[counts != 0]\n",
    "\n",
    "# Print filtered counts\n",
    "print(counts_filtered)"
   ]
  },
  {
   "cell_type": "markdown",
   "id": "f32d1460-b04c-41ff-9cb1-878e330ceccf",
   "metadata": {},
   "source": [
    "# Filter data for only a few properties"
   ]
  },
  {
   "cell_type": "code",
   "execution_count": null,
   "id": "be85414a-fbca-4639-b654-8b3eb6fa9ac7",
   "metadata": {},
   "outputs": [],
   "source": [
    "df.index.get_level_values('property').unique().to_list()"
   ]
  },
  {
   "cell_type": "code",
   "execution_count": null,
   "id": "a8c2e662-b273-46ae-9f99-5797c95a5d6c",
   "metadata": {},
   "outputs": [],
   "source": [
    "df = df[(df.index.get_level_values('property') == 'g_use_ch_inf_cum__kWh') | (df.index.get_level_values('property') == 'g_use_dhw_inf_cum__kWh')| (df.index.get_level_values('property') == 'temp_in__degC')]"
   ]
  },
  {
   "cell_type": "code",
   "execution_count": null,
   "id": "2082bc0b-6b9c-4f85-91f6-96d0fb37a3ac",
   "metadata": {},
   "outputs": [],
   "source": [
    "df.index.get_level_values('property').unique().to_list()"
   ]
  },
  {
   "cell_type": "code",
   "execution_count": null,
   "id": "5c0d805f-1833-4ff5-96b8-72d1a1b3dec8",
   "metadata": {},
   "outputs": [],
   "source": [
    "df"
   ]
  },
  {
   "cell_type": "code",
   "execution_count": null,
   "id": "1c98c86b-66fc-4fae-bbb0-723e06285388",
   "metadata": {},
   "outputs": [],
   "source": [
    "df.sample(25)"
   ]
  },
  {
   "cell_type": "code",
   "execution_count": null,
   "id": "69675663-f4ce-475c-b69e-78cb9253a46b",
   "metadata": {},
   "outputs": [],
   "source": [
    "df.info()"
   ]
  },
  {
   "cell_type": "code",
   "execution_count": null,
   "id": "1e93b006-7c51-4037-adde-cef3d9c82f3b",
   "metadata": {},
   "outputs": [],
   "source": [
    "%%time \n",
    "df.to_parquet(file_output_path, index=True, engine='pyarrow')"
   ]
  }
 ],
 "metadata": {
  "kernelspec": {
   "display_name": "Python 3 (ipykernel)",
   "language": "python",
   "name": "python3"
  },
  "language_info": {
   "codemirror_mode": {
    "name": "ipython",
    "version": 3
   },
   "file_extension": ".py",
   "mimetype": "text/x-python",
   "name": "python",
   "nbconvert_exporter": "python",
   "pygments_lexer": "ipython3",
   "version": "3.11.6"
  }
 },
 "nbformat": 4,
 "nbformat_minor": 5
}
