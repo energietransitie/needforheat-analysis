{
 "cells": [
  {
   "cell_type": "code",
   "execution_count": null,
   "id": "df0da1dd-2430-4420-b1c8-d6499482b5ad",
   "metadata": {},
   "outputs": [],
   "source": [
    "import pandas as pd\n",
    "import sys\n",
    "# sys.path.append('../data/')\n",
    "# sys.path.append('../view/')\n",
    "sys.path.append('../analysis/')\n",
    "from nfh_utils import *\n",
    "\n",
    "import matplotlib.pyplot as plt\n",
    "%matplotlib inline\n",
    "%matplotlib widget"
   ]
  },
  {
   "cell_type": "code",
   "execution_count": null,
   "id": "6a1ef7a6-c22d-4334-ae72-93f88857c840",
   "metadata": {},
   "outputs": [],
   "source": [
    "datafiles=[\n",
    "    \"calorische_uurwaarden_202311.csv\", \n",
    "    \"calorische_uurwaarden_202312.csv\",\n",
    "    \"calorische_uurwaarden_202401.csv\",\n",
    "    \"calorische_uurwaarden_202402.csv\",\n",
    "    \"calorische_uurwaarden_202403.csv\",\n",
    "    \"calorische_uurwaarden_202404.csv\"\n",
    "]\n"
   ]
  },
  {
   "cell_type": "code",
   "execution_count": null,
   "id": "da5f5ecb-a677-4703-9474-c6b9cf8cdc15",
   "metadata": {},
   "outputs": [],
   "source": [
    "# Function to read and process each file\n",
    "def read_and_process_csv(file_path):\n",
    "    # Read the CSV file\n",
    "    df = pd.read_csv(file_path)\n",
    "    \n",
    "    return df"
   ]
  },
  {
   "cell_type": "code",
   "execution_count": null,
   "id": "9f17a82e-228f-4dd0-aebd-88aa895e761b",
   "metadata": {},
   "outputs": [],
   "source": [
    "%%time\n",
    "# Read each CSV file into a DataFrame and store them in a list\n",
    "dataframes = [read_and_process_csv(file) for file in datafiles]\n",
    "\n",
    "# Concatenate all DataFrames into a single DataFrame\n",
    "df = pd.concat(dataframes, ignore_index=True)\n",
    "\n",
    "# Parse the `date_time` column as UTC\n",
    "df['date_time'] = pd.to_datetime(df['date_time'], format='%Y-%m-%dT%H:%M:%S%z', utc=True)\n",
    "\n",
    "# Convert the datetime from UTC to Europe/Amsterdam timezone\n",
    "df['date_time'] = df['date_time'].dt.tz_convert('Europe/Amsterdam')\n",
    "\n",
    "# Rename the `value` column\n",
    "df.rename(columns={'value': 'gas__hhv__MJ_m_3'}, inplace=True)\n",
    "\n",
    "# Rename the `date_time` column\n",
    "df.rename(columns={'date_time': 'timestamp'}, inplace=True)    \n"
   ]
  },
  {
   "cell_type": "code",
   "execution_count": null,
   "id": "3917c5b0-f17a-4ee3-9abf-63ea7352dab6",
   "metadata": {},
   "outputs": [],
   "source": [
    "df"
   ]
  },
  {
   "cell_type": "code",
   "execution_count": null,
   "id": "7fe3055d-002b-4b7c-bca6-a5854aa6ad23",
   "metadata": {},
   "outputs": [],
   "source": [
    "# Calculate variability across grid_area\n",
    "grid_area_variability = df.groupby('grid_area')['gas__hhv__MJ_m_3'].std()\n",
    "\n",
    "# Calculate variability over time (across all grid_areas)\n",
    "time_variability = df.groupby('timestamp')['gas__hhv__MJ_m_3'].std()"
   ]
  },
  {
   "cell_type": "code",
   "execution_count": null,
   "id": "04ea84d1-da7e-4984-87f0-f1c6419c9680",
   "metadata": {},
   "outputs": [],
   "source": [
    "grid_area_variability.mean()"
   ]
  },
  {
   "cell_type": "code",
   "execution_count": null,
   "id": "0082240d-9dd6-4a16-89f9-49c9860c3987",
   "metadata": {},
   "outputs": [],
   "source": [
    "time_variability.mean()"
   ]
  },
  {
   "cell_type": "code",
   "execution_count": null,
   "id": "0675840e-89e5-488a-aacc-08e5ea5b0084",
   "metadata": {},
   "outputs": [],
   "source": [
    "df_nl = df.groupby('timestamp')['gas__hhv__MJ_m_3'].mean().reset_index().set_index('timestamp')"
   ]
  },
  {
   "cell_type": "code",
   "execution_count": null,
   "id": "92f4d6ab-1b34-46f7-ae86-1ebcb5784a9b",
   "metadata": {},
   "outputs": [],
   "source": [
    "df_nl"
   ]
  },
  {
   "cell_type": "code",
   "execution_count": null,
   "id": "72551f0c-1523-4cc8-8e63-61685a430780",
   "metadata": {},
   "outputs": [],
   "source": [
    "plt.figure(figsize=(10, 6))\n",
    "plt.scatter(df_nl.index, df_nl['gas__hhv__MJ_m_3'], label='Gas HHV', marker='.')\n",
    "plt.xlabel('Timestamp')\n",
    "plt.ylabel('Gas HHV (MJ/m^3)')\n",
    "plt.title('Average calorific value of gas delivered')\n",
    "plt.legend()\n",
    "plt.grid(True)\n",
    "plt.show()"
   ]
  },
  {
   "cell_type": "code",
   "execution_count": null,
   "id": "b7d69838-2dc3-4334-b4a5-3932055ed2ff",
   "metadata": {},
   "outputs": [],
   "source": [
    "df_nl['gas__hhv__MJ_m_3'].describe()"
   ]
  },
  {
   "cell_type": "code",
   "execution_count": null,
   "id": "3dd7b630-1c22-4bb2-aefd-171f44aa8223",
   "metadata": {},
   "outputs": [],
   "source": [
    "df_nl['gas__hhv__MJ_m_3'].max()/df_nl['gas__hhv__MJ_m_3'].mean()"
   ]
  },
  {
   "cell_type": "code",
   "execution_count": null,
   "id": "324b1a82-0753-4c5c-96f1-c02efb110d2e",
   "metadata": {},
   "outputs": [],
   "source": [
    "df_nl['gas__hhv__MJ_m_3'].mean()/df_nl['gas__hhv__MJ_m_3'].min()"
   ]
  },
  {
   "cell_type": "code",
   "execution_count": null,
   "id": "e3a37671-277a-4542-a111-4bf73dcdf63b",
   "metadata": {},
   "outputs": [],
   "source": [
    "df_nl['gas__hhv__MJ_m_3'].max()/df_nl['gas__hhv__MJ_m_3'].min()"
   ]
  },
  {
   "cell_type": "code",
   "execution_count": null,
   "id": "4280a121-4b50-46f6-b50a-028d77d168e3",
   "metadata": {},
   "outputs": [],
   "source": [
    "print(f\"{gas_groningen_nl_avg_hhv__J_m_3 / 1e6 :.2f}e6\")"
   ]
  },
  {
   "cell_type": "code",
   "execution_count": null,
   "id": "59dfd220-8207-484d-b1ad-a0241a220e30",
   "metadata": {},
   "outputs": [],
   "source": [
    "df_nl['gas__hhv__MJ_m_3'].mean()*1e6/gas_groningen_nl_avg_hhv__J_m_3"
   ]
  },
  {
   "cell_type": "code",
   "execution_count": null,
   "id": "41d0d6d0-577b-43c1-b4e9-4a5673c6ff35",
   "metadata": {},
   "outputs": [],
   "source": [
    "print(f\"{temp_gas_ref__K / temp_gas_std__K : .2f}\")"
   ]
  },
  {
   "cell_type": "code",
   "execution_count": null,
   "id": "ec877a60-0727-458e-9080-d825f6d90f24",
   "metadata": {},
   "outputs": [],
   "source": [
    "print(f\"{gas_g25_3_hhv__J__m3 * temp_gas_ref__K / temp_gas_std__K / 1e6 :.2f}e6\")"
   ]
  },
  {
   "cell_type": "code",
   "execution_count": null,
   "id": "813f305b-e69b-4aae-844c-8d67563cbb49",
   "metadata": {},
   "outputs": [],
   "source": [
    "print(f\"{gas_g20_hhv__J_m_3 * temp_gas_ref__K / temp_gas_std__K / 1e6 :.2f}e6\")"
   ]
  }
 ],
 "metadata": {
  "kernelspec": {
   "display_name": "Python 3 (ipykernel)",
   "language": "python",
   "name": "python3"
  },
  "language_info": {
   "codemirror_mode": {
    "name": "ipython",
    "version": 3
   },
   "file_extension": ".py",
   "mimetype": "text/x-python",
   "name": "python",
   "nbconvert_exporter": "python",
   "pygments_lexer": "ipython3",
   "version": "3.11.6"
  }
 },
 "nbformat": 4,
 "nbformat_minor": 5
}
