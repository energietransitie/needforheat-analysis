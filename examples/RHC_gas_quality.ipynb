{
 "cells": [
  {
   "cell_type": "markdown",
   "id": "5ba4db49-7c1c-4374-92f3-5566900b646e",
   "metadata": {},
   "source": [
    "# Get actual higher value of gas delivered to customers in NL and write to Parquet file"
   ]
  },
  {
   "cell_type": "code",
   "execution_count": null,
   "id": "df0da1dd-2430-4420-b1c8-d6499482b5ad",
   "metadata": {},
   "outputs": [],
   "source": [
    "import pandas as pd\n",
    "import sys\n",
    "# sys.path.append('../data/')\n",
    "# sys.path.append('../view/')\n",
    "sys.path.append('../analysis/')\n",
    "from nfh_utils import *\n",
    "\n",
    "import matplotlib.pyplot as plt\n",
    "%matplotlib inline\n",
    "%matplotlib widget\n",
    "\n",
    "rhc_gas_quality_file = 'rhc_gas_quality.parquet'"
   ]
  },
  {
   "cell_type": "markdown",
   "id": "c2f5f14b-d1f8-4e32-aa43-0ee519cd1af0",
   "metadata": {},
   "source": [
    "## Get CSV files"
   ]
  },
  {
   "cell_type": "code",
   "execution_count": null,
   "id": "6a1ef7a6-c22d-4334-ae72-93f88857c840",
   "metadata": {},
   "outputs": [],
   "source": [
    "# As long as automatic download is not workind, download manually from: https://www.mijnenergiedata.nl/calorische-gaswaarden/\n",
    "\n",
    "datafiles=[\n",
    "    \"calorische_uurwaarden_202311.csv\", \n",
    "    \"calorische_uurwaarden_202312.csv\",\n",
    "    \"calorische_uurwaarden_202401.csv\",\n",
    "    \"calorische_uurwaarden_202402.csv\",\n",
    "    \"calorische_uurwaarden_202403.csv\",\n",
    "    \"calorische_uurwaarden_202404.csv\"\n",
    "]\n"
   ]
  },
  {
   "cell_type": "markdown",
   "id": "7b1600eb-e3fd-4834-b247-7b90c13dca97",
   "metadata": {},
   "source": [
    "## Merge and process CSV files"
   ]
  },
  {
   "cell_type": "code",
   "execution_count": null,
   "id": "da5f5ecb-a677-4703-9474-c6b9cf8cdc15",
   "metadata": {},
   "outputs": [],
   "source": [
    "# Function to read and process each file\n",
    "def read_and_process_csv(file_path):\n",
    "    # Read the CSV file\n",
    "    df = pd.read_csv(file_path)\n",
    "    \n",
    "    return df"
   ]
  },
  {
   "cell_type": "code",
   "execution_count": null,
   "id": "9f17a82e-228f-4dd0-aebd-88aa895e761b",
   "metadata": {},
   "outputs": [],
   "source": [
    "%%time\n",
    "# Read each CSV file into a DataFrame and store them in a list\n",
    "dataframes = [read_and_process_csv(file) for file in datafiles]\n",
    "\n",
    "# Concatenate all DataFrames into a single DataFrame\n",
    "df = pd.concat(dataframes, ignore_index=True)\n",
    "\n",
    "# Parse the `date_time` column as UTC\n",
    "df['date_time'] = pd.to_datetime(df['date_time'], format='%Y-%m-%dT%H:%M:%S%z', utc=True)\n",
    "\n",
    "# Convert the datetime from UTC to Europe/Amsterdam timezone\n",
    "df['date_time'] = df['date_time'].dt.tz_convert('Europe/Amsterdam')\n",
    "\n",
    "# multiply to align convert MJ to J\n",
    "df['value'] = df['value'] * 1e6\n",
    "\n",
    "# Rename the `value` column\n",
    "df.rename(columns={'value': 'actual_gas_std_hhv__J_m_3'}, inplace=True)\n",
    "\n",
    "# Rename the `date_time` column\n",
    "df.rename(columns={'date_time': 'timestamp'}, inplace=True)    \n"
   ]
  },
  {
   "cell_type": "code",
   "execution_count": null,
   "id": "3917c5b0-f17a-4ee3-9abf-63ea7352dab6",
   "metadata": {},
   "outputs": [],
   "source": [
    "df"
   ]
  },
  {
   "cell_type": "code",
   "execution_count": null,
   "id": "7fe3055d-002b-4b7c-bca6-a5854aa6ad23",
   "metadata": {},
   "outputs": [],
   "source": [
    "# Calculate variability across grid_area\n",
    "grid_area_variability = df.groupby('grid_area')['actual_gas_std_hhv__J_m_3'].std()\n",
    "\n",
    "# Calculate variability over time (across all grid_areas)\n",
    "time_variability = df.groupby('timestamp')['actual_gas_std_hhv__J_m_3'].std()"
   ]
  },
  {
   "cell_type": "code",
   "execution_count": null,
   "id": "04ea84d1-da7e-4984-87f0-f1c6419c9680",
   "metadata": {},
   "outputs": [],
   "source": [
    "grid_area_variability.mean()"
   ]
  },
  {
   "cell_type": "code",
   "execution_count": null,
   "id": "0082240d-9dd6-4a16-89f9-49c9860c3987",
   "metadata": {},
   "outputs": [],
   "source": [
    "time_variability.mean()"
   ]
  },
  {
   "cell_type": "code",
   "execution_count": null,
   "id": "0675840e-89e5-488a-aacc-08e5ea5b0084",
   "metadata": {},
   "outputs": [],
   "source": [
    "df_nl = df.groupby('timestamp')['actual_gas_std_hhv__J_m_3'].mean().reset_index().set_index('timestamp')"
   ]
  },
  {
   "cell_type": "code",
   "execution_count": null,
   "id": "92f4d6ab-1b34-46f7-ae86-1ebcb5784a9b",
   "metadata": {},
   "outputs": [],
   "source": [
    "df_nl"
   ]
  },
  {
   "cell_type": "code",
   "execution_count": null,
   "id": "f2649594-0d52-4f49-b501-00dcc007f34b",
   "metadata": {},
   "outputs": [],
   "source": [
    "df_nl.describe()"
   ]
  },
  {
   "cell_type": "markdown",
   "id": "e706cc9b-281b-4de9-ac35-3dfc432d7b1d",
   "metadata": {},
   "source": [
    "## Write to Parquet file\n"
   ]
  },
  {
   "cell_type": "code",
   "execution_count": null,
   "id": "8626e5e3-3ae8-41ab-bd91-a9241ab91f5b",
   "metadata": {},
   "outputs": [],
   "source": [
    "%%time \n",
    "df_nl.to_parquet(rhc_gas_quality_file, index=True, engine='pyarrow')"
   ]
  },
  {
   "cell_type": "markdown",
   "id": "2eabefe3-bf97-442e-b721-58082fa1e8a6",
   "metadata": {},
   "source": [
    "## Inspect contents\n"
   ]
  },
  {
   "cell_type": "code",
   "execution_count": null,
   "id": "72551f0c-1523-4cc8-8e63-61685a430780",
   "metadata": {},
   "outputs": [],
   "source": [
    "plt.figure(figsize=(10, 6))\n",
    "plt.scatter(df_nl.index, df_nl['actual_gas_std_hhv__J_m_3'], label='Gas HHV', marker='.')\n",
    "plt.xlabel('Timestamp')\n",
    "plt.ylabel('Gas HHV (J/m^3)')\n",
    "plt.title('Average calorific value of gas delivered')\n",
    "plt.legend()\n",
    "plt.grid(True)\n",
    "plt.show()"
   ]
  },
  {
   "cell_type": "code",
   "execution_count": null,
   "id": "5a65ff51-d920-453d-971b-082ce4c3d2e4",
   "metadata": {},
   "outputs": [],
   "source": [
    "plt.figure(figsize=(10, 6))\n",
    "plt.scatter(df_nl.index, df_nl['actual_gas_std_hhv__J_m_3'], label='Gas HHV', marker='.')\n",
    "plt.xlabel('Timestamp')\n",
    "plt.ylabel('Gas HHV (J/m^3)')\n",
    "plt.title('Average calorific value of gas delivered')\n",
    "plt.legend()\n",
    "plt.grid(True)\n",
    "plt.show()"
   ]
  },
  {
   "cell_type": "code",
   "execution_count": null,
   "id": "b7d69838-2dc3-4334-b4a5-3932055ed2ff",
   "metadata": {},
   "outputs": [],
   "source": [
    "df_nl['actual_gas_std_hhv__J_m_3'].describe()"
   ]
  },
  {
   "cell_type": "code",
   "execution_count": null,
   "id": "3dd7b630-1c22-4bb2-aefd-171f44aa8223",
   "metadata": {},
   "outputs": [],
   "source": [
    "df_nl['actual_gas_std_hhv__J_m_3'].max()/df_nl['actual_gas_std_hhv__J_m_3'].mean()"
   ]
  },
  {
   "cell_type": "code",
   "execution_count": null,
   "id": "324b1a82-0753-4c5c-96f1-c02efb110d2e",
   "metadata": {},
   "outputs": [],
   "source": [
    "df_nl['actual_gas_std_hhv__J_m_3'].mean()/df_nl['actual_gas_std_hhv__J_m_3'].min()"
   ]
  },
  {
   "cell_type": "code",
   "execution_count": null,
   "id": "e3a37671-277a-4542-a111-4bf73dcdf63b",
   "metadata": {},
   "outputs": [],
   "source": [
    "df_nl['actual_gas_std_hhv__J_m_3'].max()/df_nl['actual_gas_std_hhv__J_m_3'].min()"
   ]
  },
  {
   "cell_type": "code",
   "execution_count": null,
   "id": "48691f95-6961-457a-a27a-59ac62c9d3b6",
   "metadata": {},
   "outputs": [],
   "source": [
    "print(f\"{gas_groningen_nl_avg_std_hhv__J_m_3 / 1e6 :.2f}e6\")\n"
   ]
  },
  {
   "cell_type": "code",
   "execution_count": null,
   "id": "59dfd220-8207-484d-b1ad-a0241a220e30",
   "metadata": {},
   "outputs": [],
   "source": [
    "df_nl['actual_gas_std_hhv__J_m_3'].mean()/gas_groningen_nl_avg_std_hhv__J_m_3"
   ]
  },
  {
   "cell_type": "code",
   "execution_count": null,
   "id": "41d0d6d0-577b-43c1-b4e9-4a5673c6ff35",
   "metadata": {},
   "outputs": [],
   "source": [
    "print(f\"{temp_gas_ref__K / temp_gas_std__K : .2f}\")"
   ]
  },
  {
   "cell_type": "code",
   "execution_count": null,
   "id": "ec877a60-0727-458e-9080-d825f6d90f24",
   "metadata": {},
   "outputs": [],
   "source": [
    "print(f\"{gas_g25_3_ref_hhv__J_m_3 * temp_gas_ref__K / temp_gas_std__K / 1e6 :.2f}e6\")"
   ]
  },
  {
   "cell_type": "code",
   "execution_count": null,
   "id": "813f305b-e69b-4aae-844c-8d67563cbb49",
   "metadata": {},
   "outputs": [],
   "source": [
    "print(f\"{gas_g25_3_ref_hhv__J_m_3 * temp_gas_ref__K / temp_gas_std__K / 1e6 :.2f}e6\")"
   ]
  },
  {
   "cell_type": "code",
   "execution_count": null,
   "id": "988d4507-4f36-4696-b91c-6ba8d4b12ca9",
   "metadata": {},
   "outputs": [],
   "source": [
    "print(f\"{(df_nl['actual_gas_std_hhv__J_m_3'].mean() / temp_gas_std__K * temp_gas_ref__K) / 1e6:.2f}e6\")\n"
   ]
  },
  {
   "cell_type": "code",
   "execution_count": null,
   "id": "47e5cd5d-7faa-4af8-a75d-8d4940141874",
   "metadata": {},
   "outputs": [],
   "source": [
    "temp_gas_std__K / temp_gas_ref__K\n"
   ]
  },
  {
   "cell_type": "code",
   "execution_count": null,
   "id": "8b1abc1f-e508-44bf-9192-e25324d447f0",
   "metadata": {},
   "outputs": [],
   "source": [
    "print(f\"{(df_nl['actual_gas_std_hhv__J_m_3'].mean()  / temp_gas_ref__K * temp_gas_std__K / gas_g25_3_ref_hhv__J_m_3) :.4f}\")\n"
   ]
  }
 ],
 "metadata": {
  "kernelspec": {
   "display_name": "Python 3 (ipykernel)",
   "language": "python",
   "name": "python3"
  },
  "language_info": {
   "codemirror_mode": {
    "name": "ipython",
    "version": 3
   },
   "file_extension": ".py",
   "mimetype": "text/x-python",
   "name": "python",
   "nbconvert_exporter": "python",
   "pygments_lexer": "ipython3",
   "version": "3.11.6"
  }
 },
 "nbformat": 4,
 "nbformat_minor": 5
}
