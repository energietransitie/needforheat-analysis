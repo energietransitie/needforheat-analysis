{
 "cells": [
  {
   "cell_type": "markdown",
   "id": "b8e351d3-620f-45ea-82f0-18b8a8ebf2c5",
   "metadata": {},
   "source": [
    "## Write to zipped CSV files\n",
    "> This may take a bit longer than writing parquet files"
   ]
  },
  {
   "cell_type": "markdown",
   "id": "baa708ab-f1ac-418f-9d2e-208e1b1c53d3",
   "metadata": {
    "tags": []
   },
   "source": [
    "### Write raw measurements per room to zipped CSV files"
   ]
  },
  {
   "cell_type": "code",
   "execution_count": null,
   "id": "7f39514e-70f6-48ae-a68e-4675fd939f6c",
   "metadata": {},
   "outputs": [],
   "source": [
    "import sys\n",
    "sys.path.append('../data/')\n",
    "import pandas as pd\n",
    "from measurements import Measurements\n",
    "from tqdm.notebook import tqdm"
   ]
  },
  {
   "cell_type": "code",
   "execution_count": null,
   "id": "584b888c-9f10-494d-84b6-dfa232afe849",
   "metadata": {},
   "outputs": [],
   "source": [
    "rooms = [999169, 900846, 948634, 917810, 925038, 924038]"
   ]
  },
  {
   "cell_type": "code",
   "execution_count": null,
   "id": "0d85f5b5-f438-49fe-81e4-1988cad39aa4",
   "metadata": {},
   "outputs": [],
   "source": [
    "%%time \n",
    "for room_id in tqdm(rooms):\n",
    "    df_meas_room =  pd.read_parquet(\n",
    "        f'{room_id}_raw_measurements.parquet', \n",
    "        engine='pyarrow',\n",
    "        use_nullable_dtypes=True\n",
    "    )\n",
    "    df_meas_room.to_csv(\n",
    "        f'{room_id}_raw_measurements.zip',\n",
    "        encoding='utf-8',\n",
    "        compression= dict(method='zip',\n",
    "                          archive_name=f'{room_id}_raw_measurements.csv'),\n",
    "        date_format='%Y-%m-%dT%H:%M:%S%z'\n",
    "    )"
   ]
  },
  {
   "cell_type": "markdown",
   "id": "35275ef1-ac60-4242-a14a-75647c7c9b05",
   "metadata": {
    "tags": []
   },
   "source": [
    "### Write raw properties per room to zipped CSV files"
   ]
  },
  {
   "cell_type": "code",
   "execution_count": null,
   "id": "05e9b31f-fba3-4ce6-a0f2-f3ebe296e9c3",
   "metadata": {
    "tags": []
   },
   "outputs": [],
   "source": [
    "%%time \n",
    "for room_id in tqdm(rooms):\n",
    "    df_prop_room =  pd.read_parquet(\n",
    "        f'{room_id}_raw_properties.parquet',\n",
    "        engine='pyarrow'\n",
    "    )\n",
    "    obj_cols = df_prop_room.select_dtypes(include=['object']).columns\n",
    "    df_prop_room[obj_cols] = df_prop_room[obj_cols].replace('nan', None)\n",
    "    df_prop_room.to_csv(\n",
    "        f'{room_id}_raw_properties.zip',\n",
    "        encoding='utf-8',\n",
    "        compression= dict(method='zip',\n",
    "                          archive_name=f'{room_id}_raw_properties.csv'),\n",
    "        date_format='%Y-%m-%dT%H:%M:%S%z'\n",
    "    )"
   ]
  }
 ],
 "metadata": {
  "kernelspec": {
   "display_name": "Python 3 (ipykernel)",
   "language": "python",
   "name": "python3"
  },
  "language_info": {
   "codemirror_mode": {
    "name": "ipython",
    "version": 3
   },
   "file_extension": ".py",
   "mimetype": "text/x-python",
   "name": "python",
   "nbconvert_exporter": "python",
   "pygments_lexer": "ipython3",
   "version": "3.10.6"
  }
 },
 "nbformat": 4,
 "nbformat_minor": 5
}
