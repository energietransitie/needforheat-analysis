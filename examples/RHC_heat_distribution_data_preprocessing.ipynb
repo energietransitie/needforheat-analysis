{
 "cells": [
  {
   "cell_type": "markdown",
   "id": "1b9f977b-d0e8-4234-be01-e5042ace89d7",
   "metadata": {},
   "source": [
    "# Processing REDUCEDHEATARB data for heat distribution system model check"
   ]
  },
  {
   "cell_type": "code",
   "execution_count": null,
   "id": "05ed325e-13db-4323-9712-70fd5f4babc1",
   "metadata": {},
   "outputs": [],
   "source": [
    "import pandas as pd\n",
    "import numpy as np\n",
    "from tqdm.notebook import tqdm\n",
    "# Files needed as input\n",
    "# rhc_preprocessed_poperties_file='rhc_preprocessed_properties_intv_5_min.parquet'\n",
    "rhc_preprocessed_poperties_file='rhc_preprocessed_properties_intv_1_min.parquet'\n",
    "home_data_file_path = \"home_data.parquet\"\n",
    "boiler_returntemp_load_efficiency_file_path = \"boiler_returntemp_load_efficiency.parquet\"\n",
    "boiler_returntemp_efficiency_file_path = \"boiler_returntemp_efficiency.parquet\"\n",
    "\n",
    "# Files written as output\n",
    "rhc_heat_dist_preprocessed_poperties_file='rhc_heat_dist_preprocessed_properties.parquet'\n",
    "\n",
    "%load_ext autoreload\n",
    "\n",
    "import matplotlib.pyplot as plt\n",
    "\n",
    "%matplotlib inline\n",
    "%matplotlib widget\n",
    "\n",
    "import sys\n",
    "sys.path.append('../analysis')\n",
    "from nfh_utils import *"
   ]
  },
  {
   "cell_type": "markdown",
   "id": "ec5c913b-1d49-4282-8ec0-bceec2ba8e7c",
   "metadata": {},
   "source": [
    "## Reading preprocessed interpolated properties from a parquet file"
   ]
  },
  {
   "cell_type": "code",
   "execution_count": null,
   "id": "1418d73a-9260-4c2d-a624-96b6f304a04f",
   "metadata": {},
   "outputs": [],
   "source": [
    "%%time\n",
    "\n",
    "\n",
    "# Attempt to read the Parquet file\n",
    "try:\n",
    "    df_prep = pd.read_parquet(\n",
    "        rhc_preprocessed_poperties_file, \n",
    "        engine='pyarrow',\n",
    "        dtype_backend='numpy_nullable'\n",
    "        )\n",
    "    print(\"File was successfully read without specifying compression codec.\")\n",
    "except Exception as e:\n",
    "    print(f\"Error reading file: {e}\")\n",
    "\n",
    "#sorting the DataFrame index is needed to get good performance on certain filters\n",
    "#this guarding code to check whether DataFrames are properly sorted\n",
    "if not df_prep.index.is_monotonic_increasing:\n",
    "    print('df needed index sorting')\n",
    "    df_prep = df_prep.sort_index()  "
   ]
  },
  {
   "cell_type": "code",
   "execution_count": null,
   "id": "4ce49933-c611-46fa-a4a3-dd8da1d1a28f",
   "metadata": {},
   "outputs": [],
   "source": [
    "print(f\"df_prep.count().sum(): {df_prep.count().sum():_}\")"
   ]
  },
  {
   "cell_type": "code",
   "execution_count": null,
   "id": "134099ed-abe2-46c8-b19b-f3e1355a1641",
   "metadata": {},
   "outputs": [],
   "source": [
    "df_prep.info()"
   ]
  },
  {
   "cell_type": "code",
   "execution_count": null,
   "id": "a414a145-7a17-45bb-b600-4486116e354b",
   "metadata": {
    "scrolled": true
   },
   "outputs": [],
   "source": [
    "print(\"[\\n'\",\"', \\n'\".join(sorted(df_prep.columns)),\"'\\n]\")"
   ]
  },
  {
   "cell_type": "markdown",
   "id": "592511f3-8287-4001-94b7-3bf5f3a962fd",
   "metadata": {},
   "source": [
    "## Filtering values immediately relevant for heat distribution system modelling"
   ]
  },
  {
   "cell_type": "code",
   "execution_count": null,
   "id": "cefa323c-11a2-4d05-a5dc-e0f56e186f7a",
   "metadata": {},
   "outputs": [],
   "source": [
    "heat_distribution_props = [\n",
    "    'batch_import_KNMI_ghi__W_m_2', \n",
    "    'batch_import_KNMI_temp_out__degC', \n",
    "    'batch_import_KNMI_wind__m_s_1', \n",
    "    'device_p1-reader_g_use_hhv__W', \n",
    "    'batch_import_remeha_boiler_status_burning_ch__bool',\n",
    "    'batch_import_remeha_gas_valve_closed__bool', \n",
    "    'batch_import_remeha_gas_valve_open__bool', \n",
    "    'batch_import_remeha_fan_rotations__min_1', \n",
    "    'batch_import_remeha_ch_set_fan_rotations_min__min_1', \n",
    "    'batch_import_remeha_ch_set_fan_rotations_max__min_1',       \n",
    "    'batch_import_remeha_g_use_ch_lhv__W',\n",
    "    'batch_import_remeha_temp_set__degC', \n",
    "    'batch_import_remeha_temp_in__degC', \n",
    "    'device_living_room_calibrated_temp_in__degC', \n",
    "    'batch_import_remeha_temp_sup__degC', \n",
    "    'batch_import_remeha_temp_ch_sup_max__degC', \n",
    "    'batch_import_remeha_temp_ret__degC' \n",
    "]"
   ]
  },
  {
   "cell_type": "code",
   "execution_count": null,
   "id": "744d85ab-720d-46c0-a80e-8432d537bb35",
   "metadata": {},
   "outputs": [],
   "source": [
    "df_heat_dist = df_prep[heat_distribution_props].copy()"
   ]
  },
  {
   "cell_type": "code",
   "execution_count": null,
   "id": "21f14c87-2d60-4524-97d2-0f0531f79a0d",
   "metadata": {},
   "outputs": [],
   "source": [
    "print(f\"df_heat_dist.count().sum(): {df_heat_dist.count().sum():_}\")"
   ]
  },
  {
   "cell_type": "code",
   "execution_count": null,
   "id": "a1764750-1b44-439b-8ec9-8dd8bd7f6e71",
   "metadata": {},
   "outputs": [],
   "source": [
    "df_heat_dist.info()"
   ]
  },
  {
   "cell_type": "markdown",
   "id": "7d6cd5e2-e0f3-43b9-9468-50132e76186c",
   "metadata": {},
   "source": [
    "## Calculating additional values relevant for heat distribution system modelling"
   ]
  },
  {
   "cell_type": "code",
   "execution_count": null,
   "id": "38ba9bca-e806-4525-b716-cb7f5e570c82",
   "metadata": {},
   "outputs": [],
   "source": [
    "%%time\n",
    "\n",
    "# Filter out rows where either of the columns has NaN\n",
    "valid_rows = df_heat_dist[['batch_import_remeha_temp_sup__degC', 'batch_import_remeha_temp_ret__degC']].notna().all(axis=1)\n",
    "\n",
    "# Calculate the mean only for valid rows\n",
    "df_heat_dist.loc[valid_rows, 'calculated_temp_rad__degC'] = df_heat_dist.loc[valid_rows, ['batch_import_remeha_temp_sup__degC', 'batch_import_remeha_temp_ret__degC']].mean(axis=1)"
   ]
  },
  {
   "cell_type": "markdown",
   "id": "798a9d9a-fa59-4464-9e85-aa328f8fd1da",
   "metadata": {},
   "source": [
    "## Reading boiler data"
   ]
  },
  {
   "cell_type": "code",
   "execution_count": null,
   "id": "bff2b9c8-f9b5-4069-9024-b5ef44544e8d",
   "metadata": {},
   "outputs": [],
   "source": [
    "%%time\n",
    "# Attempt to read the Parquet file\n",
    "try:\n",
    "    df_homes = pd.read_parquet(\n",
    "        home_data_file_path, \n",
    "        engine='pyarrow',\n",
    "        dtype_backend='numpy_nullable'\n",
    "        )\n",
    "    print(\"File was successfully read without specifying compression codec.\")\n",
    "except Exception as e:\n",
    "    print(f\"Error reading file: {e}\")"
   ]
  },
  {
   "cell_type": "code",
   "execution_count": null,
   "id": "cebf54ef-4ec1-49db-8893-68e31583ff11",
   "metadata": {},
   "outputs": [],
   "source": [
    "df_homes.info()"
   ]
  },
  {
   "cell_type": "code",
   "execution_count": null,
   "id": "12cd1560-05fa-4a96-8f02-287526ff1ca6",
   "metadata": {},
   "outputs": [],
   "source": [
    "%%time\n",
    "# Attempt to read the Parquet file\n",
    "try:\n",
    "    df_boiler_efficiency = pd.read_parquet(\n",
    "        # boiler_returntemp_efficiency_file_path, \n",
    "        boiler_returntemp_load_efficiency_file_path, \n",
    "        engine='pyarrow',\n",
    "        dtype_backend='numpy_nullable'\n",
    "        )\n",
    "    print(\"File was successfully read without specifying compression codec.\")\n",
    "except Exception as e:\n",
    "    print(f\"Error reading file: {e}\")"
   ]
  },
  {
   "cell_type": "code",
   "execution_count": null,
   "id": "55c8b7cc-6366-4654-8f6e-a88dd05cf66a",
   "metadata": {},
   "outputs": [],
   "source": [
    "df_boiler_efficiency"
   ]
  },
  {
   "cell_type": "markdown",
   "id": "32953f83-69f8-42ae-a06b-e784c4c4de9a",
   "metadata": {},
   "source": [
    "## Calculating heat production"
   ]
  },
  {
   "cell_type": "code",
   "execution_count": null,
   "id": "17c5e3e8-e779-4608-9c29-87b1dc5404bf",
   "metadata": {},
   "outputs": [],
   "source": [
    "# # Calculate Q_gain_ch__W based on national average efficiency\n",
    "# df_heat_dist['calculated_Q_gain_ch__W'] = df_heat_dist['batch_import_remeha_g_use_ch_lhv__W'] *  g_groningen_hhv___MJ_m_3 /  g_groningen_lhv___MJ_m_3 * eta_ch_nl_avg_hhv__J0"
   ]
  },
  {
   "cell_type": "code",
   "execution_count": null,
   "id": "9f1a3ff8-235b-4e68-8052-2c029dc3a400",
   "metadata": {},
   "outputs": [],
   "source": [
    "g_groningen_hhv___MJ_m_3"
   ]
  },
  {
   "cell_type": "code",
   "execution_count": null,
   "id": "5b942600-94a2-4573-9e10-1dd929687852",
   "metadata": {},
   "outputs": [],
   "source": [
    "g_groningen_lhv___MJ_m_3"
   ]
  },
  {
   "cell_type": "code",
   "execution_count": null,
   "id": "e78c8a02-cbd1-40bf-adb9-98a7d4ab24ba",
   "metadata": {},
   "outputs": [],
   "source": [
    "%%time\n",
    "# Round return temperatures to whole degrees\n",
    "df_heat_dist['rounded_temp_ret__degC'] = df_heat_dist['batch_import_remeha_temp_ret__degC'].round()"
   ]
  },
  {
   "cell_type": "code",
   "execution_count": null,
   "id": "10480208-b647-43f7-a489-eefed3f4342a",
   "metadata": {},
   "outputs": [],
   "source": [
    "df_heat_dist.info()"
   ]
  },
  {
   "cell_type": "code",
   "execution_count": null,
   "id": "75573823-ef94-4609-bf29-39c2feddf51b",
   "metadata": {},
   "outputs": [],
   "source": [
    "df_heat_dist.index.dtypes"
   ]
  },
  {
   "cell_type": "code",
   "execution_count": null,
   "id": "dfae3778-fbc1-4979-acf7-61cc90c2459c",
   "metadata": {},
   "outputs": [],
   "source": [
    "df_heat_dist.count()"
   ]
  },
  {
   "cell_type": "code",
   "execution_count": null,
   "id": "13dea412-d234-4fbd-a3b1-98557bbbb9ba",
   "metadata": {},
   "outputs": [],
   "source": [
    "df_heat_dist.groupby(level='id').count().T"
   ]
  },
  {
   "cell_type": "code",
   "execution_count": null,
   "id": "303c24f8-6bb7-4e98-80de-0e4c89668bf6",
   "metadata": {},
   "outputs": [],
   "source": [
    "pd.concat([df_heat_dist.dropna().groupby(level='id')['batch_import_remeha_ch_set_fan_rotations_min__min_1'].unique(),\n",
    "           df_heat_dist.dropna().groupby(level='id')['batch_import_remeha_ch_set_fan_rotations_max__min_1'].unique()],\n",
    "          axis=1).sort_values(by='batch_import_remeha_ch_set_fan_rotations_max__min_1', ascending=True)"
   ]
  },
  {
   "cell_type": "code",
   "execution_count": null,
   "id": "1a03702a-e2c0-4296-a7d8-b69adf41cae1",
   "metadata": {},
   "outputs": [],
   "source": [
    "df_heat_dist.groupby(level='id')['batch_import_remeha_ch_set_fan_rotations_max__min_1'].unique()"
   ]
  },
  {
   "cell_type": "code",
   "execution_count": null,
   "id": "addd3016-986b-47ac-b744-5142c345b679",
   "metadata": {},
   "outputs": [],
   "source": [
    "# Merge df_heat_dist with df_homes to get the brand_model for each id\n",
    "df_heat_dist = df_heat_dist.reset_index().merge(df_homes, on='id').set_index(['id', 'timestamp'])"
   ]
  },
  {
   "cell_type": "code",
   "execution_count": null,
   "id": "f43d00a0-5994-4b55-8385-1077d90edef1",
   "metadata": {},
   "outputs": [],
   "source": [
    "df_heat_dist.info()"
   ]
  },
  {
   "cell_type": "code",
   "execution_count": null,
   "id": "7f7bd544-89ec-46cb-a7ff-f402cef36be2",
   "metadata": {},
   "outputs": [],
   "source": [
    "df_heat_dist.count()"
   ]
  },
  {
   "cell_type": "code",
   "execution_count": null,
   "id": "be29ff1b-31e5-4d3a-88a4-50378d447cef",
   "metadata": {},
   "outputs": [],
   "source": [
    "df_heat_dist = df_heat_dist[['batch_import_KNMI_ghi__W_m_2',\n",
    "                             'batch_import_KNMI_temp_out__degC',\n",
    "                             'batch_import_KNMI_wind__m_s_1',\n",
    "                             'device_p1-reader_g_use_hhv__W',\n",
    "                             'batch_import_remeha_boiler_status_burning_ch__bool',\n",
    "                             'batch_import_remeha_gas_valve_closed__bool',\n",
    "                             'batch_import_remeha_gas_valve_open__bool',\n",
    "                             'batch_import_remeha_fan_rotations__min_1', \n",
    "                             'batch_import_remeha_ch_set_fan_rotations_min__min_1', \n",
    "                             'batch_import_remeha_ch_set_fan_rotations_max__min_1', \n",
    "                             'boiler_default_min_fan_rotations__min_1', \n",
    "                             'boiler_default_max_ch_fan_rotations__min_1', \n",
    "                             'batch_import_remeha_g_use_ch_lhv__W',\n",
    "                             'batch_import_remeha_temp_set__degC',\n",
    "                             'batch_import_remeha_temp_in__degC',\n",
    "                             'device_living_room_calibrated_temp_in__degC',\n",
    "                             'batch_import_remeha_temp_sup__degC',\n",
    "                             'batch_import_remeha_temp_ret__degC',\n",
    "                             'batch_import_remeha_temp_ch_sup_max__degC', \n",
    "                             'min_fan_rotations__min_1',\n",
    "                             'max_ch_fan_rotations__min_1',\n",
    "                             'power_ch_min__kW',\n",
    "                             'power_ch_max__kW']]"
   ]
  },
  {
   "cell_type": "code",
   "execution_count": null,
   "id": "617a6541-6c0e-444a-aa40-f91f4249c628",
   "metadata": {},
   "outputs": [],
   "source": [
    "remeha2nfh = {\n",
    "    'parHeFanRpmChMax': 'batch_import_remeha_ch_set_fan_rotations_max__min_1',\n",
    "    'parHeFanRpmMin': 'batch_import_remeha_ch_set_fan_rotations_min__min_1',\n",
    "    'parHePowerMax': 'power_ch_max__kW',\n",
    "    'parHePowerMin': 'power_ch_min__kW',\n",
    "    'parHeFanRpmMin.Minimum': 'min_fan_rotations__min_1',\n",
    "    'parHeFanRpmChMax.Maximum': 'max_ch_fan_rotations__min_1',\n",
    "    'varHeFanRpm': 'batch_import_remeha_fan_rotations__min_1',\n",
    "    'varApPowerActual': 'batch_import_remeha_g_use_ch_and_dhw__kW0'\n",
    "}\n"
   ]
  },
  {
   "cell_type": "code",
   "execution_count": null,
   "id": "77cbfda8-cb66-4de8-95cf-d65bc233d67f",
   "metadata": {},
   "outputs": [],
   "source": [
    "%%time\n",
    "df_heat_dist.loc[:,'calculated_boiler_ramp_kW_min'] = ((df_heat_dist[remeha2nfh['parHePowerMax']] - df_heat_dist[remeha2nfh['parHePowerMin']])\n",
    "                                                       / \n",
    "                                                       ( df_heat_dist[remeha2nfh['parHeFanRpmChMax.Maximum']] -  df_heat_dist[remeha2nfh['parHeFanRpmMin.Minimum']])\n",
    "                                                      )\n",
    "\n",
    "# Create lookup value for boiler load fraction, rounded to 2 decimals \n",
    "df_heat_dist.loc[:,'calculated_p_load__kW%'] = ((df_heat_dist[remeha2nfh['varHeFanRpm']] - df_heat_dist[remeha2nfh['parHeFanRpmMin.Minimum']])\n",
    "                                                /\n",
    "                                                (df_heat_dist[remeha2nfh['parHeFanRpmChMax.Maximum']] - df_heat_dist[remeha2nfh['parHeFanRpmMin.Minimum']])\n",
    "                                                * 100\n",
    "                                               ).round().astype('Int16')\n",
    "\n",
    "df_heat_dist.loc[:,'rounded_temp_ret__degC'] = df_heat_dist['batch_import_remeha_temp_ret__degC'].round().astype('Int8')\n",
    "\n",
    "df_heat_dist.loc[:,'calculated_g_use_min_lhv__kW'] = (df_heat_dist[remeha2nfh['parHePowerMin']] + \n",
    "                                                      df_heat_dist['calculated_boiler_ramp_kW_min'] * \n",
    "                                                      (df_heat_dist[remeha2nfh['parHePowerMin']] - df_heat_dist[remeha2nfh['parHeFanRpmMin.Minimum']])\n",
    "                                                      /\n",
    "                                                      (df_heat_dist[remeha2nfh['parHeFanRpmChMax.Maximum']] - df_heat_dist[remeha2nfh['parHeFanRpmMin.Minimum']])\n",
    "                                                     )\n",
    "                                                    \n",
    "\n",
    "df_heat_dist.loc[:,'calculated_g_use_ch_lhv__kW'] = df_heat_dist['calculated_g_use_min_lhv__kW'] + df_heat_dist['calculated_p_load__kW%']/100 * df_heat_dist['calculated_boiler_ramp_kW_min'] \n",
    "\n",
    "# Set the calculated gas use for central heating to zero when the boiler was not burning for central heating\n",
    "df_heat_dist.loc[df_heat_dist['batch_import_remeha_boiler_status_burning_ch__bool'] == False, 'calculated_g_use_min_lhv__kW'] = 0\n",
    "\n",
    "\n",
    "df_heat_dist.loc[:,'calculated_g_use_ch_lhv_rpm_direct__kW'] = (df_heat_dist[remeha2nfh['parHePowerMin']] \n",
    "                                                                + df_heat_dist['calculated_boiler_ramp_kW_min'] \n",
    "                                                                * (df_heat_dist[remeha2nfh['varHeFanRpm']] - df_heat_dist[remeha2nfh['parHeFanRpmMin.Minimum']])\n",
    "                                                                /\n",
    "                                                                (df_heat_dist[remeha2nfh['parHeFanRpmChMax.Maximum']] -  df_heat_dist[remeha2nfh['parHeFanRpmMin.Minimum']])\n",
    "                                                               )\n",
    "\n",
    "# Set the calculated gas use for central heating to zero when the boiler was not burning for central heating\n",
    "df_heat_dist.loc[df_heat_dist['batch_import_remeha_boiler_status_burning_ch__bool'] == False, 'calculated_g_use_ch_lhv_rpm_direct__kW'] = 0\n",
    "\n",
    "\n",
    "df_heat_dist.loc[:,'calculated_g_use_ch_hhv__kW'] = df_heat_dist['calculated_g_use_ch_lhv__kW'] /  g_groningen_lhv___MJ_m_3 *  g_groningen_hhv___MJ_m_3  \n",
    "\n",
    "df_heat_dist.loc[:,'calculated_g_use_ch_hhv_rpm_direct__kW'] = df_heat_dist['calculated_g_use_ch_lhv_rpm_direct__kW'] /  g_groningen_lhv___MJ_m_3 *  g_groningen_hhv___MJ_m_3  "
   ]
  },
  {
   "cell_type": "code",
   "execution_count": null,
   "id": "4d857cb9-9016-465f-baa6-315647dd92ad",
   "metadata": {},
   "outputs": [],
   "source": [
    "df_heat_dist.info()"
   ]
  },
  {
   "cell_type": "code",
   "execution_count": null,
   "id": "44565063-7ea8-45b1-a313-c9c09b2bea26",
   "metadata": {},
   "outputs": [],
   "source": [
    "df_heat_dist[df_heat_dist['batch_import_remeha_boiler_status_burning_ch__bool'] == True].groupby(level='id').agg({\n",
    "    'power_ch_min__kW': 'mean',\n",
    "    'power_ch_max__kW': 'mean',\n",
    "    'min_fan_rotations__min_1': 'mean',\n",
    "    'batch_import_remeha_ch_set_fan_rotations_min__min_1': 'mean',\n",
    "    'boiler_default_min_fan_rotations__min_1': 'mean', \n",
    "    'boiler_default_max_ch_fan_rotations__min_1': 'mean', \n",
    "    'batch_import_remeha_ch_set_fan_rotations_max__min_1': 'mean',\n",
    "    'max_ch_fan_rotations__min_1': 'mean',\n",
    "    'batch_import_remeha_fan_rotations__min_1': ['min', 'mean', 'max'],\n",
    "    'calculated_boiler_ramp_kW_min': 'mean',\n",
    "    'calculated_p_load__kW%': ['min', 'mean', 'max'],\n",
    "    'calculated_g_use_ch_lhv__kW': ['min', 'mean', 'max'],\n",
    "    'calculated_g_use_ch_lhv_rpm_direct__kW': ['min', 'mean', 'max'],\n",
    "    'calculated_g_use_ch_hhv__kW': ['min', 'mean', 'max'],\n",
    "    'calculated_g_use_ch_hhv_rpm_direct__kW': ['min', 'mean', 'max'],\n",
    "}).T"
   ]
  },
  {
   "cell_type": "markdown",
   "id": "5d523bbc-19cc-49fe-9893-1043c931c370",
   "metadata": {},
   "source": [
    "### I don't trust calculation with negative values for calculated_p_load__kW%, so revert back to using return temp only"
   ]
  },
  {
   "cell_type": "code",
   "execution_count": null,
   "id": "27f5a18f-c2e0-42f1-a74e-15964cda503b",
   "metadata": {},
   "outputs": [],
   "source": [
    "%%time\n",
    "# Attempt to read the Parquet file\n",
    "try:\n",
    "    df_boiler_efficiency = pd.read_parquet(\n",
    "        boiler_returntemp_efficiency_file_path, \n",
    "        # boiler_returntemp_load_efficiency_file_path, \n",
    "        engine='pyarrow',\n",
    "        dtype_backend='numpy_nullable'\n",
    "        )\n",
    "    print(\"File was successfully read without specifying compression codec.\")\n",
    "except Exception as e:\n",
    "    print(f\"Error reading file: {e}\")"
   ]
  },
  {
   "cell_type": "code",
   "execution_count": null,
   "id": "ebef5d8b-7be6-42a6-8c18-09bbe7216abf",
   "metadata": {},
   "outputs": [],
   "source": [
    "%%time\n",
    "# Extract id and rounded_temp_ret__degC values\n",
    "id_values = df_heat_dist.index.get_level_values('id')\n",
    "temp_ret_values = df_heat_dist['rounded_temp_ret__degC']\n",
    "\n",
    "# Lookup efficiency vectorized\n",
    "def lookup_efficiency_vectorized(id_vals, temp_vals, df_efficiency, df_homes):\n",
    "    brand_models = df_homes.loc[id_vals, 'brand_model'].values\n",
    "    efficiency_values = np.empty(len(brand_models))\n",
    "    \n",
    "    for i, (model, temp) in enumerate(zip(brand_models, temp_vals)):\n",
    "        try:\n",
    "            efficiency_values[i] = df_efficiency.loc[(model, temp), 'eta_ch_hhv__W0']\n",
    "        except KeyError:\n",
    "            efficiency_values[i] = np.nan  # or some default value\n",
    "    \n",
    "    return efficiency_values\n",
    "\n",
    "\n",
    "# Apply the vectorized lookup\n",
    "df_heat_dist['eta_ch_hhv__W0'] = lookup_efficiency_vectorized(id_values, temp_ret_values, df_boiler_efficiency, df_homes)"
   ]
  },
  {
   "cell_type": "code",
   "execution_count": null,
   "id": "86fa2623-48ea-43f9-b7fb-3268b64a105e",
   "metadata": {},
   "outputs": [],
   "source": [
    "df_heat_dist['calculated_Q_gain_ch__W'] = df_heat_dist['batch_import_remeha_g_use_ch_lhv__W'] *  g_groningen_hhv___MJ_m_3 /  g_groningen_lhv___MJ_m_3 * df_heat_dist['eta_ch_hhv__W0']"
   ]
  },
  {
   "cell_type": "code",
   "execution_count": null,
   "id": "bf3fb3cd-e45a-4ed5-b930-55d66bf97fe4",
   "metadata": {},
   "outputs": [],
   "source": [
    "list(df_heat_dist.columns)"
   ]
  },
  {
   "cell_type": "code",
   "execution_count": null,
   "id": "b1db6754-7976-4838-b9d0-7c00286c208d",
   "metadata": {},
   "outputs": [],
   "source": [
    "df_heat_dist.describe().T"
   ]
  },
  {
   "cell_type": "code",
   "execution_count": null,
   "id": "d08a6ec1-0778-42ba-8c9e-a02b7ffbb809",
   "metadata": {},
   "outputs": [],
   "source": [
    "df_heat_dist"
   ]
  },
  {
   "cell_type": "markdown",
   "id": "15360547-2b20-491d-88c1-59d2b8f71648",
   "metadata": {},
   "source": [
    "## Writing results to parquet file"
   ]
  },
  {
   "cell_type": "code",
   "execution_count": null,
   "id": "df06a9f7-5a3a-441d-9e7e-c13cddbdcaa9",
   "metadata": {},
   "outputs": [],
   "source": [
    "%%time \n",
    "df_heat_dist.to_parquet(rhc_heat_dist_preprocessed_poperties_file, index=True, engine='pyarrow')"
   ]
  },
  {
   "cell_type": "markdown",
   "id": "0c9c4e11-6be1-4175-93ef-443b49d7732a",
   "metadata": {},
   "source": [
    "## Overview of efficiencies in practice"
   ]
  },
  {
   "cell_type": "code",
   "execution_count": null,
   "id": "e4f5444c-43a0-40a4-9e64-aedaa971281e",
   "metadata": {},
   "outputs": [],
   "source": [
    "df_heat_dist[df_heat_dist['batch_import_remeha_boiler_status_burning_ch__bool'] == True]['eta_ch_hhv__W0'].mean()"
   ]
  },
  {
   "cell_type": "code",
   "execution_count": null,
   "id": "6cbb626b-33f7-4e07-a2f0-ce94a5ba6689",
   "metadata": {},
   "outputs": [],
   "source": [
    "# Group by 'id' and calculate the mean for both 'eta_ch_hhv__W0' and 'batch_import_remeha_temp_ret__degC'\n",
    "df_heat_dist[df_heat_dist['batch_import_remeha_boiler_status_burning_ch__bool'] == True].groupby(level='id').agg({\n",
    "    'eta_ch_hhv__W0': 'mean',\n",
    "    'batch_import_remeha_temp_ret__degC': 'mean',\n",
    "    'batch_import_remeha_temp_ch_sup_max__degC': 'mean',\n",
    "    'batch_import_remeha_temp_sup__degC': 'mean'\n",
    "}).sort_values(by='eta_ch_hhv__W0', ascending=False)"
   ]
  },
  {
   "cell_type": "code",
   "execution_count": null,
   "id": "dc1c085b-b788-4bf3-b29c-160a75c1425a",
   "metadata": {},
   "outputs": [],
   "source": [
    "# Create boxplot\n",
    "\n",
    "\n",
    "# Assuming df_heat_dist is your DataFrame\n",
    "\n",
    "# Step 1: Filter the DataFrame to include only rows where the boiler is burning\n",
    "df_filtered = df_heat_dist[df_heat_dist['batch_import_remeha_boiler_status_burning_ch__bool'] == True]\n",
    "\n",
    "# Step 2: Calculate the mean efficiency per id and sort in descending order\n",
    "mean_per_id = df_filtered.groupby(level='id')['eta_ch_hhv__W0'].mean().sort_values(ascending=False)\n",
    "\n",
    "# Step 3: Extract 'id' and 'eta_ch_hhv__W0' into a new DataFrame and drop missing values\n",
    "df_boxplot = df_filtered.reset_index()[['id', 'eta_ch_hhv__W0']].dropna()\n",
    "\n",
    "# Step 4: Convert 'id' to a categorical type based on the sorted 'id' values\n",
    "df_boxplot['id'] = pd.Categorical(df_boxplot['id'], categories=mean_per_id.index, ordered=True)\n",
    "df_boxplot = df_boxplot.sort_values('id')\n",
    "\n",
    "# Step 5: Group by 'id' and collect the 'eta_ch_hhv__W0' values\n",
    "grouped = df_boxplot.groupby('id')['eta_ch_hhv__W0'].apply(list)\n",
    "\n",
    "# Step 6: Create a list of lists for the boxplot\n",
    "data = [grouped[id] for id in grouped.index]\n",
    "\n",
    "# Step 7: Create the boxplot using matplotlib\n",
    "plt.figure(figsize=(12, 6))\n",
    "plt.boxplot(data, labels=grouped.index)\n",
    "plt.title('Efficiency per id (Sorted by High Average Efficiency)')\n",
    "plt.xlabel('ID')\n",
    "plt.ylabel('eta_ch_hhv__W0')\n",
    "plt.xticks(rotation=45)  # Rotate x labels if needed\n",
    "plt.show()\n"
   ]
  },
  {
   "cell_type": "markdown",
   "id": "507cd983-ed58-43c5-a0cf-6964fe1112a7",
   "metadata": {},
   "source": [
    "## Writing results to multiple zipped CSV files"
   ]
  },
  {
   "cell_type": "code",
   "execution_count": null,
   "id": "1bdb8674-a05b-440a-b6a5-fda88b58e8ae",
   "metadata": {},
   "outputs": [],
   "source": [
    "# %%time \n",
    "# # uncomment this entire block of code to enable it \n",
    "# for home_id in tqdm(df_heat_dist.index.get_level_values('id').unique()):\n",
    "#     df_heat_dist.xs(home_id, drop_level=False).to_csv(\n",
    "#         f'{home_id}_heat_dist_preprocessed_properties.zip',\n",
    "#         encoding='utf-8',\n",
    "#         compression= dict(method='zip',\n",
    "#                           archive_name=f'{home_id}_heat_dist_preprocessed_properties.csv'),\n",
    "#         date_format='%Y-%m-%dT%H:%M:%S%z'\n",
    "#     )\n"
   ]
  },
  {
   "cell_type": "code",
   "execution_count": null,
   "id": "482f7e64-c1b4-4952-85cf-21f8e1280d13",
   "metadata": {},
   "outputs": [],
   "source": []
  }
 ],
 "metadata": {
  "kernelspec": {
   "display_name": "Python 3 (ipykernel)",
   "language": "python",
   "name": "python3"
  },
  "language_info": {
   "codemirror_mode": {
    "name": "ipython",
    "version": 3
   },
   "file_extension": ".py",
   "mimetype": "text/x-python",
   "name": "python",
   "nbconvert_exporter": "python",
   "pygments_lexer": "ipython3",
   "version": "3.11.6"
  }
 },
 "nbformat": 4,
 "nbformat_minor": 5
}
