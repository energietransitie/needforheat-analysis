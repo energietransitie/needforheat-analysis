{
 "cells": [
  {
   "cell_type": "markdown",
   "id": "1b9f977b-d0e8-4234-be01-e5042ace89d7",
   "metadata": {},
   "source": [
    "# Processing REDUCEDHEATARB data for heat distribution system model check"
   ]
  },
  {
   "cell_type": "code",
   "execution_count": 75,
   "id": "05ed325e-13db-4323-9712-70fd5f4babc1",
   "metadata": {},
   "outputs": [
    {
     "name": "stdout",
     "output_type": "stream",
     "text": [
      "The autoreload extension is already loaded. To reload it, use:\n",
      "  %reload_ext autoreload\n"
     ]
    }
   ],
   "source": [
    "import pandas as pd\n",
    "import numpy as np\n",
    "from tqdm.notebook import tqdm\n",
    "# Files needed as input\n",
    "# rhc_preprocessed_poperties_file='rhc_preprocessed_properties_intv_5_min.parquet'\n",
    "rhc_preprocessed_poperties_file='rhc_preprocessed_properties_intv_1_min.parquet'\n",
    "home_data_file_path = \"home_data.parquet\"\n",
    "boiler_returntemp_load_efficiency_file_path = \"boiler_returntemp_load_efficiency.parquet\"\n",
    "boiler_returntemp_efficiency_file_path = \"boiler_returntemp_efficiency.parquet\"\n",
    "\n",
    "# Files written as output\n",
    "rhc_heat_dist_preprocessed_poperties_file='rhc_heat_dist_preprocessed_properties.parquet'\n",
    "\n",
    "%load_ext autoreload\n",
    "\n",
    "import matplotlib.pyplot as plt\n",
    "\n",
    "%matplotlib inline\n",
    "%matplotlib widget\n",
    "\n",
    "import sys\n",
    "sys.path.append('../analysis')\n",
    "sys.path.append('../data')\n",
    "sys.path.append('../view/')\n",
    "from nfh_utils import *\n",
    "from plotter import Plot"
   ]
  },
  {
   "cell_type": "markdown",
   "id": "ec5c913b-1d49-4282-8ec0-bceec2ba8e7c",
   "metadata": {},
   "source": [
    "## Reading preprocessed interpolated properties from a parquet file"
   ]
  },
  {
   "cell_type": "code",
   "execution_count": null,
   "id": "1418d73a-9260-4c2d-a624-96b6f304a04f",
   "metadata": {},
   "outputs": [],
   "source": [
    "%%time\n",
    "\n",
    "\n",
    "# Attempt to read the Parquet file\n",
    "try:\n",
    "    df_prep = pd.read_parquet(\n",
    "        rhc_preprocessed_poperties_file, \n",
    "        engine='pyarrow',\n",
    "        dtype_backend='numpy_nullable'\n",
    "        )\n",
    "    print(\"File was successfully read without specifying compression codec.\")\n",
    "except Exception as e:\n",
    "    print(f\"Error reading file: {e}\")\n",
    "\n",
    "#sorting the DataFrame index is needed to get good performance on certain filters\n",
    "#this guarding code to check whether DataFrames are properly sorted\n",
    "if not df_prep.index.is_monotonic_increasing:\n",
    "    print('df needed index sorting')\n",
    "    df_prep = df_prep.sort_index()  "
   ]
  },
  {
   "cell_type": "code",
   "execution_count": null,
   "id": "4ce49933-c611-46fa-a4a3-dd8da1d1a28f",
   "metadata": {},
   "outputs": [],
   "source": [
    "print(f\"df_prep.count().sum(): {df_prep.count().sum():_}\")"
   ]
  },
  {
   "cell_type": "code",
   "execution_count": 50,
   "id": "134099ed-abe2-46c8-b19b-f3e1355a1641",
   "metadata": {},
   "outputs": [
    {
     "name": "stdout",
     "output_type": "stream",
     "text": [
      "<class 'pandas.core.frame.DataFrame'>\n",
      "MultiIndex: 9582620 entries, (401632, Timestamp('2023-04-01 00:00:00+0200', tz='Europe/Amsterdam')) to (495906, Timestamp('2024-04-04 01:00:00+0200', tz='Europe/Amsterdam'))\n",
      "Data columns (total 78 columns):\n",
      " #   Column                                                   Dtype  \n",
      "---  ------                                                   -----  \n",
      " 0   batch_import_KNMI_ghi__W_m_2                             Float32\n",
      " 1   batch_import_KNMI_temp_out__degC                         Float32\n",
      " 2   batch_import_remeha_temp_out__degC                       Float32\n",
      " 3   batch_import_KNMI_wind__m_s_1                            Float32\n",
      " 4   batch_import_enelogic_e_ret_monthly_hi_cum__kWh          Float64\n",
      " 5   batch_import_enelogic_e_ret_monthly_lo_cum__kWh          Float64\n",
      " 6   batch_import_enelogic_e_use_monthly_hi_cum__kWh          Float64\n",
      " 7   batch_import_enelogic_e_use_monthly_lo_cum__kWh          Float64\n",
      " 8   batch_import_enelogic_g_use_monthly_cum__m3              Float64\n",
      " 9   batch_import_remeha_boiler_status_blocking_mode__bool    boolean\n",
      " 10  batch_import_remeha_boiler_status_burner_start__bool     boolean\n",
      " 11  batch_import_remeha_boiler_status_burner_stop__bool      boolean\n",
      " 12  batch_import_remeha_boiler_status_burning_ch__bool       boolean\n",
      " 13  batch_import_remeha_boiler_status_burning_dhw__bool      boolean\n",
      " 14  batch_import_remeha_boiler_status_controlled_stop__bool  boolean\n",
      " 15  batch_import_remeha_boiler_status_de_air__bool           boolean\n",
      " 16  batch_import_remeha_boiler_status_heat_demand__bool      boolean\n",
      " 17  batch_import_remeha_boiler_status_locking_mode__bool     boolean\n",
      " 18  batch_import_remeha_boiler_status_pump_post_run__bool    boolean\n",
      " 19  batch_import_remeha_boiler_status_standby__bool          boolean\n",
      " 20  batch_import_remeha_ch_set_fan_rotations_max__min_1      Int16  \n",
      " 21  batch_import_remeha_ch_set_fan_rotations_min__min_1      Int16  \n",
      " 22  batch_import_remeha_ch_water_pump_speed__0               Float32\n",
      " 23  batch_import_remeha_dhw_temp_out__degC                   Float32\n",
      " 24  batch_import_remeha_fan_rotations__min_1                 Int16  \n",
      " 25  batch_import_remeha_g_use_ch_lhv_cum__kWh                Float64\n",
      " 26  batch_import_remeha_g_use_dhw_lhv_cum__kWh               Float64\n",
      " 27  batch_import_remeha_gas_valve_closed__bool               boolean\n",
      " 28  batch_import_remeha_gas_valve_open__bool                 boolean\n",
      " 29  batch_import_remeha_power_ch_max__kW                     Float32\n",
      " 30  batch_import_remeha_temp_ch_sup_max__degC                Float32\n",
      " 31  batch_import_remeha_temp_in__degC                        Float32\n",
      " 32  device_living_room_temp_in__degC                         Float32\n",
      " 33  device_living_room_calibrated_temp_in__degC              Float32\n",
      " 34  batch_import_remeha_temp_ret__degC                       Float32\n",
      " 35  batch_import_remeha_temp_set__degC                       Float32\n",
      " 36  batch_import_remeha_temp_sup__degC                       Float32\n",
      " 37  cloud_feed_enelogic_e_ret_cum__kWh                       Float64\n",
      " 38  cloud_feed_enelogic_e_use_cum__kWh                       Float64\n",
      " 39  cloud_feed_enelogic_e_use_hi_cum__kWh                    Float64\n",
      " 40  device_p1-reader_e_use_hi_cum__kWh                       Float64\n",
      " 41  cloud_feed_enelogic_e_use_lo_cum__kWh                    Float64\n",
      " 42  device_p1-reader_e_use_lo_cum__kWh                       Float64\n",
      " 43  cloud_feed_enelogic_g_use_cum__m3                        Float64\n",
      " 44  device_p1-reader_g_use_cum__m3                           Float64\n",
      " 45  device_living_room_battery_voltage__V                    Float32\n",
      " 46  device_living_room_co2__ppm                              Float32\n",
      " 47  device_living_room_heartbeat__0                          Int8   \n",
      " 48  device_p1-reader_heartbeat__0                            Int8   \n",
      " 49  device_living_room_occupancy__p                          Int8   \n",
      " 50  device_living_room_onboarded__p                          Int8   \n",
      " 51  device_living_room_rel_humidity__0                       Float32\n",
      " 52  device_p1-reader_dsmr_version__0                         Float32\n",
      " 53  cloud_feed_enelogic_e_ret_hi_cum__kWh                    Float64\n",
      " 54  device_p1-reader_e_ret_hi_cum__kWh                       Float64\n",
      " 55  cloud_feed_enelogic_e_ret_lo_cum__kWh                    Float64\n",
      " 56  device_p1-reader_e_ret_lo_cum__kWh                       Float64\n",
      " 57  device_p1-reader_meter_code__str                         string \n",
      " 58  batch_import_remeha_dhw_flow__l_min_1                    Float32\n",
      " 59  batch_import_enelogic_e_ret_monthly_hi__W                Float64\n",
      " 60  batch_import_enelogic_e_ret_monthly_lo__W                Float64\n",
      " 61  batch_import_enelogic_e_use_monthly_hi__W                Float64\n",
      " 62  batch_import_enelogic_e_use_monthly_lo__W                Float64\n",
      " 63  batch_import_enelogic_g_use_monthly_hhv__W               Float64\n",
      " 64  batch_import_remeha_g_use_ch_lhv__W                      Float64\n",
      " 65  batch_import_remeha_g_use_dhw_lhv__W                     Float64\n",
      " 66  cloud_feed_enelogic_e_ret__W                             Float64\n",
      " 67  cloud_feed_enelogic_e_ret_hi__W                          Float64\n",
      " 68  cloud_feed_enelogic_e_ret_lo__W                          Float64\n",
      " 69  cloud_feed_enelogic_e_use__W                             Float64\n",
      " 70  cloud_feed_enelogic_e_use_hi__W                          Float64\n",
      " 71  cloud_feed_enelogic_e_use_lo__W                          Float64\n",
      " 72  cloud_feed_enelogic_g_use_hhv__W                         Float64\n",
      " 73  device_p1-reader_e_ret_hi__W                             Float64\n",
      " 74  device_p1-reader_e_ret_lo__W                             Float64\n",
      " 75  device_p1-reader_e_use_hi__W                             Float64\n",
      " 76  device_p1-reader_e_use_lo__W                             Float64\n",
      " 77  device_p1-reader_g_use_hhv__W                            Float64\n",
      "dtypes: Float32(19), Float64(38), Int16(3), Int8(4), boolean(13), string(1)\n",
      "memory usage: 4.4 GB\n"
     ]
    }
   ],
   "source": [
    "df_prep.info()"
   ]
  },
  {
   "cell_type": "code",
   "execution_count": null,
   "id": "a414a145-7a17-45bb-b600-4486116e354b",
   "metadata": {
    "scrolled": true
   },
   "outputs": [],
   "source": [
    "print(\"[\\n'\",\"', \\n'\".join(sorted(df_prep.columns)),\"'\\n]\")"
   ]
  },
  {
   "cell_type": "markdown",
   "id": "592511f3-8287-4001-94b7-3bf5f3a962fd",
   "metadata": {},
   "source": [
    "## Filtering values immediately relevant for heat distribution system modelling"
   ]
  },
  {
   "cell_type": "code",
   "execution_count": null,
   "id": "cefa323c-11a2-4d05-a5dc-e0f56e186f7a",
   "metadata": {},
   "outputs": [],
   "source": [
    "heat_distribution_props = [\n",
    "    'batch_import_KNMI_ghi__W_m_2', \n",
    "    'batch_import_KNMI_temp_out__degC', \n",
    "    'batch_import_KNMI_wind__m_s_1', \n",
    "    'device_p1-reader_g_use_hhv__W', \n",
    "    'batch_import_remeha_boiler_status_burning_ch__bool',\n",
    "    'batch_import_remeha_gas_valve_closed__bool', \n",
    "    'batch_import_remeha_gas_valve_open__bool', \n",
    "    'batch_import_remeha_fan_rotations__min_1', \n",
    "    'batch_import_remeha_ch_set_fan_rotations_min__min_1', \n",
    "    'batch_import_remeha_ch_set_fan_rotations_max__min_1',       \n",
    "    'batch_import_remeha_g_use_ch_lhv__W',\n",
    "    'batch_import_remeha_temp_set__degC', \n",
    "    'batch_import_remeha_temp_in__degC', \n",
    "    'device_living_room_calibrated_temp_in__degC', \n",
    "    'batch_import_remeha_temp_sup__degC', \n",
    "    'batch_import_remeha_temp_ch_sup_max__degC', \n",
    "    'batch_import_remeha_temp_ret__degC' \n",
    "]"
   ]
  },
  {
   "cell_type": "code",
   "execution_count": null,
   "id": "744d85ab-720d-46c0-a80e-8432d537bb35",
   "metadata": {},
   "outputs": [],
   "source": [
    "df_heat_dist = df_prep[heat_distribution_props].copy()"
   ]
  },
  {
   "cell_type": "code",
   "execution_count": null,
   "id": "21f14c87-2d60-4524-97d2-0f0531f79a0d",
   "metadata": {},
   "outputs": [],
   "source": [
    "print(f\"df_heat_dist.count().sum(): {df_heat_dist.count().sum():_}\")"
   ]
  },
  {
   "cell_type": "code",
   "execution_count": null,
   "id": "a1764750-1b44-439b-8ec9-8dd8bd7f6e71",
   "metadata": {},
   "outputs": [],
   "source": [
    "df_heat_dist.info()"
   ]
  },
  {
   "cell_type": "markdown",
   "id": "7d6cd5e2-e0f3-43b9-9468-50132e76186c",
   "metadata": {},
   "source": [
    "## Calculating additional values relevant for heat distribution system modelling"
   ]
  },
  {
   "cell_type": "code",
   "execution_count": null,
   "id": "38ba9bca-e806-4525-b716-cb7f5e570c82",
   "metadata": {},
   "outputs": [],
   "source": [
    "%%time\n",
    "\n",
    "# Filter out rows where either of the columns has NaN\n",
    "valid_rows = df_heat_dist[['batch_import_remeha_temp_sup__degC', 'batch_import_remeha_temp_ret__degC']].notna().all(axis=1)\n",
    "\n",
    "# Calculate the mean only for valid rows\n",
    "df_heat_dist.loc[valid_rows, 'calculated_temp_rad__degC'] = df_heat_dist.loc[valid_rows, ['batch_import_remeha_temp_sup__degC', 'batch_import_remeha_temp_ret__degC']].mean(axis=1)"
   ]
  },
  {
   "cell_type": "markdown",
   "id": "798a9d9a-fa59-4464-9e85-aa328f8fd1da",
   "metadata": {},
   "source": [
    "## Reading boiler data"
   ]
  },
  {
   "cell_type": "code",
   "execution_count": null,
   "id": "bff2b9c8-f9b5-4069-9024-b5ef44544e8d",
   "metadata": {},
   "outputs": [],
   "source": [
    "%%time\n",
    "# Attempt to read the Parquet file\n",
    "try:\n",
    "    df_homes = pd.read_parquet(\n",
    "        home_data_file_path, \n",
    "        engine='pyarrow',\n",
    "        dtype_backend='numpy_nullable'\n",
    "        )\n",
    "    print(\"File was successfully read without specifying compression codec.\")\n",
    "except Exception as e:\n",
    "    print(f\"Error reading file: {e}\")"
   ]
  },
  {
   "cell_type": "code",
   "execution_count": null,
   "id": "cebf54ef-4ec1-49db-8893-68e31583ff11",
   "metadata": {},
   "outputs": [],
   "source": [
    "df_homes.info()"
   ]
  },
  {
   "cell_type": "code",
   "execution_count": null,
   "id": "12cd1560-05fa-4a96-8f02-287526ff1ca6",
   "metadata": {},
   "outputs": [],
   "source": [
    "%%time\n",
    "# Attempt to read the Parquet file\n",
    "try:\n",
    "    df_boiler_efficiency = pd.read_parquet(\n",
    "        # boiler_returntemp_efficiency_file_path, \n",
    "        boiler_returntemp_load_efficiency_file_path, \n",
    "        engine='pyarrow',\n",
    "        dtype_backend='numpy_nullable'\n",
    "        )\n",
    "    print(\"File was successfully read without specifying compression codec.\")\n",
    "except Exception as e:\n",
    "    print(f\"Error reading file: {e}\")"
   ]
  },
  {
   "cell_type": "code",
   "execution_count": null,
   "id": "55c8b7cc-6366-4654-8f6e-a88dd05cf66a",
   "metadata": {},
   "outputs": [],
   "source": [
    "df_boiler_efficiency"
   ]
  },
  {
   "cell_type": "markdown",
   "id": "32953f83-69f8-42ae-a06b-e784c4c4de9a",
   "metadata": {},
   "source": [
    "## Calculating heat production"
   ]
  },
  {
   "cell_type": "code",
   "execution_count": null,
   "id": "17c5e3e8-e779-4608-9c29-87b1dc5404bf",
   "metadata": {},
   "outputs": [],
   "source": [
    "# # Calculate Q_gain_ch__W based on national average efficiency\n",
    "# df_heat_dist['calculated_Q_gain_ch__W'] = df_heat_dist['batch_import_remeha_g_use_ch_lhv__W'] *  g_groningen_hhv___MJ_m_3 /  g_groningen_lhv___MJ_m_3 * eta_ch_nl_avg_hhv__J0"
   ]
  },
  {
   "cell_type": "code",
   "execution_count": null,
   "id": "9f1a3ff8-235b-4e68-8052-2c029dc3a400",
   "metadata": {},
   "outputs": [],
   "source": [
    "g_groningen_hhv___MJ_m_3"
   ]
  },
  {
   "cell_type": "code",
   "execution_count": null,
   "id": "5b942600-94a2-4573-9e10-1dd929687852",
   "metadata": {},
   "outputs": [],
   "source": [
    "g_groningen_lhv___MJ_m_3"
   ]
  },
  {
   "cell_type": "code",
   "execution_count": 43,
   "id": "8131b7ad-bc69-4898-b8d9-0979efe401b3",
   "metadata": {},
   "outputs": [
    {
     "data": {
      "text/plain": [
       "377.80534641417603"
      ]
     },
     "execution_count": 43,
     "metadata": {},
     "output_type": "execute_result"
    }
   ],
   "source": [
    "g_not_ch_nl_avg_hhv__W"
   ]
  },
  {
   "cell_type": "code",
   "execution_count": null,
   "id": "e78c8a02-cbd1-40bf-adb9-98a7d4ab24ba",
   "metadata": {},
   "outputs": [],
   "source": [
    "%%time\n",
    "# Round return temperatures to whole degrees\n",
    "df_heat_dist['rounded_temp_ret__degC'] = df_heat_dist['batch_import_remeha_temp_ret__degC'].round()"
   ]
  },
  {
   "cell_type": "code",
   "execution_count": null,
   "id": "10480208-b647-43f7-a489-eefed3f4342a",
   "metadata": {},
   "outputs": [],
   "source": [
    "df_heat_dist.info()"
   ]
  },
  {
   "cell_type": "code",
   "execution_count": null,
   "id": "75573823-ef94-4609-bf29-39c2feddf51b",
   "metadata": {},
   "outputs": [],
   "source": [
    "df_heat_dist.index.dtypes"
   ]
  },
  {
   "cell_type": "code",
   "execution_count": null,
   "id": "dfae3778-fbc1-4979-acf7-61cc90c2459c",
   "metadata": {},
   "outputs": [],
   "source": [
    "df_heat_dist.count()"
   ]
  },
  {
   "cell_type": "code",
   "execution_count": null,
   "id": "13dea412-d234-4fbd-a3b1-98557bbbb9ba",
   "metadata": {},
   "outputs": [],
   "source": [
    "df_heat_dist.groupby(level='id').count().T"
   ]
  },
  {
   "cell_type": "code",
   "execution_count": null,
   "id": "303c24f8-6bb7-4e98-80de-0e4c89668bf6",
   "metadata": {},
   "outputs": [],
   "source": [
    "pd.concat([df_heat_dist.dropna().groupby(level='id')['batch_import_remeha_ch_set_fan_rotations_min__min_1'].unique(),\n",
    "           df_heat_dist.dropna().groupby(level='id')['batch_import_remeha_ch_set_fan_rotations_max__min_1'].unique()],\n",
    "          axis=1).sort_values(by='batch_import_remeha_ch_set_fan_rotations_max__min_1', ascending=True)"
   ]
  },
  {
   "cell_type": "code",
   "execution_count": null,
   "id": "1a03702a-e2c0-4296-a7d8-b69adf41cae1",
   "metadata": {},
   "outputs": [],
   "source": [
    "df_heat_dist.groupby(level='id')['batch_import_remeha_ch_set_fan_rotations_max__min_1'].unique()"
   ]
  },
  {
   "cell_type": "code",
   "execution_count": null,
   "id": "addd3016-986b-47ac-b744-5142c345b679",
   "metadata": {},
   "outputs": [],
   "source": [
    "# Merge df_heat_dist with df_homes to get the brand_model for each id\n",
    "df_heat_dist = df_heat_dist.reset_index().merge(df_homes, on='id').set_index(['id', 'timestamp'])"
   ]
  },
  {
   "cell_type": "code",
   "execution_count": null,
   "id": "f43d00a0-5994-4b55-8385-1077d90edef1",
   "metadata": {},
   "outputs": [],
   "source": [
    "df_heat_dist.info()"
   ]
  },
  {
   "cell_type": "code",
   "execution_count": null,
   "id": "7f7bd544-89ec-46cb-a7ff-f402cef36be2",
   "metadata": {},
   "outputs": [],
   "source": [
    "df_heat_dist.count()"
   ]
  },
  {
   "cell_type": "code",
   "execution_count": null,
   "id": "be29ff1b-31e5-4d3a-88a4-50378d447cef",
   "metadata": {},
   "outputs": [],
   "source": [
    "df_heat_dist = df_heat_dist[['batch_import_KNMI_ghi__W_m_2',\n",
    "                             'batch_import_KNMI_temp_out__degC',\n",
    "                             'batch_import_KNMI_wind__m_s_1',\n",
    "                             'device_p1-reader_g_use_hhv__W',\n",
    "                             'batch_import_remeha_boiler_status_burning_ch__bool',\n",
    "                             'batch_import_remeha_gas_valve_closed__bool',\n",
    "                             'batch_import_remeha_gas_valve_open__bool',\n",
    "                             'batch_import_remeha_fan_rotations__min_1', \n",
    "                             'batch_import_remeha_ch_set_fan_rotations_min__min_1', \n",
    "                             'batch_import_remeha_ch_set_fan_rotations_max__min_1', \n",
    "                             'boiler_default_min_fan_rotations__min_1', \n",
    "                             'boiler_default_max_ch_fan_rotations__min_1', \n",
    "                             'batch_import_remeha_g_use_ch_lhv__W',\n",
    "                             'batch_import_remeha_temp_set__degC',\n",
    "                             'batch_import_remeha_temp_in__degC',\n",
    "                             'device_living_room_calibrated_temp_in__degC',\n",
    "                             'batch_import_remeha_temp_sup__degC',\n",
    "                             'batch_import_remeha_temp_ret__degC',\n",
    "                             'batch_import_remeha_temp_ch_sup_max__degC', \n",
    "                             'min_fan_rotations__min_1',\n",
    "                             'max_ch_fan_rotations__min_1',\n",
    "                             'power_ch_min__kW',\n",
    "                             'power_ch_max__kW']]"
   ]
  },
  {
   "cell_type": "code",
   "execution_count": null,
   "id": "617a6541-6c0e-444a-aa40-f91f4249c628",
   "metadata": {},
   "outputs": [],
   "source": [
    "remeha2nfh = {\n",
    "    'parHeFanRpmChMax': 'batch_import_remeha_ch_set_fan_rotations_max__min_1',\n",
    "    'parHeFanRpmMin': 'batch_import_remeha_ch_set_fan_rotations_min__min_1',\n",
    "    'parHePowerMax': 'power_ch_max__kW',\n",
    "    'parHePowerMin': 'power_ch_min__kW',\n",
    "    'parHeFanRpmMin.Minimum': 'min_fan_rotations__min_1',\n",
    "    'parHeFanRpmChMax.Maximum': 'max_ch_fan_rotations__min_1',\n",
    "    'varHeFanRpm': 'batch_import_remeha_fan_rotations__min_1',\n",
    "    'varApPowerActual': 'batch_import_remeha_g_use_ch_and_dhw__kW0'\n",
    "}\n"
   ]
  },
  {
   "cell_type": "code",
   "execution_count": null,
   "id": "77cbfda8-cb66-4de8-95cf-d65bc233d67f",
   "metadata": {},
   "outputs": [],
   "source": [
    "%%time\n",
    "df_heat_dist.loc[:,'calculated_boiler_ramp_kW_min'] = ((df_heat_dist[remeha2nfh['parHePowerMax']] - df_heat_dist[remeha2nfh['parHePowerMin']])\n",
    "                                                       / \n",
    "                                                       ( df_heat_dist[remeha2nfh['parHeFanRpmChMax.Maximum']] -  df_heat_dist[remeha2nfh['parHeFanRpmMin.Minimum']])\n",
    "                                                      )\n",
    "\n",
    "# Create lookup value for boiler load fraction, rounded to 2 decimals \n",
    "df_heat_dist.loc[:,'calculated_p_load__kW%'] = ((df_heat_dist[remeha2nfh['varHeFanRpm']] - df_heat_dist[remeha2nfh['parHeFanRpmMin.Minimum']])\n",
    "                                                /\n",
    "                                                (df_heat_dist[remeha2nfh['parHeFanRpmChMax.Maximum']] - df_heat_dist[remeha2nfh['parHeFanRpmMin.Minimum']])\n",
    "                                                * 100\n",
    "                                               ).round().astype('Int16')\n",
    "\n",
    "df_heat_dist.loc[:,'rounded_temp_ret__degC'] = df_heat_dist['batch_import_remeha_temp_ret__degC'].round().astype('Int8')\n",
    "\n",
    "df_heat_dist.loc[:,'calculated_g_use_min_lhv__kW'] = (df_heat_dist[remeha2nfh['parHePowerMin']] + \n",
    "                                                      df_heat_dist['calculated_boiler_ramp_kW_min'] * \n",
    "                                                      (df_heat_dist[remeha2nfh['parHePowerMin']] - df_heat_dist[remeha2nfh['parHeFanRpmMin.Minimum']])\n",
    "                                                      /\n",
    "                                                      (df_heat_dist[remeha2nfh['parHeFanRpmChMax.Maximum']] - df_heat_dist[remeha2nfh['parHeFanRpmMin.Minimum']])\n",
    "                                                     )\n",
    "                                                    \n",
    "\n",
    "df_heat_dist.loc[:,'calculated_g_use_ch_lhv__kW'] = df_heat_dist['calculated_g_use_min_lhv__kW'] + df_heat_dist['calculated_p_load__kW%']/100 * df_heat_dist['calculated_boiler_ramp_kW_min'] \n",
    "\n",
    "# Set the calculated gas use for central heating to zero when the boiler was not burning for central heating\n",
    "df_heat_dist.loc[df_heat_dist['batch_import_remeha_boiler_status_burning_ch__bool'] == False, 'calculated_g_use_min_lhv__kW'] = 0\n",
    "\n",
    "\n",
    "df_heat_dist.loc[:,'calculated_g_use_ch_lhv_rpm_direct__kW'] = (df_heat_dist[remeha2nfh['parHePowerMin']] \n",
    "                                                                + df_heat_dist['calculated_boiler_ramp_kW_min'] \n",
    "                                                                * (df_heat_dist[remeha2nfh['varHeFanRpm']] - df_heat_dist[remeha2nfh['parHeFanRpmMin.Minimum']])\n",
    "                                                                /\n",
    "                                                                (df_heat_dist[remeha2nfh['parHeFanRpmChMax.Maximum']] -  df_heat_dist[remeha2nfh['parHeFanRpmMin.Minimum']])\n",
    "                                                               )\n",
    "\n",
    "# Set the calculated gas use for central heating to zero when the boiler was not burning for central heating\n",
    "df_heat_dist.loc[df_heat_dist['batch_import_remeha_boiler_status_burning_ch__bool'] == False, 'calculated_g_use_ch_lhv_rpm_direct__kW'] = 0\n",
    "\n",
    "\n",
    "df_heat_dist.loc[:,'calculated_g_use_ch_hhv__kW'] = df_heat_dist['calculated_g_use_ch_lhv__kW'] /  g_groningen_lhv___MJ_m_3 *  g_groningen_hhv___MJ_m_3  \n",
    "\n",
    "df_heat_dist.loc[:,'calculated_g_use_ch_hhv_rpm_direct__kW'] = df_heat_dist['calculated_g_use_ch_lhv_rpm_direct__kW'] /  g_groningen_lhv___MJ_m_3 *  g_groningen_hhv___MJ_m_3  "
   ]
  },
  {
   "cell_type": "code",
   "execution_count": null,
   "id": "4d857cb9-9016-465f-baa6-315647dd92ad",
   "metadata": {},
   "outputs": [],
   "source": [
    "df_heat_dist.info()"
   ]
  },
  {
   "cell_type": "code",
   "execution_count": null,
   "id": "44565063-7ea8-45b1-a313-c9c09b2bea26",
   "metadata": {},
   "outputs": [],
   "source": [
    "df_heat_dist[df_heat_dist['batch_import_remeha_boiler_status_burning_ch__bool'] == True].groupby(level='id').agg({\n",
    "    'power_ch_min__kW': 'mean',\n",
    "    'power_ch_max__kW': 'mean',\n",
    "    'min_fan_rotations__min_1': 'mean',\n",
    "    'batch_import_remeha_ch_set_fan_rotations_min__min_1': 'mean',\n",
    "    'boiler_default_min_fan_rotations__min_1': 'mean', \n",
    "    'boiler_default_max_ch_fan_rotations__min_1': 'mean', \n",
    "    'batch_import_remeha_ch_set_fan_rotations_max__min_1': 'mean',\n",
    "    'max_ch_fan_rotations__min_1': 'mean',\n",
    "    'batch_import_remeha_fan_rotations__min_1': ['min', 'mean', 'max'],\n",
    "    'calculated_boiler_ramp_kW_min': 'mean',\n",
    "    'calculated_p_load__kW%': ['min', 'mean', 'max'],\n",
    "    'calculated_g_use_ch_lhv__kW': ['min', 'mean', 'max'],\n",
    "    'calculated_g_use_ch_lhv_rpm_direct__kW': ['min', 'mean', 'max'],\n",
    "    'calculated_g_use_ch_hhv__kW': ['min', 'mean', 'max'],\n",
    "    'calculated_g_use_ch_hhv_rpm_direct__kW': ['min', 'mean', 'max'],\n",
    "}).T"
   ]
  },
  {
   "cell_type": "markdown",
   "id": "5d523bbc-19cc-49fe-9893-1043c931c370",
   "metadata": {},
   "source": [
    "### I don't trust calculation with negative values for calculated_p_load__kW%, so revert back to using return temp only"
   ]
  },
  {
   "cell_type": "code",
   "execution_count": null,
   "id": "27f5a18f-c2e0-42f1-a74e-15964cda503b",
   "metadata": {},
   "outputs": [],
   "source": [
    "%%time\n",
    "# Attempt to read the Parquet file\n",
    "try:\n",
    "    df_boiler_efficiency = pd.read_parquet(\n",
    "        boiler_returntemp_efficiency_file_path, \n",
    "        # boiler_returntemp_load_efficiency_file_path, \n",
    "        engine='pyarrow',\n",
    "        dtype_backend='numpy_nullable'\n",
    "        )\n",
    "    print(\"File was successfully read without specifying compression codec.\")\n",
    "except Exception as e:\n",
    "    print(f\"Error reading file: {e}\")"
   ]
  },
  {
   "cell_type": "code",
   "execution_count": null,
   "id": "ebef5d8b-7be6-42a6-8c18-09bbe7216abf",
   "metadata": {},
   "outputs": [],
   "source": [
    "%%time\n",
    "# Extract id and rounded_temp_ret__degC values\n",
    "id_values = df_heat_dist.index.get_level_values('id')\n",
    "temp_ret_values = df_heat_dist['rounded_temp_ret__degC']\n",
    "\n",
    "# Lookup efficiency vectorized\n",
    "def lookup_efficiency_vectorized(id_vals, temp_vals, df_efficiency, df_homes):\n",
    "    brand_models = df_homes.loc[id_vals, 'brand_model'].values\n",
    "    efficiency_values = np.empty(len(brand_models))\n",
    "    \n",
    "    for i, (model, temp) in enumerate(zip(brand_models, temp_vals)):\n",
    "        try:\n",
    "            efficiency_values[i] = df_efficiency.loc[(model, temp), 'eta_ch_hhv__W0']\n",
    "        except KeyError:\n",
    "            efficiency_values[i] = np.nan  # or some default value\n",
    "    \n",
    "    return efficiency_values\n",
    "\n",
    "\n",
    "# Apply the vectorized lookup\n",
    "df_heat_dist['eta_ch_hhv__W0'] = lookup_efficiency_vectorized(id_values, temp_ret_values, df_boiler_efficiency, df_homes)"
   ]
  },
  {
   "cell_type": "code",
   "execution_count": null,
   "id": "86fa2623-48ea-43f9-b7fb-3268b64a105e",
   "metadata": {},
   "outputs": [],
   "source": [
    "df_heat_dist['calculated_Q_gain_ch__W'] = df_heat_dist['batch_import_remeha_g_use_ch_lhv__W'] *  g_groningen_hhv___MJ_m_3 /  g_groningen_lhv___MJ_m_3 * df_heat_dist['eta_ch_hhv__W0']"
   ]
  },
  {
   "cell_type": "code",
   "execution_count": null,
   "id": "bf3fb3cd-e45a-4ed5-b930-55d66bf97fe4",
   "metadata": {},
   "outputs": [],
   "source": [
    "list(df_heat_dist.columns)"
   ]
  },
  {
   "cell_type": "code",
   "execution_count": 55,
   "id": "b1db6754-7976-4838-b9d0-7c00286c208d",
   "metadata": {},
   "outputs": [],
   "source": [
    "describe = df_heat_dist.describe()"
   ]
  },
  {
   "cell_type": "code",
   "execution_count": 59,
   "id": "e8918b29-aeef-408c-89a1-6928ee26e46c",
   "metadata": {},
   "outputs": [
    {
     "data": {
      "text/html": [
       "<div>\n",
       "<style scoped>\n",
       "    .dataframe tbody tr th:only-of-type {\n",
       "        vertical-align: middle;\n",
       "    }\n",
       "\n",
       "    .dataframe tbody tr th {\n",
       "        vertical-align: top;\n",
       "    }\n",
       "\n",
       "    .dataframe thead th {\n",
       "        text-align: right;\n",
       "    }\n",
       "</style>\n",
       "<table border=\"1\" class=\"dataframe\">\n",
       "  <thead>\n",
       "    <tr style=\"text-align: right;\">\n",
       "      <th></th>\n",
       "      <th>batch_import_KNMI_ghi__W_m_2</th>\n",
       "      <th>batch_import_KNMI_temp_out__degC</th>\n",
       "      <th>batch_import_KNMI_wind__m_s_1</th>\n",
       "      <th>device_p1-reader_g_use_hhv__W</th>\n",
       "      <th>batch_import_remeha_fan_rotations__min_1</th>\n",
       "      <th>batch_import_remeha_ch_set_fan_rotations_min__min_1</th>\n",
       "      <th>batch_import_remeha_ch_set_fan_rotations_max__min_1</th>\n",
       "      <th>boiler_default_min_fan_rotations__min_1</th>\n",
       "      <th>boiler_default_max_ch_fan_rotations__min_1</th>\n",
       "      <th>batch_import_remeha_g_use_ch_lhv__W</th>\n",
       "      <th>...</th>\n",
       "      <th>calculated_boiler_ramp_kW_min</th>\n",
       "      <th>calculated_p_load__kW%</th>\n",
       "      <th>rounded_temp_ret__degC</th>\n",
       "      <th>calculated_g_use_min_lhv__kW</th>\n",
       "      <th>calculated_g_use_ch_lhv__kW</th>\n",
       "      <th>calculated_g_use_ch_lhv_rpm_direct__kW</th>\n",
       "      <th>calculated_g_use_ch_hhv__kW</th>\n",
       "      <th>calculated_g_use_ch_hhv_rpm_direct__kW</th>\n",
       "      <th>eta_ch_hhv__W0</th>\n",
       "      <th>calculated_Q_gain_ch__W</th>\n",
       "    </tr>\n",
       "  </thead>\n",
       "  <tbody>\n",
       "    <tr>\n",
       "      <th>count</th>\n",
       "      <td>3635480.0</td>\n",
       "      <td>3656420.0</td>\n",
       "      <td>3653450.0</td>\n",
       "      <td>1808332.0</td>\n",
       "      <td>1799967.0</td>\n",
       "      <td>1844974.0</td>\n",
       "      <td>1844974.0</td>\n",
       "      <td>9582620.0</td>\n",
       "      <td>9582620.0</td>\n",
       "      <td>2139540.0</td>\n",
       "      <td>...</td>\n",
       "      <td>9582620.0</td>\n",
       "      <td>1799967.0</td>\n",
       "      <td>1828454.0</td>\n",
       "      <td>9582620.0</td>\n",
       "      <td>1799967.0</td>\n",
       "      <td>1820410.0</td>\n",
       "      <td>1799967.0</td>\n",
       "      <td>1820410.0</td>\n",
       "      <td>1.748968e+06</td>\n",
       "      <td>1748752.0</td>\n",
       "    </tr>\n",
       "    <tr>\n",
       "      <th>mean</th>\n",
       "      <td>47.511566</td>\n",
       "      <td>6.660387</td>\n",
       "      <td>4.817783</td>\n",
       "      <td>1763.303542</td>\n",
       "      <td>443.603009</td>\n",
       "      <td>1986.387001</td>\n",
       "      <td>4682.656124</td>\n",
       "      <td>1912.029075</td>\n",
       "      <td>4819.611922</td>\n",
       "      <td>722.884774</td>\n",
       "      <td>...</td>\n",
       "      <td>0.00563</td>\n",
       "      <td>-14.290143</td>\n",
       "      <td>36.128834</td>\n",
       "      <td>2.557141</td>\n",
       "      <td>3.000744</td>\n",
       "      <td>0.518837</td>\n",
       "      <td>3.334476</td>\n",
       "      <td>0.57654</td>\n",
       "      <td>9.345378e-01</td>\n",
       "      <td>762.281057</td>\n",
       "    </tr>\n",
       "    <tr>\n",
       "      <th>std</th>\n",
       "      <td>94.617531</td>\n",
       "      <td>4.116098</td>\n",
       "      <td>2.657293</td>\n",
       "      <td>3184.463275</td>\n",
       "      <td>970.015466</td>\n",
       "      <td>272.409581</td>\n",
       "      <td>832.49812</td>\n",
       "      <td>270.939227</td>\n",
       "      <td>605.23595</td>\n",
       "      <td>5956.107535</td>\n",
       "      <td>...</td>\n",
       "      <td>0.000614</td>\n",
       "      <td>16.161972</td>\n",
       "      <td>12.823676</td>\n",
       "      <td>1.432405</td>\n",
       "      <td>1.002551</td>\n",
       "      <td>1.228909</td>\n",
       "      <td>1.114051</td>\n",
       "      <td>1.365584</td>\n",
       "      <td>3.487368e-02</td>\n",
       "      <td>6820.353218</td>\n",
       "    </tr>\n",
       "    <tr>\n",
       "      <th>min</th>\n",
       "      <td>0.0</td>\n",
       "      <td>-8.733984</td>\n",
       "      <td>0.00075</td>\n",
       "      <td>0.0</td>\n",
       "      <td>0.0</td>\n",
       "      <td>1870.0</td>\n",
       "      <td>2700.0</td>\n",
       "      <td>1100.0</td>\n",
       "      <td>4200.0</td>\n",
       "      <td>0.0</td>\n",
       "      <td>...</td>\n",
       "      <td>0.004051</td>\n",
       "      <td>-32.0</td>\n",
       "      <td>10.0</td>\n",
       "      <td>0.0</td>\n",
       "      <td>2.098065</td>\n",
       "      <td>0.0</td>\n",
       "      <td>2.331405</td>\n",
       "      <td>0.0</td>\n",
       "      <td>8.674284e-01</td>\n",
       "      <td>0.0</td>\n",
       "    </tr>\n",
       "    <tr>\n",
       "      <th>25%</th>\n",
       "      <td>0.0</td>\n",
       "      <td>4.142709</td>\n",
       "      <td>2.909161</td>\n",
       "      <td>0.0</td>\n",
       "      <td>0.0</td>\n",
       "      <td>1870.0</td>\n",
       "      <td>4400.0</td>\n",
       "      <td>1870.0</td>\n",
       "      <td>4400.0</td>\n",
       "      <td>0.0</td>\n",
       "      <td>...</td>\n",
       "      <td>0.005048</td>\n",
       "      <td>-25.0</td>\n",
       "      <td>25.0</td>\n",
       "      <td>2.099025</td>\n",
       "      <td>2.098065</td>\n",
       "      <td>0.0</td>\n",
       "      <td>2.331405</td>\n",
       "      <td>0.0</td>\n",
       "      <td>9.029543e-01</td>\n",
       "      <td>0.0</td>\n",
       "    </tr>\n",
       "    <tr>\n",
       "      <th>50%</th>\n",
       "      <td>0.0</td>\n",
       "      <td>7.592141</td>\n",
       "      <td>4.329182</td>\n",
       "      <td>29.308334</td>\n",
       "      <td>0.0</td>\n",
       "      <td>1900.0</td>\n",
       "      <td>4600.0</td>\n",
       "      <td>1900.0</td>\n",
       "      <td>4700.0</td>\n",
       "      <td>0.0</td>\n",
       "      <td>...</td>\n",
       "      <td>0.005304</td>\n",
       "      <td>-19.0</td>\n",
       "      <td>34.0</td>\n",
       "      <td>2.598677</td>\n",
       "      <td>2.599154</td>\n",
       "      <td>0.0</td>\n",
       "      <td>2.888223</td>\n",
       "      <td>0.0</td>\n",
       "      <td>9.445926e-01</td>\n",
       "      <td>0.0</td>\n",
       "    </tr>\n",
       "    <tr>\n",
       "      <th>75%</th>\n",
       "      <td>52.235596</td>\n",
       "      <td>9.609193</td>\n",
       "      <td>6.248178</td>\n",
       "      <td>2442.361111</td>\n",
       "      <td>0.0</td>\n",
       "      <td>1950.0</td>\n",
       "      <td>4700.0</td>\n",
       "      <td>1950.0</td>\n",
       "      <td>4700.0</td>\n",
       "      <td>0.0</td>\n",
       "      <td>...</td>\n",
       "      <td>0.006393</td>\n",
       "      <td>-19.0</td>\n",
       "      <td>46.0</td>\n",
       "      <td>4.398704</td>\n",
       "      <td>4.496809</td>\n",
       "      <td>0.0</td>\n",
       "      <td>4.996928</td>\n",
       "      <td>0.0</td>\n",
       "      <td>9.647679e-01</td>\n",
       "      <td>0.0</td>\n",
       "    </tr>\n",
       "    <tr>\n",
       "      <th>max</th>\n",
       "      <td>691.650757</td>\n",
       "      <td>18.942167</td>\n",
       "      <td>21.418507</td>\n",
       "      <td>38752.12963</td>\n",
       "      <td>10340.0</td>\n",
       "      <td>3200.0</td>\n",
       "      <td>7000.0</td>\n",
       "      <td>3200.0</td>\n",
       "      <td>7000.0</td>\n",
       "      <td>60000.0</td>\n",
       "      <td>...</td>\n",
       "      <td>0.006393</td>\n",
       "      <td>101.0</td>\n",
       "      <td>92.0</td>\n",
       "      <td>4.498407</td>\n",
       "      <td>4.504608</td>\n",
       "      <td>4.504292</td>\n",
       "      <td>5.005594</td>\n",
       "      <td>5.005244</td>\n",
       "      <td>9.978703e-01</td>\n",
       "      <td>66530.994302</td>\n",
       "    </tr>\n",
       "  </tbody>\n",
       "</table>\n",
       "<p>8 rows × 30 columns</p>\n",
       "</div>"
      ],
      "text/plain": [
       "       batch_import_KNMI_ghi__W_m_2  batch_import_KNMI_temp_out__degC  \\\n",
       "count                     3635480.0                         3656420.0   \n",
       "mean                      47.511566                          6.660387   \n",
       "std                       94.617531                          4.116098   \n",
       "min                             0.0                         -8.733984   \n",
       "25%                             0.0                          4.142709   \n",
       "50%                             0.0                          7.592141   \n",
       "75%                       52.235596                          9.609193   \n",
       "max                      691.650757                         18.942167   \n",
       "\n",
       "       batch_import_KNMI_wind__m_s_1  device_p1-reader_g_use_hhv__W  \\\n",
       "count                      3653450.0                      1808332.0   \n",
       "mean                        4.817783                    1763.303542   \n",
       "std                         2.657293                    3184.463275   \n",
       "min                          0.00075                            0.0   \n",
       "25%                         2.909161                            0.0   \n",
       "50%                         4.329182                      29.308334   \n",
       "75%                         6.248178                    2442.361111   \n",
       "max                        21.418507                    38752.12963   \n",
       "\n",
       "       batch_import_remeha_fan_rotations__min_1  \\\n",
       "count                                 1799967.0   \n",
       "mean                                 443.603009   \n",
       "std                                  970.015466   \n",
       "min                                         0.0   \n",
       "25%                                         0.0   \n",
       "50%                                         0.0   \n",
       "75%                                         0.0   \n",
       "max                                     10340.0   \n",
       "\n",
       "       batch_import_remeha_ch_set_fan_rotations_min__min_1  \\\n",
       "count                                          1844974.0     \n",
       "mean                                         1986.387001     \n",
       "std                                           272.409581     \n",
       "min                                               1870.0     \n",
       "25%                                               1870.0     \n",
       "50%                                               1900.0     \n",
       "75%                                               1950.0     \n",
       "max                                               3200.0     \n",
       "\n",
       "       batch_import_remeha_ch_set_fan_rotations_max__min_1  \\\n",
       "count                                          1844974.0     \n",
       "mean                                         4682.656124     \n",
       "std                                            832.49812     \n",
       "min                                               2700.0     \n",
       "25%                                               4400.0     \n",
       "50%                                               4600.0     \n",
       "75%                                               4700.0     \n",
       "max                                               7000.0     \n",
       "\n",
       "       boiler_default_min_fan_rotations__min_1  \\\n",
       "count                                9582620.0   \n",
       "mean                               1912.029075   \n",
       "std                                 270.939227   \n",
       "min                                     1100.0   \n",
       "25%                                     1870.0   \n",
       "50%                                     1900.0   \n",
       "75%                                     1950.0   \n",
       "max                                     3200.0   \n",
       "\n",
       "       boiler_default_max_ch_fan_rotations__min_1  \\\n",
       "count                                   9582620.0   \n",
       "mean                                  4819.611922   \n",
       "std                                     605.23595   \n",
       "min                                        4200.0   \n",
       "25%                                        4400.0   \n",
       "50%                                        4700.0   \n",
       "75%                                        4700.0   \n",
       "max                                        7000.0   \n",
       "\n",
       "       batch_import_remeha_g_use_ch_lhv__W  ...  \\\n",
       "count                            2139540.0  ...   \n",
       "mean                            722.884774  ...   \n",
       "std                            5956.107535  ...   \n",
       "min                                    0.0  ...   \n",
       "25%                                    0.0  ...   \n",
       "50%                                    0.0  ...   \n",
       "75%                                    0.0  ...   \n",
       "max                                60000.0  ...   \n",
       "\n",
       "       calculated_boiler_ramp_kW_min  calculated_p_load__kW%  \\\n",
       "count                      9582620.0               1799967.0   \n",
       "mean                         0.00563              -14.290143   \n",
       "std                         0.000614               16.161972   \n",
       "min                         0.004051                   -32.0   \n",
       "25%                         0.005048                   -25.0   \n",
       "50%                         0.005304                   -19.0   \n",
       "75%                         0.006393                   -19.0   \n",
       "max                         0.006393                   101.0   \n",
       "\n",
       "       rounded_temp_ret__degC  calculated_g_use_min_lhv__kW  \\\n",
       "count               1828454.0                     9582620.0   \n",
       "mean                36.128834                      2.557141   \n",
       "std                 12.823676                      1.432405   \n",
       "min                      10.0                           0.0   \n",
       "25%                      25.0                      2.099025   \n",
       "50%                      34.0                      2.598677   \n",
       "75%                      46.0                      4.398704   \n",
       "max                      92.0                      4.498407   \n",
       "\n",
       "       calculated_g_use_ch_lhv__kW  calculated_g_use_ch_lhv_rpm_direct__kW  \\\n",
       "count                    1799967.0                               1820410.0   \n",
       "mean                      3.000744                                0.518837   \n",
       "std                       1.002551                                1.228909   \n",
       "min                       2.098065                                     0.0   \n",
       "25%                       2.098065                                     0.0   \n",
       "50%                       2.599154                                     0.0   \n",
       "75%                       4.496809                                     0.0   \n",
       "max                       4.504608                                4.504292   \n",
       "\n",
       "       calculated_g_use_ch_hhv__kW  calculated_g_use_ch_hhv_rpm_direct__kW  \\\n",
       "count                    1799967.0                               1820410.0   \n",
       "mean                      3.334476                                 0.57654   \n",
       "std                       1.114051                                1.365584   \n",
       "min                       2.331405                                     0.0   \n",
       "25%                       2.331405                                     0.0   \n",
       "50%                       2.888223                                     0.0   \n",
       "75%                       4.996928                                     0.0   \n",
       "max                       5.005594                                5.005244   \n",
       "\n",
       "       eta_ch_hhv__W0  calculated_Q_gain_ch__W  \n",
       "count    1.748968e+06                1748752.0  \n",
       "mean     9.345378e-01               762.281057  \n",
       "std      3.487368e-02              6820.353218  \n",
       "min      8.674284e-01                      0.0  \n",
       "25%      9.029543e-01                      0.0  \n",
       "50%      9.445926e-01                      0.0  \n",
       "75%      9.647679e-01                      0.0  \n",
       "max      9.978703e-01             66530.994302  \n",
       "\n",
       "[8 rows x 30 columns]"
      ]
     },
     "execution_count": 59,
     "metadata": {},
     "output_type": "execute_result"
    }
   ],
   "source": [
    "describe"
   ]
  },
  {
   "cell_type": "code",
   "execution_count": 61,
   "id": "8c73ee1e-7d84-4371-ba2c-cc9417e8faf1",
   "metadata": {},
   "outputs": [
    {
     "data": {
      "text/plain": [
       "18.995998"
      ]
     },
     "execution_count": 61,
     "metadata": {},
     "output_type": "execute_result"
    }
   ],
   "source": [
    "df_prep[\"batch_import_remeha_temp_in__degC\"].mean()"
   ]
  },
  {
   "cell_type": "code",
   "execution_count": 62,
   "id": "1a0778ff-2268-454a-9561-80f937b4240b",
   "metadata": {},
   "outputs": [
    {
     "data": {
      "text/plain": [
       "6.6603866"
      ]
     },
     "execution_count": 62,
     "metadata": {},
     "output_type": "execute_result"
    }
   ],
   "source": [
    "df_prep[\"batch_import_KNMI_temp_out__degC\"].mean()"
   ]
  },
  {
   "cell_type": "code",
   "execution_count": 63,
   "id": "d08a6ec1-0778-42ba-8c9e-a02b7ffbb809",
   "metadata": {},
   "outputs": [
    {
     "data": {
      "text/plain": [
       "12.335611"
      ]
     },
     "execution_count": 63,
     "metadata": {},
     "output_type": "execute_result"
    }
   ],
   "source": [
    "df_prep[\"batch_import_remeha_temp_in__degC\"].mean() - df_prep[\"batch_import_KNMI_temp_out__degC\"].mean()"
   ]
  },
  {
   "cell_type": "markdown",
   "id": "15360547-2b20-491d-88c1-59d2b8f71648",
   "metadata": {},
   "source": [
    "## Writing results to parquet file"
   ]
  },
  {
   "cell_type": "code",
   "execution_count": null,
   "id": "df06a9f7-5a3a-441d-9e7e-c13cddbdcaa9",
   "metadata": {},
   "outputs": [],
   "source": [
    "%%time \n",
    "df_heat_dist.to_parquet(rhc_heat_dist_preprocessed_poperties_file, index=True, engine='pyarrow')"
   ]
  },
  {
   "cell_type": "markdown",
   "id": "0c9c4e11-6be1-4175-93ef-443b49d7732a",
   "metadata": {},
   "source": [
    "## Overview of efficiencies in practice"
   ]
  },
  {
   "cell_type": "code",
   "execution_count": 64,
   "id": "e4f5444c-43a0-40a4-9e64-aedaa971281e",
   "metadata": {},
   "outputs": [
    {
     "data": {
      "text/plain": [
       "0.9469836705980396"
      ]
     },
     "execution_count": 64,
     "metadata": {},
     "output_type": "execute_result"
    }
   ],
   "source": [
    "df_heat_dist[df_heat_dist['batch_import_remeha_boiler_status_burning_ch__bool'] == True]['eta_ch_hhv__W0'].mean()"
   ]
  },
  {
   "cell_type": "code",
   "execution_count": 65,
   "id": "6cbb626b-33f7-4e07-a2f0-ce94a5ba6689",
   "metadata": {},
   "outputs": [
    {
     "data": {
      "text/html": [
       "<div>\n",
       "<style scoped>\n",
       "    .dataframe tbody tr th:only-of-type {\n",
       "        vertical-align: middle;\n",
       "    }\n",
       "\n",
       "    .dataframe tbody tr th {\n",
       "        vertical-align: top;\n",
       "    }\n",
       "\n",
       "    .dataframe thead th {\n",
       "        text-align: right;\n",
       "    }\n",
       "</style>\n",
       "<table border=\"1\" class=\"dataframe\">\n",
       "  <thead>\n",
       "    <tr style=\"text-align: right;\">\n",
       "      <th></th>\n",
       "      <th>eta_ch_hhv__W0</th>\n",
       "      <th>batch_import_remeha_temp_ret__degC</th>\n",
       "      <th>batch_import_remeha_temp_ch_sup_max__degC</th>\n",
       "      <th>batch_import_remeha_temp_sup__degC</th>\n",
       "    </tr>\n",
       "    <tr>\n",
       "      <th>id</th>\n",
       "      <th></th>\n",
       "      <th></th>\n",
       "      <th></th>\n",
       "      <th></th>\n",
       "    </tr>\n",
       "  </thead>\n",
       "  <tbody>\n",
       "    <tr>\n",
       "      <th>412715</th>\n",
       "      <td>0.965476</td>\n",
       "      <td>25.570099</td>\n",
       "      <td>80.0</td>\n",
       "      <td>36.453041</td>\n",
       "    </tr>\n",
       "    <tr>\n",
       "      <th>450298</th>\n",
       "      <td>0.959634</td>\n",
       "      <td>25.651007</td>\n",
       "      <td>55.0</td>\n",
       "      <td>37.561314</td>\n",
       "    </tr>\n",
       "    <tr>\n",
       "      <th>494233</th>\n",
       "      <td>0.958016</td>\n",
       "      <td>29.913679</td>\n",
       "      <td>60.0</td>\n",
       "      <td>37.862362</td>\n",
       "    </tr>\n",
       "    <tr>\n",
       "      <th>458852</th>\n",
       "      <td>0.957663</td>\n",
       "      <td>24.887928</td>\n",
       "      <td>80.0</td>\n",
       "      <td>46.531445</td>\n",
       "    </tr>\n",
       "    <tr>\n",
       "      <th>404873</th>\n",
       "      <td>0.956665</td>\n",
       "      <td>30.96101</td>\n",
       "      <td>80.0</td>\n",
       "      <td>41.730217</td>\n",
       "    </tr>\n",
       "    <tr>\n",
       "      <th>401632</th>\n",
       "      <td>0.953306</td>\n",
       "      <td>28.198912</td>\n",
       "      <td>80.0</td>\n",
       "      <td>40.77948</td>\n",
       "    </tr>\n",
       "    <tr>\n",
       "      <th>449134</th>\n",
       "      <td>0.952703</td>\n",
       "      <td>32.473038</td>\n",
       "      <td>80.0</td>\n",
       "      <td>46.561069</td>\n",
       "    </tr>\n",
       "    <tr>\n",
       "      <th>424197</th>\n",
       "      <td>0.950788</td>\n",
       "      <td>32.792164</td>\n",
       "      <td>80.0</td>\n",
       "      <td>43.856209</td>\n",
       "    </tr>\n",
       "    <tr>\n",
       "      <th>495906</th>\n",
       "      <td>0.948509</td>\n",
       "      <td>30.992331</td>\n",
       "      <td>80.0</td>\n",
       "      <td>52.52639</td>\n",
       "    </tr>\n",
       "    <tr>\n",
       "      <th>478667</th>\n",
       "      <td>0.947493</td>\n",
       "      <td>33.693531</td>\n",
       "      <td>80.0</td>\n",
       "      <td>42.393028</td>\n",
       "    </tr>\n",
       "    <tr>\n",
       "      <th>483173</th>\n",
       "      <td>0.946001</td>\n",
       "      <td>38.126865</td>\n",
       "      <td>80.0</td>\n",
       "      <td>43.969276</td>\n",
       "    </tr>\n",
       "    <tr>\n",
       "      <th>458000</th>\n",
       "      <td>0.945860</td>\n",
       "      <td>30.868326</td>\n",
       "      <td>76.41452</td>\n",
       "      <td>38.759079</td>\n",
       "    </tr>\n",
       "    <tr>\n",
       "      <th>444964</th>\n",
       "      <td>0.944296</td>\n",
       "      <td>32.708019</td>\n",
       "      <td>45.0</td>\n",
       "      <td>46.039673</td>\n",
       "    </tr>\n",
       "    <tr>\n",
       "      <th>487126</th>\n",
       "      <td>0.942858</td>\n",
       "      <td>32.867458</td>\n",
       "      <td>80.0</td>\n",
       "      <td>52.650097</td>\n",
       "    </tr>\n",
       "    <tr>\n",
       "      <th>456638</th>\n",
       "      <td>0.942601</td>\n",
       "      <td>36.028851</td>\n",
       "      <td>80.0</td>\n",
       "      <td>45.712017</td>\n",
       "    </tr>\n",
       "    <tr>\n",
       "      <th>410260</th>\n",
       "      <td>0.937387</td>\n",
       "      <td>36.087357</td>\n",
       "      <td>75.0</td>\n",
       "      <td>51.23785</td>\n",
       "    </tr>\n",
       "    <tr>\n",
       "      <th>430062</th>\n",
       "      <td>0.936694</td>\n",
       "      <td>33.931122</td>\n",
       "      <td>80.0</td>\n",
       "      <td>44.304226</td>\n",
       "    </tr>\n",
       "    <tr>\n",
       "      <th>434931</th>\n",
       "      <td>0.935258</td>\n",
       "      <td>35.536427</td>\n",
       "      <td>60.0</td>\n",
       "      <td>45.666367</td>\n",
       "    </tr>\n",
       "    <tr>\n",
       "      <th>403603</th>\n",
       "      <td>0.934796</td>\n",
       "      <td>36.241444</td>\n",
       "      <td>80.0</td>\n",
       "      <td>47.143005</td>\n",
       "    </tr>\n",
       "    <tr>\n",
       "      <th>429011</th>\n",
       "      <td>0.915495</td>\n",
       "      <td>46.154617</td>\n",
       "      <td>80.0</td>\n",
       "      <td>54.588249</td>\n",
       "    </tr>\n",
       "  </tbody>\n",
       "</table>\n",
       "</div>"
      ],
      "text/plain": [
       "        eta_ch_hhv__W0  batch_import_remeha_temp_ret__degC  \\\n",
       "id                                                           \n",
       "412715        0.965476                           25.570099   \n",
       "450298        0.959634                           25.651007   \n",
       "494233        0.958016                           29.913679   \n",
       "458852        0.957663                           24.887928   \n",
       "404873        0.956665                            30.96101   \n",
       "401632        0.953306                           28.198912   \n",
       "449134        0.952703                           32.473038   \n",
       "424197        0.950788                           32.792164   \n",
       "495906        0.948509                           30.992331   \n",
       "478667        0.947493                           33.693531   \n",
       "483173        0.946001                           38.126865   \n",
       "458000        0.945860                           30.868326   \n",
       "444964        0.944296                           32.708019   \n",
       "487126        0.942858                           32.867458   \n",
       "456638        0.942601                           36.028851   \n",
       "410260        0.937387                           36.087357   \n",
       "430062        0.936694                           33.931122   \n",
       "434931        0.935258                           35.536427   \n",
       "403603        0.934796                           36.241444   \n",
       "429011        0.915495                           46.154617   \n",
       "\n",
       "        batch_import_remeha_temp_ch_sup_max__degC  \\\n",
       "id                                                  \n",
       "412715                                       80.0   \n",
       "450298                                       55.0   \n",
       "494233                                       60.0   \n",
       "458852                                       80.0   \n",
       "404873                                       80.0   \n",
       "401632                                       80.0   \n",
       "449134                                       80.0   \n",
       "424197                                       80.0   \n",
       "495906                                       80.0   \n",
       "478667                                       80.0   \n",
       "483173                                       80.0   \n",
       "458000                                   76.41452   \n",
       "444964                                       45.0   \n",
       "487126                                       80.0   \n",
       "456638                                       80.0   \n",
       "410260                                       75.0   \n",
       "430062                                       80.0   \n",
       "434931                                       60.0   \n",
       "403603                                       80.0   \n",
       "429011                                       80.0   \n",
       "\n",
       "        batch_import_remeha_temp_sup__degC  \n",
       "id                                          \n",
       "412715                           36.453041  \n",
       "450298                           37.561314  \n",
       "494233                           37.862362  \n",
       "458852                           46.531445  \n",
       "404873                           41.730217  \n",
       "401632                            40.77948  \n",
       "449134                           46.561069  \n",
       "424197                           43.856209  \n",
       "495906                            52.52639  \n",
       "478667                           42.393028  \n",
       "483173                           43.969276  \n",
       "458000                           38.759079  \n",
       "444964                           46.039673  \n",
       "487126                           52.650097  \n",
       "456638                           45.712017  \n",
       "410260                            51.23785  \n",
       "430062                           44.304226  \n",
       "434931                           45.666367  \n",
       "403603                           47.143005  \n",
       "429011                           54.588249  "
      ]
     },
     "execution_count": 65,
     "metadata": {},
     "output_type": "execute_result"
    }
   ],
   "source": [
    "# Group by 'id' and calculate the mean for both 'eta_ch_hhv__W0' and 'batch_import_remeha_temp_ret__degC'\n",
    "df_heat_dist[df_heat_dist['batch_import_remeha_boiler_status_burning_ch__bool'] == True].groupby(level='id').agg({\n",
    "    'eta_ch_hhv__W0': 'mean',\n",
    "    'batch_import_remeha_temp_ret__degC': 'mean',\n",
    "    'batch_import_remeha_temp_ch_sup_max__degC': 'mean',\n",
    "    'batch_import_remeha_temp_sup__degC': 'mean'\n",
    "}).sort_values(by='eta_ch_hhv__W0', ascending=False)"
   ]
  },
  {
   "cell_type": "code",
   "execution_count": 78,
   "id": "db9618ff-33f3-433a-b746-c16ebb4a376c",
   "metadata": {},
   "outputs": [
    {
     "data": {
      "application/vnd.jupyter.widget-view+json": {
       "model_id": "8c46f334694149078958ba8e6f014599",
       "version_major": 2,
       "version_minor": 0
      },
      "image/png": "[encoded data removed]",
      "text/html": [
       "\n",
       "            <div style=\"display: inline-block;\">\n",
       "                <div class=\"jupyter-widgets widget-label\" style=\"text-align: center;\">\n",
       "                    Figure\n",
       "                </div>\n",
       "                <img src='data:image/png;base64,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' width=1200.0/>\n",
       "            </div>\n",
       "        "
      ],
      "text/plain": [
       "Canvas(toolbar=Toolbar(toolitems=[('Home', 'Reset original view', 'home', 'home'), ('Back', 'Back to previous …"
      ]
     },
     "metadata": {},
     "output_type": "display_data"
    }
   ],
   "source": [
    "Plot.nfh_property_per_id_boxplot(df_heat_dist, filter_col='batch_import_remeha_boiler_status_burning_ch__bool', property_col='eta_ch_hhv__W0')"
   ]
  },
  {
   "cell_type": "markdown",
   "id": "507cd983-ed58-43c5-a0cf-6964fe1112a7",
   "metadata": {},
   "source": [
    "## Writing results to multiple zipped CSV files"
   ]
  },
  {
   "cell_type": "code",
   "execution_count": null,
   "id": "1bdb8674-a05b-440a-b6a5-fda88b58e8ae",
   "metadata": {},
   "outputs": [],
   "source": [
    "# %%time \n",
    "# # uncomment this entire block of code to enable it \n",
    "# for home_id in tqdm(df_heat_dist.index.get_level_values('id').unique()):\n",
    "#     df_heat_dist.xs(home_id, drop_level=False).to_csv(\n",
    "#         f'{home_id}_heat_dist_preprocessed_properties.zip',\n",
    "#         encoding='utf-8',\n",
    "#         compression= dict(method='zip',\n",
    "#                           archive_name=f'{home_id}_heat_dist_preprocessed_properties.csv'),\n",
    "#         date_format='%Y-%m-%dT%H:%M:%S%z'\n",
    "#     )\n"
   ]
  },
  {
   "cell_type": "code",
   "execution_count": null,
   "id": "482f7e64-c1b4-4952-85cf-21f8e1280d13",
   "metadata": {},
   "outputs": [],
   "source": []
  }
 ],
 "metadata": {
  "kernelspec": {
   "display_name": "Python 3 (ipykernel)",
   "language": "python",
   "name": "python3"
  },
  "language_info": {
   "codemirror_mode": {
    "name": "ipython",
    "version": 3
   },
   "file_extension": ".py",
   "mimetype": "text/x-python",
   "name": "python",
   "nbconvert_exporter": "python",
   "pygments_lexer": "ipython3",
   "version": "3.11.6"
  }
 },
 "nbformat": 4,
 "nbformat_minor": 5
}
