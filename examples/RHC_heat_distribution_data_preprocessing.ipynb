{
 "cells": [
  {
   "cell_type": "markdown",
   "id": "1b9f977b-d0e8-4234-be01-e5042ace89d7",
   "metadata": {},
   "source": [
    "# Processing REDUCEDHEATARB data for heat distribution system model check"
   ]
  },
  {
   "cell_type": "code",
   "execution_count": null,
   "id": "05ed325e-13db-4323-9712-70fd5f4babc1",
   "metadata": {},
   "outputs": [],
   "source": [
    "import pandas as pd\n",
    "from tqdm.notebook import tqdm\n",
    "\n",
    "rhc_preprocessed_poperties_file='rhc_preprocessed_properties.parquet'\n",
    "rhc_heat_dist_preprocessed_poperties_file='rhc_heat_dist_preprocessed_properties.parquet'\n",
    "%load_ext autoreload\n",
    "\n",
    "%matplotlib inline\n",
    "%matplotlib widget\n",
    "\n",
    "import sys\n",
    "sys.path.append('../analysis')\n",
    "from nfh_utils import *"
   ]
  },
  {
   "cell_type": "markdown",
   "id": "ec5c913b-1d49-4282-8ec0-bceec2ba8e7c",
   "metadata": {},
   "source": [
    "## Reading preprocessed interpolated properties from a parquet file"
   ]
  },
  {
   "cell_type": "code",
   "execution_count": null,
   "id": "1418d73a-9260-4c2d-a624-96b6f304a04f",
   "metadata": {},
   "outputs": [],
   "source": [
    "%%time\n",
    "\n",
    "\n",
    "# Attempt to read the Parquet file\n",
    "try:\n",
    "    df_prep = pd.read_parquet(\n",
    "        rhc_preprocessed_poperties_file, \n",
    "        engine='pyarrow',\n",
    "        dtype_backend='numpy_nullable'\n",
    "        )\n",
    "    print(\"File was successfully read without specifying compression codec.\")\n",
    "except Exception as e:\n",
    "    print(f\"Error reading file: {e}\")\n",
    "\n",
    "#sorting the DataFrame index is needed to get good performance on certain filters\n",
    "#this guarding code to check whether DataFrames are properly sorted\n",
    "if not df_prep.index.is_monotonic_increasing:\n",
    "    print('df needed index sorting')\n",
    "    df_prep = df_prep.sort_index()  "
   ]
  },
  {
   "cell_type": "code",
   "execution_count": null,
   "id": "4ce49933-c611-46fa-a4a3-dd8da1d1a28f",
   "metadata": {},
   "outputs": [],
   "source": [
    "print(f\"df_prep.count().sum(): {df_prep.count().sum():_}\")"
   ]
  },
  {
   "cell_type": "code",
   "execution_count": null,
   "id": "134099ed-abe2-46c8-b19b-f3e1355a1641",
   "metadata": {},
   "outputs": [],
   "source": [
    "df_prep.info()"
   ]
  },
  {
   "cell_type": "code",
   "execution_count": null,
   "id": "a414a145-7a17-45bb-b600-4486116e354b",
   "metadata": {
    "scrolled": true
   },
   "outputs": [],
   "source": [
    "print(\"[\\n'\",\"', \\n'\".join(sorted(df_prep.columns)),\"'\\n]\")"
   ]
  },
  {
   "cell_type": "markdown",
   "id": "592511f3-8287-4001-94b7-3bf5f3a962fd",
   "metadata": {},
   "source": [
    "## Filtering values immediately relevant for heat distribution system modelling"
   ]
  },
  {
   "cell_type": "code",
   "execution_count": null,
   "id": "cefa323c-11a2-4d05-a5dc-e0f56e186f7a",
   "metadata": {},
   "outputs": [],
   "source": [
    "heat_distribution_props = [\n",
    "    'batch_import_KNMI_ghi__W_m_2', \n",
    "    'batch_import_KNMI_temp_out__degC', \n",
    "    'batch_import_KNMI_wind__m_s_1', \n",
    "    'device_p1-reader_g_use_hhv__W', \n",
    "    'batch_import_remeha_boiler_status_burning_ch__bool',\n",
    "    'batch_import_remeha_gas_valve_closed__bool', \n",
    "    'batch_import_remeha_gas_valve_open__bool', \n",
    "    'batch_import_remeha_g_use_ch_lhv__W',\n",
    "    'batch_import_remeha_temp_set__degC', \n",
    "    'batch_import_remeha_temp_in__degC', \n",
    "    'device_living_room_calibrated_temp_in__degC', \n",
    "    'batch_import_remeha_temp_sup__degC', \n",
    "    'batch_import_remeha_temp_ret__degC' \n",
    "]"
   ]
  },
  {
   "cell_type": "code",
   "execution_count": null,
   "id": "744d85ab-720d-46c0-a80e-8432d537bb35",
   "metadata": {},
   "outputs": [],
   "source": [
    "df_heat_dist = df_prep[heat_distribution_props].copy()"
   ]
  },
  {
   "cell_type": "code",
   "execution_count": null,
   "id": "21f14c87-2d60-4524-97d2-0f0531f79a0d",
   "metadata": {},
   "outputs": [],
   "source": [
    "print(f\"df_heat_dist.count().sum(): {df_heat_dist.count().sum():_}\")"
   ]
  },
  {
   "cell_type": "code",
   "execution_count": null,
   "id": "a1764750-1b44-439b-8ec9-8dd8bd7f6e71",
   "metadata": {},
   "outputs": [],
   "source": [
    "df_heat_dist.info()"
   ]
  },
  {
   "cell_type": "markdown",
   "id": "7d6cd5e2-e0f3-43b9-9468-50132e76186c",
   "metadata": {},
   "source": [
    "## Calculating additional values relevant for heat distribution system modelling"
   ]
  },
  {
   "cell_type": "code",
   "execution_count": null,
   "id": "38ba9bca-e806-4525-b716-cb7f5e570c82",
   "metadata": {},
   "outputs": [],
   "source": [
    "%%time\n",
    "\n",
    "# Filter out rows where either of the columns has NaN\n",
    "valid_rows = df_heat_dist[['batch_import_remeha_temp_sup__degC', 'batch_import_remeha_temp_ret__degC']].notna().all(axis=1)\n",
    "\n",
    "# Calculate the mean only for valid rows\n",
    "df_heat_dist.loc[valid_rows, 'calculated_temp_rad__degC'] = df_heat_dist.loc[valid_rows, ['batch_import_remeha_temp_sup__degC', 'batch_import_remeha_temp_ret__degC']].mean(axis=1)\n",
    "\n",
    "# Calculate Q_gain_ch__W based on national average efficiency\n",
    "df_heat_dist['calculated_Q_gain_ch__W'] = df_heat_dist['batch_import_remeha_g_use_ch_lhv__W'] *  g_groningen_hhv___MJ_m_3 /  g_groningen_lhv___MJ_m_3 * eta_ch_nl_avg_hhv__J0"
   ]
  },
  {
   "cell_type": "code",
   "execution_count": null,
   "id": "e4f5444c-43a0-40a4-9e64-aedaa971281e",
   "metadata": {},
   "outputs": [],
   "source": [
    "df_heat_dist.count()"
   ]
  },
  {
   "cell_type": "code",
   "execution_count": null,
   "id": "bf3fb3cd-e45a-4ed5-b930-55d66bf97fe4",
   "metadata": {},
   "outputs": [],
   "source": [
    "df_heat_dist.count()"
   ]
  },
  {
   "cell_type": "code",
   "execution_count": null,
   "id": "b1db6754-7976-4838-b9d0-7c00286c208d",
   "metadata": {},
   "outputs": [],
   "source": [
    "df_heat_dist.describe().T"
   ]
  },
  {
   "cell_type": "code",
   "execution_count": null,
   "id": "d08a6ec1-0778-42ba-8c9e-a02b7ffbb809",
   "metadata": {},
   "outputs": [],
   "source": [
    "df_heat_dist"
   ]
  },
  {
   "cell_type": "code",
   "execution_count": null,
   "id": "df06a9f7-5a3a-441d-9e7e-c13cddbdcaa9",
   "metadata": {},
   "outputs": [],
   "source": [
    "%%time \n",
    "df_heat_dist.to_parquet(rhc_heat_dist_preprocessed_poperties_file, index=True, engine='pyarrow')"
   ]
  },
  {
   "cell_type": "code",
   "execution_count": null,
   "id": "1bdb8674-a05b-440a-b6a5-fda88b58e8ae",
   "metadata": {},
   "outputs": [],
   "source": [
    "# %%time \n",
    "# # uncomment this entire block of code to enable it \n",
    "# for home_id in tqdm(df_heat_dist.index.get_level_values('id').unique()):\n",
    "#     df_heat_dist.xs(home_id, drop_level=False).to_csv(\n",
    "#         f'{home_id}_preprocessed_properties.zip',\n",
    "#         encoding='utf-8',\n",
    "#         compression= dict(method='zip',\n",
    "#                           archive_name=f'{home_id}_preprocessed_properties.csv'),\n",
    "#         date_format='%Y-%m-%dT%H:%M:%S%z'\n",
    "#     )\n"
   ]
  },
  {
   "cell_type": "code",
   "execution_count": null,
   "id": "482f7e64-c1b4-4952-85cf-21f8e1280d13",
   "metadata": {},
   "outputs": [],
   "source": []
  }
 ],
 "metadata": {
  "kernelspec": {
   "display_name": "Python 3 (ipykernel)",
   "language": "python",
   "name": "python3"
  },
  "language_info": {
   "codemirror_mode": {
    "name": "ipython",
    "version": 3
   },
   "file_extension": ".py",
   "mimetype": "text/x-python",
   "name": "python",
   "nbconvert_exporter": "python",
   "pygments_lexer": "ipython3",
   "version": "3.11.6"
  }
 },
 "nbformat": 4,
 "nbformat_minor": 5
}
