{
 "cells": [
  {
   "cell_type": "markdown",
   "id": "1b9f977b-d0e8-4234-be01-e5042ace89d7",
   "metadata": {},
   "source": [
    "# Processing REDUCEDHEATARB data for heat distribution system model check"
   ]
  },
  {
   "cell_type": "code",
   "execution_count": null,
   "id": "05ed325e-13db-4323-9712-70fd5f4babc1",
   "metadata": {},
   "outputs": [],
   "source": [
    "import pandas as pd\n",
    "import numpy as np\n",
    "from tqdm.notebook import tqdm\n",
    "\n",
    "# Files needed as input\n",
    "rhc_preprocessed_poperties_file='rhc_preprocessed_properties.parquet'\n",
    "home_data_file_path = \"home_data.parquet\"\n",
    "boiler_returntemp_load_efficiency_file_path = \"boiler_returntemp_load_efficiency.parquet\"\n",
    "boiler_returntemp_efficiency_file_path = \"boiler_returntemp_efficiency.parquet\"\n",
    "\n",
    "# Files written as output\n",
    "rhc_heat_dist_preprocessed_poperties_file='rhc_heat_dist_preprocessed_properties.parquet'\n",
    "\n",
    "%load_ext autoreload\n",
    "\n",
    "%matplotlib inline\n",
    "%matplotlib widget\n",
    "\n",
    "import sys\n",
    "sys.path.append('../analysis')\n",
    "from nfh_utils import *"
   ]
  },
  {
   "cell_type": "markdown",
   "id": "ec5c913b-1d49-4282-8ec0-bceec2ba8e7c",
   "metadata": {},
   "source": [
    "## Reading preprocessed interpolated properties from a parquet file"
   ]
  },
  {
   "cell_type": "code",
   "execution_count": null,
   "id": "1418d73a-9260-4c2d-a624-96b6f304a04f",
   "metadata": {},
   "outputs": [],
   "source": [
    "%%time\n",
    "\n",
    "\n",
    "# Attempt to read the Parquet file\n",
    "try:\n",
    "    df_prep = pd.read_parquet(\n",
    "        rhc_preprocessed_poperties_file, \n",
    "        engine='pyarrow',\n",
    "        dtype_backend='numpy_nullable'\n",
    "        )\n",
    "    print(\"File was successfully read without specifying compression codec.\")\n",
    "except Exception as e:\n",
    "    print(f\"Error reading file: {e}\")\n",
    "\n",
    "#sorting the DataFrame index is needed to get good performance on certain filters\n",
    "#this guarding code to check whether DataFrames are properly sorted\n",
    "if not df_prep.index.is_monotonic_increasing:\n",
    "    print('df needed index sorting')\n",
    "    df_prep = df_prep.sort_index()  "
   ]
  },
  {
   "cell_type": "code",
   "execution_count": null,
   "id": "4ce49933-c611-46fa-a4a3-dd8da1d1a28f",
   "metadata": {},
   "outputs": [],
   "source": [
    "print(f\"df_prep.count().sum(): {df_prep.count().sum():_}\")"
   ]
  },
  {
   "cell_type": "code",
   "execution_count": null,
   "id": "134099ed-abe2-46c8-b19b-f3e1355a1641",
   "metadata": {},
   "outputs": [],
   "source": [
    "df_prep.info()"
   ]
  },
  {
   "cell_type": "code",
   "execution_count": null,
   "id": "a414a145-7a17-45bb-b600-4486116e354b",
   "metadata": {
    "scrolled": true
   },
   "outputs": [],
   "source": [
    "print(\"[\\n'\",\"', \\n'\".join(sorted(df_prep.columns)),\"'\\n]\")"
   ]
  },
  {
   "cell_type": "markdown",
   "id": "592511f3-8287-4001-94b7-3bf5f3a962fd",
   "metadata": {},
   "source": [
    "## Filtering values immediately relevant for heat distribution system modelling"
   ]
  },
  {
   "cell_type": "code",
   "execution_count": null,
   "id": "cefa323c-11a2-4d05-a5dc-e0f56e186f7a",
   "metadata": {},
   "outputs": [],
   "source": [
    "heat_distribution_props = [\n",
    "    'batch_import_KNMI_ghi__W_m_2', \n",
    "    'batch_import_KNMI_temp_out__degC', \n",
    "    'batch_import_KNMI_wind__m_s_1', \n",
    "    'device_p1-reader_g_use_hhv__W', \n",
    "    'batch_import_remeha_boiler_status_burning_ch__bool',\n",
    "    'batch_import_remeha_gas_valve_closed__bool', \n",
    "    'batch_import_remeha_gas_valve_open__bool', \n",
    "    'batch_import_remeha_g_use_ch_lhv__W',\n",
    "    'batch_import_remeha_temp_set__degC', \n",
    "    'batch_import_remeha_temp_in__degC', \n",
    "    'device_living_room_calibrated_temp_in__degC', \n",
    "    'batch_import_remeha_temp_sup__degC', \n",
    "    'batch_import_remeha_temp_ret__degC' \n",
    "]"
   ]
  },
  {
   "cell_type": "code",
   "execution_count": null,
   "id": "744d85ab-720d-46c0-a80e-8432d537bb35",
   "metadata": {},
   "outputs": [],
   "source": [
    "df_heat_dist = df_prep[heat_distribution_props].copy()"
   ]
  },
  {
   "cell_type": "code",
   "execution_count": null,
   "id": "21f14c87-2d60-4524-97d2-0f0531f79a0d",
   "metadata": {},
   "outputs": [],
   "source": [
    "print(f\"df_heat_dist.count().sum(): {df_heat_dist.count().sum():_}\")"
   ]
  },
  {
   "cell_type": "code",
   "execution_count": null,
   "id": "a1764750-1b44-439b-8ec9-8dd8bd7f6e71",
   "metadata": {},
   "outputs": [],
   "source": [
    "df_heat_dist.info()"
   ]
  },
  {
   "cell_type": "markdown",
   "id": "7d6cd5e2-e0f3-43b9-9468-50132e76186c",
   "metadata": {},
   "source": [
    "## Calculating additional values relevant for heat distribution system modelling"
   ]
  },
  {
   "cell_type": "code",
   "execution_count": null,
   "id": "38ba9bca-e806-4525-b716-cb7f5e570c82",
   "metadata": {},
   "outputs": [],
   "source": [
    "%%time\n",
    "\n",
    "# Filter out rows where either of the columns has NaN\n",
    "valid_rows = df_heat_dist[['batch_import_remeha_temp_sup__degC', 'batch_import_remeha_temp_ret__degC']].notna().all(axis=1)\n",
    "\n",
    "# Calculate the mean only for valid rows\n",
    "df_heat_dist.loc[valid_rows, 'calculated_temp_rad__degC'] = df_heat_dist.loc[valid_rows, ['batch_import_remeha_temp_sup__degC', 'batch_import_remeha_temp_ret__degC']].mean(axis=1)"
   ]
  },
  {
   "cell_type": "markdown",
   "id": "798a9d9a-fa59-4464-9e85-aa328f8fd1da",
   "metadata": {},
   "source": [
    "## Reading boiler data"
   ]
  },
  {
   "cell_type": "code",
   "execution_count": null,
   "id": "bff2b9c8-f9b5-4069-9024-b5ef44544e8d",
   "metadata": {},
   "outputs": [],
   "source": [
    "%%time\n",
    "# Attempt to read the Parquet file\n",
    "try:\n",
    "    df_homes = pd.read_parquet(\n",
    "        home_data_file_path, \n",
    "        engine='pyarrow',\n",
    "        dtype_backend='numpy_nullable'\n",
    "        )\n",
    "    print(\"File was successfully read without specifying compression codec.\")\n",
    "except Exception as e:\n",
    "    print(f\"Error reading file: {e}\")"
   ]
  },
  {
   "cell_type": "code",
   "execution_count": null,
   "id": "cebf54ef-4ec1-49db-8893-68e31583ff11",
   "metadata": {},
   "outputs": [],
   "source": [
    "df_homes"
   ]
  },
  {
   "cell_type": "code",
   "execution_count": null,
   "id": "12cd1560-05fa-4a96-8f02-287526ff1ca6",
   "metadata": {},
   "outputs": [],
   "source": [
    "%%time\n",
    "# Attempt to read the Parquet file\n",
    "try:\n",
    "    df_boiler_efficiency = pd.read_parquet(\n",
    "        boiler_returntemp_efficiency_file_path, \n",
    "        engine='pyarrow',\n",
    "        dtype_backend='numpy_nullable'\n",
    "        )\n",
    "    print(\"File was successfully read without specifying compression codec.\")\n",
    "except Exception as e:\n",
    "    print(f\"Error reading file: {e}\")"
   ]
  },
  {
   "cell_type": "code",
   "execution_count": null,
   "id": "55c8b7cc-6366-4654-8f6e-a88dd05cf66a",
   "metadata": {},
   "outputs": [],
   "source": [
    "df_boiler_efficiency"
   ]
  },
  {
   "cell_type": "markdown",
   "id": "32953f83-69f8-42ae-a06b-e784c4c4de9a",
   "metadata": {},
   "source": [
    "## Calculating heat production"
   ]
  },
  {
   "cell_type": "code",
   "execution_count": null,
   "id": "17c5e3e8-e779-4608-9c29-87b1dc5404bf",
   "metadata": {},
   "outputs": [],
   "source": [
    "# # Calculate Q_gain_ch__W based on national average efficiency\n",
    "# df_heat_dist['calculated_Q_gain_ch__W'] = df_heat_dist['batch_import_remeha_g_use_ch_lhv__W'] *  g_groningen_hhv___MJ_m_3 /  g_groningen_lhv___MJ_m_3 * eta_ch_nl_avg_hhv__J0"
   ]
  },
  {
   "cell_type": "code",
   "execution_count": null,
   "id": "62d93044-b21d-46a0-9682-30146c8a25b6",
   "metadata": {},
   "outputs": [],
   "source": [
    "%%time\n",
    "# Round return temperatures to whole degrees\n",
    "df_heat_dist['rounded_temp_ret__degC'] = df_heat_dist['batch_import_remeha_temp_ret__degC'].round()\n",
    "\n",
    "\n",
    "# Extract id and rounded_temp_ret__degC values\n",
    "id_values = df_heat_dist.index.get_level_values('id')\n",
    "temp_ret_values = df_heat_dist['rounded_temp_ret__degC']\n",
    "\n",
    "# Lookup efficiency vectorized\n",
    "def lookup_efficiency_vectorized(id_vals, temp_vals, df_efficiency, df_homes):\n",
    "    brand_models = df_homes.loc[id_vals, 'brand_model'].values\n",
    "    efficiency_values = np.empty(len(brand_models))\n",
    "    \n",
    "    for i, (model, temp) in enumerate(zip(brand_models, temp_vals)):\n",
    "        try:\n",
    "            efficiency_values[i] = df_efficiency.loc[(model, temp), 'eta_ch_hhv__W0']\n",
    "        except KeyError:\n",
    "            efficiency_values[i] = np.nan  # or some default value\n",
    "    \n",
    "    return efficiency_values\n",
    "\n",
    "\n",
    "# Apply the vectorized lookup\n",
    "df_heat_dist['eta_ch_hhv__W0'] = lookup_efficiency_vectorized(id_values, temp_ret_values, df_boiler_efficiency, df_homes)"
   ]
  },
  {
   "cell_type": "code",
   "execution_count": null,
   "id": "c3e2631a-c244-4200-8fbb-1e95aef25983",
   "metadata": {},
   "outputs": [],
   "source": [
    "# # Merge df_heat_dist with df_homes to get the brand_model for each id\n",
    "# df_heat_dist = df_heat_dist.reset_index().merge(df_homes, on='id').set_index(['id', 'timestamp'])\n",
    "\n",
    "# # Round return temperatures to whole degrees and convert to nullable integer type\n",
    "# df_heat_dist['rounded_temp_ret__degC'] = df_heat_dist['batch_import_remeha_temp_ret__degC'].round().astype('Int64')\n",
    "\n",
    "# # Merge with df_boiler_efficiency to get the efficiency values\n",
    "# df_heat_dist = df_heat_dist.reset_index().merge(\n",
    "#     df_boiler_efficiency.reset_index(),\n",
    "#     left_on=['brand_model', 'rounded_temp_ret__degC'],\n",
    "#     right_on=['boiler_model', 'temp_ret__degC'],\n",
    "#     how='left'\n",
    "# ).set_index(['id', 'timestamp'])\n",
    "\n",
    "# # Perform the calculation\n",
    "# df_heat_dist['calculated_Q_gain_ch__W'] = (\n",
    "#     df_heat_dist['batch_import_remeha_g_use_ch_lhv__W'] *\n",
    "#     g_groningen_hhv___MJ_m_3 / g_groningen_lhv___MJ_m_3 *\n",
    "#     df_heat_dist['eta_ch_hhv__W0']\n",
    "# )"
   ]
  },
  {
   "cell_type": "code",
   "execution_count": null,
   "id": "e4f5444c-43a0-40a4-9e64-aedaa971281e",
   "metadata": {},
   "outputs": [],
   "source": [
    "df_heat_dist['eta_ch_hhv__W0'].mean()"
   ]
  },
  {
   "cell_type": "code",
   "execution_count": null,
   "id": "86fa2623-48ea-43f9-b7fb-3268b64a105e",
   "metadata": {},
   "outputs": [],
   "source": [
    "df_heat_dist['calculated_Q_gain_ch__W'] = df_heat_dist['batch_import_remeha_g_use_ch_lhv__W'] *  g_groningen_hhv___MJ_m_3 /  g_groningen_lhv___MJ_m_3 * df_heat_dist['eta_ch_hhv__W0']"
   ]
  },
  {
   "cell_type": "code",
   "execution_count": null,
   "id": "be29ff1b-31e5-4d3a-88a4-50378d447cef",
   "metadata": {},
   "outputs": [],
   "source": [
    "df_heat_dist = df_heat_dist[['batch_import_KNMI_ghi__W_m_2',\n",
    "                             'batch_import_KNMI_temp_out__degC',\n",
    "                             'batch_import_KNMI_wind__m_s_1',\n",
    "                             'device_p1-reader_g_use_hhv__W',\n",
    "                             'batch_import_remeha_boiler_status_burning_ch__bool',\n",
    "                             'batch_import_remeha_gas_valve_closed__bool',\n",
    "                             'batch_import_remeha_gas_valve_open__bool',\n",
    "                             'batch_import_remeha_g_use_ch_lhv__W',\n",
    "                             'batch_import_remeha_temp_set__degC',\n",
    "                             'batch_import_remeha_temp_in__degC',\n",
    "                             'device_living_room_calibrated_temp_in__degC',\n",
    "                             'batch_import_remeha_temp_sup__degC',\n",
    "                             'batch_import_remeha_temp_ret__degC',\n",
    "                             'calculated_temp_rad__degC',\n",
    "                             'calculated_Q_gain_ch__W',\n",
    "                             'rounded_temp_ret__degC',\n",
    "                             'eta_ch_hhv__W0']]"
   ]
  },
  {
   "cell_type": "code",
   "execution_count": null,
   "id": "bf3fb3cd-e45a-4ed5-b930-55d66bf97fe4",
   "metadata": {},
   "outputs": [],
   "source": [
    "list(df_heat_dist.columns)"
   ]
  },
  {
   "cell_type": "code",
   "execution_count": null,
   "id": "b1db6754-7976-4838-b9d0-7c00286c208d",
   "metadata": {},
   "outputs": [],
   "source": [
    "df_heat_dist.describe().T"
   ]
  },
  {
   "cell_type": "code",
   "execution_count": null,
   "id": "d08a6ec1-0778-42ba-8c9e-a02b7ffbb809",
   "metadata": {},
   "outputs": [],
   "source": [
    "df_heat_dist"
   ]
  },
  {
   "cell_type": "markdown",
   "id": "15360547-2b20-491d-88c1-59d2b8f71648",
   "metadata": {},
   "source": [
    "## Writing results to parquet file"
   ]
  },
  {
   "cell_type": "code",
   "execution_count": null,
   "id": "df06a9f7-5a3a-441d-9e7e-c13cddbdcaa9",
   "metadata": {},
   "outputs": [],
   "source": [
    "%%time \n",
    "df_heat_dist.to_parquet(rhc_heat_dist_preprocessed_poperties_file, index=True, engine='pyarrow')"
   ]
  },
  {
   "cell_type": "markdown",
   "id": "507cd983-ed58-43c5-a0cf-6964fe1112a7",
   "metadata": {},
   "source": [
    "## Writing results to multiple zipped CSV files"
   ]
  },
  {
   "cell_type": "code",
   "execution_count": null,
   "id": "1bdb8674-a05b-440a-b6a5-fda88b58e8ae",
   "metadata": {},
   "outputs": [],
   "source": [
    "# %%time \n",
    "# # uncomment this entire block of code to enable it \n",
    "# for home_id in tqdm(df_heat_dist.index.get_level_values('id').unique()):\n",
    "#     df_heat_dist.xs(home_id, drop_level=False).to_csv(\n",
    "#         f'{home_id}_preprocessed_properties.zip',\n",
    "#         encoding='utf-8',\n",
    "#         compression= dict(method='zip',\n",
    "#                           archive_name=f'{home_id}_preprocessed_properties.csv'),\n",
    "#         date_format='%Y-%m-%dT%H:%M:%S%z'\n",
    "#     )\n"
   ]
  },
  {
   "cell_type": "code",
   "execution_count": null,
   "id": "482f7e64-c1b4-4952-85cf-21f8e1280d13",
   "metadata": {},
   "outputs": [],
   "source": []
  }
 ],
 "metadata": {
  "kernelspec": {
   "display_name": "Python 3 (ipykernel)",
   "language": "python",
   "name": "python3"
  },
  "language_info": {
   "codemirror_mode": {
    "name": "ipython",
    "version": 3
   },
   "file_extension": ".py",
   "mimetype": "text/x-python",
   "name": "python",
   "nbconvert_exporter": "python",
   "pygments_lexer": "ipython3",
   "version": "3.11.6"
  }
 },
 "nbformat": 4,
 "nbformat_minor": 5
}
