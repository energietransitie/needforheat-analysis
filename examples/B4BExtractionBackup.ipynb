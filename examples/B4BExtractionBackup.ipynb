{
 "cells": [
  {
   "cell_type": "markdown",
   "metadata": {
    "tags": []
   },
   "source": [
    "# Brains4Buildings data extraction and backup\n",
    "\n",
    "This JupyterLabs notebook can be used download raw data from a Twomes database (see also [more information how to setup a Twomes server](https://github.com/energietransitie/twomes-backoffice-configuration#jupyterlab)).\n",
    "\n",
    "In particular, it has been set up to get data from the [Brains4Buildings data collection](https://www.energietransitiewindesheim.nl/brains4buildings2022/privacy/index.html).\n",
    "\n",
    "Don't forget to install the requirements listed in [requirements.txt](../requirements.txt) first!\n",
    "\n"
   ]
  },
  {
   "cell_type": "markdown",
   "metadata": {
    "tags": []
   },
   "source": [
    "## Setting the stage\n",
    "\n",
    "First several imports and variables need to be defined\n"
   ]
  },
  {
   "cell_type": "markdown",
   "metadata": {},
   "source": [
    "### Imports and generic settings"
   ]
  },
  {
   "cell_type": "code",
   "execution_count": null,
   "metadata": {},
   "outputs": [],
   "source": [
    "from datetime import datetime, timedelta\n",
    "import pytz\n",
    "import math\n",
    "import pylab as plt\n",
    "\n",
    "import pandas as pd\n",
    "import numpy as np\n",
    "\n",
    "# usually, two decimals suffice for displaying DataFrames (NB internally, precision may be higher)\n",
    "pd.options.display.precision = 2\n",
    "\n",
    "import sys\n",
    "sys.path.append('../data/')\n",
    "sys.path.append('../view/')\n",
    "sys.path.append('../analysis/')\n",
    "\n",
    "%load_ext autoreload\n",
    "\n",
    "%matplotlib widget\n",
    "from plotter import Plot\n",
    "\n",
    "from measurements import Measurements\n",
    "from preprocessor import Preprocessor\n",
    "\n",
    "from tqdm.notebook import tqdm\n",
    "\n",
    "\n",
    "import logging\n",
    "logging.basicConfig(level=logging.INFO, \n",
    "                    format='%(asctime)s %(levelname)-8s %(message)s',\n",
    "                    datefmt='%Y-%m-%d %H:%M:%S',\n",
    "                    filename='log_b4b.txt',\n",
    "                   )"
   ]
  },
  {
   "cell_type": "markdown",
   "metadata": {},
   "source": [
    "### Defining which account, which period \n",
    "\n",
    "- which account was used to provision the measurements? \n",
    "- the location and timezone is\n",
    "- from which `start_day` to which `end_day' "
   ]
  },
  {
   "cell_type": "code",
   "execution_count": null,
   "metadata": {},
   "outputs": [],
   "source": [
    "#location: T-building, Windesheim, in Zwolle\n",
    "lat, lon = 52.4350486, 5.4040816\n",
    "\n",
    "#timezone: \n",
    "timezone_database = 'UTC'\n",
    "timezone_homes = 'Europe/Amsterdam'\n",
    "\n",
    "# Below, the maximum period for data collection\n",
    "first_day = pytz.timezone(timezone_homes).localize(datetime(2022, 10, 1))\n",
    "last_day = pytz.timezone(timezone_homes).localize(datetime(2022, 11, 2))\n",
    "\n",
    "# all devices were provisioned by a single account\n",
    "account = [820921]"
   ]
  },
  {
   "cell_type": "markdown",
   "metadata": {},
   "source": [
    "## Getting accounts"
   ]
  },
  {
   "cell_type": "code",
   "execution_count": null,
   "metadata": {},
   "outputs": [],
   "source": [
    "%%time \n",
    "%autoreload 2\n",
    "df = Measurements.get_accounts_devices(first_day, last_day,\n",
    "                                       timezone_database, timezone_homes)"
   ]
  },
  {
   "cell_type": "code",
   "execution_count": null,
   "metadata": {},
   "outputs": [],
   "source": [
    "pd.options.display.date_dayfirst = True"
   ]
  },
  {
   "cell_type": "code",
   "execution_count": null,
   "metadata": {},
   "outputs": [],
   "source": [
    "pd.options.display.date_yearfirst"
   ]
  },
  {
   "cell_type": "code",
   "execution_count": null,
   "metadata": {},
   "outputs": [],
   "source": [
    "pd.options.display.date_dayfirst"
   ]
  },
  {
   "cell_type": "code",
   "execution_count": null,
   "metadata": {},
   "outputs": [],
   "source": []
  },
  {
   "cell_type": "code",
   "execution_count": null,
   "metadata": {},
   "outputs": [],
   "source": [
    "pd.options.display.precision"
   ]
  },
  {
   "cell_type": "code",
   "execution_count": null,
   "metadata": {},
   "outputs": [],
   "source": [
    "df"
   ]
  },
  {
   "cell_type": "markdown",
   "metadata": {},
   "source": [
    "## Getting a single property of raw data"
   ]
  },
  {
   "cell_type": "code",
   "execution_count": null,
   "metadata": {},
   "outputs": [],
   "source": [
    "# extract a more minimal set of properties, as done in earlier queries\n",
    "b4b_single_type_dict = {\n",
    "    'roomTemp' : 'float32'\n",
    "}\n"
   ]
  },
  {
   "cell_type": "code",
   "execution_count": null,
   "metadata": {},
   "outputs": [],
   "source": [
    "# extract a more minimal set of properties, as done in earlier queries\n",
    "b4b_full_type_dict = {\n",
    "    'roomTemp' : 'float32',\n",
    "    'CO2concentration' : 'float32',\n",
    "    'relativeHumidity' : 'float32',\n",
    "    'countPresence' : 'Int8',\n",
    "    'heartbeat' : 'Int8'\n",
    "}\n"
   ]
  },
  {
   "cell_type": "code",
   "execution_count": null,
   "metadata": {},
   "outputs": [],
   "source": [
    "%%time \n",
    "%autoreload 2\n",
    "df = Measurements.get_raw_properties(account,\n",
    "                                     first_day, last_day,\n",
    "                                     b4b_full_type_dict,\n",
    "                                     timezone_database, timezone_homes)\n"
   ]
  },
  {
   "cell_type": "code",
   "execution_count": null,
   "metadata": {},
   "outputs": [],
   "source": [
    "df"
   ]
  },
  {
   "cell_type": "code",
   "execution_count": null,
   "metadata": {},
   "outputs": [],
   "source": [
    "df.describe()"
   ]
  },
  {
   "cell_type": "markdown",
   "metadata": {},
   "source": [
    "### Plotting properties"
   ]
  },
  {
   "cell_type": "code",
   "execution_count": null,
   "metadata": {},
   "outputs": [],
   "source": [
    "# This cell can be used to plot one or more properties in one or more homes\n",
    "\n",
    "for home_id in list(df.index.unique(level='home_id')):\n",
    "    for prop in list(df.columns):\n",
    "        Plot.temperature_and_power_one_home_plot(f'{prop} in {home_id}',\n",
    "                                        df.loc[home_id],\n",
    "                                        temp_plot_dict = {prop: 'r'}\n",
    "                                       )\n",
    "\n",
    "        for device_type in list(df.index.unique(level='device_type')):\n",
    "            for device_name in list(df.index.unique(level='device_name')):\n",
    "                Plot.temperature_and_power_one_home_plot(f'{device_name}:{prop} in {home_id}',\n",
    "                                            df.loc[home_id,:,device_type,device_name],\n",
    "                                            temp_plot_dict = {prop: 'r'}\n",
    "                                           )"
   ]
  },
  {
   "cell_type": "code",
   "execution_count": null,
   "metadata": {},
   "outputs": [],
   "source": [
    "%autoreload 2\n",
    "for home_id in list(df.index.unique(level='home_id')):\n",
    "    for prop in list(df.columns):\n",
    "\n",
    "        Plot.temperature_and_power_one_home_plot(f'{prop} in {home_id}',\n",
    "                                        df.loc[home_id],\n",
    "                                        temp_plot_dict = {prop: 'r'}\n",
    "                                       )\n",
    "        \n",
    "        for device_type in list(df.index.unique(level='device_type')):\n",
    "            df_plot = df.loc[home_id,:,device_type].copy()\n",
    "            df_plot = Preprocessor.filter_min_max(df_plot, prop, min=0, max=45)\n",
    "            df_plot = Preprocessor.filter_static_outliers(df_plot, prop, n_sigma=3)\n",
    "            Plot.temperature_and_power_one_home_plot(f'{device_type}:{prop} in {home_id}',\n",
    "                                        df_plot,\n",
    "                                        temp_plot_dict = {prop: 'r'}\n",
    "                                       )"
   ]
  },
  {
   "cell_type": "code",
   "execution_count": null,
   "metadata": {},
   "outputs": [],
   "source": [
    "#cell to experiment with other property filtering code\n",
    "\n",
    "home_id = list(df.index.unique(level='home_id'))[0]\n",
    "prop = list(df.columns)[0]\n",
    "device_type = list(df.index.unique(level='device_type'))[0]\n",
    "dfplot = df.loc[home_id,:,device_type]\n",
    "\n",
    "#insert new filtering code here\n",
    "\n",
    "Plot.temperature_and_power_one_home_plot(f'{device_type}:{prop} in {home_id}',\n",
    "                            dfplot,\n",
    "                            temp_plot_dict = {prop: 'r'}\n",
    "                           )"
   ]
  },
  {
   "cell_type": "code",
   "execution_count": null,
   "metadata": {},
   "outputs": [],
   "source": [
    "dfplot.plot.hist(bins=200)"
   ]
  },
  {
   "cell_type": "markdown",
   "metadata": {},
   "source": [
    "## Getting more properties and writing to a parquet file"
   ]
  },
  {
   "cell_type": "code",
   "execution_count": null,
   "metadata": {},
   "outputs": [],
   "source": [
    "# extract a more minimal set of properties, as done in earlier queries\n",
    "b4b_limited_type_dict = {\n",
    "    'eMeterReadingReturnHigh' : 'float32',\n",
    "    'eMeterReadingReturnLow' : 'float32',\n",
    "    'eMeterReadingSupplyHigh' : 'float32', \n",
    "    'eMeterReadingSupplyLow' : 'float32',\n",
    "    'eMeterReadingTimestamp' : 'str',\n",
    "    'gMeterReadingSupply' : 'float32',\n",
    "    'gMeterReadingTimestamp' : 'str',\n",
    "    'roomTemp' : 'float32',\n",
    "    'roomSetpointTemp' : 'float32'\n",
    "}\n"
   ]
  },
  {
   "cell_type": "code",
   "execution_count": null,
   "metadata": {},
   "outputs": [],
   "source": [
    "# extract the  full set of properties\n",
    "b4b_full_type_dict = {\n",
    "    'heartbeat' : 'Int16',\n",
    "    'eMeterReadingReturnHigh' : 'float32',\n",
    "    'eMeterReadingReturnLow' : 'float32',\n",
    "    'eMeterReadingSupplyHigh' : 'float32', \n",
    "    'eMeterReadingSupplyLow' : 'float32',\n",
    "    'eMeterReadingTimestamp' : 'str',\n",
    "    'gMeterReadingSupply' : 'float32',\n",
    "    'gMeterReadingTimestamp' : 'str',\n",
    "    'listRSSI' : 'str',\n",
    "    'boilerTemp1' : 'float32',\n",
    "    'boilerTemp2' : 'float32',\n",
    "    'roomTemp' : 'float32',\n",
    "    'boilerSupplyTemp' : 'float32',\n",
    "    'isBoilerFlameOn' : 'Int8',\n",
    "    'isCentralHeatingModeOn' : 'Int8',\n",
    "    'isDomesticHotWaterModeOn' : 'Int8',\n",
    "    'maxModulationLevel' : 'Int8',\n",
    "    'roomSetpointTemp' : 'float32',\n",
    "    'minModulationLevel' : 'Int8',\n",
    "    'boilerReturnTemp' : 'float32',\n",
    "    'relativeModulationLevel' : 'Int8',\n",
    "    'boilerMaxSupplyTemp' : 'float32',\n",
    "    'CO2concentration' : 'Int16',\n",
    "    'relativeHumidity' : 'float32',\n",
    "    'roomTemp2' : 'float32'}\n"
   ]
  },
  {
   "cell_type": "code",
   "execution_count": null,
   "metadata": {},
   "outputs": [],
   "source": [
    "%%time \n",
    "df_data_homes = Measurements.get_raw_properties(homes_single,\n",
    "                                                first_day, last_day,\n",
    "                                                b4b_full_type_dict,\n",
    "                                                timezone_database, timezone_homes)\n",
    "\n"
   ]
  },
  {
   "cell_type": "code",
   "execution_count": null,
   "metadata": {},
   "outputs": [],
   "source": [
    "df_data_homes.info()"
   ]
  },
  {
   "cell_type": "code",
   "execution_count": null,
   "metadata": {},
   "outputs": [],
   "source": [
    "df_data_homes[['gMeterReadingSupply', 'gMeterReadingTimestamp']]"
   ]
  },
  {
   "cell_type": "code",
   "execution_count": null,
   "metadata": {},
   "outputs": [],
   "source": [
    "%%time \n",
    "df_data_homes = Measurements.get_raw_properties(homes_all,\n",
    "                                                first_day, last_day,\n",
    "                                                b4b_full_type_dict,\n",
    "                                                timezone_database, timezone_homes)\n",
    "\n"
   ]
  },
  {
   "cell_type": "code",
   "execution_count": null,
   "metadata": {},
   "outputs": [],
   "source": [
    "%%time \n",
    "df_data_homes = Measurements.get_raw_properties(homes_3,\n",
    "                                                first_day, last_day,\n",
    "                                                b4b_limited_type_dict,\n",
    "                                                timezone_database, timezone_homes)\n",
    "\n"
   ]
  },
  {
   "cell_type": "code",
   "execution_count": null,
   "metadata": {},
   "outputs": [],
   "source": [
    "%%time \n",
    "df_data_homes.to_parquet('homes_all_b4b_limited_type_dict.parquet', index=True, engine='pyarrow')"
   ]
  },
  {
   "cell_type": "code",
   "execution_count": null,
   "metadata": {},
   "outputs": [],
   "source": [
    "df_data_homes.info()"
   ]
  },
  {
   "cell_type": "code",
   "execution_count": null,
   "metadata": {},
   "outputs": [],
   "source": [
    "%%time \n",
    "df_data_homes.to_parquet('homes_all_b4b_full_type_dict.parquet', index=True, engine='pyarrow')"
   ]
  },
  {
   "cell_type": "code",
   "execution_count": null,
   "metadata": {},
   "outputs": [],
   "source": [
    "df_data_homes"
   ]
  },
  {
   "cell_type": "code",
   "execution_count": null,
   "metadata": {},
   "outputs": [],
   "source": [
    "df_data_homes.describe()"
   ]
  },
  {
   "cell_type": "markdown",
   "metadata": {},
   "source": [
    "### Write individual data for individual homes to parquet files"
   ]
  },
  {
   "cell_type": "code",
   "execution_count": null,
   "metadata": {},
   "outputs": [],
   "source": [
    "%%time \n",
    "for home_id in tqdm(homes_all):\n",
    "    filename = f'{home_id}-rawdata_{first_day.isoformat()}-{(last_day+timedelta(days=1)+ timedelta(hours=1)).isoformat()}.parquet'\n",
    "    df_data_homes.loc[home_id].to_parquet(filename, index=True, engine='pyarrow')\n"
   ]
  },
  {
   "cell_type": "markdown",
   "metadata": {},
   "source": [
    "### Write raw data to a CSV file"
   ]
  },
  {
   "cell_type": "code",
   "execution_count": null,
   "metadata": {},
   "outputs": [],
   "source": [
    "%%time \n",
    "%autoreload 2\n",
    "df = Measurements.get_raw_measurements(homes_all,\n",
    "                                     first_day, last_day,\n",
    "                                     b4b_full_type_dict,\n",
    "                                     timezone_database, timezone_homes)\n"
   ]
  },
  {
   "cell_type": "code",
   "execution_count": null,
   "metadata": {},
   "outputs": [],
   "source": [
    "%%time \n",
    "for home_id in tqdm(list(df.index.unique(level='home_id'))):\n",
    "    filename = f'{home_id}-rawmeasurements_{first_day.isoformat()}-{(last_day+timedelta(days=1)+ timedelta(hours=1)).isoformat()}.zip'\n",
    "    df_write = df.loc[[home_id]].copy(deep=True).reset_index([0,2,3])\n",
    "    df_write['unix_time'] = df_write.index.map(pd.Timestamp.timestamp).astype(int)\n",
    "    df_write = (df_write\n",
    "                .sort_values('unix_time')\n",
    "                .reset_index(drop=True)\n",
    "                [['home_id', 'unix_time', 'device_type','property', 'value', 'unit']])\n",
    "    df_write.index.name = '#'\n",
    "    df_write.to_csv(filename)\n",
    "    del(df_write)\n"
   ]
  },
  {
   "cell_type": "code",
   "execution_count": null,
   "metadata": {},
   "outputs": [],
   "source": [
    "%%time \n",
    "for home_id in tqdm(list(df.index.unique(level='home_id'))):\n",
    "    filename = f'{home_id}-rawmeasurements_{first_day.isoformat()}-{(last_day+timedelta(days=1)+ timedelta(hours=1)).isoformat()}.parquet'\n",
    "    df.loc[[home_id]].to_parquet(filename, index=True, engine='pyarrow')\n"
   ]
  }
 ],
 "metadata": {
  "kernelspec": {
   "display_name": "Python 3 (ipykernel)",
   "language": "python",
   "name": "python3"
  },
  "language_info": {
   "codemirror_mode": {
    "name": "ipython",
    "version": 3
   },
   "file_extension": ".py",
   "mimetype": "text/x-python",
   "name": "python",
   "nbconvert_exporter": "python",
   "pygments_lexer": "ipython3",
   "version": "3.10.6"
  }
 },
 "nbformat": 4,
 "nbformat_minor": 4
}
