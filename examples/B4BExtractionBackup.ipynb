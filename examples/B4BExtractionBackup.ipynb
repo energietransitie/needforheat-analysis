{
 "cells": [
  {
   "cell_type": "markdown",
   "metadata": {
    "tags": []
   },
   "source": [
    "# Brains4Buildings data extraction and backup\n",
    "\n",
    "This JupyterLabs notebook can be used download raw data from a Twomes database (see also [more information how to setup a Twomes server](https://github.com/energietransitie/twomes-backoffice-configuration#jupyterlab)).\n",
    "\n",
    "In particular, it has been set up to get data from the [Brains4Buildings data collection](https://www.energietransitiewindesheim.nl/brains4buildings2022/privacy/index.html).\n",
    "\n",
    "Don't forget to install the requirements listed in [requirements.txt](../requirements.txt) first!\n",
    "\n"
   ]
  },
  {
   "cell_type": "markdown",
   "metadata": {
    "tags": []
   },
   "source": [
    "## Setting the stage\n",
    "\n",
    "First several imports and variables need to be defined\n"
   ]
  },
  {
   "cell_type": "markdown",
   "metadata": {},
   "source": [
    "### Imports and generic settings"
   ]
  },
  {
   "cell_type": "code",
   "execution_count": null,
   "metadata": {},
   "outputs": [],
   "source": [
    "from datetime import datetime, timedelta\n",
    "import pytz\n",
    "import math\n",
    "import pylab as plt\n",
    "\n",
    "import pandas as pd\n",
    "import numpy as np\n",
    "\n",
    "# usually, two decimals suffice for displaying DataFrames (NB internally, precision may be higher)\n",
    "pd.options.display.precision = 2\n",
    "\n",
    "import sys\n",
    "sys.path.append('../data/')\n",
    "sys.path.append('../view/')\n",
    "sys.path.append('../analysis/')\n",
    "\n",
    "%load_ext autoreload\n",
    "\n",
    "%matplotlib widget\n",
    "from plotter import Plot\n",
    "\n",
    "from measurements import Measurements\n",
    "from preprocessor import Preprocessor\n",
    "\n",
    "from tqdm.notebook import tqdm\n",
    "\n",
    "\n",
    "import logging\n",
    "logging.basicConfig(level=logging.INFO, \n",
    "                    format='%(asctime)s %(levelname)-8s %(message)s',\n",
    "                    datefmt='%Y-%m-%d %H:%M:%S',\n",
    "                    filename='log_b4b.txt',\n",
    "                   )"
   ]
  },
  {
   "cell_type": "markdown",
   "metadata": {},
   "source": [
    "### Defining which account, which period \n",
    "\n",
    "- which account was used to provision the measurements? \n",
    "- the location and timezone is\n",
    "- from which `start_day` to which `end_day' "
   ]
  },
  {
   "cell_type": "code",
   "execution_count": null,
   "metadata": {},
   "outputs": [],
   "source": [
    "#location: T-building, Windesheim, in Zwolle\n",
    "lat, lon = 52.4350486, 5.4040816\n",
    "\n",
    "#timezone: \n",
    "timezone_database = 'UTC'\n",
    "timezone_buildings = 'Europe/Amsterdam'\n",
    "\n",
    "# Below, the maximum period for data collection\n",
    "first_day = pytz.timezone(timezone_buildings).localize(datetime(2022, 10, 1))\n",
    "last_day = pytz.timezone(timezone_buildings).localize(datetime(2022, 11, 2))\n",
    "\n",
    "# all devices were provisioned by a single account\n",
    "account = [820921]\n",
    "\n",
    "b4b_db_properties = [\n",
    "    'roomTemp',\n",
    "    'CO2concentration',\n",
    "    'relativeHumidity',\n",
    "    'countPresence'\n",
    "]\n",
    "\n",
    "device_mapping = {\n",
    "    'TWOMES-979368': 999169,\n",
    "    'TWOMES-9799B8': 900846,\n",
    "    'TWOMES-ACDEF0': 948634,\n",
    "    'TWOMES-ACEB08': 917810,\n",
    "    'TWOMES-ACEB4C': 925038\n",
    "}\n",
    "\n",
    "property_rename = {\n",
    "    'CO2concentration': 'co2_ppm',\n",
    "    'countPresence': 'occupancy_p',\n",
    "    'relativeHumidity': 'rel_humidity_0',\n",
    "    'roomTemp': 'temp_in_degC'\n",
    "}\n",
    "\n",
    "property_types = {\n",
    "    'temp_in_degC' : 'float32',\n",
    "    'co2_ppm' : 'float32',\n",
    "    'rel_humidity_0' : 'float32',\n",
    "    'valve_frac_0' : 'float32',\n",
    "    'door_open_bool': 'Int8',\n",
    "    'window_open_bool': 'Int8',\n",
    "    'occupancy_bool': 'Int8',\n",
    "    'occupancy_p' : 'Int8'\n",
    "}\n"
   ]
  },
  {
   "cell_type": "markdown",
   "metadata": {},
   "source": [
    "## Getting accounts"
   ]
  },
  {
   "cell_type": "code",
   "execution_count": null,
   "metadata": {},
   "outputs": [],
   "source": [
    "%%time \n",
    "%autoreload 2\n",
    "df = Measurements.get_accounts_devices(first_day, last_day,\n",
    "                                       timezone_database, timezone_buildings)"
   ]
  },
  {
   "cell_type": "code",
   "execution_count": null,
   "metadata": {},
   "outputs": [],
   "source": [
    "df"
   ]
  },
  {
   "cell_type": "markdown",
   "metadata": {},
   "source": [
    "## Getting measurements from sources"
   ]
  },
  {
   "cell_type": "markdown",
   "metadata": {},
   "source": [
    "### Getting measurements from the database"
   ]
  },
  {
   "cell_type": "code",
   "execution_count": null,
   "metadata": {},
   "outputs": [],
   "source": [
    "%%time \n",
    "%autoreload 2\n",
    "df_db_meas = (Measurements.get_raw_measurements(\n",
    "    account,\n",
    "    first_day, last_day,\n",
    "    b4b_db_properties,\n",
    "    timezone_database, timezone_buildings)\n",
    "           .loc[account[0]]\n",
    "           .rename(index=device_mapping)\n",
    "           .rename(index=property_rename)\n",
    "           .sort_index()\n",
    "          )\n",
    "\n",
    "df_db_meas.index.names = ['id', 'source', 'timestamp', 'property']\n",
    "df_db_meas = df_db_meas.loc[[device_mapping[id] for id in device_mapping.keys()]]\n",
    "del df_db_meas['unit']\n",
    "df_db_meas = df_db_meas.astype('float')"
   ]
  },
  {
   "cell_type": "code",
   "execution_count": null,
   "metadata": {},
   "outputs": [],
   "source": [
    "df_db_meas.info()"
   ]
  },
  {
   "cell_type": "code",
   "execution_count": null,
   "metadata": {},
   "outputs": [],
   "source": [
    "df_db_meas"
   ]
  },
  {
   "cell_type": "markdown",
   "metadata": {},
   "source": [
    "### Get other measurements\n",
    "\n",
    "N.B. You need to download [b4b-rawdata.zip from the source](https://liveadminwindesheim.sharepoint.com/:u:/r/sites/O365-Brains4Buildings/Gedeelde%20documenten/General/Windesheim%20as%20Living%20Lab/data-raw-anon/b4b-rawdata.zip?csf=1&web=1&e=M0NX1r) first and save it in the ../data/ folder): "
   ]
  },
  {
   "cell_type": "code",
   "execution_count": null,
   "metadata": {},
   "outputs": [],
   "source": [
    "%%time \n",
    "df = pd.read_csv('../data/b4b-rawdata.zip', parse_dates=['timestamp'], index_col=['timezone', 'timestamp']).sort_index(level='timestamp')\n",
    "\n",
    "\n",
    "df_other_meas = pd.DataFrame()\n",
    "for tz in df.index.unique(level='timezone'):\n",
    "    df_other_meas = pd.concat([df_other_meas, df.loc[tz].tz_localize(tz, ambiguous='NaT')])\n",
    "\n",
    "\n",
    "df_other_meas = df_other_meas.sort_index()\n",
    "\n",
    "df_other_meas = df_other_meas.loc[df_other_meas.index.dropna()]\n"
   ]
  },
  {
   "cell_type": "code",
   "execution_count": null,
   "metadata": {},
   "outputs": [],
   "source": [
    "df_other_meas.info()"
   ]
  },
  {
   "cell_type": "code",
   "execution_count": null,
   "metadata": {},
   "outputs": [],
   "source": [
    "df_other_meas"
   ]
  },
  {
   "cell_type": "markdown",
   "metadata": {},
   "source": [
    "### Merge database and other measurements"
   ]
  },
  {
   "cell_type": "code",
   "execution_count": null,
   "metadata": {},
   "outputs": [],
   "source": [
    "df_measurements = (pd.concat([\n",
    "    df_db_meas.reset_index(), \n",
    "    df_other_meas.reset_index()[['id', 'source', 'timestamp', 'property', 'value']]])\n",
    "                   .drop_duplicates()\n",
    "                   .set_index(['id', 'source', 'timestamp', 'property'])\n",
    "                   .sort_index()\n",
    "                  )"
   ]
  },
  {
   "cell_type": "code",
   "execution_count": null,
   "metadata": {},
   "outputs": [],
   "source": [
    "df_measurements.info()"
   ]
  },
  {
   "cell_type": "code",
   "execution_count": null,
   "metadata": {},
   "outputs": [],
   "source": [
    "df_measurements"
   ]
  },
  {
   "cell_type": "markdown",
   "metadata": {
    "tags": []
   },
   "source": [
    "### Writing raw measurements to a parquet file"
   ]
  },
  {
   "cell_type": "code",
   "execution_count": null,
   "metadata": {},
   "outputs": [],
   "source": [
    "%%time \n",
    "df_measurements.to_parquet('b4b_raw_measurements.parquet', index=True, engine='pyarrow')"
   ]
  },
  {
   "cell_type": "markdown",
   "metadata": {},
   "source": [
    "## Unstack properties into separate columns and apply types"
   ]
  },
  {
   "cell_type": "code",
   "execution_count": null,
   "metadata": {},
   "outputs": [],
   "source": [
    "df_prop = df_measurements.copy()\n",
    "if property_types is not None:\n",
    "    logging.info(\"Unstacking properties...\")\n",
    "    df_prop = df_prop.unstack()\n",
    "    df_prop.columns = df_prop.columns.droplevel()\n",
    "\n"
   ]
  },
  {
   "cell_type": "code",
   "execution_count": null,
   "metadata": {},
   "outputs": [],
   "source": [
    "df_prop.info()"
   ]
  },
  {
   "cell_type": "code",
   "execution_count": null,
   "metadata": {},
   "outputs": [],
   "source": [
    "logging.info(\"Changing column types...\")\n",
    "df_prop = df_prop.astype({k:property_types[k] for k in property_types.keys() if k in df_prop.columns})\n"
   ]
  },
  {
   "cell_type": "code",
   "execution_count": null,
   "metadata": {},
   "outputs": [],
   "source": [
    "df_prop.info()"
   ]
  },
  {
   "cell_type": "code",
   "execution_count": null,
   "metadata": {},
   "outputs": [],
   "source": [
    "df_prop"
   ]
  },
  {
   "cell_type": "markdown",
   "metadata": {
    "tags": []
   },
   "source": [
    "### Writing raw properties to a parquet file"
   ]
  },
  {
   "cell_type": "code",
   "execution_count": null,
   "metadata": {},
   "outputs": [],
   "source": [
    "%%time \n",
    "df_prop.to_parquet('b4b_raw_properties.parquet', index=True, engine='pyarrow')"
   ]
  },
  {
   "cell_type": "markdown",
   "metadata": {
    "tags": []
   },
   "source": [
    "## Plotting data"
   ]
  },
  {
   "cell_type": "code",
   "execution_count": null,
   "metadata": {},
   "outputs": [],
   "source": [
    "df_plot = df_prop"
   ]
  },
  {
   "cell_type": "code",
   "execution_count": null,
   "metadata": {},
   "outputs": [],
   "source": [
    "# df_plot.columns =df_plot.columns.to_flat_index().tolist()"
   ]
  },
  {
   "cell_type": "code",
   "execution_count": null,
   "metadata": {},
   "outputs": [],
   "source": [
    "df_plot"
   ]
  },
  {
   "cell_type": "code",
   "execution_count": null,
   "metadata": {},
   "outputs": [],
   "source": [
    "# This cell can be used to plot one or more properties in one or more rooms for one or more sources, not fully working yet\n",
    "\n",
    "for id in list(df_plot.index.unique(level='id')):\n",
    "    for source in list(df_plot.index.unique(level='source')):\n",
    "        if len(df_plot.loc[id,source]):\n",
    "            df_plot.loc[id,source].plot(\n",
    "                # subplots=\n",
    "                # [\n",
    "                #     # ('co2_ppm'),\n",
    "                #      # ('occupancy_p'),\n",
    "                #      # ('valve_frac_0', 'rel_humidity_0'),\n",
    "                #      # ('window_open_bool', 'door_open_bool'),\n",
    "                #      ('temp_in_degC')\n",
    "                # ],\n",
    "                style='.--',\n",
    "                title=f'room: {id}, source: {source}'\n",
    "               )"
   ]
  }
 ],
 "metadata": {
  "kernelspec": {
   "display_name": "Python 3 (ipykernel)",
   "language": "python",
   "name": "python3"
  },
  "language_info": {
   "codemirror_mode": {
    "name": "ipython",
    "version": 3
   },
   "file_extension": ".py",
   "mimetype": "text/x-python",
   "name": "python",
   "nbconvert_exporter": "python",
   "pygments_lexer": "ipython3",
   "version": "3.10.6"
  }
 },
 "nbformat": 4,
 "nbformat_minor": 4
}
