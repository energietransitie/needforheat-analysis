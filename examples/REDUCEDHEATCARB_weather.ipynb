{
 "cells": [
  {
   "cell_type": "markdown",
   "id": "c153f249-15ad-4a56-a25c-d7d116422385",
   "metadata": {},
   "source": [
    "# Test KNMI weather extraction\n"
   ]
  },
  {
   "cell_type": "code",
   "execution_count": null,
   "id": "c8fe17f6-3555-426c-ba30-f4098f50336b",
   "metadata": {
    "tags": []
   },
   "outputs": [],
   "source": [
    "import pandas as pd\n",
    "import numpy as np\n",
    "\n",
    "# usually, two decimals suffice for displaying DataFrames (NB internally, precision may be higher)\n",
    "pd.options.display.precision = 3\n",
    "\n",
    "import sys\n",
    "sys.path.append('../data/')\n",
    "sys.path.append('../view/')\n",
    "\n",
    "rhc_sane_measurements_file_path='rhc_sane_meas.parquet'\n",
    "\n",
    "%load_ext autoreload\n",
    "\n",
    "from preprocessor import Preprocessor\n",
    "from plotter import Plot"
   ]
  },
  {
   "cell_type": "code",
   "execution_count": null,
   "id": "17cfa9ca-22e4-43f6-a238-4cb0bcbbebbd",
   "metadata": {
    "tags": []
   },
   "outputs": [],
   "source": [
    "from datetime import datetime, timedelta\n",
    "from extractor import WeatherExtractor"
   ]
  },
  {
   "cell_type": "markdown",
   "id": "2c867b6c-3e5c-478d-aab5-cc3a0b9f2afc",
   "metadata": {},
   "source": [
    "### Load Measured Data Properties from parquet file"
   ]
  },
  {
   "cell_type": "code",
   "execution_count": null,
   "id": "99763197-f115-4b09-93c0-c70d06c8963b",
   "metadata": {},
   "outputs": [],
   "source": [
    "%%time\n",
    "\n",
    "# Attempt to read the Parquet file\n",
    "try:\n",
    "    df_meas = pd.read_parquet(\n",
    "        rhc_sane_measurements_file_path, \n",
    "        engine='pyarrow',\n",
    "        use_nullable_dtypes=True\n",
    "        )\n",
    "    print(\"File was successfully read without specifying compression codec.\")\n",
    "except Exception as e:\n",
    "    print(f\"Error reading file: {e}\")\n",
    "\n",
    "#sorting the DataFrame index is needed to get good performance on certain filters\n",
    "#this guarding code to check whether DataFrames are properly sorted\n",
    "if not df_meas.index.is_monotonic_increasing:\n",
    "    print('df needed index sorting')\n",
    "    df_meas = df_meas.sort_index()  "
   ]
  },
  {
   "cell_type": "code",
   "execution_count": null,
   "id": "f2b4899d-94f9-4307-92ca-80b55014977c",
   "metadata": {
    "tags": []
   },
   "outputs": [],
   "source": [
    "df_meas.index.unique(level='id').values"
   ]
  },
  {
   "cell_type": "code",
   "execution_count": null,
   "id": "d7c6ae4a-ec39-4ff4-9376-131050ae1a0c",
   "metadata": {},
   "outputs": [],
   "source": [
    "df_meas.index.unique(level='source_category').values"
   ]
  },
  {
   "cell_type": "code",
   "execution_count": null,
   "id": "d3187fc4-cf50-420d-a644-05a90e131443",
   "metadata": {
    "tags": []
   },
   "outputs": [],
   "source": [
    "df_meas.index.unique(level='source_type').values"
   ]
  },
  {
   "cell_type": "code",
   "execution_count": null,
   "id": "780de484-b182-40ac-86a4-aa7df0714e20",
   "metadata": {},
   "outputs": [],
   "source": [
    "# Rename long source type names (for convenience only)\n",
    "rename_dict = {\n",
    "    'twomes-co2-occupancy-scd41-m5coreink-firmware': 'living_room',\n",
    "    'twomes-p1-reader-firmware': 'p1-reader'\n",
    "}\n",
    "\n",
    "df_meas = df_meas.rename(index=rename_dict, level='source_type')\n"
   ]
  },
  {
   "cell_type": "code",
   "execution_count": null,
   "id": "1f3ae634-404b-43c9-b6dc-b4906b3f20a2",
   "metadata": {},
   "outputs": [],
   "source": [
    "df_meas.index.unique(level='source_type').values"
   ]
  },
  {
   "cell_type": "code",
   "execution_count": null,
   "id": "41467d69-f38b-4ec0-9775-f19ef2afac53",
   "metadata": {},
   "outputs": [],
   "source": [
    "df_meas"
   ]
  },
  {
   "cell_type": "code",
   "execution_count": null,
   "id": "3cbf8bd2-4c58-4f35-9895-a75330a5aafe",
   "metadata": {},
   "outputs": [],
   "source": [
    "print(f"df_meas.count().sum(): {df_meas.count().sum():_}")"
   ]
  },
  {
   "cell_type": "code",
   "execution_count": null,
   "id": "fafe1564-83b7-4f3b-85f2-77e491f23903",
   "metadata": {
    "tags": []
   },
   "outputs": [],
   "source": [
    "df_meas.info()"
   ]
  },
  {
   "cell_type": "markdown",
   "id": "8d81fbe7-b0e3-4936-8d70-fdde4212c8c4",
   "metadata": {},
   "source": [
    "## Extract weather for a single lat, lon location"
   ]
  },
  {
   "cell_type": "code",
   "execution_count": null,
   "id": "84a7fd5c-f127-4664-b6d9-37fc7b0dd71e",
   "metadata": {},
   "outputs": [],
   "source": [
    "tz_knmi='Europe/Amsterdam'\n",
    "\n",
    "# Extract earliest and latest timestamps\n",
    "earliest_timestamp = (df_meas.index.get_level_values('timestamp').min() + timedelta(minutes=30)).replace(minute=0, second=0, microsecond=0)\n",
    "latest_timestamp = (df_meas.index.get_level_values('timestamp').max() +  + timedelta(minutes=30)).replace(minute=0, second=0, microsecond=0)\n",
    "\n",
    "earliest_timestamp\n",
    "\n",
    "earliest_timestamp.tz\n",
    "\n",
    "latest_timestamp\n",
    "\n",
    "interpolate__min = 15\n",
    "\n",
    "#HTH: Test with lat, lon of Assendorp\n",
    "lat, lon = 52.50938258156131, 6.1113935843428715 "
   ]
  },
  {
   "cell_type": "code",
   "execution_count": null,
   "id": "ad849608-a081-47a5-8107-928e20c4e114",
   "metadata": {},
   "outputs": [],
   "source": [
    "%%time\n",
    "df_weather = WeatherExtractor.get_interpolated_weather_nl(\n",
    "    earliest_timestamp, \n",
    "    latest_timestamp, \n",
    "    lat, lon, \n",
    "    tz_knmi, \n",
    "    earliest_timestamp.tz, \n",
    "    str(interpolate__min) + 'T'\n",
    ").rename_axis('timestamp')\n",
    "\n",
    "# Stacking the DataFrame and setting the new index level\n",
    "df_meas_weather = (df_weather.stack()\n",
    "                   .rename_axis(['timestamp', 'property'])\n",
    "                   .to_frame(name='value')\n",
    "                   .assign(source_category='batch_import', source_type='KNMI')\n",
    "                   .set_index(['source_category', 'source_type'], append=True)\n",
    "                   .reorder_levels(['source_category', 'source_type', 'property', 'timestamp']))\n",
    "\n",
    "# Ensuring the value column is of type float32\n",
    "df_meas_weather['value'] = df_meas_weather['value'].astype(np.float32)\n",
    "\n",
    "# Sorting the index for better readability (optional)\n",
    "df_meas_weather = df_meas_weather.sort_index()"
   ]
  },
  {
   "cell_type": "code",
   "execution_count": null,
   "id": "97e4e810-19df-4cbd-9367-1841b54395b0",
   "metadata": {},
   "outputs": [],
   "source": [
    "df_meas_weather.info()"
   ]
  },
  {
   "cell_type": "code",
   "execution_count": null,
   "id": "02919627-20b9-4036-8e70-4ce2d1dc180c",
   "metadata": {},
   "outputs": [],
   "source": [
    "df_meas_weather.unstack(level='property').describe().T"
   ]
  },
  {
   "cell_type": "markdown",
   "id": "c959ae65-467f-4006-927d-c69e3be0d750",
   "metadata": {},
   "source": [
    "## Adding a new index level 'id' with a single value for all rows"
   ]
  },
  {
   "cell_type": "code",
   "execution_count": null,
   "id": "b7e011cc-208b-4b0c-acfb-92bf7fc3feb6",
   "metadata": {},
   "outputs": [],
   "source": [
    "df_meas_weather['id'] = '401632'\n",
    "df_meas_weather = df_meas_weather.set_index('id', append=True)\n",
    "df_meas_weather = df_meas_weather.reorder_levels(['id', 'source_category', 'source_type', 'property', 'timestamp'])\n"
   ]
  },
  {
   "cell_type": "code",
   "execution_count": null,
   "id": "88e0f5ab-a63d-419f-aa01-b6dc5804ae48",
   "metadata": {},
   "outputs": [],
   "source": [
    "df_meas_weather"
   ]
  }
 ],
 "metadata": {
  "kernelspec": {
   "display_name": "Python 3 (ipykernel)",
   "language": "python",
   "name": "python3"
  },
  "language_info": {
   "codemirror_mode": {
    "name": "ipython",
    "version": 3
   },
   "file_extension": ".py",
   "mimetype": "text/x-python",
   "name": "python",
   "nbconvert_exporter": "python",
   "pygments_lexer": "ipython3",
   "version": "3.11.6"
  }
 },
 "nbformat": 4,
 "nbformat_minor": 5
}
