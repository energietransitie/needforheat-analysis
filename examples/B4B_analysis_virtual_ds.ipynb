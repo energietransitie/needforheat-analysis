{
 "cells": [
  {
   "cell_type": "markdown",
   "id": "02aa6298-301d-4d2f-b59e-7bc2432c67d4",
   "metadata": {},
   "source": [
    "# Brains4Buildings interactive inverse grey-box analysis pipeline\n",
    "\n",
    "This Jupyter Labs notebook can be used to interactively test the Brains4Buildings inverse grey-box analysis pipeline.\n",
    "Don't forget to install the requirements listed in [requirements.txt](../requirements.txt) first!\n",
    "\n"
   ]
  },
  {
   "cell_type": "markdown",
   "id": "40e8f82e-93a6-4156-b4cb-4744c4cc8c13",
   "metadata": {},
   "source": [
    "## Setting the stage\n",
    "\n",
    "First several imports and variables need to be defined\n"
   ]
  },
  {
   "cell_type": "markdown",
   "id": "b276aade-cd93-4e8a-957d-fdc2d3a84336",
   "metadata": {},
   "source": [
    "### Imports and generic settings"
   ]
  },
  {
   "cell_type": "code",
   "execution_count": null,
   "id": "08d2d6ec-cf03-47d6-a505-bf37716c4700",
   "metadata": {
    "tags": []
   },
   "outputs": [],
   "source": [
    "import numpy as np\n",
    "import pandas as pd\n",
    "from datetime import datetime, timedelta\n",
    "from tqdm.notebook import tqdm\n",
    "\n",
    "from gekko import GEKKO\n",
    "\n",
    "import sys\n",
    "sys.path.append('../data/')\n",
    "sys.path.append('../view/')\n",
    "sys.path.append('../analysis/')\n",
    "\n",
    "# usually, two decimals suffice for displaying DataFrames (NB internally, precision may be higher)\n",
    "pd.options.display.precision = 2\n",
    "\n",
    "%load_ext autoreload\n",
    "\n",
    "from preprocessor import Preprocessor\n",
    "from inversegreyboxmodel import Learner\n",
    "\n",
    "%matplotlib inline\n",
    "%matplotlib widget\n",
    "\n",
    "from plotter import Plot\n",
    "\n",
    "import logging\n",
    "logging.basicConfig(level=logging.ERROR, \n",
    "                    format='%(asctime)s %(levelname)-8s %(message)s',\n",
    "                    datefmt='%Y-%m-%d %H:%M:%S',\n",
    "                    filename='log_b4b.txt',\n",
    "                   )"
   ]
  },
  {
   "cell_type": "markdown",
   "id": "af032baa-340f-470a-85f2-474d4cdbbf5c",
   "metadata": {},
   "source": [
    "### Load Data from Virtual Rooms"
   ]
  },
  {
   "cell_type": "code",
   "execution_count": null,
   "id": "71eef56f-8f6c-4731-8d2a-96dcb337d4d5",
   "metadata": {
    "tags": []
   },
   "outputs": [],
   "source": [
    "%%time\n",
    "# Prerequisite: for this example to work, you need to have the b4b_raw_properties.parquet, located e.g. in the ../data/B4B_virtual_ds/ folder.\n",
    "# One way to get this is to run B4BExtractionBackup.ipynb first\n",
    "df_prop = pd.read_parquet('../data/B4B_virtual_ds/b4b_virtualrooms_raw_properties.parquet', engine='pyarrow')\n",
    "\n",
    "#sorting the DataFrame index is needed to get good performance on certain filters\n",
    "#this guarding code to check whether DataFramews are properly sorted\n",
    "if not df_prop.index.is_monotonic_increasing:\n",
    "    print('df_prop needed index sorting')\n",
    "    df_prop = df_prop.sort_index()  "
   ]
  },
  {
   "cell_type": "code",
   "execution_count": null,
   "id": "0318ab43-74ef-404f-819c-f998ede24a10",
   "metadata": {
    "tags": []
   },
   "outputs": [],
   "source": [
    "df_prop.index.unique(level='id')"
   ]
  },
  {
   "cell_type": "code",
   "execution_count": null,
   "id": "8e724e0f-3a7b-4c22-a574-f88dd7cfb02e",
   "metadata": {
    "tags": []
   },
   "outputs": [],
   "source": [
    "df_prop"
   ]
  },
  {
   "cell_type": "code",
   "execution_count": null,
   "id": "96cb9abe-5dab-4225-9c8d-9e902d46a5df",
   "metadata": {
    "tags": []
   },
   "outputs": [],
   "source": [
    "df_prop.info()"
   ]
  },
  {
   "cell_type": "markdown",
   "id": "8d39d911-ebc4-4b07-af8e-0f64cb364126",
   "metadata": {},
   "source": [
    "### Convert Virtual Room Property data to preprocessed data"
   ]
  },
  {
   "cell_type": "code",
   "execution_count": null,
   "id": "d7732187-857f-4f0b-8c6a-f3f5de4c4a04",
   "metadata": {
    "tags": []
   },
   "outputs": [],
   "source": [
    "# for virtual room data (with no noise and measurement errors), preprocessing is trivial; just unstack source and prefix source to property name\n",
    "df_prep = Preprocessor.unstack_prop(df_prop)"
   ]
  },
  {
   "cell_type": "code",
   "execution_count": null,
   "id": "3f08dfa3-a26a-4bb7-a2d2-65b8e23db236",
   "metadata": {
    "tags": []
   },
   "outputs": [],
   "source": [
    "df_prep.info()"
   ]
  },
  {
   "cell_type": "code",
   "execution_count": null,
   "id": "3a75f215-8c3d-4cd0-9f8d-13ada692b3e7",
   "metadata": {
    "tags": []
   },
   "outputs": [],
   "source": [
    "df_prep"
   ]
  },
  {
   "cell_type": "code",
   "execution_count": null,
   "id": "fffd737e-2247-42c6-a3fc-40522c5c6efb",
   "metadata": {
    "tags": []
   },
   "outputs": [],
   "source": [
    "%autoreload 2\n",
    "units_to_mathtext = property_types = {\n",
    "    'degC' : r'$°C$',\n",
    "    'ppm' : r'$ppm$',\n",
    "    '0' : r'$[-]$',\n",
    "    'bool': r'$0 = False; 1 = True$',\n",
    "    'p' : r'$persons$'\n",
    "}"
   ]
  },
  {
   "cell_type": "code",
   "execution_count": null,
   "id": "a2d3c9de-5096-4349-a521-5ff0fa16d79a",
   "metadata": {
    "tags": []
   },
   "outputs": [],
   "source": [
    "# visuaize all input data\n",
    "df_plot = df_prep"
   ]
  },
  {
   "cell_type": "code",
   "execution_count": null,
   "id": "715d530c-f68e-46d7-a425-571e9ff3bea6",
   "metadata": {
    "tags": []
   },
   "outputs": [],
   "source": [
    "df_plot.info()"
   ]
  },
  {
   "cell_type": "code",
   "execution_count": null,
   "id": "2b55c333-d1ba-44cb-bb2a-2c73615befcf",
   "metadata": {
    "tags": []
   },
   "outputs": [],
   "source": [
    "#Plot all properties from all sources for all ids\n",
    "Plot.dataframe_preprocessed_plot(df_plot, units_to_mathtext)"
   ]
  },
  {
   "cell_type": "markdown",
   "id": "bffda6fb-9c44-481d-a187-66704d4544ac",
   "metadata": {
    "tags": []
   },
   "source": [
    "## Learn parameters using inverse grey-box analysis\n",
    "\n",
    "Most of the heavy lifting is done by the `learn_room_parameters()` function, which again uses the [GEKKO Python](https://machinelearning.byu.edu/) dynamic optimization toolkit."
   ]
  },
  {
   "cell_type": "code",
   "execution_count": null,
   "id": "71204e0c-995a-4a20-b100-ade7b0508acb",
   "metadata": {
    "tags": []
   },
   "outputs": [],
   "source": [
    "%%time \n",
    "%autoreload 2\n",
    "\n",
    "# set room metadata to None, then learn_room_parameters() will derive the metadata from the ids.\n",
    "df_room_metadata = None\n",
    "\n",
    "hints = {\n",
    "    'infilt__m2' : (10 / 1e4) # 10 [cm^2] \n",
    "}\n",
    "    \n",
    "#select whether to learn a time-varying parameters as well (NB you can set 0 or 1 of these to true, both not both\n",
    "learn = [\n",
    "    'infilt__m2',\n",
    "#    'valve_frac__0',\n",
    "#    'occupancy__p',\n",
    "]\n",
    "\n",
    "#select column names\n",
    "property_sources = {\n",
    "    'co2__ppm' : 'model_co2__ppm',\n",
    "    'occupancy__p': 'model_occupancy__p',\n",
    "    'valve_frac__0': 'model_valve_frac__0'\n",
    "}\n",
    "\n",
    "# learn the model parameters and write results to a dataframe\n",
    "df_results_per_period, df_results = Learner.learn_room_parameters(df_prep,\n",
    "                                                                  property_sources = property_sources, \n",
    "                                                                  df_metadata = df_room_metadata,\n",
    "                                                                  hints = hints,\n",
    "                                                                  learn = learn,\n",
    "                                                                  learn_period__d = 3, \n",
    "                                                                  learn_change_interval__min = 30,\n",
    "                                                                  ev_type=2\n",
    "                                                                 )"
   ]
  },
  {
   "cell_type": "markdown",
   "id": "cc3d32b6-a2d2-4b4a-a229-f2d090f57df1",
   "metadata": {},
   "source": [
    "### Result per learning period"
   ]
  },
  {
   "cell_type": "code",
   "execution_count": null,
   "id": "88306340-8435-4302-acd4-fd3a5a6e0f5f",
   "metadata": {
    "tags": []
   },
   "outputs": [],
   "source": [
    "#write df_results_per_period to zipped CSV file for analysis in other programs\n",
    "if any(df_results.columns.str.startswith('model_')): \n",
    "    roomtype='virtual'\n",
    "else:\n",
    "    roomtype='real'\n",
    "    \n",
    "if (('valve_frac__0' in learn) or ('occupancy__p'in learn)):\n",
    "    if 'valve_frac__0' in learn:\n",
    "        resulttype = 'valve_frac__0'\n",
    "    else:\n",
    "        resulttype = 'learn_occupancy__p'\n",
    "else:\n",
    "    resulttype= 'infilt__m2'\n",
    "\n",
    "df_results_per_period.to_csv(f'results_{resulttype}_per_period_{roomtype}_rooms.zip',\n",
    "                             encoding='utf-8',\n",
    "                             compression= dict(method='zip',\n",
    "                                               archive_name=f'results_{resulttype}_per_period_{roomtype}_rooms.csv'),\n",
    "                             date_format='%Y-%m-%dT%H:%M:%S%z')"
   ]
  },
  {
   "cell_type": "code",
   "execution_count": null,
   "id": "1ad3a66e-fe3c-4fda-a2a2-f490c825bde3",
   "metadata": {
    "tags": []
   },
   "outputs": [],
   "source": [
    "df_results_per_period"
   ]
  },
  {
   "cell_type": "code",
   "execution_count": null,
   "id": "ea79caed-5392-43c4-aa24-78c44e4b7a35",
   "metadata": {
    "tags": []
   },
   "outputs": [],
   "source": [
    "# show essential statistics for the learned values\n",
    "df_stats = df_results_per_period.describe().filter(regex='^actual_|^learned_')\n",
    "df_stats.loc[df_stats.index.get_level_values(0).isin(['mean', 'std', 'min', 'max'])]"
   ]
  },
  {
   "cell_type": "code",
   "execution_count": null,
   "id": "5c867907-ae37-4c1a-9d3b-a05e45da296d",
   "metadata": {
    "tags": []
   },
   "outputs": [],
   "source": [
    "# show essential statistics for the errors\n",
    "df_stats = df_results_per_period.describe().filter(regex='^mae_|^rmse')\n",
    "df_stats.loc[df_stats.index.get_level_values(0).isin(['mean', 'std', 'min', 'max'])]"
   ]
  },
  {
   "cell_type": "code",
   "execution_count": null,
   "id": "c323a9b1-d6e6-4ce5-93e3-00268ca85922",
   "metadata": {
    "tags": []
   },
   "outputs": [],
   "source": [
    "# show essential statistics for the error values, per id\n",
    "df_stats = df_results_per_period.groupby('id').describe().stack().filter(regex='^mae_|^rmse')\n",
    "df_stats.loc[df_stats.index.get_level_values(1).isin(['mean', 'std', 'min', 'max'])]"
   ]
  },
  {
   "cell_type": "markdown",
   "id": "5449c5bd-9446-4814-82bb-da2a228bc27b",
   "metadata": {},
   "source": [
    "### Result Visualization"
   ]
  },
  {
   "cell_type": "code",
   "execution_count": null,
   "id": "03be9c52-56a0-4eb6-a8a2-52ce23878305",
   "metadata": {
    "tags": []
   },
   "outputs": [],
   "source": [
    "#Plot all properties from all sources for all ids\n",
    "input_props = list(property_sources.values())\n",
    "learned_props = input_props + ['sim_co2__ppm']\n",
    "learned_props_frac = input_props + ['sim_co2__ppm', 'learned_valve_frac__0']\n",
    "learned_props_occupancy = input_props + ['sim_co2__ppm', 'learned_occupancy__p']"
   ]
  },
  {
   "cell_type": "code",
   "execution_count": null,
   "id": "4989f06d-c76e-43c9-9885-544435e8c308",
   "metadata": {
    "tags": []
   },
   "outputs": [],
   "source": [
    "df_results"
   ]
  },
  {
   "cell_type": "code",
   "execution_count": null,
   "id": "cd4bd19c-d00a-4b14-977e-0bf5c86e777d",
   "metadata": {
    "tags": []
   },
   "outputs": [],
   "source": [
    "# select properties to visualise\n",
    "if (('valve_frac__0' in learn) or ('occupancy__p'in learn)):\n",
    "    if 'valve_frac__0' in learn:\n",
    "        props = learned_props_frac\n",
    "    else:\n",
    "        props = learned_props_occupancy\n",
    "else:\n",
    "    props = learned_props\n",
    "        \n",
    "df_plot = df_prep[props]"
   ]
  },
  {
   "cell_type": "code",
   "execution_count": null,
   "id": "392160de-9730-4481-b33f-d23695188c73",
   "metadata": {
    "tags": []
   },
   "outputs": [],
   "source": [
    "props"
   ]
  },
  {
   "cell_type": "code",
   "execution_count": null,
   "id": "e4710655-c6e9-406f-9a4f-6e85f16c591c",
   "metadata": {
    "tags": []
   },
   "outputs": [],
   "source": [
    "df_plot"
   ]
  },
  {
   "cell_type": "code",
   "execution_count": null,
   "id": "3e186b4b-e2de-45f6-ba53-39105a013a9a",
   "metadata": {
    "tags": []
   },
   "outputs": [],
   "source": [
    "#Plot all properties from all sources for all ids\n",
    "Plot.dataframe_preprocessed_plot(df_plot, units_to_mathtext)"
   ]
  },
  {
   "cell_type": "code",
   "execution_count": null,
   "id": "bbd49d72-58e6-4551-bc35-6f789eff2b3b",
   "metadata": {},
   "outputs": [],
   "source": []
  }
 ],
 "metadata": {
  "kernelspec": {
   "display_name": "Python 3 (ipykernel)",
   "language": "python",
   "name": "python3"
  },
  "language_info": {
   "codemirror_mode": {
    "name": "ipython",
    "version": 3
   },
   "file_extension": ".py",
   "mimetype": "text/x-python",
   "name": "python",
   "nbconvert_exporter": "python",
   "pygments_lexer": "ipython3",
   "version": "3.10.6"
  },
  "vscode": {
   "interpreter": {
    "hash": "2b52c2ff5431c21ddbe91dac57ae43ca32d3900acacc91a5c2a32f1a3c11d7aa"
   }
  }
 },
 "nbformat": 4,
 "nbformat_minor": 5
}
