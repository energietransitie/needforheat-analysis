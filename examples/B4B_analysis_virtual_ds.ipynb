{
 "cells": [
  {
   "cell_type": "markdown",
   "id": "02aa6298-301d-4d2f-b59e-7bc2432c67d4",
   "metadata": {},
   "source": [
    "# Brains4Buildings interactive inverse grey-box analysis pipeline\n",
    "\n",
    "This Jupyter Labs notebook can be used to interactively test the Brains4Buildings inverse grey-box analysis pipeline.\n",
    "Don't forget to install the requirements listed in [requirements.txt](../requirements.txt) first!\n",
    "\n"
   ]
  },
  {
   "cell_type": "markdown",
   "id": "40e8f82e-93a6-4156-b4cb-4744c4cc8c13",
   "metadata": {},
   "source": [
    "## Setting the stage\n",
    "\n",
    "First several imports and variables need to be defined\n"
   ]
  },
  {
   "cell_type": "markdown",
   "id": "b276aade-cd93-4e8a-957d-fdc2d3a84336",
   "metadata": {},
   "source": [
    "### Imports and generic settings"
   ]
  },
  {
   "cell_type": "code",
   "execution_count": null,
   "id": "08d2d6ec-cf03-47d6-a505-bf37716c4700",
   "metadata": {},
   "outputs": [],
   "source": [
    "import numpy as np\n",
    "import pandas as pd\n",
    "from datetime import datetime, timedelta\n",
    "from tqdm.notebook import tqdm\n",
    "\n",
    "from gekko import GEKKO\n",
    "\n",
    "import sys\n",
    "sys.path.append('../data/')\n",
    "sys.path.append('../view/')\n",
    "sys.path.append('../analysis/')\n",
    "\n",
    "# usually, two decimals suffice for displaying DataFrames (NB internally, precision may be higher)\n",
    "pd.options.display.precision = 2\n",
    "\n",
    "%load_ext autoreload\n",
    "\n",
    "from preprocessor import Preprocessor\n",
    "from inversegreyboxmodel import Learner\n",
    "\n",
    "%matplotlib inline\n",
    "%matplotlib widget\n",
    "\n",
    "from plotter import Plot\n",
    "\n",
    "import logging\n",
    "logging.basicConfig(level=logging.ERROR, \n",
    "                    format='%(asctime)s %(levelname)-8s %(message)s',\n",
    "                    datefmt='%Y-%m-%d %H:%M:%S',\n",
    "                    filename='log_b4b.txt',\n",
    "                   )"
   ]
  },
  {
   "cell_type": "markdown",
   "id": "af032baa-340f-470a-85f2-474d4cdbbf5c",
   "metadata": {},
   "source": [
    "### Load Data from Virtual Rooms"
   ]
  },
  {
   "cell_type": "code",
   "execution_count": null,
   "id": "71eef56f-8f6c-4731-8d2a-96dcb337d4d5",
   "metadata": {},
   "outputs": [],
   "source": [
    "%%time\n",
    "# Prerequisite: for this example to work, you need to have the b4b_raw_properties.parquet, located e.g. in the ../data/ folder.\n",
    "# One way to get this is to run B4BExtractionBackup.ipynb first\n",
    "df_prop = pd.read_parquet('../data/b4b_virtualrooms_raw_properties.parquet', engine='pyarrow')\n",
    "\n",
    "#sorting the DataFrame index is needed to get good performance on certain filters\n",
    "#this guarding code to check whether DataFramews are properly sorted\n",
    "if not df_prop.index.is_monotonic_increasing:\n",
    "    print('df_prop needed index sorting')\n",
    "    df_prop = df_prop.sort_index()  "
   ]
  },
  {
   "cell_type": "code",
   "execution_count": null,
   "id": "0318ab43-74ef-404f-819c-f998ede24a10",
   "metadata": {
    "tags": []
   },
   "outputs": [],
   "source": [
    "df_prop.index.unique(level='id')"
   ]
  },
  {
   "cell_type": "code",
   "execution_count": null,
   "id": "8e724e0f-3a7b-4c22-a574-f88dd7cfb02e",
   "metadata": {},
   "outputs": [],
   "source": [
    "df_prop"
   ]
  },
  {
   "cell_type": "markdown",
   "id": "8d39d911-ebc4-4b07-af8e-0f64cb364126",
   "metadata": {},
   "source": [
    "### Convert Virtual Room Property data to preprocessed data"
   ]
  },
  {
   "cell_type": "code",
   "execution_count": null,
   "id": "d7732187-857f-4f0b-8c6a-f3f5de4c4a04",
   "metadata": {},
   "outputs": [],
   "source": [
    "# for virtual room data (with no noise and measurement errors), preprocessing is trivial; just unstack source and prefix source to property name\n",
    "df_prep = Preprocessor.unstack_prop(df_prop)"
   ]
  },
  {
   "cell_type": "code",
   "execution_count": null,
   "id": "3f08dfa3-a26a-4bb7-a2d2-65b8e23db236",
   "metadata": {
    "tags": []
   },
   "outputs": [],
   "source": [
    "df_prep.info()"
   ]
  },
  {
   "cell_type": "code",
   "execution_count": null,
   "id": "3a75f215-8c3d-4cd0-9f8d-13ada692b3e7",
   "metadata": {},
   "outputs": [],
   "source": [
    "df_prep"
   ]
  },
  {
   "cell_type": "code",
   "execution_count": null,
   "id": "fffd737e-2247-42c6-a3fc-40522c5c6efb",
   "metadata": {},
   "outputs": [],
   "source": [
    "%autoreload 2\n",
    "units_to_mathtext = property_types = {\n",
    "    'degC' : r'$°C$',\n",
    "    'ppm' : r'$ppm$',\n",
    "    '0' : r'$[-]$',\n",
    "    'bool': r'$0 = False; 1 = True$',\n",
    "    'p' : r'$persons$'\n",
    "}"
   ]
  },
  {
   "cell_type": "code",
   "execution_count": null,
   "id": "367509dd-d7f8-484a-984f-2ff5d2979ca1",
   "metadata": {
    "tags": []
   },
   "outputs": [],
   "source": [
    "#Plot all properties from all sources for all ids\n",
    "# Plot.dataframe_preprocessed_plot(df_prep, units_to_mathtext)"
   ]
  },
  {
   "cell_type": "markdown",
   "id": "bffda6fb-9c44-481d-a187-66704d4544ac",
   "metadata": {
    "tags": []
   },
   "source": [
    "## Learn parameters using inverse grey-box analysis\n",
    "\n",
    "Most of the heavy lifting is done by the `learn_room_parameters()` function, which again uses the [GEKKO Python](https://machinelearning.byu.edu/) dynamic optimization toolkit."
   ]
  },
  {
   "cell_type": "code",
   "execution_count": null,
   "id": "71204e0c-995a-4a20-b100-ade7b0508acb",
   "metadata": {
    "tags": []
   },
   "outputs": [],
   "source": [
    "%%time \n",
    "%autoreload 2\n",
    "\n",
    "# learn the model parameters and write results to a dataframe\n",
    "\n",
    "df_results, df_prep = Learner.learn_room_parameters(df_prep, \n",
    "                                                    col_co2__ppm = 'model_co2__ppm', \n",
    "                                                    col_occupancy__p = 'model_occupancy__p', \n",
    "                                                    col_valve_frac__0 = 'model_valve_frac__0',\n",
    "                                                    learn_period__d = 7, \n",
    "                                                    req_col = ['model_co2__ppm','model_occupancy__p', 'model_valve_frac__0'],\n",
    "                                                    sanity_threshold_timedelta = timedelta(hours=24),\n",
    "                                                    learn_infilt__m2 = True,\n",
    "                                                    learn_valve_frac__0 = False,\n",
    "                                                    learn_occupancy__p = False,\n",
    "                                                    ev_type=2)"
   ]
  },
  {
   "cell_type": "markdown",
   "id": "5449c5bd-9446-4814-82bb-da2a228bc27b",
   "metadata": {},
   "source": [
    "### Result Visualization"
   ]
  },
  {
   "cell_type": "code",
   "execution_count": null,
   "id": "88306340-8435-4302-acd4-fd3a5a6e0f5f",
   "metadata": {},
   "outputs": [],
   "source": [
    "df_results"
   ]
  },
  {
   "cell_type": "code",
   "execution_count": null,
   "id": "4989f06d-c76e-43c9-9885-544435e8c308",
   "metadata": {},
   "outputs": [],
   "source": [
    "df_prep"
   ]
  },
  {
   "cell_type": "code",
   "execution_count": null,
   "id": "aa218f9d-4ae8-43ab-b88d-6d15a89e614c",
   "metadata": {},
   "outputs": [],
   "source": [
    "%autoreload 2\n",
    "units_to_mathtext = property_types = {\n",
    "    'degC' : r'$°C$',\n",
    "    'ppm' : r'$ppm$',\n",
    "    '0' : r'$[-]$',\n",
    "    'bool': r'$0 = False; 1 = True$',\n",
    "    'p' : r'$persons$'\n",
    "}"
   ]
  },
  {
   "cell_type": "code",
   "execution_count": null,
   "id": "3e186b4b-e2de-45f6-ba53-39105a013a9a",
   "metadata": {
    "tags": []
   },
   "outputs": [],
   "source": [
    "#Plot all properties from all sources for all ids\n",
    "Plot.dataframe_preprocessed_plot(df_prep, units_to_mathtext)"
   ]
  }
 ],
 "metadata": {
  "kernelspec": {
   "display_name": "Python 3 (ipykernel)",
   "language": "python",
   "name": "python3"
  },
  "language_info": {
   "codemirror_mode": {
    "name": "ipython",
    "version": 3
   },
   "file_extension": ".py",
   "mimetype": "text/x-python",
   "name": "python",
   "nbconvert_exporter": "python",
   "pygments_lexer": "ipython3",
   "version": "3.10.6"
  }
 },
 "nbformat": 4,
 "nbformat_minor": 5
}
