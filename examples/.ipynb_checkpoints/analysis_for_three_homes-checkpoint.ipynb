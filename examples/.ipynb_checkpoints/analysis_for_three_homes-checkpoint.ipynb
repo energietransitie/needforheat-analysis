{
 "cells": [
  {
   "cell_type": "code",
   "execution_count": 1,
   "metadata": {},
   "outputs": [],
   "source": [
    "from datetime import datetime, timedelta\n",
    "import pytz\n",
    "import math\n",
    "import pylab as plt\n",
    "\n",
    "import pandas as pd\n",
    "import numpy as np\n",
    "\n",
    "import sys\n",
    "sys.path.append('../data/')\n",
    "sys.path.append('../view/')\n",
    "sys.path.append('../analysis/')\n",
    "\n",
    "%load_ext autoreload\n",
    "\n",
    "from extractor import WeatherExtractor, Extractor, Period\n",
    "sampling_interval = '15min'\n",
    "import tqdm\n",
    "\n",
    "%matplotlib widget\n",
    "from plotter import Plot\n",
    "\n",
    "from inversegreyboxmodel import Learner\n",
    "\n",
    "import openpyxl\n",
    "\n",
    "\n",
    "# TODO: get list of pseudonyms, (valid) dates and reference parameters from Excel file  \n",
    "# homes =  [817341, 886307, 873985]\n",
    "\n",
    "homes = [815925, 817341, 857477, 873985, 879481, \n",
    "         895671, 864296, 845997, 881611, 822479, \n",
    "         831062, 830088, 811308, 809743, 829947, \n",
    "         803422, 886307, 846697, 845966, 839440, \n",
    "         805164, 899510, 897349]\n",
    "\n",
    "\n",
    "#location: center of Assendorp neighbourhood in Zwolle\n",
    "lat, lon = 52.5065500000, 6.0996100000\n",
    "\n",
    "#timezone: \n",
    "timezone_homes = 'Europe/Amsterdam'\n",
    "\n",
    "# first test just a short timeseries\n",
    "start = pytz.timezone(timezone_homes).localize(datetime(2021, 12, 20))\n",
    "end = pytz.timezone(timezone_homes).localize(datetime(2022, 3, 15))\n",
    "\n",
    "# date and times of seemingly valid periods for short set of 3 \n",
    "# 886307\t2021-12-19 18:55\t2022-03-17 09:37\n",
    "# 873985\t2021-12-20 12:54\t2022-03-17 17:54\n",
    "# 817341\t2022-01-14 20:27\t2022-03-17 18:15\n",
    "\n",
    "    \n",
    "# utimately: #min, max dates of the analysis\n",
    "# start = pytz.timezone(timezone_homes).localize(datetime(2021, 10, 21))\n",
    "# end = pytz.timezone(timezone_homes).localize(datetime(2022, 5, 12)\n",
    "# homes = [815925, 817341, 857477, 873985, 879481, \n",
    "#          895671, 864296, 845997, 881611, 822479, \n",
    "#          831062, 830088, 811308, 809743, 829947, \n",
    "#          803422, 886307, 846697, 845966, 839440, \n",
    "#          805164, 899510, 897349]"
   ]
  },
  {
   "cell_type": "code",
   "execution_count": 2,
   "metadata": {},
   "outputs": [
    {
     "data": {
      "text/plain": [
       "datetime.datetime(2021, 12, 20, 0, 0, tzinfo=<DstTzInfo 'Europe/Amsterdam' CET+1:00:00 STD>)"
      ]
     },
     "execution_count": 2,
     "metadata": {},
     "output_type": "execute_result"
    }
   ],
   "source": [
    "#check whether the datetime object is properly timezone-aware\n",
    "start"
   ]
  },
  {
   "cell_type": "code",
   "execution_count": 3,
   "metadata": {},
   "outputs": [
    {
     "data": {
      "text/plain": [
       "datetime.datetime(2022, 3, 15, 0, 0, tzinfo=<DstTzInfo 'Europe/Amsterdam' CET+1:00:00 STD>)"
      ]
     },
     "execution_count": 3,
     "metadata": {},
     "output_type": "execute_result"
    }
   ],
   "source": [
    "#check whether the datetime object is properly timezone-aware\n",
    "end"
   ]
  },
  {
   "cell_type": "code",
   "execution_count": 4,
   "metadata": {},
   "outputs": [
    {
     "name": "stdout",
     "output_type": "stream",
     "text": [
      "Resampling weather data...\n",
      "CPU times: user 50.1 ms, sys: 10 ms, total: 60.1 ms\n",
      "Wall time: 126 ms\n"
     ]
    }
   ],
   "source": [
    "%%time \n",
    "%autoreload 2\n",
    "\n",
    "# get geospatially interpolated weather from KNMI\n",
    "# for Twomes, the Weather for all all homes studies can be approached by a single location\n",
    "# get the dataframe only once for all homes to save time\n",
    "\n",
    "df_weather = WeatherExtractor.get_interpolated_weather_nl(start, end, lat, lon, timezone_homes, sampling_interval)"
   ]
  },
  {
   "cell_type": "code",
   "execution_count": 5,
   "metadata": {},
   "outputs": [
    {
     "data": {
      "text/html": [
       "<div>\n",
       "<style scoped>\n",
       "    .dataframe tbody tr th:only-of-type {\n",
       "        vertical-align: middle;\n",
       "    }\n",
       "\n",
       "    .dataframe tbody tr th {\n",
       "        vertical-align: top;\n",
       "    }\n",
       "\n",
       "    .dataframe thead th {\n",
       "        text-align: right;\n",
       "    }\n",
       "</style>\n",
       "<table border=\"1\" class=\"dataframe\">\n",
       "  <thead>\n",
       "    <tr style=\"text-align: right;\">\n",
       "      <th></th>\n",
       "      <th>outdoor_temp_degC</th>\n",
       "      <th>windspeed_m_per_s</th>\n",
       "      <th>hor_irradiation_J_per_h_per_cm^2</th>\n",
       "      <th>hor_irradiation_W_per_m^2</th>\n",
       "      <th>effective_outdoor_temp_degC</th>\n",
       "    </tr>\n",
       "  </thead>\n",
       "  <tbody>\n",
       "    <tr>\n",
       "      <th>2021-12-20 00:00:00+01:00</th>\n",
       "      <td>6.021051</td>\n",
       "      <td>1.604638</td>\n",
       "      <td>-1.976263e-323</td>\n",
       "      <td>-5.434722e-323</td>\n",
       "      <td>4.951292</td>\n",
       "    </tr>\n",
       "    <tr>\n",
       "      <th>2021-12-20 00:15:00+01:00</th>\n",
       "      <td>5.981809</td>\n",
       "      <td>1.604638</td>\n",
       "      <td>-1.976263e-323</td>\n",
       "      <td>-5.434722e-323</td>\n",
       "      <td>4.912050</td>\n",
       "    </tr>\n",
       "    <tr>\n",
       "      <th>2021-12-20 00:30:00+01:00</th>\n",
       "      <td>5.942567</td>\n",
       "      <td>1.604638</td>\n",
       "      <td>-1.976263e-323</td>\n",
       "      <td>-5.434722e-323</td>\n",
       "      <td>4.872808</td>\n",
       "    </tr>\n",
       "    <tr>\n",
       "      <th>2021-12-20 00:45:00+01:00</th>\n",
       "      <td>5.903324</td>\n",
       "      <td>1.604638</td>\n",
       "      <td>-1.976263e-323</td>\n",
       "      <td>-5.434722e-323</td>\n",
       "      <td>4.833566</td>\n",
       "    </tr>\n",
       "    <tr>\n",
       "      <th>2021-12-20 01:00:00+01:00</th>\n",
       "      <td>5.868830</td>\n",
       "      <td>1.583000</td>\n",
       "      <td>-1.976263e-323</td>\n",
       "      <td>-5.434722e-323</td>\n",
       "      <td>4.813496</td>\n",
       "    </tr>\n",
       "    <tr>\n",
       "      <th>...</th>\n",
       "      <td>...</td>\n",
       "      <td>...</td>\n",
       "      <td>...</td>\n",
       "      <td>...</td>\n",
       "      <td>...</td>\n",
       "    </tr>\n",
       "    <tr>\n",
       "      <th>2022-03-14 23:00:00+01:00</th>\n",
       "      <td>2.417305</td>\n",
       "      <td>0.952526</td>\n",
       "      <td>-1.976263e-323</td>\n",
       "      <td>-5.434722e-323</td>\n",
       "      <td>1.782288</td>\n",
       "    </tr>\n",
       "    <tr>\n",
       "      <th>2022-03-14 23:15:00+01:00</th>\n",
       "      <td>2.479223</td>\n",
       "      <td>0.810104</td>\n",
       "      <td>-1.976263e-323</td>\n",
       "      <td>-5.434722e-323</td>\n",
       "      <td>1.939153</td>\n",
       "    </tr>\n",
       "    <tr>\n",
       "      <th>2022-03-14 23:30:00+01:00</th>\n",
       "      <td>2.541140</td>\n",
       "      <td>0.667682</td>\n",
       "      <td>-1.976263e-323</td>\n",
       "      <td>-5.434722e-323</td>\n",
       "      <td>2.096019</td>\n",
       "    </tr>\n",
       "    <tr>\n",
       "      <th>2022-03-14 23:45:00+01:00</th>\n",
       "      <td>2.603058</td>\n",
       "      <td>0.525261</td>\n",
       "      <td>-1.976263e-323</td>\n",
       "      <td>-5.434722e-323</td>\n",
       "      <td>2.252884</td>\n",
       "    </tr>\n",
       "    <tr>\n",
       "      <th>2022-03-15 00:00:00+01:00</th>\n",
       "      <td>2.644336</td>\n",
       "      <td>0.430313</td>\n",
       "      <td>-1.976263e-323</td>\n",
       "      <td>-5.434722e-323</td>\n",
       "      <td>2.357461</td>\n",
       "    </tr>\n",
       "  </tbody>\n",
       "</table>\n",
       "<p>8161 rows × 5 columns</p>\n",
       "</div>"
      ],
      "text/plain": [
       "                           outdoor_temp_degC  windspeed_m_per_s  \\\n",
       "2021-12-20 00:00:00+01:00           6.021051           1.604638   \n",
       "2021-12-20 00:15:00+01:00           5.981809           1.604638   \n",
       "2021-12-20 00:30:00+01:00           5.942567           1.604638   \n",
       "2021-12-20 00:45:00+01:00           5.903324           1.604638   \n",
       "2021-12-20 01:00:00+01:00           5.868830           1.583000   \n",
       "...                                      ...                ...   \n",
       "2022-03-14 23:00:00+01:00           2.417305           0.952526   \n",
       "2022-03-14 23:15:00+01:00           2.479223           0.810104   \n",
       "2022-03-14 23:30:00+01:00           2.541140           0.667682   \n",
       "2022-03-14 23:45:00+01:00           2.603058           0.525261   \n",
       "2022-03-15 00:00:00+01:00           2.644336           0.430313   \n",
       "\n",
       "                           hor_irradiation_J_per_h_per_cm^2  \\\n",
       "2021-12-20 00:00:00+01:00                    -1.976263e-323   \n",
       "2021-12-20 00:15:00+01:00                    -1.976263e-323   \n",
       "2021-12-20 00:30:00+01:00                    -1.976263e-323   \n",
       "2021-12-20 00:45:00+01:00                    -1.976263e-323   \n",
       "2021-12-20 01:00:00+01:00                    -1.976263e-323   \n",
       "...                                                     ...   \n",
       "2022-03-14 23:00:00+01:00                    -1.976263e-323   \n",
       "2022-03-14 23:15:00+01:00                    -1.976263e-323   \n",
       "2022-03-14 23:30:00+01:00                    -1.976263e-323   \n",
       "2022-03-14 23:45:00+01:00                    -1.976263e-323   \n",
       "2022-03-15 00:00:00+01:00                    -1.976263e-323   \n",
       "\n",
       "                           hor_irradiation_W_per_m^2  \\\n",
       "2021-12-20 00:00:00+01:00             -5.434722e-323   \n",
       "2021-12-20 00:15:00+01:00             -5.434722e-323   \n",
       "2021-12-20 00:30:00+01:00             -5.434722e-323   \n",
       "2021-12-20 00:45:00+01:00             -5.434722e-323   \n",
       "2021-12-20 01:00:00+01:00             -5.434722e-323   \n",
       "...                                              ...   \n",
       "2022-03-14 23:00:00+01:00             -5.434722e-323   \n",
       "2022-03-14 23:15:00+01:00             -5.434722e-323   \n",
       "2022-03-14 23:30:00+01:00             -5.434722e-323   \n",
       "2022-03-14 23:45:00+01:00             -5.434722e-323   \n",
       "2022-03-15 00:00:00+01:00             -5.434722e-323   \n",
       "\n",
       "                           effective_outdoor_temp_degC  \n",
       "2021-12-20 00:00:00+01:00                     4.951292  \n",
       "2021-12-20 00:15:00+01:00                     4.912050  \n",
       "2021-12-20 00:30:00+01:00                     4.872808  \n",
       "2021-12-20 00:45:00+01:00                     4.833566  \n",
       "2021-12-20 01:00:00+01:00                     4.813496  \n",
       "...                                                ...  \n",
       "2022-03-14 23:00:00+01:00                     1.782288  \n",
       "2022-03-14 23:15:00+01:00                     1.939153  \n",
       "2022-03-14 23:30:00+01:00                     2.096019  \n",
       "2022-03-14 23:45:00+01:00                     2.252884  \n",
       "2022-03-15 00:00:00+01:00                     2.357461  \n",
       "\n",
       "[8161 rows x 5 columns]"
      ]
     },
     "execution_count": 5,
     "metadata": {},
     "output_type": "execute_result"
    }
   ],
   "source": [
    "df_weather"
   ]
  },
  {
   "cell_type": "code",
   "execution_count": null,
   "metadata": {},
   "outputs": [],
   "source": [
    "# plot temperature data\n",
    "\n",
    "Plot.weather_and_other_temperatures('Weather in Assendorp, Zwolle', df_weather)\n",
    "\n",
    "# N.B. The resulting figure below can be manipulated interactively; hover with mouse for tips & tricks"
   ]
  },
  {
   "cell_type": "code",
   "execution_count": 6,
   "metadata": {},
   "outputs": [
    {
     "ename": "AttributeError",
     "evalue": "type object 'Extractor' has no attribute 'get_interpolated_twomes_data'",
     "output_type": "error",
     "traceback": [
      "\u001b[0;31m---------------------------------------------------------------------------\u001b[0m",
      "\u001b[0;31mAttributeError\u001b[0m                            Traceback (most recent call last)",
      "Input \u001b[0;32mIn [6]\u001b[0m, in \u001b[0;36m<cell line: 2>\u001b[0;34m()\u001b[0m\n\u001b[1;32m      1\u001b[0m \u001b[38;5;66;03m# get interpolated data from the Twomes database and combine with weather data already obtained\u001b[39;00m\n\u001b[0;32m----> 2\u001b[0m df_data_homes \u001b[38;5;241m=\u001b[39m \u001b[43mExtractor\u001b[49m\u001b[38;5;241;43m.\u001b[39;49m\u001b[43mget_interpolated_twomes_data\u001b[49m(homes, start, end, timezone_homes, sampling_interval, df_weather)\n",
      "\u001b[0;31mAttributeError\u001b[0m: type object 'Extractor' has no attribute 'get_interpolated_twomes_data'"
     ]
    }
   ],
   "source": [
    "# get interpolated data from the Twomes database and combine with weather data already obtained\n",
    "df_data_homes = Extractor.get_interpolated_twomes_data(homes, start, end, timezone_homes, sampling_interval, df_weather)"
   ]
  },
  {
   "cell_type": "code",
   "execution_count": null,
   "metadata": {},
   "outputs": [],
   "source": [
    "for col in df_data_homes.select_dtypes(['datetimetz']).columns:\n",
    "    df_data_homes[col] = df_data_homes[col].dt.tz_localize(None)\n",
    "df_data_homes.tz_localize(None, level=0).to_excel('df_data_homes_01.xlsx')"
   ]
  },
  {
   "cell_type": "code",
   "execution_count": null,
   "metadata": {},
   "outputs": [],
   "source": [
    "# see what the extracted and interpolated data looks like\n",
    "df_data_homes"
   ]
  },
  {
   "cell_type": "code",
   "execution_count": null,
   "metadata": {},
   "outputs": [],
   "source": [
    "# how to select data from a single home\n",
    "df_data_homes[df_data_homes['homepseudonym'] == 803422]"
   ]
  },
  {
   "cell_type": "code",
   "execution_count": null,
   "metadata": {},
   "outputs": [],
   "source": [
    "# plot temperature data of multiple homes from an array \n",
    "\n",
    "for home_id in homes:\n",
    "    df_data_one_home = df_data_homes[df_data_homes['homepseudonym'] == home_id]\n",
    "    Plot.weather_and_other_temperatures(home_id, df_data_one_home, ['indoor_temp_degC'])\n",
    "\n",
    "# N.B. The resulting figure below can be manipulated interactively; hover with mouse for tips & tricks\n"
   ]
  },
  {
   "cell_type": "code",
   "execution_count": null,
   "metadata": {},
   "outputs": [],
   "source": [
    "#plot a series of weeks for all homes\n",
    "plt.ioff()\n",
    "\n",
    "for home_id in homes:\n",
    "    df_data_one_home = df_data_homes[df_data_homes['homepseudonym'] == home_id]\n",
    "    for moving_horizon_start in pd.date_range(start=start, end=end, inclusive='left', freq='7D'):\n",
    "        moving_horizon_end = min(end, moving_horizon_start + timedelta(days=7))\n",
    "        df_moving_horizon = df_data_one_home[moving_horizon_start:moving_horizon_end]\n",
    "        Plot.weather_and_other_temperatures(home_id, df_moving_horizon, ['indoor_temp_degC'])\n",
    "\n",
    "plt.ion()  \n",
    "    "
   ]
  },
  {
   "cell_type": "code",
   "execution_count": null,
   "metadata": {
    "tags": []
   },
   "outputs": [],
   "source": [
    "%%time \n",
    "%autoreload 2\n",
    "\n",
    "# uncomment lines below if you need something other than the defaults\n",
    "homes_to_analyze = [809743]\n",
    "start_analysis_period = pytz.timezone(timezone_homes).localize(datetime(2021, 12, 31))\n",
    "end_analysis_period = pytz.timezone(timezone_homes).localize(datetime(2022, 3, 15))\n",
    "moving_horizon_duration_d = 7\n",
    "df_results = Learner.learn_home_parameter_moving_horizon(df_data_homes, moving_horizon_duration_d, homes_to_analyze, start_analysis_period, end_analysis_period, showdetails=True)\n",
    "\n",
    "# or: uncomment lines below if you want to analyse all homes for all periods with a default moving horizon duration of 7 days\n",
    "# df_results = Learner.learn_home_parameter_moving_horizon(df_data_homes)\n",
    "\n",
    "df = df_results\n",
    "for col in df.select_dtypes(['datetimetz']).columns:\n",
    "    df[col] = df[col].dt.tz_localize(None)\n",
    "df.to_excel('result.xlsx')"
   ]
  },
  {
   "cell_type": "code",
   "execution_count": null,
   "metadata": {},
   "outputs": [],
   "source": [
    "#show the results\n",
    "df_results"
   ]
  },
  {
   "cell_type": "code",
   "execution_count": null,
   "metadata": {},
   "outputs": [],
   "source": []
  }
 ],
 "metadata": {
  "kernelspec": {
   "display_name": "Python 3 (ipykernel)",
   "language": "python",
   "name": "python3"
  },
  "language_info": {
   "codemirror_mode": {
    "name": "ipython",
    "version": 3
   },
   "file_extension": ".py",
   "mimetype": "text/x-python",
   "name": "python",
   "nbconvert_exporter": "python",
   "pygments_lexer": "ipython3",
   "version": "3.9.12"
  }
 },
 "nbformat": 4,
 "nbformat_minor": 4
}
